{
 "cells": [
  {
   "cell_type": "markdown",
   "metadata": {},
   "source": [
    "# Using `sci-kit learn`, i.e. `sklearn` for Machine Learning (ML); in combination with `numpy`,`scipy`, and `pandas`"
   ]
  },
  {
   "cell_type": "code",
   "execution_count": 3,
   "metadata": {
    "collapsed": true
   },
   "outputs": [],
   "source": [
    "%matplotlib inline"
   ]
  },
  {
   "cell_type": "code",
   "execution_count": 4,
   "metadata": {
    "collapsed": true
   },
   "outputs": [],
   "source": [
    "import matplotlib.pyplot as plt\n",
    "import sklearn\n",
    "from sklearn import datasets"
   ]
  },
  {
   "cell_type": "code",
   "execution_count": 5,
   "metadata": {
    "collapsed": false
   },
   "outputs": [],
   "source": [
    "import os, sys\n",
    "os.getcwd()\n",
    "os.listdir( os.getcwd() ) ;"
   ]
  },
  {
   "cell_type": "code",
   "execution_count": 6,
   "metadata": {
    "collapsed": true
   },
   "outputs": [],
   "source": [
    "import numpy as np\n",
    "import scipy"
   ]
  },
  {
   "cell_type": "code",
   "execution_count": 7,
   "metadata": {
    "collapsed": true
   },
   "outputs": [],
   "source": [
    "import pandas as pd"
   ]
  },
  {
   "cell_type": "markdown",
   "metadata": {},
   "source": [
    "cf. [Linear Regression with One Variable, Coursera](https://www.coursera.org/learn/machine-learning/exam/QeJ50/linear-regression-with-one-variable)"
   ]
  },
  {
   "cell_type": "code",
   "execution_count": 7,
   "metadata": {
    "collapsed": false
   },
   "outputs": [
    {
     "data": {
      "text/plain": [
       "(10,)"
      ]
     },
     "execution_count": 7,
     "metadata": {},
     "output_type": "execute_result"
    }
   ],
   "source": [
    "np.random.random(10).shape  # testing, playing, "
   ]
  },
  {
   "cell_type": "code",
   "execution_count": 10,
   "metadata": {
    "collapsed": false
   },
   "outputs": [
    {
     "data": {
      "text/plain": [
       "(4,)"
      ]
     },
     "execution_count": 10,
     "metadata": {},
     "output_type": "execute_result"
    }
   ],
   "source": [
    "x = np.array([5,3,0,4])\n",
    "y = np.array([4,4,1,3])\n",
    "x.shape"
   ]
  },
  {
   "cell_type": "code",
   "execution_count": 18,
   "metadata": {
    "collapsed": false
   },
   "outputs": [
    {
     "name": "stdout",
     "output_type": "stream",
     "text": [
      "(0.5714285714285714, 1.2857142857142858, 0.87287156094396956, 0.12712843905603044, 0.22587697572631277)\n"
     ]
    }
   ],
   "source": [
    "slope, intercept, r_value, p_value, std_err = scipy.stats.linregress(x,y)\n",
    "print( slope, intercept, r_value,p_value,std_err)"
   ]
  },
  {
   "cell_type": "code",
   "execution_count": 16,
   "metadata": {
    "collapsed": false
   },
   "outputs": [
    {
     "data": {
      "text/plain": [
       "0.5"
      ]
     },
     "execution_count": 16,
     "metadata": {},
     "output_type": "execute_result"
    }
   ],
   "source": [
    "( (x-y)*(x-y) ).mean()/2."
   ]
  },
  {
   "cell_type": "code",
   "execution_count": 17,
   "metadata": {
    "collapsed": false
   },
   "outputs": [
    {
     "data": {
      "text/plain": [
       "1.0"
      ]
     },
     "execution_count": 17,
     "metadata": {},
     "output_type": "execute_result"
    }
   ],
   "source": [
    "-1.+0.5*4"
   ]
  },
  {
   "cell_type": "markdown",
   "metadata": {},
   "source": [
    "cf. [Week 1, Linear Algebra Review, Coursera, Machine Learning with Ng](https://www.coursera.org/learn/machine-learning/lecture/38jIT/matrices-and-vectors)\n",
    "\n",
    "I'll take this opportunity to provide a dictionary between the syntax of linear algebra math and `numpy`"
   ]
  },
  {
   "cell_type": "code",
   "execution_count": null,
   "metadata": {
    "collapsed": true
   },
   "outputs": [],
   "source": []
  },
  {
   "cell_type": "code",
   "execution_count": null,
   "metadata": {
    "collapsed": true
   },
   "outputs": [],
   "source": []
  },
  {
   "cell_type": "markdown",
   "metadata": {},
   "source": [
    "## Linear Regression"
   ]
  },
  {
   "cell_type": "markdown",
   "metadata": {},
   "source": [
    "cf. Week 2 [Programming Assignment:Linear Regression](https://www.coursera.org/learn/machine-learning/programming/8f3qT/linear-regression), 1st programming assignment, [`machine-learning-ex1.zip`](https://s3.amazonaws.com/spark-public/ml/exercises/on-demand/machine-learning-ex1.zip) "
   ]
  },
  {
   "cell_type": "markdown",
   "metadata": {},
   "source": [
    "cf. `machine-learning-ex1/ex1/warmUpExercise.m` of Week 2 Programming Assignment: Linear Regression of Coursera Machine Learning by Ng, i.e.  \n",
    "\n",
    "#### 1 Simple Octave/MATLAB function\n"
   ]
  },
  {
   "cell_type": "code",
   "execution_count": 19,
   "metadata": {
    "collapsed": false
   },
   "outputs": [
    {
     "data": {
      "text/plain": [
       "array([[ 1.,  0.,  0.,  0.,  0.],\n",
       "       [ 0.,  1.,  0.,  0.,  0.],\n",
       "       [ 0.,  0.,  1.,  0.,  0.],\n",
       "       [ 0.,  0.,  0.,  1.,  0.],\n",
       "       [ 0.,  0.,  0.,  0.,  1.]])"
      ]
     },
     "execution_count": 19,
     "metadata": {},
     "output_type": "execute_result"
    }
   ],
   "source": [
    "np.identity(5) # eye(5) in Matlab/Octave"
   ]
  },
  {
   "cell_type": "markdown",
   "metadata": {},
   "source": [
    "### 2 Linear regression with one variable  \n",
    "\n",
    "cf. `machine-learning-ex1/ex1/ex1data1.txt` and `machine-learning-ex1/ex1.pdf`"
   ]
  },
  {
   "cell_type": "code",
   "execution_count": 6,
   "metadata": {
    "collapsed": false
   },
   "outputs": [
    {
     "data": {
      "text/plain": [
       "['ex1.pdf', 'ex1', 'matlab-python-xref.pdf', 'surface3d_demo.py']"
      ]
     },
     "execution_count": 6,
     "metadata": {},
     "output_type": "execute_result"
    }
   ],
   "source": [
    "os.listdir( './coursera_Ng/machine-learning-ex1/' )"
   ]
  },
  {
   "cell_type": "code",
   "execution_count": 7,
   "metadata": {
    "collapsed": false
   },
   "outputs": [
    {
     "data": {
      "text/plain": [
       "['submit.m',\n",
       " 'normalEqn.m',\n",
       " 'token.mat',\n",
       " 'gradientDescentMulti.m',\n",
       " 'plotData.m',\n",
       " 'featureNormalize.m',\n",
       " 'computeCost.m',\n",
       " 'gradientDescent.m',\n",
       " 'ex1_multi.m',\n",
       " 'warmUpExercise.m',\n",
       " 'ex1data1.txt',\n",
       " 'lib',\n",
       " 'computeCostMulti.m',\n",
       " 'ex1data2.txt',\n",
       " 'ex1.m']"
      ]
     },
     "execution_count": 7,
     "metadata": {},
     "output_type": "execute_result"
    }
   ],
   "source": [
    "os.listdir( './coursera_Ng/machine-learning-ex1/ex1' )"
   ]
  },
  {
   "cell_type": "markdown",
   "metadata": {},
   "source": [
    "[`pandas.read_csv`](http://pandas.pydata.org/pandas-docs/stable/generated/pandas.read_csv.html), Parameters: header: defaults to 0, if no names are passed, but we need to set it to `None` so not to include the first row"
   ]
  },
  {
   "cell_type": "code",
   "execution_count": 8,
   "metadata": {
    "collapsed": false
   },
   "outputs": [
    {
     "name": "stdout",
     "output_type": "stream",
     "text": [
      "Plotting Data ... \n",
      "\n"
     ]
    }
   ],
   "source": [
    "## ================================== Part 2: Plotting =====================================\n",
    "print(\"Plotting Data ... \\n\")\n",
    "linregdata = pd.read_csv('./coursera_Ng/machine-learning-ex1/ex1/ex1data1.txt', header=None)"
   ]
  },
  {
   "cell_type": "code",
   "execution_count": 9,
   "metadata": {
    "collapsed": false
   },
   "outputs": [
    {
     "name": "stdout",
     "output_type": "stream",
     "text": [
      "               0          1\n",
      "count  97.000000  97.000000\n",
      "mean    8.159800   5.839135\n",
      "std     3.869884   5.510262\n",
      "min     5.026900  -2.680700\n",
      "25%     5.707700   1.986900\n",
      "50%     6.589400   4.562300\n",
      "75%     8.578100   7.046700\n",
      "max    22.203000  24.147000\n"
     ]
    },
    {
     "data": {
      "text/html": [
       "<div>\n",
       "<table border=\"1\" class=\"dataframe\">\n",
       "  <thead>\n",
       "    <tr style=\"text-align: right;\">\n",
       "      <th></th>\n",
       "      <th>0</th>\n",
       "      <th>1</th>\n",
       "    </tr>\n",
       "  </thead>\n",
       "  <tbody>\n",
       "    <tr>\n",
       "      <th>0</th>\n",
       "      <td>6.1101</td>\n",
       "      <td>17.5920</td>\n",
       "    </tr>\n",
       "    <tr>\n",
       "      <th>1</th>\n",
       "      <td>5.5277</td>\n",
       "      <td>9.1302</td>\n",
       "    </tr>\n",
       "    <tr>\n",
       "      <th>2</th>\n",
       "      <td>8.5186</td>\n",
       "      <td>13.6620</td>\n",
       "    </tr>\n",
       "    <tr>\n",
       "      <th>3</th>\n",
       "      <td>7.0032</td>\n",
       "      <td>11.8540</td>\n",
       "    </tr>\n",
       "    <tr>\n",
       "      <th>4</th>\n",
       "      <td>5.8598</td>\n",
       "      <td>6.8233</td>\n",
       "    </tr>\n",
       "  </tbody>\n",
       "</table>\n",
       "</div>"
      ],
      "text/plain": [
       "        0        1\n",
       "0  6.1101  17.5920\n",
       "1  5.5277   9.1302\n",
       "2  8.5186  13.6620\n",
       "3  7.0032  11.8540\n",
       "4  5.8598   6.8233"
      ]
     },
     "execution_count": 9,
     "metadata": {},
     "output_type": "execute_result"
    }
   ],
   "source": [
    "print( linregdata.describe() )\n",
    "linregdata.head()"
   ]
  },
  {
   "cell_type": "code",
   "execution_count": 10,
   "metadata": {
    "collapsed": false
   },
   "outputs": [
    {
     "name": "stdout",
     "output_type": "stream",
     "text": [
      "((97,), <type 'numpy.ndarray'>)\n",
      "((97,), <type 'numpy.ndarray'>)\n",
      "97\n"
     ]
    }
   ],
   "source": [
    "X_linreg = linregdata.as_matrix()[:,0]  # pandas.DataFrame.as_matrix convert frame to its numpy-array representation\n",
    "y_linreg = linregdata.as_matrix()[:,1]\n",
    "m_linreg = len(y_linreg)  # number of training examples  \n",
    "print( X_linreg.shape, type(X_linreg)) \n",
    "print( y_linreg.shape, type(y_linreg)) \n",
    "print m_linreg"
   ]
  },
  {
   "cell_type": "code",
   "execution_count": 42,
   "metadata": {
    "collapsed": false
   },
   "outputs": [
    {
     "data": {
      "text/plain": [
       "array([  6.1101,   5.5277,   8.5186,   7.0032,   5.8598,   8.3829,\n",
       "         7.4764,   8.5781,   6.4862,   5.0546,   5.7107,  14.164 ,\n",
       "         5.734 ,   8.4084,   5.6407,   5.3794,   6.3654,   5.1301,\n",
       "         6.4296,   7.0708,   6.1891,  20.27  ,   5.4901,   6.3261,\n",
       "         5.5649,  18.945 ,  12.828 ,  10.957 ,  13.176 ,  22.203 ,\n",
       "         5.2524,   6.5894,   9.2482,   5.8918,   8.2111,   7.9334,\n",
       "         8.0959,   5.6063,  12.836 ,   6.3534,   5.4069,   6.8825,\n",
       "        11.708 ,   5.7737,   7.8247,   7.0931,   5.0702,   5.8014,\n",
       "        11.7   ,   5.5416,   7.5402,   5.3077,   7.4239,   7.6031,\n",
       "         6.3328,   6.3589,   6.2742,   5.6397,   9.3102,   9.4536,\n",
       "         8.8254,   5.1793,  21.279 ,  14.908 ,  18.959 ,   7.2182,\n",
       "         8.2951,  10.236 ,   5.4994,  20.341 ,  10.136 ,   7.3345,\n",
       "         6.0062,   7.2259,   5.0269,   6.5479,   7.5386,   5.0365,\n",
       "        10.274 ,   5.1077,   5.7292,   5.1884,   6.3557,   9.7687,\n",
       "         6.5159,   8.5172,   9.1802,   6.002 ,   5.5204,   5.0594,\n",
       "         5.7077,   7.6366,   5.8707,   5.3054,   8.2934,  13.394 ,   5.4369])"
      ]
     },
     "execution_count": 42,
     "metadata": {},
     "output_type": "execute_result"
    }
   ],
   "source": [
    "X_linreg"
   ]
  },
  {
   "cell_type": "code",
   "execution_count": 45,
   "metadata": {
    "collapsed": false
   },
   "outputs": [
    {
     "data": {
      "text/plain": [
       "[<matplotlib.lines.Line2D at 0x7f1aeff9bd10>]"
      ]
     },
     "execution_count": 45,
     "metadata": {},
     "output_type": "execute_result"
    },
    {
     "data": {
      "image/png": "[encoded data removed]",
      "text/plain": [
       "<matplotlib.figure.Figure at 0x7f1af0026350>"
      ]
     },
     "metadata": {},
     "output_type": "display_data"
    }
   ],
   "source": [
    "plt.xlabel('Population of City in 10,000s')\n",
    "plt.ylabel('Profit in $10,000s')\n",
    "plt.plot( X_linreg, y_linreg, 'rx', markersize=10)"
   ]
  },
  {
   "cell_type": "markdown",
   "metadata": {},
   "source": [
    "## Batch Gradient Descent"
   ]
  },
  {
   "cell_type": "markdown",
   "metadata": {},
   "source": [
    "cf. `machine-learning-ex1/ex1/ex1.m`"
   ]
  },
  {
   "cell_type": "markdown",
   "metadata": {},
   "source": [
    "cf. [How to add column to numpy array](http://stackoverflow.com/questions/15815854/how-to-add-column-to-numpy-array)\n",
    "\n",
    "\"\n",
    "```   \n",
    "all_data = np.hstack((my_data, new_col))\n",
    "#or\n",
    "all_data = np.concatenate((my_data, new_col), 1)   \n",
    "```  \n",
    "\n",
    "I believe that the only difference between these three functions (as well as np.vstack) are their default behaviors for when axis is unspecified:\n",
    "\n",
    "    * `concatenate` assumes axis = 0\n",
    "    * `hstack` assumes axis = 1 unless inputs are 1d, then `axis = 0`\n",
    "    * `vstack` assumes axis = 0 after adding an axis if inputs are 1d\n",
    "    * `append` flattens array\n",
    "\"\n",
    "\n",
    "See also [How to add an extra column to an numpy array](http://stackoverflow.com/questions/8486294/how-to-add-an-extra-column-to-an-numpy-array)\n",
    "\n",
    "\"I think a more straightforward solution and faster to boot is to do the following:\"\n",
    "```   \n",
    "import numpy as np\n",
    "N = 10\n",
    "a = np.random.rand(N,N)\n",
    "b = np.zeros((N,N+1))\n",
    "b[:,:-1] = a   \n",
    "```  \n"
   ]
  },
  {
   "cell_type": "code",
   "execution_count": 11,
   "metadata": {
    "collapsed": false
   },
   "outputs": [
    {
     "data": {
      "text/plain": [
       "(97, 2)"
      ]
     },
     "execution_count": 11,
     "metadata": {},
     "output_type": "execute_result"
    }
   ],
   "source": [
    "# np.hstack( ( np.ones((m_linreg,1)), X_linreg.reshape(,1) ) ).shape\n",
    "\n",
    "input_X_linreg = np.vstack( (np.ones(m_linreg), X_linreg ) ).T\n",
    "input_X_linreg.shape"
   ]
  },
  {
   "cell_type": "code",
   "execution_count": 64,
   "metadata": {
    "collapsed": false
   },
   "outputs": [
    {
     "ename": "ValueError",
     "evalue": "could not broadcast input array from shape (97) into shape (97,0)",
     "output_type": "error",
     "traceback": [
      "\u001b[1;31m---------------------------------------------------------------------------\u001b[0m",
      "\u001b[1;31mValueError\u001b[0m                                Traceback (most recent call last)",
      "\u001b[1;32m<ipython-input-64-a828184f4fff>\u001b[0m in \u001b[0;36m<module>\u001b[1;34m()\u001b[0m\n\u001b[0;32m      1\u001b[0m \u001b[0mb\u001b[0m \u001b[1;33m=\u001b[0m \u001b[0mnp\u001b[0m\u001b[1;33m.\u001b[0m\u001b[0mones\u001b[0m\u001b[1;33m(\u001b[0m\u001b[1;33m(\u001b[0m\u001b[0mm_linreg\u001b[0m\u001b[1;33m,\u001b[0m\u001b[1;36m1\u001b[0m\u001b[1;33m)\u001b[0m\u001b[1;33m)\u001b[0m\u001b[1;33m\u001b[0m\u001b[0m\n\u001b[0;32m      2\u001b[0m \u001b[0mb\u001b[0m\u001b[1;33m.\u001b[0m\u001b[0mshape\u001b[0m\u001b[1;33m\u001b[0m\u001b[0m\n\u001b[1;32m----> 3\u001b[1;33m \u001b[0mb\u001b[0m\u001b[1;33m[\u001b[0m\u001b[1;33m:\u001b[0m\u001b[1;33m,\u001b[0m\u001b[1;33m:\u001b[0m\u001b[1;33m-\u001b[0m\u001b[1;36m1\u001b[0m\u001b[1;33m]\u001b[0m \u001b[1;33m=\u001b[0m \u001b[0mX_linreg\u001b[0m\u001b[1;33m\u001b[0m\u001b[0m\n\u001b[0m",
      "\u001b[1;31mValueError\u001b[0m: could not broadcast input array from shape (97) into shape (97,0)"
     ]
    }
   ],
   "source": [
    "b = np.ones((m_linreg,1))\n",
    "b.shape\n",
    "b[:,:-1] = X_linreg \n"
   ]
  },
  {
   "cell_type": "code",
   "execution_count": 12,
   "metadata": {
    "collapsed": false
   },
   "outputs": [
    {
     "name": "stdout",
     "output_type": "stream",
     "text": [
      "[[ 0.]\n",
      " [ 0.]]\n"
     ]
    }
   ],
   "source": [
    "\n",
    "theta = np.zeros((2,1)); print( theta )"
   ]
  },
  {
   "cell_type": "code",
   "execution_count": null,
   "metadata": {
    "collapsed": true
   },
   "outputs": [],
   "source": [
    "# Some gradient descent settings\n",
    "iterations = 1500 \n",
    "alpha = 0.01  # learning rate"
   ]
  },
  {
   "cell_type": "code",
   "execution_count": 84,
   "metadata": {
    "collapsed": false
   },
   "outputs": [
    {
     "name": "stdout",
     "output_type": "stream",
     "text": [
      "(97, 1)\n"
     ]
    },
    {
     "data": {
      "text/plain": [
       "(97, 1)"
      ]
     },
     "execution_count": 84,
     "metadata": {},
     "output_type": "execute_result"
    }
   ],
   "source": [
    "print( np.dot( input_X_linreg, theta ).shape )\n",
    "y_linreg.reshape((len(y_linreg),1)).shape\n",
    "#(np.dot( input_X_linreg, theta) - y_linreg ).shape"
   ]
  },
  {
   "cell_type": "code",
   "execution_count": 90,
   "metadata": {
    "collapsed": false
   },
   "outputs": [
    {
     "data": {
      "text/plain": [
       "64.145467754911351"
      ]
     },
     "execution_count": 90,
     "metadata": {},
     "output_type": "execute_result"
    }
   ],
   "source": [
    "res = np.dot(input_X_linreg,theta) - y_linreg.reshape((len(y_linreg),1)) \n",
    "(res*res).mean()"
   ]
  },
  {
   "cell_type": "code",
   "execution_count": 105,
   "metadata": {
    "collapsed": false
   },
   "outputs": [
    {
     "name": "stdout",
     "output_type": "stream",
     "text": [
      "(97, 1)\n",
      "(97, 2)\n",
      "(97,)\n"
     ]
    },
    {
     "data": {
      "text/plain": [
       "(97, 1)"
      ]
     },
     "execution_count": 105,
     "metadata": {},
     "output_type": "execute_result"
    }
   ],
   "source": [
    "print( res.shape) \n",
    "print( input_X_linreg.shape )\n",
    "print( X_linreg.shape)\n",
    "input_X_linreg[:,1].reshape( 97,1).shape"
   ]
  },
  {
   "cell_type": "code",
   "execution_count": 109,
   "metadata": {
    "collapsed": false
   },
   "outputs": [
    {
     "name": "stdout",
     "output_type": "stream",
     "text": [
      "(97, 2)\n"
     ]
    },
    {
     "data": {
      "text/plain": [
       "array([ -5.83913505, -65.32884975])"
      ]
     },
     "execution_count": 109,
     "metadata": {},
     "output_type": "execute_result"
    }
   ],
   "source": [
    "# ( res * input_X_linreg[:,1].reshape(m_linreg,1) ).shape\n",
    "dres = ( res * input_X_linreg )\n",
    "print(dres.shape)\n",
    "dres.mean(axis=0)"
   ]
  },
  {
   "cell_type": "code",
   "execution_count": 115,
   "metadata": {
    "collapsed": false
   },
   "outputs": [
    {
     "name": "stdout",
     "output_type": "stream",
     "text": [
      "[  2.91956753  32.66442487]\n"
     ]
    }
   ],
   "source": [
    "temp = theta.flatten() - 0.5 * dres.mean(axis=0)\n",
    "print( temp)"
   ]
  },
  {
   "cell_type": "code",
   "execution_count": 118,
   "metadata": {
    "collapsed": false
   },
   "outputs": [
    {
     "data": {
      "text/plain": [
       "array([[ -2.91956753],\n",
       "       [-32.66442487]])"
      ]
     },
     "execution_count": 118,
     "metadata": {},
     "output_type": "execute_result"
    }
   ],
   "source": [
    "theta - np.vstack( temp)"
   ]
  },
  {
   "cell_type": "markdown",
   "metadata": {},
   "source": [
    "The object of linear regression is to minimize the **cost function**:  \n",
    "    \n",
    "$$   \n",
    "J(\\theta) = \\frac{1}{2m} \\sum_{i=1}^m(h_{\\theta}(x^{i}) - y^{(i)})^2\n",
    "$$"
   ]
  },
  {
   "cell_type": "code",
   "execution_count": 13,
   "metadata": {
    "collapsed": true
   },
   "outputs": [],
   "source": [
    "def computeCost(X,y,theta):\n",
    "    \"\"\"\n",
    "    COMPUTECOST Compute cost for linear regression\n",
    "    J = COMPUTECOST(X, y, theta) computes the cost of using theta as the \n",
    "    parameter for linear regression to fit the data points in X and y\n",
    "    \n",
    "    \"\"\"\n",
    "    \n",
    "    # Initialize some useful values\n",
    "    m = len(y) # number of training examples\n",
    "    \n",
    "    # You will need to return the following variable correctly\n",
    "    J = 0\n",
    "    \n",
    "    # attach a column of 1's to make \\theta_0 a feature\n",
    "    input_X_linreg = np.vstack( (np.ones(m), X)).T  # take the transpose since the np array is a \"row\"\n",
    "            \n",
    "    # preprocess inputs X,y to make sure numpy array dimensions are correct\n",
    "    target_y_linreg = y.reshape((m,1))\n",
    "        \n",
    "    # Compute the cost of a particular choice of theta.  Set J to the cost\n",
    "    ## assume that theta is a numpy array of dim. 2x1 and not (2,)\n",
    "    predicted_vals = np.dot( input_X_linreg, theta)  # X * \\theta\n",
    "    \n",
    "    res = predicted_vals - target_y_linreg  # res for residual\n",
    "    ressq = res * res\n",
    "    J = ressq.mean() * 0.5    \n",
    "    return J"
   ]
  },
  {
   "cell_type": "code",
   "execution_count": 93,
   "metadata": {
    "collapsed": false
   },
   "outputs": [
    {
     "data": {
      "text/plain": [
       "32.072733877455676"
      ]
     },
     "execution_count": 93,
     "metadata": {},
     "output_type": "execute_result"
    }
   ],
   "source": [
    "computeCost(X_linreg, y_linreg, theta)"
   ]
  },
  {
   "cell_type": "markdown",
   "metadata": {},
   "source": [
    "# Gradient descent \n",
    "## Batch Gradient descent"
   ]
  },
  {
   "cell_type": "code",
   "execution_count": null,
   "metadata": {
    "collapsed": true
   },
   "outputs": [],
   "source": []
  },
  {
   "cell_type": "code",
   "execution_count": 14,
   "metadata": {
    "collapsed": true
   },
   "outputs": [],
   "source": [
    "def gradientDescent(X, y, theta, alpha, num_iters=1500):\n",
    "    \"\"\"\n",
    "    GRADIENTDESCENT Performs gradient descent to learn theta  \n",
    "    theta = GRADIENTDESCENT(X, y, theta, alpha, num_iters) updates theta by \n",
    "    taking num_iters gradient steps with learning rate alpha  \n",
    "    \"\"\"\n",
    "    \n",
    "    # Initialize some useful values\n",
    "    m = len(y)\n",
    "    J_history = np.zeros(num_iters);\n",
    "    \n",
    "    # attach a column of 1's to make \\theta_0 a feature\n",
    "    input_X_linreg = np.vstack( (np.ones(m), X)).T\n",
    "    \n",
    "    # preprocess inputs X,y to make sure numpy array dimensions are correct\n",
    "    target_y_linreg = y.reshape((m,1))\n",
    "    \n",
    "    \n",
    "    for iter in range(num_iters):  \n",
    "        # perform a single gradient step on the parameter vector theta\n",
    "\n",
    "        ## assume that theta is a numpy array of dim. 2x1, and not (2,)\n",
    "        ### predicted_vals is h_{\\theta}(x^{(i)}), h is the hypothesis\n",
    "        predicted_vals = np.dot( input_X_linreg, theta) # X * \\theta\n",
    "\n",
    "        res = predicted_vals - target_y_linreg # res for residual\n",
    "        \n",
    "        dres = res * input_X_linreg  # it's the partial derivative with respect to each x_j\n",
    "        \n",
    "        temp = theta.flatten() - alpha * dres.mean( axis=0)\n",
    "        theta = np.vstack( temp )  # this is effectively numpy's transpose from row to column vector\n",
    "        \n",
    "        J_history[iter] = computeCost(X,y,theta)\n",
    "\n",
    "    return theta, J_history\n",
    "        \n",
    "        \n",
    "        "
   ]
  },
  {
   "cell_type": "code",
   "execution_count": 120,
   "metadata": {
    "collapsed": false
   },
   "outputs": [
    {
     "data": {
      "text/plain": [
       "array([[ 0.],\n",
       "       [ 0.]])"
      ]
     },
     "execution_count": 120,
     "metadata": {},
     "output_type": "execute_result"
    }
   ],
   "source": [
    "theta"
   ]
  },
  {
   "cell_type": "code",
   "execution_count": 121,
   "metadata": {
    "collapsed": true
   },
   "outputs": [],
   "source": [
    "result_1d_graddesc = gradientDescent(X_linreg, y_linreg,theta, 0.01)"
   ]
  },
  {
   "cell_type": "code",
   "execution_count": 15,
   "metadata": {
    "collapsed": false
   },
   "outputs": [
    {
     "name": "stdout",
     "output_type": "stream",
     "text": [
      "CPU times: user 130 ms, sys: 2.13 ms, total: 132 ms\n",
      "Wall time: 140 ms\n"
     ]
    }
   ],
   "source": [
    "%time result_1d_graddesc = gradientDescent(X_linreg, y_linreg,theta, 0.01)"
   ]
  },
  {
   "cell_type": "code",
   "execution_count": 132,
   "metadata": {
    "collapsed": false
   },
   "outputs": [
    {
     "name": "stdout",
     "output_type": "stream",
     "text": [
      "[[-3.63029144]\n",
      " [ 1.16636235]]\n",
      "-3.6302914394\n",
      "1.16636235034\n"
     ]
    }
   ],
   "source": [
    "print( result_1d_graddesc[0] )\n",
    "print( result_1d_graddesc[0][0,0] )\n",
    "print( result_1d_graddesc[0][1,0])"
   ]
  },
  {
   "cell_type": "code",
   "execution_count": 124,
   "metadata": {
    "collapsed": false
   },
   "outputs": [
    {
     "data": {
      "text/plain": [
       "[<matplotlib.lines.Line2D at 0x7f1aefeb5ad0>]"
      ]
     },
     "execution_count": 124,
     "metadata": {},
     "output_type": "execute_result"
    },
    {
     "data": {
      "image/png": "[encoded data removed]",
      "text/plain": [
       "<matplotlib.figure.Figure at 0x7f1af00a2a50>"
      ]
     },
     "metadata": {},
     "output_type": "display_data"
    }
   ],
   "source": [
    "plt.plot( result_1d_graddesc[1] )"
   ]
  },
  {
   "cell_type": "markdown",
   "metadata": {},
   "source": [
    "cf. 2.2.4 Gradient descent, pp. 7 of `ex1.pdf`:  \n",
    "\n",
    "\"Your final values for $\\theta$ will also be used to make predictions on profits in areas of 35,000 and 70,000 people.  Note the way that the following lines in ex1.m uses matrix multiplication, rather than explicit summation or looping, to calculate the predictions.  \n",
    "\"\n"
   ]
  },
  {
   "cell_type": "code",
   "execution_count": 149,
   "metadata": {
    "collapsed": false
   },
   "outputs": [
    {
     "data": {
      "text/plain": [
       "[<matplotlib.lines.Line2D at 0x7f1aefe96210>]"
      ]
     },
     "execution_count": 149,
     "metadata": {},
     "output_type": "execute_result"
    },
    {
     "data": {
      "image/png": "[encoded data removed]",
      "text/plain": [
       "<matplotlib.figure.Figure at 0x7f1aef4cae50>"
      ]
     },
     "metadata": {},
     "output_type": "display_data"
    }
   ],
   "source": [
    "# Plot the linear fit\n",
    "\n",
    "# cf. http://matthiaseisen.com/pp/patterns/p0170/ Draw a regression line with matplotlib\n",
    "fig, ax = plt.subplots()\n",
    "\n",
    "ax.set_xlabel('Population of City in 10,000s')\n",
    "ax.set_ylabel('Profit in $10,000s')\n",
    "#plt.plot( X_linreg, y_linreg, 'rx', markersize=10)\n",
    "ax.scatter(X_linreg, y_linreg, s=40,c='r',marker='x'  )  # s is size in points^2, c is color\n",
    "ax.plot( X_linreg, \n",
    "    result_1d_graddesc[0][0,0] + X_linreg * result_1d_graddesc[0][1,0],'-')"
   ]
  },
  {
   "cell_type": "code",
   "execution_count": 128,
   "metadata": {
    "collapsed": false
   },
   "outputs": [
    {
     "data": {
      "text/plain": [
       "(97,)"
      ]
     },
     "execution_count": 128,
     "metadata": {},
     "output_type": "execute_result"
    }
   ],
   "source": [
    "type(X_linreg); X_linreg.shape"
   ]
  },
  {
   "cell_type": "markdown",
   "metadata": {},
   "source": [
    "#### Part 4: Visualizing J (theta_0, theta_1) ==========================================="
   ]
  },
  {
   "cell_type": "markdown",
   "metadata": {},
   "source": [
    "cf. [`surface3d_demo.py` from mplot3d tutorial - Matplotlib 2.0.0 documentation](http://matplotlib.org/mpl_examples/mplot3d/surface3d_demo.py)"
   ]
  },
  {
   "cell_type": "code",
   "execution_count": 155,
   "metadata": {
    "collapsed": false
   },
   "outputs": [],
   "source": [
    "# Grid over which we will calculate J\n",
    "theta0_vals = np.arange(-10,10,20./100.)\n",
    "theta1_vals = np.arange(-1,4,5./100.)\n",
    "theta0_vals, theta1_vals = np.meshgrid( theta0_vals, theta1_vals )\n"
   ]
  },
  {
   "cell_type": "code",
   "execution_count": 156,
   "metadata": {
    "collapsed": false
   },
   "outputs": [
    {
     "name": "stdout",
     "output_type": "stream",
     "text": [
      "(<type 'numpy.ndarray'>, <type 'numpy.ndarray'>)\n",
      "((100, 100), (100, 100))\n"
     ]
    }
   ],
   "source": [
    "print( type( theta0_vals ), type( theta1_vals) )\n",
    "print( theta0_vals.shape, theta1_vals.shape )"
   ]
  },
  {
   "cell_type": "code",
   "execution_count": 163,
   "metadata": {
    "collapsed": false
   },
   "outputs": [],
   "source": [
    "# Note to self: computeCost(X_linreg, y_linreg, theta)\n",
    "\n",
    "# Fill out J_vals\n",
    "J_vals = np.array( [[computeCost(X_linreg,y_linreg, np.vstack( np.array( [\n",
    "                                theta0_vals[i,j], \n",
    "                                theta1_vals[i,j] ] ) ) ) for j in range(100) ] \n",
    "                        for i in range(100) ] )"
   ]
  },
  {
   "cell_type": "code",
   "execution_count": 168,
   "metadata": {
    "collapsed": true
   },
   "outputs": [],
   "source": [
    "from mpl_toolkits.mplot3d import Axes3D\n",
    "from matplotlib import cm"
   ]
  },
  {
   "cell_type": "code",
   "execution_count": 169,
   "metadata": {
    "collapsed": false
   },
   "outputs": [
    {
     "data": {
      "text/plain": [
       "<matplotlib.colorbar.Colorbar at 0x7f1aef2d15d0>"
      ]
     },
     "execution_count": 169,
     "metadata": {},
     "output_type": "execute_result"
    },
    {
     "data": {
      "image/png": "[encoded data removed]",
      "text/plain": [
       "<matplotlib.figure.Figure at 0x7f1aef1ccc10>"
      ]
     },
     "metadata": {},
     "output_type": "display_data"
    }
   ],
   "source": [
    "surf_fig = plt.figure()\n",
    "surf_ax = surf_fig.gca(projection='3d')\n",
    "\n",
    "# Plot the surface\n",
    "surftheta = surf_ax.plot_surface( theta0_vals, theta1_vals, J_vals, \n",
    "                     cmap=cm.coolwarm, linewidth=0, antialiased=False)\n",
    "\n",
    "# Add a color bar which maps values to colors\n",
    "surf_fig.colorbar(surftheta, shrink=0.5, aspect=5)"
   ]
  },
  {
   "cell_type": "code",
   "execution_count": 158,
   "metadata": {
    "collapsed": false
   },
   "outputs": [
    {
     "data": {
      "text/plain": [
       "array([[ 0.],\n",
       "       [ 0.]])"
      ]
     },
     "execution_count": 158,
     "metadata": {},
     "output_type": "execute_result"
    }
   ],
   "source": [
    "theta"
   ]
  },
  {
   "cell_type": "code",
   "execution_count": 161,
   "metadata": {
    "collapsed": false
   },
   "outputs": [
    {
     "data": {
      "text/plain": [
       "array([[-9.4],\n",
       "       [-0.9]])"
      ]
     },
     "execution_count": 161,
     "metadata": {},
     "output_type": "execute_result"
    }
   ],
   "source": [
    "np.vstack( np.array( [ theta0_vals[2,3], theta1_vals[2,3] ] ) )"
   ]
  },
  {
   "cell_type": "code",
   "execution_count": 176,
   "metadata": {
    "collapsed": false
   },
   "outputs": [
    {
     "data": {
      "image/png": "[encoded data removed]",
      "text/plain": [
       "<matplotlib.figure.Figure at 0x7f1aefb3c0d0>"
      ]
     },
     "metadata": {},
     "output_type": "display_data"
    }
   ],
   "source": [
    "# Contour plot\n",
    "plt.figure()\n",
    "thetacontourplt = plt.contour(theta0_vals, theta1_vals, J_vals, \n",
    "                              levels=np.logspace(-2,3,20) )\n",
    "plt.clabel(thetacontourplt, inline=True, fontsize=10)\n",
    "plt.xlabel('\\theta_0')\n",
    "plt.ylabel('\\theta_1')\n",
    "plt.plot( result_1d_graddesc[0][0,0], result_1d_graddesc[0][1,0], 'rx', markersize=10 )\n",
    "plt.show()\n",
    "\n"
   ]
  },
  {
   "cell_type": "markdown",
   "metadata": {
    "collapsed": true
   },
   "source": [
    "# Linear regression with multiple variables "
   ]
  },
  {
   "cell_type": "markdown",
   "metadata": {},
   "source": [
    "### Linear regression with multiple variables, via Week 2 Programming Exercise, `ex1.pdf` and `ex1_multi.m`"
   ]
  },
  {
   "cell_type": "code",
   "execution_count": 18,
   "metadata": {
    "collapsed": false
   },
   "outputs": [
    {
     "name": "stdout",
     "output_type": "stream",
     "text": [
      "Loading data ... \n",
      "\n",
      "                 0          1              2\n",
      "count    47.000000  47.000000      47.000000\n",
      "mean   2000.680851   3.170213  340412.659574\n",
      "std     794.702354   0.760982  125039.899586\n",
      "min     852.000000   1.000000  169900.000000\n",
      "25%    1432.000000   3.000000  249900.000000\n",
      "50%    1888.000000   3.000000  299900.000000\n",
      "75%    2269.000000   4.000000  384450.000000\n",
      "max    4478.000000   5.000000  699900.000000\n"
     ]
    },
    {
     "data": {
      "text/html": [
       "<div>\n",
       "<table border=\"1\" class=\"dataframe\">\n",
       "  <thead>\n",
       "    <tr style=\"text-align: right;\">\n",
       "      <th></th>\n",
       "      <th>0</th>\n",
       "      <th>1</th>\n",
       "      <th>2</th>\n",
       "    </tr>\n",
       "  </thead>\n",
       "  <tbody>\n",
       "    <tr>\n",
       "      <th>0</th>\n",
       "      <td>2104</td>\n",
       "      <td>3</td>\n",
       "      <td>399900</td>\n",
       "    </tr>\n",
       "    <tr>\n",
       "      <th>1</th>\n",
       "      <td>1600</td>\n",
       "      <td>3</td>\n",
       "      <td>329900</td>\n",
       "    </tr>\n",
       "    <tr>\n",
       "      <th>2</th>\n",
       "      <td>2400</td>\n",
       "      <td>3</td>\n",
       "      <td>369000</td>\n",
       "    </tr>\n",
       "    <tr>\n",
       "      <th>3</th>\n",
       "      <td>1416</td>\n",
       "      <td>2</td>\n",
       "      <td>232000</td>\n",
       "    </tr>\n",
       "    <tr>\n",
       "      <th>4</th>\n",
       "      <td>3000</td>\n",
       "      <td>4</td>\n",
       "      <td>539900</td>\n",
       "    </tr>\n",
       "  </tbody>\n",
       "</table>\n",
       "</div>"
      ],
      "text/plain": [
       "      0  1       2\n",
       "0  2104  3  399900\n",
       "1  1600  3  329900\n",
       "2  2400  3  369000\n",
       "3  1416  2  232000\n",
       "4  3000  4  539900"
      ]
     },
     "execution_count": 18,
     "metadata": {},
     "output_type": "execute_result"
    }
   ],
   "source": [
    "## Load Data\n",
    "print(\"Loading data ... \\n\")\n",
    "\n",
    "linregdata2 = pd.read_csv('./coursera_Ng/machine-learning-ex1/ex1/ex1data2.txt', header=None)\n",
    "print( linregdata2.describe() )\n",
    "linregdata2.head()"
   ]
  },
  {
   "cell_type": "code",
   "execution_count": 11,
   "metadata": {
    "collapsed": false
   },
   "outputs": [
    {
     "data": {
      "text/plain": [
       "array([[2104,    3],\n",
       "       [1600,    3],\n",
       "       [2400,    3],\n",
       "       [1416,    2],\n",
       "       [3000,    4],\n",
       "       [1985,    4],\n",
       "       [1534,    3],\n",
       "       [1427,    3],\n",
       "       [1380,    3],\n",
       "       [1494,    3],\n",
       "       [1940,    4],\n",
       "       [2000,    3],\n",
       "       [1890,    3],\n",
       "       [4478,    5],\n",
       "       [1268,    3],\n",
       "       [2300,    4],\n",
       "       [1320,    2],\n",
       "       [1236,    3],\n",
       "       [2609,    4],\n",
       "       [3031,    4],\n",
       "       [1767,    3],\n",
       "       [1888,    2],\n",
       "       [1604,    3],\n",
       "       [1962,    4],\n",
       "       [3890,    3],\n",
       "       [1100,    3],\n",
       "       [1458,    3],\n",
       "       [2526,    3],\n",
       "       [2200,    3],\n",
       "       [2637,    3],\n",
       "       [1839,    2],\n",
       "       [1000,    1],\n",
       "       [2040,    4],\n",
       "       [3137,    3],\n",
       "       [1811,    4],\n",
       "       [1437,    3],\n",
       "       [1239,    3],\n",
       "       [2132,    4],\n",
       "       [4215,    4],\n",
       "       [2162,    4],\n",
       "       [1664,    2],\n",
       "       [2238,    3],\n",
       "       [2567,    4],\n",
       "       [1200,    3],\n",
       "       [ 852,    2],\n",
       "       [1852,    4],\n",
       "       [1203,    3]])"
      ]
     },
     "execution_count": 11,
     "metadata": {},
     "output_type": "execute_result"
    }
   ],
   "source": [
    "linregdata2.as_matrix([0,1])"
   ]
  },
  {
   "cell_type": "code",
   "execution_count": 19,
   "metadata": {
    "collapsed": false
   },
   "outputs": [
    {
     "name": "stdout",
     "output_type": "stream",
     "text": [
      "((47, 2), <type 'numpy.ndarray'>)\n",
      "((47, 1), <type 'numpy.ndarray'>)\n",
      "47\n"
     ]
    }
   ],
   "source": [
    "X_linreg = linregdata2.as_matrix([0,1])  # pandas.DataFrame.as_matrix convert frame to its numpy-array representation\n",
    "y_linreg = linregdata2.as_matrix([2])\n",
    "m_linreg = len(y_linreg)  # number of training examples  \n",
    "print( X_linreg.shape, type(X_linreg)) \n",
    "print( y_linreg.shape, type(y_linreg)) \n",
    "print m_linreg"
   ]
  },
  {
   "cell_type": "markdown",
   "metadata": {},
   "source": [
    "## Feature Normalization\n",
    "\n",
    "cf. 3.1 Feature Normalization of `ex1.pdf`"
   ]
  },
  {
   "cell_type": "code",
   "execution_count": 15,
   "metadata": {
    "collapsed": false
   },
   "outputs": [
    {
     "name": "stdout",
     "output_type": "stream",
     "text": [
      "[ 2000.68085106     3.17021277]\n"
     ]
    },
    {
     "data": {
      "text/plain": [
       "340412.6595744681"
      ]
     },
     "execution_count": 15,
     "metadata": {},
     "output_type": "execute_result"
    }
   ],
   "source": [
    "print( X_linreg.mean(axis=0) )\n",
    "y_linreg.mean()"
   ]
  },
  {
   "cell_type": "code",
   "execution_count": 18,
   "metadata": {
    "collapsed": false
   },
   "outputs": [
    {
     "name": "stdout",
     "output_type": "stream",
     "text": [
      "[  7.86202619e+02   7.52842809e-01]\n"
     ]
    },
    {
     "data": {
      "text/plain": [
       "123702.53600614741"
      ]
     },
     "execution_count": 18,
     "metadata": {},
     "output_type": "execute_result"
    }
   ],
   "source": [
    "print( X_linreg.std(axis=0) )\n",
    "y_linreg.std()"
   ]
  },
  {
   "cell_type": "code",
   "execution_count": 20,
   "metadata": {
    "collapsed": false
   },
   "outputs": [],
   "source": [
    "normedX_linreg = (X_linreg - X_linreg.mean(axis=0))/X_linreg.std(axis=0)\n",
    "normedy_linreg = (y_linreg - y_linreg.mean(axis=0))/y_linreg.std(axis=0)"
   ]
  },
  {
   "cell_type": "code",
   "execution_count": 25,
   "metadata": {
    "collapsed": false
   },
   "outputs": [
    {
     "name": "stdout",
     "output_type": "stream",
     "text": [
      "1.47340768428e-16\n",
      "1.0\n",
      "-6.61409461479e-17\n"
     ]
    },
    {
     "data": {
      "text/plain": [
       "1.0"
      ]
     },
     "execution_count": 25,
     "metadata": {},
     "output_type": "execute_result"
    }
   ],
   "source": [
    "print( normedX_linreg.mean() )\n",
    "print( normedX_linreg.std() )\n",
    "\n",
    "print( normedy_linreg.mean() )\n",
    "normedy_linreg.std()"
   ]
  },
  {
   "cell_type": "code",
   "execution_count": 21,
   "metadata": {
    "collapsed": true
   },
   "outputs": [],
   "source": [
    "def featureNormalize(X):\n",
    "    \"\"\"\n",
    "    FEATURENORMALIZE Normalizes the features in X  \n",
    "    FEATURENORMALIZE(X) returns a normalized version of X where  \n",
    "    the mean value of each feature is 0 and the standard deviation  \n",
    "    is 1.  This is often a good preprocessing step to do when \n",
    "    working with learning algorithms.\n",
    "    \n",
    "    \"\"\"\n",
    "    # You need to set these values correctly  \n",
    "    X_norm = (X-X.mean(axis=0))/X.std(axis=0)\n",
    "    mu = X.mean(axis=0)\n",
    "    sigma = X.std(axis=0)\n",
    "    \n",
    "    return [X_norm, mu, sigma]\n",
    "    \n",
    "    "
   ]
  },
  {
   "cell_type": "code",
   "execution_count": 35,
   "metadata": {
    "collapsed": false
   },
   "outputs": [
    {
     "name": "stdout",
     "output_type": "stream",
     "text": [
      "(47, 2)\n"
     ]
    },
    {
     "data": {
      "text/plain": [
       "(2, 1)"
      ]
     },
     "execution_count": 35,
     "metadata": {},
     "output_type": "execute_result"
    }
   ],
   "source": [
    "print( normedX_linreg.shape )\n",
    "theta = np.zeros((2,1))\n",
    "np.zeros((2,1)).shape"
   ]
  },
  {
   "cell_type": "code",
   "execution_count": 38,
   "metadata": {
    "collapsed": false
   },
   "outputs": [],
   "source": [
    "predicted_val = np.dot( normedX_linreg, theta )"
   ]
  },
  {
   "cell_type": "code",
   "execution_count": 39,
   "metadata": {
    "collapsed": false
   },
   "outputs": [],
   "source": [
    "res = predicted_val - y_linreg"
   ]
  },
  {
   "cell_type": "code",
   "execution_count": 43,
   "metadata": {
    "collapsed": false
   },
   "outputs": [
    {
     "name": "stdout",
     "output_type": "stream",
     "text": [
      "The slowest run took 28.54 times longer than the fastest. This could mean that an intermediate result is being cached.\n",
      "100000 loops, best of 3: 2.03 µs per loop\n"
     ]
    }
   ],
   "source": [
    "%timeit np.dot( res.T, res )/ m_linreg"
   ]
  },
  {
   "cell_type": "code",
   "execution_count": 44,
   "metadata": {
    "collapsed": false
   },
   "outputs": [
    {
     "name": "stdout",
     "output_type": "stream",
     "text": [
      "The slowest run took 17.29 times longer than the fastest. This could mean that an intermediate result is being cached.\n",
      "100000 loops, best of 3: 5.25 µs per loop\n"
     ]
    }
   ],
   "source": [
    "%timeit (res*res).mean()"
   ]
  },
  {
   "cell_type": "code",
   "execution_count": 16,
   "metadata": {
    "collapsed": true
   },
   "outputs": [],
   "source": [
    "def computeCostMulti(X,y,theta):\n",
    "    \"\"\"\n",
    "    COMPUTECOSTMULTI Compute cost for linear regresion with multiple variables\n",
    "    J = COMPUTECOSTMULTI(X, y, theta) computes the cost of using theta as the  \n",
    "    parameter for linear regression to fit the data points in X and y\n",
    "    \"\"\"\n",
    "    \n",
    "    # Initialize some useful values\n",
    "    m = len(y) # number of training examples   \n",
    "    \n",
    "    # You need to return the following variables correctly\n",
    "    J = 0\n",
    "    \n",
    "    # Compute the cost of a particualar choice of theta, setting J to the cost\n",
    "    predicted_val = np.dot(X,theta)\n",
    "    res = predicted_val - y\n",
    "    J = np.dot( res.T, res)/m * 0.5\n",
    "    return J\n",
    "    "
   ]
  },
  {
   "cell_type": "code",
   "execution_count": 53,
   "metadata": {
    "collapsed": false
   },
   "outputs": [
    {
     "data": {
      "text/plain": [
       "array([[ 109447.79646964],\n",
       "       [  -6578.35485416]])"
      ]
     },
     "execution_count": 53,
     "metadata": {},
     "output_type": "execute_result"
    }
   ],
   "source": [
    "np.dot( np.dot( np.linalg.inv( np.dot( normedX_linreg.T, normedX_linreg) ) , normedX_linreg.T ) , y_linreg)"
   ]
  },
  {
   "cell_type": "markdown",
   "metadata": {},
   "source": [
    "# (Batch) gradient descent for multiple variables, multivariate (batch) gradient descent\n",
    "\n",
    "cf. `gradientDescentMulti.m`"
   ]
  },
  {
   "cell_type": "code",
   "execution_count": 17,
   "metadata": {
    "collapsed": true
   },
   "outputs": [],
   "source": [
    "def gradientDescentMulti(X, y, theta, alpha, num_iters=1500):\n",
    "    \"\"\"\n",
    "    GRADIENTDESCENTMULTI Performs gradient descent to learn theta\n",
    "    theta = GRADIENTDESCENTMULTI(X, y, theta, alpha, num_iters) updates theta by \n",
    "    taking num_iters gradient steps with learning rate alpha\n",
    "    \"\"\"\n",
    "\n",
    "    # Initialize some useful values\n",
    "    m = len(y)  # number of training examples\n",
    "    J_history = np.zeros((num_iters , 1) )\n",
    "    \n",
    "    ## assume preprocessing is needed (in the case when using pandas for DataFrame, only column of 1 is needed)\n",
    "    input_X_linreg = np.hstack( (np.ones((m,1)), X))    \n",
    "    \n",
    "    for iter in range(num_iters):\n",
    "        # perform a single gradient step on the parameter vector theta\n",
    "                \n",
    "        predicted_vals = np.dot( input_X_linreg, theta)\n",
    "        res = predicted_vals - y \n",
    "        \n",
    "        dres = res * input_X_linreg # it's the partial derivative with respect to each x_j\n",
    " \n",
    "        temp = theta.flatten() - alpha * dres.mean( axis=0)\n",
    "        theta = np.vstack( temp )  # this is effectively numpy's transpose from row to column vector\n",
    "        \n",
    "        J_history[iter] = computeCostMulti(input_X_linreg,y,theta)\n",
    "\n",
    "    return theta, J_history\n"
   ]
  },
  {
   "cell_type": "code",
   "execution_count": 22,
   "metadata": {
    "collapsed": false
   },
   "outputs": [],
   "source": [
    "input_X_linreg = np.hstack( ( np.ones((m_linreg,1)), normedX_linreg ) )"
   ]
  },
  {
   "cell_type": "code",
   "execution_count": 67,
   "metadata": {
    "collapsed": false
   },
   "outputs": [
    {
     "data": {
      "text/plain": [
       "(47, 1)"
      ]
     },
     "execution_count": 67,
     "metadata": {},
     "output_type": "execute_result"
    }
   ],
   "source": [
    "predicted_vals_multi = np.dot( input_X_linreg, np.zeros((3,1)) )\n",
    "predicted_vals_multi.shape"
   ]
  },
  {
   "cell_type": "code",
   "execution_count": 69,
   "metadata": {
    "collapsed": false
   },
   "outputs": [],
   "source": [
    "res_multi = predicted_vals_multi - y_linreg"
   ]
  },
  {
   "cell_type": "code",
   "execution_count": 71,
   "metadata": {
    "collapsed": false
   },
   "outputs": [
    {
     "data": {
      "text/plain": [
       "(47, 3)"
      ]
     },
     "execution_count": 71,
     "metadata": {},
     "output_type": "execute_result"
    }
   ],
   "source": [
    "dres_multi = res_multi * input_X_linreg\n",
    "dres_multi.shape"
   ]
  },
  {
   "cell_type": "code",
   "execution_count": 73,
   "metadata": {
    "collapsed": false
   },
   "outputs": [
    {
     "data": {
      "text/plain": [
       "(3,)"
      ]
     },
     "execution_count": 73,
     "metadata": {},
     "output_type": "execute_result"
    }
   ],
   "source": [
    "( np.zeros((3,1)).flatten() - 0.5 * dres_multi.mean(axis=0) ).shape"
   ]
  },
  {
   "cell_type": "markdown",
   "metadata": {},
   "source": [
    "** Bottom line ** for serial, (batch) gradient descent for multiple variables (multiple features)"
   ]
  },
  {
   "cell_type": "code",
   "execution_count": 97,
   "metadata": {
    "collapsed": false
   },
   "outputs": [],
   "source": [
    "[normedX_linreg, mu_multi, sigma_multi] = featureNormalize(X_linreg)"
   ]
  },
  {
   "cell_type": "code",
   "execution_count": 26,
   "metadata": {
    "collapsed": false
   },
   "outputs": [],
   "source": [
    "theta = np.zeros((3,1))"
   ]
  },
  {
   "cell_type": "code",
   "execution_count": 24,
   "metadata": {
    "collapsed": true
   },
   "outputs": [],
   "source": [
    "alpha = 0.01 # Learning rate\n",
    "num_iters = 400"
   ]
  },
  {
   "cell_type": "code",
   "execution_count": 101,
   "metadata": {
    "collapsed": false
   },
   "outputs": [],
   "source": [
    "[theta, J_history] = gradientDescentMulti(normedX_linreg, y_linreg, theta, alpha, num_iters)"
   ]
  },
  {
   "cell_type": "code",
   "execution_count": 27,
   "metadata": {
    "collapsed": false
   },
   "outputs": [
    {
     "name": "stdout",
     "output_type": "stream",
     "text": [
      "CPU times: user 33.8 ms, sys: 857 µs, total: 34.6 ms\n",
      "Wall time: 33.3 ms\n"
     ]
    }
   ],
   "source": [
    "%time [theta, J_history] = gradientDescentMulti(normedX_linreg, y_linreg, theta, alpha, num_iters)"
   ]
  },
  {
   "cell_type": "code",
   "execution_count": 106,
   "metadata": {
    "collapsed": false
   },
   "outputs": [
    {
     "data": {
      "image/png": "[encoded data removed]",
      "text/plain": [
       "<matplotlib.figure.Figure at 0x7fc5b9589210>"
      ]
     },
     "metadata": {},
     "output_type": "display_data"
    }
   ],
   "source": [
    "plt.plot( J_history)\n",
    "plt.show()"
   ]
  },
  {
   "cell_type": "code",
   "execution_count": 28,
   "metadata": {
    "collapsed": false
   },
   "outputs": [
    {
     "data": {
      "text/plain": [
       "array([[ 334302.06399328],\n",
       "       [  99411.44947359],\n",
       "       [   3267.01285407]])"
      ]
     },
     "execution_count": 28,
     "metadata": {},
     "output_type": "execute_result"
    }
   ],
   "source": [
    "theta"
   ]
  },
  {
   "cell_type": "markdown",
   "metadata": {},
   "source": [
    "### Normal Equations  \n",
    "cf. 3.3 Normal Equations, pp. 14 of `ex1.pdf`   \n",
    "\n",
    "The closed-form solution to linear regression is  \n",
    "   \n",
    "$$   \n",
    "\\theta = (X^T X)^{-1}X^T \\mathbf{y}  \n",
    "$$\n"
   ]
  },
  {
   "cell_type": "code",
   "execution_count": 108,
   "metadata": {
    "collapsed": true
   },
   "outputs": [],
   "source": [
    "def normalEqn(X,y):\n",
    "    \"\"\"\n",
    "    NORMALEQN Computes the closed-form solution to linear regression  \n",
    "    NORMALEQN(X,y) computes the closed-form solution to linear  \n",
    "    regression using the normal equations.   \n",
    "    \"\"\"\n",
    "    \n",
    "    normX = np.dot( X.T, X)\n",
    "    normXinverse = np.linalg.inv( normX )\n",
    "    theta = np.dot( np.dot( normXinverse, X.T),y)\n",
    "    return theta\n",
    "    "
   ]
  },
  {
   "cell_type": "code",
   "execution_count": 110,
   "metadata": {
    "collapsed": false
   },
   "outputs": [],
   "source": [
    "# Add intercept term to X\n",
    "\n",
    "X_linreg_w_intercept = np.hstack( (np.ones((m_linreg,1)), X_linreg)) \n",
    "\n"
   ]
  },
  {
   "cell_type": "code",
   "execution_count": 111,
   "metadata": {
    "collapsed": false
   },
   "outputs": [
    {
     "data": {
      "text/plain": [
       "array([[ 89597.9095428 ],\n",
       "       [   139.21067402],\n",
       "       [ -8738.01911233]])"
      ]
     },
     "execution_count": 111,
     "metadata": {},
     "output_type": "execute_result"
    }
   ],
   "source": [
    "normalEqn( X_linreg_w_intercept, y_linreg)"
   ]
  },
  {
   "cell_type": "markdown",
   "metadata": {},
   "source": [
    "#### Linear Regression with Multiple Variables quiz  \n",
    "\n",
    "cf. https://www.coursera.org/learn/machine-learning/exam/7pytE/linear-regression-with-multiple-variables"
   ]
  },
  {
   "cell_type": "code",
   "execution_count": 113,
   "metadata": {
    "collapsed": true
   },
   "outputs": [],
   "source": [
    "midterm_exampow2 = np.array( [ 7921, 5184, 8836, 4761])"
   ]
  },
  {
   "cell_type": "code",
   "execution_count": 119,
   "metadata": {
    "collapsed": false
   },
   "outputs": [],
   "source": [
    "midterm_exampow2min = midterm_exampow2.min()\n",
    "midterm_exampow2max = midterm_exampow2.max()\n",
    "midterm_exampow2range = float( midterm_exampow2max - midterm_exampow2min )\n",
    "midterm_exampow2mean = midterm_exampow2.mean()"
   ]
  },
  {
   "cell_type": "code",
   "execution_count": 118,
   "metadata": {
    "collapsed": false
   },
   "outputs": [
    {
     "data": {
      "text/plain": [
       "array([ 1.94380368,  1.27214724,  2.16834356,  1.16834356])"
      ]
     },
     "execution_count": 118,
     "metadata": {},
     "output_type": "execute_result"
    }
   ],
   "source": [
    "midterm_exampow2 / midterm_exampow2range"
   ]
  },
  {
   "cell_type": "code",
   "execution_count": 121,
   "metadata": {
    "collapsed": false
   },
   "outputs": [
    {
     "data": {
      "text/plain": [
       "array([ 0.30564417, -0.36601227,  0.53018405, -0.46981595])"
      ]
     },
     "execution_count": 121,
     "metadata": {},
     "output_type": "execute_result"
    }
   ],
   "source": [
    "(midterm_exampow2 - midterm_exampow2mean) / midterm_exampow2range"
   ]
  },
  {
   "cell_type": "markdown",
   "metadata": {},
   "source": [
    "Took the quiz today for Week 2.  20170209"
   ]
  },
  {
   "cell_type": "markdown",
   "metadata": {},
   "source": [
    "EY : Diabetes Sample data from sci-kit learn, `sklearn`"
   ]
  },
  {
   "cell_type": "code",
   "execution_count": 29,
   "metadata": {
    "collapsed": true
   },
   "outputs": [],
   "source": [
    "# Load the diabetes dataset\n",
    "diabetes = sklearn.datasets.load_diabetes()"
   ]
  },
  {
   "cell_type": "code",
   "execution_count": 30,
   "metadata": {
    "collapsed": true
   },
   "outputs": [],
   "source": [
    "diabetes_X = diabetes.data\n",
    "diabetes_Y = diabetes.target"
   ]
  },
  {
   "cell_type": "code",
   "execution_count": 31,
   "metadata": {
    "collapsed": true
   },
   "outputs": [],
   "source": [
    "#diabetes_X1 = diabetes_X[:,np.newaxis,2]\n",
    "diabetes_X1 = diabetes_X[:,np.newaxis, 2]"
   ]
  },
  {
   "cell_type": "code",
   "execution_count": 32,
   "metadata": {
    "collapsed": true
   },
   "outputs": [],
   "source": [
    "theta = np.zeros((2,1))"
   ]
  },
  {
   "cell_type": "code",
   "execution_count": 34,
   "metadata": {
    "collapsed": false
   },
   "outputs": [
    {
     "name": "stdout",
     "output_type": "stream",
     "text": [
      "CPU times: user 626 ms, sys: 0 ns, total: 626 ms\n",
      "Wall time: 622 ms\n"
     ]
    }
   ],
   "source": [
    "%time linreg_diabetes_result = gradientDescent(diabetes_X1.flatten(), diabetes_Y.flatten(),theta,0.01,num_iters=10000)"
   ]
  },
  {
   "cell_type": "code",
   "execution_count": 35,
   "metadata": {
    "collapsed": false
   },
   "outputs": [
    {
     "name": "stdout",
     "output_type": "stream",
     "text": [
      "(array([[ 152.13348416],\n",
      "       [ 192.24054374]]), array([ 14306.90606965,  14081.15393709,  13859.89335591, ...,\n",
      "         2593.86599428,   2593.83664449,   2593.80729603]))\n"
     ]
    }
   ],
   "source": [
    "print(linreg_diabetes_result)"
   ]
  },
  {
   "cell_type": "code",
   "execution_count": 36,
   "metadata": {
    "collapsed": true
   },
   "outputs": [],
   "source": [
    "theta = np.zeros((diabetes_X.shape[1]+1,1))"
   ]
  },
  {
   "cell_type": "code",
   "execution_count": 42,
   "metadata": {
    "collapsed": false
   },
   "outputs": [
    {
     "name": "stdout",
     "output_type": "stream",
     "text": [
      "CPU times: user 852 ms, sys: 0 ns, total: 852 ms\n",
      "Wall time: 848 ms\n"
     ]
    }
   ],
   "source": [
    "%time linreg_diabetes_result = gradientDescentMulti(diabetes_X, np.vstack(diabetes_Y),theta,0.01,num_iters=10000)"
   ]
  },
  {
   "cell_type": "code",
   "execution_count": 38,
   "metadata": {
    "collapsed": false
   },
   "outputs": [
    {
     "data": {
      "text/plain": [
       "(442, 10)"
      ]
     },
     "execution_count": 38,
     "metadata": {},
     "output_type": "execute_result"
    }
   ],
   "source": [
    "diabetes_X.shape"
   ]
  },
  {
   "cell_type": "code",
   "execution_count": 40,
   "metadata": {
    "collapsed": false
   },
   "outputs": [
    {
     "data": {
      "text/plain": [
       "(11, 1)"
      ]
     },
     "execution_count": 40,
     "metadata": {},
     "output_type": "execute_result"
    }
   ],
   "source": [
    "theta.shape"
   ]
  },
  {
   "cell_type": "code",
   "execution_count": 41,
   "metadata": {
    "collapsed": false
   },
   "outputs": [
    {
     "data": {
      "text/plain": [
       "(442,)"
      ]
     },
     "execution_count": 41,
     "metadata": {},
     "output_type": "execute_result"
    }
   ],
   "source": [
    "diabetes_Y.shape"
   ]
  },
  {
   "cell_type": "markdown",
   "metadata": {},
   "source": [
    "# Logistic regression"
   ]
  },
  {
   "cell_type": "markdown",
   "metadata": {},
   "source": [
    "cf. [Coursera Programming Assignment: Logistic Regression](https://www.coursera.org/learn/machine-learning/programming/ixFof/logistic-regression)"
   ]
  },
  {
   "cell_type": "code",
   "execution_count": 43,
   "metadata": {
    "collapsed": false
   },
   "outputs": [
    {
     "data": {
      "text/plain": [
       "['ex2.pdf', 'ex2']"
      ]
     },
     "execution_count": 43,
     "metadata": {},
     "output_type": "execute_result"
    }
   ],
   "source": [
    "os.listdir( './coursera_Ng/machine-learning-ex2/' )"
   ]
  },
  {
   "cell_type": "code",
   "execution_count": 44,
   "metadata": {
    "collapsed": false
   },
   "outputs": [
    {
     "data": {
      "text/plain": [
       "['submit.m',\n",
       " 'ex2.m',\n",
       " 'sigmoid.m',\n",
       " 'plotData.m',\n",
       " 'mapFeature.m',\n",
       " 'ex2_reg.m',\n",
       " 'ex2data1.txt',\n",
       " 'predict.m',\n",
       " 'lib',\n",
       " 'costFunctionReg.m',\n",
       " 'costFunction.m',\n",
       " 'ex2data2.txt',\n",
       " 'plotDecisionBoundary.m']"
      ]
     },
     "execution_count": 44,
     "metadata": {},
     "output_type": "execute_result"
    }
   ],
   "source": [
    "os.listdir( './coursera_Ng/machine-learning-ex2/ex2' )"
   ]
  },
  {
   "cell_type": "markdown",
   "metadata": {},
   "source": [
    "[`pandas.read_csv`](http://pandas.pydata.org/pandas-docs/stable/generated/pandas.read_csv.html), Parameters: header: defaults to 0, if no names are passed, but we need to set it to `None` so not to include the first row"
   ]
  },
  {
   "cell_type": "markdown",
   "metadata": {},
   "source": [
    "### 1.1 Visualizing the data   \n",
    "\n",
    "cf. pp. 3, 'ex2.pdf' Week 3 Programming Assigment: Logistic Regression for Coursera's Machine Learning Introduction by Ng"
   ]
  },
  {
   "cell_type": "code",
   "execution_count": 45,
   "metadata": {
    "collapsed": false
   },
   "outputs": [
    {
     "name": "stdout",
     "output_type": "stream",
     "text": [
      "Plotting Data ... \n",
      "\n"
     ]
    }
   ],
   "source": [
    "## ================================== Part 2: Plotting =====================================\n",
    "print(\"Plotting Data ... \\n\")\n",
    "logregdata = pd.read_csv('./coursera_Ng/machine-learning-ex2/ex2/ex2data1.txt', header=None)"
   ]
  },
  {
   "cell_type": "code",
   "execution_count": 47,
   "metadata": {
    "collapsed": false
   },
   "outputs": [
    {
     "data": {
      "text/html": [
       "<div>\n",
       "<table border=\"1\" class=\"dataframe\">\n",
       "  <thead>\n",
       "    <tr style=\"text-align: right;\">\n",
       "      <th></th>\n",
       "      <th>0</th>\n",
       "      <th>1</th>\n",
       "      <th>2</th>\n",
       "    </tr>\n",
       "  </thead>\n",
       "  <tbody>\n",
       "    <tr>\n",
       "      <th>count</th>\n",
       "      <td>100.000000</td>\n",
       "      <td>100.000000</td>\n",
       "      <td>100.000000</td>\n",
       "    </tr>\n",
       "    <tr>\n",
       "      <th>mean</th>\n",
       "      <td>65.644274</td>\n",
       "      <td>66.221998</td>\n",
       "      <td>0.600000</td>\n",
       "    </tr>\n",
       "    <tr>\n",
       "      <th>std</th>\n",
       "      <td>19.458222</td>\n",
       "      <td>18.582783</td>\n",
       "      <td>0.492366</td>\n",
       "    </tr>\n",
       "    <tr>\n",
       "      <th>min</th>\n",
       "      <td>30.058822</td>\n",
       "      <td>30.603263</td>\n",
       "      <td>0.000000</td>\n",
       "    </tr>\n",
       "    <tr>\n",
       "      <th>25%</th>\n",
       "      <td>50.919511</td>\n",
       "      <td>48.179205</td>\n",
       "      <td>0.000000</td>\n",
       "    </tr>\n",
       "    <tr>\n",
       "      <th>50%</th>\n",
       "      <td>67.032988</td>\n",
       "      <td>67.682381</td>\n",
       "      <td>1.000000</td>\n",
       "    </tr>\n",
       "    <tr>\n",
       "      <th>75%</th>\n",
       "      <td>80.212529</td>\n",
       "      <td>79.360605</td>\n",
       "      <td>1.000000</td>\n",
       "    </tr>\n",
       "    <tr>\n",
       "      <th>max</th>\n",
       "      <td>99.827858</td>\n",
       "      <td>98.869436</td>\n",
       "      <td>1.000000</td>\n",
       "    </tr>\n",
       "  </tbody>\n",
       "</table>\n",
       "</div>"
      ],
      "text/plain": [
       "                0           1           2\n",
       "count  100.000000  100.000000  100.000000\n",
       "mean    65.644274   66.221998    0.600000\n",
       "std     19.458222   18.582783    0.492366\n",
       "min     30.058822   30.603263    0.000000\n",
       "25%     50.919511   48.179205    0.000000\n",
       "50%     67.032988   67.682381    1.000000\n",
       "75%     80.212529   79.360605    1.000000\n",
       "max     99.827858   98.869436    1.000000"
      ]
     },
     "execution_count": 47,
     "metadata": {},
     "output_type": "execute_result"
    }
   ],
   "source": [
    "logregdata.describe()"
   ]
  },
  {
   "cell_type": "code",
   "execution_count": null,
   "metadata": {
    "collapsed": true
   },
   "outputs": [],
   "source": [
    "plt.scatter( logregdata.as_matrix([0]) , logregdata.as_matrix([1]) "
   ]
  },
  {
   "cell_type": "code",
   "execution_count": null,
   "metadata": {
    "collapsed": true
   },
   "outputs": [],
   "source": [
    "df.loc[df['column_name'] == some_value]"
   ]
  },
  {
   "cell_type": "code",
   "execution_count": 51,
   "metadata": {
    "collapsed": false
   },
   "outputs": [
    {
     "data": {
      "text/html": [
       "<div>\n",
       "<table border=\"1\" class=\"dataframe\">\n",
       "  <thead>\n",
       "    <tr style=\"text-align: right;\">\n",
       "      <th></th>\n",
       "      <th>0</th>\n",
       "      <th>1</th>\n",
       "      <th>2</th>\n",
       "    </tr>\n",
       "  </thead>\n",
       "  <tbody>\n",
       "    <tr>\n",
       "      <th>0</th>\n",
       "      <td>34.623660</td>\n",
       "      <td>78.024693</td>\n",
       "      <td>0</td>\n",
       "    </tr>\n",
       "    <tr>\n",
       "      <th>1</th>\n",
       "      <td>30.286711</td>\n",
       "      <td>43.894998</td>\n",
       "      <td>0</td>\n",
       "    </tr>\n",
       "    <tr>\n",
       "      <th>2</th>\n",
       "      <td>35.847409</td>\n",
       "      <td>72.902198</td>\n",
       "      <td>0</td>\n",
       "    </tr>\n",
       "    <tr>\n",
       "      <th>3</th>\n",
       "      <td>60.182599</td>\n",
       "      <td>86.308552</td>\n",
       "      <td>1</td>\n",
       "    </tr>\n",
       "    <tr>\n",
       "      <th>4</th>\n",
       "      <td>79.032736</td>\n",
       "      <td>75.344376</td>\n",
       "      <td>1</td>\n",
       "    </tr>\n",
       "  </tbody>\n",
       "</table>\n",
       "</div>"
      ],
      "text/plain": [
       "           0          1  2\n",
       "0  34.623660  78.024693  0\n",
       "1  30.286711  43.894998  0\n",
       "2  35.847409  72.902198  0\n",
       "3  60.182599  86.308552  1\n",
       "4  79.032736  75.344376  1"
      ]
     },
     "execution_count": 51,
     "metadata": {},
     "output_type": "execute_result"
    }
   ],
   "source": [
    "logregdata.head()"
   ]
  },
  {
   "cell_type": "code",
   "execution_count": 52,
   "metadata": {
    "collapsed": false
   },
   "outputs": [
    {
     "data": {
      "text/html": [
       "<div>\n",
       "<table border=\"1\" class=\"dataframe\">\n",
       "  <thead>\n",
       "    <tr style=\"text-align: right;\">\n",
       "      <th></th>\n",
       "      <th>0</th>\n",
       "      <th>1</th>\n",
       "      <th>2</th>\n",
       "    </tr>\n",
       "  </thead>\n",
       "  <tbody>\n",
       "    <tr>\n",
       "      <th>0</th>\n",
       "      <td>34.623660</td>\n",
       "      <td>78.024693</td>\n",
       "      <td>0</td>\n",
       "    </tr>\n",
       "    <tr>\n",
       "      <th>1</th>\n",
       "      <td>30.286711</td>\n",
       "      <td>43.894998</td>\n",
       "      <td>0</td>\n",
       "    </tr>\n",
       "    <tr>\n",
       "      <th>2</th>\n",
       "      <td>35.847409</td>\n",
       "      <td>72.902198</td>\n",
       "      <td>0</td>\n",
       "    </tr>\n",
       "    <tr>\n",
       "      <th>5</th>\n",
       "      <td>45.083277</td>\n",
       "      <td>56.316372</td>\n",
       "      <td>0</td>\n",
       "    </tr>\n",
       "    <tr>\n",
       "      <th>10</th>\n",
       "      <td>95.861555</td>\n",
       "      <td>38.225278</td>\n",
       "      <td>0</td>\n",
       "    </tr>\n",
       "    <tr>\n",
       "      <th>11</th>\n",
       "      <td>75.013658</td>\n",
       "      <td>30.603263</td>\n",
       "      <td>0</td>\n",
       "    </tr>\n",
       "    <tr>\n",
       "      <th>14</th>\n",
       "      <td>39.538339</td>\n",
       "      <td>76.036811</td>\n",
       "      <td>0</td>\n",
       "    </tr>\n",
       "    <tr>\n",
       "      <th>17</th>\n",
       "      <td>67.946855</td>\n",
       "      <td>46.678574</td>\n",
       "      <td>0</td>\n",
       "    </tr>\n",
       "    <tr>\n",
       "      <th>20</th>\n",
       "      <td>67.372028</td>\n",
       "      <td>42.838438</td>\n",
       "      <td>0</td>\n",
       "    </tr>\n",
       "    <tr>\n",
       "      <th>22</th>\n",
       "      <td>50.534788</td>\n",
       "      <td>48.855812</td>\n",
       "      <td>0</td>\n",
       "    </tr>\n",
       "    <tr>\n",
       "      <th>23</th>\n",
       "      <td>34.212061</td>\n",
       "      <td>44.209529</td>\n",
       "      <td>0</td>\n",
       "    </tr>\n",
       "    <tr>\n",
       "      <th>27</th>\n",
       "      <td>93.114389</td>\n",
       "      <td>38.800670</td>\n",
       "      <td>0</td>\n",
       "    </tr>\n",
       "    <tr>\n",
       "      <th>28</th>\n",
       "      <td>61.830206</td>\n",
       "      <td>50.256108</td>\n",
       "      <td>0</td>\n",
       "    </tr>\n",
       "    <tr>\n",
       "      <th>29</th>\n",
       "      <td>38.785804</td>\n",
       "      <td>64.995681</td>\n",
       "      <td>0</td>\n",
       "    </tr>\n",
       "    <tr>\n",
       "      <th>32</th>\n",
       "      <td>52.107980</td>\n",
       "      <td>63.127624</td>\n",
       "      <td>0</td>\n",
       "    </tr>\n",
       "    <tr>\n",
       "      <th>34</th>\n",
       "      <td>40.236894</td>\n",
       "      <td>71.167748</td>\n",
       "      <td>0</td>\n",
       "    </tr>\n",
       "    <tr>\n",
       "      <th>35</th>\n",
       "      <td>54.635106</td>\n",
       "      <td>52.213886</td>\n",
       "      <td>0</td>\n",
       "    </tr>\n",
       "    <tr>\n",
       "      <th>36</th>\n",
       "      <td>33.915500</td>\n",
       "      <td>98.869436</td>\n",
       "      <td>0</td>\n",
       "    </tr>\n",
       "    <tr>\n",
       "      <th>38</th>\n",
       "      <td>74.789253</td>\n",
       "      <td>41.573415</td>\n",
       "      <td>0</td>\n",
       "    </tr>\n",
       "    <tr>\n",
       "      <th>39</th>\n",
       "      <td>34.183640</td>\n",
       "      <td>75.237720</td>\n",
       "      <td>0</td>\n",
       "    </tr>\n",
       "    <tr>\n",
       "      <th>41</th>\n",
       "      <td>51.547720</td>\n",
       "      <td>46.856290</td>\n",
       "      <td>0</td>\n",
       "    </tr>\n",
       "    <tr>\n",
       "      <th>43</th>\n",
       "      <td>82.368754</td>\n",
       "      <td>40.618255</td>\n",
       "      <td>0</td>\n",
       "    </tr>\n",
       "    <tr>\n",
       "      <th>44</th>\n",
       "      <td>51.047752</td>\n",
       "      <td>45.822701</td>\n",
       "      <td>0</td>\n",
       "    </tr>\n",
       "    <tr>\n",
       "      <th>45</th>\n",
       "      <td>62.222676</td>\n",
       "      <td>52.060992</td>\n",
       "      <td>0</td>\n",
       "    </tr>\n",
       "    <tr>\n",
       "      <th>53</th>\n",
       "      <td>34.524514</td>\n",
       "      <td>60.396342</td>\n",
       "      <td>0</td>\n",
       "    </tr>\n",
       "    <tr>\n",
       "      <th>54</th>\n",
       "      <td>50.286496</td>\n",
       "      <td>49.804539</td>\n",
       "      <td>0</td>\n",
       "    </tr>\n",
       "    <tr>\n",
       "      <th>55</th>\n",
       "      <td>49.586677</td>\n",
       "      <td>59.808951</td>\n",
       "      <td>0</td>\n",
       "    </tr>\n",
       "    <tr>\n",
       "      <th>57</th>\n",
       "      <td>32.577200</td>\n",
       "      <td>95.598548</td>\n",
       "      <td>0</td>\n",
       "    </tr>\n",
       "    <tr>\n",
       "      <th>61</th>\n",
       "      <td>35.286113</td>\n",
       "      <td>47.020514</td>\n",
       "      <td>0</td>\n",
       "    </tr>\n",
       "    <tr>\n",
       "      <th>62</th>\n",
       "      <td>56.253817</td>\n",
       "      <td>39.261473</td>\n",
       "      <td>0</td>\n",
       "    </tr>\n",
       "    <tr>\n",
       "      <th>63</th>\n",
       "      <td>30.058822</td>\n",
       "      <td>49.592974</td>\n",
       "      <td>0</td>\n",
       "    </tr>\n",
       "    <tr>\n",
       "      <th>64</th>\n",
       "      <td>44.668262</td>\n",
       "      <td>66.450086</td>\n",
       "      <td>0</td>\n",
       "    </tr>\n",
       "    <tr>\n",
       "      <th>65</th>\n",
       "      <td>66.560894</td>\n",
       "      <td>41.092098</td>\n",
       "      <td>0</td>\n",
       "    </tr>\n",
       "    <tr>\n",
       "      <th>67</th>\n",
       "      <td>49.072563</td>\n",
       "      <td>51.883212</td>\n",
       "      <td>0</td>\n",
       "    </tr>\n",
       "    <tr>\n",
       "      <th>70</th>\n",
       "      <td>32.722833</td>\n",
       "      <td>43.307173</td>\n",
       "      <td>0</td>\n",
       "    </tr>\n",
       "    <tr>\n",
       "      <th>78</th>\n",
       "      <td>60.455556</td>\n",
       "      <td>42.508409</td>\n",
       "      <td>0</td>\n",
       "    </tr>\n",
       "    <tr>\n",
       "      <th>79</th>\n",
       "      <td>82.226662</td>\n",
       "      <td>42.719879</td>\n",
       "      <td>0</td>\n",
       "    </tr>\n",
       "    <tr>\n",
       "      <th>86</th>\n",
       "      <td>42.075455</td>\n",
       "      <td>78.844786</td>\n",
       "      <td>0</td>\n",
       "    </tr>\n",
       "    <tr>\n",
       "      <th>89</th>\n",
       "      <td>52.348004</td>\n",
       "      <td>60.769505</td>\n",
       "      <td>0</td>\n",
       "    </tr>\n",
       "    <tr>\n",
       "      <th>92</th>\n",
       "      <td>55.482161</td>\n",
       "      <td>35.570703</td>\n",
       "      <td>0</td>\n",
       "    </tr>\n",
       "  </tbody>\n",
       "</table>\n",
       "</div>"
      ],
      "text/plain": [
       "            0          1  2\n",
       "0   34.623660  78.024693  0\n",
       "1   30.286711  43.894998  0\n",
       "2   35.847409  72.902198  0\n",
       "5   45.083277  56.316372  0\n",
       "10  95.861555  38.225278  0\n",
       "11  75.013658  30.603263  0\n",
       "14  39.538339  76.036811  0\n",
       "17  67.946855  46.678574  0\n",
       "20  67.372028  42.838438  0\n",
       "22  50.534788  48.855812  0\n",
       "23  34.212061  44.209529  0\n",
       "27  93.114389  38.800670  0\n",
       "28  61.830206  50.256108  0\n",
       "29  38.785804  64.995681  0\n",
       "32  52.107980  63.127624  0\n",
       "34  40.236894  71.167748  0\n",
       "35  54.635106  52.213886  0\n",
       "36  33.915500  98.869436  0\n",
       "38  74.789253  41.573415  0\n",
       "39  34.183640  75.237720  0\n",
       "41  51.547720  46.856290  0\n",
       "43  82.368754  40.618255  0\n",
       "44  51.047752  45.822701  0\n",
       "45  62.222676  52.060992  0\n",
       "53  34.524514  60.396342  0\n",
       "54  50.286496  49.804539  0\n",
       "55  49.586677  59.808951  0\n",
       "57  32.577200  95.598548  0\n",
       "61  35.286113  47.020514  0\n",
       "62  56.253817  39.261473  0\n",
       "63  30.058822  49.592974  0\n",
       "64  44.668262  66.450086  0\n",
       "65  66.560894  41.092098  0\n",
       "67  49.072563  51.883212  0\n",
       "70  32.722833  43.307173  0\n",
       "78  60.455556  42.508409  0\n",
       "79  82.226662  42.719879  0\n",
       "86  42.075455  78.844786  0\n",
       "89  52.348004  60.769505  0\n",
       "92  55.482161  35.570703  0"
      ]
     },
     "execution_count": 52,
     "metadata": {},
     "output_type": "execute_result"
    }
   ],
   "source": [
    "# Find Indices of Positive and Negative Examples\n",
    "logregdata.loc[ logregdata[2] == 0]"
   ]
  },
  {
   "cell_type": "code",
   "execution_count": 79,
   "metadata": {
    "collapsed": false
   },
   "outputs": [
    {
     "data": {
      "image/png": "[encoded data removed]",
      "text/plain": [
       "<matplotlib.figure.Figure at 0x7fc1e8c66450>"
      ]
     },
     "metadata": {},
     "output_type": "display_data"
    }
   ],
   "source": [
    "# First, \n",
    "# Find Indices of Positive and Negative Examples\n",
    "\n",
    "# neg, negative examples, y == 0\n",
    "plt.scatter( logregdata.loc[ logregdata[2] == 0].as_matrix([0]) , \n",
    "             logregdata.loc[ logregdata[2] == 0].as_matrix([1]), s=35,c='y',marker='o' , label='Not Admitted')\n",
    "# parameters for scatter: s : size in points^2, c : color, marker : MarkerStyle, default 'o'\n",
    "\n",
    "# pos. positive examples, y == 1\n",
    "plt.scatter( logregdata.loc[ logregdata[2] == 1].as_matrix([0]) , \n",
    "             logregdata.loc[ logregdata[2] == 1].as_matrix([1]), s=75,c='b',marker='+' , label='Admitted')\n",
    "plt.xlabel(\"Exam 1 score\")\n",
    "plt.ylabel(\"Exam 2 score\")\n",
    "plt.legend(loc=5)\n",
    "plt.show()"
   ]
  },
  {
   "cell_type": "markdown",
   "metadata": {},
   "source": [
    "cf. `sigmoid.m`  \n",
    "\n",
    "The sigmoid function is defined as  \n",
    "   \n",
    "$$   \n",
    "g(z) = \\frac{1}{1 + e^{-z} }   \n",
    "$$   "
   ]
  },
  {
   "cell_type": "code",
   "execution_count": 17,
   "metadata": {
    "collapsed": true
   },
   "outputs": [],
   "source": [
    "def sigmoid(z):\n",
    "    \"\"\"\n",
    "    SIGMOID Compute sigmoid function\n",
    "        g = SIGMOID(z) computes the sigmoid of z\n",
    "        \n",
    "    \"\"\"\n",
    "    g = (1. + np.exp(-z))\n",
    "    g = 1./g\n",
    "    return g\n",
    "    \n",
    "    "
   ]
  },
  {
   "cell_type": "code",
   "execution_count": 64,
   "metadata": {
    "collapsed": false
   },
   "outputs": [
    {
     "data": {
      "text/plain": [
       "array([ 0.73105858,  0.88079708,  0.95257413])"
      ]
     },
     "execution_count": 64,
     "metadata": {},
     "output_type": "execute_result"
    }
   ],
   "source": [
    "sigmoid( np.array([1,2,3]))"
   ]
  },
  {
   "cell_type": "markdown",
   "metadata": {},
   "source": [
    "### Cost function and gradient (for logistic regression)  \n",
    "\n",
    "cf. 1.2.2 Cost function and gradient, pp. 4, `ex2.pdf`  \n",
    "\n",
    "$$  \n",
    "J(\\theta) = \\frac{1}{m} \\sum_{i=1}^m \\left[ -y^{(i)} \\log{ (h_{\\theta}(x^{(i)})) }  - (1-y^{ (i) } ) \\log{ (1- h_{\\theta}(x^{ (i)} ) ) }\\right]\n",
    "$$  \n",
    "\n",
    "Remember that, for logistic regression hypothesis, \n",
    "$$  \n",
    "h_{\\theta}(x) = g(\\theta^Tx )  \n",
    "$$\n",
    "\n",
    "with $g$ being the sigmoid function, defined as  \n",
    "$$  \n",
    "g(z) = \\frac{1}{ 1 + e^{-z} }  \n",
    "$$  "
   ]
  },
  {
   "cell_type": "code",
   "execution_count": 91,
   "metadata": {
    "collapsed": true
   },
   "outputs": [],
   "source": [
    "def costFunction(theta, X,y):\n",
    "    \"\"\"\n",
    "    COSTFUNCTION Compute cost and gradient for logistic regression  \n",
    "    J = COSTFUNCTION(theta, X, y) computes the cost of using theta as the  \n",
    "    parameter for logistic regression and the gradient of the cost  \n",
    "    w.r.t. to the parameters  \n",
    "\n",
    "    RETURNS \n",
    "    =======\n",
    "    [J, grad]\n",
    "    \n",
    "    \"\"\"   \n",
    "    \n",
    "    # Initialize some useful values  \n",
    "    m = len(y)  # number of training examples\n",
    "    \n",
    "    # You need to return the following variables correctly\n",
    "    J = 0 \n",
    "    grad = np.zeros( len(theta))\n",
    "\n",
    "    # Compute the cost of a particular choice of theta.  \n",
    "    # You should set J to the cost.  \n",
    "    # Compute the partial derivatives and set grad to the partial \n",
    "    # derivatives of the cost w.r.t. each parameter in theta  \n",
    "\n",
    "    ## assume preprocessing is needed (in the case when using pandas for DataFrame, only column of 1 is needed)\n",
    "    input_X_linreg = np.hstack( (np.ones((m,1)), X))    \n",
    "    \n",
    "    predicted_vals = np.dot( input_X_linreg, theta )  # h_{\\theta}  \n",
    "    predicted_vals = sigmoid( predicted_vals )\n",
    "    \n",
    "    interpolation = -y * np.log( predicted_vals ) - (1. - y) * np.log( 1. - predicted_vals ) \n",
    "    \n",
    "    J = interpolation.mean()  \n",
    "\n",
    "    res = predicted_vals - y # res for residual\n",
    "    dJ = res * input_X_linreg # res * x_j^{(i)}\n",
    "    grad = dJ.mean(axis=0)\n",
    "    \n",
    "    return [J, grad]\n",
    "    \n",
    "        "
   ]
  },
  {
   "cell_type": "code",
   "execution_count": 92,
   "metadata": {
    "collapsed": false
   },
   "outputs": [
    {
     "data": {
      "text/plain": [
       "3"
      ]
     },
     "execution_count": 92,
     "metadata": {},
     "output_type": "execute_result"
    }
   ],
   "source": [
    "len( np.vstack( np.zeros(3) ) )"
   ]
  },
  {
   "cell_type": "code",
   "execution_count": 70,
   "metadata": {
    "collapsed": false
   },
   "outputs": [
    {
     "data": {
      "text/plain": [
       "4.1352906364311535"
      ]
     },
     "execution_count": 70,
     "metadata": {},
     "output_type": "execute_result"
    }
   ],
   "source": [
    "np.log( logregdata.as_matrix([0])  ).mean()\n",
    "\n",
    "#logregdata.loc[ logregdata[2] == 1].as_matrix([0])"
   ]
  },
  {
   "cell_type": "code",
   "execution_count": 93,
   "metadata": {
    "collapsed": false
   },
   "outputs": [],
   "source": [
    "## ======================= Part 2: Compute Cost and Gradient ==============================  \n",
    "\n",
    "d = logregdata.as_matrix().shape[1] - 1\n",
    "\n",
    "# Initialize fitting parameters\n",
    "initial_theta = np.zeros( (d + 1,1) )"
   ]
  },
  {
   "cell_type": "code",
   "execution_count": 94,
   "metadata": {
    "collapsed": false
   },
   "outputs": [],
   "source": [
    "X = logregdata.as_matrix( range(d) )\n",
    "y = logregdata.as_matrix( [d])\n",
    "# Compute and display initial cost and gradient  \n",
    "[cost, grad] = costFunction( initial_theta , X, y )"
   ]
  },
  {
   "cell_type": "code",
   "execution_count": 96,
   "metadata": {
    "collapsed": false
   },
   "outputs": [
    {
     "name": "stdout",
     "output_type": "stream",
     "text": [
      "Cost at initial theta (zeros): 0.693147\n",
      "\n",
      "Expected cost (approx): 0.693\n",
      "\n",
      "Gradient at initial theta (zeros): \n",
      "\n",
      "[ -0.1        -12.00921659 -11.26284221]\n",
      "Expected gradients (approx):\n",
      " -0.1000\n",
      " -12.0092\n",
      " -11.2628\n",
      "\n"
     ]
    }
   ],
   "source": [
    "print(\"Cost at initial theta (zeros): %f\\n\" % cost )  \n",
    "print(\"Expected cost (approx): 0.693\\n\") \n",
    "print(\"Gradient at initial theta (zeros): \\n\")\n",
    "#print(\" %f \\n\" % grad)\n",
    "print(grad)\n",
    "print(\"Expected gradients (approx):\\n -0.1000\\n -12.0092\\n -11.2628\\n\")\n"
   ]
  },
  {
   "cell_type": "code",
   "execution_count": 97,
   "metadata": {
    "collapsed": false
   },
   "outputs": [],
   "source": [
    "# Compute and display cost and gradient with non-zero theta\n",
    "test_theta = np.vstack( np.array( [-24., 0.2, 0.2]) )\n",
    "[cost, grad]  = costFunction( test_theta, X,y)"
   ]
  },
  {
   "cell_type": "code",
   "execution_count": 98,
   "metadata": {
    "collapsed": false
   },
   "outputs": [
    {
     "name": "stdout",
     "output_type": "stream",
     "text": [
      "\n",
      "Cost at test theta: 0.218330\n",
      "\n",
      "Expected cost (approx): 0.218\n",
      "\n",
      "Gradient at test theta: \n",
      "\n",
      "[ 0.04290299  2.56623412  2.64679737]\n",
      "Expected gradients (approx): \n",
      " 0.043\n",
      " 2.586\n",
      " 2.647\n",
      "\n"
     ]
    }
   ],
   "source": [
    "print(\"\\nCost at test theta: %f\\n\" % cost)\n",
    "print(\"Expected cost (approx): 0.218\\n\")\n",
    "print(\"Gradient at test theta: \\n\")\n",
    "print( grad)\n",
    "print(\"Expected gradients (approx): \\n 0.043\\n 2.586\\n 2.647\\n\") "
   ]
  },
  {
   "cell_type": "code",
   "execution_count": 99,
   "metadata": {
    "collapsed": true
   },
   "outputs": [],
   "source": [
    "## ===================== Part 3: optimizing using fminunc \n",
    "# "
   ]
  },
  {
   "cell_type": "markdown",
   "metadata": {},
   "source": [
    "### Regularized logistic regression; 2 Regularized logistic regression"
   ]
  },
  {
   "cell_type": "markdown",
   "metadata": {},
   "source": [
    "#### Cost function and gradient; Regularized logistic regression  \n",
    "\n",
    "cf. 2.3 Cost function and gradient\n",
    "\n",
    "Recall regularized cost function in logistic regression    \n",
    "$$   \n",
    "J(\\theta) = \\frac{1}{m} \\sum_{i=1}^m \\left[-y^{(i)} \\log{ (h_{\\theta}(x^{(i)} )) } - (1-y^{(i)} )\\log{ (1-h_{\\theta}(x^{(i)} )) } \\right] + \\frac{ \\lambda}{ 2m } \\sum_{j=1}^n \\theta_j^2\n",
    "  $$  \n"
   ]
  },
  {
   "cell_type": "code",
   "execution_count": 107,
   "metadata": {
    "collapsed": true
   },
   "outputs": [],
   "source": [
    "def costFunctionReg(theta, X,y,lambda_val):\n",
    "    \"\"\"\n",
    "    COSTFUNCTIONREG Compute cost and gradient for logistic regression with regularization  \n",
    "    J = COSTFUNCTION(theta, X, y) computes the cost of using theta as the  \n",
    "    parameter for regularized logistic regression and the gradient of the cost  \n",
    "    w.r.t. to the parameters  \n",
    "\n",
    "    RETURNS \n",
    "    =======\n",
    "    [J, grad]\n",
    "    \n",
    "    \"\"\"   \n",
    "    \n",
    "    # Initialize some useful values  \n",
    "    m = len(y)  # number of training examples\n",
    "    \n",
    "    # You need to return the following variables correctly\n",
    "    J = 0 \n",
    "    grad = np.zeros( len(theta))\n",
    "\n",
    "    # Compute the cost of a particular choice of theta.  \n",
    "    # You should set J to the cost.  \n",
    "    # Compute the partial derivatives and set grad to the partial \n",
    "    # derivatives of the cost w.r.t. each parameter in theta  \n",
    "\n",
    "    ## assume preprocessing is needed (in the case when using pandas for DataFrame, only column of 1 is needed)\n",
    "    input_X_linreg = np.hstack( (np.ones((m,1)), X))    \n",
    "    \n",
    "    predicted_vals = np.dot( input_X_linreg, theta )  # h_{\\theta}  \n",
    "    predicted_vals = sigmoid( predicted_vals )\n",
    "    \n",
    "    interpolation = -y * np.log( predicted_vals ) - (1. - y) * np.log( 1. - predicted_vals ) \n",
    "    \n",
    "    J = interpolation.mean()  \n",
    "\n",
    "    # regularized term \n",
    "    theta1 = theta[1:]  # \"Note that you should not regularize the parameter $\\theta_0$\"\n",
    "    reg_term = np.inner( theta1.flatten(), theta1.flatten() ) # \\sum_{j=1}^n \\theta_j^2\n",
    "    reg_term = lambda_val * (1./(2. * m)) * reg_term\n",
    "    \n",
    "    J += reg_term\n",
    "    \n",
    "    res = predicted_vals - y # res for residual\n",
    "    dJ = res * input_X_linreg # res * x_j^{(i)}\n",
    "    grad = dJ.mean(axis=0)\n",
    "    \n",
    "    # regularization term for gradient : grad_reg_term\n",
    "    grad_reg_term = np.zeros( len(theta))\n",
    "    grad_reg_term[1:] = theta[1:]\n",
    "    grad_reg_term *= lambda_val / float(m)\n",
    "    \n",
    "    grad += grad_reg_term\n",
    "    \n",
    "    return [J, grad]\n",
    "    "
   ]
  },
  {
   "cell_type": "code",
   "execution_count": 102,
   "metadata": {
    "collapsed": false
   },
   "outputs": [
    {
     "data": {
      "text/plain": [
       "(2, 1)"
      ]
     },
     "execution_count": 102,
     "metadata": {},
     "output_type": "execute_result"
    }
   ],
   "source": [
    "initial_theta[1:].shape"
   ]
  },
  {
   "cell_type": "code",
   "execution_count": 106,
   "metadata": {
    "collapsed": false
   },
   "outputs": [
    {
     "data": {
      "text/plain": [
       "0.0"
      ]
     },
     "execution_count": 106,
     "metadata": {},
     "output_type": "execute_result"
    }
   ],
   "source": [
    "np.inner( initial_theta.flatten(), initial_theta.flatten())"
   ]
  },
  {
   "cell_type": "code",
   "execution_count": null,
   "metadata": {
    "collapsed": true
   },
   "outputs": [],
   "source": []
  },
  {
   "cell_type": "markdown",
   "metadata": {},
   "source": [
    "# Multi-class Classification"
   ]
  },
  {
   "cell_type": "markdown",
   "metadata": {},
   "source": [
    "cf. `ex3.pdf`, Programming Exercise 3: Multi-class Classification and Neural Networks, Machine Learning, \n",
    "\n",
    "1 Multi-class Classification"
   ]
  },
  {
   "cell_type": "code",
   "execution_count": 108,
   "metadata": {
    "collapsed": false
   },
   "outputs": [
    {
     "data": {
      "text/plain": [
       "'/home/topolo/PropD/MLgrabbag'"
      ]
     },
     "execution_count": 108,
     "metadata": {},
     "output_type": "execute_result"
    }
   ],
   "source": [
    "os.getcwd()"
   ]
  },
  {
   "cell_type": "code",
   "execution_count": 109,
   "metadata": {
    "collapsed": false
   },
   "outputs": [
    {
     "data": {
      "text/plain": [
       "['ex3.pdf', 'ex3']"
      ]
     },
     "execution_count": 109,
     "metadata": {},
     "output_type": "execute_result"
    }
   ],
   "source": [
    "os.listdir( './coursera_Ng/machine-learning-ex3/' )"
   ]
  },
  {
   "cell_type": "code",
   "execution_count": 110,
   "metadata": {
    "collapsed": false
   },
   "outputs": [
    {
     "data": {
      "text/plain": [
       "['ex3data1.mat',\n",
       " 'submit.m',\n",
       " 'sigmoid.m',\n",
       " 'lrCostFunction.m',\n",
       " 'predictOneVsAll.m',\n",
       " 'oneVsAll.m',\n",
       " 'predict.m',\n",
       " 'ex3.m',\n",
       " 'lib',\n",
       " 'displayData.m',\n",
       " 'ex3_nn.m',\n",
       " 'fmincg.m',\n",
       " 'ex3weights.mat']"
      ]
     },
     "execution_count": 110,
     "metadata": {},
     "output_type": "execute_result"
    }
   ],
   "source": [
    "os.listdir( './coursera_Ng/machine-learning-ex3/ex3/' )"
   ]
  },
  {
   "cell_type": "code",
   "execution_count": 14,
   "metadata": {
    "collapsed": false
   },
   "outputs": [],
   "source": [
    "# Load saved matrices from file \n",
    "multiclscls_data = scipy.io.loadmat('./coursera_Ng/machine-learning-ex3/ex3/ex3data1.mat')"
   ]
  },
  {
   "cell_type": "code",
   "execution_count": 115,
   "metadata": {
    "collapsed": false
   },
   "outputs": [
    {
     "data": {
      "text/plain": [
       "['y', 'X', '__version__', '__header__', '__globals__']"
      ]
     },
     "execution_count": 115,
     "metadata": {},
     "output_type": "execute_result"
    }
   ],
   "source": [
    "multiclscls_data.keys()"
   ]
  },
  {
   "cell_type": "code",
   "execution_count": 119,
   "metadata": {
    "collapsed": false
   },
   "outputs": [
    {
     "name": "stdout",
     "output_type": "stream",
     "text": [
      "<type 'numpy.ndarray'>\n",
      "(5000, 1)\n",
      "<type 'numpy.ndarray'>\n",
      "(5000, 400)\n"
     ]
    }
   ],
   "source": [
    "print( type(multiclscls_data['y'] )) \n",
    "print( multiclscls_data['y'].shape )\n",
    "print(type(multiclscls_data['X']))\n",
    "print( multiclscls_data['X'].shape )\n"
   ]
  },
  {
   "cell_type": "code",
   "execution_count": 9,
   "metadata": {
    "collapsed": true
   },
   "outputs": [],
   "source": [
    "def sigmoid(z):\n",
    "    \"\"\"\n",
    "    SIGMOID COmpute sigmoid function\n",
    "    J = SIGMOID(z) computes the sigmoid of z.\n",
    "    \"\"\"\n",
    "    g = 1.0 / (1.0 + np.exp(-z))\n",
    "    return g\n"
   ]
  },
  {
   "cell_type": "markdown",
   "metadata": {},
   "source": [
    "cf. 1.3 Vectorizing Logistic Regression, 1.3.1 Vectorizing the cost function pp. 4, `ex3.pdf`\n",
    "\n",
    "Recall (*unregularized*) logistic regression:  \n",
    "  \n",
    "$$   \n",
    "J(\\theta) = \\frac{1}{m} \\sum_{i=1}^m \\left[ -y^{ (i)} \\log{ (h_{\\theta}(x^{(i)} ) ) } - (1-y^{(i)} )\\log{ (1-h_{\\theta}(x^{(i)} ) ) }   \\right]\n",
    "$$  \n"
   ]
  },
  {
   "cell_type": "code",
   "execution_count": 36,
   "metadata": {
    "collapsed": false
   },
   "outputs": [],
   "source": [
    "def lrCostFunction(theta, X, y, lambda_val):\n",
    "    \"\"\"\n",
    "    LRCOSTFUNCTION Compute cost and gradient for logistic regression with \n",
    "    regularization\n",
    "    J = LRCOSTFUNCTION(theta, X, y,lambda_val) computes the cost of using theta as the  \n",
    "    parameter for regularized logistic regression and the gradient of the cost  \n",
    "    w.r.t. to the parameters  \n",
    "\n",
    "    theta\n",
    "    @type  : numpy array of matrix size d+1,1 i.e. theta \\in \\mathbb{R}^{d+1}\n",
    "    @param : \"weights\"\n",
    "\n",
    "    RETURNS \n",
    "    =======\n",
    "    [J, grad]\n",
    "    \n",
    "    \"\"\"   \n",
    "    \n",
    "    # Initialize some useful values  \n",
    "    m = len(y)  # number of training examples\n",
    "    \n",
    "    # You need to return the following variables correctly\n",
    "    J = 0 \n",
    "    grad = np.zeros( len(theta))\n",
    "\n",
    "    # Compute the cost of a particular choice of theta.  \n",
    "    # You should set J to the cost.  \n",
    "    # Compute the partial derivatives and set grad to the partial \n",
    "    # derivatives of the cost w.r.t. each parameter in theta  \n",
    "\n",
    "    ## assume preprocessing is needed (in the case when using pandas for DataFrame, only column of 1 is needed)\n",
    "    input_X_linreg = np.hstack( (np.ones((m,1)), X))    \n",
    "    \n",
    "    predicted_vals = np.dot( input_X_linreg, theta )  # h_{\\theta}  \n",
    "    predicted_vals = sigmoid( predicted_vals )\n",
    "    \n",
    "    interpolation = -y * np.log( predicted_vals ) - (1. - y) * np.log( 1. - predicted_vals ) \n",
    "    \n",
    "    J = interpolation.mean()  \n",
    "\n",
    "    res = predicted_vals - y # res for residual\n",
    "#    dJ = res * input_X_linreg # res * x_j^{(i)}\n",
    "#    grad = dJ.mean(axis=0)\n",
    " \n",
    "    dJ = np.dot( input_X_linreg.T , res ) \n",
    "    \n",
    "    \n",
    "        # regularized term \n",
    "    theta1 = theta[1:]  # \"Note that you should not regularize the parameter $\\theta_0$\"\n",
    "    reg_term = np.inner( theta1.flatten(), theta1.flatten() ) # \\sum_{j=1}^n \\theta_j^2\n",
    "    reg_term = lambda_val * (1./(2. * m)) * reg_term\n",
    "    \n",
    "    J += reg_term\n",
    "    \n",
    "#    res = predicted_vals - y # res for residual\n",
    "#    dJ = res * input_X_linreg # res * x_j^{(i)}\n",
    "#    grad = dJ.mean(axis=0)\n",
    "    \n",
    "    # regularization term for gradient : grad_reg_term\n",
    "    grad_reg_term = np.vstack( np.zeros( len(theta)) )\n",
    "    grad_reg_term[1:] = theta[1:]\n",
    "    grad_reg_term *= lambda_val / float(m)\n",
    "    \n",
    "    grad = dJ + grad_reg_term\n",
    "    \n",
    "    return [J, grad]\n"
   ]
  },
  {
   "cell_type": "code",
   "execution_count": 123,
   "metadata": {
    "collapsed": true
   },
   "outputs": [],
   "source": [
    "y = multiclscls_data['y']\n",
    "X = multiclscls_data['X']\n"
   ]
  },
  {
   "cell_type": "code",
   "execution_count": 7,
   "metadata": {
    "collapsed": false
   },
   "outputs": [],
   "source": [
    "theta_t = np.vstack( np.array( [-2, -1, 1, 2]) )\n",
    "X_t = np.array( [i/10. for i in range(1,16)]).reshape((3,5)).T\n",
    "#X_t = np.hstack( ( np.ones((5,1)), X_t) ) # no need to preprocess the input data X with column of 1's\n",
    "y_t = np.vstack( np.array( [1,0,1,0,1]))"
   ]
  },
  {
   "cell_type": "code",
   "execution_count": 152,
   "metadata": {
    "collapsed": false
   },
   "outputs": [
    {
     "name": "stdout",
     "output_type": "stream",
     "text": [
      "2.53481939611\n"
     ]
    }
   ],
   "source": [
    "[J_t, grad_t] = lrCostFunction( theta_t, X_t, y_t, 3); \n",
    "print( J_t)  # Expected cost: 2.534819"
   ]
  },
  {
   "cell_type": "markdown",
   "metadata": {},
   "source": [
    "Let's try to \"vectorize\" this more.  "
   ]
  },
  {
   "cell_type": "code",
   "execution_count": 6,
   "metadata": {
    "collapsed": true
   },
   "outputs": [],
   "source": [
    "def lrCostFunction(theta, X, y, lambda_val):\n",
    "    \"\"\"\n",
    "    LRCOSTFUNCTION Compute cost and gradient for logistic regression with \n",
    "    regularization\n",
    "    J = LRCOSTFUNCTION(theta, X, y,lambda_val) computes the cost of using theta as the  \n",
    "    parameter for regularized logistic regression and the gradient of the cost  \n",
    "    w.r.t. to the parameters  \n",
    "\n",
    "    theta\n",
    "    @type  : numpy array of matrix size d+1,1 i.e. theta \\in \\mathbb{R}^{d+1}\n",
    "    @param : \"weights\"\n",
    "\n",
    "    RETURNS \n",
    "    =======\n",
    "    [J, grad]\n",
    "    \n",
    "    \"\"\"   \n",
    "    \n",
    "    # Initialize some useful values  \n",
    "    m = len(y)  # number of training examples\n",
    "    \n",
    "    # You need to return the following variables correctly\n",
    "    J = 0 \n",
    "    grad = np.zeros( len(theta))\n",
    "\n",
    "    # Compute the cost of a particular choice of theta.  \n",
    "    # You should set J to the cost.  \n",
    "    # Compute the partial derivatives and set grad to the partial \n",
    "    # derivatives of the cost w.r.t. each parameter in theta  \n",
    "\n",
    "    ## assume preprocessing is needed (in the case when using pandas for DataFrame, only column of 1 is needed)\n",
    "    input_X = np.hstack( (np.ones((m,1)), X))    \n",
    "    \n",
    "    z = np.dot( input_X, theta )    \n",
    "    predicted_vals = sigmoid( z ) # h_{\\theta}\n",
    "    \n",
    "    interpolation = - np.dot( y.T, np.log( predicted_vals) ) - np.dot( (1. -y).T, np.log( 1. - predicted_vals ))\n",
    "    \n",
    "    J = interpolation[0][0] /float(m) \n",
    "\n",
    "    res = predicted_vals - y # res for residual\n",
    " \n",
    "    dJ = np.dot( input_X.T , res ) \n",
    "    \n",
    "    \n",
    "        # regularized term \n",
    "    theta1 = theta[1:]  # \"Note that you should not regularize the parameter $\\theta_0$\"\n",
    "    reg_term = np.inner( theta1.flatten(), theta1.flatten() ) # \\sum_{j=1}^n \\theta_j^2\n",
    "    reg_term = lambda_val * (1./(2. * m)) * reg_term\n",
    "    \n",
    "    J += reg_term\n",
    "    \n",
    "    # regularization term for gradient : grad_reg_term\n",
    "    grad_reg_term = np.vstack( np.zeros( len(theta)) )\n",
    "    grad_reg_term[1:] = theta[1:]\n",
    "    grad_reg_term *= lambda_val / float(m)\n",
    "    \n",
    "    grad = dJ + grad_reg_term\n",
    "    \n",
    "    return [J, grad]"
   ]
  },
  {
   "cell_type": "code",
   "execution_count": 10,
   "metadata": {
    "collapsed": false
   },
   "outputs": [
    {
     "name": "stdout",
     "output_type": "stream",
     "text": [
      "2.53481939611\n"
     ]
    }
   ],
   "source": [
    "[J_t, grad_t] = lrCostFunction( theta_t, X_t, y_t, 3); \n",
    "print( J_t)  # Expected cost: 2.534819"
   ]
  },
  {
   "cell_type": "code",
   "execution_count": 176,
   "metadata": {
    "collapsed": false
   },
   "outputs": [
    {
     "data": {
      "text/plain": [
       "(5, 3)"
      ]
     },
     "execution_count": 176,
     "metadata": {},
     "output_type": "execute_result"
    }
   ],
   "source": [
    "X_t.shape"
   ]
  },
  {
   "cell_type": "code",
   "execution_count": 160,
   "metadata": {
    "collapsed": false
   },
   "outputs": [],
   "source": [
    "input_X_t = np.hstack( (np.ones((5,1)), X_t))  \n",
    "z = np.dot( input_X_t, theta_t ) \n",
    "predicted_vals = sigmoid( z ) "
   ]
  },
  {
   "cell_type": "code",
   "execution_count": 163,
   "metadata": {
    "collapsed": false
   },
   "outputs": [
    {
     "name": "stdout",
     "output_type": "stream",
     "text": [
      "(5, 1)\n",
      "(5, 1)\n"
     ]
    }
   ],
   "source": [
    "print( y_t.shape )\n",
    "print( predicted_vals.shape )"
   ]
  },
  {
   "cell_type": "code",
   "execution_count": 167,
   "metadata": {
    "collapsed": false
   },
   "outputs": [
    {
     "data": {
      "text/plain": [
       "array([[-0.9],\n",
       "       [ 0.1],\n",
       "       [-0.9],\n",
       "       [ 0.1],\n",
       "       [-0.9]])"
      ]
     },
     "execution_count": 167,
     "metadata": {},
     "output_type": "execute_result"
    }
   ],
   "source": [
    ".1 - y_t"
   ]
  },
  {
   "cell_type": "code",
   "execution_count": 165,
   "metadata": {
    "collapsed": false
   },
   "outputs": [
    {
     "data": {
      "text/plain": [
       "array([[1],\n",
       "       [0],\n",
       "       [1],\n",
       "       [0],\n",
       "       [1]])"
      ]
     },
     "execution_count": 165,
     "metadata": {},
     "output_type": "execute_result"
    }
   ],
   "source": [
    "y_t"
   ]
  },
  {
   "cell_type": "code",
   "execution_count": 168,
   "metadata": {
    "collapsed": true
   },
   "outputs": [],
   "source": [
    "interpolation = - np.dot( y_t.T, np.log( predicted_vals) ) - np.dot( (1. -y_t).T, np.log( 1. - predicted_vals ))"
   ]
  },
  {
   "cell_type": "code",
   "execution_count": 173,
   "metadata": {
    "collapsed": false
   },
   "outputs": [
    {
     "data": {
      "text/plain": [
       "3.6740969805487205"
      ]
     },
     "execution_count": 173,
     "metadata": {},
     "output_type": "execute_result"
    }
   ],
   "source": [
    "interpolation[0][0]"
   ]
  },
  {
   "cell_type": "code",
   "execution_count": 11,
   "metadata": {
    "collapsed": false
   },
   "outputs": [
    {
     "data": {
      "text/plain": [
       "array([[ 0.73280684],\n",
       "       [-0.34279206],\n",
       "       [ 1.22361136],\n",
       "       [ 2.19001478]])"
      ]
     },
     "execution_count": 11,
     "metadata": {},
     "output_type": "execute_result"
    }
   ],
   "source": [
    "grad_t"
   ]
  },
  {
   "cell_type": "markdown",
   "metadata": {},
   "source": [
    "### One-vs-all Classification  \n",
    "cf. 1.4 One-vs-all Classification, pp.8 `ex3.pdf`"
   ]
  },
  {
   "cell_type": "code",
   "execution_count": 15,
   "metadata": {
    "collapsed": false
   },
   "outputs": [],
   "source": [
    "y = multiclscls_data['y']\n",
    "X = multiclscls_data['X']"
   ]
  },
  {
   "cell_type": "code",
   "execution_count": 17,
   "metadata": {
    "collapsed": true
   },
   "outputs": [],
   "source": [
    "num_labels= 10\n",
    "lambda_val = 0.1"
   ]
  },
  {
   "cell_type": "code",
   "execution_count": 20,
   "metadata": {
    "collapsed": false
   },
   "outputs": [],
   "source": [
    "from scipy import optimize"
   ]
  },
  {
   "cell_type": "code",
   "execution_count": 42,
   "metadata": {
    "collapsed": false
   },
   "outputs": [
    {
     "name": "stdout",
     "output_type": "stream",
     "text": [
      "(5000, 400)\n"
     ]
    }
   ],
   "source": [
    "print( X.shape )\n",
    "#print( np.zeros( (5, 8) ) )\n",
    "#initial_theta = np.vstack( np.zeros( ( X.shape[1]+1, 1)) )"
   ]
  },
  {
   "cell_type": "code",
   "execution_count": 48,
   "metadata": {
    "collapsed": true
   },
   "outputs": [],
   "source": [
    "theta_t =  np.array( [-2, -1, 1, 2]) \n",
    "X_t = np.array( [i/10. for i in range(1,16)]).reshape((3,5)).T\n",
    "#X_t = np.hstack( ( np.ones((5,1)), X_t) ) # no need to preprocess the input data X with column of 1's\n",
    "y_t = np.vstack( np.array( [1,0,1,0,1]))\n",
    "input_X_t = np.hstack( (np.ones(( len(y_t), 1)), X_t))"
   ]
  },
  {
   "cell_type": "code",
   "execution_count": 62,
   "metadata": {
    "collapsed": false
   },
   "outputs": [
    {
     "name": "stdout",
     "output_type": "stream",
     "text": [
      "(5,)\n",
      "-0.891934651984\n",
      "[ 3.   0.9  2.4  3.9]\n"
     ]
    },
    {
     "data": {
      "text/plain": [
       "array([-1,  1,  2])"
      ]
     },
     "execution_count": 62,
     "metadata": {},
     "output_type": "execute_result"
    }
   ],
   "source": [
    "print( np.dot( input_X_t, theta_t).shape )\n",
    "print( np.dot( y_t.T, np.log( sigmoid( np.dot( input_X_t, theta_t) ) ))[0]  )\n",
    "print( np.dot( input_X_t.T, y_t.flatten() ) )\n",
    "np.inner( theta_t[1:].flatten(), theta_t[1:].flatten() )\n",
    "theta_t[1:]"
   ]
  },
  {
   "cell_type": "code",
   "execution_count": 74,
   "metadata": {
    "collapsed": true
   },
   "outputs": [],
   "source": [
    "def lrCostFunction(theta, X, y, lambda_val):\n",
    "    \"\"\"\n",
    "    LRCOSTFUNCTION Compute cost and gradient for logistic regression with \n",
    "    regularization\n",
    "    J = LRCOSTFUNCTION(theta, X, y,lambda_val) computes the cost of using theta as the  \n",
    "    parameter for regularized logistic regression and the gradient of the cost  \n",
    "    w.r.t. to the parameters  \n",
    "\n",
    "    theta\n",
    "    @type  : numpy array of matrix size (d+1,) i.e. theta \\in \\mathbb{R}^{d+1}\n",
    "    @param : \"weights\"\n",
    "\n",
    "    X\n",
    "    @type  : numpy array of matrix size (m,d), i.e. X \\in \\text{Mat}_{\\mathbb{R}}( d,m)\n",
    "    @param : input data i.e. input training data i.e. training examples\n",
    "\n",
    "    y\n",
    "    @type  : numpy array of matrix size (m,1), i.e. X \\in \\mathbb{R}^m\n",
    "    @param : test data i.e. test values i.e. test examples\n",
    "\n",
    "    RETURNS \n",
    "    =======\n",
    "    J\n",
    "    \n",
    "    \"\"\"   \n",
    "    \n",
    "    # Initialize some useful values  \n",
    "    m = len(y)  # number of training examples\n",
    "    \n",
    "    # You need to return the following variables correctly\n",
    "    J = 0 \n",
    "    grad = np.zeros( len(theta))\n",
    "\n",
    "    # Compute the cost of a particular choice of theta.  \n",
    "    # You should set J to the cost.  \n",
    "    # Compute the partial derivatives and set grad to the partial \n",
    "    # derivatives of the cost w.r.t. each parameter in theta  \n",
    "\n",
    "    ## assume preprocessing is needed (in the case when using pandas for DataFrame, only column of 1 is needed)\n",
    "    input_X = np.hstack( (np.ones((m,1)), X))     \n",
    "    \n",
    "    z = np.dot( input_X, theta )    # matrix size or dim. of (m,) dim(z) = m x 0\n",
    "    predicted_vals = sigmoid( z ) # h_{\\theta}\n",
    "    \n",
    "    interpolation = - np.dot( y.T, np.log( predicted_vals) ) - np.dot( (1. -y).T, np.log( 1. - predicted_vals ))  # matrix size or dim. of (1,), i.e. dim(interpolation) = 1x0 \n",
    "    \n",
    "    J = interpolation[0] /float(m)  # scalar value\n",
    "\n",
    "    res = predicted_vals - y.flatten() # res for residual, matrix size or dim. of (m,) dim(res) = mx0\n",
    " \n",
    "    dJ = np.dot( input_X.T , res ) # matrix size or dim. of (d+1,), i.e. dim(dJ) = (d+1)x0\n",
    "    \n",
    "    \n",
    "        # regularized term \n",
    "    theta1 = theta[1:]  # \"Note that you should not regularize the parameter $\\theta_0$\"\n",
    "    reg_term = np.inner( theta1.flatten(), theta1.flatten() ) # \\sum_{j=1}^n \\theta_j^2\n",
    "    reg_term = lambda_val * (1./(2. * m)) * reg_term\n",
    "    \n",
    "    J += reg_term\n",
    "    \n",
    "    # regularization term for gradient : grad_reg_term\n",
    "    grad_reg_term = np.zeros( theta.shape ) # matrix size or dim. of (d+1,) dim(grad_reg_term) = (d+1)x0\n",
    "    grad_reg_term[1:] = theta[1:]\n",
    "    grad_reg_term = lambda_val / float(m)\n",
    "    \n",
    "    grad = dJ + grad_reg_term # matrix size or dim. of (d+1,), i.e. dim(grad) = (d+1)x0\n",
    "    \n",
    "    return J"
   ]
  },
  {
   "cell_type": "code",
   "execution_count": 75,
   "metadata": {
    "collapsed": false
   },
   "outputs": [],
   "source": [
    "def oneVsAll(X, y, num_labels, lambda_value):  \n",
    "    \"\"\"\n",
    "    ONEVSALL trains multiple logistic regression classifiers and returns all \n",
    "    the classifiers in a matrix all_theta, where the i-th row of all_theta \n",
    "    corresponds to the classifier for label i \n",
    "    \n",
    "    [all_theta] = ONEVSALL(X, y, num_labels, lambda_value) trains num_labels \n",
    "    logistic regression classifiers and returns each of these classifiers \n",
    "    in a matrix all_theta, where the i-th row of all_theta corresponds \n",
    "    to the classifier for label i\n",
    "    \"\"\"\n",
    "    \n",
    "    # Some useful variables\n",
    "    m = X.shape[0]\n",
    "    n = X.shape[1]\n",
    "    \n",
    "    # You need to return the following variables correctly\n",
    "#    all_theta = np.zeros( (num_labels, n+1) )\n",
    "    all_theta = []\n",
    "\n",
    "    # Set Initial theta\n",
    "    initial_theta = np.zeros( (n+1,1))\n",
    "    \n",
    "    \n",
    "    for c in range(1,num_labels+1): \n",
    "\n",
    "        # Use y == c to obtain a vector of 1's and 0's that tell you whether the ground truth is true/false for this class.\n",
    "        y_c = (y == c).astype('float32')\n",
    "        \n",
    "        # scipy.optimize.fmin_cg - scipy.optimize.fmin_cg(f, x0, fprime=None,args=()), fprime a function that returns the gradient of f\n",
    "        theta_c = optimize.fmin_cg(lrCostFunction, initial_theta, args=(X,y_c,lambda_value) )\n",
    "        all_theta.append( theta_c)\n",
    "    return all_theta\n"
   ]
  },
  {
   "cell_type": "code",
   "execution_count": 79,
   "metadata": {
    "collapsed": false
   },
   "outputs": [
    {
     "name": "stdout",
     "output_type": "stream",
     "text": [
      "Optimization terminated successfully.\n",
      "         Current function value: 0.013129\n",
      "         Iterations: 102\n",
      "         Function evaluations: 155961\n",
      "         Gradient evaluations: 387\n",
      "Optimization terminated successfully.\n",
      "         Current function value: 0.050816\n",
      "         Iterations: 247\n",
      "         Function evaluations: 304668\n",
      "         Gradient evaluations: 756\n",
      "Optimization terminated successfully.\n",
      "         Current function value: 0.057614\n",
      "         Iterations: 206\n",
      "         Function evaluations: 243412\n",
      "         Gradient evaluations: 604\n",
      "Optimization terminated successfully.\n",
      "         Current function value: 0.033089\n",
      "         Iterations: 179\n",
      "         Function evaluations: 234546\n",
      "         Gradient evaluations: 582\n",
      "Optimization terminated successfully.\n",
      "         Current function value: 0.054466\n",
      "         Iterations: 219\n",
      "         Function evaluations: 261547\n",
      "         Gradient evaluations: 649\n",
      "Optimization terminated successfully.\n",
      "         Current function value: 0.018262\n",
      "         Iterations: 167\n",
      "         Function evaluations: 245830\n",
      "         Gradient evaluations: 610\n",
      "Optimization terminated successfully.\n",
      "         Current function value: 0.030655\n",
      "         Iterations: 196\n",
      "         Function evaluations: 269607\n",
      "         Gradient evaluations: 669\n",
      "Warning: Desired error not necessarily achieved due to precision loss.\n",
      "         Current function value: 0.519344\n",
      "         Iterations: 1\n",
      "         Function evaluations: 818\n",
      "         Gradient evaluations: 2\n",
      "Optimization terminated successfully.\n",
      "         Current function value: 0.071206\n",
      "         Iterations: 245\n",
      "         Function evaluations: 280488\n",
      "         Gradient evaluations: 696\n",
      "Optimization terminated successfully.\n",
      "         Current function value: 0.008570\n",
      "         Iterations: 133\n",
      "         Function evaluations: 204321\n",
      "         Gradient evaluations: 507\n"
     ]
    }
   ],
   "source": [
    "all_theta_digits = oneVsAll( X,y,10, 0.1)"
   ]
  },
  {
   "cell_type": "code",
   "execution_count": 89,
   "metadata": {
    "collapsed": false
   },
   "outputs": [
    {
     "name": "stdout",
     "output_type": "stream",
     "text": [
      "<type 'list'>\n",
      "10\n",
      "(401,)\n",
      "(array([ -3.07801828e+00,   0.00000000e+00,  -5.51881869e-08]), array([  6.34010230e-03,   2.66451854e-07,   0.00000000e+00]))\n",
      "(401,)\n",
      "(array([-3.72771815,  0.        ,  0.        ]), array([ 0.02040046, -0.0022795 ,  0.        ]))\n",
      "(401,)\n",
      "(array([-5.69661714,  0.        ,  0.        ]), array([ -7.13803499e-05,   6.83367055e-07,   0.00000000e+00]))\n",
      "(401,)\n",
      "(array([-2.23890676,  0.        ,  0.        ]), array([  9.51420678e-04,   2.14386719e-05,   0.00000000e+00]))\n",
      "(401,)\n",
      "(array([ 0.43824521,  0.        ,  0.        ]), array([ -2.55280506e-03,  -7.91743268e-06,   0.00000000e+00]))\n",
      "(401,)\n",
      "(array([-4.20107646,  0.        ,  0.        ]), array([ -1.15748375e-04,   1.48745968e-05,   0.00000000e+00]))\n",
      "(401,)\n",
      "(array([ -2.28398560e+00,  -8.97670935e-08,   0.00000000e+00]), array([-0.00523698,  0.00061772,  0.        ]))\n",
      "(401,)\n",
      "(array([-0.24094146,  0.        ,  0.        ]), array([ -1.20724092e-06,   1.25660765e-07,   0.00000000e+00]))\n",
      "(401,)\n",
      "(array([-5.60433128,  0.        ,  0.        ]), array([-0.0102943 ,  0.00079251,  0.        ]))\n",
      "(401,)\n",
      "(array([ -8.04146955e+00,  -1.33758146e-07,   0.00000000e+00]), array([ -1.00960885e-04,   5.30690866e-06,   0.00000000e+00]))\n"
     ]
    }
   ],
   "source": [
    "print(type(all_theta_digits))\n",
    "print(len(all_theta_digits))\n",
    "for i in range( len(all_theta_digits)):\n",
    "    print( all_theta_digits[i].shape )\n",
    "    print( all_theta_digits[i][:3], all_theta_digits[i][-3:] )"
   ]
  },
  {
   "cell_type": "code",
   "execution_count": 95,
   "metadata": {
    "collapsed": false
   },
   "outputs": [
    {
     "name": "stdout",
     "output_type": "stream",
     "text": [
      "(10, 401)\n",
      "(5000, 400)\n"
     ]
    }
   ],
   "source": [
    "print( np.array( all_theta_digits).shape )\n",
    "print( X.shape )\n",
    "input_X = np.hstack( (np.ones((X.shape[0], 1)), X)) \n",
    "z = np.dot( input_X , np.array( all_theta_digits).T)"
   ]
  },
  {
   "cell_type": "code",
   "execution_count": 97,
   "metadata": {
    "collapsed": false
   },
   "outputs": [
    {
     "data": {
      "text/plain": [
       "(5000, 10)"
      ]
     },
     "execution_count": 97,
     "metadata": {},
     "output_type": "execute_result"
    }
   ],
   "source": [
    "h_theta = sigmoid(z)\n",
    "h_theta.shape"
   ]
  },
  {
   "cell_type": "code",
   "execution_count": 100,
   "metadata": {
    "collapsed": true
   },
   "outputs": [],
   "source": [
    "predicted_cls = np.argmax( h_theta, axis=1 )"
   ]
  },
  {
   "cell_type": "code",
   "execution_count": 101,
   "metadata": {
    "collapsed": false
   },
   "outputs": [
    {
     "data": {
      "text/plain": [
       "(5000,)"
      ]
     },
     "execution_count": 101,
     "metadata": {},
     "output_type": "execute_result"
    }
   ],
   "source": [
    "predicted_cls.shape"
   ]
  },
  {
   "cell_type": "code",
   "execution_count": 93,
   "metadata": {
    "collapsed": false
   },
   "outputs": [
    {
     "name": "stdout",
     "output_type": "stream",
     "text": [
      "(5000, 1)\n"
     ]
    }
   ],
   "source": [
    "print( y.shape )"
   ]
  },
  {
   "cell_type": "code",
   "execution_count": null,
   "metadata": {
    "collapsed": true
   },
   "outputs": [],
   "source": [
    "def predictOneVsAll( all_theta, X):\n",
    "    \"\"\"\n",
    "    PREDICT Predict the label for a trained one-vs-all classifier.  The labels \n",
    "    are in the range 1..K, where K = all_theta.shape[0], i.e. y \\in \\lbrace 1 \\dots K \\rbrace\n",
    "    p = PREDICTONEVSALL(all_theta, X) will return a vector of predictions \n",
    "    for each example in the matrix X.  Note that X contains the examples in \n",
    "    rows.  all_theta is a matrix where the i-th row is a trained logistic \n",
    "    regression theta vector for the i-th class.  \n",
    "\n",
    "    RETURNS:\n",
    "    @type list of 2: numpy array of dims. (m,) \n",
    "    \"\"\"\n",
    "    \n",
    "    m = X.shape[0]  # total number of training examples\n",
    "    num_labels = all_theta.shape[0] # total number of \"classes\", i.e. y \\in \\lbrace 1 \\dots K \\rbrace and num_labels=K\n",
    "    \n",
    "    # Add ones to the X data matrix, to include an \"intercept\"\n",
    "    input_X = np.hstack( (np.ones( (m,1) ), X))\n",
    "    z = np.dot( input_X, np.array( all_theta))\n",
    "    h_theta = sigmoid(z)\n",
    "    predicted_cls = np.argmax( h_theta, axis=1)\n",
    "\n",
    "    predicted_cls_p1 = predicted_cls + 1 # just because of how Python/numpy numbers from 0, as opposed to from 1\n",
    "    return predicted_cls_pl\n",
    "    \n",
    "    \n",
    "    \n",
    "    "
   ]
  },
  {
   "cell_type": "code",
   "execution_count": 107,
   "metadata": {
    "collapsed": false
   },
   "outputs": [
    {
     "name": "stdout",
     "output_type": "stream",
     "text": [
      "                 0\n",
      "count  5000.000000\n",
      "mean      4.276000\n",
      "std       2.887402\n",
      "min       0.000000\n",
      "25%       2.000000\n",
      "50%       4.000000\n",
      "75%       6.000000\n",
      "max       9.000000\n",
      "                 0\n",
      "count  5000.000000\n",
      "mean      5.500000\n",
      "std       2.872569\n",
      "min       1.000000\n",
      "25%       3.000000\n",
      "50%       5.500000\n",
      "75%       8.000000\n",
      "max      10.000000\n"
     ]
    }
   ],
   "source": [
    "\n",
    "\n",
    "sum( [predicted_cls[j] == y[j] for j in range(len(y))] )\n",
    "print( pd.DataFrame( predicted_cls).describe() )\n",
    "print( pd.DataFrame( y).describe() )\n",
    "predicted_cls_p1 = predicted_cls + 1"
   ]
  },
  {
   "cell_type": "code",
   "execution_count": 114,
   "metadata": {
    "collapsed": false
   },
   "outputs": [
    {
     "name": "stdout",
     "output_type": "stream",
     "text": [
      "[9 9 9 9 9 9 9 9 9 9 9 9 9 9 9 9 9 9 9 9 9 9 9 9 9 9 9 9 9 9 9 9 9 9 9 9 9\n",
      " 9 9 9]\n",
      "[10 10 10 10 10 10 10 10 10 10 10 10 10 10 10 10 10 10 10 10 10 10 10 10 10\n",
      " 10 10 10 10 10 10 10 10 10 10 10 10 10 10 10]\n",
      "[[10]\n",
      " [10]\n",
      " [10]\n",
      " [10]\n",
      " [10]\n",
      " [10]\n",
      " [10]\n",
      " [10]\n",
      " [10]\n",
      " [10]\n",
      " [10]\n",
      " [10]\n",
      " [10]\n",
      " [10]\n",
      " [10]\n",
      " [10]\n",
      " [10]\n",
      " [10]\n",
      " [10]\n",
      " [10]\n",
      " [10]\n",
      " [10]\n",
      " [10]\n",
      " [10]\n",
      " [10]\n",
      " [10]\n",
      " [10]\n",
      " [10]\n",
      " [10]\n",
      " [10]\n",
      " [10]\n",
      " [10]\n",
      " [10]\n",
      " [10]\n",
      " [10]\n",
      " [10]\n",
      " [10]\n",
      " [10]\n",
      " [10]\n",
      " [10]]\n"
     ]
    },
    {
     "data": {
      "text/plain": [
       "0.9032"
      ]
     },
     "execution_count": 114,
     "metadata": {},
     "output_type": "execute_result"
    }
   ],
   "source": [
    "print( predicted_cls[200:240] )\n",
    "print( predicted_cls_p1[200:240] )\n",
    "print( y[200:240])\n",
    "sum( [predicted_cls_p1[j]==y[j] for j in range(len(y))] )[0]/ float( len(y) )"
   ]
  },
  {
   "cell_type": "code",
   "execution_count": 80,
   "metadata": {
    "collapsed": false
   },
   "outputs": [
    {
     "name": "stderr",
     "output_type": "stream",
     "text": [
      "UsageError: %%timeit is a cell magic, but the cell body is empty. Did you mean the line magic %timeit (single %)?"
     ]
    }
   ],
   "source": [
    "%%timeit all_theta_digits = oneVsAll( X,y,10, 0.1)"
   ]
  },
  {
   "cell_type": "code",
   "execution_count": 78,
   "metadata": {
    "collapsed": false
   },
   "outputs": [
    {
     "name": "stdout",
     "output_type": "stream",
     "text": [
      "[[10]\n",
      " [10]\n",
      " [10]\n",
      " ..., \n",
      " [ 9]\n",
      " [ 9]\n",
      " [ 9]]\n",
      "[[ 0.]\n",
      " [ 0.]\n",
      " [ 0.]\n",
      " ..., \n",
      " [ 0.]\n",
      " [ 0.]\n",
      " [ 0.]]\n",
      "Optimization terminated successfully.\n",
      "         Current function value: 0.057614\n",
      "         Iterations: 206\n",
      "         Function evaluations: 243412\n",
      "         Gradient evaluations: 604\n"
     ]
    },
    {
     "data": {
      "text/plain": [
       "array([ -5.69661714e+00,   0.00000000e+00,   0.00000000e+00,\n",
       "        -4.01284926e-05,  -2.47551612e-03,   4.10334729e-02,\n",
       "         2.70295169e-01,  -1.30353249e-01,  -3.71582730e-03,\n",
       "         4.91232762e-02,  -3.25279844e-04,   1.32510983e-03,\n",
       "        -3.44975273e-02,  -1.05877813e-01,   1.51535994e-01,\n",
       "         2.18228892e-01,  -1.41630710e-02,  -1.69427455e-03,\n",
       "         2.10349343e-05,   1.56420018e-05,   0.00000000e+00,\n",
       "        -2.07918174e-07,  -9.07518375e-07,   7.88374433e-05,\n",
       "         5.86444962e-03,  -4.31760506e-02,  -9.42938495e-01,\n",
       "        -1.72838412e+00,  -1.40106030e+00,  -8.06810080e-01,\n",
       "        -2.37130404e-02,  -1.42925394e-02,   4.23159221e-01,\n",
       "         1.14461036e+00,  -1.73722756e+00,  -2.44023875e+00,\n",
       "         1.03629377e-01,  -7.31902231e-02,  -1.33303354e-01,\n",
       "        -1.57950725e-02,   2.26803900e-03,   5.29072595e-07,\n",
       "        -1.77040623e-03,  -1.00000993e-02,   2.28866213e-01,\n",
       "         1.91757983e+00,   2.85682657e+00,   1.70339321e+00,\n",
       "         2.19173114e+00,  -2.74087071e-01,  -1.69719877e-02,\n",
       "        -4.92137660e-01,  -1.95599124e+00,   1.14691412e-01,\n",
       "         7.86421992e-01,   1.63063046e+00,   1.88628704e+00,\n",
       "         1.55521412e+00,   3.76874655e+00,   1.00259882e-01,\n",
       "        -1.58581337e-02,  -5.10308752e-06,   1.73432843e-02,\n",
       "        -1.09838209e-01,  -1.16594164e+00,   1.01184792e+00,\n",
       "         3.26972224e-01,  -5.15361679e-01,  -1.43439027e+00,\n",
       "        -2.04819605e+00,  -1.17237177e+00,  -1.76026308e+00,\n",
       "        -2.53945266e-01,   2.52474510e+00,   6.57071990e-01,\n",
       "         1.60543522e+00,  -7.51090912e-01,   1.77304896e+00,\n",
       "         2.81498791e+00,   6.19350919e-01,  -1.09541634e-01,\n",
       "        -3.08636246e-05,  -5.22535752e-03,  -1.80037738e-01,\n",
       "        -6.99578942e-01,   6.41296287e-01,  -2.56673585e-01,\n",
       "         1.21120735e+00,   3.54189166e+00,  -2.87764763e+00,\n",
       "        -1.24597670e+00,  -1.20894199e-01,  -1.54020682e+00,\n",
       "         7.10760198e-01,  -1.99967941e+00,   2.94020915e+00,\n",
       "        -9.01538890e-02,   1.23377763e-01,  -1.47609754e+00,\n",
       "        -1.82754939e-01,  -2.94221444e-01,   1.65089534e-03,\n",
       "        -7.38986456e-02,  -5.08059320e-01,   1.70282714e+00,\n",
       "         1.04809804e+00,  -2.22129657e-02,  -7.82513499e-01,\n",
       "        -4.17991035e-01,  -2.19588627e+00,   7.86036370e-01,\n",
       "        -2.06238948e+00,  -3.25138519e+00,   5.34815304e-01,\n",
       "        -7.29244798e-01,   1.24778744e+00,  -1.79796827e+00,\n",
       "         3.57168347e-01,   4.38950667e+00,  -2.47079994e-01,\n",
       "        -4.44036239e-01,   4.00653199e-03,  -1.32601771e-01,\n",
       "        -7.25555456e-01,  -9.36581258e-01,  -7.26991767e-01,\n",
       "        -2.47187019e-02,  -8.15138585e-01,  -5.96069204e-01,\n",
       "        -4.06421840e-01,  -1.29603739e+00,   2.62093910e+00,\n",
       "        -1.41042745e+00,   5.01047492e-02,  -8.54950850e-01,\n",
       "         6.48841608e-01,   4.70585209e-01,   4.64475723e-01,\n",
       "        -1.00134994e+00,   4.07448817e-01,  -6.24820821e-01,\n",
       "         3.46320618e-03,  -1.24408228e-01,   5.87913166e-01,\n",
       "        -1.90685411e-01,   2.16592737e+00,  -8.05882949e-01,\n",
       "        -6.56659067e-03,  -1.72516337e+00,  -7.86080112e-01,\n",
       "        -5.69435762e-01,  -8.34739461e-01,  -2.75428560e-01,\n",
       "        -2.90788478e+00,  -8.64542634e-01,  -9.42324863e-01,\n",
       "        -7.17722484e-01,   6.35186086e-01,   2.94831865e-01,\n",
       "         1.42781780e+00,  -4.20107010e-01,   1.35087991e-02,\n",
       "        -8.01286884e-02,   4.49150537e-01,  -1.28955018e+00,\n",
       "        -1.21081606e-01,   3.18948737e-02,  -8.58601733e-01,\n",
       "        -1.35611309e+00,   7.15538561e-01,   2.52549065e-01,\n",
       "         6.98793723e-01,   1.12958583e+00,  -1.75493299e+00,\n",
       "        -4.48366323e-01,  -9.18849849e-01,   1.46826088e-01,\n",
       "         4.20826409e-01,   3.07286399e-01,  -8.28890313e-01,\n",
       "        -1.42124659e+00,   2.41879011e-02,  -2.97073763e-01,\n",
       "         2.10402371e+00,   1.28379601e+00,   1.24525420e+00,\n",
       "        -8.35210186e-01,   1.48834469e+00,  -9.49117438e-01,\n",
       "        -4.34436602e-01,   4.64467677e-01,  -1.10656707e-01,\n",
       "        -1.44555508e-01,  -1.20646429e+00,  -2.68233295e-01,\n",
       "         4.99181855e-01,  -5.91517017e-01,  -3.42555203e-01,\n",
       "         3.13065261e-01,   1.85453128e+00,  -3.06501056e+00,\n",
       "         1.69925180e-02,  -2.43840922e-01,  -4.39339540e-01,\n",
       "        -1.59664752e+00,  -9.10971777e-01,   1.55369233e+00,\n",
       "        -1.26352426e+00,  -1.64931030e-01,   2.47932601e+00,\n",
       "         4.41420920e-01,   7.36541255e-02,   2.84967339e-01,\n",
       "        -2.48854940e+00,  -1.34341944e+00,  -1.18922270e-01,\n",
       "         7.01809284e-01,   4.00326493e-01,  -5.78350715e-01,\n",
       "        -4.61523320e-01,  -1.58266410e+00,   2.57828630e-02,\n",
       "        -3.86025588e-01,  -4.42692872e-02,   2.28149576e+00,\n",
       "         4.79687905e-01,  -1.02672372e+00,   1.81411048e+00,\n",
       "         1.82389201e+00,  -1.49171604e+00,   6.55736337e-01,\n",
       "         5.75518278e-01,  -1.38531702e-01,   1.22989788e+00,\n",
       "         8.99355366e-01,   3.46551534e-01,   3.85051534e-01,\n",
       "        -3.98935096e-02,   4.36484830e-01,  -1.49437494e+00,\n",
       "        -4.00984623e-01,   2.11485602e-02,  -1.51692752e-01,\n",
       "         1.40886362e+00,  -1.57637300e+00,  -2.52255994e-01,\n",
       "         7.34173024e-01,  -6.04850017e-01,   6.51187686e-01,\n",
       "         7.91696222e-01,   1.94888368e+00,  -1.22657768e+00,\n",
       "        -7.27141421e-02,  -5.94371602e-01,   1.61803395e-01,\n",
       "        -1.26369053e+00,   1.39438729e+00,   1.04190898e+00,\n",
       "        -1.57085708e+00,  -2.51406510e+00,  -7.22040259e-02,\n",
       "         1.37423275e-03,  -1.88029777e-01,   1.47490857e+00,\n",
       "         9.37361395e-02,  -2.20292423e-02,   5.90967978e-01,\n",
       "        -2.79466787e-01,   3.04609314e-01,   7.62058296e-01,\n",
       "        -1.39323567e+00,   2.43905809e-01,  -4.12737342e-01,\n",
       "         2.54309538e+00,   9.33988786e-01,   1.77801370e-01,\n",
       "        -5.12544716e-01,  -4.81882274e-01,   1.96185230e+00,\n",
       "         9.22594221e-01,   5.75648402e-01,  -6.99074733e-02,\n",
       "        -3.69876920e-01,   1.13769876e+00,  -1.64362508e+00,\n",
       "        -2.67482225e-01,   9.00346266e-02,   1.40930754e+00,\n",
       "        -3.99766638e-01,   9.88252988e-02,  -6.38881014e-01,\n",
       "         1.21566407e+00,  -1.12129592e+00,  -8.03318854e-02,\n",
       "        -4.85642184e-01,   1.12658488e-02,  -6.45657279e-02,\n",
       "         1.26488362e+00,  -2.09023201e+00,   1.13290667e+00,\n",
       "         1.28180867e+00,  -2.09311954e-02,  -2.95139355e-02,\n",
       "         1.71783977e-01,  -1.64722283e+00,  -2.15479157e-01,\n",
       "        -2.45286022e+00,   1.65614661e+00,   2.56075778e-01,\n",
       "        -6.63208941e-01,  -1.97233260e+00,  -9.45199559e-02,\n",
       "        -1.13809664e-01,   1.77906975e+00,   7.16509960e-01,\n",
       "         1.56941372e+00,   1.56990389e+00,  -1.53891827e+00,\n",
       "         5.27989057e-01,   2.16138824e+00,   9.81701343e-02,\n",
       "         1.28789437e-03,   4.47512888e-02,  -5.25679548e-01,\n",
       "        -1.07214936e+00,   5.55050117e-01,   4.61241958e-01,\n",
       "        -1.36902345e+00,   1.83851463e+00,   5.47458776e-01,\n",
       "        -3.40407504e+00,   2.63613353e-01,   2.41449170e+00,\n",
       "        -4.16248510e-01,  -1.90529860e+00,  -1.13535500e+00,\n",
       "        -5.99401423e-01,  -1.62723688e+00,   8.76893096e-01,\n",
       "         8.57490128e-01,  -1.01461776e-01,   1.11184287e-05,\n",
       "         1.57007787e-03,  -6.86997675e-03,  -8.88392047e-03,\n",
       "        -2.17813793e+00,  -2.68874674e+00,  -3.95683530e+00,\n",
       "        -2.34409110e+00,  -8.87049145e-01,  -1.01288108e+00,\n",
       "         5.74150073e-01,   2.28200376e+00,  -9.70426990e-01,\n",
       "        -1.97774426e-01,  -4.50353286e-01,  -1.58764343e+00,\n",
       "        -3.22263907e-01,  -4.40211921e-01,  -8.93812764e-02,\n",
       "         8.44040043e-03,  -6.13298194e-07,  -2.34829276e-04,\n",
       "         1.01739151e-02,  -4.37368058e-02,  -2.75547381e-01,\n",
       "        -5.49315146e-01,  -5.54655824e-01,  -5.48738858e-01,\n",
       "        -1.60765649e-01,   7.27630096e-02,   2.09423271e-02,\n",
       "        -3.92248342e-01,  -7.47319251e-01,  -3.64027877e-01,\n",
       "        -3.97329988e-01,  -1.58409083e-01,   3.65190601e-02,\n",
       "         1.27866840e-02,  -8.11721680e-04,   7.76901177e-05,\n",
       "         0.00000000e+00,  -1.23954907e-05,  -2.32737339e-05,\n",
       "         9.00885933e-04,   9.42790136e-03,   4.36743860e-02,\n",
       "         4.38532056e-02,   4.21615857e-02,   1.53372835e-02,\n",
       "        -1.00778731e-02,   7.78665559e-02,   1.59580542e-01,\n",
       "        -8.90287926e-03,  -2.78744251e-01,  -1.00649244e-02,\n",
       "        -4.65797617e-02,   3.52679824e-03,  -7.13803499e-05,\n",
       "         6.83367055e-07,   0.00000000e+00])"
      ]
     },
     "execution_count": 78,
     "metadata": {},
     "output_type": "execute_result"
    }
   ],
   "source": [
    "print(y )\n",
    "print( (y == 3).astype('float32') )\n",
    "optimize.fmin_cg(lrCostFunction, np.zeros( X.shape[1]+1) ,args=(X, (y==3).astype('float32'), .1))"
   ]
  },
  {
   "cell_type": "code",
   "execution_count": 46,
   "metadata": {
    "collapsed": false
   },
   "outputs": [
    {
     "data": {
      "text/plain": [
       "(2,)"
      ]
     },
     "execution_count": 46,
     "metadata": {},
     "output_type": "execute_result"
    }
   ],
   "source": [
    "np.asarray((0,0)).shape"
   ]
  },
  {
   "cell_type": "markdown",
   "metadata": {},
   "source": [
    "# Neural Networks"
   ]
  },
  {
   "cell_type": "code",
   "execution_count": 81,
   "metadata": {
    "collapsed": true
   },
   "outputs": [],
   "source": [
    "ex3weightsdata = scipy.io.loadmat('./coursera_Ng/machine-learning-ex3/ex3/ex3weights.mat')"
   ]
  },
  {
   "cell_type": "markdown",
   "metadata": {},
   "source": [
    "## Feedforward Propagation and Prediction"
   ]
  },
  {
   "cell_type": "markdown",
   "metadata": {},
   "source": [
    "cf. 2.2 Feedforward Propagation and Prediction, `ex3.pdf`"
   ]
  },
  {
   "cell_type": "code",
   "execution_count": 115,
   "metadata": {
    "collapsed": false
   },
   "outputs": [
    {
     "name": "stdout",
     "output_type": "stream",
     "text": [
      "(25, 401)\n",
      "(10, 26)\n"
     ]
    }
   ],
   "source": [
    "Theta1 = ex3weightsdata['Theta1']\n",
    "Theta2 = ex3weightsdata['Theta2']\n",
    "print( Theta1.shape )\n",
    "print( Theta2.shape )\n"
   ]
  },
  {
   "cell_type": "code",
   "execution_count": null,
   "metadata": {
    "collapsed": true
   },
   "outputs": [],
   "source": [
    "a = []\n",
    "a.append( )"
   ]
  },
  {
   "cell_type": "code",
   "execution_count": 125,
   "metadata": {
    "collapsed": true
   },
   "outputs": [],
   "source": [
    "def predict(Theta1, Theta2, X):\n",
    "    \"\"\"\n",
    "    PREDICT predict the label of an input given a trained neural network  \n",
    "    p = PREDICT(Theta1, Theta2, X) outputs the predicted label of X given the \n",
    "    trained weights of a neural network (Theta1, Theta2)\n",
    "\n",
    "    PARAMETERS\n",
    "    ==========\n",
    "    Theta1\n",
    "    @type numpy array of size dims. s_2 x (d+1), where s_2 is the number of \"units\" of \"hidden layer\", layer 2, with d = number of features\n",
    "    @param Theta1\n",
    "    \n",
    "    Theta2\n",
    "    @type numpy array of size dims. M x (s_2 + 1), M=number of output classes\n",
    "    @param Theta2\n",
    "    \"\"\"\n",
    "    \n",
    "    # Useful values \n",
    "    m = X.shape[0] # total number of training examples, m\n",
    "    num_labels = Theta2.shape[0] # number of classes, i.e. output y \\in \\lbrace 1, \\dots, num_labels \\rbrace\n",
    "    \n",
    "    ## assume preprocessing is needed (in the case when using pandas for DataFrame, only column of 1 is needed)\n",
    "    input_X = np.hstack( (np.ones((m,1)), X)) # size dims. (m,d+1) i.e. m x (d+1)\n",
    "    \n",
    "    a_lst = [] # \"activation\"\n",
    "    a =  input_X  # a_0^{(1)} already added in input_X step as a_0^{(1)}=1, # a of size dims. (m,d+1)i.e. m x (d+1)\n",
    "    a_lst.append(a)\n",
    "    \n",
    "    z = np.dot( Theta1, a.T ) # size dims. s_2 x m\n",
    "    a = sigmoid(z)  \n",
    "    a = np.vstack( ( np.ones((1,m)), a)) # size dims. (s_2 +1) x m i.e. ((s_2+1),m)\n",
    "    a_lst.append(a) \n",
    "    \n",
    "    z = np.dot( Theta2, a)\n",
    "    a = sigmoid(z)\n",
    "    \n",
    "    predicted_vals = np.argmax( a, axis =0)\n",
    "    predicted_vals_p1 = predicted_vals + 1 # add 1 to \"scale\" outputs to predict y, since Python/numpy counts from 0\n",
    "    return predicted_vals_p1\n",
    "        "
   ]
  },
  {
   "cell_type": "code",
   "execution_count": 128,
   "metadata": {
    "collapsed": false
   },
   "outputs": [
    {
     "name": "stdout",
     "output_type": "stream",
     "text": [
      "(5000,)\n"
     ]
    },
    {
     "data": {
      "text/html": [
       "<div>\n",
       "<table border=\"1\" class=\"dataframe\">\n",
       "  <thead>\n",
       "    <tr style=\"text-align: right;\">\n",
       "      <th></th>\n",
       "      <th>0</th>\n",
       "    </tr>\n",
       "  </thead>\n",
       "  <tbody>\n",
       "    <tr>\n",
       "      <th>count</th>\n",
       "      <td>5000.000000</td>\n",
       "    </tr>\n",
       "    <tr>\n",
       "      <th>mean</th>\n",
       "      <td>5.504000</td>\n",
       "    </tr>\n",
       "    <tr>\n",
       "      <th>std</th>\n",
       "      <td>2.874933</td>\n",
       "    </tr>\n",
       "    <tr>\n",
       "      <th>min</th>\n",
       "      <td>1.000000</td>\n",
       "    </tr>\n",
       "    <tr>\n",
       "      <th>25%</th>\n",
       "      <td>3.000000</td>\n",
       "    </tr>\n",
       "    <tr>\n",
       "      <th>50%</th>\n",
       "      <td>6.000000</td>\n",
       "    </tr>\n",
       "    <tr>\n",
       "      <th>75%</th>\n",
       "      <td>8.000000</td>\n",
       "    </tr>\n",
       "    <tr>\n",
       "      <th>max</th>\n",
       "      <td>10.000000</td>\n",
       "    </tr>\n",
       "  </tbody>\n",
       "</table>\n",
       "</div>"
      ],
      "text/plain": [
       "                 0\n",
       "count  5000.000000\n",
       "mean      5.504000\n",
       "std       2.874933\n",
       "min       1.000000\n",
       "25%       3.000000\n",
       "50%       6.000000\n",
       "75%       8.000000\n",
       "max      10.000000"
      ]
     },
     "execution_count": 128,
     "metadata": {},
     "output_type": "execute_result"
    }
   ],
   "source": [
    "predict_nn = predict(Theta1,Theta2, X) \n",
    "print( predict_nn.shape)\n",
    "pd.DataFrame(predict_nn).describe()"
   ]
  },
  {
   "cell_type": "code",
   "execution_count": 129,
   "metadata": {
    "collapsed": false
   },
   "outputs": [
    {
     "data": {
      "text/plain": [
       "0.97519999999999996"
      ]
     },
     "execution_count": 129,
     "metadata": {},
     "output_type": "execute_result"
    }
   ],
   "source": [
    "sum( [predict_nn[j]==y[j] for j in range(len(y))] )[0]/ float( len(y) )\n"
   ]
  },
  {
   "cell_type": "code",
   "execution_count": 122,
   "metadata": {
    "collapsed": false
   },
   "outputs": [
    {
     "name": "stdout",
     "output_type": "stream",
     "text": [
      "5000\n",
      "10\n",
      "(10, 5000)\n"
     ]
    }
   ],
   "source": [
    "m = X.shape[0]; print(m)  \n",
    "num_labels = Theta2.shape[0]; print( num_labels )\n",
    "input_X = np.hstack( (np.ones( (m,1)), X))\n",
    "a_lst = []\n",
    "a = input_X\n",
    "a_lst.append(a)\n",
    "\n",
    "z=np.dot( Theta1, a.T)\n",
    "a=sigmoid(z)\n",
    "a=np.vstack(( np.ones((1,m)),a)) \n",
    "a_lst.append(a)\n",
    "\n",
    "z = np.dot( Theta2, a)\n",
    "a=sigmoid(z) ; print a.shape\n"
   ]
  },
  {
   "cell_type": "code",
   "execution_count": 124,
   "metadata": {
    "collapsed": false
   },
   "outputs": [
    {
     "name": "stdout",
     "output_type": "stream",
     "text": [
      "(5000,)\n"
     ]
    },
    {
     "data": {
      "text/html": [
       "<div>\n",
       "<table border=\"1\" class=\"dataframe\">\n",
       "  <thead>\n",
       "    <tr style=\"text-align: right;\">\n",
       "      <th></th>\n",
       "      <th>0</th>\n",
       "    </tr>\n",
       "  </thead>\n",
       "  <tbody>\n",
       "    <tr>\n",
       "      <th>count</th>\n",
       "      <td>5000.000000</td>\n",
       "    </tr>\n",
       "    <tr>\n",
       "      <th>mean</th>\n",
       "      <td>4.504000</td>\n",
       "    </tr>\n",
       "    <tr>\n",
       "      <th>std</th>\n",
       "      <td>2.874933</td>\n",
       "    </tr>\n",
       "    <tr>\n",
       "      <th>min</th>\n",
       "      <td>0.000000</td>\n",
       "    </tr>\n",
       "    <tr>\n",
       "      <th>25%</th>\n",
       "      <td>2.000000</td>\n",
       "    </tr>\n",
       "    <tr>\n",
       "      <th>50%</th>\n",
       "      <td>5.000000</td>\n",
       "    </tr>\n",
       "    <tr>\n",
       "      <th>75%</th>\n",
       "      <td>7.000000</td>\n",
       "    </tr>\n",
       "    <tr>\n",
       "      <th>max</th>\n",
       "      <td>9.000000</td>\n",
       "    </tr>\n",
       "  </tbody>\n",
       "</table>\n",
       "</div>"
      ],
      "text/plain": [
       "                 0\n",
       "count  5000.000000\n",
       "mean      4.504000\n",
       "std       2.874933\n",
       "min       0.000000\n",
       "25%       2.000000\n",
       "50%       5.000000\n",
       "75%       7.000000\n",
       "max       9.000000"
      ]
     },
     "execution_count": 124,
     "metadata": {},
     "output_type": "execute_result"
    }
   ],
   "source": [
    "print( np.argmax( a,axis=0).shape ) \n",
    "pd.DataFrame( np.argmax(a,axis=0) ).describe()"
   ]
  },
  {
   "cell_type": "markdown",
   "metadata": {},
   "source": [
    "cf. `nnCostFunction.m`"
   ]
  },
  {
   "cell_type": "code",
   "execution_count": 137,
   "metadata": {
    "collapsed": false
   },
   "outputs": [
    {
     "name": "stdout",
     "output_type": "stream",
     "text": [
      "Loading and Visualizing Data ... \n",
      "\n"
     ]
    }
   ],
   "source": [
    "## ==================== Part 1: Loading and Visualizing Data ==============================  \n",
    "# We start the exercise by first loading and visualizing the dataset.  \n",
    "# You will be working with a dataset that contains handwritten digits.  \n",
    "#  \n",
    "\n",
    "# Load Training Data\n",
    "print(\"Loading and Visualizing Data ... \\n\")\n",
    "ex4data1 = scipy.io.loadmat('./coursera_Ng/machine-learning-ex4/ex4/ex4data1.mat')"
   ]
  },
  {
   "cell_type": "code",
   "execution_count": 142,
   "metadata": {
    "collapsed": false
   },
   "outputs": [
    {
     "data": {
      "text/plain": [
       "array([[ True],\n",
       "       [ True],\n",
       "       [ True],\n",
       "       ..., \n",
       "       [ True],\n",
       "       [ True],\n",
       "       [ True]], dtype=bool)"
      ]
     },
     "execution_count": 142,
     "metadata": {},
     "output_type": "execute_result"
    }
   ],
   "source": [
    "ex4data1['X'] == X\n",
    "ex4data1['y'] == y"
   ]
  },
  {
   "cell_type": "code",
   "execution_count": 152,
   "metadata": {
    "collapsed": false
   },
   "outputs": [
    {
     "data": {
      "text/plain": [
       "(5000, 1)"
      ]
     },
     "execution_count": 152,
     "metadata": {},
     "output_type": "execute_result"
    }
   ],
   "source": [
    "ex4data1['y'].shape"
   ]
  },
  {
   "cell_type": "markdown",
   "metadata": {},
   "source": [
    "`ex4.m`"
   ]
  },
  {
   "cell_type": "code",
   "execution_count": 136,
   "metadata": {
    "collapsed": true
   },
   "outputs": [],
   "source": [
    "# Load the weights into variables Theta1 and Theta2"
   ]
  },
  {
   "cell_type": "code",
   "execution_count": 130,
   "metadata": {
    "collapsed": true
   },
   "outputs": [],
   "source": [
    "ex4weightsdata = scipy.io.loadmat('./coursera_Ng/machine-learning-ex4/ex4/ex4weights.mat')"
   ]
  },
  {
   "cell_type": "code",
   "execution_count": 135,
   "metadata": {
    "collapsed": false
   },
   "outputs": [],
   "source": [
    "Theta1 = ex4weightsdata['Theta1'] \n",
    "Theta2 = ex4weightsdata['Theta2'] \n"
   ]
  },
  {
   "cell_type": "code",
   "execution_count": 143,
   "metadata": {
    "collapsed": false
   },
   "outputs": [
    {
     "name": "stdout",
     "output_type": "stream",
     "text": [
      "(25, 401)\n",
      "(10, 26)\n"
     ]
    }
   ],
   "source": [
    "print( Theta1.shape )  # size dims. s_2 x ( d+1)\n",
    "print( Theta2.shape )  # size dims. M x (s_2 + 1)\n"
   ]
  },
  {
   "cell_type": "code",
   "execution_count": 144,
   "metadata": {
    "collapsed": false
   },
   "outputs": [
    {
     "name": "stdout",
     "output_type": "stream",
     "text": [
      "\n",
      " Feedforward Using Neural Network ... \n",
      "\n"
     ]
    }
   ],
   "source": [
    "## ==================== Part 3: Compute Cost (Feedforward) ===================================\n",
    "# To the neural network, you should first start by implementing the \n",
    "# feedforward part of the neural network that returns the cost only.  You \n",
    "# should complete the code in nnCostFunction.m to return cost.  After \n",
    "# implementing the feedforward to compute the cost, you can verify that \n",
    "# your implementation is correct by verifying that you get the same cost \n",
    "# as us for the fixed debugging parameters.  \n",
    "\n",
    "print(\"\\n Feedforward Using Neural Network ... \\n\")\n",
    "\n",
    "# Weight regularization parameter (we set this to 0 here).\n",
    "lambda_val = 0 \n",
    "\n",
    "input_layer_size = 400 # 20x20 Input Images of digits\n",
    "hidden_layer_size = 25; # 25 hidden units\n",
    "num_labels = 10 \n"
   ]
  },
  {
   "cell_type": "markdown",
   "metadata": {},
   "source": [
    "cf. 1.3. Feedforward and cost function `ex4.pdf` "
   ]
  },
  {
   "cell_type": "code",
   "execution_count": 211,
   "metadata": {
    "collapsed": true
   },
   "outputs": [],
   "source": [
    "def nnCostFunction( Theta1, Theta2, input_layer_size, hidden_layer_size, num_labels, X,y, lambda_val):\n",
    "    \"\"\"\n",
    "    NNCOSTFUNCTION Implements the neural network cost function for a two layer \n",
    "    neural network which performs classification  \n",
    "    [J grad] = NNCOSTFUNCTION(Theta1, Theta2, input_layer_size, hidden_layer_size, num_labels,X,y, lambda_val) \n",
    "    computes the cost and gradient of the neural network.  The parameters for the neural network are \"unrolled\" \n",
    "    into the vector nn_params and need to be converted back into the weight matrices.  \n",
    "        \n",
    "    \"\"\"\n",
    "    \n",
    "    # Useful values \n",
    "    m = X.shape[0] # total number of training examples, m\n",
    "    #num_labels = Theta2.shape[0] # number of classes, i.e. output y \\in \\lbrace 1, \\dots, num_labels \\rbrace\n",
    "    d = input_layer_size \n",
    "    K = num_labels\n",
    "    \n",
    "    ## assume preprocessing is needed (in the case when using pandas for DataFrame, only column of 1 is needed)\n",
    "    input_X = np.hstack( (np.ones((m,1)), X)) # size dims. (m,d+1) i.e. m x (d+1)\n",
    "    \n",
    "    a_lst = [] # \"activation\"\n",
    "    a =  input_X  # a_0^{(1)} already added in input_X step as a_0^{(1)}=1, # a of size dims. (m,d+1)i.e. m x (d+1)\n",
    "    a_lst.append(a)\n",
    "    \n",
    "    z = np.dot( Theta1, a.T ) # size dims. s_2 x m\n",
    "    a = sigmoid(z)  \n",
    "    a = np.vstack( ( np.ones((1,m)), a)) # size dims. (s_2 +1) x m i.e. ((s_2+1),m)\n",
    "    a_lst.append(a) \n",
    "    \n",
    "    z = np.dot( Theta2, a)\n",
    "    a = sigmoid(z)  # size dims. Kxm\n",
    "    \n",
    "    # recall that whereas the original labels (in the variable y) were 1, 2, ..., 10, for the purpose of training a \n",
    "    # neural network, we need to recode the labels as vectors containing only values 0 or 1\n",
    "    y_prob = [np.zeros(K) for row in y]  # list of 5000 numpy arrays of size dims. (10,)\n",
    "    for i in range( m):\n",
    "        y_prob[i][ y[i]-1] = 1\n",
    "    y_prob = np.array(y_prob)  # size dims. (m,K)\n",
    "    \n",
    "    # cost function for the neural network (without regularization)\n",
    "    J_theta = (-np.dot( np.log( a) ,y_prob).trace() - np.dot( np.log(1-a),(1-y_prob)).trace() )/m\n",
    "    \n",
    "    # cost function with regularization\n",
    "    reg_term = lambda_val / (2. * m) * ( np.sum(Theta1[:,1:] * Theta1[:,1:]) + np.sum(Theta2[:,1:] * Theta2[:,1:]) )\n",
    "    J_theta += reg_term \n",
    "    \n",
    "    return a, J_theta"
   ]
  },
  {
   "cell_type": "markdown",
   "metadata": {},
   "source": [
    "cf. 1.4 Regularized cost function\n",
    "\n",
    "cost function for neural networks with regularization given by\n",
    "\n",
    "$$   \n",
    "J(\\theta} = \\frac{1}{m} \\sum_{i=1}^m \\sum_{k=1}^K   \n",
    "$$   \n",
    "\n",
    "$$     \n",
    "J(\\theta} = \\frac{1}{m} \\sum_{i=1}^m \\sum_{k=1}^K \\left[ -y_k^{(i)} \\log{ (( h_{\\theta}(x^{(i)} ) )_k ) } - (1-y^{(i)}_k ) \\log{ (1- (h_{\\theta}(x^{(i)}))_k ) } \\right]   \n",
    "$$   \n"
   ]
  },
  {
   "cell_type": "code",
   "execution_count": 214,
   "metadata": {
    "collapsed": false
   },
   "outputs": [
    {
     "name": "stdout",
     "output_type": "stream",
     "text": [
      "(10, 5000)\n"
     ]
    },
    {
     "data": {
      "text/plain": [
       "0.38376985909092354"
      ]
     },
     "execution_count": 214,
     "metadata": {},
     "output_type": "execute_result"
    }
   ],
   "source": [
    "a_test, J_theta_test = nnCostFunction(Theta1,Theta2,input_layer_size,hidden_layer_size,num_labels,X,y,1.)\n",
    "print( a_test.shape) \n",
    "J_theta_test"
   ]
  },
  {
   "cell_type": "code",
   "execution_count": null,
   "metadata": {
    "collapsed": true
   },
   "outputs": [],
   "source": []
  },
  {
   "cell_type": "code",
   "execution_count": 151,
   "metadata": {
    "collapsed": false
   },
   "outputs": [
    {
     "data": {
      "text/plain": [
       "(5000, 1)"
      ]
     },
     "execution_count": 151,
     "metadata": {},
     "output_type": "execute_result"
    }
   ],
   "source": [
    "y.shape"
   ]
  },
  {
   "cell_type": "code",
   "execution_count": 154,
   "metadata": {
    "collapsed": false
   },
   "outputs": [
    {
     "data": {
      "text/html": [
       "<div>\n",
       "<table border=\"1\" class=\"dataframe\">\n",
       "  <thead>\n",
       "    <tr style=\"text-align: right;\">\n",
       "      <th></th>\n",
       "      <th>0</th>\n",
       "    </tr>\n",
       "  </thead>\n",
       "  <tbody>\n",
       "    <tr>\n",
       "      <th>count</th>\n",
       "      <td>5000.000000</td>\n",
       "    </tr>\n",
       "    <tr>\n",
       "      <th>mean</th>\n",
       "      <td>5.500000</td>\n",
       "    </tr>\n",
       "    <tr>\n",
       "      <th>std</th>\n",
       "      <td>2.872569</td>\n",
       "    </tr>\n",
       "    <tr>\n",
       "      <th>min</th>\n",
       "      <td>1.000000</td>\n",
       "    </tr>\n",
       "    <tr>\n",
       "      <th>25%</th>\n",
       "      <td>3.000000</td>\n",
       "    </tr>\n",
       "    <tr>\n",
       "      <th>50%</th>\n",
       "      <td>5.500000</td>\n",
       "    </tr>\n",
       "    <tr>\n",
       "      <th>75%</th>\n",
       "      <td>8.000000</td>\n",
       "    </tr>\n",
       "    <tr>\n",
       "      <th>max</th>\n",
       "      <td>10.000000</td>\n",
       "    </tr>\n",
       "  </tbody>\n",
       "</table>\n",
       "</div>"
      ],
      "text/plain": [
       "                 0\n",
       "count  5000.000000\n",
       "mean      5.500000\n",
       "std       2.872569\n",
       "min       1.000000\n",
       "25%       3.000000\n",
       "50%       5.500000\n",
       "75%       8.000000\n",
       "max      10.000000"
      ]
     },
     "execution_count": 154,
     "metadata": {},
     "output_type": "execute_result"
    }
   ],
   "source": [
    "#pd.DataFrame( a_test ).describe()\n",
    "pd.DataFrame( y).describe()"
   ]
  },
  {
   "cell_type": "code",
   "execution_count": 164,
   "metadata": {
    "collapsed": false
   },
   "outputs": [
    {
     "ename": "IndentationError",
     "evalue": "expected an indented block (<ipython-input-164-19ec9dcac87b>, line 5)",
     "output_type": "error",
     "traceback": [
      "\u001b[1;36m  File \u001b[1;32m\"<ipython-input-164-19ec9dcac87b>\"\u001b[1;36m, line \u001b[1;32m5\u001b[0m\n\u001b[1;33m    y_prob[i][ y[i]-1 ] = 1\u001b[0m\n\u001b[1;37m         ^\u001b[0m\n\u001b[1;31mIndentationError\u001b[0m\u001b[1;31m:\u001b[0m expected an indented block\n"
     ]
    }
   ],
   "source": [
    "    # recall that whereas the original labels (in the variable y) were 1, 2, ..., 10, for the purpose of training a \n",
    "    # neural network, we need to recode the labels as vectors containing only values 0 or 1\n",
    "y_prob = [ np.zeros( Theta2.shape[0] ) for row in y]; \n",
    "\n",
    "    "
   ]
  },
  {
   "cell_type": "code",
   "execution_count": 163,
   "metadata": {
    "collapsed": false
   },
   "outputs": [
    {
     "name": "stdout",
     "output_type": "stream",
     "text": [
      "5000\n"
     ]
    },
    {
     "data": {
      "text/plain": [
       "0.0"
      ]
     },
     "execution_count": 163,
     "metadata": {},
     "output_type": "execute_result"
    }
   ],
   "source": [
    "print( len( [0 for row in y] ) )\n",
    "[0 for row in y][:10]\n",
    "y_prob[2][ 3]"
   ]
  },
  {
   "cell_type": "code",
   "execution_count": 165,
   "metadata": {
    "collapsed": true
   },
   "outputs": [],
   "source": [
    "for i in range( y.shape[0]):\n",
    "    y_prob[i][ y[i]-1 ] = 1"
   ]
  },
  {
   "cell_type": "code",
   "execution_count": 170,
   "metadata": {
    "collapsed": false
   },
   "outputs": [
    {
     "data": {
      "text/plain": [
       "array([ 1.,  0.,  0.,  0.,  0.,  0.,  0.,  0.,  0.,  0.])"
      ]
     },
     "execution_count": 170,
     "metadata": {},
     "output_type": "execute_result"
    }
   ],
   "source": [
    "y_prob[800]"
   ]
  },
  {
   "cell_type": "code",
   "execution_count": 173,
   "metadata": {
    "collapsed": false
   },
   "outputs": [
    {
     "name": "stdout",
     "output_type": "stream",
     "text": [
      "<type 'list'>\n",
      "5000\n"
     ]
    }
   ],
   "source": [
    "print( type(y_prob) )\n",
    "print( len(y_prob))\n"
   ]
  },
  {
   "cell_type": "code",
   "execution_count": 174,
   "metadata": {
    "collapsed": false
   },
   "outputs": [
    {
     "name": "stdout",
     "output_type": "stream",
     "text": [
      "(5000, 10)\n"
     ]
    }
   ],
   "source": [
    "y_prob = np.array( y_prob)\n",
    "print(y_prob.shape)"
   ]
  },
  {
   "cell_type": "code",
   "execution_count": 176,
   "metadata": {
    "collapsed": false
   },
   "outputs": [
    {
     "data": {
      "text/plain": [
       "(10, 10)"
      ]
     },
     "execution_count": 176,
     "metadata": {},
     "output_type": "execute_result"
    }
   ],
   "source": [
    "np.dot( a_test, y_prob).shape"
   ]
  },
  {
   "cell_type": "code",
   "execution_count": 177,
   "metadata": {
    "collapsed": false
   },
   "outputs": [
    {
     "data": {
      "text/plain": [
       "4462.2367016447206"
      ]
     },
     "execution_count": 177,
     "metadata": {},
     "output_type": "execute_result"
    }
   ],
   "source": [
    "np.dot( a_test,y_prob).trace()"
   ]
  },
  {
   "cell_type": "code",
   "execution_count": 187,
   "metadata": {
    "collapsed": false
   },
   "outputs": [
    {
     "data": {
      "text/plain": [
       "0.28762916516131881"
      ]
     },
     "execution_count": 187,
     "metadata": {},
     "output_type": "execute_result"
    }
   ],
   "source": [
    "#   interpolation = - np.dot( y.T, np.log( predicted_vals) ) - np.dot( (1. -y).T, np.log( 1. - predicted_vals ))  # matrix size or dim. of (1,), i.e. dim(interpolation) = 1x0 \n",
    "J_theta_test "
   ]
  },
  {
   "cell_type": "code",
   "execution_count": 189,
   "metadata": {
    "collapsed": false
   },
   "outputs": [
    {
     "data": {
      "text/plain": [
       "(5000, 10)"
      ]
     },
     "execution_count": 189,
     "metadata": {},
     "output_type": "execute_result"
    }
   ],
   "source": [
    "y_prob_test = [np.zeros(10) for row in y] \n",
    "y_prob_test = np.array(y_prob_test)\n",
    "y_prob_test.shape"
   ]
  },
  {
   "cell_type": "code",
   "execution_count": 195,
   "metadata": {
    "collapsed": false
   },
   "outputs": [
    {
     "name": "stdout",
     "output_type": "stream",
     "text": [
      "(25, 401)\n"
     ]
    },
    {
     "data": {
      "text/plain": [
       "array([  2.80464449e-09,   3.54422854e-09,  -7.50668099e-09,\n",
       "         9.88743624e-09,  -2.17660926e-09,  -5.65769223e-10,\n",
       "        -6.85497348e-09,   1.09306392e-08,  -5.53086493e-09,\n",
       "        -9.87939616e-09,  -1.14469783e-08,   7.54636865e-09,\n",
       "        -1.15907303e-08,  -7.19708025e-09,  -2.44750386e-09,\n",
       "         4.70751932e-09,   5.38650929e-09,  -2.70151807e-09,\n",
       "        -1.25020872e-09,  -5.07039401e-09,  -1.06266187e-08,\n",
       "        -5.76832642e-09,   9.02499060e-09,   3.83761998e-09,\n",
       "         8.79454531e-09])"
      ]
     },
     "execution_count": 195,
     "metadata": {},
     "output_type": "execute_result"
    }
   ],
   "source": [
    "print( Theta1.shape )  \n",
    "Theta1[:,-1]"
   ]
  },
  {
   "cell_type": "code",
   "execution_count": 197,
   "metadata": {
    "collapsed": false
   },
   "outputs": [
    {
     "data": {
      "text/plain": [
       "392.58414242768441"
      ]
     },
     "execution_count": 197,
     "metadata": {},
     "output_type": "execute_result"
    }
   ],
   "source": [
    "np.sum(Theta1[:,1:] * Theta1[:,1:])"
   ]
  },
  {
   "cell_type": "code",
   "execution_count": 215,
   "metadata": {
    "collapsed": true
   },
   "outputs": [],
   "source": [
    "def sigmoidGradient(z):\n",
    "    \"\"\"\n",
    "    SIGMOIDGRADIENT returns the gradient of the sigmoid function\n",
    "    evaluated at z \n",
    "    g = SIGMOIDGRADIENT(z) computes the gradient of the sigmoid function\n",
    "    evaluated at z.  This should work regardless if z is a matrix or a vector.  \n",
    "    In particular, if z is a vector or matrix, you should return \n",
    "    the gradient for each element.\n",
    "    \"\"\"\n",
    "    \n",
    "    g = sigmoid(z) * (1 - sigmoid(z))\n",
    "    return g"
   ]
  },
  {
   "cell_type": "markdown",
   "metadata": {},
   "source": [
    "### 2.2 Random initialization  "
   ]
  },
  {
   "cell_type": "code",
   "execution_count": 216,
   "metadata": {
    "collapsed": true
   },
   "outputs": [],
   "source": [
    "# Randomly initialize the weights to small values\n",
    "epsilon_init = 0.12\n",
    "L_out = 400\n",
    "L_in  = 25\n",
    "W = np.random.uniform( low = -epsilon_init, high= epsilon_init, size=( L_in, L_out) )"
   ]
  },
  {
   "cell_type": "code",
   "execution_count": 217,
   "metadata": {
    "collapsed": false
   },
   "outputs": [
    {
     "data": {
      "text/plain": [
       "array([[ 0.11387494,  0.10825904, -0.05862312, ..., -0.03653143,\n",
       "        -0.00984598,  0.0441021 ],\n",
       "       [-0.04084698, -0.10457755, -0.10850295, ...,  0.09777939,\n",
       "        -0.06233072, -0.10533298],\n",
       "       [ 0.00756339, -0.08366756, -0.01818779, ..., -0.08049224,\n",
       "         0.04713733, -0.02094683],\n",
       "       ..., \n",
       "       [-0.03303414,  0.06758209, -0.04987128, ..., -0.01393263,\n",
       "         0.06834473,  0.01956991],\n",
       "       [-0.03629067,  0.03184446, -0.04743259, ...,  0.07479314,\n",
       "         0.08624374,  0.07143889],\n",
       "       [-0.06438495, -0.10779665,  0.0935957 , ...,  0.00025238,\n",
       "         0.08957451, -0.00090246]])"
      ]
     },
     "execution_count": 217,
     "metadata": {},
     "output_type": "execute_result"
    }
   ],
   "source": [
    "W"
   ]
  },
  {
   "cell_type": "code",
   "execution_count": 247,
   "metadata": {
    "collapsed": false
   },
   "outputs": [
    {
     "name": "stdout",
     "output_type": "stream",
     "text": [
      "(400,)\n",
      "(400, 1)\n",
      "(401, 1)\n",
      "(26, 1)\n",
      "(10, 1)\n"
     ]
    },
    {
     "data": {
      "text/plain": [
       "'\\n    a_lst = [] # \"activation\"\\n    a =  input_X  # a_0^{(1)} already added in input_X step as a_0^{(1)}=1, # a of size dims. (m,d+1)i.e. m x (d+1)\\n    a_lst.append(a)\\n    \\n    z = np.dot( Theta1, a.T ) # size dims. s_2 x m\\n    a = sigmoid(z)  \\n    a = np.vstack( ( np.ones((1,m)), a)) # size dims. (s_2 +1) x m i.e. ((s_2+1),m)\\n    a_lst.append(a) \\n    \\n    z = np.dot( Theta2, a)\\n    a = sigmoid(z)  # size dims. Kxm\\n    '"
      ]
     },
     "execution_count": 247,
     "metadata": {},
     "output_type": "execute_result"
    }
   ],
   "source": [
    "print( X[3].shape )\n",
    "print( np.vstack(X[3]).shape )\n",
    "\n",
    "a = np.vstack(  (np.ones( ( 1, np.vstack(X[3]).shape[1]) ) , np.vstack(X[3]) ) )\n",
    "print( a.shape)\n",
    "z = np.dot( Theta1,a)  # size dims. s_2 x 1\n",
    "a = sigmoid(z)\n",
    "a = np.vstack( ( np.ones((1,np.vstack(X[3]).shape[1])), a)) # size dims. (s_2 +1) x m i.e. ((s_2+1),m) with m =1\n",
    "print(a.shape)\n",
    "z = np.dot( Theta2, a)     # size dim Kx1\n",
    "a = sigmoid(z)  # size dim Kx1\n",
    "print(a.shape)\n",
    "\"\"\"\n",
    "    a_lst = [] # \"activation\"\n",
    "    a =  input_X  # a_0^{(1)} already added in input_X step as a_0^{(1)}=1, # a of size dims. (m,d+1)i.e. m x (d+1)\n",
    "    a_lst.append(a)\n",
    "    \n",
    "    z = np.dot( Theta1, a.T ) # size dims. s_2 x m\n",
    "    a = sigmoid(z)  \n",
    "    a = np.vstack( ( np.ones((1,m)), a)) # size dims. (s_2 +1) x m i.e. ((s_2+1),m)\n",
    "    a_lst.append(a) \n",
    "    \n",
    "    z = np.dot( Theta2, a)\n",
    "    a = sigmoid(z)  # size dims. Kxm\n",
    "    \"\"\""
   ]
  },
  {
   "cell_type": "code",
   "execution_count": 234,
   "metadata": {
    "collapsed": false
   },
   "outputs": [
    {
     "data": {
      "text/plain": [
       "(400, 1)"
      ]
     },
     "execution_count": 234,
     "metadata": {},
     "output_type": "execute_result"
    }
   ],
   "source": [
    "\n",
    "X[3].reshape( len(X[3]), 1).shape"
   ]
  },
  {
   "cell_type": "code",
   "execution_count": 225,
   "metadata": {
    "collapsed": false
   },
   "outputs": [
    {
     "ename": "TypeError",
     "evalue": "data type not understood",
     "output_type": "error",
     "traceback": [
      "\u001b[1;31m---------------------------------------------------------------------------\u001b[0m",
      "\u001b[1;31mTypeError\u001b[0m                                 Traceback (most recent call last)",
      "\u001b[1;32m<ipython-input-225-c21db559efc1>\u001b[0m in \u001b[0;36m<module>\u001b[1;34m()\u001b[0m\n\u001b[1;32m----> 1\u001b[1;33m \u001b[0mnp\u001b[0m\u001b[1;33m.\u001b[0m\u001b[0mones\u001b[0m\u001b[1;33m(\u001b[0m\u001b[1;36m5\u001b[0m\u001b[1;33m,\u001b[0m\u001b[1;36m2\u001b[0m\u001b[1;33m)\u001b[0m\u001b[1;33m\u001b[0m\u001b[0m\n\u001b[0m",
      "\u001b[1;32m/home/topolo/Public/anaconda2/lib/python2.7/site-packages/numpy/core/numeric.pyc\u001b[0m in \u001b[0;36mones\u001b[1;34m(shape, dtype, order)\u001b[0m\n\u001b[0;32m    188\u001b[0m \u001b[1;33m\u001b[0m\u001b[0m\n\u001b[0;32m    189\u001b[0m     \"\"\"\n\u001b[1;32m--> 190\u001b[1;33m     \u001b[0ma\u001b[0m \u001b[1;33m=\u001b[0m \u001b[0mempty\u001b[0m\u001b[1;33m(\u001b[0m\u001b[0mshape\u001b[0m\u001b[1;33m,\u001b[0m \u001b[0mdtype\u001b[0m\u001b[1;33m,\u001b[0m \u001b[0morder\u001b[0m\u001b[1;33m)\u001b[0m\u001b[1;33m\u001b[0m\u001b[0m\n\u001b[0m\u001b[0;32m    191\u001b[0m     \u001b[0mmultiarray\u001b[0m\u001b[1;33m.\u001b[0m\u001b[0mcopyto\u001b[0m\u001b[1;33m(\u001b[0m\u001b[0ma\u001b[0m\u001b[1;33m,\u001b[0m \u001b[1;36m1\u001b[0m\u001b[1;33m,\u001b[0m \u001b[0mcasting\u001b[0m\u001b[1;33m=\u001b[0m\u001b[1;34m'unsafe'\u001b[0m\u001b[1;33m)\u001b[0m\u001b[1;33m\u001b[0m\u001b[0m\n\u001b[0;32m    192\u001b[0m     \u001b[1;32mreturn\u001b[0m \u001b[0ma\u001b[0m\u001b[1;33m\u001b[0m\u001b[0m\n",
      "\u001b[1;31mTypeError\u001b[0m: data type not understood"
     ]
    }
   ],
   "source": [
    "np.ones(5,2)"
   ]
  },
  {
   "cell_type": "code",
   "execution_count": null,
   "metadata": {
    "collapsed": true
   },
   "outputs": [],
   "source": []
  },
  {
   "cell_type": "markdown",
   "metadata": {},
   "source": [
    "cf. [`numpy.tensordot` - NumPy v1.10 Manual](https://docs.scipy.org/doc/numpy-1.10.0/reference/generated/numpy.tensordot.html)"
   ]
  },
  {
   "cell_type": "code",
   "execution_count": 251,
   "metadata": {
    "collapsed": false
   },
   "outputs": [
    {
     "name": "stdout",
     "output_type": "stream",
     "text": [
      "(5, 2)\n",
      "[[ 4400.  4730.]\n",
      " [ 4532.  4874.]\n",
      " [ 4664.  5018.]\n",
      " [ 4796.  5162.]\n",
      " [ 4928.  5306.]]\n",
      "(5, 2)\n",
      "[[ 4400.  4730.]\n",
      " [ 4532.  4874.]\n",
      " [ 4664.  5018.]\n",
      " [ 4796.  5162.]\n",
      " [ 4928.  5306.]]\n"
     ]
    },
    {
     "data": {
      "text/plain": [
       "array([[ True,  True],\n",
       "       [ True,  True],\n",
       "       [ True,  True],\n",
       "       [ True,  True],\n",
       "       [ True,  True]], dtype=bool)"
      ]
     },
     "execution_count": 251,
     "metadata": {},
     "output_type": "execute_result"
    }
   ],
   "source": [
    "a = np.arange(60.).reshape(3,4,5)\n",
    "b = np.arange(24.).reshape(4,3,2)\n",
    "c = np.tensordot(a,b,axes=([1,0],[0,1]))\n",
    "d = np.tensordot(a,b,axes=([0,1],[1,0]))\n",
    "\n",
    "print(c.shape)\n",
    "print(c)\n",
    "print(d.shape)\n",
    "print(d)\n",
    "c==d"
   ]
  },
  {
   "cell_type": "code",
   "execution_count": 315,
   "metadata": {
    "collapsed": false
   },
   "outputs": [
    {
     "name": "stdout",
     "output_type": "stream",
     "text": [
      "(5000, 400)\n",
      "(25, 401)\n",
      "(10, 26)\n"
     ]
    }
   ],
   "source": [
    "# Feed forward\n",
    "m = X.shape[0]\n",
    "d = X.shape[1]\n",
    "s_2 = Theta1.shape[0]  \n",
    "K   = Theta2.shape[0]\n",
    "print( X.shape) # m x d\n",
    "print(Theta1.shape) # s_2 x (d+1)\n",
    "print(Theta2.shape) # K x (s_2+1)\n",
    "a = np.vstack( ( np.ones( (1,m)), X.T)) # (d+1)xm\n",
    "z_lst = []\n",
    "z = np.dot( Theta1, a)  # s_2 x m\n",
    "z_lst.append(z)\n",
    "a_lst = []\n",
    "a_lst.append(a)\n",
    "a_l = np.vstack( (np.ones( (1,m)), sigmoid(z)) ) # (s_2+1)xm\n",
    "#a_f = np.stack( (a,a_l),axis=0)   # ValueError: all input arrays must have the same shape\n",
    "a_lst.append(a_l)\n",
    "\n",
    "z = np.dot( Theta2, a_l)  # K x m\n",
    "z_lst.append(z)\n",
    "a_L = sigmoid(z)  # K x m \n",
    "a_lst.append( a_L )\n"
   ]
  },
  {
   "cell_type": "code",
   "execution_count": 317,
   "metadata": {
    "collapsed": true
   },
   "outputs": [],
   "source": [
    "def feedforward(X, Thetas, L ):\n",
    "    \"\"\"\n",
    "    PARAMETERS (INPUTS)\n",
    "    ===================\n",
    "    @type X : numpy array of size dims. m x d \n",
    "    @param X : input data\n",
    "\n",
    "    @type Thetas : list of numpy arrays \n",
    "    @param Thetas : list of numpy arrays that are Theta's or weights for each layer l; \n",
    "                    note l=1,2,..L-1,but Python lists start counting from 0,1,...L-2\n",
    "    \n",
    "    @type L : (positive) integer\n",
    "    @param L : number of layers, e.g. input layer, 1 hidden layer, and output layer is L = 3\n",
    "    \"\"\"\n",
    "    m, d = X.shape\n",
    "#    s_l = [Theta.shape[0] for Theta in Thetas ]\n",
    "#    s_l.insert(0,d)\n",
    "    \n",
    "    a_lst = []\n",
    "    z_lst = []\n",
    "    \n",
    "    a = np.vstack( (np.ones( (1,m)), X.T))  # (d+1)xm\n",
    "    a_lst.append(a)\n",
    "    for l in range(L-2): \n",
    "        z = np.dot(Thetas[l] , a) # s_2 x m \n",
    "        z_lst.append(z)\n",
    "        g = sigmoid(z)\n",
    "        a_l = np.vstack( (np.ones((1,m)), g)) # (s_{l+1}+1)x m\n",
    "        a_lst.append(a_l)\n",
    "    \n",
    "    z = np.dot( Thetas[L-2], a_l)  # K x m \n",
    "    z_lst.append(z)\n",
    "    a_L = sigmoid(z) # K x m \n",
    "    a_lst.append( a_L)\n",
    "    return z_lst, a_lst"
   ]
  },
  {
   "cell_type": "code",
   "execution_count": 318,
   "metadata": {
    "collapsed": true
   },
   "outputs": [],
   "source": [
    "z_lst_test, a_lst_test = feedforward(X, [Theta1,Theta2], 3)"
   ]
  },
  {
   "cell_type": "code",
   "execution_count": 322,
   "metadata": {
    "collapsed": false
   },
   "outputs": [
    {
     "name": "stdout",
     "output_type": "stream",
     "text": [
      "(2, 3)\n",
      "([(25, 5000), (10, 5000)], [(401, 5000), (26, 5000), (10, 5000)])\n"
     ]
    }
   ],
   "source": [
    "print( len(z_lst_test) , len(a_lst_test) )\n",
    "print ( [z.shape for z in z_lst], [a.shape for a in a_lst ])"
   ]
  },
  {
   "cell_type": "code",
   "execution_count": 330,
   "metadata": {
    "collapsed": false
   },
   "outputs": [
    {
     "name": "stdout",
     "output_type": "stream",
     "text": [
      "(10, 5000)\n",
      "[1, 0]\n"
     ]
    },
    {
     "data": {
      "text/plain": [
       "array([[ 1.,  1.,  1., ...,  1.,  1.,  1.],\n",
       "       [ 0.,  0.,  0., ...,  0.,  0.,  0.],\n",
       "       [ 0.,  0.,  0., ...,  0.,  0.,  0.],\n",
       "       ..., \n",
       "       [ 0.,  0.,  0., ...,  0.,  0.,  0.],\n",
       "       [ 0.,  0.,  0., ...,  0.,  0.,  0.],\n",
       "       [ 0.,  0.,  0., ...,  0.,  0.,  0.]])"
      ]
     },
     "execution_count": 330,
     "metadata": {},
     "output_type": "execute_result"
    }
   ],
   "source": [
    "print( a_lst[-1].shape )\n",
    "print( range(3-2,-1,-1) )\n",
    "a_lst[-3] "
   ]
  },
  {
   "cell_type": "code",
   "execution_count": 302,
   "metadata": {
    "collapsed": false
   },
   "outputs": [
    {
     "name": "stdout",
     "output_type": "stream",
     "text": [
      "(10, 5000)\n",
      "(10, 5000)\n",
      "(26, 5000)\n",
      "(26, 5000)\n",
      "(401, 5000)\n"
     ]
    }
   ],
   "source": [
    "# Backpropagation\n",
    "delta_lst = []\n",
    "y_prob = [np.zeros(K) for row in y]  # list of 5000 numpy arrays of size dims. (10,)\n",
    "for i in range( m):\n",
    "    y_prob[i][ y[i]-1] = 1\n",
    "y_prob = np.array(y_prob).T  # size dims. (K,m)\n",
    "print( y_prob.shape )\n",
    "print( a_L.shape )\n",
    "delta_L = a_L - y_prob  # size dims. (K,m)\n",
    "delta_lst = []\n",
    "delta_lst.insert(0, delta_L)\n",
    "dg = a_lst[-2] * ( 1. - a_lst[-2]) # size dims. ((s_2+1)xm)\n",
    "print(dg.shape)\n",
    "delta_l = np.dot( Theta2.T, delta_L) * dg\n",
    "print( delta_l.shape )\n",
    "delta_l = delta_l[1:,:]\n",
    "delta_lst.insert(0, delta_l )\n",
    "dg = a_lst[-3] * (1. - a_lst[-3]) # (s_1+1) x m \n",
    "print( dg.shape) # (s_1+1) x m\n",
    "delta_l = np.dot( Theta1.T, delta_l) * dg\n",
    "delta_l = delta_l[1:,:]\n",
    "delta_lst.insert(0, delta_l)"
   ]
  },
  {
   "cell_type": "code",
   "execution_count": 339,
   "metadata": {
    "collapsed": false
   },
   "outputs": [],
   "source": [
    "def backprop(y,z_lst, a_lst, Thetas, L):\n",
    "    \"\"\"\n",
    "    Backpropagation \n",
    "\n",
    "    @type L : (positive) integer\n",
    "    @param L : number of layers, e.g. input layer, 1 hidden layer, and output layer is L = 3 \n",
    "    \"\"\"\n",
    "    m = y.shape[1] # number of training examples\n",
    "    \n",
    "    K = a_lst[-1].shape[0] # number of classes\n",
    "    delta_lst = []\n",
    "    y_prob = [np.zeros(K) for row in y] # list of m numpy arrays of size dims. (K,)\n",
    "    for i in range(m):\n",
    "        y_prob[i][y[i]-1] = 1\n",
    "    y_prob = np.array(y_prob).T # size dims. (K,m)\n",
    "    \n",
    "    delta_l = a_L - y_prob # size dims (K,m)\n",
    "    delta_lst = []\n",
    "    delta_lst.insert(0, delta_l)\n",
    "    \n",
    "    for l in range(L-2,-1,-1):  # L-2, L-3,...1,0, corresponding to l=L-1,L-2,...2,1 (just how Python indexes from 0)\n",
    "        dg = a_lst[l] * ( 1- a_lst[l])\n",
    "        delta_l = np.dot( Thetas[l].T, delta_l) * dg\n",
    "        delta_l = delta_l[1:,:]\n",
    "        delta_lst.insert(0,delta_l)\n",
    "\n",
    "    D_lst = []\n",
    "    for l in range(len(Thetas)): # 0,1,..L-2, corresponding to l = 1,2,...L-1\n",
    "        D_lst.append( np.tensordot( a_lst[l], delta_lst[l+1].T, axes=([1],[0])).T/m )\n",
    "        \n",
    "    # regularization terms for grad(J)    \n",
    "    for l in range(len(Thetas)): # 0,1,...L-2, corresponding to l = 1,2,...L-1\n",
    "        Theta_reg = np.zeros( Thetas[l].shape )\n",
    "        Theta_reg[:,1:] = Thetas[l][:,1:]\n",
    "        Theta_reg = lambda_val * Theta_reg / m\n",
    "        D_lst[l] += Theta_reg\n",
    "        \n",
    "    return delta_lst, D_lst    \n",
    "    "
   ]
  },
  {
   "cell_type": "code",
   "execution_count": 340,
   "metadata": {
    "collapsed": false
   },
   "outputs": [],
   "source": [
    "delta_lst_test, D_lst_test = backprop(y,z_lst_test,a_lst_test, [Theta1,Theta2], 3)"
   ]
  },
  {
   "cell_type": "code",
   "execution_count": 341,
   "metadata": {
    "collapsed": false
   },
   "outputs": [
    {
     "name": "stdout",
     "output_type": "stream",
     "text": [
      "3\n",
      "(400, 5000)\n",
      "(25, 5000)\n",
      "(10, 5000)\n",
      "(25, 401)\n",
      "(10, 26)\n"
     ]
    }
   ],
   "source": [
    "print( len(delta_lst_test) )\n",
    "for delta in delta_lst_test: print( delta.shape )\n",
    "for Dl in D_lst_test: print(Dl.shape)    "
   ]
  },
  {
   "cell_type": "code",
   "execution_count": 304,
   "metadata": {
    "collapsed": false
   },
   "outputs": [
    {
     "name": "stdout",
     "output_type": "stream",
     "text": [
      "(400, 5000)\n",
      "(400, 5000)\n",
      "(399, 5000)\n",
      "(400, 5000)\n",
      "(25, 5000)\n",
      "(10, 5000)\n",
      "(401, 5000)\n",
      "(26, 5000)\n",
      "(10, 5000)\n"
     ]
    }
   ],
   "source": [
    "print( delta_lst[0].shape)\n",
    "len(a_lst)\n",
    "print( delta_l.shape)\n",
    "print( delta_l[1:,:].shape )\n",
    "for l in delta_lst: print( l.shape )\n",
    "for a in a_lst: print(a.shape)    "
   ]
  },
  {
   "cell_type": "code",
   "execution_count": 313,
   "metadata": {
    "collapsed": false
   },
   "outputs": [
    {
     "name": "stdout",
     "output_type": "stream",
     "text": [
      "(401, 5000)\n",
      "(25, 5000)\n",
      "(401, 25)\n",
      "(26, 10)\n"
     ]
    }
   ],
   "source": [
    "print( a_lst[0].shape  )\n",
    "print( delta_lst[1].shape )\n",
    "print( np.tensordot( a_lst[0], delta_lst[1].T, axes=([1],[0])).shape )\n",
    "print( np.tensordot( a_lst[1], delta_lst[2].T, axes=([1],[0])).shape )\n",
    "\n",
    "D1 = np.tensordot( a_lst[0], delta_lst[1].T, axes=([1],[0])).T/m\n",
    "D2 = np.tensordot( a_lst[1], delta_lst[2].T, axes=([1],[0])).T/m"
   ]
  },
  {
   "cell_type": "code",
   "execution_count": 257,
   "metadata": {
    "collapsed": false
   },
   "outputs": [
    {
     "ename": "TypeError",
     "evalue": "Required argument 'shape' (pos 1) not found",
     "output_type": "error",
     "traceback": [
      "\u001b[1;31m---------------------------------------------------------------------------\u001b[0m",
      "\u001b[1;31mTypeError\u001b[0m                                 Traceback (most recent call last)",
      "\u001b[1;32m<ipython-input-257-cb0c70f17de8>\u001b[0m in \u001b[0;36m<module>\u001b[1;34m()\u001b[0m\n\u001b[1;32m----> 1\u001b[1;33m \u001b[0mnp\u001b[0m\u001b[1;33m.\u001b[0m\u001b[0mempty\u001b[0m\u001b[1;33m(\u001b[0m\u001b[1;33m)\u001b[0m \u001b[1;33m==\u001b[0m \u001b[0mNone\u001b[0m\u001b[1;33m\u001b[0m\u001b[0m\n\u001b[0m",
      "\u001b[1;31mTypeError\u001b[0m: Required argument 'shape' (pos 1) not found"
     ]
    }
   ],
   "source": [
    "np.empty() == None"
   ]
  },
  {
   "cell_type": "code",
   "execution_count": 316,
   "metadata": {
    "collapsed": false
   },
   "outputs": [
    {
     "data": {
      "text/plain": [
       "[0, 1]"
      ]
     },
     "execution_count": 316,
     "metadata": {},
     "output_type": "execute_result"
    }
   ],
   "source": [
    "range(2)"
   ]
  },
  {
   "cell_type": "code",
   "execution_count": 345,
   "metadata": {
    "collapsed": false
   },
   "outputs": [
    {
     "data": {
      "text/plain": [
       "(25, 400)"
      ]
     },
     "execution_count": 345,
     "metadata": {},
     "output_type": "execute_result"
    }
   ],
   "source": [
    "Theta1.shape\n",
    "np.zeros( Theta1.shape)[:,1:].shape\n"
   ]
  },
  {
   "cell_type": "markdown",
   "metadata": {
    "collapsed": true
   },
   "source": [
    "#### *\"Breaking out\" $\\Theta$ weights into a \"weight\" or parameter matrix **and** an intercept vector *"
   ]
  },
  {
   "cell_type": "code",
   "execution_count": 8,
   "metadata": {
    "collapsed": false
   },
   "outputs": [],
   "source": [
    "ex4data1 = scipy.io.loadmat('./coursera_Ng/machine-learning-ex4/ex4/ex4data1.mat')\n",
    "Theta_testvals = scipy.io.loadmat('./coursera_Ng/machine-learning-ex4/ex4/ex4weights.mat')"
   ]
  },
  {
   "cell_type": "code",
   "execution_count": 9,
   "metadata": {
    "collapsed": true
   },
   "outputs": [],
   "source": [
    "Theta1_testval = Theta_testvals['Theta1'][:,1:]\n",
    "b1_testval = Theta_testvals['Theta1'][:,0:1]\n",
    "Theta2_testval = Theta_testvals['Theta2'][:,1:]\n",
    "b2_testval = Theta_testvals['Theta2'][:,0:1]\n"
   ]
  },
  {
   "cell_type": "code",
   "execution_count": 12,
   "metadata": {
    "collapsed": false
   },
   "outputs": [
    {
     "name": "stdout",
     "output_type": "stream",
     "text": [
      "(25, 5000)\n"
     ]
    },
    {
     "data": {
      "text/plain": [
       "(25, 5000)"
      ]
     },
     "execution_count": 12,
     "metadata": {},
     "output_type": "execute_result"
    }
   ],
   "source": [
    "print( np.dot( Theta1_testval, ex4data1['X'].T).shape )\n",
    "np.tile( b1_testval, (1,5000)).shape"
   ]
  },
  {
   "cell_type": "code",
   "execution_count": 18,
   "metadata": {
    "collapsed": true
   },
   "outputs": [],
   "source": [
    "z2 = np.dot( Theta1_testval, ex4data1['X'].T) + np.tile( b1_testval, (1,5000))"
   ]
  },
  {
   "cell_type": "code",
   "execution_count": 14,
   "metadata": {
    "collapsed": false
   },
   "outputs": [
    {
     "data": {
      "text/plain": [
       "(25, 5000)"
      ]
     },
     "execution_count": 14,
     "metadata": {},
     "output_type": "execute_result"
    }
   ],
   "source": [
    "z2.shape"
   ]
  },
  {
   "cell_type": "code",
   "execution_count": 20,
   "metadata": {
    "collapsed": false
   },
   "outputs": [],
   "source": [
    "z3 = np.dot( Theta2_testval, sigmoid(z2)) + np.tile( b2_testval, (1,5000))"
   ]
  },
  {
   "cell_type": "code",
   "execution_count": 21,
   "metadata": {
    "collapsed": false
   },
   "outputs": [
    {
     "name": "stdout",
     "output_type": "stream",
     "text": [
      "(10, 5000)\n"
     ]
    }
   ],
   "source": [
    "print(z3.shape)\n",
    "a3 = sigmoid(z3)"
   ]
  },
  {
   "cell_type": "code",
   "execution_count": 22,
   "metadata": {
    "collapsed": true
   },
   "outputs": [],
   "source": [
    "ht = a3\n",
    "yt = ex4data1['y']"
   ]
  },
  {
   "cell_type": "code",
   "execution_count": 23,
   "metadata": {
    "collapsed": false
   },
   "outputs": [
    {
     "data": {
      "text/plain": [
       "(5000, 1)"
      ]
     },
     "execution_count": 23,
     "metadata": {},
     "output_type": "execute_result"
    }
   ],
   "source": [
    "yt.shape"
   ]
  },
  {
   "cell_type": "code",
   "execution_count": 26,
   "metadata": {
    "collapsed": false
   },
   "outputs": [
    {
     "name": "stdout",
     "output_type": "stream",
     "text": [
      "(10, 5000)\n"
     ]
    }
   ],
   "source": [
    "m = ex4data1['y'].shape[0]\n",
    "y_prob = [np.zeros(10) for row in ex4data1['y']]  # list of 5000 numpy arrays of size dims. (10,)\n",
    "for i in range( m):\n",
    "        y_prob[i][ ex4data1['y'][i]-1] = 1\n",
    "y_prob = np.array(y_prob).T  # size dims. (K,m)\n",
    "print(y_prob.shape)"
   ]
  },
  {
   "cell_type": "code",
   "execution_count": 30,
   "metadata": {
    "collapsed": false
   },
   "outputs": [
    {
     "name": "stdout",
     "output_type": "stream",
     "text": [
      "(10, 5000)\n"
     ]
    }
   ],
   "source": [
    "J = - y_prob * np.log( a3) - (1-y_prob) * np.log( 1- a3)\n",
    "print( J.shape )"
   ]
  },
  {
   "cell_type": "code",
   "execution_count": 31,
   "metadata": {
    "collapsed": false
   },
   "outputs": [
    {
     "data": {
      "text/plain": [
       "(5000,)"
      ]
     },
     "execution_count": 31,
     "metadata": {},
     "output_type": "execute_result"
    }
   ],
   "source": [
    "np.sum(J,axis=0).shape"
   ]
  },
  {
   "cell_type": "code",
   "execution_count": 32,
   "metadata": {
    "collapsed": false
   },
   "outputs": [
    {
     "data": {
      "text/plain": [
       "0.28762916516131892"
      ]
     },
     "execution_count": 32,
     "metadata": {},
     "output_type": "execute_result"
    }
   ],
   "source": [
    "np.mean( np.sum(J,axis=0))"
   ]
  },
  {
   "cell_type": "code",
   "execution_count": 33,
   "metadata": {
    "collapsed": false
   },
   "outputs": [
    {
     "data": {
      "text/plain": [
       "array([[ -2.93684669,  -4.81302157,  -4.24056958, ...,  -0.86267303,\n",
       "          1.74408423,   3.55683614],\n",
       "       [ -2.45058587,  -2.92257775,  -3.68698052, ...,   1.00939507,\n",
       "         -0.58216518, -12.11330792],\n",
       "       [  4.95510333,   2.6445065 ,   5.99656398, ...,  -1.67526051,\n",
       "         -1.49164167,   5.01096205],\n",
       "       ..., \n",
       "       [  3.56635593,   2.10497303,   1.54599347, ...,   1.8185898 ,\n",
       "          4.17481481,   7.17585008],\n",
       "       [  2.81388641,   4.69948787,   3.08971226, ...,  -3.18203449,\n",
       "         -0.96739536,   2.15484114],\n",
       "       [ -2.1195223 ,  -2.76096862,  -2.32990819, ...,  -1.72539781,\n",
       "         -3.08906563,  -2.9424052 ]])"
      ]
     },
     "execution_count": 33,
     "metadata": {},
     "output_type": "execute_result"
    }
   ],
   "source": [
    "z2"
   ]
  },
  {
   "cell_type": "code",
   "execution_count": 36,
   "metadata": {
    "collapsed": false
   },
   "outputs": [
    {
     "data": {
      "text/plain": [
       "array([[  5.03618685e-02,   8.05782163e-03,   1.41949887e-02, ...,\n",
       "          2.96781175e-01,   8.51205095e-01,   9.72262381e-01],\n",
       "       [  7.93957162e-02,   5.10486829e-02,   2.44354705e-02, ...,\n",
       "          7.32901746e-01,   3.58434539e-01,   5.48598771e-06],\n",
       "       [  9.93001966e-01,   9.33671593e-01,   9.97518887e-01, ...,\n",
       "          1.57724076e-01,   1.83675450e-01,   9.93379633e-01],\n",
       "       ..., \n",
       "       [  9.72517962e-01,   8.91385592e-01,   8.24334311e-01, ...,\n",
       "          8.60396828e-01,   9.84854863e-01,   9.99235749e-01],\n",
       "       [  9.43421623e-01,   9.90982126e-01,   9.56466386e-01, ...,\n",
       "          3.98474223e-02,   2.75399966e-01,   8.96120297e-01],\n",
       "       [  1.07213787e-01,   5.94701645e-02,   8.86760824e-02, ...,\n",
       "          1.51177198e-01,   4.35605471e-02,   5.00966928e-02]])"
      ]
     },
     "execution_count": 36,
     "metadata": {},
     "output_type": "execute_result"
    }
   ],
   "source": [
    "sigmoid(z2)"
   ]
  },
  {
   "cell_type": "code",
   "execution_count": null,
   "metadata": {
    "collapsed": true
   },
   "outputs": [],
   "source": []
  }
 ],
 "metadata": {
  "kernelspec": {
   "display_name": "Python 2",
   "language": "python",
   "name": "python2"
  },
  "language_info": {
   "codemirror_mode": {
    "name": "ipython",
    "version": 2
   },
   "file_extension": ".py",
   "mimetype": "text/x-python",
   "name": "python",
   "nbconvert_exporter": "python",
   "pygments_lexer": "ipython2",
   "version": "2.7.11"
  }
 },
 "nbformat": 4,
 "nbformat_minor": 0
}

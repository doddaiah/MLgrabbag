{
 "cells": [
  {
   "cell_type": "markdown",
   "metadata": {},
   "source": [
    "# Support Vector Machines (SVM)"
   ]
  },
  {
   "cell_type": "markdown",
   "metadata": {},
   "source": [
    "I ran this at the command prompt \n",
    "```  \n",
    "THEANO_FLAGS='mode=FAST_RUN,device=gpu,floatX=float32,lib.cnmem=1,allow_gc=False' jupyter notebook  \n",
    "```"
   ]
  },
  {
   "cell_type": "code",
   "execution_count": 1,
   "metadata": {
    "collapsed": true
   },
   "outputs": [],
   "source": [
    "%matplotlib inline"
   ]
  },
  {
   "cell_type": "code",
   "execution_count": 2,
   "metadata": {
    "collapsed": false
   },
   "outputs": [
    {
     "name": "stderr",
     "output_type": "stream",
     "text": [
      "WARNING (theano.sandbox.cuda): The cuda backend is deprecated and will be removed in the next release (v0.10).  Please switch to the gpuarray backend. You can get more information about how to switch at this URL:\n",
      " https://github.com/Theano/Theano/wiki/Converting-to-the-new-gpu-back-end%28gpuarray%29\n",
      "\n",
      "Using gpu device 0: GeForce GTX 980 Ti (CNMeM is enabled with initial size: 70.0% of memory, cuDNN 5105)\n"
     ]
    }
   ],
   "source": [
    "import theano"
   ]
  },
  {
   "cell_type": "code",
   "execution_count": 3,
   "metadata": {
    "collapsed": false
   },
   "outputs": [],
   "source": [
    "from theano import function, config, sandbox, shared \n",
    "import theano.tensor as T"
   ]
  },
  {
   "cell_type": "code",
   "execution_count": 4,
   "metadata": {
    "collapsed": false
   },
   "outputs": [
    {
     "name": "stdout",
     "output_type": "stream",
     "text": [
      "gpu\n",
      "0.7\n",
      "True\n"
     ]
    }
   ],
   "source": [
    "print( theano.config.device )\n",
    "print( theano.config.lib.cnmem)  # cf. http://deeplearning.net/software/theano/library/config.html\n",
    "print( theano.config.print_active_device)# Print active device at when the GPU device is initialized."
   ]
  },
  {
   "cell_type": "code",
   "execution_count": 5,
   "metadata": {
    "collapsed": false
   },
   "outputs": [
    {
     "name": "stdout",
     "output_type": "stream",
     "text": [
      "False\n",
      "\n"
     ]
    }
   ],
   "source": [
    "print(theano.config.allow_gc)\n",
    "print(theano.config.optimizer_excluding)"
   ]
  },
  {
   "cell_type": "code",
   "execution_count": 6,
   "metadata": {
    "collapsed": true
   },
   "outputs": [],
   "source": [
    "import numpy as np\n",
    "import scipy"
   ]
  },
  {
   "cell_type": "code",
   "execution_count": 7,
   "metadata": {
    "collapsed": true
   },
   "outputs": [],
   "source": [
    "import sys\n",
    "sys.path.append( './ML' )"
   ]
  },
  {
   "cell_type": "code",
   "execution_count": 8,
   "metadata": {
    "collapsed": false
   },
   "outputs": [],
   "source": [
    "from SVM import SVM, SVM_serial, SVM_parallel"
   ]
  },
  {
   "cell_type": "code",
   "execution_count": 9,
   "metadata": {
    "collapsed": true
   },
   "outputs": [],
   "source": [
    "import pandas as pd"
   ]
  },
  {
   "cell_type": "markdown",
   "metadata": {
    "collapsed": true
   },
   "source": [
    "## Dataset examples  "
   ]
  },
  {
   "cell_type": "markdown",
   "metadata": {},
   "source": [
    "#### from sci-kit learn, `sklearn`"
   ]
  },
  {
   "cell_type": "code",
   "execution_count": 10,
   "metadata": {
    "collapsed": false
   },
   "outputs": [],
   "source": [
    "X = np.random.randn(300,2)\n",
    "y = np.logical_xor(X[:,0] > 0, X[:,1] > 0)"
   ]
  },
  {
   "cell_type": "markdown",
   "metadata": {},
   "source": [
    "cf. [RBF SVM parameters](http://scikit-learn.org/stable/auto_examples/svm/plot_rbf_parameters.html#sphx-glr-auto-examples-svm-plot-rbf-parameters-py)"
   ]
  },
  {
   "cell_type": "code",
   "execution_count": 10,
   "metadata": {
    "collapsed": false
   },
   "outputs": [],
   "source": [
    "from sklearn.datasets import load_iris\n",
    "from sklearn.preprocessing import StandardScaler"
   ]
  },
  {
   "cell_type": "markdown",
   "metadata": {},
   "source": [
    "Load and prepare data set"
   ]
  },
  {
   "cell_type": "markdown",
   "metadata": {},
   "source": [
    "dataset for grid search"
   ]
  },
  {
   "cell_type": "code",
   "execution_count": 11,
   "metadata": {
    "collapsed": false
   },
   "outputs": [],
   "source": [
    "iris = load_iris()\n",
    "X = iris.data\n",
    "y = iris.target"
   ]
  },
  {
   "cell_type": "code",
   "execution_count": 12,
   "metadata": {
    "collapsed": true
   },
   "outputs": [],
   "source": [
    "# Dataset for decision function visualization: we only keep the first two\n",
    "# features in X and sub-sample the dataset to keep only 2 classes and \n",
    "# make it a binary classification problem\n",
    "\n",
    "X_2d = X[:,:2]\n",
    "X_2d=X_2d[y>0]\n",
    "y_2d=y[y>0]\n",
    "y_2d -= 1\n"
   ]
  },
  {
   "cell_type": "code",
   "execution_count": 13,
   "metadata": {
    "collapsed": false
   },
   "outputs": [],
   "source": [
    "# It is usually a good idea to scale the data for SVM training.\n",
    "# We are cheating a bit in this example in scaling all of the data,\n",
    "# instead of fitting the transformation on the training set and \n",
    "# just applying it on the test set.  \n",
    "\n",
    "scaler = StandardScaler()  \n",
    "X= scaler.fit_transform(X)\n",
    "X_2d=scaler.fit_transform(X_2d)"
   ]
  },
  {
   "cell_type": "code",
   "execution_count": 14,
   "metadata": {
    "collapsed": false
   },
   "outputs": [
    {
     "name": "stdout",
     "output_type": "stream",
     "text": [
      "<type 'numpy.ndarray'>\n",
      "(150, 4)\n",
      "<type 'numpy.ndarray'>\n",
      "(100, 2)\n",
      "<type 'numpy.ndarray'>\n",
      "(150,)\n",
      "<type 'numpy.ndarray'>\n",
      "(100,)\n"
     ]
    }
   ],
   "source": [
    "print(type(X)); print(X.shape); print(type(X_2d));print(X_2d.shape);print(type(y));print(y.shape);\n",
    "print(type(y_2d));print(y_2d.shape)"
   ]
  },
  {
   "cell_type": "code",
   "execution_count": 15,
   "metadata": {
    "collapsed": false
   },
   "outputs": [
    {
     "name": "stdout",
     "output_type": "stream",
     "text": [
      "100\n",
      "20\n",
      "60\n",
      "20\n"
     ]
    }
   ],
   "source": [
    "ratio_of_train_to_total = 0.6\n",
    "numberofexamples = len(y_2d)\n",
    "numberoftrainingexamples = int(numberofexamples*ratio_of_train_to_total)\n",
    "numbertovalidate = (numberofexamples - numberoftrainingexamples)/2\n",
    "numbertotest= numberofexamples - numberoftrainingexamples - numbertovalidate\n",
    "print(numberofexamples);print(numbertotest);print(numberoftrainingexamples);print(numbertovalidate)"
   ]
  },
  {
   "cell_type": "code",
   "execution_count": 16,
   "metadata": {
    "collapsed": false
   },
   "outputs": [],
   "source": [
    "shuffledindices = np.random.permutation( numberofexamples)"
   ]
  },
  {
   "cell_type": "code",
   "execution_count": 17,
   "metadata": {
    "collapsed": false
   },
   "outputs": [],
   "source": [
    "X_2d_train = X_2d[:numberoftrainingexamples]\n",
    "y_2d_train = y_2d[:numberoftrainingexamples]\n",
    "X_2d_valid = X_2d[numberoftrainingexamples:numberoftrainingexamples + numbertovalidate]\n",
    "y_2d_valid = y_2d[numberoftrainingexamples:numberoftrainingexamples + numbertovalidate]\n",
    "X_2d_test = X_2d[numberoftrainingexamples + numbertovalidate:]\n",
    "y_2d_test = y_2d[numberoftrainingexamples + numbertovalidate:]\n"
   ]
  },
  {
   "cell_type": "markdown",
   "metadata": {},
   "source": [
    "Clarke, Fokoue, and Zhang in **Principles and Theory for Data Mining and Machine Learning** (2009) and Bishop, **Pattern Recognition and Machine Learning** (2007) both, for support vector machines, for the case of binary classification, has $y\\in \\lbrace -1, 1\\rbrace$, as opposed to $y\\in \\lbrace 0,1 \\rbrace$ for $K=2$ total number of classes that outcome $y$ could belong to.  Should this be made more explicit, noted more prominently, in practice?"
   ]
  },
  {
   "cell_type": "code",
   "execution_count": 39,
   "metadata": {
    "collapsed": false
   },
   "outputs": [
    {
     "data": {
      "text/plain": [
       "array([0, 0, 0, 0, 0, 0, 0, 0, 0, 0, 0, 0, 0, 0, 0, 0, 0, 0, 0, 0, 0, 0, 0,\n",
       "       0, 0, 0, 0, 0, 0, 0, 0, 0, 0, 0, 0, 0, 0, 0, 0, 0, 0, 0, 0, 0, 0, 0,\n",
       "       0, 0, 0, 0, 1, 1, 1, 1, 1, 1, 1, 1, 1, 1])"
      ]
     },
     "execution_count": 39,
     "metadata": {},
     "output_type": "execute_result"
    }
   ],
   "source": [
    "y_2d_train"
   ]
  },
  {
   "cell_type": "code",
   "execution_count": 18,
   "metadata": {
    "collapsed": false
   },
   "outputs": [],
   "source": [
    "y_2d_train[y_2d_train < 1] = -1"
   ]
  },
  {
   "cell_type": "code",
   "execution_count": 19,
   "metadata": {
    "collapsed": false
   },
   "outputs": [
    {
     "name": "stdout",
     "output_type": "stream",
     "text": [
      "(60,)\n",
      "[-1 -1 -1 -1 -1 -1 -1 -1 -1 -1 -1 -1 -1 -1 -1 -1 -1 -1 -1 -1 -1 -1 -1 -1 -1\n",
      " -1 -1 -1 -1 -1 -1 -1 -1 -1 -1 -1 -1 -1 -1 -1 -1 -1 -1 -1 -1 -1 -1 -1 -1 -1\n",
      "  1  1  1  1  1  1  1  1  1  1]\n"
     ]
    }
   ],
   "source": [
    "print(y_2d_train.shape);print(y_2d_train)"
   ]
  },
  {
   "cell_type": "code",
   "execution_count": 20,
   "metadata": {
    "collapsed": true
   },
   "outputs": [],
   "source": [
    "y_2d_valid[y_2d_valid < 1] = -1"
   ]
  },
  {
   "cell_type": "code",
   "execution_count": 21,
   "metadata": {
    "collapsed": true
   },
   "outputs": [],
   "source": [
    "y_2d_test[y_2d_test < 1] = -1"
   ]
  },
  {
   "cell_type": "markdown",
   "metadata": {},
   "source": [
    "#### from Coursera's *Machine Learning Introduction* by Andrew Ng, Ex. 6, i.e. Programming Exercise 6  "
   ]
  },
  {
   "cell_type": "code",
   "execution_count": 19,
   "metadata": {
    "collapsed": false
   },
   "outputs": [],
   "source": [
    "where_ex6_is_str = './coursera_Ng/machine-learning-ex6/ex6/'\n",
    "ex6data1_mat_data = scipy.io.loadmat( where_ex6_is_str + \"ex6data1.mat\")"
   ]
  },
  {
   "cell_type": "markdown",
   "metadata": {},
   "source": [
    "# Using SVM"
   ]
  },
  {
   "cell_type": "code",
   "execution_count": 18,
   "metadata": {
    "collapsed": false
   },
   "outputs": [],
   "source": [
    "SVM_iris = SVM(X_2d_train,y_2d_train,len(y_2d_train),1.0,1,0.001)"
   ]
  },
  {
   "cell_type": "code",
   "execution_count": 19,
   "metadata": {
    "collapsed": false
   },
   "outputs": [],
   "source": [
    "SVM_iris.build_W();"
   ]
  },
  {
   "cell_type": "markdown",
   "metadata": {},
   "source": [
    "`.build_update` might take a while for `FAST_COMPILE` (that flag command that's typed in before the notebook starts for theano)"
   ]
  },
  {
   "cell_type": "code",
   "execution_count": 20,
   "metadata": {
    "collapsed": true
   },
   "outputs": [],
   "source": [
    "SVM_iris.build_update();"
   ]
  },
  {
   "cell_type": "code",
   "execution_count": 21,
   "metadata": {
    "collapsed": false
   },
   "outputs": [],
   "source": [
    "SVM_iris.train_model_full();"
   ]
  },
  {
   "cell_type": "code",
   "execution_count": 22,
   "metadata": {
    "collapsed": true
   },
   "outputs": [],
   "source": [
    "SVM_iris.build_b();"
   ]
  },
  {
   "cell_type": "code",
   "execution_count": 25,
   "metadata": {
    "collapsed": false
   },
   "outputs": [
    {
     "data": {
      "text/plain": [
       "(array(0.1666666693307083),\n",
       " <theano.compile.function_module.Function at 0x7fdf53e65fd0>)"
      ]
     },
     "execution_count": 25,
     "metadata": {},
     "output_type": "execute_result"
    }
   ],
   "source": [
    "SVM_iris.make_predict(X_2d_valid[0])"
   ]
  },
  {
   "cell_type": "code",
   "execution_count": 23,
   "metadata": {
    "collapsed": false
   },
   "outputs": [
    {
     "data": {
      "text/plain": [
       "[CudaNdarray(0.166666671634),\n",
       " CudaNdarray(0.166666671634),\n",
       " CudaNdarray(0.166666686535),\n",
       " CudaNdarray(0.166666671634),\n",
       " CudaNdarray(0.166666671634),\n",
       " CudaNdarray(0.166666671634),\n",
       " CudaNdarray(0.166666686535),\n",
       " CudaNdarray(0.166666671634),\n",
       " CudaNdarray(0.166666686535),\n",
       " CudaNdarray(0.166666671634),\n",
       " CudaNdarray(0.166666686535),\n",
       " CudaNdarray(0.166666671634),\n",
       " CudaNdarray(0.166666686535),\n",
       " CudaNdarray(0.166666671634),\n",
       " CudaNdarray(0.166666671634),\n",
       " CudaNdarray(0.166666686535),\n",
       " CudaNdarray(0.166666671634),\n",
       " CudaNdarray(0.166666671634),\n",
       " CudaNdarray(0.166666671634),\n",
       " CudaNdarray(0.166666686535)]"
      ]
     },
     "execution_count": 23,
     "metadata": {},
     "output_type": "execute_result"
    }
   ],
   "source": [
    "SVM_iris.make_predictions(X_2d_valid)"
   ]
  },
  {
   "cell_type": "code",
   "execution_count": 24,
   "metadata": {
    "collapsed": false
   },
   "outputs": [
    {
     "data": {
      "text/plain": [
       "array([[ 1.72551842, -0.21746808],\n",
       "       [ 2.4836548 ,  2.80292193],\n",
       "       [ 0.20924564, -0.21746808],\n",
       "       [ 0.05761837, -0.21746808],\n",
       "       [-0.24563619, -0.82154608],\n",
       "       [ 2.18040025,  0.38660992],\n",
       "       [ 0.05761837,  1.59476592],\n",
       "       [ 0.20924564,  0.68864892],\n",
       "       [-0.39726347,  0.38660992],\n",
       "       [ 0.96738203,  0.68864892],\n",
       "       [ 0.66412748,  0.68864892],\n",
       "       [ 0.96738203,  0.68864892],\n",
       "       [-0.70051802, -0.51950708],\n",
       "       [ 0.81575475,  0.99068792],\n",
       "       [ 0.66412748,  1.29272692],\n",
       "       [ 0.66412748,  0.38660992],\n",
       "       [ 0.05761837, -1.12358508],\n",
       "       [ 0.36087292,  0.38660992],\n",
       "       [-0.09400891,  1.59476592],\n",
       "       [-0.54889074,  0.38660992]])"
      ]
     },
     "execution_count": 24,
     "metadata": {},
     "output_type": "execute_result"
    }
   ],
   "source": [
    "X_2d_test"
   ]
  },
  {
   "cell_type": "code",
   "execution_count": 25,
   "metadata": {
    "collapsed": false
   },
   "outputs": [
    {
     "data": {
      "text/plain": [
       "array([1, 1, 1, 1, 1, 1, 1, 1, 1, 1, 1, 1, 1, 1, 1, 1, 1, 1, 1, 1])"
      ]
     },
     "execution_count": 25,
     "metadata": {},
     "output_type": "execute_result"
    }
   ],
   "source": [
    "y_2d_test"
   ]
  },
  {
   "cell_type": "code",
   "execution_count": 26,
   "metadata": {
    "collapsed": true
   },
   "outputs": [],
   "source": [
    "y_test_pred= SVM_iris.make_predictions(X_2d_test)"
   ]
  },
  {
   "cell_type": "code",
   "execution_count": 30,
   "metadata": {
    "collapsed": false
   },
   "outputs": [
    {
     "data": {
      "text/plain": [
       "array([ 0.16666669,  0.16666667,  0.16666667,  0.16666667,  0.16666667,\n",
       "        0.16666669,  0.16666667,  0.16666667,  0.16666667,  0.16666669,\n",
       "        0.16666669,  0.16666669,  0.16666667,  0.16666669,  0.16666667,\n",
       "        0.16666669,  0.16666667,  0.16666669,  0.16666667,  0.16666667], dtype=float32)"
      ]
     },
     "execution_count": 30,
     "metadata": {},
     "output_type": "execute_result"
    }
   ],
   "source": [
    "np.array( [np.array(yhat) for yhat in y_test_pred] )"
   ]
  },
  {
   "cell_type": "code",
   "execution_count": 26,
   "metadata": {
    "collapsed": true
   },
   "outputs": [],
   "source": [
    "y_valid_pred = [ SVM_iris.make_predict(X_2d_valid_ele) for X_2d_valid_ele in X_2d_valid ]"
   ]
  },
  {
   "cell_type": "code",
   "execution_count": 27,
   "metadata": {
    "collapsed": false
   },
   "outputs": [],
   "source": [
    "y_valid_pred = [y_valid_pred_ele[0] for y_valid_pred_ele in y_valid_pred]"
   ]
  },
  {
   "cell_type": "code",
   "execution_count": 28,
   "metadata": {
    "collapsed": false
   },
   "outputs": [],
   "source": [
    "y_valid_pred = np.array( y_valid_pred).flatten()"
   ]
  },
  {
   "cell_type": "code",
   "execution_count": 30,
   "metadata": {
    "collapsed": false
   },
   "outputs": [],
   "source": [
    "#y_valid_pred[ y_valid_pred>0 ] = 1\n",
    "#y_valid_pred[ y_valid_pred<0 ] = -1\n",
    "y_valid_pred = np.sign( y_valid_pred)"
   ]
  },
  {
   "cell_type": "code",
   "execution_count": 31,
   "metadata": {
    "collapsed": false
   },
   "outputs": [
    {
     "data": {
      "text/plain": [
       "1.0"
      ]
     },
     "execution_count": 31,
     "metadata": {},
     "output_type": "execute_result"
    }
   ],
   "source": [
    "(y_2d_valid == y_valid_pred).astype(theano.config.floatX).sum()/len(y_valid_pred)"
   ]
  },
  {
   "cell_type": "code",
   "execution_count": 29,
   "metadata": {
    "collapsed": false
   },
   "outputs": [
    {
     "data": {
      "text/plain": [
       "array([ 0.16666667,  0.16666667,  0.16666667,  0.16666667,  0.16666667,\n",
       "        0.16666667,  0.16666667,  0.16666667,  0.16666667,  0.16666667,\n",
       "        0.16666667,  0.16666667,  0.16666667,  0.16666667,  0.16666667,\n",
       "        0.16666667,  0.16666667,  0.16666667,  0.16666667,  0.16666667])"
      ]
     },
     "execution_count": 29,
     "metadata": {},
     "output_type": "execute_result"
    }
   ],
   "source": [
    "y_valid_pred"
   ]
  },
  {
   "cell_type": "code",
   "execution_count": 30,
   "metadata": {
    "collapsed": false
   },
   "outputs": [
    {
     "data": {
      "text/plain": [
       "array([1, 1, 1, 1, 1, 1, 1, 1, 1, 1, 1, 1, 1, 1, 1, 1, 1, 1, 1, 1])"
      ]
     },
     "execution_count": 30,
     "metadata": {},
     "output_type": "execute_result"
    }
   ],
   "source": [
    "y_2d_valid"
   ]
  },
  {
   "cell_type": "code",
   "execution_count": 46,
   "metadata": {
    "collapsed": false
   },
   "outputs": [
    {
     "ename": "AttributeError",
     "evalue": "'module' object has no attribute 'shared'",
     "output_type": "error",
     "traceback": [
      "\u001b[1;31m---------------------------------------------------------------------------\u001b[0m",
      "\u001b[1;31mAttributeError\u001b[0m                            Traceback (most recent call last)",
      "\u001b[1;32m<ipython-input-46-8bc9315467ed>\u001b[0m in \u001b[0;36m<module>\u001b[1;34m()\u001b[0m\n\u001b[1;32m----> 1\u001b[1;33m \u001b[0mT\u001b[0m\u001b[1;33m.\u001b[0m\u001b[0mshared\u001b[0m\u001b[1;33m(\u001b[0m \u001b[0mSVM_iris\u001b[0m\u001b[1;33m.\u001b[0m\u001b[0mX\u001b[0m\u001b[1;33m[\u001b[0m\u001b[1;36m0\u001b[0m\u001b[1;33m]\u001b[0m\u001b[1;33m)\u001b[0m\u001b[1;33m\u001b[0m\u001b[0m\n\u001b[0m",
      "\u001b[1;31mAttributeError\u001b[0m: 'module' object has no attribute 'shared'"
     ]
    }
   ],
   "source": [
    "SVM_iris_X"
   ]
  },
  {
   "cell_type": "code",
   "execution_count": 65,
   "metadata": {
    "collapsed": false
   },
   "outputs": [],
   "source": [
    "SVM_iris = SVM(X_2d_train,y_2d_train,len(y_2d_train),0.1,1.0,0.001)"
   ]
  },
  {
   "cell_type": "code",
   "execution_count": 66,
   "metadata": {
    "collapsed": true
   },
   "outputs": [],
   "source": [
    "SVM_iris.build_W();\n",
    "SVM_iris.build_update();\n",
    "SVM_iris.train_model_full();\n",
    "SVM_iris.build_b();"
   ]
  },
  {
   "cell_type": "code",
   "execution_count": 67,
   "metadata": {
    "collapsed": true
   },
   "outputs": [],
   "source": [
    "y_valid_pred = np.array( [ SVM_iris.make_predict(X_2d_valid_ele)[0] for X_2d_valid_ele in X_2d_valid ] ).flatten()"
   ]
  },
  {
   "cell_type": "code",
   "execution_count": 68,
   "metadata": {
    "collapsed": false
   },
   "outputs": [],
   "source": [
    "y_valid_pred[ y_valid_pred>0 ] = 1\n",
    "y_valid_pred[ y_valid_pred<0 ] = -1"
   ]
  },
  {
   "cell_type": "code",
   "execution_count": 69,
   "metadata": {
    "collapsed": false
   },
   "outputs": [
    {
     "data": {
      "text/plain": [
       "0.20000000000000001"
      ]
     },
     "execution_count": 69,
     "metadata": {},
     "output_type": "execute_result"
    }
   ],
   "source": [
    "(y_2d_valid == y_valid_pred).astype(theano.config.floatX).sum()/len(y_valid_pred)"
   ]
  },
  {
   "cell_type": "code",
   "execution_count": 70,
   "metadata": {
    "collapsed": true
   },
   "outputs": [],
   "source": [
    "SVM_iris = SVM(X_2d_train,y_2d_train,len(y_2d_train),0.1,0.1,0.001)"
   ]
  },
  {
   "cell_type": "code",
   "execution_count": 71,
   "metadata": {
    "collapsed": true
   },
   "outputs": [],
   "source": [
    "SVM_iris.build_W();\n",
    "SVM_iris.build_update();\n",
    "SVM_iris.train_model_full();\n",
    "SVM_iris.build_b();"
   ]
  },
  {
   "cell_type": "code",
   "execution_count": 72,
   "metadata": {
    "collapsed": true
   },
   "outputs": [],
   "source": [
    "y_valid_pred = np.array( [ SVM_iris.make_predict(X_2d_valid_ele)[0] for X_2d_valid_ele in X_2d_valid ] ).flatten()"
   ]
  },
  {
   "cell_type": "code",
   "execution_count": 73,
   "metadata": {
    "collapsed": true
   },
   "outputs": [],
   "source": [
    "y_valid_pred[ y_valid_pred>0 ] = 1\n",
    "y_valid_pred[ y_valid_pred<0 ] = -1"
   ]
  },
  {
   "cell_type": "code",
   "execution_count": 74,
   "metadata": {
    "collapsed": false
   },
   "outputs": [
    {
     "data": {
      "text/plain": [
       "0.25"
      ]
     },
     "execution_count": 74,
     "metadata": {},
     "output_type": "execute_result"
    }
   ],
   "source": [
    "(y_2d_valid == y_valid_pred).astype(theano.config.floatX).sum()/len(y_valid_pred)"
   ]
  },
  {
   "cell_type": "code",
   "execution_count": 75,
   "metadata": {
    "collapsed": true
   },
   "outputs": [],
   "source": [
    "SVM_iris = SVM(X_2d_train,y_2d_train,len(y_2d_train),0.01,0.1,0.001)"
   ]
  },
  {
   "cell_type": "code",
   "execution_count": 76,
   "metadata": {
    "collapsed": true
   },
   "outputs": [],
   "source": [
    "SVM_iris.build_W();\n",
    "SVM_iris.build_update();\n",
    "SVM_iris.train_model_full();\n",
    "SVM_iris.build_b();"
   ]
  },
  {
   "cell_type": "code",
   "execution_count": 77,
   "metadata": {
    "collapsed": true
   },
   "outputs": [],
   "source": [
    "y_valid_pred = np.array( [ SVM_iris.make_predict(X_2d_valid_ele)[0] for X_2d_valid_ele in X_2d_valid ] ).flatten()"
   ]
  },
  {
   "cell_type": "code",
   "execution_count": 78,
   "metadata": {
    "collapsed": true
   },
   "outputs": [],
   "source": [
    "y_valid_pred[ y_valid_pred>0 ] = 1\n",
    "y_valid_pred[ y_valid_pred<0 ] = -1"
   ]
  },
  {
   "cell_type": "code",
   "execution_count": 79,
   "metadata": {
    "collapsed": false
   },
   "outputs": [
    {
     "data": {
      "text/plain": [
       "0.25"
      ]
     },
     "execution_count": 79,
     "metadata": {},
     "output_type": "execute_result"
    }
   ],
   "source": [
    "(y_2d_valid == y_valid_pred).astype(theano.config.floatX).sum()/len(y_valid_pred)"
   ]
  },
  {
   "cell_type": "code",
   "execution_count": null,
   "metadata": {
    "collapsed": true
   },
   "outputs": [],
   "source": []
  },
  {
   "cell_type": "code",
   "execution_count": 53,
   "metadata": {
    "collapsed": false
   },
   "outputs": [],
   "source": [
    "m_val = np.cast[\"int32\"](X.shape[0])\n",
    "Xi = theano.shared( np.zeros_like(X[0],dtype=theano.config.floatX) )\n",
    "X = theano.shared( np.zeros_like(X,dtype=theano.config.floatX) )\n",
    "y = theano.shared( np.random.randint(2,size=m_val))\n",
    "yi = theano.shared( np.cast[\"int32\"]( np.random.randint(2)) )\n",
    "m = theano.shared( m_val )\n",
    "lambda_mult = theano.shared( np.zeros(m_val).astype(theano.config.floatX) ) # lambda Lagrange multipliers"
   ]
  },
  {
   "cell_type": "code",
   "execution_count": 63,
   "metadata": {
    "collapsed": false
   },
   "outputs": [
    {
     "ename": "ValueError",
     "evalue": "('setting an array element with a sequence.', 'Container name \"None\"')",
     "output_type": "error",
     "traceback": [
      "\u001b[1;31m---------------------------------------------------------------------------\u001b[0m",
      "\u001b[1;31mValueError\u001b[0m                                Traceback (most recent call last)",
      "\u001b[1;32m<ipython-input-63-edc7c221ea3d>\u001b[0m in \u001b[0;36m<module>\u001b[1;34m()\u001b[0m\n\u001b[1;32m----> 1\u001b[1;33m \u001b[0mXi\u001b[0m\u001b[1;33m.\u001b[0m\u001b[0mset_value\u001b[0m\u001b[1;33m(\u001b[0m \u001b[0mX\u001b[0m\u001b[1;33m[\u001b[0m\u001b[0mnp\u001b[0m\u001b[1;33m.\u001b[0m\u001b[0mint32\u001b[0m\u001b[1;33m(\u001b[0m\u001b[1;36m1\u001b[0m\u001b[1;33m)\u001b[0m\u001b[1;33m]\u001b[0m \u001b[1;33m)\u001b[0m\u001b[1;33m\u001b[0m\u001b[0m\n\u001b[0m",
      "\u001b[1;32m/home/topolo/PropD/Theano/theano/sandbox/cuda/var.pyc\u001b[0m in \u001b[0;36mset_value\u001b[1;34m(self, value, borrow)\u001b[0m\n\u001b[0;32m    100\u001b[0m                 \u001b[1;31m# in case this is a cuda_ndarray, we copy it\u001b[0m\u001b[1;33m\u001b[0m\u001b[1;33m\u001b[0m\u001b[0m\n\u001b[0;32m    101\u001b[0m                 \u001b[0mvalue\u001b[0m \u001b[1;33m=\u001b[0m \u001b[0mcopy\u001b[0m\u001b[1;33m.\u001b[0m\u001b[0mdeepcopy\u001b[0m\u001b[1;33m(\u001b[0m\u001b[0mvalue\u001b[0m\u001b[1;33m)\u001b[0m\u001b[1;33m\u001b[0m\u001b[0m\n\u001b[1;32m--> 102\u001b[1;33m         \u001b[0mself\u001b[0m\u001b[1;33m.\u001b[0m\u001b[0mcontainer\u001b[0m\u001b[1;33m.\u001b[0m\u001b[0mvalue\u001b[0m \u001b[1;33m=\u001b[0m \u001b[0mvalue\u001b[0m  \u001b[1;31m# this will copy a numpy ndarray\u001b[0m\u001b[1;33m\u001b[0m\u001b[0m\n\u001b[0m\u001b[0;32m    103\u001b[0m \u001b[1;33m\u001b[0m\u001b[0m\n\u001b[0;32m    104\u001b[0m     \u001b[1;32mdef\u001b[0m \u001b[0m__getitem__\u001b[0m\u001b[1;33m(\u001b[0m\u001b[0mself\u001b[0m\u001b[1;33m,\u001b[0m \u001b[1;33m*\u001b[0m\u001b[0margs\u001b[0m\u001b[1;33m)\u001b[0m\u001b[1;33m:\u001b[0m\u001b[1;33m\u001b[0m\u001b[0m\n",
      "\u001b[1;32m/home/topolo/PropD/Theano/theano/gof/link.pyc\u001b[0m in \u001b[0;36m__set__\u001b[1;34m(self, value)\u001b[0m\n\u001b[0;32m    475\u001b[0m                 self.storage[0] = self.type.filter_inplace(value,\n\u001b[0;32m    476\u001b[0m                                                            \u001b[0mself\u001b[0m\u001b[1;33m.\u001b[0m\u001b[0mstorage\u001b[0m\u001b[1;33m[\u001b[0m\u001b[1;36m0\u001b[0m\u001b[1;33m]\u001b[0m\u001b[1;33m,\u001b[0m\u001b[1;33m\u001b[0m\u001b[0m\n\u001b[1;32m--> 477\u001b[1;33m                                                            **kwargs)\n\u001b[0m\u001b[0;32m    478\u001b[0m             \u001b[1;32melse\u001b[0m\u001b[1;33m:\u001b[0m\u001b[1;33m\u001b[0m\u001b[0m\n\u001b[0;32m    479\u001b[0m                 \u001b[0mself\u001b[0m\u001b[1;33m.\u001b[0m\u001b[0mstorage\u001b[0m\u001b[1;33m[\u001b[0m\u001b[1;36m0\u001b[0m\u001b[1;33m]\u001b[0m \u001b[1;33m=\u001b[0m \u001b[0mself\u001b[0m\u001b[1;33m.\u001b[0m\u001b[0mtype\u001b[0m\u001b[1;33m.\u001b[0m\u001b[0mfilter\u001b[0m\u001b[1;33m(\u001b[0m\u001b[0mvalue\u001b[0m\u001b[1;33m,\u001b[0m \u001b[1;33m**\u001b[0m\u001b[0mkwargs\u001b[0m\u001b[1;33m)\u001b[0m\u001b[1;33m\u001b[0m\u001b[0m\n",
      "\u001b[1;32m/home/topolo/PropD/Theano/theano/sandbox/cuda/type.pyc\u001b[0m in \u001b[0;36mfilter_inplace\u001b[1;34m(self, data, old_data, strict, allow_downcast)\u001b[0m\n\u001b[0;32m    127\u001b[0m                         data)\n\u001b[0;32m    128\u001b[0m             \u001b[1;32melse\u001b[0m\u001b[1;33m:\u001b[0m\u001b[1;33m\u001b[0m\u001b[0m\n\u001b[1;32m--> 129\u001b[1;33m                 \u001b[0mconverted_data\u001b[0m \u001b[1;33m=\u001b[0m \u001b[0mtheano\u001b[0m\u001b[1;33m.\u001b[0m\u001b[0m_asarray\u001b[0m\u001b[1;33m(\u001b[0m\u001b[0mdata\u001b[0m\u001b[1;33m,\u001b[0m \u001b[0mself\u001b[0m\u001b[1;33m.\u001b[0m\u001b[0mdtype\u001b[0m\u001b[1;33m)\u001b[0m\u001b[1;33m\u001b[0m\u001b[0m\n\u001b[0m\u001b[0;32m    130\u001b[0m \u001b[1;33m\u001b[0m\u001b[0m\n\u001b[0;32m    131\u001b[0m                 if (allow_downcast is None and\n",
      "\u001b[1;32m/home/topolo/PropD/Theano/theano/misc/safe_asarray.pyc\u001b[0m in \u001b[0;36m_asarray\u001b[1;34m(a, dtype, order)\u001b[0m\n\u001b[0;32m     32\u001b[0m         \u001b[0mdtype\u001b[0m \u001b[1;33m=\u001b[0m \u001b[0mtheano\u001b[0m\u001b[1;33m.\u001b[0m\u001b[0mconfig\u001b[0m\u001b[1;33m.\u001b[0m\u001b[0mfloatX\u001b[0m\u001b[1;33m\u001b[0m\u001b[0m\n\u001b[0;32m     33\u001b[0m     \u001b[0mdtype\u001b[0m \u001b[1;33m=\u001b[0m \u001b[0mnp\u001b[0m\u001b[1;33m.\u001b[0m\u001b[0mdtype\u001b[0m\u001b[1;33m(\u001b[0m\u001b[0mdtype\u001b[0m\u001b[1;33m)\u001b[0m  \u001b[1;31m# Convert into dtype object.\u001b[0m\u001b[1;33m\u001b[0m\u001b[0m\n\u001b[1;32m---> 34\u001b[1;33m     \u001b[0mrval\u001b[0m \u001b[1;33m=\u001b[0m \u001b[0mnp\u001b[0m\u001b[1;33m.\u001b[0m\u001b[0masarray\u001b[0m\u001b[1;33m(\u001b[0m\u001b[0ma\u001b[0m\u001b[1;33m,\u001b[0m \u001b[0mdtype\u001b[0m\u001b[1;33m=\u001b[0m\u001b[0mdtype\u001b[0m\u001b[1;33m,\u001b[0m \u001b[0morder\u001b[0m\u001b[1;33m=\u001b[0m\u001b[0morder\u001b[0m\u001b[1;33m)\u001b[0m\u001b[1;33m\u001b[0m\u001b[0m\n\u001b[0m\u001b[0;32m     35\u001b[0m     \u001b[1;31m# Note that dtype comparison must be done by comparing their `num`\u001b[0m\u001b[1;33m\u001b[0m\u001b[1;33m\u001b[0m\u001b[0m\n\u001b[0;32m     36\u001b[0m     \u001b[1;31m# attribute. One cannot assume that two identical data types are pointers\u001b[0m\u001b[1;33m\u001b[0m\u001b[1;33m\u001b[0m\u001b[0m\n",
      "\u001b[1;32m/home/topolo/Public/anaconda2/lib/python2.7/site-packages/numpy/core/numeric.pyc\u001b[0m in \u001b[0;36masarray\u001b[1;34m(a, dtype, order)\u001b[0m\n\u001b[0;32m    480\u001b[0m \u001b[1;33m\u001b[0m\u001b[0m\n\u001b[0;32m    481\u001b[0m     \"\"\"\n\u001b[1;32m--> 482\u001b[1;33m     \u001b[1;32mreturn\u001b[0m \u001b[0marray\u001b[0m\u001b[1;33m(\u001b[0m\u001b[0ma\u001b[0m\u001b[1;33m,\u001b[0m \u001b[0mdtype\u001b[0m\u001b[1;33m,\u001b[0m \u001b[0mcopy\u001b[0m\u001b[1;33m=\u001b[0m\u001b[0mFalse\u001b[0m\u001b[1;33m,\u001b[0m \u001b[0morder\u001b[0m\u001b[1;33m=\u001b[0m\u001b[0morder\u001b[0m\u001b[1;33m)\u001b[0m\u001b[1;33m\u001b[0m\u001b[0m\n\u001b[0m\u001b[0;32m    483\u001b[0m \u001b[1;33m\u001b[0m\u001b[0m\n\u001b[0;32m    484\u001b[0m \u001b[1;32mdef\u001b[0m \u001b[0masanyarray\u001b[0m\u001b[1;33m(\u001b[0m\u001b[0ma\u001b[0m\u001b[1;33m,\u001b[0m \u001b[0mdtype\u001b[0m\u001b[1;33m=\u001b[0m\u001b[0mNone\u001b[0m\u001b[1;33m,\u001b[0m \u001b[0morder\u001b[0m\u001b[1;33m=\u001b[0m\u001b[0mNone\u001b[0m\u001b[1;33m)\u001b[0m\u001b[1;33m:\u001b[0m\u001b[1;33m\u001b[0m\u001b[0m\n",
      "\u001b[1;31mValueError\u001b[0m: ('setting an array element with a sequence.', 'Container name \"None\"')"
     ]
    }
   ],
   "source": [
    "Xi.set_value( X[np.int32(1)] )"
   ]
  },
  {
   "cell_type": "code",
   "execution_count": 41,
   "metadata": {
    "collapsed": false
   },
   "outputs": [
    {
     "data": {
      "text/plain": [
       "array([0, 1, 1, 1])"
      ]
     },
     "execution_count": 41,
     "metadata": {},
     "output_type": "execute_result"
    }
   ],
   "source": [
    "np.random.randint(2,size=4)"
   ]
  },
  {
   "cell_type": "code",
   "execution_count": 46,
   "metadata": {
    "collapsed": false
   },
   "outputs": [
    {
     "data": {
      "text/plain": [
       "1"
      ]
     },
     "execution_count": 46,
     "metadata": {},
     "output_type": "execute_result"
    }
   ],
   "source": [
    "np.random.randint(2)"
   ]
  },
  {
   "cell_type": "code",
   "execution_count": 67,
   "metadata": {
    "collapsed": false
   },
   "outputs": [],
   "source": [
    "X = np.random.randn(300,2)\n",
    "y = np.logical_xor(X[:,0] > 0, X[:,1] > 0)"
   ]
  },
  {
   "cell_type": "code",
   "execution_count": 70,
   "metadata": {
    "collapsed": true
   },
   "outputs": [],
   "source": [
    "def rbf(Xi,Xj,sigma):  \n",
    "        \"\"\" rbf - radial basis function\"\"\"\n",
    "        kernel_result = T.exp( -( (Xi-Xj)**2).sum()/ ( np.float32(2*sigma) )\n",
    "        return kernel_result\n",
    "\n",
    "class SVM(object):\n",
    "    \"\"\" SVM - Support Vector Machines \n",
    "    \"\"\"\n",
    "    def __init__(self,X,y,m,C,sigma,alpha):\n",
    "        assert m == X.shape[0] and m == y.shape[0]\n",
    "        self.C = np.float32(C)\n",
    "        self.sigma = np.float32(sigma)\n",
    "        self.alpha = np.float32(alpha)\n",
    "        \n",
    "        self._m = theano.shared( np.int32(m))\n",
    "            \n",
    "#        self._Xi = theano.shared( X[0].astype(theano.config.floatX) )\n",
    "        self.X = theano.shared( X.astype(theano.config.floatX) )\n",
    "        self.y = theano.shared( y.astype(theano.config.floatX) )\n",
    "#        self._yi = theano.shared( y[0].astype(theano.config.floatX)  )\n",
    "        self.lambda_mult = theano.shared( np.random.rand(m).astype(theano.config.floatX) ) # lambda Lagrange multipliers\n",
    "        \n",
    "                              \n",
    "    def build_W(self):\n",
    "        m = self._m.get_value()\n",
    "        X = self.X\n",
    "        y = self.y\n",
    "        lambda_mult = self.lambda_mult\n",
    "                              \n",
    "        def dual_step(Xj,yj,lambdaj, # input sequences we iterate over j=0,1,...m-1\n",
    "                      cumulative_sum, # previous iteration\n",
    "                      prodi,Xi,sigma): # non-sequences that aren't iterated over\n",
    "            prodj = prodi*lambdaj*yj*rbf(Xi,Xj,sigma)\n",
    "            return prodj + \n",
    "                              \n",
    "        for i in range(m):\n",
    "            Xi = self.X[i]\n",
    "            yi = self.y[i]\n",
    "            lambdai = self.lambda_mult[i]\n",
    "            prodi = lambdai*yi\n",
    "                \n",
    "                              \n",
    "                              \n",
    "            theano.scan(fn=dual_step,\n",
    "                        sequences=[X,y,lambda_mult],\n",
    "                        non_sequences=[prodi,Xi,sigma])\n",
    "                              \n",
    "                              \n",
    "                              \n",
    "                              \n",
    "        "
   ]
  },
  {
   "cell_type": "code",
   "execution_count": 69,
   "metadata": {
    "collapsed": false
   },
   "outputs": [
    {
     "data": {
      "text/plain": [
       "1.0"
      ]
     },
     "execution_count": 69,
     "metadata": {},
     "output_type": "execute_result"
    }
   ],
   "source": [
    "y[0].astype(theano.config.floatX)"
   ]
  },
  {
   "cell_type": "code",
   "execution_count": 74,
   "metadata": {
    "collapsed": true
   },
   "outputs": [],
   "source": [
    "test_SVM = SVM(X,y,len(y),1.,0.1,0.01)"
   ]
  },
  {
   "cell_type": "code",
   "execution_count": 80,
   "metadata": {
    "collapsed": false
   },
   "outputs": [],
   "source": [
    "range(test_SVM._m.get_value());"
   ]
  },
  {
   "cell_type": "code",
   "execution_count": 77,
   "metadata": {
    "collapsed": false
   },
   "outputs": [
    {
     "data": {
      "text/plain": [
       "array([ 0.06221329,  0.60626937,  0.40109709,  0.18349741])"
      ]
     },
     "execution_count": 77,
     "metadata": {},
     "output_type": "execute_result"
    }
   ],
   "source": [
    "np.random.rand(4)"
   ]
  },
  {
   "cell_type": "code",
   "execution_count": 81,
   "metadata": {
    "collapsed": false
   },
   "outputs": [
    {
     "data": {
      "text/plain": [
       "<CudaNdarrayType(float32, matrix)>"
      ]
     },
     "execution_count": 81,
     "metadata": {},
     "output_type": "execute_result"
    }
   ],
   "source": [
    "test_SVM.X"
   ]
  },
  {
   "cell_type": "markdown",
   "metadata": {
    "collapsed": true
   },
   "source": [
    "#### Test values"
   ]
  },
  {
   "cell_type": "code",
   "execution_count": 9,
   "metadata": {
    "collapsed": false
   },
   "outputs": [],
   "source": [
    "m=4\n",
    "d=2\n",
    "X_val=np.arange(2,m*d+2).reshape(m,d).astype(theano.config.floatX) \n",
    "X=theano.shared( X_val)\n",
    "y_val=np.random.randint(2,size=m).astype(theano.config.floatX)\n",
    "y=theano.shared( y_val )\n",
    "lambda_mult_val = np.random.rand(m).astype(theano.config.floatX)\n",
    "lambda_mult = theano.shared( lambda_mult_val ) # lambda Lagrange multipliers\n",
    "sigma_val = 2.0\n",
    "sigma = theano.shared( np.float32(sigma_val))"
   ]
  },
  {
   "cell_type": "code",
   "execution_count": 11,
   "metadata": {
    "collapsed": false
   },
   "outputs": [
    {
     "data": {
      "text/plain": [
       "array([0, 1, 1, 0])"
      ]
     },
     "execution_count": 11,
     "metadata": {},
     "output_type": "execute_result"
    }
   ],
   "source": [
    "np.random.randint(2,size=4)"
   ]
  },
  {
   "cell_type": "code",
   "execution_count": 13,
   "metadata": {
    "collapsed": false
   },
   "outputs": [
    {
     "data": {
      "text/plain": [
       "Subtensor{int64}.0"
      ]
     },
     "execution_count": 13,
     "metadata": {},
     "output_type": "execute_result"
    }
   ],
   "source": [
    "X[1]"
   ]
  },
  {
   "cell_type": "code",
   "execution_count": 14,
   "metadata": {
    "collapsed": false
   },
   "outputs": [
    {
     "data": {
      "text/plain": [
       "array([ 0.50587177,  0.21207985,  0.49935986,  0.96292576])"
      ]
     },
     "execution_count": 14,
     "metadata": {},
     "output_type": "execute_result"
    }
   ],
   "source": [
    "np.random.rand(4)"
   ]
  },
  {
   "cell_type": "code",
   "execution_count": null,
   "metadata": {
    "collapsed": true
   },
   "outputs": [],
   "source": [
    "#lambda_mult = theano.shared( np.zeros(m_val).astype(theano.config.floatX) ) # lambda Lagrange multipliers"
   ]
  },
  {
   "cell_type": "code",
   "execution_count": 16,
   "metadata": {
    "collapsed": true
   },
   "outputs": [],
   "source": [
    "prodi = lambda_mult[1]*y[1]"
   ]
  },
  {
   "cell_type": "code",
   "execution_count": 41,
   "metadata": {
    "collapsed": true
   },
   "outputs": [],
   "source": [
    "sigma=0.5\n",
    "def step(Xj,Xi):\n",
    "    rbf = T.exp(-(Xj-Xi)**2/(np.float32(2.*sigma**2)))\n",
    "    return sandbox.cuda.basic_ops.gpu_from_host(rbf)"
   ]
  },
  {
   "cell_type": "code",
   "execution_count": 42,
   "metadata": {
    "collapsed": false
   },
   "outputs": [],
   "source": [
    "output,update=theano.scan(fn=step, sequences=[X,],non_sequences=[X[1],])"
   ]
  },
  {
   "cell_type": "code",
   "execution_count": 43,
   "metadata": {
    "collapsed": true
   },
   "outputs": [],
   "source": [
    "test_rbf = theano.function(inputs=[],outputs=output,updates=update )"
   ]
  },
  {
   "cell_type": "code",
   "execution_count": 44,
   "metadata": {
    "collapsed": false
   },
   "outputs": [
    {
     "name": "stdout",
     "output_type": "stream",
     "text": [
      "(4, 2)\n"
     ]
    },
    {
     "data": {
      "text/plain": [
       "array([[  3.35462624e-04,   3.35462624e-04],\n",
       "       [  1.00000000e+00,   1.00000000e+00],\n",
       "       [  3.35462624e-04,   3.35462624e-04],\n",
       "       [  1.26641649e-14,   1.26641649e-14]], dtype=float32)"
      ]
     },
     "execution_count": 44,
     "metadata": {},
     "output_type": "execute_result"
    }
   ],
   "source": [
    "print(test_rbf().shape)\n",
    "test_rbf()"
   ]
  },
  {
   "cell_type": "code",
   "execution_count": 45,
   "metadata": {
    "collapsed": true
   },
   "outputs": [],
   "source": [
    "#Check\n",
    "prodi_val = lambda_mult_val[1]*y_val[1]"
   ]
  },
  {
   "cell_type": "code",
   "execution_count": 47,
   "metadata": {
    "collapsed": false
   },
   "outputs": [
    {
     "name": "stdout",
     "output_type": "stream",
     "text": [
      "1.12535e-07\n",
      "1.0\n",
      "1.12535e-07\n",
      "1.60381e-28\n"
     ]
    }
   ],
   "source": [
    "for j in range(4):\n",
    "    print( np.exp(-((X_val[j]-X_val[1])**2).sum(0)/(np.float32(2.*sigma**2))) )"
   ]
  },
  {
   "cell_type": "code",
   "execution_count": 48,
   "metadata": {
    "collapsed": false
   },
   "outputs": [
    {
     "data": {
      "text/plain": [
       "array([[ 2.,  3.],\n",
       "       [ 4.,  5.],\n",
       "       [ 6.,  7.],\n",
       "       [ 8.,  9.]], dtype=float32)"
      ]
     },
     "execution_count": 48,
     "metadata": {},
     "output_type": "execute_result"
    }
   ],
   "source": [
    "X_val"
   ]
  },
  {
   "cell_type": "code",
   "execution_count": 39,
   "metadata": {
    "collapsed": false
   },
   "outputs": [
    {
     "data": {
      "text/plain": [
       "array([[ 20.,  21.],\n",
       "       [ 22.,  23.],\n",
       "       [ 24.,  25.]], dtype=float32)"
      ]
     },
     "execution_count": 39,
     "metadata": {},
     "output_type": "execute_result"
    }
   ],
   "source": [
    "X_val[3]"
   ]
  },
  {
   "cell_type": "code",
   "execution_count": 49,
   "metadata": {
    "collapsed": true
   },
   "outputs": [],
   "source": [
    "prodi = lambda_mult[0]*y[0]"
   ]
  },
  {
   "cell_type": "code",
   "execution_count": 55,
   "metadata": {
    "collapsed": true
   },
   "outputs": [],
   "source": [
    "sigma=0.5\n",
    "def step(Xj,yj,lambda_multj,Xi):\n",
    "    rbf = lambda_multj*yj*T.exp(-((Xj-Xi)**2).sum()/(np.float32(2.*sigma**2)))\n",
    "    return sandbox.cuda.basic_ops.gpu_from_host(rbf)"
   ]
  },
  {
   "cell_type": "code",
   "execution_count": 56,
   "metadata": {
    "collapsed": true
   },
   "outputs": [],
   "source": [
    "output,update=theano.scan(fn=step, sequences=[X,y,lambda_mult],non_sequences=[X[0],])"
   ]
  },
  {
   "cell_type": "code",
   "execution_count": 57,
   "metadata": {
    "collapsed": true
   },
   "outputs": [],
   "source": [
    "test_rbf = theano.function(inputs=[],outputs=output,updates=update )"
   ]
  },
  {
   "cell_type": "code",
   "execution_count": 58,
   "metadata": {
    "collapsed": false
   },
   "outputs": [
    {
     "name": "stdout",
     "output_type": "stream",
     "text": [
      "(4,)\n"
     ]
    },
    {
     "data": {
      "text/plain": [
       "array([  8.78704727e-01,   2.64269353e-08,   7.92035906e-30,\n",
       "         0.00000000e+00], dtype=float32)"
      ]
     },
     "execution_count": 58,
     "metadata": {},
     "output_type": "execute_result"
    }
   ],
   "source": [
    "print(test_rbf().shape)\n",
    "test_rbf()"
   ]
  },
  {
   "cell_type": "code",
   "execution_count": 59,
   "metadata": {
    "collapsed": true
   },
   "outputs": [],
   "source": [
    "sigma=0.5\n",
    "\n",
    "def rbf(Xj,Xi,sigma):\n",
    "    rbf = T.exp(-((Xj-Xi)**2).sum()/(np.float32(2.*sigma**2)))\n",
    "    return rbf\n",
    "\n",
    "def step(Xj,yj,lambda_multj,Xi,yi,lambda_multi):\n",
    "#    W_i = lambda_multi*yi*lambda_multj*yj*T.exp(-((Xj-Xi)**2).sum()/(np.float32(2.*sigma**2)))\n",
    "    W_i = lambda_multi*yi*lambda_multj*yj*rbf(Xj,Xi,sigma)\n",
    "    return W_i"
   ]
  },
  {
   "cell_type": "code",
   "execution_count": 60,
   "metadata": {
    "collapsed": true
   },
   "outputs": [],
   "source": [
    "output,update=theano.scan(fn=step, sequences=[X,y,lambda_mult],non_sequences=[X[0],y[0],lambda_mult[0]])"
   ]
  },
  {
   "cell_type": "code",
   "execution_count": 61,
   "metadata": {
    "collapsed": true
   },
   "outputs": [],
   "source": [
    "test_rbf = theano.function(inputs=[],outputs=output,updates=update )"
   ]
  },
  {
   "cell_type": "code",
   "execution_count": 62,
   "metadata": {
    "collapsed": false
   },
   "outputs": [
    {
     "data": {
      "text/plain": [
       "array([  7.72122025e-01,   2.32214727e-08,   6.95965630e-30,\n",
       "         0.00000000e+00], dtype=float32)"
      ]
     },
     "execution_count": 62,
     "metadata": {},
     "output_type": "execute_result"
    }
   ],
   "source": [
    "test_rbf()"
   ]
  },
  {
   "cell_type": "code",
   "execution_count": 63,
   "metadata": {
    "collapsed": true
   },
   "outputs": [],
   "source": [
    "output1,update1=theano.scan(fn=step, sequences=[X,y,lambda_mult],non_sequences=[X[1],y[1],lambda_mult[1]])"
   ]
  },
  {
   "cell_type": "code",
   "execution_count": 66,
   "metadata": {
    "collapsed": true
   },
   "outputs": [],
   "source": [
    "test_rbf1 = theano.function(inputs=[],outputs=output1,updates=update1 )"
   ]
  },
  {
   "cell_type": "code",
   "execution_count": 67,
   "metadata": {
    "collapsed": false
   },
   "outputs": [
    {
     "data": {
      "text/plain": [
       "array([  2.32214727e-08,   5.51463775e-02,   1.30508415e-09,\n",
       "         2.93131262e-29], dtype=float32)"
      ]
     },
     "execution_count": 67,
     "metadata": {},
     "output_type": "execute_result"
    }
   ],
   "source": [
    "test_rbf1()"
   ]
  },
  {
   "cell_type": "code",
   "execution_count": 69,
   "metadata": {
    "collapsed": false
   },
   "outputs": [],
   "source": [
    "test_rbf = theano.function(inputs=[],outputs=output+output1 )"
   ]
  },
  {
   "cell_type": "code",
   "execution_count": 70,
   "metadata": {
    "collapsed": false
   },
   "outputs": [
    {
     "data": {
      "text/plain": [
       "array([  7.72122025e-01,   5.51463999e-02,   1.30508415e-09,\n",
       "         2.93131262e-29], dtype=float32)"
      ]
     },
     "execution_count": 70,
     "metadata": {},
     "output_type": "execute_result"
    }
   ],
   "source": [
    "test_rbf()"
   ]
  },
  {
   "cell_type": "code",
   "execution_count": 71,
   "metadata": {
    "collapsed": true
   },
   "outputs": [],
   "source": [
    "output,update=theano.scan(fn=step, sequences=[X,y,lambda_mult],non_sequences=[X[0],y[0],lambda_mult[0]])"
   ]
  },
  {
   "cell_type": "code",
   "execution_count": 74,
   "metadata": {
    "collapsed": true
   },
   "outputs": [],
   "source": [
    "updates=[update,]"
   ]
  },
  {
   "cell_type": "code",
   "execution_count": 75,
   "metadata": {
    "collapsed": false
   },
   "outputs": [],
   "source": [
    "for i in range(1,4):\n",
    "    outputi,updatei=theano.scan(fn=step, sequences=[X,y,lambda_mult],non_sequences=[X[i],y[i],lambda_mult[i]])\n",
    "    output += outputi\n",
    "    updates.append(update)"
   ]
  },
  {
   "cell_type": "code",
   "execution_count": 76,
   "metadata": {
    "collapsed": true
   },
   "outputs": [],
   "source": [
    "test_rbf = theano.function(inputs=[],outputs=output )"
   ]
  },
  {
   "cell_type": "code",
   "execution_count": 77,
   "metadata": {
    "collapsed": false
   },
   "outputs": [
    {
     "data": {
      "text/plain": [
       "array([ 0.77212203,  0.0551464 ,  0.00243885,  0.60576063], dtype=float32)"
      ]
     },
     "execution_count": 77,
     "metadata": {},
     "output_type": "execute_result"
    }
   ],
   "source": [
    "test_rbf()"
   ]
  },
  {
   "cell_type": "code",
   "execution_count": 81,
   "metadata": {
    "collapsed": true
   },
   "outputs": [],
   "source": [
    "sigma=1."
   ]
  },
  {
   "cell_type": "code",
   "execution_count": 82,
   "metadata": {
    "collapsed": false
   },
   "outputs": [
    {
     "name": "stdout",
     "output_type": "stream",
     "text": [
      "1.0\n",
      "0.0183156\n",
      "1.12535e-07\n",
      "2.31952e-16\n"
     ]
    }
   ],
   "source": [
    "for j in range(4):\n",
    "    print( np.exp(-((X_val[j]-X_val[0])**2).sum()/(np.float32(2.*sigma**2))) )"
   ]
  },
  {
   "cell_type": "code",
   "execution_count": 83,
   "metadata": {
    "collapsed": false
   },
   "outputs": [
    {
     "data": {
      "text/plain": [
       "array([[ 2.,  3.],\n",
       "       [ 4.,  5.],\n",
       "       [ 6.,  7.],\n",
       "       [ 8.,  9.]], dtype=float32)"
      ]
     },
     "execution_count": 83,
     "metadata": {},
     "output_type": "execute_result"
    }
   ],
   "source": [
    "X_val"
   ]
  },
  {
   "cell_type": "code",
   "execution_count": 84,
   "metadata": {
    "collapsed": false
   },
   "outputs": [
    {
     "data": {
      "text/plain": [
       "1.0183158"
      ]
     },
     "execution_count": 84,
     "metadata": {},
     "output_type": "execute_result"
    }
   ],
   "source": [
    "np.sum( [ np.exp(-((X_val[j]-X_val[0])**2).sum()/(np.float32(2.*sigma**2))) for j in range(4)])"
   ]
  },
  {
   "cell_type": "code",
   "execution_count": 85,
   "metadata": {
    "collapsed": true
   },
   "outputs": [],
   "source": [
    "def step(Xj,Xi):\n",
    "    rbf = T.exp(-((Xj-Xi)**2).sum()/(np.float32(2.*sigma**2)))\n",
    "    return rbf"
   ]
  },
  {
   "cell_type": "code",
   "execution_count": 86,
   "metadata": {
    "collapsed": true
   },
   "outputs": [],
   "source": [
    "output,update=theano.scan(fn=step, sequences=[X,],non_sequences=[X[0],])"
   ]
  },
  {
   "cell_type": "code",
   "execution_count": 87,
   "metadata": {
    "collapsed": true
   },
   "outputs": [],
   "source": [
    "test_rbf = theano.function(inputs=[],outputs=output,updates=update )"
   ]
  },
  {
   "cell_type": "code",
   "execution_count": 88,
   "metadata": {
    "collapsed": false
   },
   "outputs": [
    {
     "data": {
      "text/plain": [
       "array([  1.00000000e+00,   1.83156393e-02,   1.12535176e-07,\n",
       "         2.31952270e-16], dtype=float32)"
      ]
     },
     "execution_count": 88,
     "metadata": {},
     "output_type": "execute_result"
    }
   ],
   "source": [
    "test_rbf()"
   ]
  },
  {
   "cell_type": "code",
   "execution_count": 107,
   "metadata": {
    "collapsed": true
   },
   "outputs": [],
   "source": [
    "def step(Xj,Xi):\n",
    "    rbf = T.exp(-((Xj-Xi)**2).sum()/(np.float32(2.*sigma**2)))\n",
    "    return rbf"
   ]
  },
  {
   "cell_type": "code",
   "execution_count": 108,
   "metadata": {
    "collapsed": false
   },
   "outputs": [],
   "source": [
    "output,update=theano.scan(fn=step, sequences=[X],outputs_info=[None,],non_sequences=[X[0]])"
   ]
  },
  {
   "cell_type": "code",
   "execution_count": 109,
   "metadata": {
    "collapsed": true
   },
   "outputs": [],
   "source": [
    "test_rbf = theano.function(inputs=[],outputs=output,updates=update )"
   ]
  },
  {
   "cell_type": "code",
   "execution_count": 110,
   "metadata": {
    "collapsed": false
   },
   "outputs": [
    {
     "data": {
      "text/plain": [
       "array([  1.00000000e+00,   1.83156393e-02,   1.12535176e-07,\n",
       "         2.31952270e-16], dtype=float32)"
      ]
     },
     "execution_count": 110,
     "metadata": {},
     "output_type": "execute_result"
    }
   ],
   "source": [
    "test_rbf()"
   ]
  },
  {
   "cell_type": "code",
   "execution_count": 113,
   "metadata": {
    "collapsed": false
   },
   "outputs": [
    {
     "data": {
      "text/plain": [
       "array(2.3195226989972605e-16, dtype=float32)"
      ]
     },
     "execution_count": 113,
     "metadata": {},
     "output_type": "execute_result"
    }
   ],
   "source": [
    "output,update=theano.reduce(fn=step, sequences=[X],outputs_info=[None,],non_sequences=[X[0]])\n",
    "test_rbf = theano.function(inputs=[],outputs=output,updates=update )\n",
    "test_rbf()"
   ]
  },
  {
   "cell_type": "code",
   "execution_count": 114,
   "metadata": {
    "collapsed": true
   },
   "outputs": [],
   "source": [
    "def step(Xj,cumulative_sum,Xi):\n",
    "    rbf = T.exp(-((Xj-Xi)**2).sum()/(np.float32(2.*sigma**2)))\n",
    "    return cumulative_sum + rbf"
   ]
  },
  {
   "cell_type": "code",
   "execution_count": 116,
   "metadata": {
    "collapsed": false
   },
   "outputs": [],
   "source": [
    "W_i0 = theano.shared( np.float32(0.))"
   ]
  },
  {
   "cell_type": "code",
   "execution_count": 117,
   "metadata": {
    "collapsed": true
   },
   "outputs": [],
   "source": [
    "output,update=theano.scan(fn=step, sequences=[X],outputs_info=[W_i0,],non_sequences=[X[0]])"
   ]
  },
  {
   "cell_type": "code",
   "execution_count": 118,
   "metadata": {
    "collapsed": true
   },
   "outputs": [],
   "source": [
    "test_rbf = theano.function(inputs=[],outputs=output,updates=update )"
   ]
  },
  {
   "cell_type": "code",
   "execution_count": 119,
   "metadata": {
    "collapsed": false
   },
   "outputs": [
    {
     "data": {
      "text/plain": [
       "array([ 1.        ,  1.01831567,  1.01831579,  1.01831579], dtype=float32)"
      ]
     },
     "execution_count": 119,
     "metadata": {},
     "output_type": "execute_result"
    }
   ],
   "source": [
    "test_rbf()"
   ]
  },
  {
   "cell_type": "code",
   "execution_count": 120,
   "metadata": {
    "collapsed": false
   },
   "outputs": [
    {
     "data": {
      "text/plain": [
       "array(1.0183157920837402, dtype=float32)"
      ]
     },
     "execution_count": 120,
     "metadata": {},
     "output_type": "execute_result"
    }
   ],
   "source": [
    "# Also this works:\n",
    "output,update=theano.reduce(fn=step, sequences=[X],outputs_info=[W_i0,],non_sequences=[X[0]])\n",
    "test_rbf = theano.function(inputs=[],outputs=output,updates=update )\n",
    "test_rbf()"
   ]
  },
  {
   "cell_type": "code",
   "execution_count": 125,
   "metadata": {
    "collapsed": true
   },
   "outputs": [],
   "source": [
    "sigma=0.5\n",
    "\n",
    "def rbf(Xj,Xi,sigma):\n",
    "    rbf = T.exp(-((Xj-Xi)**2).sum()/(np.float32(2.*sigma**2)))\n",
    "    return rbf\n",
    "\n",
    "def step(Xj,yj,lambda_multj,cumulative_sum, Xi,yi,lambda_multi):\n",
    "    W_i = lambda_multi*yi*lambda_multj*yj*rbf(Xj,Xi,sigma)\n",
    "    return cumulative_sum + W_i"
   ]
  },
  {
   "cell_type": "code",
   "execution_count": 128,
   "metadata": {
    "collapsed": false
   },
   "outputs": [],
   "source": [
    "W_00 = theano.shared( np.float32(0.))\n",
    "output,update=theano.reduce(fn=step, sequences=[X,y,lambda_mult],outputs_info=[W_00],\n",
    "                          non_sequences=[X[0],y[0],lambda_mult[0]])\n",
    "updates=[update,]"
   ]
  },
  {
   "cell_type": "code",
   "execution_count": 133,
   "metadata": {
    "collapsed": false
   },
   "outputs": [],
   "source": [
    "for i in range(1,m):\n",
    "    W_i0 = theano.shared( np.float32(0.))\n",
    "    outputi,updatei=theano.reduce(fn=step, sequences=[X,y,lambda_mult],\n",
    "                                  outputs_info=[W_i0],\n",
    "                                non_sequences=[X[i],y[i],lambda_mult[i]])\n",
    "    output += outputi\n",
    "    updates.append(update)"
   ]
  },
  {
   "cell_type": "code",
   "execution_count": 134,
   "metadata": {
    "collapsed": true
   },
   "outputs": [],
   "source": [
    "test_rbf = theano.function(inputs=[],outputs=output )"
   ]
  },
  {
   "cell_type": "code",
   "execution_count": 135,
   "metadata": {
    "collapsed": false
   },
   "outputs": [
    {
     "data": {
      "text/plain": [
       "array(1.4354679584503174, dtype=float32)"
      ]
     },
     "execution_count": 135,
     "metadata": {},
     "output_type": "execute_result"
    }
   ],
   "source": [
    "test_rbf()"
   ]
  },
  {
   "cell_type": "code",
   "execution_count": 138,
   "metadata": {
    "collapsed": false
   },
   "outputs": [
    {
     "name": "stdout",
     "output_type": "stream",
     "text": [
      "1.43546790583\n"
     ]
    }
   ],
   "source": [
    "#sanity check\n",
    "cum_sum_val=0.\n",
    "for i in range(m):\n",
    "    toadd=np.sum([lambda_mult_val[i]*y_val[i]*lambda_mult_val[j]*y_val[j]*np.exp(-((X_val[j]-X_val[i])**2).sum()/(np.float32(2.*sigma**2))) for j in range(4)])\n",
    "    cum_sum_val += toadd\n",
    "print(cum_sum_val)"
   ]
  },
  {
   "cell_type": "code",
   "execution_count": 11,
   "metadata": {
    "collapsed": false
   },
   "outputs": [],
   "source": [
    "test_SVM=SVM(X_val,y_val,m,1.0,2.0,0.01)"
   ]
  },
  {
   "cell_type": "code",
   "execution_count": 14,
   "metadata": {
    "collapsed": false
   },
   "outputs": [],
   "source": [
    "test_f= theano.function( inputs=[], outputs=T.dot( test_SVM.y, test_SVM.lambda_mult))"
   ]
  },
  {
   "cell_type": "code",
   "execution_count": 15,
   "metadata": {
    "collapsed": false
   },
   "outputs": [
    {
     "data": {
      "text/plain": [
       "array(0.806511402130127, dtype=float32)"
      ]
     },
     "execution_count": 15,
     "metadata": {},
     "output_type": "execute_result"
    }
   ],
   "source": [
    "test_f()"
   ]
  },
  {
   "cell_type": "code",
   "execution_count": 17,
   "metadata": {
    "collapsed": true
   },
   "outputs": [],
   "source": [
    "test_f= theano.function( inputs=[], outputs=T.dot( test_SVM.y, test_SVM.y ))"
   ]
  },
  {
   "cell_type": "code",
   "execution_count": 18,
   "metadata": {
    "collapsed": false
   },
   "outputs": [
    {
     "data": {
      "text/plain": [
       "array(2.0, dtype=float32)"
      ]
     },
     "execution_count": 18,
     "metadata": {},
     "output_type": "execute_result"
    }
   ],
   "source": [
    "test_f()"
   ]
  },
  {
   "cell_type": "code",
   "execution_count": 19,
   "metadata": {
    "collapsed": false
   },
   "outputs": [
    {
     "data": {
      "text/plain": [
       "array([ 1.,  0.,  0.,  1.], dtype=float32)"
      ]
     },
     "execution_count": 19,
     "metadata": {},
     "output_type": "execute_result"
    }
   ],
   "source": [
    "test_SVM.y.get_value()"
   ]
  },
  {
   "cell_type": "code",
   "execution_count": 20,
   "metadata": {
    "collapsed": false
   },
   "outputs": [
    {
     "ename": "TypeError",
     "evalue": "'module' object is not callable",
     "output_type": "error",
     "traceback": [
      "\u001b[1;31m---------------------------------------------------------------------------\u001b[0m",
      "\u001b[1;31mTypeError\u001b[0m                                 Traceback (most recent call last)",
      "\u001b[1;32m<ipython-input-20-df7a9629eaea>\u001b[0m in \u001b[0;36m<module>\u001b[1;34m()\u001b[0m\n\u001b[1;32m----> 1\u001b[1;33m \u001b[0mtheano\u001b[0m\u001b[1;33m.\u001b[0m\u001b[0mifelse\u001b[0m\u001b[1;33m(\u001b[0m \u001b[0mT\u001b[0m\u001b[1;33m.\u001b[0m\u001b[0mlt\u001b[0m\u001b[1;33m(\u001b[0m\u001b[0mtest_SVM\u001b[0m\u001b[1;33m.\u001b[0m\u001b[0my\u001b[0m\u001b[1;33m,\u001b[0m\u001b[0mnp\u001b[0m\u001b[1;33m.\u001b[0m\u001b[0mfloat32\u001b[0m\u001b[1;33m(\u001b[0m\u001b[1;36m0\u001b[0m\u001b[1;33m)\u001b[0m\u001b[1;33m)\u001b[0m\u001b[1;33m,\u001b[0m \u001b[0mnp\u001b[0m\u001b[1;33m.\u001b[0m\u001b[0mfloat32\u001b[0m\u001b[1;33m(\u001b[0m\u001b[1;36m0\u001b[0m\u001b[1;33m)\u001b[0m\u001b[1;33m,\u001b[0m \u001b[0mtest_SVM\u001b[0m\u001b[1;33m.\u001b[0m\u001b[0my\u001b[0m \u001b[1;33m)\u001b[0m\u001b[1;33m\u001b[0m\u001b[0m\n\u001b[0m",
      "\u001b[1;31mTypeError\u001b[0m: 'module' object is not callable"
     ]
    }
   ],
   "source": [
    "theano.ifelse( T.lt(test_SVM.y,np.float32(0)), np.float32(0), test_SVM.y )"
   ]
  },
  {
   "cell_type": "code",
   "execution_count": 25,
   "metadata": {
    "collapsed": false
   },
   "outputs": [
    {
     "ename": "TypeError",
     "evalue": "Cannot convert Type TensorType(float32, vector) (of Variable HostFromGpu.0) into Type TensorType(float32, scalar). You can try to manually convert HostFromGpu.0 into a TensorType(float32, scalar).",
     "output_type": "error",
     "traceback": [
      "\u001b[1;31m---------------------------------------------------------------------------\u001b[0m",
      "\u001b[1;31mTypeError\u001b[0m                                 Traceback (most recent call last)",
      "\u001b[1;32m<ipython-input-25-3ae0dbcf3af8>\u001b[0m in \u001b[0;36m<module>\u001b[1;34m()\u001b[0m\n\u001b[0;32m      1\u001b[0m \u001b[0mlower_bound\u001b[0m \u001b[1;33m=\u001b[0m \u001b[0mtheano\u001b[0m\u001b[1;33m.\u001b[0m\u001b[0mshared\u001b[0m\u001b[1;33m(\u001b[0m \u001b[0mnp\u001b[0m\u001b[1;33m.\u001b[0m\u001b[0mfloat32\u001b[0m\u001b[1;33m(\u001b[0m\u001b[1;36m0.\u001b[0m\u001b[1;33m)\u001b[0m \u001b[1;33m)\u001b[0m\u001b[1;33m\u001b[0m\u001b[0m\n\u001b[1;32m----> 2\u001b[1;33m \u001b[0mtheano\u001b[0m\u001b[1;33m.\u001b[0m\u001b[0mifelse\u001b[0m\u001b[1;33m.\u001b[0m\u001b[0mifelse\u001b[0m\u001b[1;33m(\u001b[0m \u001b[0mT\u001b[0m\u001b[1;33m.\u001b[0m\u001b[0mlt\u001b[0m\u001b[1;33m(\u001b[0m\u001b[0mtest_SVM\u001b[0m\u001b[1;33m.\u001b[0m\u001b[0my\u001b[0m\u001b[1;33m,\u001b[0m \u001b[0mlower_bound\u001b[0m\u001b[1;33m)\u001b[0m\u001b[1;33m,\u001b[0m \u001b[0mlower_bound\u001b[0m\u001b[1;33m,\u001b[0m \u001b[0mtest_SVM\u001b[0m\u001b[1;33m.\u001b[0m\u001b[0my\u001b[0m \u001b[1;33m)\u001b[0m\u001b[1;33m\u001b[0m\u001b[0m\n\u001b[0m",
      "\u001b[1;32m/home/topolo/PropD/Theano/theano/ifelse.pyc\u001b[0m in \u001b[0;36mifelse\u001b[1;34m(condition, then_branch, else_branch, name)\u001b[0m\n\u001b[0;32m    359\u001b[0m                     isinstance(else_branch_elem.type, TensorType)):\n\u001b[0;32m    360\u001b[0m                 else_branch_elem = then_branch_elem.type.filter_variable(\n\u001b[1;32m--> 361\u001b[1;33m                     else_branch_elem)\n\u001b[0m\u001b[0;32m    362\u001b[0m \u001b[1;33m\u001b[0m\u001b[0m\n\u001b[0;32m    363\u001b[0m             elif (isinstance(else_branch_elem.type, TensorType) and not\n",
      "\u001b[1;32m/home/topolo/PropD/Theano/theano/tensor/type.pyc\u001b[0m in \u001b[0;36mfilter_variable\u001b[1;34m(self, other, allow_convert)\u001b[0m\n\u001b[0;32m    233\u001b[0m             dict(othertype=other.type,\n\u001b[0;32m    234\u001b[0m                  \u001b[0mother\u001b[0m\u001b[1;33m=\u001b[0m\u001b[0mother\u001b[0m\u001b[1;33m,\u001b[0m\u001b[1;33m\u001b[0m\u001b[0m\n\u001b[1;32m--> 235\u001b[1;33m                  self=self))\n\u001b[0m\u001b[0;32m    236\u001b[0m \u001b[1;33m\u001b[0m\u001b[0m\n\u001b[0;32m    237\u001b[0m     \u001b[1;32mdef\u001b[0m \u001b[0mvalue_validity_msg\u001b[0m\u001b[1;33m(\u001b[0m\u001b[0mself\u001b[0m\u001b[1;33m,\u001b[0m \u001b[0ma\u001b[0m\u001b[1;33m)\u001b[0m\u001b[1;33m:\u001b[0m\u001b[1;33m\u001b[0m\u001b[0m\n",
      "\u001b[1;31mTypeError\u001b[0m: Cannot convert Type TensorType(float32, vector) (of Variable HostFromGpu.0) into Type TensorType(float32, scalar). You can try to manually convert HostFromGpu.0 into a TensorType(float32, scalar)."
     ]
    }
   ],
   "source": [
    "lower_bound = theano.shared( np.float32(0.) )\n",
    "theano.ifelse.ifelse( T.lt(test_SVM.y, lower_bound), lower_bound, test_SVM.y )"
   ]
  },
  {
   "cell_type": "code",
   "execution_count": 35,
   "metadata": {
    "collapsed": false
   },
   "outputs": [],
   "source": [
    "lower_bound = theano.shared( np.float32(0.5) )\n",
    "#lower_bound_check=T.switch( T.lt(test_SVM.y, lower_bound), lower_bound, test_SVM.y )\n",
    "lower_bound_check=T.switch( T.lt(test_SVM.y, lower_bound), test_SVM.y, lower_bound )\n",
    "\n",
    "test_f=theano.function(inputs=[],outputs=lower_bound_check)"
   ]
  },
  {
   "cell_type": "code",
   "execution_count": 36,
   "metadata": {
    "collapsed": false
   },
   "outputs": [
    {
     "data": {
      "text/plain": [
       "array([ 0.5,  0. ,  0. ,  0.5], dtype=float32)"
      ]
     },
     "execution_count": 36,
     "metadata": {},
     "output_type": "execute_result"
    }
   ],
   "source": [
    "test_f()"
   ]
  },
  {
   "cell_type": "code",
   "execution_count": 37,
   "metadata": {
    "collapsed": false
   },
   "outputs": [
    {
     "data": {
      "text/plain": [
       "array([  6.95675101e-316,   6.92966431e-310,   1.38685057e-316,\n",
       "         6.92963114e-310,   2.37151510e-322])"
      ]
     },
     "execution_count": 37,
     "metadata": {},
     "output_type": "execute_result"
    }
   ],
   "source": [
    "np.ndarray(5)"
   ]
  },
  {
   "cell_type": "code",
   "execution_count": 31,
   "metadata": {
    "collapsed": false
   },
   "outputs": [],
   "source": [
    "dir(scipy);"
   ]
  },
  {
   "cell_type": "markdown",
   "metadata": {
    "collapsed": true
   },
   "source": [
    "cf. [A Practical Guide to Support Vector Classication, Chih-Wei Hsu, Chih-Chung Chang, and Chih-Jen Lin](http://www.csie.ntu.edu.tw/~cjlin/papers/guide/guide.pdf)"
   ]
  },
  {
   "cell_type": "code",
   "execution_count": 11,
   "metadata": {
    "collapsed": false
   },
   "outputs": [
    {
     "name": "stdout",
     "output_type": "stream",
     "text": [
      "3089\n"
     ]
    }
   ],
   "source": [
    "with open(\"./Data/train.1\",'rb') as f:\n",
    "    train_1_lst = f.readlines()\n",
    "f.close()\n",
    "# strip of '\\n'\n",
    "train_1_lst = [x.strip() for x in train_1_lst]\n",
    "print(len(train_1_lst))"
   ]
  },
  {
   "cell_type": "code",
   "execution_count": 12,
   "metadata": {
    "collapsed": false
   },
   "outputs": [],
   "source": [
    "train_1_lst=[line.replace('1:','').replace('2:','').replace('3:','').replace('4:','') for line in train_1_lst]"
   ]
  },
  {
   "cell_type": "code",
   "execution_count": 13,
   "metadata": {
    "collapsed": false
   },
   "outputs": [],
   "source": [
    "train_1_lst=[line.split() for line in train_1_lst]\n",
    "train_1_arr=np.array( [[float(ele) for ele in line] for line in train_1_lst] )"
   ]
  },
  {
   "cell_type": "code",
   "execution_count": 14,
   "metadata": {
    "collapsed": false
   },
   "outputs": [],
   "source": [
    "train_1_y=train_1_arr[:,0]\n",
    "train_1_X=train_1_arr[:,1:]"
   ]
  },
  {
   "cell_type": "code",
   "execution_count": 15,
   "metadata": {
    "collapsed": false
   },
   "outputs": [
    {
     "name": "stdout",
     "output_type": "stream",
     "text": [
      "(3089,)\n",
      "(3089, 4)\n"
     ]
    }
   ],
   "source": [
    "print(train_1_y.shape)\n",
    "print(train_1_X.shape)"
   ]
  },
  {
   "cell_type": "code",
   "execution_count": 69,
   "metadata": {
    "collapsed": false
   },
   "outputs": [
    {
     "name": "stdout",
     "output_type": "stream",
     "text": [
      "4000\n"
     ]
    }
   ],
   "source": [
    "with open(\"./Data/test.1\",'rb') as f:\n",
    "    test_1_lst = f.readlines()\n",
    "f.close()\n",
    "# strip of '\\n'\n",
    "test_1_lst = [x.strip() for x in test_1_lst]\n",
    "print(len(test_1_lst))\n",
    "\n",
    "test_1_lst=[line.replace('1:','').replace('2:','').replace('3:','').replace('4:','') for line in test_1_lst]\n",
    "\n",
    "test_1_lst=[line.split() for line in test_1_lst]\n",
    "test_1_arr=np.array( [[float(ele) for ele in line] for line in test_1_lst] )\n",
    "\n",
    "test_1_y=test_1_arr[:,0]\n",
    "test_1_X=test_1_arr[:,1:]"
   ]
  },
  {
   "cell_type": "code",
   "execution_count": 11,
   "metadata": {
    "collapsed": false
   },
   "outputs": [
    {
     "name": "stdout",
     "output_type": "stream",
     "text": [
      "1243\n"
     ]
    }
   ],
   "source": [
    "with open(\"./Data/train.3\",'rb') as f:\n",
    "    train_3_lst = f.readlines()\n",
    "f.close()\n",
    "# strip of '\\n'\n",
    "train_3_lst = [x.strip() for x in train_3_lst]\n",
    "print(len(train_3_lst))\n",
    "\n",
    "train_3_lst=[line.replace('1:','').replace('2:','').replace('3:','').replace('4:','').replace('5:','').replace('6:','').replace('7:','').replace('8:','').replace('9:','').replace('10:','').replace('11:','').replace('12:','').replace('13:','').replace('14:','').replace('15:','').replace('16:','').replace('17:','').replace('18:','').replace('19:','').replace('20:','').replace('21:','').replace('22:','') for line in train_3_lst]\n",
    "train_3_lst=[line.split() for line in train_3_lst]\n",
    "train_3_DF=pd.DataFrame( train_3_lst)"
   ]
  },
  {
   "cell_type": "code",
   "execution_count": 12,
   "metadata": {
    "collapsed": false
   },
   "outputs": [
    {
     "name": "stdout",
     "output_type": "stream",
     "text": [
      "(1243, 22)\n"
     ]
    }
   ],
   "source": [
    "train_3_y = train_3_DF[0].as_matrix().astype(theano.config.floatX)\n",
    "train_3_X = train_3_DF.ix[:,1:].as_matrix().astype(theano.config.floatX)\n",
    "print(train_3_X.shape)"
   ]
  },
  {
   "cell_type": "code",
   "execution_count": 52,
   "metadata": {
    "collapsed": false
   },
   "outputs": [],
   "source": [
    "ratiotraintotot = 0.2\n",
    "numberofexamples1 = len(train_1_y)\n",
    "numberoftrain1 = int( numberofexamples1 * ratiotraintotot )\n",
    "numberofvalid1 = numberofexamples1 - numberoftrain1"
   ]
  },
  {
   "cell_type": "code",
   "execution_count": 19,
   "metadata": {
    "collapsed": true
   },
   "outputs": [],
   "source": [
    "shuffled_idx = np.random.permutation(numberofexamples1)"
   ]
  },
  {
   "cell_type": "code",
   "execution_count": 53,
   "metadata": {
    "collapsed": false
   },
   "outputs": [],
   "source": [
    "train1_idx = shuffled_idx[:numberoftrain1]\n",
    "valid1_idx = shuffled_idx[numberoftrain1:]"
   ]
  },
  {
   "cell_type": "code",
   "execution_count": 21,
   "metadata": {
    "collapsed": true
   },
   "outputs": [],
   "source": [
    "from sklearn.svm import SVC"
   ]
  },
  {
   "cell_type": "code",
   "execution_count": 22,
   "metadata": {
    "collapsed": false
   },
   "outputs": [],
   "source": [
    "clf=SVC()"
   ]
  },
  {
   "cell_type": "code",
   "execution_count": 54,
   "metadata": {
    "collapsed": false
   },
   "outputs": [
    {
     "data": {
      "text/plain": [
       "SVC(C=1.0, cache_size=200, class_weight=None, coef0=0.0,\n",
       "  decision_function_shape=None, degree=3, gamma='auto', kernel='rbf',\n",
       "  max_iter=-1, probability=False, random_state=None, shrinking=True,\n",
       "  tol=0.001, verbose=False)"
      ]
     },
     "execution_count": 54,
     "metadata": {},
     "output_type": "execute_result"
    }
   ],
   "source": [
    "clf.fit(train_1_X[train1_idx],train_1_y[train1_idx])"
   ]
  },
  {
   "cell_type": "code",
   "execution_count": 55,
   "metadata": {
    "collapsed": false
   },
   "outputs": [
    {
     "data": {
      "text/plain": [
       "0.68042071197411003"
      ]
     },
     "execution_count": 55,
     "metadata": {},
     "output_type": "execute_result"
    }
   ],
   "source": [
    "(clf.predict(train_1_X[valid1_idx]) == train_1_y[valid1_idx]).astype(theano.config.floatX).sum()/len(valid1_idx)"
   ]
  },
  {
   "cell_type": "code",
   "execution_count": 76,
   "metadata": {
    "collapsed": false
   },
   "outputs": [
    {
     "data": {
      "text/plain": [
       "0.5"
      ]
     },
     "execution_count": 76,
     "metadata": {},
     "output_type": "execute_result"
    }
   ],
   "source": [
    "(clf.predict(test_1_X) == test_1_y).astype(theano.config.floatX).sum()/float(len(test_1_y))"
   ]
  },
  {
   "cell_type": "code",
   "execution_count": 25,
   "metadata": {
    "collapsed": false
   },
   "outputs": [
    {
     "data": {
      "text/html": [
       "<div>\n",
       "<table border=\"1\" class=\"dataframe\">\n",
       "  <thead>\n",
       "    <tr style=\"text-align: right;\">\n",
       "      <th></th>\n",
       "      <th>0</th>\n",
       "      <th>1</th>\n",
       "      <th>2</th>\n",
       "      <th>3</th>\n",
       "    </tr>\n",
       "  </thead>\n",
       "  <tbody>\n",
       "    <tr>\n",
       "      <th>count</th>\n",
       "      <td>3089.000000</td>\n",
       "      <td>3089.000000</td>\n",
       "      <td>3089.000000</td>\n",
       "      <td>3089.000000</td>\n",
       "    </tr>\n",
       "    <tr>\n",
       "      <th>mean</th>\n",
       "      <td>32.272548</td>\n",
       "      <td>113.256891</td>\n",
       "      <td>0.068555</td>\n",
       "      <td>115.665165</td>\n",
       "    </tr>\n",
       "    <tr>\n",
       "      <th>std</th>\n",
       "      <td>32.859650</td>\n",
       "      <td>95.473191</td>\n",
       "      <td>0.242481</td>\n",
       "      <td>38.173494</td>\n",
       "    </tr>\n",
       "    <tr>\n",
       "      <th>min</th>\n",
       "      <td>0.000000</td>\n",
       "      <td>-4.555206</td>\n",
       "      <td>-0.752439</td>\n",
       "      <td>8.157474</td>\n",
       "    </tr>\n",
       "    <tr>\n",
       "      <th>25%</th>\n",
       "      <td>16.539200</td>\n",
       "      <td>35.475700</td>\n",
       "      <td>-0.156715</td>\n",
       "      <td>94.214690</td>\n",
       "    </tr>\n",
       "    <tr>\n",
       "      <th>50%</th>\n",
       "      <td>23.466500</td>\n",
       "      <td>86.845020</td>\n",
       "      <td>0.126325</td>\n",
       "      <td>122.507700</td>\n",
       "    </tr>\n",
       "    <tr>\n",
       "      <th>75%</th>\n",
       "      <td>37.909000</td>\n",
       "      <td>164.437000</td>\n",
       "      <td>0.246017</td>\n",
       "      <td>145.348600</td>\n",
       "    </tr>\n",
       "    <tr>\n",
       "      <th>max</th>\n",
       "      <td>297.050000</td>\n",
       "      <td>581.073100</td>\n",
       "      <td>0.717061</td>\n",
       "      <td>180.000000</td>\n",
       "    </tr>\n",
       "  </tbody>\n",
       "</table>\n",
       "</div>"
      ],
      "text/plain": [
       "                 0            1            2            3\n",
       "count  3089.000000  3089.000000  3089.000000  3089.000000\n",
       "mean     32.272548   113.256891     0.068555   115.665165\n",
       "std      32.859650    95.473191     0.242481    38.173494\n",
       "min       0.000000    -4.555206    -0.752439     8.157474\n",
       "25%      16.539200    35.475700    -0.156715    94.214690\n",
       "50%      23.466500    86.845020     0.126325   122.507700\n",
       "75%      37.909000   164.437000     0.246017   145.348600\n",
       "max     297.050000   581.073100     0.717061   180.000000"
      ]
     },
     "execution_count": 25,
     "metadata": {},
     "output_type": "execute_result"
    }
   ],
   "source": [
    "pd.DataFrame(train_1_X).describe()"
   ]
  },
  {
   "cell_type": "code",
   "execution_count": 26,
   "metadata": {
    "collapsed": false
   },
   "outputs": [],
   "source": [
    "scaler = StandardScaler()  \n",
    "train_1_X_scaled = scaler.fit_transform(train_1_X)"
   ]
  },
  {
   "cell_type": "code",
   "execution_count": 27,
   "metadata": {
    "collapsed": false
   },
   "outputs": [
    {
     "data": {
      "text/html": [
       "<div>\n",
       "<table border=\"1\" class=\"dataframe\">\n",
       "  <thead>\n",
       "    <tr style=\"text-align: right;\">\n",
       "      <th></th>\n",
       "      <th>0</th>\n",
       "      <th>1</th>\n",
       "      <th>2</th>\n",
       "      <th>3</th>\n",
       "    </tr>\n",
       "  </thead>\n",
       "  <tbody>\n",
       "    <tr>\n",
       "      <th>count</th>\n",
       "      <td>3.089000e+03</td>\n",
       "      <td>3.089000e+03</td>\n",
       "      <td>3.089000e+03</td>\n",
       "      <td>3.089000e+03</td>\n",
       "    </tr>\n",
       "    <tr>\n",
       "      <th>mean</th>\n",
       "      <td>3.712921e-15</td>\n",
       "      <td>-5.839723e-16</td>\n",
       "      <td>-3.595556e-16</td>\n",
       "      <td>-7.099245e-15</td>\n",
       "    </tr>\n",
       "    <tr>\n",
       "      <th>std</th>\n",
       "      <td>1.000162e+00</td>\n",
       "      <td>1.000162e+00</td>\n",
       "      <td>1.000162e+00</td>\n",
       "      <td>1.000162e+00</td>\n",
       "    </tr>\n",
       "    <tr>\n",
       "      <th>min</th>\n",
       "      <td>-9.822921e-01</td>\n",
       "      <td>-1.234181e+00</td>\n",
       "      <td>-3.386346e+00</td>\n",
       "      <td>-2.816748e+00</td>\n",
       "    </tr>\n",
       "    <tr>\n",
       "      <th>25%</th>\n",
       "      <td>-4.788820e-01</td>\n",
       "      <td>-8.148233e-01</td>\n",
       "      <td>-9.291670e-01</td>\n",
       "      <td>-5.620116e-01</td>\n",
       "    </tr>\n",
       "    <tr>\n",
       "      <th>50%</th>\n",
       "      <td>-2.680331e-01</td>\n",
       "      <td>-2.766865e-01</td>\n",
       "      <td>2.382850e-01</td>\n",
       "      <td>1.792774e-01</td>\n",
       "    </tr>\n",
       "    <tr>\n",
       "      <th>75%</th>\n",
       "      <td>1.715589e-01</td>\n",
       "      <td>5.361546e-01</td>\n",
       "      <td>7.319796e-01</td>\n",
       "      <td>7.777187e-01</td>\n",
       "    </tr>\n",
       "    <tr>\n",
       "      <th>max</th>\n",
       "      <td>8.059134e+00</td>\n",
       "      <td>4.900768e+00</td>\n",
       "      <td>2.674890e+00</td>\n",
       "      <td>1.685600e+00</td>\n",
       "    </tr>\n",
       "  </tbody>\n",
       "</table>\n",
       "</div>"
      ],
      "text/plain": [
       "                  0             1             2             3\n",
       "count  3.089000e+03  3.089000e+03  3.089000e+03  3.089000e+03\n",
       "mean   3.712921e-15 -5.839723e-16 -3.595556e-16 -7.099245e-15\n",
       "std    1.000162e+00  1.000162e+00  1.000162e+00  1.000162e+00\n",
       "min   -9.822921e-01 -1.234181e+00 -3.386346e+00 -2.816748e+00\n",
       "25%   -4.788820e-01 -8.148233e-01 -9.291670e-01 -5.620116e-01\n",
       "50%   -2.680331e-01 -2.766865e-01  2.382850e-01  1.792774e-01\n",
       "75%    1.715589e-01  5.361546e-01  7.319796e-01  7.777187e-01\n",
       "max    8.059134e+00  4.900768e+00  2.674890e+00  1.685600e+00"
      ]
     },
     "execution_count": 27,
     "metadata": {},
     "output_type": "execute_result"
    }
   ],
   "source": [
    "pd.DataFrame(train_1_X_scaled).describe()"
   ]
  },
  {
   "cell_type": "code",
   "execution_count": 28,
   "metadata": {
    "collapsed": false
   },
   "outputs": [
    {
     "data": {
      "text/html": [
       "<div>\n",
       "<table border=\"1\" class=\"dataframe\">\n",
       "  <thead>\n",
       "    <tr style=\"text-align: right;\">\n",
       "      <th></th>\n",
       "      <th>0</th>\n",
       "    </tr>\n",
       "  </thead>\n",
       "  <tbody>\n",
       "    <tr>\n",
       "      <th>count</th>\n",
       "      <td>3089.000000</td>\n",
       "    </tr>\n",
       "    <tr>\n",
       "      <th>mean</th>\n",
       "      <td>0.647459</td>\n",
       "    </tr>\n",
       "    <tr>\n",
       "      <th>std</th>\n",
       "      <td>0.477839</td>\n",
       "    </tr>\n",
       "    <tr>\n",
       "      <th>min</th>\n",
       "      <td>0.000000</td>\n",
       "    </tr>\n",
       "    <tr>\n",
       "      <th>25%</th>\n",
       "      <td>0.000000</td>\n",
       "    </tr>\n",
       "    <tr>\n",
       "      <th>50%</th>\n",
       "      <td>1.000000</td>\n",
       "    </tr>\n",
       "    <tr>\n",
       "      <th>75%</th>\n",
       "      <td>1.000000</td>\n",
       "    </tr>\n",
       "    <tr>\n",
       "      <th>max</th>\n",
       "      <td>1.000000</td>\n",
       "    </tr>\n",
       "  </tbody>\n",
       "</table>\n",
       "</div>"
      ],
      "text/plain": [
       "                 0\n",
       "count  3089.000000\n",
       "mean      0.647459\n",
       "std       0.477839\n",
       "min       0.000000\n",
       "25%       0.000000\n",
       "50%       1.000000\n",
       "75%       1.000000\n",
       "max       1.000000"
      ]
     },
     "execution_count": 28,
     "metadata": {},
     "output_type": "execute_result"
    }
   ],
   "source": [
    "pd.DataFrame(train_1_y).describe()"
   ]
  },
  {
   "cell_type": "code",
   "execution_count": 28,
   "metadata": {
    "collapsed": true
   },
   "outputs": [],
   "source": [
    "train_1_y[ train_1_y < 1] = -1"
   ]
  },
  {
   "cell_type": "code",
   "execution_count": 29,
   "metadata": {
    "collapsed": false
   },
   "outputs": [
    {
     "data": {
      "text/plain": [
       "154"
      ]
     },
     "execution_count": 29,
     "metadata": {},
     "output_type": "execute_result"
    }
   ],
   "source": [
    "len(train1_idx)"
   ]
  },
  {
   "cell_type": "code",
   "execution_count": 56,
   "metadata": {
    "collapsed": false
   },
   "outputs": [],
   "source": [
    "SVM_1 = SVM_parallel(train_1_X_scaled[train1_idx],train_1_y[train1_idx],len(train_1_y[train1_idx]),1.0,1.,0.001)"
   ]
  },
  {
   "cell_type": "code",
   "execution_count": 57,
   "metadata": {
    "collapsed": false
   },
   "outputs": [],
   "source": [
    "SVM_1.build_W();"
   ]
  },
  {
   "cell_type": "code",
   "execution_count": 58,
   "metadata": {
    "collapsed": false
   },
   "outputs": [
    {
     "data": {
      "text/plain": [
       "(GpuFromHost.0, <theano.compile.function_module.Function at 0x7fe8fe417c10>)"
      ]
     },
     "execution_count": 58,
     "metadata": {},
     "output_type": "execute_result"
    }
   ],
   "source": [
    "SVM_1.build_update()"
   ]
  },
  {
   "cell_type": "code",
   "execution_count": 59,
   "metadata": {
    "collapsed": false
   },
   "outputs": [
    {
     "data": {
      "text/plain": [
       "(Elemwise{mul,no_inplace}.0, OrderedUpdates())"
      ]
     },
     "execution_count": 59,
     "metadata": {},
     "output_type": "execute_result"
    }
   ],
   "source": [
    "SVM_1.train_model_full()\n",
    "SVM_1.build_b()"
   ]
  },
  {
   "cell_type": "code",
   "execution_count": 35,
   "metadata": {
    "collapsed": false
   },
   "outputs": [
    {
     "ename": "NameError",
     "evalue": "name 'valid_1_X' is not defined",
     "output_type": "error",
     "traceback": [
      "\u001b[1;31m---------------------------------------------------------------------------\u001b[0m",
      "\u001b[1;31mNameError\u001b[0m                                 Traceback (most recent call last)",
      "\u001b[1;32m<ipython-input-35-d9ade50eaa5d>\u001b[0m in \u001b[0;36m<module>\u001b[1;34m()\u001b[0m\n\u001b[1;32m----> 1\u001b[1;33m \u001b[0mvalid_1_X_scaled\u001b[0m \u001b[1;33m=\u001b[0m \u001b[0mscaler\u001b[0m\u001b[1;33m.\u001b[0m\u001b[0mtransform\u001b[0m\u001b[1;33m(\u001b[0m\u001b[0mvalid_1_X\u001b[0m\u001b[1;33m)\u001b[0m\u001b[1;33m\u001b[0m\u001b[0m\n\u001b[0m",
      "\u001b[1;31mNameError\u001b[0m: name 'valid_1_X' is not defined"
     ]
    }
   ],
   "source": []
  },
  {
   "cell_type": "code",
   "execution_count": 60,
   "metadata": {
    "collapsed": false
   },
   "outputs": [],
   "source": [
    "#yhat_parallel = SVM_1.make_predictions(train_1_X_scaled[valid1_idx]) ;\n",
    "yhat_parallel = SVM_1.make_predictions_parallel(train_1_X_scaled[valid1_idx[:300]]) ;"
   ]
  },
  {
   "cell_type": "code",
   "execution_count": 36,
   "metadata": {
    "collapsed": true
   },
   "outputs": [],
   "source": [
    "yhat_parallel_2 = SVM_1.make_predictions_parallel(train_1_X_scaled[valid1_idx[:100]]) ;"
   ]
  },
  {
   "cell_type": "code",
   "execution_count": 61,
   "metadata": {
    "collapsed": false
   },
   "outputs": [
    {
     "data": {
      "text/plain": [
       "(300,)"
      ]
     },
     "execution_count": 61,
     "metadata": {},
     "output_type": "execute_result"
    }
   ],
   "source": [
    "yhat_parallel[0].shape"
   ]
  },
  {
   "cell_type": "code",
   "execution_count": 37,
   "metadata": {
    "collapsed": false
   },
   "outputs": [
    {
     "data": {
      "text/plain": [
       "(CudaNdarray([ 1.06532967  1.64311457 -1.47852945 -1.58601379  1.05086398 -0.49782896\n",
       "   1.45557761  0.4120605  -1.23792279  1.23897517 -1.38246512  0.9092896\n",
       "  -1.4292047  -1.44208336 -1.43128359 -0.9819535   1.37075341 -1.57761288\n",
       "  -1.33187222  1.02457297  0.77928293  1.2445482   1.57451165 -0.93099558\n",
       "   0.94742841 -1.43188941  1.59254408  1.2501024   0.87218213  1.38017094\n",
       "  -0.45651317  1.4014951  -1.31638932  1.07225263  0.74926066  1.78455269\n",
       "   0.83058614  1.32445002 -1.66566944  1.06068075  0.76313078 -0.72306609\n",
       "   0.02906038 -1.36807358  1.11386871 -1.49504721  1.61015987  1.40692878\n",
       "  -0.51949513  0.82104218  1.0796752  -0.812249    0.48507643  0.38147646\n",
       "  -0.3750838   0.38286799  1.62341988  0.8841731  -1.02292609  1.99942017\n",
       "   0.87027806 -1.53541613  1.3216902   0.22465101 -0.96404696  0.97882861\n",
       "  -1.51583326 -1.32324529 -0.88828182  1.04831994 -0.85362542  0.69190705\n",
       "   1.46849263  0.72825259 -1.15763843 -0.71747416  1.07399905 -0.04256304\n",
       "  -0.06824605  1.37278044  1.01930261 -1.64745283  0.51999462 -1.41425312\n",
       "   0.82940471  0.33227038  0.91453397  1.03423584  0.87238002 -0.7847386\n",
       "   1.70685458 -0.44013995 -1.32967114  1.62237906 -0.68824321  0.85025251\n",
       "  -1.08415461  1.22743475  1.86763048 -1.00724661]),\n",
       " <theano.compile.function_module.Function at 0x7fe8ff13fbd0>)"
      ]
     },
     "execution_count": 37,
     "metadata": {},
     "output_type": "execute_result"
    }
   ],
   "source": [
    "yhat_parallel_2"
   ]
  },
  {
   "cell_type": "code",
   "execution_count": 62,
   "metadata": {
    "collapsed": true
   },
   "outputs": [],
   "source": [
    "yhat = np.sign( yhat_parallel[0])"
   ]
  },
  {
   "cell_type": "code",
   "execution_count": 63,
   "metadata": {
    "collapsed": false
   },
   "outputs": [
    {
     "data": {
      "text/plain": [
       "0.95333333333333337"
      ]
     },
     "execution_count": 63,
     "metadata": {},
     "output_type": "execute_result"
    }
   ],
   "source": [
    "#(yhat == train_1_y[valid1_idx[:100]]).sum()/float(len(train_1_y[valid1_idx[:100]]))\n",
    "(yhat == train_1_y[valid1_idx[:300]]).sum()/float(len(train_1_y[valid1_idx[:300]]))"
   ]
  },
  {
   "cell_type": "code",
   "execution_count": 64,
   "metadata": {
    "collapsed": false
   },
   "outputs": [
    {
     "data": {
      "text/plain": [
       "2472"
      ]
     },
     "execution_count": 64,
     "metadata": {},
     "output_type": "execute_result"
    }
   ],
   "source": [
    "len(valid1_idx)"
   ]
  },
  {
   "cell_type": "code",
   "execution_count": 65,
   "metadata": {
    "collapsed": true
   },
   "outputs": [],
   "source": [
    "yhat_1000 = SVM_1.make_predictions_parallel(train_1_X_scaled[valid1_idx[:1000]]) ;"
   ]
  },
  {
   "cell_type": "code",
   "execution_count": 67,
   "metadata": {
    "collapsed": true
   },
   "outputs": [],
   "source": [
    "yhat_1000 = np.sign( yhat_1000[0])"
   ]
  },
  {
   "cell_type": "code",
   "execution_count": 68,
   "metadata": {
    "collapsed": false
   },
   "outputs": [
    {
     "data": {
      "text/plain": [
       "0.95599999999999996"
      ]
     },
     "execution_count": 68,
     "metadata": {},
     "output_type": "execute_result"
    }
   ],
   "source": [
    "(yhat_1000 == train_1_y[valid1_idx[:1000]]).sum()/float(len(train_1_y[valid1_idx[:1000]]))"
   ]
  },
  {
   "cell_type": "code",
   "execution_count": 70,
   "metadata": {
    "collapsed": true
   },
   "outputs": [],
   "source": [
    "test_1_X_scaled = scaler.transform(test_1_X)"
   ]
  },
  {
   "cell_type": "code",
   "execution_count": 71,
   "metadata": {
    "collapsed": true
   },
   "outputs": [],
   "source": [
    "yhat_test = SVM_1.make_predictions_parallel(test_1_X_scaled) ;"
   ]
  },
  {
   "cell_type": "code",
   "execution_count": 73,
   "metadata": {
    "collapsed": true
   },
   "outputs": [],
   "source": [
    "yhat_test = np.sign( yhat_test[0])"
   ]
  },
  {
   "cell_type": "code",
   "execution_count": 74,
   "metadata": {
    "collapsed": false
   },
   "outputs": [
    {
     "data": {
      "text/plain": [
       "0.46725"
      ]
     },
     "execution_count": 74,
     "metadata": {},
     "output_type": "execute_result"
    }
   ],
   "source": [
    "(yhat_test == test_1_y).sum()/float(len(test_1_y))"
   ]
  },
  {
   "cell_type": "code",
   "execution_count": 42,
   "metadata": {
    "collapsed": false
   },
   "outputs": [
    {
     "data": {
      "text/plain": [
       "array([ 1.,  1., -1., -1.,  1., -1.,  1.,  1., -1.,  1., -1.,  1., -1.,\n",
       "       -1., -1., -1.,  1., -1., -1.,  1.,  1.,  1.,  1., -1.,  1., -1.,\n",
       "        1.,  1.,  1.,  1., -1.,  1., -1.,  1.,  1.,  1.,  1.,  1., -1.,\n",
       "        1.,  1.,  1.,  1., -1.,  1., -1.,  1.,  1., -1.,  1.,  1., -1.,\n",
       "        1.,  1., -1.,  1.,  1.,  1., -1.,  1.,  1., -1.,  1.,  1., -1.,\n",
       "        1., -1., -1., -1.,  1., -1.,  1.,  1.,  1., -1., -1.,  1.,  1.,\n",
       "        1.,  1.,  1., -1.,  1., -1.,  1.,  1.,  1.,  1.,  1., -1.,  1.,\n",
       "        1., -1.,  1., -1.,  1., -1.,  1.,  1., -1.])"
      ]
     },
     "execution_count": 42,
     "metadata": {},
     "output_type": "execute_result"
    }
   ],
   "source": [
    "train_1_y[valid1_idx[:100]]"
   ]
  },
  {
   "cell_type": "markdown",
   "metadata": {},
   "source": [
    "So other people **have this same problem too with Python, inherently with Python**:  https://github.com/Theano/Theano/issues/689"
   ]
  },
  {
   "cell_type": "code",
   "execution_count": 46,
   "metadata": {
    "collapsed": true
   },
   "outputs": [],
   "source": [
    "import sys"
   ]
  },
  {
   "cell_type": "code",
   "execution_count": 34,
   "metadata": {
    "collapsed": false
   },
   "outputs": [
    {
     "data": {
      "text/plain": [
       "5000"
      ]
     },
     "execution_count": 34,
     "metadata": {},
     "output_type": "execute_result"
    }
   ],
   "source": [
    "sys.getrecursionlimit()"
   ]
  },
  {
   "cell_type": "code",
   "execution_count": 40,
   "metadata": {
    "collapsed": true
   },
   "outputs": [],
   "source": [
    "sys.setrecursionlimit(50000)"
   ]
  },
  {
   "cell_type": "code",
   "execution_count": 41,
   "metadata": {
    "collapsed": false
   },
   "outputs": [
    {
     "data": {
      "text/plain": [
       "50000"
      ]
     },
     "execution_count": 41,
     "metadata": {},
     "output_type": "execute_result"
    }
   ],
   "source": [
    "sys.getrecursionlimit()"
   ]
  },
  {
   "cell_type": "code",
   "execution_count": null,
   "metadata": {
    "collapsed": true
   },
   "outputs": [],
   "source": [
    "yhat_valid = SVM_1.make_predictions(train_1_X_scaled[valid1_idx])"
   ]
  },
  {
   "cell_type": "code",
   "execution_count": 79,
   "metadata": {
    "collapsed": true
   },
   "outputs": [],
   "source": [
    "SVM_1 = SVM_parallel(train_1_X_scaled,train_1_y,len(train_1_y),2.0,1.,0.01)"
   ]
  },
  {
   "cell_type": "code",
   "execution_count": 80,
   "metadata": {
    "collapsed": true
   },
   "outputs": [],
   "source": [
    "SVM_1.build_W();\n",
    "SVM_1.build_update();"
   ]
  },
  {
   "cell_type": "code",
   "execution_count": 81,
   "metadata": {
    "collapsed": false
   },
   "outputs": [
    {
     "data": {
      "text/plain": [
       "(Elemwise{mul,no_inplace}.0, OrderedUpdates())"
      ]
     },
     "execution_count": 81,
     "metadata": {},
     "output_type": "execute_result"
    }
   ],
   "source": [
    "SVM_1.train_model_full(100)  # 8 hours\n",
    "SVM_1.build_b()"
   ]
  },
  {
   "cell_type": "code",
   "execution_count": 82,
   "metadata": {
    "collapsed": true
   },
   "outputs": [],
   "source": [
    "yhat_test = SVM_1.make_predictions_parallel(test_1_X_scaled) ;"
   ]
  },
  {
   "cell_type": "code",
   "execution_count": 83,
   "metadata": {
    "collapsed": true
   },
   "outputs": [],
   "source": [
    "yhat_test = np.sign( yhat_test[0])"
   ]
  },
  {
   "cell_type": "code",
   "execution_count": 88,
   "metadata": {
    "collapsed": false
   },
   "outputs": [
    {
     "data": {
      "text/plain": [
       "0.69674999999999998"
      ]
     },
     "execution_count": 88,
     "metadata": {},
     "output_type": "execute_result"
    }
   ],
   "source": [
    "(yhat_test == test_1_y).sum()/float(len(test_1_y))"
   ]
  },
  {
   "cell_type": "code",
   "execution_count": 85,
   "metadata": {
    "collapsed": false
   },
   "outputs": [
    {
     "data": {
      "text/plain": [
       "array([ 0.,  0.,  0., ...,  1.,  1.,  1.])"
      ]
     },
     "execution_count": 85,
     "metadata": {},
     "output_type": "execute_result"
    }
   ],
   "source": [
    "test_1_y"
   ]
  },
  {
   "cell_type": "code",
   "execution_count": 87,
   "metadata": {
    "collapsed": true
   },
   "outputs": [],
   "source": [
    "test_1_y[ test_1_y < 1] = -1"
   ]
  },
  {
   "cell_type": "code",
   "execution_count": 86,
   "metadata": {
    "collapsed": false
   },
   "outputs": [
    {
     "data": {
      "text/plain": [
       "array([ 1.,  1., -1., ...,  1.,  1., -1.], dtype=float32)"
      ]
     },
     "execution_count": 86,
     "metadata": {},
     "output_type": "execute_result"
    }
   ],
   "source": [
    "yhat_test[ ]"
   ]
  },
  {
   "cell_type": "code",
   "execution_count": 90,
   "metadata": {
    "collapsed": false
   },
   "outputs": [
    {
     "data": {
      "text/plain": [
       "SVC(C=2.0, cache_size=200, class_weight=None, coef0=0.0,\n",
       "  decision_function_shape=None, degree=3, gamma=2.0, kernel='rbf',\n",
       "  max_iter=-1, probability=False, random_state=None, shrinking=True,\n",
       "  tol=0.001, verbose=False)"
      ]
     },
     "execution_count": 90,
     "metadata": {},
     "output_type": "execute_result"
    }
   ],
   "source": [
    "# SVC\n",
    "clf=SVC(C=2.0,gamma=2.0)\n",
    "clf.fit(train_1_X_scaled,train_1_y)\n"
   ]
  },
  {
   "cell_type": "code",
   "execution_count": 91,
   "metadata": {
    "collapsed": false
   },
   "outputs": [
    {
     "data": {
      "text/plain": [
       "0.96650000000000003"
      ]
     },
     "execution_count": 91,
     "metadata": {},
     "output_type": "execute_result"
    }
   ],
   "source": [
    "(clf.predict(test_1_X_scaled) == test_1_y).sum()/float(len(test_1_y))"
   ]
  },
  {
   "cell_type": "code",
   "execution_count": null,
   "metadata": {
    "collapsed": true
   },
   "outputs": [],
   "source": [
    "SVM_1_C2 = SVM_1"
   ]
  },
  {
   "cell_type": "code",
   "execution_count": 102,
   "metadata": {
    "collapsed": false
   },
   "outputs": [],
   "source": [
    "SVM_1 = SVM_parallel(train_1_X_scaled,train_1_y,len(train_1_y),2.0,0.25,0.001)"
   ]
  },
  {
   "cell_type": "code",
   "execution_count": 103,
   "metadata": {
    "collapsed": true
   },
   "outputs": [],
   "source": [
    "SVM_1.build_W();\n",
    "SVM_1.build_update();"
   ]
  },
  {
   "cell_type": "code",
   "execution_count": 104,
   "metadata": {
    "collapsed": false
   },
   "outputs": [
    {
     "name": "stdout",
     "output_type": "stream",
     "text": [
      "CPU times: user 43min 45s, sys: 1min 10s, total: 44min 56s\n",
      "Wall time: 44min 54s\n"
     ]
    },
    {
     "data": {
      "text/plain": [
       "(Elemwise{mul,no_inplace}.0, OrderedUpdates())"
      ]
     },
     "execution_count": 104,
     "metadata": {},
     "output_type": "execute_result"
    }
   ],
   "source": [
    "%time SVM_1.train_model_full(10)  # CPU times: user 43min 45s, sys: 1min 10s, total: 44min 56s\n",
    "#Wall time: 44min 54s\n",
    "\n",
    "SVM_1.build_b()"
   ]
  },
  {
   "cell_type": "code",
   "execution_count": 105,
   "metadata": {
    "collapsed": false
   },
   "outputs": [],
   "source": [
    "yhat_test = SVM_1.make_predictions_parallel(test_1_X_scaled) ;\n",
    "yhat_test = np.sign( yhat_test[0]);"
   ]
  },
  {
   "cell_type": "code",
   "execution_count": 106,
   "metadata": {
    "collapsed": false
   },
   "outputs": [
    {
     "data": {
      "text/plain": [
       "0.94950000000000001"
      ]
     },
     "execution_count": 106,
     "metadata": {},
     "output_type": "execute_result"
    }
   ],
   "source": [
    "(yhat_test == test_1_y).sum()/float(len(test_1_y))\n"
   ]
  },
  {
   "cell_type": "code",
   "execution_count": 107,
   "metadata": {
    "collapsed": true
   },
   "outputs": [],
   "source": [
    "SVM_1_C2 = SVM_1"
   ]
  },
  {
   "cell_type": "code",
   "execution_count": 108,
   "metadata": {
    "collapsed": true
   },
   "outputs": [],
   "source": [
    "SVM_1 = SVM_parallel(train_1_X_scaled,train_1_y,len(train_1_y),2.0,0.20,0.001)  # sigma=0.2"
   ]
  },
  {
   "cell_type": "code",
   "execution_count": 109,
   "metadata": {
    "collapsed": true
   },
   "outputs": [],
   "source": [
    "SVM_1.build_W();\n",
    "SVM_1.build_update();"
   ]
  },
  {
   "cell_type": "code",
   "execution_count": 110,
   "metadata": {
    "collapsed": false
   },
   "outputs": [
    {
     "name": "stdout",
     "output_type": "stream",
     "text": [
      "CPU times: user 1h 28min 16s, sys: 2min 33s, total: 1h 30min 49s\n",
      "Wall time: 1h 30min 44s\n"
     ]
    },
    {
     "data": {
      "text/plain": [
       "(Elemwise{mul,no_inplace}.0, OrderedUpdates())"
      ]
     },
     "execution_count": 110,
     "metadata": {},
     "output_type": "execute_result"
    }
   ],
   "source": [
    "%time SVM_1.train_model_full(20)  \n",
    "SVM_1.build_b()"
   ]
  },
  {
   "cell_type": "code",
   "execution_count": 111,
   "metadata": {
    "collapsed": true
   },
   "outputs": [],
   "source": [
    "yhat_test = SVM_1.make_predictions_parallel(test_1_X_scaled) ;\n",
    "yhat_test = np.sign( yhat_test[0]);"
   ]
  },
  {
   "cell_type": "code",
   "execution_count": 112,
   "metadata": {
    "collapsed": false
   },
   "outputs": [
    {
     "data": {
      "text/plain": [
       "0.93125000000000002"
      ]
     },
     "execution_count": 112,
     "metadata": {},
     "output_type": "execute_result"
    }
   ],
   "source": [
    "(yhat_test == test_1_y).sum()/float(len(test_1_y))  # sigma = 0.2\n"
   ]
  },
  {
   "cell_type": "code",
   "execution_count": 113,
   "metadata": {
    "collapsed": true
   },
   "outputs": [],
   "source": [
    "SVM_1 = SVM_parallel(train_1_X_scaled,train_1_y,len(train_1_y),2.0,0.30,0.001)"
   ]
  },
  {
   "cell_type": "code",
   "execution_count": 114,
   "metadata": {
    "collapsed": true
   },
   "outputs": [],
   "source": [
    "SVM_1.build_W();\n",
    "SVM_1.build_update();"
   ]
  },
  {
   "cell_type": "code",
   "execution_count": 115,
   "metadata": {
    "collapsed": false
   },
   "outputs": [
    {
     "name": "stdout",
     "output_type": "stream",
     "text": [
      "CPU times: user 1h 5min 30s, sys: 1min 47s, total: 1h 7min 18s\n",
      "Wall time: 1h 7min 14s\n"
     ]
    },
    {
     "data": {
      "text/plain": [
       "(Elemwise{mul,no_inplace}.0, OrderedUpdates())"
      ]
     },
     "execution_count": 115,
     "metadata": {},
     "output_type": "execute_result"
    }
   ],
   "source": [
    "%time SVM_1.train_model_full(15)  \n",
    "SVM_1.build_b()"
   ]
  },
  {
   "cell_type": "code",
   "execution_count": 116,
   "metadata": {
    "collapsed": true
   },
   "outputs": [],
   "source": [
    "yhat_test = SVM_1.make_predictions_parallel(test_1_X_scaled) ;\n",
    "yhat_test = np.sign( yhat_test[0]);"
   ]
  },
  {
   "cell_type": "code",
   "execution_count": 117,
   "metadata": {
    "collapsed": false
   },
   "outputs": [
    {
     "data": {
      "text/plain": [
       "0.96125000000000005"
      ]
     },
     "execution_count": 117,
     "metadata": {},
     "output_type": "execute_result"
    }
   ],
   "source": [
    "(yhat_test == test_1_y).sum()/float(len(test_1_y))"
   ]
  },
  {
   "cell_type": "markdown",
   "metadata": {},
   "source": [
    "### Vehicle data set from Anonymous user from Germany\n",
    "cf. [*A Practical Guide to Support Vector Classication*, Chih-Wei Hsu, Chih-Chung Chang, and Chih-Jen Lin](http://www.csie.ntu.edu.tw/~cjlin/papers/guide/guide.pdf)  \n",
    "http://www.csie.ntu.edu.tw/~cjlin/papers/guide/data/"
   ]
  },
  {
   "cell_type": "markdown",
   "metadata": {},
   "source": [
    "Get and data clean/data wrangle/preprocess the test data, test_3 for vehicle data set"
   ]
  },
  {
   "cell_type": "code",
   "execution_count": 13,
   "metadata": {
    "collapsed": false
   },
   "outputs": [
    {
     "name": "stdout",
     "output_type": "stream",
     "text": [
      "41\n"
     ]
    }
   ],
   "source": [
    "with open(\"./Data/test.3\",'rb') as f:\n",
    "    test_3_lst = f.readlines()\n",
    "f.close()\n",
    "# strip of '\\n'\n",
    "test_3_lst = [x.strip() for x in test_3_lst]\n",
    "print(len(test_3_lst))\n",
    "\n",
    "test_3_lst=[line.replace('1:','').replace('2:','').replace('3:','').replace('4:','').replace('5:','').replace('6:','').replace('7:','').replace('8:','').replace('9:','').replace('10:','').replace('11:','').replace('12:','').replace('13:','').replace('14:','').replace('15:','').replace('16:','').replace('17:','').replace('18:','').replace('19:','').replace('20:','').replace('21:','').replace('22:','') for line in test_3_lst]\n",
    "test_3_lst=[line.split() for line in test_3_lst]\n",
    "test_3_DF=pd.DataFrame( test_3_lst)"
   ]
  },
  {
   "cell_type": "code",
   "execution_count": 14,
   "metadata": {
    "collapsed": false
   },
   "outputs": [
    {
     "name": "stdout",
     "output_type": "stream",
     "text": [
      "(41, 22)\n",
      "(41,)\n"
     ]
    }
   ],
   "source": [
    "test_3_y = test_3_DF[0].as_matrix().astype(theano.config.floatX)\n",
    "test_3_X = test_3_DF.ix[:,1:].as_matrix().astype(theano.config.floatX)\n",
    "print(test_3_X.shape)\n",
    "print(test_3_y.shape)"
   ]
  },
  {
   "cell_type": "markdown",
   "metadata": {},
   "source": [
    "Scale the `train.3` Vehicle data"
   ]
  },
  {
   "cell_type": "code",
   "execution_count": 15,
   "metadata": {
    "collapsed": false
   },
   "outputs": [
    {
     "ename": "ValueError",
     "evalue": "Input contains NaN, infinity or a value too large for dtype('float32').",
     "output_type": "error",
     "traceback": [
      "\u001b[1;31m---------------------------------------------------------------------------\u001b[0m",
      "\u001b[1;31mValueError\u001b[0m                                Traceback (most recent call last)",
      "\u001b[1;32m<ipython-input-15-ace7b1ce77d4>\u001b[0m in \u001b[0;36m<module>\u001b[1;34m()\u001b[0m\n\u001b[0;32m      1\u001b[0m \u001b[0mscaler\u001b[0m \u001b[1;33m=\u001b[0m \u001b[0mStandardScaler\u001b[0m\u001b[1;33m(\u001b[0m\u001b[1;33m)\u001b[0m\u001b[1;33m\u001b[0m\u001b[0m\n\u001b[1;32m----> 2\u001b[1;33m \u001b[0mtrain_3_X_scaled\u001b[0m \u001b[1;33m=\u001b[0m \u001b[0mscaler\u001b[0m\u001b[1;33m.\u001b[0m\u001b[0mfit_transform\u001b[0m\u001b[1;33m(\u001b[0m\u001b[0mtrain_3_X\u001b[0m\u001b[1;33m)\u001b[0m\u001b[1;33m\u001b[0m\u001b[0m\n\u001b[0m",
      "\u001b[1;32m/home/topolo/Public/anaconda2/lib/python2.7/site-packages/sklearn/base.pyc\u001b[0m in \u001b[0;36mfit_transform\u001b[1;34m(self, X, y, **fit_params)\u001b[0m\n\u001b[0;32m    492\u001b[0m         \u001b[1;32mif\u001b[0m \u001b[0my\u001b[0m \u001b[1;32mis\u001b[0m \u001b[0mNone\u001b[0m\u001b[1;33m:\u001b[0m\u001b[1;33m\u001b[0m\u001b[0m\n\u001b[0;32m    493\u001b[0m             \u001b[1;31m# fit method of arity 1 (unsupervised transformation)\u001b[0m\u001b[1;33m\u001b[0m\u001b[1;33m\u001b[0m\u001b[0m\n\u001b[1;32m--> 494\u001b[1;33m             \u001b[1;32mreturn\u001b[0m \u001b[0mself\u001b[0m\u001b[1;33m.\u001b[0m\u001b[0mfit\u001b[0m\u001b[1;33m(\u001b[0m\u001b[0mX\u001b[0m\u001b[1;33m,\u001b[0m \u001b[1;33m**\u001b[0m\u001b[0mfit_params\u001b[0m\u001b[1;33m)\u001b[0m\u001b[1;33m.\u001b[0m\u001b[0mtransform\u001b[0m\u001b[1;33m(\u001b[0m\u001b[0mX\u001b[0m\u001b[1;33m)\u001b[0m\u001b[1;33m\u001b[0m\u001b[0m\n\u001b[0m\u001b[0;32m    495\u001b[0m         \u001b[1;32melse\u001b[0m\u001b[1;33m:\u001b[0m\u001b[1;33m\u001b[0m\u001b[0m\n\u001b[0;32m    496\u001b[0m             \u001b[1;31m# fit method of arity 2 (supervised transformation)\u001b[0m\u001b[1;33m\u001b[0m\u001b[1;33m\u001b[0m\u001b[0m\n",
      "\u001b[1;32m/home/topolo/Public/anaconda2/lib/python2.7/site-packages/sklearn/preprocessing/data.pyc\u001b[0m in \u001b[0;36mfit\u001b[1;34m(self, X, y)\u001b[0m\n\u001b[0;32m    558\u001b[0m         \u001b[1;31m# Reset internal state before fitting\u001b[0m\u001b[1;33m\u001b[0m\u001b[1;33m\u001b[0m\u001b[0m\n\u001b[0;32m    559\u001b[0m         \u001b[0mself\u001b[0m\u001b[1;33m.\u001b[0m\u001b[0m_reset\u001b[0m\u001b[1;33m(\u001b[0m\u001b[1;33m)\u001b[0m\u001b[1;33m\u001b[0m\u001b[0m\n\u001b[1;32m--> 560\u001b[1;33m         \u001b[1;32mreturn\u001b[0m \u001b[0mself\u001b[0m\u001b[1;33m.\u001b[0m\u001b[0mpartial_fit\u001b[0m\u001b[1;33m(\u001b[0m\u001b[0mX\u001b[0m\u001b[1;33m,\u001b[0m \u001b[0my\u001b[0m\u001b[1;33m)\u001b[0m\u001b[1;33m\u001b[0m\u001b[0m\n\u001b[0m\u001b[0;32m    561\u001b[0m \u001b[1;33m\u001b[0m\u001b[0m\n\u001b[0;32m    562\u001b[0m     \u001b[1;32mdef\u001b[0m \u001b[0mpartial_fit\u001b[0m\u001b[1;33m(\u001b[0m\u001b[0mself\u001b[0m\u001b[1;33m,\u001b[0m \u001b[0mX\u001b[0m\u001b[1;33m,\u001b[0m \u001b[0my\u001b[0m\u001b[1;33m=\u001b[0m\u001b[0mNone\u001b[0m\u001b[1;33m)\u001b[0m\u001b[1;33m:\u001b[0m\u001b[1;33m\u001b[0m\u001b[0m\n",
      "\u001b[1;32m/home/topolo/Public/anaconda2/lib/python2.7/site-packages/sklearn/preprocessing/data.pyc\u001b[0m in \u001b[0;36mpartial_fit\u001b[1;34m(self, X, y)\u001b[0m\n\u001b[0;32m    581\u001b[0m         X = check_array(X, accept_sparse=('csr', 'csc'), copy=self.copy,\n\u001b[0;32m    582\u001b[0m                         \u001b[0mensure_2d\u001b[0m\u001b[1;33m=\u001b[0m\u001b[0mFalse\u001b[0m\u001b[1;33m,\u001b[0m \u001b[0mwarn_on_dtype\u001b[0m\u001b[1;33m=\u001b[0m\u001b[0mTrue\u001b[0m\u001b[1;33m,\u001b[0m\u001b[1;33m\u001b[0m\u001b[0m\n\u001b[1;32m--> 583\u001b[1;33m                         estimator=self, dtype=FLOAT_DTYPES)\n\u001b[0m\u001b[0;32m    584\u001b[0m \u001b[1;33m\u001b[0m\u001b[0m\n\u001b[0;32m    585\u001b[0m         \u001b[1;32mif\u001b[0m \u001b[0mX\u001b[0m\u001b[1;33m.\u001b[0m\u001b[0mndim\u001b[0m \u001b[1;33m==\u001b[0m \u001b[1;36m1\u001b[0m\u001b[1;33m:\u001b[0m\u001b[1;33m\u001b[0m\u001b[0m\n",
      "\u001b[1;32m/home/topolo/Public/anaconda2/lib/python2.7/site-packages/sklearn/utils/validation.pyc\u001b[0m in \u001b[0;36mcheck_array\u001b[1;34m(array, accept_sparse, dtype, order, copy, force_all_finite, ensure_2d, allow_nd, ensure_min_samples, ensure_min_features, warn_on_dtype, estimator)\u001b[0m\n\u001b[0;32m    405\u001b[0m                              % (array.ndim, estimator_name))\n\u001b[0;32m    406\u001b[0m         \u001b[1;32mif\u001b[0m \u001b[0mforce_all_finite\u001b[0m\u001b[1;33m:\u001b[0m\u001b[1;33m\u001b[0m\u001b[0m\n\u001b[1;32m--> 407\u001b[1;33m             \u001b[0m_assert_all_finite\u001b[0m\u001b[1;33m(\u001b[0m\u001b[0marray\u001b[0m\u001b[1;33m)\u001b[0m\u001b[1;33m\u001b[0m\u001b[0m\n\u001b[0m\u001b[0;32m    408\u001b[0m \u001b[1;33m\u001b[0m\u001b[0m\n\u001b[0;32m    409\u001b[0m     \u001b[0mshape_repr\u001b[0m \u001b[1;33m=\u001b[0m \u001b[0m_shape_repr\u001b[0m\u001b[1;33m(\u001b[0m\u001b[0marray\u001b[0m\u001b[1;33m.\u001b[0m\u001b[0mshape\u001b[0m\u001b[1;33m)\u001b[0m\u001b[1;33m\u001b[0m\u001b[0m\n",
      "\u001b[1;32m/home/topolo/Public/anaconda2/lib/python2.7/site-packages/sklearn/utils/validation.pyc\u001b[0m in \u001b[0;36m_assert_all_finite\u001b[1;34m(X)\u001b[0m\n\u001b[0;32m     56\u001b[0m             and not np.isfinite(X).all()):\n\u001b[0;32m     57\u001b[0m         raise ValueError(\"Input contains NaN, infinity\"\n\u001b[1;32m---> 58\u001b[1;33m                          \" or a value too large for %r.\" % X.dtype)\n\u001b[0m\u001b[0;32m     59\u001b[0m \u001b[1;33m\u001b[0m\u001b[0m\n\u001b[0;32m     60\u001b[0m \u001b[1;33m\u001b[0m\u001b[0m\n",
      "\u001b[1;31mValueError\u001b[0m: Input contains NaN, infinity or a value too large for dtype('float32')."
     ]
    }
   ],
   "source": [
    "scaler = StandardScaler()  \n",
    "train_3_X_scaled = scaler.fit_transform(train_3_X)"
   ]
  },
  {
   "cell_type": "code",
   "execution_count": 16,
   "metadata": {
    "collapsed": false
   },
   "outputs": [
    {
     "data": {
      "text/plain": [
       "array([[  6.42842576e-02,  -8.84741428e-04,   7.16804789e-05, ...,\n",
       "          7.43429817e-04,   2.00000000e+01,   2.00000000e+01],\n",
       "       [  4.14278917e-02,  -3.72796995e-03,   1.00939104e-03, ...,\n",
       "          2.52108201e-02,   2.00000000e+01,   2.00000000e+01],\n",
       "       [  3.57137099e-02,  -6.94778282e-03,   3.95991607e-03, ...,\n",
       "          6.08996896e-04,   2.00000000e+01,   2.00000000e+01],\n",
       "       ..., \n",
       "       [  4.28567417e-02,  -5.09361811e-02,   1.21772103e-01, ...,\n",
       "          4.23710007e-04,   2.00000000e+01,   2.00000000e+01],\n",
       "       [  1.25713795e-01,  -6.86596781e-02,   7.49681368e-02, ...,\n",
       "          1.86802004e-03,   2.00000000e+01,   2.00000000e+01],\n",
       "       [  1.72854006e-01,  -4.01350111e-02,   1.98206808e-02, ...,\n",
       "          1.54349406e-03,   2.00000000e+01,   2.00000000e+01]], dtype=float32)"
      ]
     },
     "execution_count": 16,
     "metadata": {},
     "output_type": "execute_result"
    }
   ],
   "source": [
    "train_3_X"
   ]
  },
  {
   "cell_type": "markdown",
   "metadata": {},
   "source": [
    "Clean the data where I choose to fill in missing values, `NaN` values, with the mean, due to the distribution of the data"
   ]
  },
  {
   "cell_type": "code",
   "execution_count": 17,
   "metadata": {
    "collapsed": true
   },
   "outputs": [],
   "source": [
    "train_3_X_pd = pd.DataFrame(train_3_X)\n",
    "train_3_X_pd_cleaned = train_3_X_pd.where( pd.notnull( train_3_X_pd ), train_3_X_pd.mean(), axis='columns')"
   ]
  },
  {
   "cell_type": "code",
   "execution_count": 18,
   "metadata": {
    "collapsed": false
   },
   "outputs": [
    {
     "data": {
      "text/html": [
       "<div>\n",
       "<table border=\"1\" class=\"dataframe\">\n",
       "  <thead>\n",
       "    <tr style=\"text-align: right;\">\n",
       "      <th></th>\n",
       "      <th>0</th>\n",
       "      <th>1</th>\n",
       "      <th>2</th>\n",
       "      <th>3</th>\n",
       "      <th>4</th>\n",
       "      <th>5</th>\n",
       "      <th>6</th>\n",
       "      <th>7</th>\n",
       "      <th>8</th>\n",
       "      <th>9</th>\n",
       "      <th>...</th>\n",
       "      <th>12</th>\n",
       "      <th>13</th>\n",
       "      <th>14</th>\n",
       "      <th>15</th>\n",
       "      <th>16</th>\n",
       "      <th>17</th>\n",
       "      <th>18</th>\n",
       "      <th>19</th>\n",
       "      <th>20</th>\n",
       "      <th>21</th>\n",
       "    </tr>\n",
       "  </thead>\n",
       "  <tbody>\n",
       "    <tr>\n",
       "      <th>count</th>\n",
       "      <td>1243.000000</td>\n",
       "      <td>1243.000000</td>\n",
       "      <td>1243.000000</td>\n",
       "      <td>1243.000000</td>\n",
       "      <td>1243.000000</td>\n",
       "      <td>1243.000000</td>\n",
       "      <td>1243.000000</td>\n",
       "      <td>1243.000000</td>\n",
       "      <td>1.243000e+03</td>\n",
       "      <td>1243.000000</td>\n",
       "      <td>...</td>\n",
       "      <td>1243.000000</td>\n",
       "      <td>1243.000000</td>\n",
       "      <td>1243.000000</td>\n",
       "      <td>1243.000000</td>\n",
       "      <td>1243.000000</td>\n",
       "      <td>1243.000000</td>\n",
       "      <td>1243.000000</td>\n",
       "      <td>1243.000000</td>\n",
       "      <td>1243.000000</td>\n",
       "      <td>1105.0</td>\n",
       "    </tr>\n",
       "    <tr>\n",
       "      <th>mean</th>\n",
       "      <td>0.077383</td>\n",
       "      <td>-0.027725</td>\n",
       "      <td>0.065325</td>\n",
       "      <td>-0.189682</td>\n",
       "      <td>0.132142</td>\n",
       "      <td>-0.038490</td>\n",
       "      <td>0.115298</td>\n",
       "      <td>-0.039128</td>\n",
       "      <td>3.490100e-02</td>\n",
       "      <td>1.029767</td>\n",
       "      <td>...</td>\n",
       "      <td>10.326463</td>\n",
       "      <td>10.078814</td>\n",
       "      <td>10.049204</td>\n",
       "      <td>10.620543</td>\n",
       "      <td>10.256516</td>\n",
       "      <td>10.200141</td>\n",
       "      <td>10.192832</td>\n",
       "      <td>0.008182</td>\n",
       "      <td>20.032875</td>\n",
       "      <td>20.0</td>\n",
       "    </tr>\n",
       "    <tr>\n",
       "      <th>std</th>\n",
       "      <td>0.129478</td>\n",
       "      <td>0.016686</td>\n",
       "      <td>0.080258</td>\n",
       "      <td>0.135888</td>\n",
       "      <td>0.180085</td>\n",
       "      <td>0.080136</td>\n",
       "      <td>0.174719</td>\n",
       "      <td>0.092178</td>\n",
       "      <td>1.102713e-01</td>\n",
       "      <td>0.361044</td>\n",
       "      <td>...</td>\n",
       "      <td>0.288018</td>\n",
       "      <td>0.090949</td>\n",
       "      <td>0.079687</td>\n",
       "      <td>0.110412</td>\n",
       "      <td>0.122297</td>\n",
       "      <td>0.193113</td>\n",
       "      <td>0.099204</td>\n",
       "      <td>0.049838</td>\n",
       "      <td>0.177683</td>\n",
       "      <td>0.0</td>\n",
       "    </tr>\n",
       "    <tr>\n",
       "      <th>min</th>\n",
       "      <td>0.008572</td>\n",
       "      <td>-0.082940</td>\n",
       "      <td>0.000002</td>\n",
       "      <td>-0.711446</td>\n",
       "      <td>-0.000724</td>\n",
       "      <td>-0.711236</td>\n",
       "      <td>0.000008</td>\n",
       "      <td>-0.900021</td>\n",
       "      <td>2.221730e-10</td>\n",
       "      <td>0.000000</td>\n",
       "      <td>...</td>\n",
       "      <td>10.049809</td>\n",
       "      <td>10.000000</td>\n",
       "      <td>10.000000</td>\n",
       "      <td>10.261244</td>\n",
       "      <td>10.010774</td>\n",
       "      <td>10.000000</td>\n",
       "      <td>10.050822</td>\n",
       "      <td>0.000007</td>\n",
       "      <td>20.000000</td>\n",
       "      <td>20.0</td>\n",
       "    </tr>\n",
       "    <tr>\n",
       "      <th>25%</th>\n",
       "      <td>0.032856</td>\n",
       "      <td>-0.039307</td>\n",
       "      <td>0.007915</td>\n",
       "      <td>-0.276503</td>\n",
       "      <td>0.016700</td>\n",
       "      <td>-0.036831</td>\n",
       "      <td>0.009182</td>\n",
       "      <td>-0.034672</td>\n",
       "      <td>8.048522e-05</td>\n",
       "      <td>1.000000</td>\n",
       "      <td>...</td>\n",
       "      <td>10.106040</td>\n",
       "      <td>10.000000</td>\n",
       "      <td>10.000000</td>\n",
       "      <td>10.553076</td>\n",
       "      <td>10.166299</td>\n",
       "      <td>10.000000</td>\n",
       "      <td>10.136705</td>\n",
       "      <td>0.000349</td>\n",
       "      <td>20.000000</td>\n",
       "      <td>20.0</td>\n",
       "    </tr>\n",
       "    <tr>\n",
       "      <th>50%</th>\n",
       "      <td>0.045715</td>\n",
       "      <td>-0.026813</td>\n",
       "      <td>0.034872</td>\n",
       "      <td>-0.171972</td>\n",
       "      <td>0.060025</td>\n",
       "      <td>-0.007399</td>\n",
       "      <td>0.046326</td>\n",
       "      <td>-0.005454</td>\n",
       "      <td>1.616255e-03</td>\n",
       "      <td>1.000000</td>\n",
       "      <td>...</td>\n",
       "      <td>10.188972</td>\n",
       "      <td>10.100000</td>\n",
       "      <td>10.000000</td>\n",
       "      <td>10.587928</td>\n",
       "      <td>10.243488</td>\n",
       "      <td>10.166667</td>\n",
       "      <td>10.167612</td>\n",
       "      <td>0.000789</td>\n",
       "      <td>20.000000</td>\n",
       "      <td>20.0</td>\n",
       "    </tr>\n",
       "    <tr>\n",
       "      <th>75%</th>\n",
       "      <td>0.075713</td>\n",
       "      <td>-0.015032</td>\n",
       "      <td>0.091868</td>\n",
       "      <td>-0.080340</td>\n",
       "      <td>0.176459</td>\n",
       "      <td>-0.000764</td>\n",
       "      <td>0.151591</td>\n",
       "      <td>-0.000681</td>\n",
       "      <td>1.746899e-02</td>\n",
       "      <td>1.000000</td>\n",
       "      <td>...</td>\n",
       "      <td>10.470739</td>\n",
       "      <td>10.100000</td>\n",
       "      <td>10.100000</td>\n",
       "      <td>10.649028</td>\n",
       "      <td>10.328728</td>\n",
       "      <td>10.292857</td>\n",
       "      <td>10.211973</td>\n",
       "      <td>0.002019</td>\n",
       "      <td>20.000000</td>\n",
       "      <td>20.0</td>\n",
       "    </tr>\n",
       "    <tr>\n",
       "      <th>max</th>\n",
       "      <td>1.824250</td>\n",
       "      <td>0.000144</td>\n",
       "      <td>0.558680</td>\n",
       "      <td>0.000896</td>\n",
       "      <td>1.287944</td>\n",
       "      <td>0.000090</td>\n",
       "      <td>1.374966</td>\n",
       "      <td>0.000122</td>\n",
       "      <td>1.232450e+00</td>\n",
       "      <td>5.000000</td>\n",
       "      <td>...</td>\n",
       "      <td>11.000000</td>\n",
       "      <td>10.500000</td>\n",
       "      <td>10.600000</td>\n",
       "      <td>11.000000</td>\n",
       "      <td>10.775702</td>\n",
       "      <td>11.000000</td>\n",
       "      <td>10.917459</td>\n",
       "      <td>0.708513</td>\n",
       "      <td>21.987804</td>\n",
       "      <td>20.0</td>\n",
       "    </tr>\n",
       "  </tbody>\n",
       "</table>\n",
       "<p>8 rows × 22 columns</p>\n",
       "</div>"
      ],
      "text/plain": [
       "                0            1            2            3            4   \\\n",
       "count  1243.000000  1243.000000  1243.000000  1243.000000  1243.000000   \n",
       "mean      0.077383    -0.027725     0.065325    -0.189682     0.132142   \n",
       "std       0.129478     0.016686     0.080258     0.135888     0.180085   \n",
       "min       0.008572    -0.082940     0.000002    -0.711446    -0.000724   \n",
       "25%       0.032856    -0.039307     0.007915    -0.276503     0.016700   \n",
       "50%       0.045715    -0.026813     0.034872    -0.171972     0.060025   \n",
       "75%       0.075713    -0.015032     0.091868    -0.080340     0.176459   \n",
       "max       1.824250     0.000144     0.558680     0.000896     1.287944   \n",
       "\n",
       "                5            6            7             8            9   \\\n",
       "count  1243.000000  1243.000000  1243.000000  1.243000e+03  1243.000000   \n",
       "mean     -0.038490     0.115298    -0.039128  3.490100e-02     1.029767   \n",
       "std       0.080136     0.174719     0.092178  1.102713e-01     0.361044   \n",
       "min      -0.711236     0.000008    -0.900021  2.221730e-10     0.000000   \n",
       "25%      -0.036831     0.009182    -0.034672  8.048522e-05     1.000000   \n",
       "50%      -0.007399     0.046326    -0.005454  1.616255e-03     1.000000   \n",
       "75%      -0.000764     0.151591    -0.000681  1.746899e-02     1.000000   \n",
       "max       0.000090     1.374966     0.000122  1.232450e+00     5.000000   \n",
       "\n",
       "        ...             12           13           14           15  \\\n",
       "count   ...    1243.000000  1243.000000  1243.000000  1243.000000   \n",
       "mean    ...      10.326463    10.078814    10.049204    10.620543   \n",
       "std     ...       0.288018     0.090949     0.079687     0.110412   \n",
       "min     ...      10.049809    10.000000    10.000000    10.261244   \n",
       "25%     ...      10.106040    10.000000    10.000000    10.553076   \n",
       "50%     ...      10.188972    10.100000    10.000000    10.587928   \n",
       "75%     ...      10.470739    10.100000    10.100000    10.649028   \n",
       "max     ...      11.000000    10.500000    10.600000    11.000000   \n",
       "\n",
       "                16           17           18           19           20      21  \n",
       "count  1243.000000  1243.000000  1243.000000  1243.000000  1243.000000  1105.0  \n",
       "mean     10.256516    10.200141    10.192832     0.008182    20.032875    20.0  \n",
       "std       0.122297     0.193113     0.099204     0.049838     0.177683     0.0  \n",
       "min      10.010774    10.000000    10.050822     0.000007    20.000000    20.0  \n",
       "25%      10.166299    10.000000    10.136705     0.000349    20.000000    20.0  \n",
       "50%      10.243488    10.166667    10.167612     0.000789    20.000000    20.0  \n",
       "75%      10.328728    10.292857    10.211973     0.002019    20.000000    20.0  \n",
       "max      10.775702    11.000000    10.917459     0.708513    21.987804    20.0  \n",
       "\n",
       "[8 rows x 22 columns]"
      ]
     },
     "execution_count": 18,
     "metadata": {},
     "output_type": "execute_result"
    }
   ],
   "source": [
    "train_3_X_pd.describe()"
   ]
  },
  {
   "cell_type": "code",
   "execution_count": 19,
   "metadata": {
    "collapsed": false
   },
   "outputs": [
    {
     "data": {
      "text/html": [
       "<div>\n",
       "<table border=\"1\" class=\"dataframe\">\n",
       "  <thead>\n",
       "    <tr style=\"text-align: right;\">\n",
       "      <th></th>\n",
       "      <th>0</th>\n",
       "      <th>1</th>\n",
       "      <th>2</th>\n",
       "      <th>3</th>\n",
       "      <th>4</th>\n",
       "      <th>5</th>\n",
       "      <th>6</th>\n",
       "      <th>7</th>\n",
       "      <th>8</th>\n",
       "      <th>9</th>\n",
       "      <th>...</th>\n",
       "      <th>12</th>\n",
       "      <th>13</th>\n",
       "      <th>14</th>\n",
       "      <th>15</th>\n",
       "      <th>16</th>\n",
       "      <th>17</th>\n",
       "      <th>18</th>\n",
       "      <th>19</th>\n",
       "      <th>20</th>\n",
       "      <th>21</th>\n",
       "    </tr>\n",
       "  </thead>\n",
       "  <tbody>\n",
       "    <tr>\n",
       "      <th>count</th>\n",
       "      <td>1243.000000</td>\n",
       "      <td>1243.000000</td>\n",
       "      <td>1243.000000</td>\n",
       "      <td>1243.000000</td>\n",
       "      <td>1243.000000</td>\n",
       "      <td>1243.000000</td>\n",
       "      <td>1243.000000</td>\n",
       "      <td>1243.000000</td>\n",
       "      <td>1.243000e+03</td>\n",
       "      <td>1243.000000</td>\n",
       "      <td>...</td>\n",
       "      <td>1243.000000</td>\n",
       "      <td>1243.000000</td>\n",
       "      <td>1243.000000</td>\n",
       "      <td>1243.000000</td>\n",
       "      <td>1243.000000</td>\n",
       "      <td>1243.000000</td>\n",
       "      <td>1243.000000</td>\n",
       "      <td>1243.000000</td>\n",
       "      <td>1243.000000</td>\n",
       "      <td>1243.0</td>\n",
       "    </tr>\n",
       "    <tr>\n",
       "      <th>mean</th>\n",
       "      <td>0.077383</td>\n",
       "      <td>-0.027725</td>\n",
       "      <td>0.065325</td>\n",
       "      <td>-0.189682</td>\n",
       "      <td>0.132142</td>\n",
       "      <td>-0.038490</td>\n",
       "      <td>0.115298</td>\n",
       "      <td>-0.039128</td>\n",
       "      <td>3.490100e-02</td>\n",
       "      <td>1.029767</td>\n",
       "      <td>...</td>\n",
       "      <td>10.326463</td>\n",
       "      <td>10.078814</td>\n",
       "      <td>10.049204</td>\n",
       "      <td>10.620543</td>\n",
       "      <td>10.256516</td>\n",
       "      <td>10.200141</td>\n",
       "      <td>10.192832</td>\n",
       "      <td>0.008182</td>\n",
       "      <td>20.032875</td>\n",
       "      <td>20.0</td>\n",
       "    </tr>\n",
       "    <tr>\n",
       "      <th>std</th>\n",
       "      <td>0.129478</td>\n",
       "      <td>0.016686</td>\n",
       "      <td>0.080258</td>\n",
       "      <td>0.135888</td>\n",
       "      <td>0.180085</td>\n",
       "      <td>0.080136</td>\n",
       "      <td>0.174719</td>\n",
       "      <td>0.092178</td>\n",
       "      <td>1.102713e-01</td>\n",
       "      <td>0.361044</td>\n",
       "      <td>...</td>\n",
       "      <td>0.288018</td>\n",
       "      <td>0.090949</td>\n",
       "      <td>0.079687</td>\n",
       "      <td>0.110412</td>\n",
       "      <td>0.122297</td>\n",
       "      <td>0.193113</td>\n",
       "      <td>0.099204</td>\n",
       "      <td>0.049838</td>\n",
       "      <td>0.177683</td>\n",
       "      <td>0.0</td>\n",
       "    </tr>\n",
       "    <tr>\n",
       "      <th>min</th>\n",
       "      <td>0.008572</td>\n",
       "      <td>-0.082940</td>\n",
       "      <td>0.000002</td>\n",
       "      <td>-0.711446</td>\n",
       "      <td>-0.000724</td>\n",
       "      <td>-0.711236</td>\n",
       "      <td>0.000008</td>\n",
       "      <td>-0.900021</td>\n",
       "      <td>2.221730e-10</td>\n",
       "      <td>0.000000</td>\n",
       "      <td>...</td>\n",
       "      <td>10.049809</td>\n",
       "      <td>10.000000</td>\n",
       "      <td>10.000000</td>\n",
       "      <td>10.261244</td>\n",
       "      <td>10.010774</td>\n",
       "      <td>10.000000</td>\n",
       "      <td>10.050822</td>\n",
       "      <td>0.000007</td>\n",
       "      <td>20.000000</td>\n",
       "      <td>20.0</td>\n",
       "    </tr>\n",
       "    <tr>\n",
       "      <th>25%</th>\n",
       "      <td>0.032856</td>\n",
       "      <td>-0.039307</td>\n",
       "      <td>0.007915</td>\n",
       "      <td>-0.276503</td>\n",
       "      <td>0.016700</td>\n",
       "      <td>-0.036831</td>\n",
       "      <td>0.009182</td>\n",
       "      <td>-0.034672</td>\n",
       "      <td>8.048522e-05</td>\n",
       "      <td>1.000000</td>\n",
       "      <td>...</td>\n",
       "      <td>10.106040</td>\n",
       "      <td>10.000000</td>\n",
       "      <td>10.000000</td>\n",
       "      <td>10.553076</td>\n",
       "      <td>10.166299</td>\n",
       "      <td>10.000000</td>\n",
       "      <td>10.136705</td>\n",
       "      <td>0.000349</td>\n",
       "      <td>20.000000</td>\n",
       "      <td>20.0</td>\n",
       "    </tr>\n",
       "    <tr>\n",
       "      <th>50%</th>\n",
       "      <td>0.045715</td>\n",
       "      <td>-0.026813</td>\n",
       "      <td>0.034872</td>\n",
       "      <td>-0.171972</td>\n",
       "      <td>0.060025</td>\n",
       "      <td>-0.007399</td>\n",
       "      <td>0.046326</td>\n",
       "      <td>-0.005454</td>\n",
       "      <td>1.616255e-03</td>\n",
       "      <td>1.000000</td>\n",
       "      <td>...</td>\n",
       "      <td>10.188972</td>\n",
       "      <td>10.100000</td>\n",
       "      <td>10.000000</td>\n",
       "      <td>10.587928</td>\n",
       "      <td>10.243488</td>\n",
       "      <td>10.166667</td>\n",
       "      <td>10.167612</td>\n",
       "      <td>0.000789</td>\n",
       "      <td>20.000000</td>\n",
       "      <td>20.0</td>\n",
       "    </tr>\n",
       "    <tr>\n",
       "      <th>75%</th>\n",
       "      <td>0.075713</td>\n",
       "      <td>-0.015032</td>\n",
       "      <td>0.091868</td>\n",
       "      <td>-0.080340</td>\n",
       "      <td>0.176459</td>\n",
       "      <td>-0.000764</td>\n",
       "      <td>0.151591</td>\n",
       "      <td>-0.000681</td>\n",
       "      <td>1.746899e-02</td>\n",
       "      <td>1.000000</td>\n",
       "      <td>...</td>\n",
       "      <td>10.470739</td>\n",
       "      <td>10.100000</td>\n",
       "      <td>10.100000</td>\n",
       "      <td>10.649028</td>\n",
       "      <td>10.328728</td>\n",
       "      <td>10.292857</td>\n",
       "      <td>10.211973</td>\n",
       "      <td>0.002019</td>\n",
       "      <td>20.000000</td>\n",
       "      <td>20.0</td>\n",
       "    </tr>\n",
       "    <tr>\n",
       "      <th>max</th>\n",
       "      <td>1.824250</td>\n",
       "      <td>0.000144</td>\n",
       "      <td>0.558680</td>\n",
       "      <td>0.000896</td>\n",
       "      <td>1.287944</td>\n",
       "      <td>0.000090</td>\n",
       "      <td>1.374966</td>\n",
       "      <td>0.000122</td>\n",
       "      <td>1.232450e+00</td>\n",
       "      <td>5.000000</td>\n",
       "      <td>...</td>\n",
       "      <td>11.000000</td>\n",
       "      <td>10.500000</td>\n",
       "      <td>10.600000</td>\n",
       "      <td>11.000000</td>\n",
       "      <td>10.775702</td>\n",
       "      <td>11.000000</td>\n",
       "      <td>10.917459</td>\n",
       "      <td>0.708513</td>\n",
       "      <td>21.987804</td>\n",
       "      <td>20.0</td>\n",
       "    </tr>\n",
       "  </tbody>\n",
       "</table>\n",
       "<p>8 rows × 22 columns</p>\n",
       "</div>"
      ],
      "text/plain": [
       "                0            1            2            3            4   \\\n",
       "count  1243.000000  1243.000000  1243.000000  1243.000000  1243.000000   \n",
       "mean      0.077383    -0.027725     0.065325    -0.189682     0.132142   \n",
       "std       0.129478     0.016686     0.080258     0.135888     0.180085   \n",
       "min       0.008572    -0.082940     0.000002    -0.711446    -0.000724   \n",
       "25%       0.032856    -0.039307     0.007915    -0.276503     0.016700   \n",
       "50%       0.045715    -0.026813     0.034872    -0.171972     0.060025   \n",
       "75%       0.075713    -0.015032     0.091868    -0.080340     0.176459   \n",
       "max       1.824250     0.000144     0.558680     0.000896     1.287944   \n",
       "\n",
       "                5            6            7             8            9   \\\n",
       "count  1243.000000  1243.000000  1243.000000  1.243000e+03  1243.000000   \n",
       "mean     -0.038490     0.115298    -0.039128  3.490100e-02     1.029767   \n",
       "std       0.080136     0.174719     0.092178  1.102713e-01     0.361044   \n",
       "min      -0.711236     0.000008    -0.900021  2.221730e-10     0.000000   \n",
       "25%      -0.036831     0.009182    -0.034672  8.048522e-05     1.000000   \n",
       "50%      -0.007399     0.046326    -0.005454  1.616255e-03     1.000000   \n",
       "75%      -0.000764     0.151591    -0.000681  1.746899e-02     1.000000   \n",
       "max       0.000090     1.374966     0.000122  1.232450e+00     5.000000   \n",
       "\n",
       "        ...             12           13           14           15  \\\n",
       "count   ...    1243.000000  1243.000000  1243.000000  1243.000000   \n",
       "mean    ...      10.326463    10.078814    10.049204    10.620543   \n",
       "std     ...       0.288018     0.090949     0.079687     0.110412   \n",
       "min     ...      10.049809    10.000000    10.000000    10.261244   \n",
       "25%     ...      10.106040    10.000000    10.000000    10.553076   \n",
       "50%     ...      10.188972    10.100000    10.000000    10.587928   \n",
       "75%     ...      10.470739    10.100000    10.100000    10.649028   \n",
       "max     ...      11.000000    10.500000    10.600000    11.000000   \n",
       "\n",
       "                16           17           18           19           20      21  \n",
       "count  1243.000000  1243.000000  1243.000000  1243.000000  1243.000000  1243.0  \n",
       "mean     10.256516    10.200141    10.192832     0.008182    20.032875    20.0  \n",
       "std       0.122297     0.193113     0.099204     0.049838     0.177683     0.0  \n",
       "min      10.010774    10.000000    10.050822     0.000007    20.000000    20.0  \n",
       "25%      10.166299    10.000000    10.136705     0.000349    20.000000    20.0  \n",
       "50%      10.243488    10.166667    10.167612     0.000789    20.000000    20.0  \n",
       "75%      10.328728    10.292857    10.211973     0.002019    20.000000    20.0  \n",
       "max      10.775702    11.000000    10.917459     0.708513    21.987804    20.0  \n",
       "\n",
       "[8 rows x 22 columns]"
      ]
     },
     "execution_count": 19,
     "metadata": {},
     "output_type": "execute_result"
    }
   ],
   "source": [
    "train_3_X_pd_cleaned.describe()"
   ]
  },
  {
   "cell_type": "code",
   "execution_count": 20,
   "metadata": {
    "collapsed": false
   },
   "outputs": [],
   "source": [
    "train_3_X_scaled = scaler.fit_transform( train_3_X_pd_cleaned.as_matrix() )"
   ]
  },
  {
   "cell_type": "code",
   "execution_count": 21,
   "metadata": {
    "collapsed": false
   },
   "outputs": [
    {
     "data": {
      "text/plain": [
       "array([-1., -1., -1., ...,  1.,  1.,  1.], dtype=float32)"
      ]
     },
     "execution_count": 21,
     "metadata": {},
     "output_type": "execute_result"
    }
   ],
   "source": [
    "train_3_y"
   ]
  },
  {
   "cell_type": "code",
   "execution_count": 22,
   "metadata": {
    "collapsed": true
   },
   "outputs": [],
   "source": [
    "SVM_3 = SVM_parallel(train_3_X_scaled,train_3_y,len(train_3_y),128.0,2.0,0.001)  # sigma=2.0"
   ]
  },
  {
   "cell_type": "code",
   "execution_count": 23,
   "metadata": {
    "collapsed": true
   },
   "outputs": [],
   "source": [
    "SVM_3.build_W();\n",
    "SVM_3.build_update();"
   ]
  },
  {
   "cell_type": "code",
   "execution_count": null,
   "metadata": {
    "collapsed": false
   },
   "outputs": [],
   "source": [
    "%time SVM_3.train_model_full(20)  \n",
    "\n",
    "SVM_3.build_b()"
   ]
  },
  {
   "cell_type": "code",
   "execution_count": 30,
   "metadata": {
    "collapsed": false
   },
   "outputs": [
    {
     "name": "stdout",
     "output_type": "stream",
     "text": [
      "(41,)\n"
     ]
    },
    {
     "data": {
      "text/plain": [
       "array([ 1.,  1.,  1.,  1.,  1.,  1.,  1.,  1.,  1.,  1.,  1.,  1.,  1.,\n",
       "        1.,  1.,  1.,  1.,  1.,  1.,  1.,  1.,  1.,  1.,  1.,  1.,  1.,\n",
       "        1.,  1.,  1.,  1.,  1.,  1.,  1.,  1.,  1.,  1.,  1.,  1.,  1.,\n",
       "        1.,  1.], dtype=float32)"
      ]
     },
     "execution_count": 30,
     "metadata": {},
     "output_type": "execute_result"
    }
   ],
   "source": [
    "print(test_3_y.shape)\n",
    "test_3_y"
   ]
  },
  {
   "cell_type": "code",
   "execution_count": 31,
   "metadata": {
    "collapsed": false
   },
   "outputs": [
    {
     "name": "stdout",
     "output_type": "stream",
     "text": [
      "(41, 22)\n"
     ]
    }
   ],
   "source": [
    "print(test_3_X.shape)\n",
    "test_3_X_scaled = scaler.transform( test_3_X)"
   ]
  },
  {
   "cell_type": "code",
   "execution_count": 32,
   "metadata": {
    "collapsed": false
   },
   "outputs": [
    {
     "data": {
      "text/html": [
       "<div>\n",
       "<table border=\"1\" class=\"dataframe\">\n",
       "  <thead>\n",
       "    <tr style=\"text-align: right;\">\n",
       "      <th></th>\n",
       "      <th>0</th>\n",
       "      <th>1</th>\n",
       "      <th>2</th>\n",
       "      <th>3</th>\n",
       "      <th>4</th>\n",
       "      <th>5</th>\n",
       "      <th>6</th>\n",
       "      <th>7</th>\n",
       "      <th>8</th>\n",
       "      <th>9</th>\n",
       "      <th>...</th>\n",
       "      <th>12</th>\n",
       "      <th>13</th>\n",
       "      <th>14</th>\n",
       "      <th>15</th>\n",
       "      <th>16</th>\n",
       "      <th>17</th>\n",
       "      <th>18</th>\n",
       "      <th>19</th>\n",
       "      <th>20</th>\n",
       "      <th>21</th>\n",
       "    </tr>\n",
       "  </thead>\n",
       "  <tbody>\n",
       "    <tr>\n",
       "      <th>count</th>\n",
       "      <td>1.243000e+03</td>\n",
       "      <td>1.243000e+03</td>\n",
       "      <td>1.243000e+03</td>\n",
       "      <td>1.243000e+03</td>\n",
       "      <td>1.243000e+03</td>\n",
       "      <td>1.243000e+03</td>\n",
       "      <td>1.243000e+03</td>\n",
       "      <td>1.243000e+03</td>\n",
       "      <td>1.243000e+03</td>\n",
       "      <td>1.243000e+03</td>\n",
       "      <td>...</td>\n",
       "      <td>1243.000000</td>\n",
       "      <td>1243.000000</td>\n",
       "      <td>1243.000000</td>\n",
       "      <td>1243.000000</td>\n",
       "      <td>1.243000e+03</td>\n",
       "      <td>1.243000e+03</td>\n",
       "      <td>1.243000e+03</td>\n",
       "      <td>1.243000e+03</td>\n",
       "      <td>1243.000000</td>\n",
       "      <td>1243.0</td>\n",
       "    </tr>\n",
       "    <tr>\n",
       "      <th>mean</th>\n",
       "      <td>-1.381025e-08</td>\n",
       "      <td>1.306219e-07</td>\n",
       "      <td>-1.449117e-07</td>\n",
       "      <td>2.929882e-08</td>\n",
       "      <td>-5.078143e-08</td>\n",
       "      <td>-2.865147e-08</td>\n",
       "      <td>2.215394e-08</td>\n",
       "      <td>2.747664e-08</td>\n",
       "      <td>2.459950e-08</td>\n",
       "      <td>2.846805e-07</td>\n",
       "      <td>...</td>\n",
       "      <td>0.000003</td>\n",
       "      <td>0.000015</td>\n",
       "      <td>-0.000006</td>\n",
       "      <td>0.000005</td>\n",
       "      <td>9.636484e-07</td>\n",
       "      <td>4.983198e-07</td>\n",
       "      <td>2.167651e-07</td>\n",
       "      <td>-3.995621e-08</td>\n",
       "      <td>0.000004</td>\n",
       "      <td>0.0</td>\n",
       "    </tr>\n",
       "    <tr>\n",
       "      <th>std</th>\n",
       "      <td>1.000402e+00</td>\n",
       "      <td>1.000403e+00</td>\n",
       "      <td>1.000402e+00</td>\n",
       "      <td>1.000403e+00</td>\n",
       "      <td>1.000403e+00</td>\n",
       "      <td>1.000402e+00</td>\n",
       "      <td>1.000403e+00</td>\n",
       "      <td>1.000402e+00</td>\n",
       "      <td>1.000402e+00</td>\n",
       "      <td>1.000403e+00</td>\n",
       "      <td>...</td>\n",
       "      <td>1.000402</td>\n",
       "      <td>1.000401</td>\n",
       "      <td>1.000403</td>\n",
       "      <td>1.000403</td>\n",
       "      <td>1.000403e+00</td>\n",
       "      <td>1.000404e+00</td>\n",
       "      <td>1.000402e+00</td>\n",
       "      <td>1.000403e+00</td>\n",
       "      <td>1.000403</td>\n",
       "      <td>0.0</td>\n",
       "    </tr>\n",
       "    <tr>\n",
       "      <th>min</th>\n",
       "      <td>-5.316681e-01</td>\n",
       "      <td>-3.310335e+00</td>\n",
       "      <td>-8.142446e-01</td>\n",
       "      <td>-3.841224e+00</td>\n",
       "      <td>-7.380965e-01</td>\n",
       "      <td>-8.398426e+00</td>\n",
       "      <td>-6.601254e-01</td>\n",
       "      <td>-9.343195e+00</td>\n",
       "      <td>-3.166287e-01</td>\n",
       "      <td>-2.853335e+00</td>\n",
       "      <td>...</td>\n",
       "      <td>-0.960921</td>\n",
       "      <td>-0.867209</td>\n",
       "      <td>-0.618117</td>\n",
       "      <td>-3.255454</td>\n",
       "      <td>-2.010187e+00</td>\n",
       "      <td>-1.036730e+00</td>\n",
       "      <td>-1.432054e+00</td>\n",
       "      <td>-1.641000e-01</td>\n",
       "      <td>-0.185063</td>\n",
       "      <td>0.0</td>\n",
       "    </tr>\n",
       "    <tr>\n",
       "      <th>25%</th>\n",
       "      <td>-3.440345e-01</td>\n",
       "      <td>-6.943713e-01</td>\n",
       "      <td>-7.156037e-01</td>\n",
       "      <td>-6.391792e-01</td>\n",
       "      <td>-6.413019e-01</td>\n",
       "      <td>2.071848e-02</td>\n",
       "      <td>-6.075985e-01</td>\n",
       "      <td>4.836186e-02</td>\n",
       "      <td>-3.158985e-01</td>\n",
       "      <td>-8.247919e-02</td>\n",
       "      <td>...</td>\n",
       "      <td>-0.765611</td>\n",
       "      <td>-0.867209</td>\n",
       "      <td>-0.618117</td>\n",
       "      <td>-0.611274</td>\n",
       "      <td>-7.379700e-01</td>\n",
       "      <td>-1.036730e+00</td>\n",
       "      <td>-5.659849e-01</td>\n",
       "      <td>-1.572234e-01</td>\n",
       "      <td>-0.185063</td>\n",
       "      <td>0.0</td>\n",
       "    </tr>\n",
       "    <tr>\n",
       "      <th>50%</th>\n",
       "      <td>-2.446804e-01</td>\n",
       "      <td>5.469952e-02</td>\n",
       "      <td>-3.795968e-01</td>\n",
       "      <td>1.303762e-01</td>\n",
       "      <td>-4.006212e-01</td>\n",
       "      <td>3.881401e-01</td>\n",
       "      <td>-3.949165e-01</td>\n",
       "      <td>3.654580e-01</td>\n",
       "      <td>-3.019657e-01</td>\n",
       "      <td>-8.247919e-02</td>\n",
       "      <td>...</td>\n",
       "      <td>-0.477552</td>\n",
       "      <td>0.232752</td>\n",
       "      <td>-0.618117</td>\n",
       "      <td>-0.295492</td>\n",
       "      <td>-1.065560e-01</td>\n",
       "      <td>-1.733252e-01</td>\n",
       "      <td>-2.543068e-01</td>\n",
       "      <td>-1.483909e-01</td>\n",
       "      <td>-0.185063</td>\n",
       "      <td>0.0</td>\n",
       "    </tr>\n",
       "    <tr>\n",
       "      <th>75%</th>\n",
       "      <td>-1.290347e-02</td>\n",
       "      <td>7.609624e-01</td>\n",
       "      <td>3.308473e-01</td>\n",
       "      <td>8.049757e-01</td>\n",
       "      <td>2.461881e-01</td>\n",
       "      <td>4.709621e-01</td>\n",
       "      <td>2.078055e-01</td>\n",
       "      <td>4.172589e-01</td>\n",
       "      <td>-1.581467e-01</td>\n",
       "      <td>-8.247919e-02</td>\n",
       "      <td>...</td>\n",
       "      <td>0.501137</td>\n",
       "      <td>0.232752</td>\n",
       "      <td>0.637297</td>\n",
       "      <td>0.258116</td>\n",
       "      <td>5.907115e-01</td>\n",
       "      <td>4.803927e-01</td>\n",
       "      <td>1.930406e-01</td>\n",
       "      <td>-1.237073e-01</td>\n",
       "      <td>-0.185063</td>\n",
       "      <td>0.0</td>\n",
       "    </tr>\n",
       "    <tr>\n",
       "      <th>max</th>\n",
       "      <td>1.349709e+01</td>\n",
       "      <td>1.670864e+00</td>\n",
       "      <td>6.149577e+00</td>\n",
       "      <td>1.403028e+00</td>\n",
       "      <td>6.420661e+00</td>\n",
       "      <td>4.816263e-01</td>\n",
       "      <td>7.212567e+00</td>\n",
       "      <td>4.259794e-01</td>\n",
       "      <td>1.086439e+01</td>\n",
       "      <td>1.100095e+01</td>\n",
       "      <td>...</td>\n",
       "      <td>2.339471</td>\n",
       "      <td>4.632576</td>\n",
       "      <td>6.914347</td>\n",
       "      <td>3.438140</td>\n",
       "      <td>4.247005e+00</td>\n",
       "      <td>4.143688e+00</td>\n",
       "      <td>7.307405e+00</td>\n",
       "      <td>1.405786e+01</td>\n",
       "      <td>11.006802</td>\n",
       "      <td>0.0</td>\n",
       "    </tr>\n",
       "  </tbody>\n",
       "</table>\n",
       "<p>8 rows × 22 columns</p>\n",
       "</div>"
      ],
      "text/plain": [
       "                 0             1             2             3             4   \\\n",
       "count  1.243000e+03  1.243000e+03  1.243000e+03  1.243000e+03  1.243000e+03   \n",
       "mean  -1.381025e-08  1.306219e-07 -1.449117e-07  2.929882e-08 -5.078143e-08   \n",
       "std    1.000402e+00  1.000403e+00  1.000402e+00  1.000403e+00  1.000403e+00   \n",
       "min   -5.316681e-01 -3.310335e+00 -8.142446e-01 -3.841224e+00 -7.380965e-01   \n",
       "25%   -3.440345e-01 -6.943713e-01 -7.156037e-01 -6.391792e-01 -6.413019e-01   \n",
       "50%   -2.446804e-01  5.469952e-02 -3.795968e-01  1.303762e-01 -4.006212e-01   \n",
       "75%   -1.290347e-02  7.609624e-01  3.308473e-01  8.049757e-01  2.461881e-01   \n",
       "max    1.349709e+01  1.670864e+00  6.149577e+00  1.403028e+00  6.420661e+00   \n",
       "\n",
       "                 5             6             7             8             9   \\\n",
       "count  1.243000e+03  1.243000e+03  1.243000e+03  1.243000e+03  1.243000e+03   \n",
       "mean  -2.865147e-08  2.215394e-08  2.747664e-08  2.459950e-08  2.846805e-07   \n",
       "std    1.000402e+00  1.000403e+00  1.000402e+00  1.000402e+00  1.000403e+00   \n",
       "min   -8.398426e+00 -6.601254e-01 -9.343195e+00 -3.166287e-01 -2.853335e+00   \n",
       "25%    2.071848e-02 -6.075985e-01  4.836186e-02 -3.158985e-01 -8.247919e-02   \n",
       "50%    3.881401e-01 -3.949165e-01  3.654580e-01 -3.019657e-01 -8.247919e-02   \n",
       "75%    4.709621e-01  2.078055e-01  4.172589e-01 -1.581467e-01 -8.247919e-02   \n",
       "max    4.816263e-01  7.212567e+00  4.259794e-01  1.086439e+01  1.100095e+01   \n",
       "\n",
       "        ...             12           13           14           15  \\\n",
       "count   ...    1243.000000  1243.000000  1243.000000  1243.000000   \n",
       "mean    ...       0.000003     0.000015    -0.000006     0.000005   \n",
       "std     ...       1.000402     1.000401     1.000403     1.000403   \n",
       "min     ...      -0.960921    -0.867209    -0.618117    -3.255454   \n",
       "25%     ...      -0.765611    -0.867209    -0.618117    -0.611274   \n",
       "50%     ...      -0.477552     0.232752    -0.618117    -0.295492   \n",
       "75%     ...       0.501137     0.232752     0.637297     0.258116   \n",
       "max     ...       2.339471     4.632576     6.914347     3.438140   \n",
       "\n",
       "                 16            17            18            19           20  \\\n",
       "count  1.243000e+03  1.243000e+03  1.243000e+03  1.243000e+03  1243.000000   \n",
       "mean   9.636484e-07  4.983198e-07  2.167651e-07 -3.995621e-08     0.000004   \n",
       "std    1.000403e+00  1.000404e+00  1.000402e+00  1.000403e+00     1.000403   \n",
       "min   -2.010187e+00 -1.036730e+00 -1.432054e+00 -1.641000e-01    -0.185063   \n",
       "25%   -7.379700e-01 -1.036730e+00 -5.659849e-01 -1.572234e-01    -0.185063   \n",
       "50%   -1.065560e-01 -1.733252e-01 -2.543068e-01 -1.483909e-01    -0.185063   \n",
       "75%    5.907115e-01  4.803927e-01  1.930406e-01 -1.237073e-01    -0.185063   \n",
       "max    4.247005e+00  4.143688e+00  7.307405e+00  1.405786e+01    11.006802   \n",
       "\n",
       "           21  \n",
       "count  1243.0  \n",
       "mean      0.0  \n",
       "std       0.0  \n",
       "min       0.0  \n",
       "25%       0.0  \n",
       "50%       0.0  \n",
       "75%       0.0  \n",
       "max       0.0  \n",
       "\n",
       "[8 rows x 22 columns]"
      ]
     },
     "execution_count": 32,
     "metadata": {},
     "output_type": "execute_result"
    }
   ],
   "source": [
    "pd.DataFrame( train_3_X_scaled).describe()"
   ]
  },
  {
   "cell_type": "code",
   "execution_count": 33,
   "metadata": {
    "collapsed": false
   },
   "outputs": [
    {
     "data": {
      "text/html": [
       "<div>\n",
       "<table border=\"1\" class=\"dataframe\">\n",
       "  <thead>\n",
       "    <tr style=\"text-align: right;\">\n",
       "      <th></th>\n",
       "      <th>0</th>\n",
       "      <th>1</th>\n",
       "      <th>2</th>\n",
       "      <th>3</th>\n",
       "      <th>4</th>\n",
       "      <th>5</th>\n",
       "      <th>6</th>\n",
       "      <th>7</th>\n",
       "      <th>8</th>\n",
       "      <th>9</th>\n",
       "      <th>...</th>\n",
       "      <th>12</th>\n",
       "      <th>13</th>\n",
       "      <th>14</th>\n",
       "      <th>15</th>\n",
       "      <th>16</th>\n",
       "      <th>17</th>\n",
       "      <th>18</th>\n",
       "      <th>19</th>\n",
       "      <th>20</th>\n",
       "      <th>21</th>\n",
       "    </tr>\n",
       "  </thead>\n",
       "  <tbody>\n",
       "    <tr>\n",
       "      <th>count</th>\n",
       "      <td>41.000000</td>\n",
       "      <td>41.000000</td>\n",
       "      <td>41.000000</td>\n",
       "      <td>41.000000</td>\n",
       "      <td>41.000000</td>\n",
       "      <td>41.000000</td>\n",
       "      <td>41.000000</td>\n",
       "      <td>41.000000</td>\n",
       "      <td>41.000000</td>\n",
       "      <td>4.100000e+01</td>\n",
       "      <td>...</td>\n",
       "      <td>41.000000</td>\n",
       "      <td>41.000000</td>\n",
       "      <td>41.000000</td>\n",
       "      <td>41.000000</td>\n",
       "      <td>41.000000</td>\n",
       "      <td>41.000000</td>\n",
       "      <td>41.000000</td>\n",
       "      <td>41.000000</td>\n",
       "      <td>41.000000</td>\n",
       "      <td>41.0</td>\n",
       "    </tr>\n",
       "    <tr>\n",
       "      <th>mean</th>\n",
       "      <td>0.628913</td>\n",
       "      <td>-0.072235</td>\n",
       "      <td>-0.333583</td>\n",
       "      <td>-0.567236</td>\n",
       "      <td>-0.097946</td>\n",
       "      <td>0.133072</td>\n",
       "      <td>0.086335</td>\n",
       "      <td>0.041306</td>\n",
       "      <td>-0.060985</td>\n",
       "      <td>-8.247922e-02</td>\n",
       "      <td>...</td>\n",
       "      <td>-0.010889</td>\n",
       "      <td>0.152265</td>\n",
       "      <td>0.392336</td>\n",
       "      <td>2.098248</td>\n",
       "      <td>-0.321653</td>\n",
       "      <td>-0.084992</td>\n",
       "      <td>0.438351</td>\n",
       "      <td>0.218287</td>\n",
       "      <td>0.126233</td>\n",
       "      <td>0.0</td>\n",
       "    </tr>\n",
       "    <tr>\n",
       "      <th>std</th>\n",
       "      <td>1.313145</td>\n",
       "      <td>1.103456</td>\n",
       "      <td>0.897999</td>\n",
       "      <td>1.161787</td>\n",
       "      <td>1.093991</td>\n",
       "      <td>1.090196</td>\n",
       "      <td>1.292039</td>\n",
       "      <td>1.012287</td>\n",
       "      <td>0.953499</td>\n",
       "      <td>3.771569e-08</td>\n",
       "      <td>...</td>\n",
       "      <td>0.825824</td>\n",
       "      <td>0.933028</td>\n",
       "      <td>0.981290</td>\n",
       "      <td>1.081335</td>\n",
       "      <td>1.239627</td>\n",
       "      <td>0.777570</td>\n",
       "      <td>1.294518</td>\n",
       "      <td>1.844804</td>\n",
       "      <td>1.401828</td>\n",
       "      <td>0.0</td>\n",
       "    </tr>\n",
       "    <tr>\n",
       "      <th>min</th>\n",
       "      <td>-0.410250</td>\n",
       "      <td>-2.610751</td>\n",
       "      <td>-0.813554</td>\n",
       "      <td>-3.329840</td>\n",
       "      <td>-0.734176</td>\n",
       "      <td>-5.965058</td>\n",
       "      <td>-0.659601</td>\n",
       "      <td>-4.476038</td>\n",
       "      <td>-0.316629</td>\n",
       "      <td>-8.247919e-02</td>\n",
       "      <td>...</td>\n",
       "      <td>-0.960109</td>\n",
       "      <td>-0.867209</td>\n",
       "      <td>-0.618117</td>\n",
       "      <td>-0.508490</td>\n",
       "      <td>-1.870507</td>\n",
       "      <td>-1.036730</td>\n",
       "      <td>-0.816257</td>\n",
       "      <td>-0.161088</td>\n",
       "      <td>-0.185063</td>\n",
       "      <td>0.0</td>\n",
       "    </tr>\n",
       "    <tr>\n",
       "      <th>25%</th>\n",
       "      <td>-0.266765</td>\n",
       "      <td>-0.744032</td>\n",
       "      <td>-0.764672</td>\n",
       "      <td>-1.177542</td>\n",
       "      <td>-0.658315</td>\n",
       "      <td>0.332455</td>\n",
       "      <td>-0.600345</td>\n",
       "      <td>0.339827</td>\n",
       "      <td>-0.316458</td>\n",
       "      <td>-8.247919e-02</td>\n",
       "      <td>...</td>\n",
       "      <td>-0.673804</td>\n",
       "      <td>-0.867209</td>\n",
       "      <td>-0.618117</td>\n",
       "      <td>1.453449</td>\n",
       "      <td>-1.097615</td>\n",
       "      <td>-0.605030</td>\n",
       "      <td>-0.301719</td>\n",
       "      <td>-0.150095</td>\n",
       "      <td>-0.185063</td>\n",
       "      <td>0.0</td>\n",
       "    </tr>\n",
       "    <tr>\n",
       "      <th>50%</th>\n",
       "      <td>0.130609</td>\n",
       "      <td>0.021227</td>\n",
       "      <td>-0.638665</td>\n",
       "      <td>-0.459539</td>\n",
       "      <td>-0.525770</td>\n",
       "      <td>0.456580</td>\n",
       "      <td>-0.394917</td>\n",
       "      <td>0.403236</td>\n",
       "      <td>-0.313516</td>\n",
       "      <td>-8.247919e-02</td>\n",
       "      <td>...</td>\n",
       "      <td>-0.042360</td>\n",
       "      <td>0.232752</td>\n",
       "      <td>0.637297</td>\n",
       "      <td>2.103961</td>\n",
       "      <td>-0.539676</td>\n",
       "      <td>-0.239744</td>\n",
       "      <td>0.151922</td>\n",
       "      <td>-0.126737</td>\n",
       "      <td>-0.185063</td>\n",
       "      <td>0.0</td>\n",
       "    </tr>\n",
       "    <tr>\n",
       "      <th>75%</th>\n",
       "      <td>0.814958</td>\n",
       "      <td>0.682428</td>\n",
       "      <td>-0.392678</td>\n",
       "      <td>0.222527</td>\n",
       "      <td>-0.070596</td>\n",
       "      <td>0.476920</td>\n",
       "      <td>-0.202196</td>\n",
       "      <td>0.420466</td>\n",
       "      <td>-0.298387</td>\n",
       "      <td>-8.247919e-02</td>\n",
       "      <td>...</td>\n",
       "      <td>0.307476</td>\n",
       "      <td>0.232752</td>\n",
       "      <td>0.637297</td>\n",
       "      <td>3.330932</td>\n",
       "      <td>0.224026</td>\n",
       "      <td>0.258375</td>\n",
       "      <td>0.697668</td>\n",
       "      <td>-0.069630</td>\n",
       "      <td>-0.185063</td>\n",
       "      <td>0.0</td>\n",
       "    </tr>\n",
       "    <tr>\n",
       "      <th>max</th>\n",
       "      <td>5.715701</td>\n",
       "      <td>1.616837</td>\n",
       "      <td>4.231605</td>\n",
       "      <td>1.397880</td>\n",
       "      <td>4.701602</td>\n",
       "      <td>0.480505</td>\n",
       "      <td>4.735194</td>\n",
       "      <td>0.424651</td>\n",
       "      <td>5.287445</td>\n",
       "      <td>-8.247919e-02</td>\n",
       "      <td>...</td>\n",
       "      <td>2.339471</td>\n",
       "      <td>2.432664</td>\n",
       "      <td>3.148115</td>\n",
       "      <td>3.438140</td>\n",
       "      <td>3.262834</td>\n",
       "      <td>2.416884</td>\n",
       "      <td>6.892943</td>\n",
       "      <td>11.675599</td>\n",
       "      <td>6.947817</td>\n",
       "      <td>0.0</td>\n",
       "    </tr>\n",
       "  </tbody>\n",
       "</table>\n",
       "<p>8 rows × 22 columns</p>\n",
       "</div>"
      ],
      "text/plain": [
       "              0          1          2          3          4          5   \\\n",
       "count  41.000000  41.000000  41.000000  41.000000  41.000000  41.000000   \n",
       "mean    0.628913  -0.072235  -0.333583  -0.567236  -0.097946   0.133072   \n",
       "std     1.313145   1.103456   0.897999   1.161787   1.093991   1.090196   \n",
       "min    -0.410250  -2.610751  -0.813554  -3.329840  -0.734176  -5.965058   \n",
       "25%    -0.266765  -0.744032  -0.764672  -1.177542  -0.658315   0.332455   \n",
       "50%     0.130609   0.021227  -0.638665  -0.459539  -0.525770   0.456580   \n",
       "75%     0.814958   0.682428  -0.392678   0.222527  -0.070596   0.476920   \n",
       "max     5.715701   1.616837   4.231605   1.397880   4.701602   0.480505   \n",
       "\n",
       "              6          7          8             9   ...          12  \\\n",
       "count  41.000000  41.000000  41.000000  4.100000e+01  ...   41.000000   \n",
       "mean    0.086335   0.041306  -0.060985 -8.247922e-02  ...   -0.010889   \n",
       "std     1.292039   1.012287   0.953499  3.771569e-08  ...    0.825824   \n",
       "min    -0.659601  -4.476038  -0.316629 -8.247919e-02  ...   -0.960109   \n",
       "25%    -0.600345   0.339827  -0.316458 -8.247919e-02  ...   -0.673804   \n",
       "50%    -0.394917   0.403236  -0.313516 -8.247919e-02  ...   -0.042360   \n",
       "75%    -0.202196   0.420466  -0.298387 -8.247919e-02  ...    0.307476   \n",
       "max     4.735194   0.424651   5.287445 -8.247919e-02  ...    2.339471   \n",
       "\n",
       "              13         14         15         16         17         18  \\\n",
       "count  41.000000  41.000000  41.000000  41.000000  41.000000  41.000000   \n",
       "mean    0.152265   0.392336   2.098248  -0.321653  -0.084992   0.438351   \n",
       "std     0.933028   0.981290   1.081335   1.239627   0.777570   1.294518   \n",
       "min    -0.867209  -0.618117  -0.508490  -1.870507  -1.036730  -0.816257   \n",
       "25%    -0.867209  -0.618117   1.453449  -1.097615  -0.605030  -0.301719   \n",
       "50%     0.232752   0.637297   2.103961  -0.539676  -0.239744   0.151922   \n",
       "75%     0.232752   0.637297   3.330932   0.224026   0.258375   0.697668   \n",
       "max     2.432664   3.148115   3.438140   3.262834   2.416884   6.892943   \n",
       "\n",
       "              19         20    21  \n",
       "count  41.000000  41.000000  41.0  \n",
       "mean    0.218287   0.126233   0.0  \n",
       "std     1.844804   1.401828   0.0  \n",
       "min    -0.161088  -0.185063   0.0  \n",
       "25%    -0.150095  -0.185063   0.0  \n",
       "50%    -0.126737  -0.185063   0.0  \n",
       "75%    -0.069630  -0.185063   0.0  \n",
       "max    11.675599   6.947817   0.0  \n",
       "\n",
       "[8 rows x 22 columns]"
      ]
     },
     "execution_count": 33,
     "metadata": {},
     "output_type": "execute_result"
    }
   ],
   "source": [
    "pd.DataFrame( test_3_X_scaled).describe()"
   ]
  },
  {
   "cell_type": "code",
   "execution_count": null,
   "metadata": {
    "collapsed": false
   },
   "outputs": [],
   "source": [
    "%time yhat_test3 = SVM_3.make_predictions_parallel( test_3_X_scaled)"
   ]
  },
  {
   "cell_type": "code",
   "execution_count": null,
   "metadata": {
    "collapsed": true
   },
   "outputs": [],
   "source": [
    "yhat_test3 = np.sign( yhat_test3[0]);"
   ]
  },
  {
   "cell_type": "code",
   "execution_count": null,
   "metadata": {
    "collapsed": false
   },
   "outputs": [],
   "source": [
    "(yhat_test3 == test_3_y).sum()/float(len(test_3_y))"
   ]
  },
  {
   "cell_type": "markdown",
   "metadata": {
    "collapsed": true
   },
   "source": [
    "# Developing Pratt scaling functionality to make adhoc probability likelihoood estimates (estimates of probability)"
   ]
  },
  {
   "cell_type": "code",
   "execution_count": 38,
   "metadata": {
    "collapsed": false
   },
   "outputs": [
    {
     "data": {
      "text/plain": [
       "CudaNdarray([ 1.14547348  0.57705605  1.57161105  1.07463706  1.48355114  0.23874146\n",
       "  0.86475205  1.70737624  0.81584662  1.0122205   0.80445641  1.08217835\n",
       "  1.10863554  0.42177004 -0.11415616  1.08211875  0.42191112  0.41249883\n",
       " -0.26516664 -0.52185935  0.70107007  0.57608938  0.43174618  0.96968025\n",
       "  2.43406391  0.22953208  2.14952993  0.54495817  1.58349645  0.55356413\n",
       " -0.07381859  0.58271039  1.30273211  0.97237408  0.10405514  0.31538069\n",
       "  1.04433548  1.70931029  0.01500738  0.74253023  0.5940876 ])"
      ]
     },
     "execution_count": 38,
     "metadata": {},
     "output_type": "execute_result"
    }
   ],
   "source": [
    "SVM_3._yhat.get_value()"
   ]
  },
  {
   "cell_type": "code",
   "execution_count": 41,
   "metadata": {
    "collapsed": false
   },
   "outputs": [
    {
     "data": {
      "text/plain": [
       "CudaNdarray([ 1.14547348  0.57705605  1.57161105  1.07463706  1.48355114  0.23874146\n",
       "  0.86475205  1.70737624  0.81584662  1.0122205   0.80445641  1.08217835\n",
       "  1.10863554  0.42177004 -0.11415616  1.08211875  0.42191112  0.41249883\n",
       " -0.26516664 -0.52185935  0.70107007  0.57608938  0.43174618  0.96968025\n",
       "  2.43406391  0.22953208  2.14952993  0.54495817  1.58349645  0.55356413\n",
       " -0.07381859  0.58271039  1.30273211  0.97237408  0.10405514  0.31538069\n",
       "  1.04433548  1.70931029  0.01500738  0.74253023  0.5940876 ])"
      ]
     },
     "execution_count": 41,
     "metadata": {},
     "output_type": "execute_result"
    }
   ],
   "source": [
    "yhat_test3[0]"
   ]
  },
  {
   "cell_type": "code",
   "execution_count": 42,
   "metadata": {
    "collapsed": false
   },
   "outputs": [
    {
     "data": {
      "text/plain": [
       "array([ 1.,  1.,  1.,  1.,  1.,  1.,  1.,  1.,  1.,  1.,  1.,  1.,  1.,\n",
       "        1., -1.,  1.,  1.,  1., -1., -1.,  1.,  1.,  1.,  1.,  1.,  1.,\n",
       "        1.,  1.,  1.,  1., -1.,  1.,  1.,  1.,  1.,  1.,  1.,  1.,  1.,\n",
       "        1.,  1.], dtype=float32)"
      ]
     },
     "execution_count": 42,
     "metadata": {},
     "output_type": "execute_result"
    }
   ],
   "source": [
    "np.sign( yhat_test3[0])"
   ]
  },
  {
   "cell_type": "code",
   "execution_count": 45,
   "metadata": {
    "collapsed": false
   },
   "outputs": [
    {
     "data": {
      "text/plain": [
       "array([ 1.,  1.,  1.,  1.,  1.,  1.,  1.,  1.,  1.,  1.,  1.,  1.,  1.,\n",
       "        1.,  1.,  1.,  1.,  1.,  1.,  1.,  1.,  1.,  1.,  1.,  1.,  1.,\n",
       "        1.,  1.,  1.,  1.,  1.,  1.,  1.,  1.,  1.,  1.,  1.,  1.,  1.,\n",
       "        1.,  1.], dtype=float32)"
      ]
     },
     "execution_count": 45,
     "metadata": {},
     "output_type": "execute_result"
    }
   ],
   "source": [
    "test_3_y"
   ]
  },
  {
   "cell_type": "code",
   "execution_count": 47,
   "metadata": {
    "collapsed": false
   },
   "outputs": [
    {
     "data": {
      "text/plain": [
       "array([ 1.,  1.,  1.,  1.,  1.,  1.,  1.,  1.,  1.,  1.,  1.,  1.,  1.,\n",
       "        1., -1.,  1.,  1.,  1., -1., -1.,  1.,  1.,  1.,  1.,  1.,  1.,\n",
       "        1.,  1.,  1.,  1., -1.,  1.,  1.,  1.,  1.,  1.,  1.,  1.,  1.,\n",
       "        1.,  1.], dtype=float32)"
      ]
     },
     "execution_count": 47,
     "metadata": {},
     "output_type": "execute_result"
    }
   ],
   "source": [
    "yhat_test3"
   ]
  },
  {
   "cell_type": "code",
   "execution_count": 48,
   "metadata": {
    "collapsed": true
   },
   "outputs": [],
   "source": [
    "np.place( yhat_test3, yhat_test3 < 0., 0.)"
   ]
  },
  {
   "cell_type": "code",
   "execution_count": 49,
   "metadata": {
    "collapsed": false
   },
   "outputs": [
    {
     "data": {
      "text/plain": [
       "array([ 1.,  1.,  1.,  1.,  1.,  1.,  1.,  1.,  1.,  1.,  1.,  1.,  1.,\n",
       "        1.,  0.,  1.,  1.,  1.,  0.,  0.,  1.,  1.,  1.,  1.,  1.,  1.,\n",
       "        1.,  1.,  1.,  1.,  0.,  1.,  1.,  1.,  1.,  1.,  1.,  1.,  1.,\n",
       "        1.,  1.], dtype=float32)"
      ]
     },
     "execution_count": 49,
     "metadata": {},
     "output_type": "execute_result"
    }
   ],
   "source": [
    "yhat_test3"
   ]
  },
  {
   "cell_type": "code",
   "execution_count": 50,
   "metadata": {
    "collapsed": false
   },
   "outputs": [
    {
     "ename": "TypeError",
     "evalue": "cost must be a scalar.",
     "output_type": "error",
     "traceback": [
      "\u001b[1;31m---------------------------------------------------------------------------\u001b[0m",
      "\u001b[1;31mTypeError\u001b[0m                                 Traceback (most recent call last)",
      "\u001b[1;32m<ipython-input-50-ab87504f0f27>\u001b[0m in \u001b[0;36m<module>\u001b[1;34m()\u001b[0m\n\u001b[1;32m----> 1\u001b[1;33m \u001b[0mPratt_test_results\u001b[0m \u001b[1;33m=\u001b[0m \u001b[0mSVM_3\u001b[0m\u001b[1;33m.\u001b[0m\u001b[0mmake_prob_Pratt\u001b[0m\u001b[1;33m(\u001b[0m\u001b[0myhat_test3\u001b[0m\u001b[1;33m)\u001b[0m\u001b[1;33m\u001b[0m\u001b[0m\n\u001b[0m",
      "\u001b[1;32m/home/topolo/PropD/MLgrabbag/ML/SVM.py\u001b[0m in \u001b[0;36mmake_prob_Pratt\u001b[1;34m(self, y, alpha, training_steps)\u001b[0m\n\u001b[0;32m    739\u001b[0m                 \u001b[0mcostfunctional\u001b[0m \u001b[1;33m=\u001b[0m \u001b[0mT\u001b[0m\u001b[1;33m.\u001b[0m\u001b[0mnnet\u001b[0m\u001b[1;33m.\u001b[0m\u001b[0mbinary_crossentropy\u001b[0m\u001b[1;33m(\u001b[0m \u001b[0mProb_1_given_yhat\u001b[0m\u001b[1;33m,\u001b[0m \u001b[0my_sh\u001b[0m\u001b[1;33m)\u001b[0m\u001b[1;33m\u001b[0m\u001b[0m\n\u001b[0;32m    740\u001b[0m \u001b[1;33m\u001b[0m\u001b[0m\n\u001b[1;32m--> 741\u001b[1;33m                 \u001b[0mDA\u001b[0m\u001b[1;33m,\u001b[0m \u001b[0mDB\u001b[0m \u001b[1;33m=\u001b[0m \u001b[0mT\u001b[0m\u001b[1;33m.\u001b[0m\u001b[0mgrad\u001b[0m\u001b[1;33m(\u001b[0m\u001b[0mcostfunctional\u001b[0m\u001b[1;33m,\u001b[0m \u001b[1;33m[\u001b[0m\u001b[0mA\u001b[0m\u001b[1;33m,\u001b[0m\u001b[0mB\u001b[0m\u001b[1;33m]\u001b[0m\u001b[1;33m)\u001b[0m  \u001b[1;31m# the gradient of costfunctional, with respect to A,B, respectively\u001b[0m\u001b[1;33m\u001b[0m\u001b[0m\n\u001b[0m\u001b[0;32m    742\u001b[0m \t\ttrain = theano.function(inputs=[],outputs=[Prob_1_given_yhat, costfunctional],\n\u001b[0;32m    743\u001b[0m \t\t\t\t\t\t\t\tupdates=[(A,A-alpha*DA),(B,B-alpha*DB)],name=\"train\")\n",
      "\u001b[1;32m/home/topolo/PropD/Theano/theano/gradient.pyc\u001b[0m in \u001b[0;36mgrad\u001b[1;34m(cost, wrt, consider_constant, disconnected_inputs, add_names, known_grads, return_disconnected, null_gradients)\u001b[0m\n\u001b[0;32m    435\u001b[0m \u001b[1;33m\u001b[0m\u001b[0m\n\u001b[0;32m    436\u001b[0m     \u001b[1;32mif\u001b[0m \u001b[0mcost\u001b[0m \u001b[1;32mis\u001b[0m \u001b[1;32mnot\u001b[0m \u001b[0mNone\u001b[0m \u001b[1;32mand\u001b[0m \u001b[0mcost\u001b[0m\u001b[1;33m.\u001b[0m\u001b[0mndim\u001b[0m \u001b[1;33m!=\u001b[0m \u001b[1;36m0\u001b[0m\u001b[1;33m:\u001b[0m\u001b[1;33m\u001b[0m\u001b[0m\n\u001b[1;32m--> 437\u001b[1;33m         \u001b[1;32mraise\u001b[0m \u001b[0mTypeError\u001b[0m\u001b[1;33m(\u001b[0m\u001b[1;34m\"cost must be a scalar.\"\u001b[0m\u001b[1;33m)\u001b[0m\u001b[1;33m\u001b[0m\u001b[0m\n\u001b[0m\u001b[0;32m    438\u001b[0m \u001b[1;33m\u001b[0m\u001b[0m\n\u001b[0;32m    439\u001b[0m     \u001b[1;32mif\u001b[0m \u001b[0misinstance\u001b[0m\u001b[1;33m(\u001b[0m\u001b[0mwrt\u001b[0m\u001b[1;33m,\u001b[0m \u001b[0mset\u001b[0m\u001b[1;33m)\u001b[0m\u001b[1;33m:\u001b[0m\u001b[1;33m\u001b[0m\u001b[0m\n",
      "\u001b[1;31mTypeError\u001b[0m: cost must be a scalar."
     ]
    }
   ],
   "source": [
    "yPratt_test_results = SVM_3.make_prob_Pratt(yhat_test3)"
   ]
  },
  {
   "cell_type": "code",
   "execution_count": 52,
   "metadata": {
    "collapsed": false
   },
   "outputs": [],
   "source": [
    "alpha = np.float32(0.01)\n",
    "yhat = SVM_3._yhat\n",
    "y_sh = theano.shared( yhat_test3.astype(theano.config.floatX ) )\n",
    "A = theano.shared( np.float32( np.random.rand() ) )\n",
    "B = theano.shared( np.float32( np.random.rand() ) )\n",
    "Prob_1_given_yhat = np.float32(1.)/(np.float32(1.)+ T.exp(A*yhat +B)) \n",
    "costfunctional = T.nnet.binary_crossentropy( Prob_1_given_yhat, y_sh).mean()\n",
    "DA, DB = T.grad(costfunctional, [A,B])\n",
    "train = theano.function(inputs=[],outputs=[Prob_1_given_yhat, costfunctional],\n",
    "                        updates=[(A,A-alpha*DA),(B,B-alpha*DB)],name=\"train\")\n",
    "probabilities = theano.function(inputs=[], outputs=Prob_1_given_yhat,name=\"probabilities\")"
   ]
  },
  {
   "cell_type": "code",
   "execution_count": 54,
   "metadata": {
    "collapsed": true
   },
   "outputs": [],
   "source": [
    "training_steps=10000\n",
    "for i in range(training_steps):\n",
    "    pred,err = train()\n",
    "\n",
    "probabilities_vals = probabilities()"
   ]
  },
  {
   "cell_type": "code",
   "execution_count": 57,
   "metadata": {
    "collapsed": false
   },
   "outputs": [
    {
     "name": "stdout",
     "output_type": "stream",
     "text": [
      "41\n",
      "41\n"
     ]
    }
   ],
   "source": [
    "print(len(yhat_test3))\n",
    "print(len(probabilities_vals))"
   ]
  },
  {
   "cell_type": "code",
   "execution_count": 62,
   "metadata": {
    "collapsed": false
   },
   "outputs": [
    {
     "data": {
      "text/plain": [
       "array([ 0.99928313,  0.98043251,  0.99994075,  0.99891531,  0.9999007 ,\n",
       "        0.87377053,  0.99630618,  0.99997318,  0.9950884 ,  0.99843794,\n",
       "        0.99475175,  0.99896204,  0.99911076,  0.95282549,  0.46754223,\n",
       "        0.99896169,  0.95286262,  0.9503265 ,  0.26628667,  0.07478557,\n",
       "        0.99043196,  0.98032379,  0.95538086,  0.99799734,  0.99999964,\n",
       "        0.86770695,  0.99999797,  0.97648513,  0.99994469,  0.97761393,\n",
       "        0.5264734 ,  0.98105717,  0.9997142 ,  0.99802858,  0.75890678,\n",
       "        0.91553086,  0.99870515,  0.99997354,  0.65151274,  0.99247736,\n",
       "        0.98225546], dtype=float32)"
      ]
     },
     "execution_count": 62,
     "metadata": {},
     "output_type": "execute_result"
    }
   ],
   "source": [
    "probabilities_vals "
   ]
  },
  {
   "cell_type": "code",
   "execution_count": 61,
   "metadata": {
    "collapsed": false
   },
   "outputs": [
    {
     "data": {
      "text/plain": [
       "array([ 1.,  1.,  1.,  1.,  1.,  1.,  1.,  1.,  1.,  1.,  1.,  1.,  1.,\n",
       "        1.,  0.,  1.,  1.,  1.,  0.,  0.,  1.,  1.,  1.,  1.,  1.,  1.,\n",
       "        1.,  1.,  1.,  1.,  1.,  1.,  1.,  1.,  1.,  1.,  1.,  1.,  1.,\n",
       "        1.,  1.], dtype=float32)"
      ]
     },
     "execution_count": 61,
     "metadata": {},
     "output_type": "execute_result"
    }
   ],
   "source": [
    "(probabilities_vals > 0.5).astype(theano.config.floatX)"
   ]
  },
  {
   "cell_type": "code",
   "execution_count": null,
   "metadata": {
    "collapsed": true
   },
   "outputs": [],
   "source": []
  }
 ],
 "metadata": {
  "kernelspec": {
   "display_name": "Python 2",
   "language": "python",
   "name": "python2"
  },
  "language_info": {
   "codemirror_mode": {
    "name": "ipython",
    "version": 2
   },
   "file_extension": ".py",
   "mimetype": "text/x-python",
   "name": "python",
   "nbconvert_exporter": "python",
   "pygments_lexer": "ipython2",
   "version": "2.7.11"
  }
 },
 "nbformat": 4,
 "nbformat_minor": 0
}

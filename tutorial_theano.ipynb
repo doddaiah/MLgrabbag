{
 "cells": [
  {
   "cell_type": "markdown",
   "metadata": {},
   "source": [
    "Following the [`theano` Tutorial](http://deeplearning.net/software/theano/tutorial/index.html)"
   ]
  },
  {
   "cell_type": "code",
   "execution_count": 1,
   "metadata": {
    "collapsed": true
   },
   "outputs": [],
   "source": [
    "from theano import *\n",
    "import theano.tensor as T"
   ]
  },
  {
   "cell_type": "markdown",
   "metadata": {},
   "source": [
    "## Baby Steps - Algebra\n",
    "### Adding two Scalars"
   ]
  },
  {
   "cell_type": "code",
   "execution_count": 2,
   "metadata": {
    "collapsed": true
   },
   "outputs": [],
   "source": [
    "import numpy\n",
    "from theano import function"
   ]
  },
  {
   "cell_type": "code",
   "execution_count": 3,
   "metadata": {
    "collapsed": true
   },
   "outputs": [],
   "source": [
    "x = T.dscalar('x')\n",
    "y = T.dscalar('y')\n",
    "z = x+y\n",
    "f = function([x,y],z)"
   ]
  },
  {
   "cell_type": "code",
   "execution_count": 7,
   "metadata": {
    "collapsed": false
   },
   "outputs": [
    {
     "name": "stdout",
     "output_type": "stream",
     "text": [
      "<class 'theano.tensor.var.TensorVariable'> <class 'theano.tensor.var.TensorVariable'> <class 'theano.tensor.var.TensorVariable'> <class 'theano.compile.function_module.Function'>\n"
     ]
    }
   ],
   "source": [
    "print type(x), type(y), type(z), type(f) # good to know what these \n",
    "# new classes are in theano"
   ]
  },
  {
   "cell_type": "code",
   "execution_count": 8,
   "metadata": {
    "collapsed": false
   },
   "outputs": [
    {
     "data": {
      "text/plain": [
       "array(5.0)"
      ]
     },
     "execution_count": 8,
     "metadata": {},
     "output_type": "execute_result"
    }
   ],
   "source": [
    "f(2,3)"
   ]
  },
  {
   "cell_type": "code",
   "execution_count": 9,
   "metadata": {
    "collapsed": false
   },
   "outputs": [
    {
     "data": {
      "text/plain": [
       "True"
      ]
     },
     "execution_count": 9,
     "metadata": {},
     "output_type": "execute_result"
    }
   ],
   "source": [
    "numpy.allclose(f(16.3,12.1),28.4)"
   ]
  },
  {
   "cell_type": "code",
   "execution_count": 10,
   "metadata": {
    "collapsed": false
   },
   "outputs": [
    {
     "data": {
      "text/plain": [
       "TensorType(float64, scalar)"
      ]
     },
     "execution_count": 10,
     "metadata": {},
     "output_type": "execute_result"
    }
   ],
   "source": [
    "x.type"
   ]
  },
  {
   "cell_type": "code",
   "execution_count": 11,
   "metadata": {
    "collapsed": false
   },
   "outputs": [
    {
     "data": {
      "text/plain": [
       "TensorType(float64, scalar)"
      ]
     },
     "execution_count": 11,
     "metadata": {},
     "output_type": "execute_result"
    }
   ],
   "source": [
    "T.dscalar"
   ]
  },
  {
   "cell_type": "code",
   "execution_count": 12,
   "metadata": {
    "collapsed": false
   },
   "outputs": [
    {
     "data": {
      "text/plain": [
       "True"
      ]
     },
     "execution_count": 12,
     "metadata": {},
     "output_type": "execute_result"
    }
   ],
   "source": [
    "x.type is T.dscalar"
   ]
  },
  {
   "cell_type": "code",
   "execution_count": null,
   "metadata": {
    "collapsed": true
   },
   "outputs": [],
   "source": []
  },
  {
   "cell_type": "markdown",
   "metadata": {},
   "source": [
    "\"Prefer constructors like `matrix, vector` and `scalar` to `dmatrix, dvector` and `dscalar` because the former will give you `float32` variables when `floatX=float32`.\" - cf. [Using the GPU Theano tutorial](http://deeplearning.net/software/theano/tutorial/using_gpu.html)"
   ]
  },
  {
   "cell_type": "code",
   "execution_count": 13,
   "metadata": {
    "collapsed": true
   },
   "outputs": [],
   "source": [
    "xf = T.scalar('xf')\n",
    "yf = T.scalar('yf')\n",
    "zf = xf + yf\n",
    "ff = function([xf,yf],zf)"
   ]
  },
  {
   "cell_type": "code",
   "execution_count": 14,
   "metadata": {
    "collapsed": true
   },
   "outputs": [],
   "source": [
    "from theano import pp"
   ]
  },
  {
   "cell_type": "code",
   "execution_count": 15,
   "metadata": {
    "collapsed": false
   },
   "outputs": [
    {
     "name": "stdout",
     "output_type": "stream",
     "text": [
      "(x + y)\n"
     ]
    }
   ],
   "source": [
    "print(pp(z))"
   ]
  },
  {
   "cell_type": "code",
   "execution_count": 16,
   "metadata": {
    "collapsed": false
   },
   "outputs": [
    {
     "name": "stdout",
     "output_type": "stream",
     "text": [
      "(xf + yf)\n"
     ]
    }
   ],
   "source": [
    "print(pp(zf))"
   ]
  },
  {
   "cell_type": "code",
   "execution_count": 17,
   "metadata": {
    "collapsed": true
   },
   "outputs": [],
   "source": [
    "x = T.dmatrix('x')\n",
    "y = T.dmatrix('y')\n",
    "z = x + y \n",
    "f = function([x,y],z)"
   ]
  },
  {
   "cell_type": "code",
   "execution_count": 18,
   "metadata": {
    "collapsed": false
   },
   "outputs": [
    {
     "data": {
      "text/plain": [
       "array([[ 11.,  22.],\n",
       "       [ 33.,  44.]])"
      ]
     },
     "execution_count": 18,
     "metadata": {},
     "output_type": "execute_result"
    }
   ],
   "source": [
    "f([[1,2],[3,4]], [[10,20],[30,40]])"
   ]
  },
  {
   "cell_type": "code",
   "execution_count": 19,
   "metadata": {
    "collapsed": false
   },
   "outputs": [
    {
     "data": {
      "text/plain": [
       "array([[ 11.,  22.],\n",
       "       [ 33.,  44.]])"
      ]
     },
     "execution_count": 19,
     "metadata": {},
     "output_type": "execute_result"
    }
   ],
   "source": [
    "f(numpy.array([[1,2],[3,4]]),numpy.array([[10,20],[30,40]]))"
   ]
  },
  {
   "cell_type": "code",
   "execution_count": 20,
   "metadata": {
    "collapsed": true
   },
   "outputs": [],
   "source": [
    "xf = T.matrix('xf')\n",
    "xy = T.matrix('yf')\n",
    "zf = xf + yf\n",
    "ff = function([xf,yf],zf)"
   ]
  },
  {
   "cell_type": "code",
   "execution_count": 22,
   "metadata": {
    "collapsed": false
   },
   "outputs": [
    {
     "ename": "TypeError",
     "evalue": "('Bad input argument to theano function with name \"<ipython-input-20-f711db7fb599>:4\"  at index 1(0-based)', 'Wrong number of dimensions: expected 0, got 2 with shape (2, 2).')",
     "output_type": "error",
     "traceback": [
      "\u001b[1;31m---------------------------------------------------------------------------\u001b[0m",
      "\u001b[1;31mTypeError\u001b[0m                                 Traceback (most recent call last)",
      "\u001b[1;32m<ipython-input-22-38fbc8fb8a3b>\u001b[0m in \u001b[0;36m<module>\u001b[1;34m()\u001b[0m\n\u001b[1;32m----> 1\u001b[1;33m \u001b[0mff\u001b[0m\u001b[1;33m(\u001b[0m\u001b[1;33m[\u001b[0m\u001b[1;33m[\u001b[0m\u001b[1;36m1\u001b[0m\u001b[1;33m,\u001b[0m\u001b[1;36m2\u001b[0m\u001b[1;33m]\u001b[0m\u001b[1;33m,\u001b[0m\u001b[1;33m[\u001b[0m\u001b[1;36m3\u001b[0m\u001b[1;33m,\u001b[0m\u001b[1;36m4\u001b[0m\u001b[1;33m]\u001b[0m\u001b[1;33m]\u001b[0m\u001b[1;33m,\u001b[0m \u001b[1;33m[\u001b[0m\u001b[1;33m[\u001b[0m\u001b[1;36m10\u001b[0m\u001b[1;33m,\u001b[0m\u001b[1;36m20\u001b[0m\u001b[1;33m]\u001b[0m\u001b[1;33m,\u001b[0m\u001b[1;33m[\u001b[0m\u001b[1;36m30\u001b[0m\u001b[1;33m,\u001b[0m\u001b[1;36m40\u001b[0m\u001b[1;33m]\u001b[0m\u001b[1;33m]\u001b[0m\u001b[1;33m)\u001b[0m\u001b[1;33m\u001b[0m\u001b[0m\n\u001b[0m",
      "\u001b[1;32m/home/topolo/Public/anaconda2/lib/python2.7/site-packages/theano/compile/function_module.pyc\u001b[0m in \u001b[0;36m__call__\u001b[1;34m(self, *args, **kwargs)\u001b[0m\n\u001b[0;32m    784\u001b[0m                         s.storage[0] = s.type.filter(\n\u001b[0;32m    785\u001b[0m                             \u001b[0marg\u001b[0m\u001b[1;33m,\u001b[0m \u001b[0mstrict\u001b[0m\u001b[1;33m=\u001b[0m\u001b[0ms\u001b[0m\u001b[1;33m.\u001b[0m\u001b[0mstrict\u001b[0m\u001b[1;33m,\u001b[0m\u001b[1;33m\u001b[0m\u001b[0m\n\u001b[1;32m--> 786\u001b[1;33m                             allow_downcast=s.allow_downcast)\n\u001b[0m\u001b[0;32m    787\u001b[0m \u001b[1;33m\u001b[0m\u001b[0m\n\u001b[0;32m    788\u001b[0m                     \u001b[1;32mexcept\u001b[0m \u001b[0mException\u001b[0m \u001b[1;32mas\u001b[0m \u001b[0me\u001b[0m\u001b[1;33m:\u001b[0m\u001b[1;33m\u001b[0m\u001b[0m\n",
      "\u001b[1;32m/home/topolo/Public/anaconda2/lib/python2.7/site-packages/theano/tensor/type.pyc\u001b[0m in \u001b[0;36mfilter\u001b[1;34m(self, data, strict, allow_downcast)\u001b[0m\n\u001b[0;32m    175\u001b[0m             raise TypeError(\"Wrong number of dimensions: expected %s,\"\n\u001b[0;32m    176\u001b[0m                             \" got %s with shape %s.\" % (self.ndim, data.ndim,\n\u001b[1;32m--> 177\u001b[1;33m                                                         data.shape))\n\u001b[0m\u001b[0;32m    178\u001b[0m         \u001b[1;32mif\u001b[0m \u001b[1;32mnot\u001b[0m \u001b[0mdata\u001b[0m\u001b[1;33m.\u001b[0m\u001b[0mflags\u001b[0m\u001b[1;33m.\u001b[0m\u001b[0maligned\u001b[0m\u001b[1;33m:\u001b[0m\u001b[1;33m\u001b[0m\u001b[0m\n\u001b[0;32m    179\u001b[0m             \u001b[1;32mtry\u001b[0m\u001b[1;33m:\u001b[0m\u001b[1;33m\u001b[0m\u001b[0m\n",
      "\u001b[1;31mTypeError\u001b[0m: ('Bad input argument to theano function with name \"<ipython-input-20-f711db7fb599>:4\"  at index 1(0-based)', 'Wrong number of dimensions: expected 0, got 2 with shape (2, 2).')"
     ]
    }
   ],
   "source": [
    "ff([[1,2],[3,4]], [[10,20],[30,40]])"
   ]
  },
  {
   "cell_type": "markdown",
   "metadata": {},
   "source": [
    "Adding exercise 1, cf. http://deeplearning.net/software/theano/tutorial/adding.html"
   ]
  },
  {
   "cell_type": "code",
   "execution_count": 25,
   "metadata": {
    "collapsed": false
   },
   "outputs": [
    {
     "name": "stdout",
     "output_type": "stream",
     "text": [
      "[ 25.  49.]\n"
     ]
    }
   ],
   "source": [
    "a = theano.tensor.vector()\n",
    "b = theano.tensor.vector()\n",
    "out = a**2 + b**2 + 2 * a * b\n",
    "f = theano.function([a,b],out)\n",
    "print(f([1,2],[4,5]))"
   ]
  },
  {
   "cell_type": "markdown",
   "metadata": {},
   "source": [
    "\"At this point it would be wise to begin familiarizing yourself more systematically with Theano’s fundamental objects and operations by browsing this section of the library: [Basic Tensor Functionality](http://deeplearning.net/software/theano/library/tensor/basic.html#libdoc-basic-tensor).\" cf. [More Examples](http://deeplearning.net/software/theano/tutorial/examples.html)"
   ]
  },
  {
   "cell_type": "markdown",
   "metadata": {},
   "source": [
    "### Custom tensor types"
   ]
  },
  {
   "cell_type": "code",
   "execution_count": 28,
   "metadata": {
    "collapsed": false
   },
   "outputs": [],
   "source": [
    "dtensor5 = T.TensorType('float64', (False,)*5)"
   ]
  },
  {
   "cell_type": "code",
   "execution_count": 29,
   "metadata": {
    "collapsed": true
   },
   "outputs": [],
   "source": [
    "x = dtensor5()\n",
    "z = dtensor5('z')"
   ]
  },
  {
   "cell_type": "code",
   "execution_count": 32,
   "metadata": {
    "collapsed": false
   },
   "outputs": [
    {
     "data": {
      "text/plain": [
       "True"
      ]
     },
     "execution_count": 32,
     "metadata": {},
     "output_type": "execute_result"
    }
   ],
   "source": [
    "my_dmatrix = T.TensorType('float64', (False,)*2)\n",
    "x = my_dmatrix()\n",
    "my_dmatrix == T.dmatrix"
   ]
  },
  {
   "cell_type": "markdown",
   "metadata": {},
   "source": [
    "### Converting from Python Objects"
   ]
  },
  {
   "cell_type": "code",
   "execution_count": 33,
   "metadata": {
    "collapsed": true
   },
   "outputs": [],
   "source": [
    "x = shared(numpy.random.randn(3,4))"
   ]
  },
  {
   "cell_type": "markdown",
   "metadata": {},
   "source": [
    "Back to More Examples... http://deeplearning.net/software/theano/tutorial/examples.html"
   ]
  },
  {
   "cell_type": "code",
   "execution_count": 34,
   "metadata": {
    "collapsed": false
   },
   "outputs": [
    {
     "data": {
      "text/plain": [
       "array([[ 0.5       ,  0.73105858],\n",
       "       [ 0.26894142,  0.11920292]])"
      ]
     },
     "execution_count": 34,
     "metadata": {},
     "output_type": "execute_result"
    }
   ],
   "source": [
    "x = T.dmatrix('x')\n",
    "s = 1 / ( 1 + T.exp(-x))\n",
    "logistic = theano.function([x],s)\n",
    "logistic([[0,1],[-1,-2]])"
   ]
  },
  {
   "cell_type": "markdown",
   "metadata": {},
   "source": [
    "\\begin{gathered}\n",
    "s(x) = \\frac{1}{1+\\exp{-x} } = \\frac{1+\\tanh{(x/2) } }{2}\n",
    "\\end{gathered}"
   ]
  },
  {
   "cell_type": "code",
   "execution_count": 35,
   "metadata": {
    "collapsed": false
   },
   "outputs": [
    {
     "data": {
      "text/plain": [
       "array([[ 0.5       ,  0.73105858],\n",
       "       [ 0.26894142,  0.11920292]])"
      ]
     },
     "execution_count": 35,
     "metadata": {},
     "output_type": "execute_result"
    }
   ],
   "source": [
    "s2 = (1 + T.tanh(x/2))/2\n",
    "logistic2 = theano.function([x],s2)\n",
    "logistic2([[0,1],[-1,-2]])"
   ]
  },
  {
   "cell_type": "markdown",
   "metadata": {},
   "source": [
    "## Computing More than one Thing at the Same Time (!!!)"
   ]
  },
  {
   "cell_type": "code",
   "execution_count": 36,
   "metadata": {
    "collapsed": true
   },
   "outputs": [],
   "source": [
    "a,b = T.dmatrices('a','b')\n",
    "diff = a-b\n",
    "abs_diff = abs(diff)\n",
    "diff_squared = diff**2\n",
    "f = theano.function([a,b],[diff,abs_diff,diff_squared])"
   ]
  },
  {
   "cell_type": "code",
   "execution_count": 37,
   "metadata": {
    "collapsed": false
   },
   "outputs": [
    {
     "data": {
      "text/plain": [
       "[array([[ 1.,  0.],\n",
       "        [-1., -2.]]), array([[ 1.,  0.],\n",
       "        [ 1.,  2.]]), array([[ 1.,  0.],\n",
       "        [ 1.,  4.]])]"
      ]
     },
     "execution_count": 37,
     "metadata": {},
     "output_type": "execute_result"
    }
   ],
   "source": [
    "f([[1,1],[1,1]], [[0,1],[2,3]])"
   ]
  },
  {
   "cell_type": "markdown",
   "metadata": {},
   "source": [
    "## Setting a Default Value for an Argument"
   ]
  },
  {
   "cell_type": "code",
   "execution_count": 38,
   "metadata": {
    "collapsed": true
   },
   "outputs": [],
   "source": [
    "from theano import In\n",
    "from theano import function\n",
    "x,y = T.dscalars('x','y')\n",
    "z = x + y\n",
    "f= function([x,In(y,value=1)],z)"
   ]
  },
  {
   "cell_type": "code",
   "execution_count": 39,
   "metadata": {
    "collapsed": false
   },
   "outputs": [
    {
     "data": {
      "text/plain": [
       "array(34.0)"
      ]
     },
     "execution_count": 39,
     "metadata": {},
     "output_type": "execute_result"
    }
   ],
   "source": [
    "f(33)"
   ]
  },
  {
   "cell_type": "code",
   "execution_count": 40,
   "metadata": {
    "collapsed": false
   },
   "outputs": [
    {
     "data": {
      "text/plain": [
       "array(35.0)"
      ]
     },
     "execution_count": 40,
     "metadata": {},
     "output_type": "execute_result"
    }
   ],
   "source": [
    "f(33,2)"
   ]
  },
  {
   "cell_type": "markdown",
   "metadata": {},
   "source": [
    "\"Inputs with default values must follow inputs without default values (like Python’s functions). There can be multiple inputs with default values. These parameters can be set positionally or by name, as in standard Python:\""
   ]
  },
  {
   "cell_type": "code",
   "execution_count": 42,
   "metadata": {
    "collapsed": false
   },
   "outputs": [
    {
     "data": {
      "text/plain": [
       "array(68.0)"
      ]
     },
     "execution_count": 42,
     "metadata": {},
     "output_type": "execute_result"
    }
   ],
   "source": [
    "x,y,w = T.dscalars('x', 'y', 'w')\n",
    "z = (x+y)*w\n",
    "f = function([x,In(y,value=1),In(w,value=2,name='w_by_name')],z)\n",
    "f(33)"
   ]
  },
  {
   "cell_type": "code",
   "execution_count": 43,
   "metadata": {
    "collapsed": false
   },
   "outputs": [
    {
     "data": {
      "text/plain": [
       "array(70.0)"
      ]
     },
     "execution_count": 43,
     "metadata": {},
     "output_type": "execute_result"
    }
   ],
   "source": [
    "f(33,2)"
   ]
  },
  {
   "cell_type": "code",
   "execution_count": 44,
   "metadata": {
    "collapsed": false
   },
   "outputs": [
    {
     "data": {
      "text/plain": [
       "array(33.0)"
      ]
     },
     "execution_count": 44,
     "metadata": {},
     "output_type": "execute_result"
    }
   ],
   "source": [
    "f(33,0,1)"
   ]
  },
  {
   "cell_type": "code",
   "execution_count": 45,
   "metadata": {
    "collapsed": false
   },
   "outputs": [
    {
     "data": {
      "text/plain": [
       "array(34.0)"
      ]
     },
     "execution_count": 45,
     "metadata": {},
     "output_type": "execute_result"
    }
   ],
   "source": [
    "f(33,w_by_name=1)"
   ]
  },
  {
   "cell_type": "code",
   "execution_count": 46,
   "metadata": {
    "collapsed": false
   },
   "outputs": [
    {
     "data": {
      "text/plain": [
       "array(33.0)"
      ]
     },
     "execution_count": 46,
     "metadata": {},
     "output_type": "execute_result"
    }
   ],
   "source": [
    "f(33,w_by_name=1,y=0)"
   ]
  },
  {
   "cell_type": "markdown",
   "metadata": {},
   "source": [
    "## Using Shared Variables"
   ]
  },
  {
   "cell_type": "code",
   "execution_count": 47,
   "metadata": {
    "collapsed": true
   },
   "outputs": [],
   "source": [
    "from theano import shared\n",
    "state = shared(0)\n",
    "inc = T.iscalar('inc')\n",
    "accumulator = function([inc],state,updates=[(state,state+inc)])"
   ]
  },
  {
   "cell_type": "code",
   "execution_count": 48,
   "metadata": {
    "collapsed": false
   },
   "outputs": [
    {
     "name": "stdout",
     "output_type": "stream",
     "text": [
      "0\n"
     ]
    }
   ],
   "source": [
    "print(state.get_value())"
   ]
  },
  {
   "cell_type": "code",
   "execution_count": 49,
   "metadata": {
    "collapsed": false
   },
   "outputs": [
    {
     "data": {
      "text/plain": [
       "array(0)"
      ]
     },
     "execution_count": 49,
     "metadata": {},
     "output_type": "execute_result"
    }
   ],
   "source": [
    "accumulator(1)"
   ]
  },
  {
   "cell_type": "code",
   "execution_count": 50,
   "metadata": {
    "collapsed": false
   },
   "outputs": [
    {
     "name": "stdout",
     "output_type": "stream",
     "text": [
      "1\n"
     ]
    }
   ],
   "source": [
    "print(state.get_value())"
   ]
  },
  {
   "cell_type": "code",
   "execution_count": 51,
   "metadata": {
    "collapsed": false
   },
   "outputs": [
    {
     "data": {
      "text/plain": [
       "array(1)"
      ]
     },
     "execution_count": 51,
     "metadata": {},
     "output_type": "execute_result"
    }
   ],
   "source": [
    "accumulator(300)"
   ]
  },
  {
   "cell_type": "code",
   "execution_count": 52,
   "metadata": {
    "collapsed": false
   },
   "outputs": [
    {
     "name": "stdout",
     "output_type": "stream",
     "text": [
      "301\n"
     ]
    }
   ],
   "source": [
    "print(state.get_value())"
   ]
  },
  {
   "cell_type": "markdown",
   "metadata": {},
   "source": [
    "\"It is possible to reset the state.  Just use the `.set_value()` method:\""
   ]
  },
  {
   "cell_type": "code",
   "execution_count": 53,
   "metadata": {
    "collapsed": true
   },
   "outputs": [],
   "source": [
    "state.set_value(-1)"
   ]
  },
  {
   "cell_type": "code",
   "execution_count": 54,
   "metadata": {
    "collapsed": false
   },
   "outputs": [
    {
     "data": {
      "text/plain": [
       "array(-1)"
      ]
     },
     "execution_count": 54,
     "metadata": {},
     "output_type": "execute_result"
    }
   ],
   "source": [
    "accumulator(3)"
   ]
  },
  {
   "cell_type": "code",
   "execution_count": 55,
   "metadata": {
    "collapsed": false
   },
   "outputs": [
    {
     "name": "stdout",
     "output_type": "stream",
     "text": [
      "2\n"
     ]
    }
   ],
   "source": [
    "print(state.get_value())"
   ]
  },
  {
   "cell_type": "code",
   "execution_count": 56,
   "metadata": {
    "collapsed": true
   },
   "outputs": [],
   "source": [
    "decrementor = function([inc],state, updates=[(state,state-inc)])"
   ]
  },
  {
   "cell_type": "code",
   "execution_count": 57,
   "metadata": {
    "collapsed": false
   },
   "outputs": [
    {
     "data": {
      "text/plain": [
       "array(2)"
      ]
     },
     "execution_count": 57,
     "metadata": {},
     "output_type": "execute_result"
    }
   ],
   "source": [
    "decrementor(2)"
   ]
  },
  {
   "cell_type": "code",
   "execution_count": 58,
   "metadata": {
    "collapsed": false
   },
   "outputs": [
    {
     "name": "stdout",
     "output_type": "stream",
     "text": [
      "0\n"
     ]
    }
   ],
   "source": [
    "print(state.get_value())"
   ]
  },
  {
   "cell_type": "markdown",
   "metadata": {},
   "source": [
    "\"Also, Theano has more control over where and how shared variables are allocated, which is one of the important elements of getting good performance on the GPU.\""
   ]
  },
  {
   "cell_type": "code",
   "execution_count": 60,
   "metadata": {
    "collapsed": false
   },
   "outputs": [
    {
     "data": {
      "text/plain": [
       "array(7)"
      ]
     },
     "execution_count": 60,
     "metadata": {},
     "output_type": "execute_result"
    }
   ],
   "source": [
    "fn_of_state = state * 2 + inc\n",
    "# The type of foo must match the shared variable we are replacing\n",
    "# with the \"givens\"\n",
    "foo = T.scalar(dtype=state.dtype)\n",
    "skip_shared = function([inc,foo], fn_of_state, givens=[(state,foo)])\n",
    "skip_shared(1,3)"
   ]
  },
  {
   "cell_type": "code",
   "execution_count": 61,
   "metadata": {
    "collapsed": false
   },
   "outputs": [
    {
     "name": "stdout",
     "output_type": "stream",
     "text": [
      "0\n"
     ]
    }
   ],
   "source": [
    "print(state.get_value())"
   ]
  },
  {
   "cell_type": "markdown",
   "metadata": {},
   "source": [
    "## Copying functions"
   ]
  },
  {
   "cell_type": "code",
   "execution_count": 64,
   "metadata": {
    "collapsed": false
   },
   "outputs": [
    {
     "data": {
      "text/plain": [
       "array(0)"
      ]
     },
     "execution_count": 64,
     "metadata": {},
     "output_type": "execute_result"
    }
   ],
   "source": [
    "inc = T.iscalar('inc')\n",
    "accumulator = theano.function([inc],state, updates=[(state,state+inc)])\n",
    "accumulator(10)"
   ]
  },
  {
   "cell_type": "code",
   "execution_count": 65,
   "metadata": {
    "collapsed": false
   },
   "outputs": [
    {
     "name": "stdout",
     "output_type": "stream",
     "text": [
      "10\n"
     ]
    }
   ],
   "source": [
    "print(state.get_value())"
   ]
  },
  {
   "cell_type": "markdown",
   "metadata": {},
   "source": [
    "\"We can use `copy()` to create a similar accumulator but with its own internal state using the swap parameter, which is a dictionary of shared variables to exchange:\""
   ]
  },
  {
   "cell_type": "code",
   "execution_count": 66,
   "metadata": {
    "collapsed": false
   },
   "outputs": [
    {
     "data": {
      "text/plain": [
       "[array(0)]"
      ]
     },
     "execution_count": 66,
     "metadata": {},
     "output_type": "execute_result"
    }
   ],
   "source": [
    "new_state = theano.shared(0)\n",
    "new_accumulator = accumulator.copy(swap={state:new_state})\n",
    "new_accumulator(100)"
   ]
  },
  {
   "cell_type": "code",
   "execution_count": 67,
   "metadata": {
    "collapsed": false
   },
   "outputs": [
    {
     "name": "stdout",
     "output_type": "stream",
     "text": [
      "100\n"
     ]
    }
   ],
   "source": [
    "print(new_state.get_value())"
   ]
  },
  {
   "cell_type": "code",
   "execution_count": 68,
   "metadata": {
    "collapsed": false
   },
   "outputs": [
    {
     "name": "stdout",
     "output_type": "stream",
     "text": [
      "10\n"
     ]
    }
   ],
   "source": [
    "print(state.get_value())"
   ]
  },
  {
   "cell_type": "code",
   "execution_count": 69,
   "metadata": {
    "collapsed": false
   },
   "outputs": [
    {
     "ename": "UnusedInputError",
     "evalue": "theano.function was asked to create a function computing outputs given certain inputs, but the provided input variable at index 0 is not part of the computational graph needed to compute the outputs: inc.\nTo make this error into a warning, you can pass the parameter on_unused_input='warn' to theano.function. To disable it completely, use on_unused_input='ignore'.",
     "output_type": "error",
     "traceback": [
      "\u001b[1;31m---------------------------------------------------------------------------\u001b[0m",
      "\u001b[1;31mUnusedInputError\u001b[0m                          Traceback (most recent call last)",
      "\u001b[1;32m<ipython-input-69-9c62592c8b05>\u001b[0m in \u001b[0;36m<module>\u001b[1;34m()\u001b[0m\n\u001b[1;32m----> 1\u001b[1;33m \u001b[0mnull_accumulator\u001b[0m \u001b[1;33m=\u001b[0m \u001b[0maccumulator\u001b[0m\u001b[1;33m.\u001b[0m\u001b[0mcopy\u001b[0m\u001b[1;33m(\u001b[0m\u001b[0mdelete_updates\u001b[0m\u001b[1;33m=\u001b[0m\u001b[0mTrue\u001b[0m\u001b[1;33m)\u001b[0m\u001b[1;33m\u001b[0m\u001b[0m\n\u001b[0m\u001b[0;32m      2\u001b[0m \u001b[0mnull_accumulator\u001b[0m\u001b[1;33m(\u001b[0m\u001b[1;36m9000\u001b[0m\u001b[1;33m)\u001b[0m\u001b[1;33m\u001b[0m\u001b[0m\n",
      "\u001b[1;32m/home/topolo/Public/anaconda2/lib/python2.7/site-packages/theano/compile/function_module.pyc\u001b[0m in \u001b[0;36mcopy\u001b[1;34m(self, share_memory, swap, delete_updates, name, profile)\u001b[0m\n\u001b[0;32m    719\u001b[0m                                 \u001b[1;31m# can contain inplace. DebugMode check\u001b[0m\u001b[1;33m\u001b[0m\u001b[1;33m\u001b[0m\u001b[0m\n\u001b[0;32m    720\u001b[0m                                 \u001b[1;31m# that.\u001b[0m\u001b[1;33m\u001b[0m\u001b[1;33m\u001b[0m\u001b[0m\n\u001b[1;32m--> 721\u001b[1;33m                                 \u001b[0maccept_inplace\u001b[0m\u001b[1;33m=\u001b[0m\u001b[0mTrue\u001b[0m\u001b[1;33m,\u001b[0m\u001b[1;33m\u001b[0m\u001b[0m\n\u001b[0m\u001b[0;32m    722\u001b[0m                                 \u001b[1;33m)\u001b[0m\u001b[1;33m.\u001b[0m\u001b[0mcreate\u001b[0m\u001b[1;33m(\u001b[0m\u001b[0minput_storage\u001b[0m\u001b[1;33m,\u001b[0m\u001b[1;33m\u001b[0m\u001b[0m\n\u001b[0;32m    723\u001b[0m                                          storage_map=new_storage_map)\n",
      "\u001b[1;32m/home/topolo/Public/anaconda2/lib/python2.7/site-packages/theano/compile/function_module.pyc\u001b[0m in \u001b[0;36m__init__\u001b[1;34m(self, inputs, outputs, mode, accept_inplace, function_builder, profile, on_unused_input, fgraph, output_keys)\u001b[0m\n\u001b[0;32m   1413\u001b[0m \u001b[1;33m\u001b[0m\u001b[0m\n\u001b[0;32m   1414\u001b[0m         \u001b[1;31m# Check if some input variables are unused\u001b[0m\u001b[1;33m\u001b[0m\u001b[1;33m\u001b[0m\u001b[0m\n\u001b[1;32m-> 1415\u001b[1;33m         \u001b[0mself\u001b[0m\u001b[1;33m.\u001b[0m\u001b[0m_check_unused_inputs\u001b[0m\u001b[1;33m(\u001b[0m\u001b[0minputs\u001b[0m\u001b[1;33m,\u001b[0m \u001b[0moutputs\u001b[0m\u001b[1;33m,\u001b[0m \u001b[0mon_unused_input\u001b[0m\u001b[1;33m)\u001b[0m\u001b[1;33m\u001b[0m\u001b[0m\n\u001b[0m\u001b[0;32m   1416\u001b[0m \u001b[1;33m\u001b[0m\u001b[0m\n\u001b[0;32m   1417\u001b[0m         \u001b[1;31m# Make a list of (SymbolicInput|SymblicInputKits, indices,\u001b[0m\u001b[1;33m\u001b[0m\u001b[1;33m\u001b[0m\u001b[0m\n",
      "\u001b[1;32m/home/topolo/Public/anaconda2/lib/python2.7/site-packages/theano/compile/function_module.pyc\u001b[0m in \u001b[0;36m_check_unused_inputs\u001b[1;34m(self, inputs, outputs, on_unused_input)\u001b[0m\n\u001b[0;32m   1551\u001b[0m                 \u001b[1;32melif\u001b[0m \u001b[0mon_unused_input\u001b[0m \u001b[1;33m==\u001b[0m \u001b[1;34m'raise'\u001b[0m\u001b[1;33m:\u001b[0m\u001b[1;33m\u001b[0m\u001b[0m\n\u001b[0;32m   1552\u001b[0m                     raise UnusedInputError(msg % (inputs.index(i),\n\u001b[1;32m-> 1553\u001b[1;33m                                                   i.variable, err_msg))\n\u001b[0m\u001b[0;32m   1554\u001b[0m                 \u001b[1;32melse\u001b[0m\u001b[1;33m:\u001b[0m\u001b[1;33m\u001b[0m\u001b[0m\n\u001b[0;32m   1555\u001b[0m                     raise ValueError(\"Invalid value for keyword \"\n",
      "\u001b[1;31mUnusedInputError\u001b[0m: theano.function was asked to create a function computing outputs given certain inputs, but the provided input variable at index 0 is not part of the computational graph needed to compute the outputs: inc.\nTo make this error into a warning, you can pass the parameter on_unused_input='warn' to theano.function. To disable it completely, use on_unused_input='ignore'."
     ]
    }
   ],
   "source": [
    "null_accumulator = accumulator.copy(delete_updates=True)\n",
    "null_accumulator(9000)"
   ]
  },
  {
   "cell_type": "code",
   "execution_count": 70,
   "metadata": {
    "collapsed": false
   },
   "outputs": [
    {
     "name": "stdout",
     "output_type": "stream",
     "text": [
      "10\n"
     ]
    }
   ],
   "source": [
    "print(state.get_value())"
   ]
  },
  {
   "cell_type": "markdown",
   "metadata": {},
   "source": [
    "## Using Random Numbers"
   ]
  },
  {
   "cell_type": "code",
   "execution_count": 71,
   "metadata": {
    "collapsed": true
   },
   "outputs": [],
   "source": [
    "from theano.tensor.shared_randomstreams import RandomStreams\n",
    "from theano import function\n",
    "srng = RandomStreams(seed=234)\n",
    "rv_u = srng.uniform((2,2)) # represents a random stream of 2x2 matrices\n",
    "rv_n = srng.normal((2,2))\n",
    "f = function([], rv_u)\n",
    "g = function([], rv_n, no_default_updates=True) # Not updating rv_n.rng\n",
    "nearly_zeros = function([],rv_u+rv_u - 2 * rv_u)"
   ]
  },
  {
   "cell_type": "markdown",
   "metadata": {},
   "source": [
    "\"The RandomStream only work on the CPU, MRG31k3p work on the CPU and GPU. CURAND only work on the GPU.\" cf. http://deeplearning.net/software/theano/tutorial/examples.html#other-implementations"
   ]
  },
  {
   "cell_type": "code",
   "execution_count": 74,
   "metadata": {
    "collapsed": false
   },
   "outputs": [],
   "source": [
    "from theano.sandbox.rng_mrg import MRG_RandomStreams"
   ]
  },
  {
   "cell_type": "code",
   "execution_count": 76,
   "metadata": {
    "collapsed": false
   },
   "outputs": [],
   "source": [
    "from theano.sandbox.cuda import CURAND_RandomStreams"
   ]
  },
  {
   "cell_type": "code",
   "execution_count": 77,
   "metadata": {
    "collapsed": true
   },
   "outputs": [],
   "source": [
    "f_val0 = f()"
   ]
  },
  {
   "cell_type": "code",
   "execution_count": 78,
   "metadata": {
    "collapsed": true
   },
   "outputs": [],
   "source": [
    "f_val1 = f()"
   ]
  },
  {
   "cell_type": "markdown",
   "metadata": {},
   "source": [
    "\"When we add the extra argument `no_default_updates=True` to function (as in `g`), then the random number generator state is not affected by calling the returned function. So, for example, calling `g` multiple times will return the same numbers.\""
   ]
  },
  {
   "cell_type": "code",
   "execution_count": 79,
   "metadata": {
    "collapsed": true
   },
   "outputs": [],
   "source": [
    "g_val0 = g() # different numbers from f_val0 and f_val1"
   ]
  },
  {
   "cell_type": "code",
   "execution_count": 80,
   "metadata": {
    "collapsed": true
   },
   "outputs": [],
   "source": [
    "g_val1 = g()"
   ]
  },
  {
   "cell_type": "markdown",
   "metadata": {},
   "source": [
    "\"An important remark is that a random variable is drawn at most once during any single function execution. So the nearly_zeros function is guaranteed to return approximately 0 (except for rounding error) even though the `rv_u` random variable appears three times in the output expression.\""
   ]
  },
  {
   "cell_type": "markdown",
   "metadata": {},
   "source": [
    "### Seeding Streams"
   ]
  },
  {
   "cell_type": "code",
   "execution_count": 82,
   "metadata": {
    "collapsed": true
   },
   "outputs": [],
   "source": [
    "rng_val = rv_u.rng.get_value(borrow=True) # Get the ring for rv_u\n",
    "rng_val.seed(89234) # seeds the generator\n",
    "rv_u.rng.set_value(rng_val, borrow=True) # Assign back seeded rng"
   ]
  },
  {
   "cell_type": "code",
   "execution_count": 83,
   "metadata": {
    "collapsed": true
   },
   "outputs": [],
   "source": [
    "srng.seed(902340) # seeds rv_u and rv_n with different seeds each"
   ]
  },
  {
   "cell_type": "markdown",
   "metadata": {},
   "source": [
    "### Sharing Streams Between Functions"
   ]
  },
  {
   "cell_type": "code",
   "execution_count": 84,
   "metadata": {
    "collapsed": true
   },
   "outputs": [],
   "source": [
    "state_after_v0 = rv_u.rng.get_value().get_state()"
   ]
  },
  {
   "cell_type": "code",
   "execution_count": 85,
   "metadata": {
    "collapsed": false
   },
   "outputs": [
    {
     "data": {
      "text/plain": [
       "array([[ 0.,  0.],\n",
       "       [ 0.,  0.]])"
      ]
     },
     "execution_count": 85,
     "metadata": {},
     "output_type": "execute_result"
    }
   ],
   "source": [
    "nearly_zeros()  # this affects rv_u's generator"
   ]
  },
  {
   "cell_type": "code",
   "execution_count": 86,
   "metadata": {
    "collapsed": true
   },
   "outputs": [],
   "source": [
    "v1 = f()\n",
    "rng = rv_u.rng.get_value(borrow=True)\n",
    "rng.set_state(state_after_v0)\n",
    "rv_u.rng.set_value(rng,borrow=True)"
   ]
  },
  {
   "cell_type": "code",
   "execution_count": 87,
   "metadata": {
    "collapsed": true
   },
   "outputs": [],
   "source": [
    "v2 =f() # v2 != v1"
   ]
  },
  {
   "cell_type": "code",
   "execution_count": 88,
   "metadata": {
    "collapsed": true
   },
   "outputs": [],
   "source": [
    "v3=f() # v3 == v1"
   ]
  },
  {
   "cell_type": "code",
   "execution_count": 90,
   "metadata": {
    "collapsed": false
   },
   "outputs": [
    {
     "data": {
      "text/plain": [
       "array([[ 0.33919835,  0.85344878],\n",
       "       [ 0.14881562,  0.79659413]])"
      ]
     },
     "execution_count": 90,
     "metadata": {},
     "output_type": "execute_result"
    }
   ],
   "source": [
    "v2.view()"
   ]
  },
  {
   "cell_type": "code",
   "execution_count": 91,
   "metadata": {
    "collapsed": false
   },
   "outputs": [
    {
     "data": {
      "text/plain": [
       "array([[ 0.5025809 ,  0.99544429],\n",
       "       [ 0.75073355,  0.17926032]])"
      ]
     },
     "execution_count": 91,
     "metadata": {},
     "output_type": "execute_result"
    }
   ],
   "source": [
    "v1.view()"
   ]
  },
  {
   "cell_type": "code",
   "execution_count": 92,
   "metadata": {
    "collapsed": false
   },
   "outputs": [
    {
     "data": {
      "text/plain": [
       "array([[ 0.5025809 ,  0.99544429],\n",
       "       [ 0.75073355,  0.17926032]])"
      ]
     },
     "execution_count": 92,
     "metadata": {},
     "output_type": "execute_result"
    }
   ],
   "source": [
    "v3.view()"
   ]
  },
  {
   "cell_type": "markdown",
   "metadata": {},
   "source": [
    "### Copying Random State Between Theano Graphs"
   ]
  },
  {
   "cell_type": "code",
   "execution_count": 93,
   "metadata": {
    "collapsed": true
   },
   "outputs": [],
   "source": [
    "from __future__ import print_function\n",
    "from theano.sandbox.rng_mrg import MRG_RandomStreams\n",
    "from theano.tensor.shared_randomstreams import RandomStreams"
   ]
  },
  {
   "cell_type": "code",
   "execution_count": 94,
   "metadata": {
    "collapsed": true
   },
   "outputs": [],
   "source": [
    "class Graph():\n",
    "    def __init__(self, seed=123):\n",
    "        self.rng = RandomStreams(seed)\n",
    "        self.y = self.rng.uniform(size=(1,))"
   ]
  },
  {
   "cell_type": "code",
   "execution_count": 96,
   "metadata": {
    "collapsed": false
   },
   "outputs": [
    {
     "data": {
      "text/plain": [
       "array([ 0.72803009])"
      ]
     },
     "execution_count": 96,
     "metadata": {},
     "output_type": "execute_result"
    }
   ],
   "source": [
    "g1 = Graph(seed=123)\n",
    "f1 = theano.function([], g1.y)\n",
    "g2 = Graph(seed=987)\n",
    "f2 = theano.function([], g2.y)\n",
    "\n",
    "# By default, the two functions are out of sync.\n",
    "f1()"
   ]
  },
  {
   "cell_type": "code",
   "execution_count": 97,
   "metadata": {
    "collapsed": false
   },
   "outputs": [
    {
     "data": {
      "text/plain": [
       "array([ 0.55056769])"
      ]
     },
     "execution_count": 97,
     "metadata": {},
     "output_type": "execute_result"
    }
   ],
   "source": [
    "f2()"
   ]
  },
  {
   "cell_type": "code",
   "execution_count": 98,
   "metadata": {
    "collapsed": true
   },
   "outputs": [],
   "source": [
    "def copy_random_state(g1,g2):\n",
    "    if isinstance(g1.rng, MRG_RandomStreams):\n",
    "        g2.rng.rstate = g1.rng.rstate\n",
    "    for (su1, su2) in zip(g1.rng.state_updates, g2.rng.state_updates):\n",
    "        su2[0].set_value(su1[0].get_value())"
   ]
  },
  {
   "cell_type": "code",
   "execution_count": 99,
   "metadata": {
    "collapsed": false
   },
   "outputs": [
    {
     "data": {
      "text/plain": [
       "array([ 0.59044123])"
      ]
     },
     "execution_count": 99,
     "metadata": {},
     "output_type": "execute_result"
    }
   ],
   "source": [
    "# We now copy the state of the theano random number generators.\n",
    "copy_random_state(g1, g2)\n",
    "f1()"
   ]
  },
  {
   "cell_type": "code",
   "execution_count": 100,
   "metadata": {
    "collapsed": false
   },
   "outputs": [
    {
     "data": {
      "text/plain": [
       "array([ 0.59044123])"
      ]
     },
     "execution_count": 100,
     "metadata": {},
     "output_type": "execute_result"
    }
   ],
   "source": [
    "f2()"
   ]
  },
  {
   "cell_type": "markdown",
   "metadata": {},
   "source": [
    "### Other Random Distributions\n",
    "\n",
    "are found here at [other distributions implemented](http://deeplearning.net/software/theano/library/tensor/raw_random.html#libdoc-tensor-raw-random)"
   ]
  },
  {
   "cell_type": "markdown",
   "metadata": {},
   "source": [
    "# A Real Example: Logistic Regression\n"
   ]
  },
  {
   "cell_type": "code",
   "execution_count": 101,
   "metadata": {
    "collapsed": false
   },
   "outputs": [
    {
     "name": "stdout",
     "output_type": "stream",
     "text": [
      "Initial model:\n",
      "[  1.02090375e+00   8.73947142e-01   1.95614041e+00   7.07377428e-01\n",
      "  -6.53816172e-01   7.42545996e-01  -9.80754517e-01   5.61128882e-01\n",
      "   1.78775715e+00   2.55831279e-01  -8.67444321e-02   7.94001501e-01\n",
      "  -6.70527935e-01  -1.96668538e+00   2.54200412e+00   8.89567452e-01\n",
      "   9.74970709e-01   8.48005589e-01  -6.09636316e-01   8.50633037e-01\n",
      "   1.68271257e+00   4.93346994e-01  -5.51691867e-02   2.37368331e-01\n",
      "   1.62746146e-01   1.55918000e+00  -8.34594814e-01   1.38944861e+00\n",
      "  -1.23368104e+00  -3.93048716e-01   1.05566395e+00  -1.31731246e+00\n",
      "   7.08793200e-01  -2.69903059e-01   1.59489513e+00  -5.41472996e-01\n",
      "  -1.51657778e+00  -1.74491648e+00  -4.87264078e-01  -1.40829581e+00\n",
      "   9.16277590e-01   1.13288831e-01  -8.15545784e-01   3.63391354e-01\n",
      "   4.59170798e-01  -4.92534498e-01   1.59924371e-01  -5.79592495e-01\n",
      "   8.28797390e-01   1.01823000e+00   9.47734065e-01   1.07973174e+00\n",
      "   4.30089731e-02  -8.06497075e-02   8.95636221e-01  -1.18478568e-02\n",
      "  -5.81466361e-01   4.24213296e-01  -9.76244057e-01   9.77803579e-01\n",
      "  -1.68833204e-01   7.43143151e-01  -1.45011683e+00  -4.39116887e-01\n",
      "   2.02524479e-01  -1.48128730e-01  -1.57771132e+00   1.50352107e-01\n",
      "  -3.28331728e-01   6.71897989e-02  -1.19704026e+00   1.52688204e+00\n",
      "  -1.31571397e+00   8.90164259e-01  -2.23393343e-01   4.99356497e-01\n",
      "  -1.29504971e+00   7.02042318e-01  -3.24683905e-01  -6.27943493e-01\n",
      "   3.14126673e-01   1.12213995e-01  -9.21144105e-01  -2.43648932e-01\n",
      "  -2.33448211e-01  -1.00637079e+00   6.33923303e-01   6.56206738e-01\n",
      "   1.45152861e+00   1.33058182e+00   5.10506128e-01   1.16950441e+00\n",
      "  -7.71856464e-01   4.80736974e-01   2.31723934e-01   1.49188536e+00\n",
      "  -7.33637390e-01  -3.60145054e-01  -6.62364149e-01   1.15997382e+00\n",
      "   4.85467482e-02  -2.49511990e-01  -2.16758659e+00  -8.67892909e-01\n",
      "   9.63635308e-01   5.77244652e-03   1.95557853e+00   6.59938526e-01\n",
      "  -5.92379578e-01  -1.42131361e+00  -6.06090501e-01  -1.44791105e-01\n",
      "  -4.07448243e-01   1.08839737e+00  -6.09163649e-01  -3.83439487e-01\n",
      "  -5.52671444e-02  -7.45281579e-01   2.36207307e-01   6.73715161e-01\n",
      "  -5.06680836e-01  -3.89571760e-01   5.43189401e-01   5.18757744e-01\n",
      "  -8.18926229e-01  -1.31366774e-01   1.24943697e+00  -2.04555766e+00\n",
      "   2.30376888e-01  -1.82374680e+00  -1.49620886e+00   7.66641416e-01\n",
      "   4.93167826e-01   4.79110747e-01  -1.86664191e+00  -1.09007317e+00\n",
      "   1.54655862e+00  -4.69143883e-01   2.97751272e-01  -1.89391756e+00\n",
      "   3.17911849e-01   1.95615980e+00   9.86954201e-02   1.05970291e+00\n",
      "  -2.14845759e+00   1.16862930e-01  -5.98409143e-01   5.44959433e-01\n",
      "   1.69291338e+00  -2.03597258e-01   5.04499321e-02  -1.08120920e+00\n",
      "   4.22101164e-01   1.82562928e+00   3.55452430e-01  -6.40125897e-01\n",
      "   3.88448160e-01   7.04888678e-01  -1.51880862e+00   8.31411212e-01\n",
      "  -1.27244052e+00   1.18952583e+00   1.08579966e-01  -9.32388052e-01\n",
      "  -4.74739101e-01   1.52918600e+00  -5.25556385e-01  -4.14615352e-01\n",
      "   3.18785478e-01  -9.88229458e-01  -8.35711414e-01  -5.70864096e-01\n",
      "  -4.84650587e-01   5.56635563e-01   1.28846167e+00   5.66758002e-02\n",
      "   1.55206322e+00   1.38991673e+00   7.79811803e-01   1.64131920e+00\n",
      "   8.81968840e-01   9.24259617e-01  -1.11325013e-01   5.30073122e-01\n",
      "   7.39416638e-01  -3.30580630e-01   5.22214454e-01   1.38711119e-01\n",
      "   2.70007039e+00   1.13349621e+00   2.03398657e+00   4.02464985e-02\n",
      "   5.30575756e-01  -7.19422036e-01   1.61156869e-01   7.02390558e-01\n",
      "  -1.94458803e-01  -7.07393385e-01  -6.16683694e-01  -7.03852782e-01\n",
      "  -2.13252703e-01  -1.26214924e+00   7.86406827e-01   9.48912220e-01\n",
      "   9.61491556e-01   1.13303970e-01  -7.11180757e-01   1.33364223e+00\n",
      "   7.51945657e-01   1.36873393e+00  -7.33127552e-01   1.54788909e-01\n",
      "  -8.81978191e-01   2.39732742e-01   3.16681446e-01   1.25647817e+00\n",
      "   9.86339419e-01  -8.00005460e-01  -1.58500220e+00   2.25529851e+00\n",
      "  -2.57658643e-01  -8.35908448e-01   5.37293722e-01   1.46937651e+00\n",
      "   4.22615189e-01  -9.25028307e-01  -1.08224378e+00  -4.17584822e-01\n",
      "  -1.65624617e+00  -1.20110360e+00  -1.71466593e+00   1.06068512e+00\n",
      "  -7.10531288e-01  -2.45182989e-01  -8.73764848e-01  -3.14402273e-01\n",
      "   2.84017903e-01   1.04617480e+00  -2.00541051e-01  -6.76963341e-01\n",
      "   6.42284249e-01  -7.27256802e-01   5.00257949e-01   1.77173328e-01\n",
      "  -3.35200393e-01   4.54306408e-01   9.71647231e-01  -1.58096887e+00\n",
      "  -1.62698537e+00  -1.20757309e-01  -4.84239650e-01  -1.01253549e+00\n",
      "  -4.55594449e-01  -1.24059703e+00   1.45024757e+00  -6.36831201e-01\n",
      "   6.66481267e-01  -1.20226156e+00   6.26097700e-01   4.36649752e-01\n",
      "  -1.90033855e-01  -2.16185075e-01  -1.45658116e-01  -5.42178438e-01\n",
      "  -9.51822596e-01   6.03622035e-01   3.47322478e+00   3.80057626e+00\n",
      "   4.30018315e-01  -1.18529132e+00   1.05549365e+00   1.08000352e+00\n",
      "   1.14564527e+00   9.32282009e-01   3.22643679e-01  -1.29549056e-01\n",
      "  -5.48090410e-01   2.07474158e-01   1.23735892e+00  -1.40366607e-01\n",
      "  -8.79224625e-02   1.05414726e+00   1.10139014e+00  -1.10684451e+00\n",
      "  -8.03057691e-01  -1.36056405e+00  -6.74985268e-01   5.99045433e-01\n",
      "  -9.44934312e-01   1.08325628e+00   6.61105015e-01   2.00477600e+00\n",
      "  -6.21931145e-01  -4.42610971e-01   1.55512565e+00  -2.34940342e-01\n",
      "  -1.80660809e+00  -1.04444304e+00  -1.31868758e-01  -1.06363300e+00\n",
      "   1.99452744e-01  -5.16354069e-01  -7.17794152e-01  -4.93125496e-01\n",
      "   7.30863966e-01  -3.97392088e-02  -8.07285651e-01   3.62122093e-02\n",
      "   2.87212919e-01  -3.42469655e-01   1.69802421e-01  -1.20004403e+00\n",
      "   1.80603626e-01  -2.77886862e-01   1.28721740e+00   2.20948332e-01\n",
      "   1.07498766e+00   7.61151978e-01  -1.14772422e+00  -4.10463090e-01\n",
      "   1.41356006e+00  -1.39942092e+00  -9.41572246e-01  -1.95133217e+00\n",
      "   5.81492929e-01  -1.04094464e+00   6.84228468e-02  -9.13995323e-01\n",
      "   1.27109853e+00   4.38327007e-01  -1.32285865e+00   4.19381907e-01\n",
      "  -7.58841541e-01  -6.31574470e-01   6.11066011e-01  -1.31629659e+00\n",
      "  -1.12835248e+00   4.44155282e-01   2.03144065e-01  -7.41700262e-01\n",
      "  -1.69316743e+00  -5.31673350e-01   1.31910625e+00   2.39838001e-01\n",
      "  -1.92196504e+00  -2.35910409e+00  -3.14737549e-01   1.87122084e+00\n",
      "  -5.72948937e-02  -9.73029924e-01  -1.85086017e-01   1.10281882e+00\n",
      "  -6.35725636e-01   1.42455637e+00   1.34764904e+00  -1.07256518e+00\n",
      "  -1.27960447e-01  -3.85691781e-01   2.00689202e-01   5.30360204e-01\n",
      "  -5.84661295e-02   5.59501939e-01   1.71760346e-01   3.21997310e-01\n",
      "  -6.26850186e-01  -3.45337736e-01  -7.58126939e-01  -4.70202100e-02\n",
      "   7.53177730e-01  -8.95705512e-01  -3.60578077e-01  -3.22447867e-01\n",
      "   8.53417880e-02   5.78246985e-02   1.23998693e+00  -2.06135804e+00\n",
      "  -1.55010859e+00  -5.80190662e-01   6.14965392e-01  -1.35307374e-01\n",
      "   4.13915303e-01   2.13702341e+00  -1.59648172e+00  -5.82890700e-01\n",
      "  -2.24164635e+00   1.33868557e+00  -6.80063461e-01   6.06424504e-01\n",
      "  -3.45359685e-01   1.79120094e+00  -2.08000677e-01  -1.34963171e-01\n",
      "   1.22894951e-01  -3.12841995e-02   2.14765435e+00   1.08531374e+00\n",
      "   6.60823630e-01   1.13268657e+00  -5.77218119e-01  -6.23931014e-01\n",
      "  -1.45827522e-01  -4.25202420e-02  -1.11147074e-01  -2.31996228e+00\n",
      "   3.50586416e-01  -9.45301488e-01  -2.49751518e-01  -6.04875064e-01\n",
      "  -1.29692191e+00  -4.98995297e-01  -1.63612825e-01  -8.66242100e-01\n",
      "   1.66359117e+00   8.74237357e-01  -7.47449334e-01  -3.04265302e-01\n",
      "   7.32225773e-02   7.00115207e-01  -7.41867476e-01  -1.41263745e-01\n",
      "  -3.96428795e-01  -9.69013991e-01   3.29063868e-01  -1.27983409e-01\n",
      "  -5.83896926e-01  -1.67696037e+00  -7.63331188e-01   1.18874060e-01\n",
      "   8.48481636e-01  -1.63397512e+00  -8.19186762e-01  -3.32855184e-01\n",
      "   1.16852423e+00   1.39392843e+00  -5.38042416e-01  -1.07356083e+00\n",
      "  -1.14886365e+00   5.21086479e-01  -2.12885678e+00  -4.12849981e-01\n",
      "   7.91528403e-01  -8.23170497e-01   1.87441979e+00  -1.36993704e+00\n",
      "   4.76834305e-01  -3.26370969e-01  -3.67854749e-01  -7.26938399e-01\n",
      "   8.09801448e-01   2.51198920e+00   3.56915229e-01  -2.54983451e-01\n",
      "  -1.44171443e+00   4.60024234e-01   2.63685057e-01  -5.94825247e-01\n",
      "  -9.84242448e-01  -4.97994804e-02   2.35485879e+00  -1.93900450e-01\n",
      "  -6.53016302e-01   8.87233726e-01  -2.80150239e+00   9.05762006e-01\n",
      "   4.08678677e-01  -6.81497772e-01   1.17321980e+00   8.19168014e-01\n",
      "  -9.40753945e-01   1.60284566e+00  -1.52814257e+00  -1.27721158e+00\n",
      "   6.81123620e-01   1.71472764e-01   7.65446208e-02  -9.53235010e-01\n",
      "  -8.71715727e-01   3.15672308e-01   4.06340239e-01   9.83262660e-01\n",
      "  -5.88616524e-01   1.21725679e+00  -7.86854635e-01  -1.28339733e+00\n",
      "   8.22405802e-01  -5.28495086e-01  -8.00970266e-01  -1.75614387e+00\n",
      "  -2.05405368e+00  -1.27566391e-01   2.36984594e-01  -9.01924717e-01\n",
      "  -4.30518484e-01  -2.91784938e-01   6.54276508e-01  -9.51377711e-02\n",
      "  -3.98568543e-01   6.60975269e-01  -1.41035066e+00   1.04368355e+00\n",
      "  -4.11681786e-01  -1.43639928e+00   1.19240559e+00   4.95506687e-01\n",
      "   1.57903626e+00  -2.79574310e-01   1.01947458e+00   2.78850004e-01\n",
      "   5.75906939e-01  -3.66377257e-01   2.73652690e-01  -1.49404684e+00\n",
      "  -7.01688625e-01  -1.10984134e+00   1.39178673e+00   6.08530075e-02\n",
      "  -1.52852451e+00   7.87616683e-01  -6.44778055e-02  -3.45015409e-01\n",
      "  -1.35845365e+00   2.12514267e-01  -7.25537962e-01  -4.56041157e-01\n",
      "   1.89184553e-01  -1.51740959e+00   3.88779144e-01   1.41803863e+00\n",
      "  -5.28035622e-01  -1.59373290e+00   1.36580111e+00  -3.97282334e-01\n",
      "   5.31464020e-01   1.27122602e+00   1.96755527e-01   2.71952742e+00\n",
      "  -5.46571756e-01   9.19082325e-01   8.29534026e-01   5.74567062e-01\n",
      "  -1.66778996e+00   9.55768627e-01   9.18737099e-01   7.21911661e-01\n",
      "  -4.55460821e-01  -6.22525028e-01  -1.53614233e+00  -1.11358462e+00\n",
      "   3.67407611e-01   4.56837263e-01   5.05896647e-01  -3.82801562e-01\n",
      "   1.89874303e+00   1.03889449e+00   4.23131063e-01  -8.11990652e-01\n",
      "  -3.03945375e-02  -1.99952646e+00   4.46676030e-01   1.95721820e+00\n",
      "   1.08873300e+00  -8.37814242e-03  -2.07361839e-01   3.60056055e-01\n",
      "  -1.67468643e+00  -7.06049428e-01   9.65039385e-01   7.12357184e-01\n",
      "   2.42874285e-01  -3.36268160e-01   5.06770876e-01   7.23624267e-01\n",
      "   1.45186075e+00  -1.61955497e+00  -1.03411671e-01   5.59007686e-01\n",
      "   5.20425979e-02   1.12046422e+00  -5.01872995e-01   1.06420808e+00\n",
      "  -1.22003112e+00   7.89863655e-01  -5.85431950e-01  -2.24825569e+00\n",
      "   4.22184348e-01  -2.06462345e-01  -2.26357030e+00   6.99624901e-01\n",
      "   1.03726395e+00   4.53993244e-03   4.51026021e-01   1.29149321e-01\n",
      "   4.79950159e-01   9.42474221e-01  -7.17021320e-01   8.08699977e-01\n",
      "   1.29705448e+00  -7.29463525e-01   7.61622706e-01   1.33106913e+00\n",
      "   1.26861623e+00   7.29526959e-01  -5.95726986e-01   5.03512395e-01\n",
      "  -1.29418546e+00  -5.90249629e-01  -3.73911118e-01   1.89357574e+00\n",
      "  -1.28354545e-01  -1.16177445e+00  -2.30600786e+00  -2.04517667e-01\n",
      "  -3.76288692e-01   1.01317587e-01  -6.96236526e-01   1.90057656e-01\n",
      "  -1.21489214e-01  -5.57939235e-01   1.87873908e+00   5.07359236e-01\n",
      "   3.06841944e-01   6.65237276e-01   1.33444863e+00   1.44620678e+00\n",
      "  -1.28550235e+00   1.13688401e+00  -5.34448063e-01  -1.32370673e-01\n",
      "  -1.36045000e-01  -6.60853337e-01   2.81913662e-01  -1.03592075e+00\n",
      "  -1.41860719e+00   1.81524496e+00   1.41390111e+00   4.23515124e-01\n",
      "   1.02554970e+00   9.63881472e-01   7.12236894e-01  -3.71863624e-02\n",
      "   1.76545480e+00   3.26268427e-01  -1.29671739e+00  -7.86767462e-01\n",
      "  -1.23347607e+00   9.52597569e-01  -3.51206854e-01  -5.63237921e-01\n",
      "  -5.69407473e-02   1.52866118e+00  -1.00496869e+00   1.63372644e+00\n",
      "  -6.50946328e-01  -7.16273718e-01  -5.90126661e-01   1.30985556e+00\n",
      "  -3.79768720e-01  -9.99915425e-01  -1.71145067e+00  -1.57329194e+00\n",
      "  -7.30696372e-02   7.62151506e-01   1.48689646e+00   4.31745960e-01\n",
      "   2.63882808e-01   1.72206428e-01   2.00851731e-01  -1.18314347e+00\n",
      "  -1.50402279e+00   1.95153249e+00  -2.78003872e-01  -1.93854878e-03\n",
      "   1.16582803e+00  -3.20238544e-01   9.36585278e-01   1.48863154e+00\n",
      "  -1.39264019e+00   1.55666358e+00  -4.20662970e-01  -5.50893690e-02\n",
      "  -7.10504077e-01  -8.73934840e-01  -6.26132410e-01  -1.29781690e-01\n",
      "  -2.22777306e+00   3.73831654e-01  -3.82432449e-01   5.37121996e-02\n",
      "  -9.32183728e-01   3.53740442e+00  -1.05598008e+00  -7.47679114e-03\n",
      "  -1.06551955e+00  -3.46521140e-01   3.88344981e-01  -3.64222377e-01\n",
      "  -1.37048480e+00   1.01306470e-01   1.64514228e+00  -3.61445671e-01\n",
      "   2.31614366e-01  -1.25968487e+00  -6.62537224e-01  -5.61715767e-01\n",
      "  -1.13596993e+00  -1.36075508e+00   7.31594663e-01   2.67213081e-01\n",
      "   7.13141895e-02  -2.46130956e-01  -1.39377306e+00   1.29318009e-01\n",
      "  -1.92097772e-01  -1.15100304e+00   1.02016481e-01  -1.93068490e+00\n",
      "   9.69566668e-01   9.75694115e-01  -7.57001670e-01  -7.60531329e-01\n",
      "  -3.03552280e-01  -3.67388243e-01   7.60265551e-02   4.42746285e-01\n",
      "   1.92679575e-01   1.04068792e+00  -1.11139888e+00  -1.72269547e+00\n",
      "  -2.30986045e-01  -2.83927273e-01  -7.21803150e-01  -1.37631072e+00\n",
      "  -1.10935589e+00   8.09954622e-01   5.83783993e-01  -7.31810290e-01\n",
      "   3.06739636e-01   1.27915913e+00   2.73785857e-01   9.65830330e-01\n",
      "  -6.15660861e-01   1.64785898e-01  -4.61886474e-02   3.25744723e-01\n",
      "   3.67606054e-01  -6.68566804e-01  -3.20837511e-01  -2.09469223e-01\n",
      "  -6.60728681e-01  -3.49847761e-01   7.84861730e-01   1.26622383e+00\n",
      "  -1.80302074e+00   1.53355423e+00  -1.22745466e+00  -7.02346088e-01\n",
      "   3.17239216e-01  -1.25357347e+00   2.39430740e-01   7.85747146e-01\n",
      "   3.81228699e-01   5.72990733e-01  -4.98818013e-01   1.42759290e+00\n",
      "   1.69600421e-01  -3.16755901e-01  -4.16914206e-01   1.22881192e+00\n",
      "  -5.58348844e-02  -6.26676967e-01   7.38764150e-02   3.32789760e-01\n",
      "   1.67321192e+00   1.74966096e-01   2.65341416e-01  -3.29541011e-01\n",
      "  -1.86929223e+00  -1.14107067e+00  -7.53407493e-01   6.99519962e-01\n",
      "   4.29125580e-01   2.19232831e-01   7.42525121e-01  -5.42444700e-01]\n",
      "0.0\n",
      "Final model:\n",
      "[  3.77556006e+00   1.67658791e+00  -3.29136306e+00  -1.30945858e-01\n",
      "  -1.18248243e+00   1.78664688e+00  -1.25736948e+00  -2.02258094e-01\n",
      "  -9.98941721e-01  -7.63579832e-01   1.57014674e+00  -3.94171743e-01\n",
      "   1.15549836e+00   3.86136052e-01   1.49428543e-01  -3.36443795e-01\n",
      "  -1.06508201e+00   3.64432700e-01  -5.03306943e-01  -2.56198989e+00\n",
      "   5.18392678e-02   1.94736399e+00  -5.96506785e-01   5.43487120e-01\n",
      "  -4.42454966e+00   1.09235863e+00   1.58964361e+00  -6.50332550e-01\n",
      "   1.11307437e+00   4.90929707e-01  -1.11052327e+00   1.28429702e+00\n",
      "  -2.09541131e-01   3.77961492e+00   7.58902758e-01  -9.27180732e-01\n",
      "  -8.22309817e-01   3.13218677e+00   8.31525921e-01  -1.47034985e+00\n",
      "  -4.92172262e-01   1.01060797e+00  -4.05332960e-01  -1.41643633e+00\n",
      "   2.69651131e+00  -3.55972129e-01  -2.48351450e+00   2.49434037e-01\n",
      "  -2.67932735e-01   9.79001494e-01  -9.92249171e-01  -5.96254783e-01\n",
      "  -7.99429663e-01  -7.35963162e-02  -2.40140608e-01  -2.12372700e+00\n",
      "  -1.44504208e+00   3.75125978e+00  -1.26714397e+00  -3.18828201e-01\n",
      "  -4.49929404e+00  -1.28865508e+00  -1.28861373e+00  -1.32248557e+00\n",
      "  -1.57317700e+00  -2.12905251e+00  -2.64333717e-01  -2.01285336e+00\n",
      "  -1.61006020e-01   2.27637572e+00   1.27586244e+00  -3.91120851e-01\n",
      "  -1.36317244e+00  -3.82788078e-01  -1.92953169e-01  -2.88078903e-01\n",
      "  -3.88464164e-01  -1.81768162e+00   1.69723438e+00   4.78324656e-01\n",
      "  -1.57736636e-01  -2.51055129e+00  -7.41662774e-01  -8.76968592e-01\n",
      "   4.73273895e-02  -3.97794058e+00   3.18338634e-01   7.68762163e-01\n",
      "  -1.67187179e+00   6.14911653e-01   1.10559059e+00   2.47633722e+00\n",
      "  -4.73221220e-01   1.35373891e+00  -6.50581076e-02   9.55459296e-02\n",
      "   2.03508078e-01  -2.53910629e+00   6.10795696e-01   1.38991127e+00\n",
      "   9.15067374e-01   3.63101705e+00   8.26695293e-01  -6.68788818e-01\n",
      "  -1.74436254e+00  -3.33700192e+00  -1.53928722e+00  -2.96420698e-01\n",
      "   1.57903269e+00   1.79884911e+00  -2.50262001e-01  -1.08973660e+00\n",
      "  -1.85498194e+00  -1.19668614e+00  -4.26989972e-01  -7.91529732e-01\n",
      "   1.31224993e+00   3.63791777e+00  -2.94546634e-01  -2.45556566e+00\n",
      "  -1.04590869e+00   6.08167811e-01   2.77936798e+00  -9.12923966e-01\n",
      "  -7.83906049e-01   3.56631289e-01  -3.70281016e-01   4.54090725e-01\n",
      "   1.60936498e+00   2.15636982e+00  -1.89672027e+00   6.21229996e-02\n",
      "  -1.50861299e+00   1.02692098e+00   1.04198787e+00  -7.97214484e-01\n",
      "   1.14241240e+00   4.56888918e-01   7.37187678e-01   2.60242725e+00\n",
      "   3.95684108e+00  -2.15633608e+00   4.70875935e-02   1.83190139e+00\n",
      "   1.36581873e+00  -3.86096041e-01   3.01203822e+00   2.76356831e+00\n",
      "  -1.98179848e+00   6.40089101e-01   2.20144846e+00  -1.06899827e+00\n",
      "   3.09186005e+00  -7.11234569e-01  -3.78276117e+00   1.83545092e-01\n",
      "  -1.21826498e+00  -5.10159929e-01   3.25947346e+00  -1.58883034e+00\n",
      "  -2.49492079e+00   1.15062631e+00   2.46314738e+00   1.83675178e+00\n",
      "   1.90239257e+00  -2.91436561e+00  -3.27309202e+00  -1.15415531e+00\n",
      "   2.15120857e+00   2.61265590e+00   1.04777203e+00  -6.99138307e-01\n",
      "   1.87069022e+00   4.36184386e-01   3.33629754e-01  -1.50581420e+00\n",
      "   2.94741903e+00  -2.34902225e+00   8.38337601e-01   5.00249453e+00\n",
      "  -2.38272140e-01  -3.01384569e-01   1.89878373e-01  -2.19144302e+00\n",
      "   3.58792779e+00  -3.52910136e+00   1.26603845e+00   7.75531918e-01\n",
      "   2.00485484e+00  -3.53271420e+00   8.10974186e-01   1.84989351e+00\n",
      "   2.51069243e+00  -4.26123595e-01  -8.50810390e-01  -4.10358099e-01\n",
      "  -9.42958105e-01  -4.61438083e-01  -4.31821036e+00  -6.02840390e-01\n",
      "  -2.51884238e+00  -7.50987410e-01  -1.77051049e-01  -6.47304330e-02\n",
      "  -1.97060390e+00   6.03047738e-01   1.55041662e+00  -2.68797620e+00\n",
      "  -5.15198874e-01   3.97884570e-01   2.98066051e+00   4.96007616e+00\n",
      "   1.80033955e+00  -1.29148046e-01  -1.65518882e+00  -3.11845247e+00\n",
      "  -1.11648300e+00   1.73962809e+00  -1.99331693e+00  -4.71585789e-01\n",
      "  -1.02846099e+00  -1.25604064e+00  -2.03443821e+00  -1.34359639e+00\n",
      "  -1.47179647e+00   2.02529621e-01   3.97979332e-03   9.49734864e-01\n",
      "  -9.27013373e-01  -2.79633499e+00   1.74473437e+00  -1.71349731e+00\n",
      "   2.74689851e-01   2.39719164e+00   8.98615247e-01   9.54759734e-01\n",
      "  -7.86490056e-01   2.61971730e+00  -5.77213868e-01   1.10154531e+00\n",
      "  -2.31061307e+00   2.45251463e+00  -2.58008735e+00  -6.03860022e-01\n",
      "  -3.52720049e-01   2.74259886e+00  -6.69666767e-01   5.29239930e-01\n",
      "  -6.22485624e-02   2.60974732e-01  -8.06554943e-01  -4.04441241e-02\n",
      "   3.12796271e-01   3.59310410e-01   2.50710253e+00  -1.13593713e+00\n",
      "   2.29305634e+00  -6.16724464e-01  -1.81585729e+00  -2.30747339e-01\n",
      "  -8.54934300e-01  -2.53499110e-01   2.49450311e+00   1.20811077e+00\n",
      "  -2.54033571e+00  -1.36962728e+00  -3.09588677e+00   2.45733519e+00\n",
      "   1.10845535e+00   1.30030015e+00   6.36532470e-01   1.14534142e+00\n",
      "  -1.35369898e+00  -8.31991520e-01  -2.85235698e+00  -3.19790257e+00\n",
      "  -1.08782735e+00  -5.41336738e-01  -2.87775857e+00  -1.04789255e+00\n",
      "   1.62996278e+00   5.17471118e-01  -4.63886043e-01  -1.50424824e+00\n",
      "  -4.18059294e-01   1.64772733e+00  -2.47286106e+00   3.92516794e+00\n",
      "   3.70956959e+00   3.31061339e-01   3.21938139e-01  -1.98907732e+00\n",
      "  -1.62564497e-01   9.25237287e-01  -2.39858458e+00  -1.47865761e+00\n",
      "  -1.07760350e+00  -2.12954216e-01   3.56462897e+00  -1.15009932e+00\n",
      "  -9.37380338e-01   3.83415308e+00  -9.34323105e-02   7.63654725e-02\n",
      "   1.11119989e+00   1.07718664e+00  -1.03859306e+00  -1.57055699e+00\n",
      "  -4.46823604e-01  -1.06687172e+00   8.21890243e-01  -4.42575478e-03\n",
      "  -4.48360060e+00   7.43566499e-01  -6.17821929e-01   6.03409669e-01\n",
      "  -3.66864713e-01   4.48455869e-03   2.39363432e+00   2.33992814e-01\n",
      "   4.21215749e+00   4.55885777e+00   3.92714524e-01  -8.59827680e-01\n",
      "   6.31566745e-01  -3.34226322e+00  -1.03161005e-01  -2.74638014e+00\n",
      "   1.23743057e+00  -7.47138590e-01   1.12158829e+00   2.10546219e+00\n",
      "   4.10013374e+00  -9.54526634e-01   8.29485521e-01  -3.39853916e+00\n",
      "  -1.70827359e+00  -4.33272812e-01  -8.00704300e-01   3.32479096e+00\n",
      "  -2.64906932e+00   5.94967233e-01   1.81417239e+00  -2.83409352e+00\n",
      "  -2.76620738e-01   1.19838737e+00  -7.31473471e-01  -2.80155572e-01\n",
      "   2.15023089e+00  -1.17006423e+00   1.14970105e+00   2.51563880e-01\n",
      "  -4.38913007e-01   2.04797482e+00  -7.94636949e-02   3.43728270e-01\n",
      "  -6.02989618e-02   1.22478848e+00  -1.16759381e+00   3.23341798e-01\n",
      "   1.53320439e+00  -4.26366857e-01   1.04518067e+00  -6.36737194e-01\n",
      "   3.25811916e-01  -3.30528851e+00   4.11734855e-01   2.50890638e+00\n",
      "  -2.21787212e+00  -7.17371728e-01   3.42200962e-01  -1.17867176e+00\n",
      "   1.20111575e+00  -1.01109980e+00   1.20831464e+00   1.24711079e-03\n",
      "  -1.71053384e+00   1.73891705e+00   4.44005955e-01  -1.77678764e+00\n",
      "   3.66508508e+00  -7.04048127e-01  -2.68029967e+00   1.75221936e-01\n",
      "   6.00537286e-01  -2.73095435e+00   2.73826244e+00  -9.13690757e-01\n",
      "   1.26268560e+00  -1.97674163e-01   5.21461602e-02   7.08639718e-01\n",
      "   1.46285279e+00   3.32089390e+00  -1.41666032e+00   5.40736688e-01\n",
      "  -2.05106750e+00  -2.34978746e+00   1.55974139e+00  -1.91425957e+00\n",
      "  -2.10754689e+00   7.22699816e-01   1.29999777e+00  -1.65573513e-01\n",
      "   3.70725978e+00   3.55281708e+00  -2.01923747e+00  -2.89179581e+00\n",
      "   2.59579559e+00  -1.75259386e+00  -1.08206430e-01   7.45312239e-03\n",
      "   5.85764039e-02   6.14869059e-01  -1.29978952e-02  -2.92607897e+00\n",
      "   8.14497304e-01   1.32776160e+00  -2.09535483e+00  -6.23154792e-01\n",
      "  -1.02933599e+00  -6.79472063e-01   1.36643972e-01   1.30739153e+00\n",
      "  -7.70938238e-02   1.00573421e+00   9.51384392e-01  -1.53817711e+00\n",
      "  -2.35552187e+00  -7.56852770e-01  -1.26638116e+00  -2.36581588e+00\n",
      "   1.87100888e-01  -1.80800625e+00   2.28044384e+00   1.43620211e-01\n",
      "   1.41963125e+00   8.60386903e-01   2.23154240e+00   2.68496183e+00\n",
      "  -1.64176977e+00   1.45565317e+00   3.93317919e-01   4.63312083e+00\n",
      "  -2.22928479e-01   1.43214324e+00  -6.36949102e-01  -7.63117543e-01\n",
      "   5.71798558e-01  -9.99673642e-01  -1.85985574e+00  -3.71322109e+00\n",
      "  -6.49851612e-01  -1.56570988e+00   2.12323186e+00  -1.20302700e-02\n",
      "  -1.78012832e+00   7.68680703e-01  -1.32861308e+00   2.48974714e+00\n",
      "  -3.93162518e-01   1.43291241e+00  -1.89201627e-01  -1.03040512e+00\n",
      "   2.59071790e+00  -2.12592921e-01   1.61041461e+00   1.17219257e+00\n",
      "  -1.46006051e+00  -6.91233414e-01  -6.22940430e-01  -8.66083482e-01\n",
      "   7.55935471e-01   1.37146465e+00  -2.16174006e+00  -2.81248199e+00\n",
      "   6.54337758e-02   9.78157136e-01  -3.96411245e-01   1.96117462e-01\n",
      "   3.04485846e+00   1.73779365e+00   6.50505894e-01  -2.92031943e+00\n",
      "  -1.02245870e+00   2.53395754e+00  -1.21661383e+00  -1.81445843e+00\n",
      "  -2.41390310e-01   2.29891887e+00   7.72474664e-02   1.66204376e-01\n",
      "  -1.32964716e+00   1.09600867e+00   1.63308666e+00   9.43247657e-01\n",
      "   1.28885703e+00   2.82512813e+00  -5.84870327e-01  -1.91773348e+00\n",
      "  -1.49308557e+00  -8.16129941e-01  -7.46493838e-01  -1.53153033e+00\n",
      "   1.81696140e-01  -5.07009044e-02   1.99327335e+00   2.58423667e+00\n",
      "  -5.77897925e-01   3.56759945e+00   3.98155760e-01  -5.07832445e-01\n",
      "   1.81953549e-01   1.85387295e+00   1.38552765e+00   2.46977981e-01\n",
      "   2.36358716e-01  -7.73858776e-01   1.07066315e+00   2.01714544e+00\n",
      "  -6.71629691e-01  -3.88064770e+00  -1.44425362e-01  -1.81274366e+00\n",
      "  -1.46691251e+00  -3.43959920e+00   2.80986444e+00  -1.17730142e+00\n",
      "  -2.15336320e+00   1.55093198e+00   1.15522980e+00   1.31141415e+00\n",
      "  -1.48348157e+00  -1.44346424e+00  -2.68688220e+00   4.84821223e-01\n",
      "   1.53581802e+00   2.26427221e+00   9.72914780e-02  -1.42469335e+00\n",
      "  -1.82068986e+00  -1.86450827e+00   3.02468900e-01  -4.79596616e-01\n",
      "   9.47111398e-01   1.14024438e+00  -8.47782688e-01  -1.14826786e+00\n",
      "  -2.70538807e-01   2.64888030e-01   9.43489510e-01   4.65450048e-01\n",
      "  -1.77615395e+00   1.50161604e-01   1.03315021e+00  -2.39435007e+00\n",
      "   1.40142814e+00   8.15688739e-01  -1.08414515e+00   7.60111618e-01\n",
      "   1.41953427e+00  -1.25001136e+00   1.30342412e-02  -1.60291024e+00\n",
      "   2.15567458e+00  -1.58323187e+00   3.25596645e-01   7.01505666e-01\n",
      "   8.59101035e-01   1.80383869e+00   2.92749652e+00   6.09916419e-01\n",
      "  -2.71513471e+00   5.60586660e-01   2.25575384e-01   6.28246042e-01\n",
      "   9.32571286e-01   2.93902667e+00   1.72953108e+00  -2.95012867e-01\n",
      "   2.24469224e+00  -2.71902436e-01  -1.10800541e+00   7.32789542e-01\n",
      "   7.02507751e-01   7.39097377e-01   4.14989958e+00   2.67674147e+00\n",
      "   4.14115952e-01  -3.84743988e-01  -1.27175024e+00  -2.19024992e+00\n",
      "  -2.18140078e+00  -1.05260452e+00  -3.49783833e+00   5.57055340e-01\n",
      "  -1.67155251e+00  -3.34448800e-01   6.28179616e-01  -2.74330916e-02\n",
      "  -2.06374038e+00   6.35278593e-01   1.18046664e+00   5.60642386e-01\n",
      "   1.35393263e+00  -2.61514826e+00   1.77800056e+00   1.09163009e+00\n",
      "   2.05349909e+00   1.89596602e+00  -9.02341407e-01  -5.93588299e-01\n",
      "   3.01763579e+00  -4.37601720e+00  -2.27288981e+00  -5.79656815e+00\n",
      "   7.64501306e-02   6.17753732e-01  -4.78503966e-01   2.11041028e+00\n",
      "   9.12261551e-01  -6.46346074e-01   1.28761655e+00  -1.81290786e+00\n",
      "  -3.46692744e-01  -1.12915892e+00   1.14566399e+00  -8.74047326e-02\n",
      "   4.75776147e-01   2.89152270e+00  -1.12603767e+00   1.81324941e+00\n",
      "  -2.37493794e-01   1.22815705e+00   5.48781676e-01  -8.47839017e-01\n",
      "  -6.79308765e-01   1.84570285e+00  -4.84912772e-01   1.49939217e+00\n",
      "  -1.42955765e+00   8.99106720e-01   2.09687546e+00   2.32900062e-01\n",
      "  -2.16848707e-01  -4.04704275e+00   2.35142329e+00  -1.18962640e+00\n",
      "   8.94147748e-01   2.93820180e+00   2.07633335e+00   8.07215486e-01\n",
      "  -4.65727597e-01  -1.03032045e+00   2.74614894e+00  -8.16323188e-01\n",
      "   3.51113518e+00   2.05167186e+00  -1.55314194e+00  -9.40403259e-01\n",
      "  -4.09650743e-02  -2.36659383e+00   5.53580697e-01   1.09338078e+00\n",
      "  -3.87102251e-01  -1.39174144e+00  -1.80277537e+00  -2.10924254e+00\n",
      "   1.54615036e+00   8.56128405e-01  -1.33996909e+00  -1.71725473e+00\n",
      "  -1.57777016e+00   2.65809549e+00   8.54861156e-01   2.19105117e+00\n",
      "  -1.94545749e+00  -1.31990906e+00  -2.48547338e+00  -1.21667731e+00\n",
      "   1.12321564e-01   7.03858613e-01  -1.31534567e+00  -3.01909282e+00\n",
      "   1.76111359e+00   1.03464584e+00   1.64381967e+00   2.16596567e+00\n",
      "  -1.93396820e+00   3.86992118e+00   2.65106268e-01  -1.41634383e+00\n",
      "  -1.71242017e+00   6.57565704e-01  -2.79514824e+00   1.10829177e-01\n",
      "   2.06668705e+00   4.07656873e-01   1.97741136e+00  -9.54814686e-01\n",
      "   1.37971688e+00   1.06623143e+00  -2.89450811e+00  -2.35645806e+00\n",
      "   3.92589659e+00   2.83499175e+00   9.80082282e-01   1.68067343e+00\n",
      "  -1.06050525e-01  -1.74825733e+00  -1.51233969e+00   2.79399091e-01\n",
      "   1.61218267e+00   6.79050628e-01  -7.60576055e-01   1.07710598e+00\n",
      "   8.68093576e-01   7.96236864e-01  -3.37133751e+00   1.90457592e+00\n",
      "  -3.59889053e-01  -1.55153960e+00   1.28538465e+00   2.24184560e+00\n",
      "   1.50305971e+00  -1.88109843e+00   6.17140621e-02  -9.47180228e-01\n",
      "  -2.18103376e+00  -1.24519494e+00   3.45694238e+00   2.55172108e+00\n",
      "   1.40859574e-02  -9.53010206e-01  -1.92951266e+00  -2.29692512e+00\n",
      "   3.45593292e+00   1.08317253e+00  -3.38025123e+00   1.59851381e+00\n",
      "   1.74317752e+00  -2.45672994e+00  -1.78299865e+00  -2.62810516e+00\n",
      "   1.46304208e+00  -8.25624629e-01  -3.11702318e+00   2.20752930e+00\n",
      "  -2.64307436e+00  -2.50232719e+00   1.34700372e+00  -3.25327855e+00\n",
      "  -1.38651861e+00   6.84753858e-01  -4.39893291e-01   2.41137859e+00\n",
      "   4.02819568e+00   2.59001772e+00  -4.89821103e-01   3.59276693e+00\n",
      "  -1.69033166e+00  -9.00221564e-01   7.14153357e-01   3.66780469e-01\n",
      "   3.59698167e+00  -1.12640871e+00   3.03631173e+00   1.48208320e+00\n",
      "   1.27545162e+00   3.33220799e+00   2.06530977e-01   3.00507382e+00\n",
      "   1.55880239e+00   1.20344288e+00   2.17279620e+00  -1.49944096e+00\n",
      "  -1.25077507e+00  -2.21842681e+00   1.11603549e+00   4.58609893e-01\n",
      "  -4.98923219e-01   1.70758638e-01   1.72125168e+00   5.63973756e-03]\n",
      "497.500000002\n",
      "target values for D:\n",
      "[0 1 1 1 1 1 1 0 1 0 1 0 0 1 0 1 0 1 0 1 1 0 1 1 0 1 1 1 0 0 1 1 1 0 1 1 0\n",
      " 1 0 1 1 0 0 0 1 0 1 1 1 0 1 1 0 1 0 0 1 1 1 1 1 1 0 0 0 1 0 0 1 1 1 1 0 0\n",
      " 1 0 0 0 0 0 0 0 0 0 0 0 1 1 0 1 1 1 0 1 0 1 0 0 1 1 0 1 1 1 0 1 1 1 1 0 1\n",
      " 0 1 1 1 0 0 1 0 1 1 0 0 1 0 1 1 1 1 0 1 0 1 1 1 0 0 0 1 1 0 0 0 0 0 1 0 0\n",
      " 1 1 1 1 0 1 0 1 0 0 1 1 0 0 0 0 1 0 1 0 1 0 0 0 0 1 0 0 1 1 1 0 1 0 0 1 1\n",
      " 0 1 0 1 0 1 1 1 0 1 1 0 0 1 0 0 0 0 0 1 0 1 1 0 0 0 0 1 1 0 1 1 1 1 0 0 0\n",
      " 0 0 1 1 0 1 0 0 1 0 1 1 0 0 0 0 1 1 0 1 0 0 0 0 1 0 1 0 1 0 1 1 0 0 0 0 0\n",
      " 1 0 0 0 0 0 1 0 0 0 0 0 0 0 0 1 0 0 1 0 0 1 1 0 0 0 1 0 1 0 1 0 0 0 1 1 1\n",
      " 0 0 1 0 1 0 0 1 0 1 1 1 1 1 1 1 1 0 0 0 1 1 0 0 1 0 1 1 0 0 1 1 1 1 1 0 1\n",
      " 0 0 0 1 1 1 1 0 1 0 0 1 0 1 0 0 1 0 1 0 1 1 1 0 1 1 1 0 1 0 0 1 0 0 0 1 0\n",
      " 1 0 1 1 0 1 1 1 1 1 1 0 0 1 1 1 1 0 1 0 1 0 1 0 0 1 0 0 1 0]\n",
      "prediction on D:\n",
      "[1 1 1 1 1 1 1 1 1 1 1 1 1 1 1 1 1 1 1 1 1 1 1 1 1 1 1 1 1 1 1 1 1 1 1 1 1\n",
      " 1 1 1 1 1 1 1 1 1 1 1 1 1 1 1 1 1 1 1 1 1 1 1 1 1 1 1 1 1 1 1 1 1 1 1 1 1\n",
      " 1 1 1 1 1 1 1 1 1 1 1 1 1 1 1 1 1 1 1 1 1 1 1 1 1 1 1 1 1 1 1 1 1 1 1 1 1\n",
      " 1 1 1 1 1 1 1 1 1 1 1 1 1 1 1 1 1 1 1 1 1 1 1 1 1 1 1 1 1 1 1 1 1 1 1 1 1\n",
      " 1 1 1 1 1 1 1 1 1 1 1 1 1 1 1 1 1 1 1 1 1 1 1 1 1 1 1 1 1 1 1 1 1 1 1 1 1\n",
      " 1 1 1 1 1 1 1 1 1 1 1 1 1 1 1 1 1 1 1 1 1 1 1 1 1 1 1 1 1 1 1 1 1 1 1 1 1\n",
      " 1 1 1 1 1 1 1 1 1 1 1 1 1 1 1 1 1 1 1 1 1 1 1 1 1 1 1 1 1 1 1 1 1 1 1 1 1\n",
      " 1 1 1 1 1 1 1 1 1 1 1 1 1 1 1 1 1 1 1 1 1 1 1 1 1 1 1 1 1 1 1 1 1 1 1 1 1\n",
      " 1 1 1 1 1 1 1 1 1 1 1 1 1 1 1 1 1 1 1 1 1 1 1 1 1 1 1 1 1 1 1 1 1 1 1 1 1\n",
      " 1 1 1 1 1 1 1 1 1 1 1 1 1 1 1 1 1 1 1 1 1 1 1 1 1 1 1 1 1 1 1 1 1 1 1 1 1\n",
      " 1 1 1 1 1 1 1 1 1 1 1 1 1 1 1 1 1 1 1 1 1 1 1 1 1 1 1 1 1 1]\n"
     ]
    }
   ],
   "source": [
    "import numpy\n",
    "import theano\n",
    "import theano.tensor as T\n",
    "rng = numpy.random\n",
    "\n",
    "N = 400      # training sample size\n",
    "feats = 784  # number of input variables\n",
    "\n",
    "# generate a dataset: D = (input_values, target_class)\n",
    "D = (rng.randn(N, feats), rng.randint(size=N, low=0, high=2))\n",
    "training_steps = 10000\n",
    "\n",
    "# Declare Theano symbolic variables\n",
    "x = T.dmatrix(\"x\")\n",
    "y = T.dvector(\"y\")\n",
    "\n",
    "# initialize the weight vector w randomly\n",
    "#\n",
    "# this and the following bias variable b\n",
    "# are shared so they keep their values\n",
    "# between training iterations (updates)\n",
    "w = theano.shared(rng.randn(feats), name=\"w\")\n",
    "\n",
    "# initialize the bias term\n",
    "b = theano.shared(0., name=\"b\")\n",
    "\n",
    "print(\"Initial model:\")\n",
    "print(w.get_value())\n",
    "print(b.get_value())\n",
    "\n",
    "# Construct Theano expression graph\n",
    "p_1 = 1 / (1 + T.exp(-T.dot(x, w) - b))  # Probability that target =  1\n",
    "prediction = p_1 > 0.5                   # The prediction thresholded\n",
    "xent = -y * T.log(p_1) - (1-y * T.log(1-p_1)) # Cross-entropy loss function\n",
    "cost = xent.mean() + 0.01 * ( w** 2).sum() # The cost to minimize\n",
    "gw, gb = T.grad(cost, [w,b])             # Compute the gradient of the cost\n",
    "                                    # w.r.t weight vector w and \n",
    "                                     # bias term b\n",
    "                                    # (we shall return to this in a \n",
    "                                    # following section of this tutorial)\n",
    "\n",
    "# Compile\n",
    "train = theano.function(\n",
    "            inputs=[x,y],\n",
    "            outputs=[prediction, xent],\n",
    "            updates=((w,w-0.1 *gw), (b,b-0.1 * gb)))\n",
    "predict = theano.function(inputs=[x], outputs=prediction)\n",
    "\n",
    "# Train\n",
    "for i in range(training_steps):\n",
    "    pred, err = train(D[0], D[1])\n",
    "    \n",
    "print(\"Final model:\")\n",
    "print(w.get_value())\n",
    "print(b.get_value())\n",
    "print(\"target values for D:\")\n",
    "print(D[1])\n",
    "print(\"prediction on D:\")\n",
    "print(predict(D[0]))\n",
    "\n",
    "                \n",
    "                \n"
   ]
  },
  {
   "cell_type": "markdown",
   "metadata": {
    "collapsed": true
   },
   "source": [
    "## [Derivatives in Theano](http://deeplearning.net/software/theano/tutorial/gradients.html)\n",
    "\n",
    "### Computing Gradients"
   ]
  },
  {
   "cell_type": "code",
   "execution_count": 1,
   "metadata": {
    "collapsed": true
   },
   "outputs": [],
   "source": [
    "import numpy\n",
    "import theano\n",
    "import theano.tensor as T\n",
    "from theano import pp"
   ]
  },
  {
   "cell_type": "markdown",
   "metadata": {},
   "source": [
    "For this \n",
    "\n",
    "$\n",
    "\\begin{gathered}\n",
    "\\frac{d (x^2) }{ dx} = 2 \\cdot x     \n",
    "\\end{gathered}\n",
    "$\n"
   ]
  },
  {
   "cell_type": "code",
   "execution_count": 2,
   "metadata": {
    "collapsed": false
   },
   "outputs": [
    {
     "data": {
      "text/plain": [
       "'((fill((x ** TensorConstant{2}), TensorConstant{1.0}) * TensorConstant{2}) * (x ** (TensorConstant{2} - TensorConstant{1})))'"
      ]
     },
     "execution_count": 2,
     "metadata": {},
     "output_type": "execute_result"
    }
   ],
   "source": [
    "x = T.dscalar('x')\n",
    "y = x ** 2\n",
    "gy = T.grad(y,x)\n",
    "pp(gy) # print out the gradient prior to optimization"
   ]
  },
  {
   "cell_type": "markdown",
   "metadata": {},
   "source": [
    "`fill((x ** 2), 1.0)` means to make a matrix of the same shape as `x ** 2 ` and fill it with `1.0`"
   ]
  },
  {
   "cell_type": "code",
   "execution_count": 3,
   "metadata": {
    "collapsed": false
   },
   "outputs": [
    {
     "data": {
      "text/plain": [
       "array(8.0)"
      ]
     },
     "execution_count": 3,
     "metadata": {},
     "output_type": "execute_result"
    }
   ],
   "source": [
    "f = theano.function([x],gy)\n",
    "f(4)"
   ]
  },
  {
   "cell_type": "code",
   "execution_count": 4,
   "metadata": {
    "collapsed": false
   },
   "outputs": [
    {
     "data": {
      "text/plain": [
       "True"
      ]
     },
     "execution_count": 4,
     "metadata": {},
     "output_type": "execute_result"
    }
   ],
   "source": [
    "numpy.allclose(f(94.2), 188.4)"
   ]
  },
  {
   "cell_type": "markdown",
   "metadata": {},
   "source": [
    "### A plot of the gradient of the logistic function, with x on the x-axis and $ds(x)/dx$ on the y-axis"
   ]
  },
  {
   "cell_type": "code",
   "execution_count": 6,
   "metadata": {
    "collapsed": false
   },
   "outputs": [
    {
     "data": {
      "text/plain": [
       "array([[ 0.25      ,  0.19661193],\n",
       "       [ 0.19661193,  0.10499359]])"
      ]
     },
     "execution_count": 6,
     "metadata": {},
     "output_type": "execute_result"
    }
   ],
   "source": [
    "x = T.dmatrix('x')\n",
    "s = T.sum(1 / (1 + T.exp(-x)))\n",
    "gs = T.grad(s, x)\n",
    "dlogistic = theano.function([x], gs)\n",
    "dlogistic([[0, 1], [-1, -2]])"
   ]
  },
  {
   "cell_type": "markdown",
   "metadata": {},
   "source": [
    "### Computing the Jacobian"
   ]
  },
  {
   "cell_type": "code",
   "execution_count": 7,
   "metadata": {
    "collapsed": false
   },
   "outputs": [
    {
     "data": {
      "text/plain": [
       "array([[ 8.,  0.],\n",
       "       [ 0.,  8.]])"
      ]
     },
     "execution_count": 7,
     "metadata": {},
     "output_type": "execute_result"
    }
   ],
   "source": [
    "x = T.dvector('x')\n",
    "y = x ** 2\n",
    "J, updates = theano.scan(lambda i, y, x: T.grad(y[i], x), sequences=T.arange(y.shape[0]), non_sequences=[y,x] )\n",
    "f = theano.function([x], J, updates=updates)\n",
    "f([4, 4])"
   ]
  },
  {
   "cell_type": "markdown",
   "metadata": {},
   "source": [
    "### Computing the Hessian"
   ]
  },
  {
   "cell_type": "code",
   "execution_count": 8,
   "metadata": {
    "collapsed": false
   },
   "outputs": [
    {
     "data": {
      "text/plain": [
       "array([[ 2.,  0.],\n",
       "       [ 0.,  2.]])"
      ]
     },
     "execution_count": 8,
     "metadata": {},
     "output_type": "execute_result"
    }
   ],
   "source": [
    "x = T.dvector('x')\n",
    "y = x ** 2\n",
    "cost = y.sum()\n",
    "gy = T.grad(cost, x)\n",
    "H, updates = theano.scan(lambda i, gy, x : T.grad(gy[i], x), sequences=T.arange(gy.shape[0]), non_sequences=[gy, x] )\n",
    "f = theano.function([x], H, updates=updates)\n",
    "f([4,4])"
   ]
  },
  {
   "cell_type": "markdown",
   "metadata": {},
   "source": [
    "### R-operator"
   ]
  },
  {
   "cell_type": "code",
   "execution_count": 9,
   "metadata": {
    "collapsed": false
   },
   "outputs": [
    {
     "data": {
      "text/plain": [
       "array([ 2.,  2.])"
      ]
     },
     "execution_count": 9,
     "metadata": {},
     "output_type": "execute_result"
    }
   ],
   "source": [
    "W = T.dmatrix('W')\n",
    "V = T.dmatrix('V')\n",
    "x = T.dvector('x')\n",
    "y = T.dot(x,W)\n",
    "JV = T.Rop(y, W, V)\n",
    "f = theano.function([W,V,x],JV)\n",
    "f([[1,1], [1,1]],[[2,2],[2,2]],[0,1])"
   ]
  },
  {
   "cell_type": "markdown",
   "metadata": {},
   "source": [
    "### L-operator"
   ]
  },
  {
   "cell_type": "code",
   "execution_count": 10,
   "metadata": {
    "collapsed": false
   },
   "outputs": [
    {
     "data": {
      "text/plain": [
       "array([[ 0.,  0.],\n",
       "       [ 2.,  2.]])"
      ]
     },
     "execution_count": 10,
     "metadata": {},
     "output_type": "execute_result"
    }
   ],
   "source": [
    "W = T.dmatrix('W')\n",
    "v = T.dvector('v')\n",
    "x = T.dvector('x')\n",
    "y = T.dot(x,W)\n",
    "VJ = T.Lop(y,W,v)\n",
    "f = theano.function([v,x],VJ)\n",
    "f([2,2],[0,1])"
   ]
  },
  {
   "cell_type": "markdown",
   "metadata": {},
   "source": [
    "### Hessian times a Vector"
   ]
  },
  {
   "cell_type": "code",
   "execution_count": 11,
   "metadata": {
    "collapsed": false
   },
   "outputs": [
    {
     "data": {
      "text/plain": [
       "array([ 4.,  4.])"
      ]
     },
     "execution_count": 11,
     "metadata": {},
     "output_type": "execute_result"
    }
   ],
   "source": [
    "x = T.dvector('x')\n",
    "v = T.dvector('v')\n",
    "y = T.sum(x ** 2)\n",
    "gy = T.grad(y, x)\n",
    "vH = T.grad(T.sum( gy * v), x)\n",
    "f= theano.function([x,v], vH)\n",
    "f([4,4], [2,2])"
   ]
  },
  {
   "cell_type": "markdown",
   "metadata": {},
   "source": [
    "or, making use of the *R-operator*:"
   ]
  },
  {
   "cell_type": "code",
   "execution_count": 12,
   "metadata": {
    "collapsed": false
   },
   "outputs": [
    {
     "data": {
      "text/plain": [
       "array([ 4.,  4.])"
      ]
     },
     "execution_count": 12,
     "metadata": {},
     "output_type": "execute_result"
    }
   ],
   "source": [
    "x = T.dvector('x')\n",
    "v = T.dvector('v')\n",
    "y = T.sum( x ** 2)\n",
    "gy = T.grad(y,x)\n",
    "Hv = T.Rop(gy, x, v)\n",
    "f = theano.function([x,v], Hv)\n",
    "f([4,4],[2,2])"
   ]
  },
  {
   "cell_type": "markdown",
   "metadata": {},
   "source": [
    "## Conditions"
   ]
  },
  {
   "cell_type": "code",
   "execution_count": 13,
   "metadata": {
    "collapsed": true
   },
   "outputs": [],
   "source": [
    "from theano import tensor as T\n",
    "from theano.ifelse import ifelse\n",
    "import theano, time, numpy\n",
    "\n",
    "a,b = T.scalars('a','b')\n",
    "x,y = T.matrices('x','y')"
   ]
  },
  {
   "cell_type": "code",
   "execution_count": 14,
   "metadata": {
    "collapsed": true
   },
   "outputs": [],
   "source": [
    "z_switch = T.switch(T.lt(a,b), T.mean(x), T.mean(y))\n",
    "z_lazy   = ifelse(T.lt(a, b), T.mean(x), T.mean(y))"
   ]
  },
  {
   "cell_type": "code",
   "execution_count": null,
   "metadata": {
    "collapsed": true
   },
   "outputs": [],
   "source": []
  }
 ],
 "metadata": {
  "kernelspec": {
   "display_name": "Python 2",
   "language": "python",
   "name": "python2"
  },
  "language_info": {
   "codemirror_mode": {
    "name": "ipython",
    "version": 2
   },
   "file_extension": ".py",
   "mimetype": "text/x-python",
   "name": "python",
   "nbconvert_exporter": "python",
   "pygments_lexer": "ipython2",
   "version": "2.7.11"
  }
 },
 "nbformat": 4,
 "nbformat_minor": 0
}

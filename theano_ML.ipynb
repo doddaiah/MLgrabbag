{
 "cells": [
  {
   "cell_type": "code",
   "execution_count": 1,
   "metadata": {
    "collapsed": true
   },
   "outputs": [],
   "source": [
    "%matplotlib inline"
   ]
  },
  {
   "cell_type": "code",
   "execution_count": 2,
   "metadata": {
    "collapsed": true
   },
   "outputs": [],
   "source": [
    "import matplotlib.pyplot as plt\n",
    "import sklearn\n",
    "from sklearn import datasets"
   ]
  },
  {
   "cell_type": "code",
   "execution_count": 3,
   "metadata": {
    "collapsed": true
   },
   "outputs": [],
   "source": [
    "import pandas as pd"
   ]
  },
  {
   "cell_type": "code",
   "execution_count": 4,
   "metadata": {
    "collapsed": false
   },
   "outputs": [
    {
     "name": "stderr",
     "output_type": "stream",
     "text": [
      "Using gpu device 0: GeForce GTX 980 Ti (CNMeM is enabled with initial size: 70.0% of memory, cuDNN 5105)\n",
      "/home/topolo/Public/anaconda2/lib/python2.7/site-packages/theano/sandbox/cuda/__init__.py:600: UserWarning: Your cuDNN version is more recent than the one Theano officially supports. If you see any problems, try updating Theano or downgrading cuDNN to version 5.\n",
      "  warnings.warn(warn)\n"
     ]
    }
   ],
   "source": [
    "import theano"
   ]
  },
  {
   "cell_type": "markdown",
   "metadata": {},
   "source": [
    "I accomplished the above by running this command at the command prompt:   \n",
    "\n",
    "```    \n",
    "THEANO_FLAGS='mode=FAST_RUN,device=gpu,floatX=float32' jupyter notebook   \n",
    "```\n"
   ]
  },
  {
   "cell_type": "code",
   "execution_count": 5,
   "metadata": {
    "collapsed": false
   },
   "outputs": [],
   "source": [
    "#import theano\n",
    "from theano import function, config, sandbox, shared \n",
    "import theano.tensor as T\n",
    "import numpy as np\n",
    "import scipy\n",
    "import time"
   ]
  },
  {
   "cell_type": "markdown",
   "metadata": {},
   "source": [
    "## More `theano` setup in `jupyter` notebook boilerplate"
   ]
  },
  {
   "cell_type": "code",
   "execution_count": 6,
   "metadata": {
    "collapsed": false
   },
   "outputs": [
    {
     "name": "stdout",
     "output_type": "stream",
     "text": [
      "gpu0\n",
      "0.7\n",
      "True\n"
     ]
    }
   ],
   "source": [
    "print( theano.config.device )\n",
    "print( theano.config.lib.cnmem)  # cf. http://deeplearning.net/software/theano/library/config.html\n",
    "print( theano.config.print_active_device)# Print active device at when the GPU device is initialized."
   ]
  },
  {
   "cell_type": "code",
   "execution_count": 7,
   "metadata": {
    "collapsed": false
   },
   "outputs": [
    {
     "data": {
      "text/plain": [
       "['LogReg-sklearn.ipynb',\n",
       " 'Linear Algebra Shootout: NumPy vs. Theano vs. TensorFlow_files',\n",
       " 'LICENSE',\n",
       " 'theano.pdf',\n",
       " 'deeplearning.pdf',\n",
       " 'sklearn_ML.ipynb',\n",
       " 'LaTeXandpdfs',\n",
       " 'supervised-theano.ipynb',\n",
       " 'sanity_check_theano_uses_gpu.ipynb',\n",
       " '.git',\n",
       " 'README.md',\n",
       " 'Linear Algebra Shootout: NumPy vs. Theano vs. TensorFlow.html',\n",
       " '.ipynb_checkpoints',\n",
       " 'theano_ML.ipynb',\n",
       " 'deep-learning--ud730',\n",
       " 'tf_sanitycheck.ipynb',\n",
       " 'FedoraNVidiaInstallTips',\n",
       " 'tf',\n",
       " 'kaggle',\n",
       " 'ML',\n",
       " 'sampleinputdataX_sklearn.ipynb',\n",
       " 'Data',\n",
       " 'simple_logreg.py',\n",
       " 'Speeding up your Neural Network with Theano and the GPU \\xe2\\x80\\x93 WildML_files',\n",
       " 'coursera_Ng',\n",
       " 'MorseTheory.ipynb',\n",
       " 'tutorial_theano.ipynb',\n",
       " 'best_model.pkl',\n",
       " 'gpu_test.py',\n",
       " 'Speeding up your Neural Network with Theano and the GPU \\xe2\\x80\\x93 WildML.html']"
      ]
     },
     "execution_count": 7,
     "metadata": {},
     "output_type": "execute_result"
    }
   ],
   "source": [
    "import os, sys\n",
    "os.getcwd()\n",
    "os.listdir( os.getcwd() ) "
   ]
  },
  {
   "cell_type": "code",
   "execution_count": null,
   "metadata": {
    "collapsed": true
   },
   "outputs": [],
   "source": []
  },
  {
   "cell_type": "code",
   "execution_count": 8,
   "metadata": {
    "collapsed": false
   },
   "outputs": [
    {
     "name": "stdout",
     "output_type": "stream",
     "text": [
      "[GpuElemwise{exp,no_inplace}(<CudaNdarrayType(float32, vector)>), HostFromGpu(GpuElemwise{exp,no_inplace}.0)]\n",
      "Looping 1000 times took 0.197625 seconds\n",
      "Result is [ 1.23178029  1.61879349  1.52278066 ...,  2.20771813  2.29967761\n",
      "  1.62323296]\n",
      "Used the gpu\n"
     ]
    }
   ],
   "source": [
    "%run gpu_test.py THEANO_FLAGS='mode=FAST_RUN,device=gpu,floatX=float32,lib.cnmem=0.85' # note lib.cnmem option for CnMem"
   ]
  },
  {
   "cell_type": "code",
   "execution_count": null,
   "metadata": {
    "collapsed": true
   },
   "outputs": [],
   "source": []
  },
  {
   "cell_type": "markdown",
   "metadata": {},
   "source": [
    "# sample data boilerplate"
   ]
  },
  {
   "cell_type": "code",
   "execution_count": 9,
   "metadata": {
    "collapsed": false
   },
   "outputs": [],
   "source": [
    "# Load the diabetes dataset\n",
    "diabetes = sklearn.datasets.load_diabetes()"
   ]
  },
  {
   "cell_type": "code",
   "execution_count": 10,
   "metadata": {
    "collapsed": true
   },
   "outputs": [],
   "source": [
    "diabetes_X = diabetes.data\n",
    "diabetes_Y = diabetes.target"
   ]
  },
  {
   "cell_type": "code",
   "execution_count": 11,
   "metadata": {
    "collapsed": false
   },
   "outputs": [],
   "source": [
    "#diabetes_X1 = diabetes_X[:,np.newaxis,2]\n",
    "diabetes_X1 = diabetes_X[:,np.newaxis, 2].astype(theano.config.floatX)\n",
    "#diabetes_Y  = diabetes_Y.reshape( diabetes_Y.shape[0], 1)\n",
    "diabetes_Y = diabetes_Y.astype(theano.config.floatX)"
   ]
  },
  {
   "cell_type": "markdown",
   "metadata": {},
   "source": [
    "# Linear regression"
   ]
  },
  {
   "cell_type": "markdown",
   "metadata": {
    "collapsed": true
   },
   "source": [
    "cf. [Linear Regression In Theano](https://roshansanthosh.wordpress.com/2015/02/22/linear-regression-in-theano/)\n",
    "\n",
    "[`1_linear_regression.py` from `github` Newmu/Theano-Tutorials](https://github.com/Newmu/Theano-Tutorials/blob/master/1_linear_regression.py)"
   ]
  },
  {
   "cell_type": "markdown",
   "metadata": {},
   "source": [
    "Train on $m$ number of input data points"
   ]
  },
  {
   "cell_type": "code",
   "execution_count": 12,
   "metadata": {
    "collapsed": false
   },
   "outputs": [],
   "source": [
    "m_lin = diabetes_X1.shape[0]"
   ]
  },
  {
   "cell_type": "markdown",
   "metadata": {},
   "source": [
    "### input, output variables $x$, $y$ for Theano"
   ]
  },
  {
   "cell_type": "code",
   "execution_count": 28,
   "metadata": {
    "collapsed": false
   },
   "outputs": [],
   "source": [
    "#x1 = T.vector('x1')  # X1, input data, with only 1 feature, i.e. X \\in \\mathbb{R}^N, d=1 \n",
    "#ylin = T.vector('ylin') # target variable for linear regression, so that Y \\in \\mathbb{R}\n",
    "\n",
    "x1 = T.scalar('x1')  # X1, input data, with only 1 feature, i.e. X \\in \\mathbb{R}^N, d=1 \n",
    "ylin = T.scalar('ylin') # target variable for linear regression, so that Y \\in \\mathbb{R}"
   ]
  },
  {
   "cell_type": "markdown",
   "metadata": {},
   "source": [
    "### Parameters (for a linear slope)  \n",
    "\n",
    "$$    \n",
    "(\\theta^0, \\theta^1) \\in \\mathbb{R}^2   \n",
    "$$"
   ]
  },
  {
   "cell_type": "code",
   "execution_count": 29,
   "metadata": {
    "collapsed": false
   },
   "outputs": [],
   "source": [
    "thet0_init_val = np.random.randn()\n",
    "thet1_init_val = np.random.randn()"
   ]
  },
  {
   "cell_type": "code",
   "execution_count": 30,
   "metadata": {
    "collapsed": false
   },
   "outputs": [],
   "source": [
    "thet0 = theano.shared( value=thet0_init_val, name='thet0', borrow=True)  # \\theta^0\n",
    "thet1 = theano.shared( thet1_init_val, name='thet1', borrow=True)   # \\theta^1\n"
   ]
  },
  {
   "cell_type": "markdown",
   "metadata": {},
   "source": [
    "### hypothesis function $h_{\\theta}$\n",
    "\n",
    "$$   \n",
    "h_{\\theta}(x) = \\theta_1 x + \\theta_0\n",
    "$$"
   ]
  },
  {
   "cell_type": "code",
   "execution_count": 31,
   "metadata": {
    "collapsed": false
   },
   "outputs": [],
   "source": [
    "#h_thet = T.dot( thet1, x1) + thet0\n",
    "# whereas, Newmu uses\n",
    "h_thet = thet1 * x1 + thet0"
   ]
  },
  {
   "cell_type": "markdown",
   "metadata": {},
   "source": [
    "### Cost function $J(\\theta)$"
   ]
  },
  {
   "cell_type": "code",
   "execution_count": 32,
   "metadata": {
    "collapsed": false
   },
   "outputs": [],
   "source": [
    "# roshansanthosh uses \n",
    "#Jthet = T.sum( T.pow(h_thet-ylin,2))/(2*m_lin)\n",
    "\n",
    "# whereas, Newmu uses\n",
    "# Jthet = T.mean( T.sqr( thet_1*x1 + thet_0 - ylin ))\n",
    "\n",
    "Jthet = T.mean( T.pow( h_thet-ylin,2))/2\n",
    "#Jthet = sandbox.cuda.basic_ops.gpu_from_host( T.mean( \n",
    "#        sandbox.cuda.basic_ops.gpu_from_host( T.pow( h_thet-ylin,2))))/2"
   ]
  },
  {
   "cell_type": "markdown",
   "metadata": {},
   "source": [
    "$$\n",
    "\\text{grad}_{\\theta}J(\\theta) = ( \\text{grad}_{\\theta^0} J , \\text{grad}_{\\theta^1} J )   \n",
    "$$"
   ]
  },
  {
   "cell_type": "code",
   "execution_count": 33,
   "metadata": {
    "collapsed": false
   },
   "outputs": [],
   "source": [
    "grad_thet0 = T.grad(Jthet, thet0)\n",
    "grad_thet1 = T.grad(Jthet, thet1)\n"
   ]
  },
  {
   "cell_type": "code",
   "execution_count": 19,
   "metadata": {
    "collapsed": true
   },
   "outputs": [],
   "source": [
    "# so-called \"learning rate\"\n",
    "gamma = 0.01"
   ]
  },
  {
   "cell_type": "markdown",
   "metadata": {},
   "source": [
    "Note that \"**updates** (iterable over pairs (shared_variable, new_expression) List, tuple or dict.) – expressions for new SharedVariable values\" cf. [Theano doc](http://deeplearning.net/software/theano/library/compile/function.html)"
   ]
  },
  {
   "cell_type": "code",
   "execution_count": 34,
   "metadata": {
    "collapsed": false
   },
   "outputs": [],
   "source": [
    "train_lin = theano.function(inputs = [x1,ylin], outputs=Jthet, \n",
    "                        updates=[[thet1,thet1-gamma*grad_thet1],[thet0,thet0-gamma*grad_thet0]])\n",
    "\n"
   ]
  },
  {
   "cell_type": "code",
   "execution_count": 35,
   "metadata": {
    "collapsed": true
   },
   "outputs": [],
   "source": [
    "test_lin = theano.function([x1],h_thet)"
   ]
  },
  {
   "cell_type": "code",
   "execution_count": 100,
   "metadata": {
    "collapsed": true
   },
   "outputs": [],
   "source": [
    "#X1_lin_in = shared( diabetes_X1 ,'float32')\n",
    "#Y_lin_out = shared( diabetes_Y, 'float32')"
   ]
  },
  {
   "cell_type": "code",
   "execution_count": 23,
   "metadata": {
    "collapsed": true
   },
   "outputs": [],
   "source": [
    "training_steps = 1000 # 10000"
   ]
  },
  {
   "cell_type": "code",
   "execution_count": 36,
   "metadata": {
    "collapsed": false
   },
   "outputs": [],
   "source": [
    "sh_diabetes_X1 = shared( diabetes_X1 , borrow=True)\n",
    "sh_diabetes_Y  = shared( diabetes_Y, borrow=True)"
   ]
  },
  {
   "cell_type": "code",
   "execution_count": 37,
   "metadata": {
    "collapsed": false
   },
   "outputs": [
    {
     "ename": "TypeError",
     "evalue": "('Bad input argument to theano function with name \"<ipython-input-34-92f3da11396a>:2\"  at index 0(0-based)', 'Expected an array-like object, but found a Variable: maybe you are trying to call a function on a (possibly shared) variable instead of a numeric array?')",
     "output_type": "error",
     "traceback": [
      "\u001b[1;31m---------------------------------------------------------------------------\u001b[0m",
      "\u001b[1;31mTypeError\u001b[0m                                 Traceback (most recent call last)",
      "\u001b[1;32m<ipython-input-37-b6192b29b89d>\u001b[0m in \u001b[0;36m<module>\u001b[1;34m()\u001b[0m\n\u001b[0;32m      8\u001b[0m \u001b[1;31m#    for x,y in zip( sh_diabetes_X1, sh_diabetes_Y) :\u001b[0m\u001b[1;33m\u001b[0m\u001b[1;33m\u001b[0m\u001b[0m\n\u001b[0;32m      9\u001b[0m \u001b[1;31m#        Jthet_val = train_lin( x,y)\u001b[0m\u001b[1;33m\u001b[0m\u001b[1;33m\u001b[0m\u001b[0m\n\u001b[1;32m---> 10\u001b[1;33m     \u001b[0mJthet_val\u001b[0m \u001b[1;33m=\u001b[0m \u001b[0mtrain_lin\u001b[0m\u001b[1;33m(\u001b[0m \u001b[0msh_diabetes_X1\u001b[0m\u001b[1;33m,\u001b[0m \u001b[0msh_diabetes_Y\u001b[0m\u001b[1;33m)\u001b[0m\u001b[1;33m\u001b[0m\u001b[0m\n\u001b[0m",
      "\u001b[1;32m/home/topolo/Public/anaconda2/lib/python2.7/site-packages/theano/compile/function_module.pyc\u001b[0m in \u001b[0;36m__call__\u001b[1;34m(self, *args, **kwargs)\u001b[0m\n\u001b[0;32m    784\u001b[0m                         s.storage[0] = s.type.filter(\n\u001b[0;32m    785\u001b[0m                             \u001b[0marg\u001b[0m\u001b[1;33m,\u001b[0m \u001b[0mstrict\u001b[0m\u001b[1;33m=\u001b[0m\u001b[0ms\u001b[0m\u001b[1;33m.\u001b[0m\u001b[0mstrict\u001b[0m\u001b[1;33m,\u001b[0m\u001b[1;33m\u001b[0m\u001b[0m\n\u001b[1;32m--> 786\u001b[1;33m                             allow_downcast=s.allow_downcast)\n\u001b[0m\u001b[0;32m    787\u001b[0m \u001b[1;33m\u001b[0m\u001b[0m\n\u001b[0;32m    788\u001b[0m                     \u001b[1;32mexcept\u001b[0m \u001b[0mException\u001b[0m \u001b[1;32mas\u001b[0m \u001b[0me\u001b[0m\u001b[1;33m:\u001b[0m\u001b[1;33m\u001b[0m\u001b[0m\n",
      "\u001b[1;32m/home/topolo/Public/anaconda2/lib/python2.7/site-packages/theano/tensor/type.pyc\u001b[0m in \u001b[0;36mfilter\u001b[1;34m(self, data, strict, allow_downcast)\u001b[0m\n\u001b[0;32m     84\u001b[0m         \u001b[1;32mif\u001b[0m \u001b[0misinstance\u001b[0m\u001b[1;33m(\u001b[0m\u001b[0mdata\u001b[0m\u001b[1;33m,\u001b[0m \u001b[0mVariable\u001b[0m\u001b[1;33m)\u001b[0m\u001b[1;33m:\u001b[0m\u001b[1;33m\u001b[0m\u001b[0m\n\u001b[0;32m     85\u001b[0m             raise TypeError(\n\u001b[1;32m---> 86\u001b[1;33m                 \u001b[1;34m'Expected an array-like object, but found a Variable: '\u001b[0m\u001b[1;33m\u001b[0m\u001b[0m\n\u001b[0m\u001b[0;32m     87\u001b[0m                 \u001b[1;34m'maybe you are trying to call a function on a (possibly '\u001b[0m\u001b[1;33m\u001b[0m\u001b[0m\n\u001b[0;32m     88\u001b[0m                 'shared) variable instead of a numeric array?')\n",
      "\u001b[1;31mTypeError\u001b[0m: ('Bad input argument to theano function with name \"<ipython-input-34-92f3da11396a>:2\"  at index 0(0-based)', 'Expected an array-like object, but found a Variable: maybe you are trying to call a function on a (possibly shared) variable instead of a numeric array?')"
     ]
    }
   ],
   "source": [
    "\"\"\"\n",
    "for i in range(training_steps):\n",
    "    for x,y in zip( diabetes_X1, diabetes_Y):\n",
    "        Jthet_val = train_lin( x, y )\n",
    "        \"\"\"\n",
    "\n",
    "for i in range(training_steps):\n",
    "#    for x,y in zip( sh_diabetes_X1, sh_diabetes_Y) :\n",
    "#        Jthet_val = train_lin( x,y)\n",
    "    Jthet_val = train_lin( sh_diabetes_X1, sh_diabetes_Y)"
   ]
  },
  {
   "cell_type": "code",
   "execution_count": 27,
   "metadata": {
    "collapsed": false
   },
   "outputs": [
    {
     "ename": "NameError",
     "evalue": "name 'Jthet_val' is not defined",
     "output_type": "error",
     "traceback": [
      "\u001b[1;31m---------------------------------------------------------------------------\u001b[0m",
      "\u001b[1;31mNameError\u001b[0m                                 Traceback (most recent call last)",
      "\u001b[1;32m<ipython-input-27-49f3322b82c4>\u001b[0m in \u001b[0;36m<module>\u001b[1;34m()\u001b[0m\n\u001b[1;32m----> 1\u001b[1;33m \u001b[1;32mprint\u001b[0m\u001b[1;33m(\u001b[0m\u001b[0mJthet_val\u001b[0m\u001b[1;33m)\u001b[0m\u001b[1;33m\u001b[0m\u001b[0m\n\u001b[0m",
      "\u001b[1;31mNameError\u001b[0m: name 'Jthet_val' is not defined"
     ]
    }
   ],
   "source": [
    "print(Jthet_val)"
   ]
  },
  {
   "cell_type": "code",
   "execution_count": 129,
   "metadata": {
    "collapsed": false
   },
   "outputs": [
    {
     "name": "stdout",
     "output_type": "stream",
     "text": [
      "151.746080721\n",
      "942.701275851\n"
     ]
    }
   ],
   "source": [
    "print( thet0.get_value() ); print( thet1.get_value() )\n",
    "\n"
   ]
  },
  {
   "cell_type": "code",
   "execution_count": 134,
   "metadata": {
    "collapsed": false
   },
   "outputs": [],
   "source": [
    "test_lin_out = np.array( [ test_lin( x ) for x in diabetes_X1 ] ) "
   ]
  },
  {
   "cell_type": "code",
   "execution_count": 137,
   "metadata": {
    "collapsed": false
   },
   "outputs": [
    {
     "data": {
      "text/plain": [
       "[<matplotlib.lines.Line2D at 0x7f4037fd3790>]"
      ]
     },
     "execution_count": 137,
     "metadata": {},
     "output_type": "execute_result"
    },
    {
     "data": {
      "image/png": "[encoded data removed]",
      "text/plain": [
       "<matplotlib.figure.Figure at 0x7f403e5b60d0>"
      ]
     },
     "metadata": {},
     "output_type": "display_data"
    }
   ],
   "source": [
    "plt.plot(diabetes_X1,diabetes_Y,'ro')\n",
    "plt.plot(diabetes_X1,test_lin_out)"
   ]
  },
  {
   "cell_type": "code",
   "execution_count": 38,
   "metadata": {
    "collapsed": false
   },
   "outputs": [
    {
     "name": "stdout",
     "output_type": "stream",
     "text": [
      "[Elemwise{Composite{(((i0 * i1) + i2) - i3)}}(thet1, x1, thet0, ylin), Elemwise{Composite{(i0 - (i1 * i2))}}[(0, 0)](thet0, TensorConstant{0.00999999977648}, Elemwise{Composite{(((i0 * i1) + i2) - i3)}}.0), Elemwise{Composite{(i0 - (i1 * i2 * i3))}}[(0, 0)](thet1, TensorConstant{0.00999999977648}, Elemwise{Composite{(((i0 * i1) + i2) - i3)}}.0, x1), Elemwise{Composite{(i0 * sqr(i1))}}[(0, 1)](TensorConstant{0.5}, Elemwise{Composite{(((i0 * i1) + i2) - i3)}}.0)]\n"
     ]
    }
   ],
   "source": [
    "if any([x.op.__class__.__name__ in ['GpuGemm','GpuGemv'] for x in train_lin.maker.fgraph.toposort()]):\n",
    "    print(\"Used the gpu\")\n",
    "else:\n",
    "    print(train_lin.maker.fgraph.toposort())"
   ]
  },
  {
   "cell_type": "code",
   "execution_count": 39,
   "metadata": {
    "collapsed": false
   },
   "outputs": [
    {
     "name": "stdout",
     "output_type": "stream",
     "text": [
      "Used the cpu\n"
     ]
    }
   ],
   "source": [
    "if np.any([isinstance(x.op,T.Elemwise) for x in train_lin.maker.fgraph.toposort()]):\n",
    "    print(\"Used the cpu\")"
   ]
  },
  {
   "cell_type": "code",
   "execution_count": null,
   "metadata": {
    "collapsed": true
   },
   "outputs": [],
   "source": []
  },
  {
   "cell_type": "markdown",
   "metadata": {},
   "source": [
    "## Linear Algebra and `theano`\n",
    "\n",
    "cf. [Week 1, Linear Algebra Review, Coursera, Machine Learning with Ng](https://www.coursera.org/learn/machine-learning/lecture/38jIT/matrices-and-vectors)\n",
    "\n",
    "I'll take this opportunity to provide a dictionary between the syntax of linear algebra math and `numpy`.   \n",
    "\n",
    "Essentially, what I did was take Coursera's [Week 1, Linear Algebra Review](https://www.coursera.org/learn/machine-learning/lecture/dpF1j/matrix-matrix-multiplication) and then translated the math into **`theano`**, and in particular, running theano on the **GPU**.\n",
    "\n",
    "Other reference that I used was \n",
    "\n",
    "https://simplyml.com/linear-algebra-shootout-numpy-vs-theano-vs-tensorflow-2/\n",
    "\n",
    "[Linear Algebra Shootout: NumPy vs. Theano vs. TensorFlow by Charanpal Dhanjal - 14/07/16 ](https://simplyml.com/linear-algebra-shootout-numpy-vs-theano-vs-tensorflow-2/)"
   ]
  },
  {
   "cell_type": "markdown",
   "metadata": {},
   "source": [
    "#### Matrix addition\n",
    "\n",
    "cf. [Coursera, Intro. to Machine Learning, Linear Algebra Review, Addition and Scalar Multiplication](https://www.coursera.org/learn/machine-learning/lecture/R4hiJ/addition-and-scalar-multiplication)"
   ]
  },
  {
   "cell_type": "code",
   "execution_count": 69,
   "metadata": {
    "collapsed": true
   },
   "outputs": [],
   "source": [
    "A = T.matrix('A')\n",
    "B = T.matrix('B')\n",
    "#matadd = function([A,B], A+B)\n",
    "#matadd = function([A,B],sandbox.cuda.basic_ops.gpu_from_host(A+B) )\n",
    "# Note: we are just defining the expressions, nothing is evaluated here!  \n",
    "C = sandbox.cuda.basic_ops.gpu_from_host(A+B)\n",
    "matadd = function([A,B], C)"
   ]
  },
  {
   "cell_type": "code",
   "execution_count": 121,
   "metadata": {
    "collapsed": true
   },
   "outputs": [],
   "source": [
    "#A = T.dmatrix('A')\n",
    "#B = T.dmatrix('B')\n",
    "\n",
    "A = T.matrix('A')\n",
    "B = T.matrix('B')\n",
    "\n",
    "C_out = A + B\n",
    "matadd_CPU = function([A,B], C_out)"
   ]
  },
  {
   "cell_type": "code",
   "execution_count": 73,
   "metadata": {
    "collapsed": true
   },
   "outputs": [],
   "source": [
    "A_eg = shared( np.array([[8,6,9],[10,1,10]]), 'float32')\n",
    "B_eg = shared( np.array([[3,10,2],[6,1,-1]]), 'float32')\n"
   ]
  },
  {
   "cell_type": "code",
   "execution_count": 85,
   "metadata": {
    "collapsed": false
   },
   "outputs": [],
   "source": [
    "A_eg_CPU = np.array([[8,6,9],[10,1,10]])\n",
    "B_eg_CPU = np.array([[3,10,2],[6,1,-1]])"
   ]
  },
  {
   "cell_type": "code",
   "execution_count": 96,
   "metadata": {
    "collapsed": false
   },
   "outputs": [
    {
     "name": "stdout",
     "output_type": "stream",
     "text": [
      "[[ 8  6  9]\n",
      " [10  1 10]]\n",
      "<type 'numpy.ndarray'>\n",
      "(2, 3)\n",
      "(2, 3)\n"
     ]
    }
   ],
   "source": [
    "print(A_eg_CPU)\n",
    "print( type( A_eg_CPU ))\n",
    "print( A_eg_CPU.shape)\n",
    "print( B_eg_CPU.shape)"
   ]
  },
  {
   "cell_type": "code",
   "execution_count": 70,
   "metadata": {
    "collapsed": false
   },
   "outputs": [
    {
     "name": "stdout",
     "output_type": "stream",
     "text": [
      "[GpuFromHost(B), GpuFromHost(A), GpuElemwise{Add}[(0, 0)](GpuFromHost.0, GpuFromHost.0)]\n"
     ]
    }
   ],
   "source": [
    "print( matadd.maker.fgraph.toposort() )"
   ]
  },
  {
   "cell_type": "code",
   "execution_count": 122,
   "metadata": {
    "collapsed": false
   },
   "outputs": [
    {
     "name": "stdout",
     "output_type": "stream",
     "text": [
      "[GpuFromHost(B), GpuFromHost(A), GpuElemwise{Add}[(0, 0)](GpuFromHost.0, GpuFromHost.0), HostFromGpu(GpuElemwise{Add}[(0, 0)].0)]\n"
     ]
    }
   ],
   "source": [
    "print( matadd_CPU.maker.fgraph.toposort() )"
   ]
  },
  {
   "cell_type": "code",
   "execution_count": 71,
   "metadata": {
    "collapsed": false
   },
   "outputs": [
    {
     "ename": "TypeError",
     "evalue": "('Bad input argument to theano function with name \"<ipython-input-69-40293d053d65>:7\"  at index 0(0-based)', 'Expected an array-like object, but found a Variable: maybe you are trying to call a function on a (possibly shared) variable instead of a numeric array?')",
     "output_type": "error",
     "traceback": [
      "\u001b[1;31m---------------------------------------------------------------------------\u001b[0m",
      "\u001b[1;31mTypeError\u001b[0m                                 Traceback (most recent call last)",
      "\u001b[1;32m<ipython-input-71-dd6866f5ad02>\u001b[0m in \u001b[0;36m<module>\u001b[1;34m()\u001b[0m\n\u001b[1;32m----> 1\u001b[1;33m \u001b[0mmatadd\u001b[0m\u001b[1;33m(\u001b[0m \u001b[0mA_eg\u001b[0m\u001b[1;33m,\u001b[0m \u001b[0mB_eg\u001b[0m\u001b[1;33m)\u001b[0m\u001b[1;33m\u001b[0m\u001b[0m\n\u001b[0m",
      "\u001b[1;32m/home/topolo/Public/anaconda2/lib/python2.7/site-packages/theano/compile/function_module.pyc\u001b[0m in \u001b[0;36m__call__\u001b[1;34m(self, *args, **kwargs)\u001b[0m\n\u001b[0;32m    784\u001b[0m                         s.storage[0] = s.type.filter(\n\u001b[0;32m    785\u001b[0m                             \u001b[0marg\u001b[0m\u001b[1;33m,\u001b[0m \u001b[0mstrict\u001b[0m\u001b[1;33m=\u001b[0m\u001b[0ms\u001b[0m\u001b[1;33m.\u001b[0m\u001b[0mstrict\u001b[0m\u001b[1;33m,\u001b[0m\u001b[1;33m\u001b[0m\u001b[0m\n\u001b[1;32m--> 786\u001b[1;33m                             allow_downcast=s.allow_downcast)\n\u001b[0m\u001b[0;32m    787\u001b[0m \u001b[1;33m\u001b[0m\u001b[0m\n\u001b[0;32m    788\u001b[0m                     \u001b[1;32mexcept\u001b[0m \u001b[0mException\u001b[0m \u001b[1;32mas\u001b[0m \u001b[0me\u001b[0m\u001b[1;33m:\u001b[0m\u001b[1;33m\u001b[0m\u001b[0m\n",
      "\u001b[1;32m/home/topolo/Public/anaconda2/lib/python2.7/site-packages/theano/tensor/type.pyc\u001b[0m in \u001b[0;36mfilter\u001b[1;34m(self, data, strict, allow_downcast)\u001b[0m\n\u001b[0;32m     84\u001b[0m         \u001b[1;32mif\u001b[0m \u001b[0misinstance\u001b[0m\u001b[1;33m(\u001b[0m\u001b[0mdata\u001b[0m\u001b[1;33m,\u001b[0m \u001b[0mVariable\u001b[0m\u001b[1;33m)\u001b[0m\u001b[1;33m:\u001b[0m\u001b[1;33m\u001b[0m\u001b[0m\n\u001b[0;32m     85\u001b[0m             raise TypeError(\n\u001b[1;32m---> 86\u001b[1;33m                 \u001b[1;34m'Expected an array-like object, but found a Variable: '\u001b[0m\u001b[1;33m\u001b[0m\u001b[0m\n\u001b[0m\u001b[0;32m     87\u001b[0m                 \u001b[1;34m'maybe you are trying to call a function on a (possibly '\u001b[0m\u001b[1;33m\u001b[0m\u001b[0m\n\u001b[0;32m     88\u001b[0m                 'shared) variable instead of a numeric array?')\n",
      "\u001b[1;31mTypeError\u001b[0m: ('Bad input argument to theano function with name \"<ipython-input-69-40293d053d65>:7\"  at index 0(0-based)', 'Expected an array-like object, but found a Variable: maybe you are trying to call a function on a (possibly shared) variable instead of a numeric array?')"
     ]
    }
   ],
   "source": [
    "matadd( A_eg, B_eg)"
   ]
  },
  {
   "cell_type": "markdown",
   "metadata": {},
   "source": [
    "The way to do it, to \"force\" on the GPU, is like this (cf. [Speeding up your Neural Network with Theano and the GPU - Wild ML](http://www.wildml.com/2015/09/speeding-up-your-neural-network-with-theano-and-the-gpu/)):"
   ]
  },
  {
   "cell_type": "code",
   "execution_count": 76,
   "metadata": {
    "collapsed": false
   },
   "outputs": [
    {
     "data": {
      "text/plain": [
       "array([[ 1.01645633,  0.49394088, -0.22904526],\n",
       "       [-0.44323914, -0.27948502,  0.335645  ]])"
      ]
     },
     "execution_count": 76,
     "metadata": {},
     "output_type": "execute_result"
    }
   ],
   "source": [
    "np.random.randn( *A_eg_CPU.shape )"
   ]
  },
  {
   "cell_type": "code",
   "execution_count": 78,
   "metadata": {
    "collapsed": false
   },
   "outputs": [],
   "source": [
    "C_out = theano.shared( np.random.randn( *A_eg_CPU.shape).astype('float32') )"
   ]
  },
  {
   "cell_type": "code",
   "execution_count": 80,
   "metadata": {
    "collapsed": false
   },
   "outputs": [
    {
     "data": {
      "text/plain": [
       "<CudaNdarrayType(float32, matrix)>"
      ]
     },
     "execution_count": 80,
     "metadata": {},
     "output_type": "execute_result"
    }
   ],
   "source": [
    "C_out.type()"
   ]
  },
  {
   "cell_type": "code",
   "execution_count": 110,
   "metadata": {
    "collapsed": false
   },
   "outputs": [],
   "source": [
    "#A_in = shared( A_eg_CPU, \"float32\")\n",
    "#A_in = shared( A_eg_CPU, \"float32\")\n",
    "\n",
    "A_in = shared( A_eg_CPU.astype(\"float32\"), \"float32\")\n",
    "B_in = shared( B_eg_CPU.astype(\"float32\"), \"float32\")\n",
    "#C_out_GPU = A_in + B_in\n",
    "C_out_GPU = sandbox.cuda.basic_ops.gpu_from_host(A_in+B_in)\n"
   ]
  },
  {
   "cell_type": "code",
   "execution_count": 111,
   "metadata": {
    "collapsed": false
   },
   "outputs": [],
   "source": [
    "matadd_GPU = theano.function( [], C_out_GPU)"
   ]
  },
  {
   "cell_type": "code",
   "execution_count": 112,
   "metadata": {
    "collapsed": true
   },
   "outputs": [],
   "source": [
    "C_out_GPU_result = matadd_GPU()"
   ]
  },
  {
   "cell_type": "code",
   "execution_count": 113,
   "metadata": {
    "collapsed": false
   },
   "outputs": [
    {
     "data": {
      "text/plain": [
       "CudaNdarray([[ 11.  16.  11.]\n",
       " [ 16.   2.   9.]])"
      ]
     },
     "execution_count": 113,
     "metadata": {},
     "output_type": "execute_result"
    }
   ],
   "source": [
    "C_out_GPU_result"
   ]
  },
  {
   "cell_type": "markdown",
   "metadata": {},
   "source": [
    "Notice how **DIFFERENT** this setup or syntax is: we have to set up tensor or matrix *shared variables* `A_n`, `B_in`, which are then used to define the theano function, `theano.function`.  \"By using shared variables we ensure that they are present in the GPU memory\".  cf. [Linear Algebra Shootout: NumPy vs. Theano vs. TensorFlow](https://simplyml.com/linear-algebra-shootout-numpy-vs-theano-vs-tensorflow-2/)"
   ]
  },
  {
   "cell_type": "code",
   "execution_count": 114,
   "metadata": {
    "collapsed": false
   },
   "outputs": [
    {
     "name": "stdout",
     "output_type": "stream",
     "text": [
      "[GpuElemwise{add,no_inplace}(float32, float32)]\n"
     ]
    }
   ],
   "source": [
    "print( matadd_GPU.maker.fgraph.toposort() )"
   ]
  },
  {
   "cell_type": "code",
   "execution_count": 128,
   "metadata": {
    "collapsed": false
   },
   "outputs": [
    {
     "ename": "AttributeError",
     "evalue": "'CudaNdarrayVariable' object has no attribute 'op'",
     "output_type": "error",
     "traceback": [
      "\u001b[1;31m---------------------------------------------------------------------------\u001b[0m",
      "\u001b[1;31mAttributeError\u001b[0m                            Traceback (most recent call last)",
      "\u001b[1;32m<ipython-input-128-eedabe693a3f>\u001b[0m in \u001b[0;36m<module>\u001b[1;34m()\u001b[0m\n\u001b[0;32m      1\u001b[0m \u001b[1;31m#if np.any([isinstance(C_out_GPU.op, tensor.Elemwise ) and\u001b[0m\u001b[1;33m\u001b[0m\u001b[1;33m\u001b[0m\u001b[0m\n\u001b[0;32m      2\u001b[0m if np.any([isinstance( C_out_GPU.op, T.Elemwise ) and \n\u001b[1;32m----> 3\u001b[1;33m            ('Gpu' not in type( C_out_GPU.op).__name__) for x in matadd_GPU.maker.fgraph.toposort()]) :\n\u001b[0m\u001b[0;32m      4\u001b[0m     \u001b[1;32mprint\u001b[0m\u001b[1;33m(\u001b[0m\u001b[1;34m'Used the cpu'\u001b[0m\u001b[1;33m)\u001b[0m\u001b[1;33m\u001b[0m\u001b[0m\n\u001b[0;32m      5\u001b[0m \u001b[1;32melse\u001b[0m\u001b[1;33m:\u001b[0m\u001b[1;33m\u001b[0m\u001b[0m\n",
      "\u001b[1;31mAttributeError\u001b[0m: 'CudaNdarrayVariable' object has no attribute 'op'"
     ]
    }
   ],
   "source": [
    "#if np.any([isinstance(C_out_GPU.op, tensor.Elemwise ) and \n",
    "if np.any([isinstance( C_out_GPU.op, T.Elemwise ) and \n",
    "           ('Gpu' not in type( C_out_GPU.op).__name__) for x in matadd_GPU.maker.fgraph.toposort()]) :\n",
    "    print('Used the cpu')\n",
    "else:\n",
    "    print('Used the gpu')"
   ]
  },
  {
   "cell_type": "code",
   "execution_count": null,
   "metadata": {
    "collapsed": true
   },
   "outputs": [],
   "source": []
  },
  {
   "cell_type": "code",
   "execution_count": 124,
   "metadata": {
    "collapsed": false
   },
   "outputs": [
    {
     "data": {
      "text/plain": [
       "array([[ 11.,  16.,  11.],\n",
       "       [ 16.,   2.,   9.]], dtype=float32)"
      ]
     },
     "execution_count": 124,
     "metadata": {},
     "output_type": "execute_result"
    }
   ],
   "source": [
    "matadd_CPU( A_eg_CPU.astype(\"float32\"), B_eg_CPU.astype(\"float32\") )"
   ]
  },
  {
   "cell_type": "code",
   "execution_count": 55,
   "metadata": {
    "collapsed": false
   },
   "outputs": [
    {
     "data": {
      "text/plain": [
       "theano.tensor.sharedvar.TensorSharedVariable"
      ]
     },
     "execution_count": 55,
     "metadata": {},
     "output_type": "execute_result"
    }
   ],
   "source": [
    "type(A_eg)"
   ]
  },
  {
   "cell_type": "code",
   "execution_count": 59,
   "metadata": {
    "collapsed": false
   },
   "outputs": [
    {
     "name": "stdout",
     "output_type": "stream",
     "text": [
      "<type 'numpy.ndarray'>\n"
     ]
    },
    {
     "data": {
      "text/plain": [
       "(2000,)"
      ]
     },
     "execution_count": 59,
     "metadata": {},
     "output_type": "execute_result"
    }
   ],
   "source": [
    "print( type( numpy.asarray(rng.rand(2000)) ) )\n",
    "numpy.asarray(rng.rand(2000)).shape"
   ]
  },
  {
   "cell_type": "markdown",
   "metadata": {},
   "source": [
    "**Bottom Line:** there are **2** ways of doing linear algebra *on the GPU*"
   ]
  },
  {
   "cell_type": "markdown",
   "metadata": {},
   "source": [
    "1. symbolic computation with the usual arguments    \n",
    "\n",
    "$$\n",
    "A + B = C \\in \\text{Mat}_{\\mathbb{R}}(M,N)   \n",
    "$$   \n",
    "\n",
    "$ \\forall \\, A, B \\in \\text{Mat}_{\\mathbb{R}}(M,N)$"
   ]
  },
  {
   "cell_type": "code",
   "execution_count": 132,
   "metadata": {
    "collapsed": true
   },
   "outputs": [],
   "source": [
    "A = T.matrix('A')\n",
    "B = T.matrix('B')\n",
    "\n",
    "C = sandbox.cuda.basic_ops.gpu_from_host( A + B ) # vs. \n",
    "# C = A + B  # this will result in an output array on the host, as opposed to CudaNdarray on device\n",
    "matadd = function([A,B], C)"
   ]
  },
  {
   "cell_type": "code",
   "execution_count": 133,
   "metadata": {
    "collapsed": false
   },
   "outputs": [
    {
     "name": "stdout",
     "output_type": "stream",
     "text": [
      "[GpuFromHost(B), GpuFromHost(A), GpuElemwise{Add}[(0, 0)](GpuFromHost.0, GpuFromHost.0)]\n"
     ]
    }
   ],
   "source": [
    "print( matadd.maker.fgraph.toposort() )"
   ]
  },
  {
   "cell_type": "code",
   "execution_count": 134,
   "metadata": {
    "collapsed": false
   },
   "outputs": [
    {
     "data": {
      "text/plain": [
       "CudaNdarray([[ 11.  16.  11.]\n",
       " [ 16.   2.   9.]])"
      ]
     },
     "execution_count": 134,
     "metadata": {},
     "output_type": "execute_result"
    }
   ],
   "source": [
    "matadd( A_eg_CPU.astype(\"float32\"), B_eg_CPU.astype(\"float32\") )"
   ]
  },
  {
   "cell_type": "markdown",
   "metadata": {},
   "source": [
    "2. with *shared variables*"
   ]
  },
  {
   "cell_type": "code",
   "execution_count": 140,
   "metadata": {
    "collapsed": true
   },
   "outputs": [],
   "source": [
    "A_in = shared( A_eg_CPU.astype(\"float32\"), \"float32\")  # initialize with the input values, A_eg_CPU, anyway\n",
    "B_in = shared( B_eg_CPU.astype(\"float32\"), \"float32\")  # initialize with the input values B_eg_CPU, anyway\n",
    "\n",
    "# C_out = A_in + B_in # this version will output to the host as a numpy.ndarray\n",
    "# indeed, reading the graph,\n",
    "\"\"\"\n",
    "[GpuElemwise{add,no_inplace}(float32, float32), HostFromGpu(GpuElemwise{add,no_inplace}.0)]\n",
    "\"\"\"\n",
    "# this version immediately below, in 1 line, will result in a CudaNdarray on device\n",
    "C_out = sandbox.cuda.basic_ops.gpu_from_host(A_in+B_in)\n",
    "\n",
    "matadd_GPU = theano.function( [], C_out)"
   ]
  },
  {
   "cell_type": "code",
   "execution_count": 141,
   "metadata": {
    "collapsed": false
   },
   "outputs": [
    {
     "name": "stdout",
     "output_type": "stream",
     "text": [
      "[GpuElemwise{add,no_inplace}(float32, float32)]\n"
     ]
    }
   ],
   "source": [
    "print( matadd_GPU.maker.fgraph.toposort() )"
   ]
  },
  {
   "cell_type": "code",
   "execution_count": 142,
   "metadata": {
    "collapsed": true
   },
   "outputs": [],
   "source": [
    "C_out_result = matadd_GPU()"
   ]
  },
  {
   "cell_type": "code",
   "execution_count": 143,
   "metadata": {
    "collapsed": false
   },
   "outputs": [
    {
     "data": {
      "text/plain": [
       "CudaNdarray([[ 11.  16.  11.]\n",
       " [ 16.   2.   9.]])"
      ]
     },
     "execution_count": 143,
     "metadata": {},
     "output_type": "execute_result"
    }
   ],
   "source": [
    "C_out_result"
   ]
  },
  {
   "cell_type": "markdown",
   "metadata": {},
   "source": [
    "### Scalar Multiplication (on the GPU)\n",
    "\n",
    "cf. [Scalar Multiplication of Linear Algebra Review, coursera, Machine Learning Intro by Ng](https://www.coursera.org/learn/machine-learning/lecture/R4hiJ/addition-and-scalar-multiplication)"
   ]
  },
  {
   "cell_type": "code",
   "execution_count": 149,
   "metadata": {
    "collapsed": false
   },
   "outputs": [],
   "source": [
    "A_2 = np.array( [[4,5],[1,7] ])"
   ]
  },
  {
   "cell_type": "code",
   "execution_count": 145,
   "metadata": {
    "collapsed": true
   },
   "outputs": [],
   "source": [
    "a = T.scalar('a')\n",
    "\n",
    "F = sandbox.cuda.basic_ops.gpu_from_host( a*A )\n",
    "scalarmul = theano.function([a,A],F)"
   ]
  },
  {
   "cell_type": "code",
   "execution_count": 146,
   "metadata": {
    "collapsed": false
   },
   "outputs": [
    {
     "name": "stdout",
     "output_type": "stream",
     "text": [
      "[GpuFromHost(A), GpuFromHost(a), GpuDimShuffle{x,x}(GpuFromHost.0), GpuElemwise{Mul}[(0, 1)](GpuDimShuffle{x,x}.0, GpuFromHost.0)]\n"
     ]
    }
   ],
   "source": [
    "print( scalarmul.maker.fgraph.toposort() )"
   ]
  },
  {
   "cell_type": "code",
   "execution_count": 150,
   "metadata": {
    "collapsed": false
   },
   "outputs": [
    {
     "data": {
      "text/plain": [
       "CudaNdarray([[  8.  10.]\n",
       " [  2.  14.]])"
      ]
     },
     "execution_count": 150,
     "metadata": {},
     "output_type": "execute_result"
    }
   ],
   "source": [
    "scalarmul( np.float32( 2.), A_2.astype(\"float32\"))"
   ]
  },
  {
   "cell_type": "markdown",
   "metadata": {},
   "source": [
    "# Composition; Confirming that you can do composition of scalar multiplication on a matrix (or ring) addition\n",
    "\n",
    "Being able to do composition is *very important* in math"
   ]
  },
  {
   "cell_type": "code",
   "execution_count": 152,
   "metadata": {
    "collapsed": false
   },
   "outputs": [
    {
     "data": {
      "text/plain": [
       "CudaNdarray([[ 22.  32.  22.]\n",
       " [ 32.   4.  18.]])"
      ]
     },
     "execution_count": 152,
     "metadata": {},
     "output_type": "execute_result"
    }
   ],
   "source": [
    "scalarmul( np.float32(2.), matadd( A_eg_CPU.astype(\"float32\"), B_eg_CPU.astype(\"float32\") ) )"
   ]
  },
  {
   "cell_type": "code",
   "execution_count": 156,
   "metadata": {
    "collapsed": false
   },
   "outputs": [],
   "source": [
    "u = T.vector('u')\n",
    "v = T.vector('v')\n",
    "\n",
    "w = sandbox.cuda.basic_ops.gpu_from_host( u + v)\n",
    "vecadd = theano.function( [u,v],w)\n",
    "\n",
    "t = sandbox.cuda.basic_ops.gpu_from_host( a * u)\n",
    "scalarmul_vec = theano.function([a,u], t)\n"
   ]
  },
  {
   "cell_type": "code",
   "execution_count": 157,
   "metadata": {
    "collapsed": false
   },
   "outputs": [
    {
     "name": "stdout",
     "output_type": "stream",
     "text": [
      "[GpuFromHost(v), GpuFromHost(u), GpuElemwise{Add}[(0, 0)](GpuFromHost.0, GpuFromHost.0)]\n",
      "[GpuFromHost(u), GpuFromHost(a), GpuDimShuffle{x}(GpuFromHost.0), GpuElemwise{Mul}[(0, 1)](GpuDimShuffle{x}.0, GpuFromHost.0)]\n"
     ]
    }
   ],
   "source": [
    "print(vecadd.maker.fgraph.toposort())  \n",
    "print(scalarmul_vec.maker.fgraph.toposort())  \n"
   ]
  },
  {
   "cell_type": "code",
   "execution_count": 162,
   "metadata": {
    "collapsed": false
   },
   "outputs": [
    {
     "name": "stdout",
     "output_type": "stream",
     "text": [
      "(3,)\n"
     ]
    }
   ],
   "source": [
    "u_eg = np.array( [4,6,7], dtype=\"float32\")\n",
    "v_eg = np.array( [2,1,0], dtype=\"float32\")\n",
    "\n",
    "print( u_eg.shape)"
   ]
  },
  {
   "cell_type": "code",
   "execution_count": 161,
   "metadata": {
    "collapsed": false
   },
   "outputs": [
    {
     "data": {
      "text/plain": [
       "CudaNdarray([ 2.   3.   3.5])"
      ]
     },
     "execution_count": 161,
     "metadata": {},
     "output_type": "execute_result"
    }
   ],
   "source": [
    "scalarmul_vec( np.float32(0.5), u_eg )"
   ]
  },
  {
   "cell_type": "code",
   "execution_count": 163,
   "metadata": {
    "collapsed": false
   },
   "outputs": [
    {
     "data": {
      "text/plain": [
       "CudaNdarray([-4.   0.   3.5])"
      ]
     },
     "execution_count": 163,
     "metadata": {},
     "output_type": "execute_result"
    }
   ],
   "source": [
    "vecadd( scalarmul_vec( np.float32(0.5), u_eg ) , scalarmul_vec( np.float32(-3.), v_eg )  )"
   ]
  },
  {
   "cell_type": "markdown",
   "metadata": {},
   "source": [
    "This was the computer equivalent to mathematical expression:  \n",
    "\n",
    "$$   \n",
    "\\left[ \\begin{matrix} 4 \\\\ 6 \\\\ 7 \\end{matrix} \\right] /2 - 3 * \\left[ \\begin{matrix} 2 \\\\ 1 \\\\ 0 \\end{matrix} \\right]\n",
    "$$   \n"
   ]
  },
  {
   "cell_type": "markdown",
   "metadata": {},
   "source": [
    "### sAxy or A-V multiplication or so-called \"Gemv\", or Matrix Multiplication on a vector, or linear transformation on a R-module, or vector space   \n",
    "\n",
    "i.e.   \n",
    "\n",
    "$$\n",
    "Av = B   \n",
    "$$"
   ]
  },
  {
   "cell_type": "code",
   "execution_count": 164,
   "metadata": {
    "collapsed": false
   },
   "outputs": [
    {
     "name": "stdout",
     "output_type": "stream",
     "text": [
      "[GpuFromHost(v), GpuFromHost(A), Shape_i{0}(A), GpuAllocEmpty(Shape_i{0}.0), GpuGemv{inplace}(GpuAllocEmpty.0, TensorConstant{1.0}, GpuFromHost.0, GpuFromHost.0, TensorConstant{0.0})]\n"
     ]
    }
   ],
   "source": [
    "B_out = sandbox.cuda.basic_ops.gpu_from_host( T.dot(A,v))\n",
    "AVmul = theano.function([A,v], B_out)\n",
    "print(AVmul.maker.fgraph.toposort())"
   ]
  },
  {
   "cell_type": "code",
   "execution_count": 165,
   "metadata": {
    "collapsed": false
   },
   "outputs": [
    {
     "data": {
      "text/plain": [
       "CudaNdarray([  7.  18.  13.])"
      ]
     },
     "execution_count": 165,
     "metadata": {},
     "output_type": "execute_result"
    }
   ],
   "source": [
    "AVmul( np.array([[1,0,3],[2,1,5],[3,1,2]]).astype(\"float32\"), np.array([1,6,2]).astype(\"float32\"))"
   ]
  },
  {
   "cell_type": "code",
   "execution_count": 168,
   "metadata": {
    "collapsed": false
   },
   "outputs": [
    {
     "data": {
      "text/plain": [
       "CudaNdarray([ 1.  6.  2.])"
      ]
     },
     "execution_count": 168,
     "metadata": {},
     "output_type": "execute_result"
    }
   ],
   "source": [
    "AVmul( np.array([[1,0,0],[0,1,0],[0,0,1]]).astype(\"float32\"), np.array([1,6,2]).astype(\"float32\"))"
   ]
  },
  {
   "cell_type": "markdown",
   "metadata": {},
   "source": [
    "### AB or Gemm or Matrix Multiplication, i.e. Ring multiplication   \n",
    "\n",
    "i.e.   \n",
    "$$  \n",
    "A*B = C  \n",
    "$$"
   ]
  },
  {
   "cell_type": "code",
   "execution_count": 166,
   "metadata": {
    "collapsed": false
   },
   "outputs": [
    {
     "name": "stdout",
     "output_type": "stream",
     "text": [
      "[GpuFromHost(B), GpuFromHost(A), GpuDot22(GpuFromHost.0, GpuFromHost.0)]\n"
     ]
    }
   ],
   "source": [
    "C_f = sandbox.cuda.basic_ops.gpu_from_host( T.dot(A,B)) \n",
    "matmul = theano.function([A,B], C_f)\n",
    "print( matmul.maker.fgraph.toposort())"
   ]
  },
  {
   "cell_type": "code",
   "execution_count": 167,
   "metadata": {
    "collapsed": false
   },
   "outputs": [
    {
     "data": {
      "text/plain": [
       "CudaNdarray([[  7.   9.]\n",
       " [ 10.  12.]\n",
       " [ 10.  15.]])"
      ]
     },
     "execution_count": 167,
     "metadata": {},
     "output_type": "execute_result"
    }
   ],
   "source": [
    "matmul( np.array( [[1,3],[2,4],[0,5]]  ).astype(\"float32\"), np.array([[1,0],[2,3]]).astype(\"float32\")  )"
   ]
  },
  {
   "cell_type": "markdown",
   "metadata": {},
   "source": [
    "### Inverse and Transpose   \n",
    "\n",
    "cf. [Inverse and Transpose](https://www.coursera.org/learn/machine-learning/lecture/FuSWY/inverse-and-transpose)"
   ]
  },
  {
   "cell_type": "code",
   "execution_count": 170,
   "metadata": {
    "collapsed": false
   },
   "outputs": [
    {
     "name": "stdout",
     "output_type": "stream",
     "text": [
      "[GpuFromHost(A), GpuElemwise{Inv}[(0, 0)](GpuFromHost.0)]\n"
     ]
    }
   ],
   "source": [
    "Ainverse = sandbox.cuda.basic_ops.gpu_from_host( T.inv(A))\n",
    "Ainv = theano.function([A], Ainverse)\n",
    "print(Ainv.maker.fgraph.toposort())"
   ]
  },
  {
   "cell_type": "code",
   "execution_count": 172,
   "metadata": {
    "collapsed": false
   },
   "outputs": [
    {
     "name": "stdout",
     "output_type": "stream",
     "text": [
      "[GpuFromHost(A), GpuDimShuffle{1,0}(GpuFromHost.0)]\n"
     ]
    }
   ],
   "source": [
    "Atranspose = sandbox.cuda.basic_ops.gpu_from_host( A.T)\n",
    "AT = theano.function([A],Atranspose)\n",
    "print(AT.maker.fgraph.toposort())"
   ]
  },
  {
   "cell_type": "code",
   "execution_count": null,
   "metadata": {
    "collapsed": true
   },
   "outputs": [],
   "source": []
  },
  {
   "cell_type": "code",
   "execution_count": null,
   "metadata": {
    "collapsed": true
   },
   "outputs": [],
   "source": []
  },
  {
   "cell_type": "markdown",
   "metadata": {},
   "source": [
    "### Summation, sum, mean, scan"
   ]
  },
  {
   "cell_type": "code",
   "execution_count": null,
   "metadata": {
    "collapsed": true
   },
   "outputs": [],
   "source": []
  },
  {
   "cell_type": "markdown",
   "metadata": {},
   "source": [
    "# Linear Regression (again), via Coursera's Machine Learning Intro by Ng, Programming Exercise 1 for Week 2"
   ]
  },
  {
   "cell_type": "markdown",
   "metadata": {},
   "source": [
    "### Boilerplate, load sample data"
   ]
  },
  {
   "cell_type": "code",
   "execution_count": 9,
   "metadata": {
    "collapsed": false
   },
   "outputs": [],
   "source": [
    "linregdata = pd.read_csv('./coursera_Ng/machine-learning-ex1/ex1/ex1data1.txt', header=None)"
   ]
  },
  {
   "cell_type": "code",
   "execution_count": 11,
   "metadata": {
    "collapsed": false
   },
   "outputs": [
    {
     "name": "stdout",
     "output_type": "stream",
     "text": [
      "((97, 1), <type 'numpy.ndarray'>)\n",
      "((97, 1), <type 'numpy.ndarray'>)\n",
      "97\n"
     ]
    }
   ],
   "source": [
    "X_linreg_training = linregdata.as_matrix([0])  # pandas.DataFrame.as_matrix convert frame to its numpy-array representation\n",
    "y_linreg_training = linregdata.as_matrix([1])\n",
    "m_linreg_training = len(y_linreg_training)  # number of training examples  \n",
    "print( X_linreg_training.shape, type(X_linreg_training)) \n",
    "print( y_linreg_training.shape, type(y_linreg_training)) \n",
    "print m_linreg_training"
   ]
  },
  {
   "cell_type": "markdown",
   "metadata": {},
   "source": [
    "Try representing $\\theta$, parameters or \"weights\", of size $|\\theta|$ which should be equal to the number of features $n$ (or $d$).  "
   ]
  },
  {
   "cell_type": "code",
   "execution_count": 109,
   "metadata": {
    "collapsed": false
   },
   "outputs": [],
   "source": [
    "# theta_linreg = T.vector('theta_linreg')\n",
    "d = X_linreg_training.shape[1] # d = features\n",
    "\n",
    "# Declare Theano symbolic variables\n",
    "X = T.matrix('x')\n",
    "y = T.vector('y')"
   ]
  },
  {
   "cell_type": "markdown",
   "metadata": {},
   "source": [
    "Preprocess training data (due to numpy's treatment of arrays) (note, this is not needed, if you use pandas to choose which column(s) you want to make into a numpy array)"
   ]
  },
  {
   "cell_type": "code",
   "execution_count": 188,
   "metadata": {
    "collapsed": false
   },
   "outputs": [],
   "source": [
    "#X_linreg_training = X_linreg_training.reshape( m_linreg_training,1)\n",
    "#y_linreg_training = y_linreg_training.reshape( m_linreg_training,1)"
   ]
  },
  {
   "cell_type": "code",
   "execution_count": 12,
   "metadata": {
    "collapsed": false
   },
   "outputs": [],
   "source": [
    "# Instead, the training data X and test data values y are going to be represented by Theano symbolic variable above\n",
    "#X_linreg = theano.shared(X_linreg_training.astype(\"float32\"),\"float32\")\n",
    "#y_linreg = theano.shared(y_linreg_training.astype(\"float32\"),\"float32\")"
   ]
  },
  {
   "cell_type": "code",
   "execution_count": 110,
   "metadata": {
    "collapsed": false
   },
   "outputs": [
    {
     "name": "stdout",
     "output_type": "stream",
     "text": [
      "[ 0.  0.]\n"
     ]
    }
   ],
   "source": [
    "#theta_0 = np.zeros( ( d+1,1)); print(theta_0)\n",
    "theta_0 = np.zeros(  d+1); print(theta_0)"
   ]
  },
  {
   "cell_type": "code",
   "execution_count": 111,
   "metadata": {
    "collapsed": false
   },
   "outputs": [],
   "source": [
    "theta = theano.shared( theta_0.astype(\"float32\"), \"theta\")"
   ]
  },
  {
   "cell_type": "code",
   "execution_count": 89,
   "metadata": {
    "collapsed": true
   },
   "outputs": [],
   "source": [
    "alpha = np.float32(0.01) # learning rate gamma or alpha"
   ]
  },
  {
   "cell_type": "code",
   "execution_count": 112,
   "metadata": {
    "collapsed": true
   },
   "outputs": [],
   "source": [
    "# Construct Theano \"expression graph\"\n",
    "\n",
    "predicted_vals = sandbox.cuda.basic_ops.gpu_from_host( T.dot(X,theta) )  # h_{\\theta}\n",
    "m = np.float32( y_linreg_training.shape[0] ) \n",
    "J_theta = sandbox.cuda.basic_ops.gpu_from_host( \n",
    "    T.dot( (T.dot(X,theta) - y).T, T.dot(X,theta) - y)  * np.float32( 0.5 ) * np.float32( 1./ m )   \n",
    "    ) # cost function\n",
    "\n"
   ]
  },
  {
   "cell_type": "code",
   "execution_count": 113,
   "metadata": {
    "collapsed": false
   },
   "outputs": [],
   "source": [
    "update_theta = sandbox.cuda.basic_ops.gpu_from_host( \n",
    "        theta - alpha * T.grad( J_theta, theta) )\n"
   ]
  },
  {
   "cell_type": "code",
   "execution_count": 114,
   "metadata": {
    "collapsed": false
   },
   "outputs": [],
   "source": [
    "gradientDescent = theano.function( \n",
    "                            inputs=[X,y],\n",
    "                            outputs=[predicted_vals,J_theta],  \n",
    "                            updates=[(theta, update_theta)], \n",
    "                            name = \"gradientDescent\")\n"
   ]
  },
  {
   "cell_type": "code",
   "execution_count": 115,
   "metadata": {
    "collapsed": false
   },
   "outputs": [
    {
     "name": "stdout",
     "output_type": "stream",
     "text": [
      "[GpuFromHost(x), Shape_i{0}(x), GpuFromHost(y), GpuAllocEmpty(TensorConstant{1}), GpuDimShuffle{1,0}(GpuFromHost.0), GpuAllocEmpty(Shape_i{0}.0), GpuGemv{inplace}(GpuAllocEmpty.0, TensorConstant{1.0}, GpuFromHost.0, theta, TensorConstant{0.0}), GpuElemwise{Sub}[(0, 1)](GpuGemv{inplace}.0, GpuFromHost.0), GpuDimShuffle{0}(GpuElemwise{Sub}[(0, 1)].0), GpuDimShuffle{x,0}(GpuElemwise{Sub}[(0, 1)].0), GpuGemv{inplace}(GpuAllocEmpty.0, TensorConstant{1.0}, GpuDimShuffle{x,0}.0, GpuDimShuffle{0}.0, TensorConstant{0.0}), GpuElemwise{Mul}[(0, 1)](CudaNdarrayConstant{[ 0.00515464]}, GpuElemwise{Sub}[(0, 1)].0), GpuDimShuffle{}(GpuGemv{inplace}.0), GpuGemv{inplace}(theta, TensorConstant{-0.019999999553}, GpuDimShuffle{1,0}.0, GpuElemwise{Mul}[(0, 1)].0, TensorConstant{1.0}), GpuElemwise{Mul}[(0, 1)](CudaNdarrayConstant{0.00515463901684}, GpuDimShuffle{}.0)]\n"
     ]
    }
   ],
   "source": [
    "print( gradientDescent.maker.fgraph.toposort() )"
   ]
  },
  {
   "cell_type": "code",
   "execution_count": 116,
   "metadata": {
    "collapsed": true
   },
   "outputs": [],
   "source": [
    "num_iters = 1500\n",
    "J_History = []"
   ]
  },
  {
   "cell_type": "markdown",
   "metadata": {},
   "source": [
    "Preprocess X to *include intercepts*"
   ]
  },
  {
   "cell_type": "code",
   "execution_count": 95,
   "metadata": {
    "collapsed": true
   },
   "outputs": [],
   "source": [
    "input_X_linreg = np.hstack( ( np.ones((m_linreg_training,1)), X_linreg_training ) ).astype(\"float32\")"
   ]
  },
  {
   "cell_type": "code",
   "execution_count": 96,
   "metadata": {
    "collapsed": true
   },
   "outputs": [],
   "source": [
    "y_linreg_training_processed = y_linreg_training.reshape( m_linreg_training,).astype(\"float32\")"
   ]
  },
  {
   "cell_type": "code",
   "execution_count": 117,
   "metadata": {
    "collapsed": false
   },
   "outputs": [],
   "source": [
    "J_History = [0 for iter in range(num_iters)]\n",
    "for iter in range(num_iters):\n",
    "    predicted_vals_out, J_out = \\\n",
    "        gradientDescent(input_X_linreg.astype(\"float32\"), y_linreg_training_processed.astype(\"float32\") ) \n",
    "    J_History[iter] = J_out"
   ]
  },
  {
   "cell_type": "code",
   "execution_count": 45,
   "metadata": {
    "collapsed": true
   },
   "outputs": [],
   "source": [
    "Deg = (np.random.randn(40,10).astype(\"float32\"), np.random.randint(size=40,low=0,high=2).astype(\"float32\") )"
   ]
  },
  {
   "cell_type": "code",
   "execution_count": 46,
   "metadata": {
    "collapsed": false
   },
   "outputs": [
    {
     "data": {
      "text/plain": [
       "(40, 10)"
      ]
     },
     "execution_count": 46,
     "metadata": {},
     "output_type": "execute_result"
    }
   ],
   "source": [
    "Deg[0].shape"
   ]
  },
  {
   "cell_type": "code",
   "execution_count": 47,
   "metadata": {
    "collapsed": false
   },
   "outputs": [
    {
     "data": {
      "text/plain": [
       "(40,)"
      ]
     },
     "execution_count": 47,
     "metadata": {},
     "output_type": "execute_result"
    }
   ],
   "source": [
    "Deg[1].shape"
   ]
  },
  {
   "cell_type": "code",
   "execution_count": 118,
   "metadata": {
    "collapsed": false
   },
   "outputs": [
    {
     "data": {
      "text/plain": [
       "array([-3.63029242,  1.1663624 ], dtype=float32)"
      ]
     },
     "execution_count": 118,
     "metadata": {},
     "output_type": "execute_result"
    }
   ],
   "source": [
    "theta.get_value()"
   ]
  },
  {
   "cell_type": "code",
   "execution_count": 101,
   "metadata": {
    "collapsed": false
   },
   "outputs": [
    {
     "data": {
      "text/plain": [
       "['__add__',\n",
       " '__array__',\n",
       " '__class__',\n",
       " '__copy__',\n",
       " '__deepcopy__',\n",
       " '__delattr__',\n",
       " '__delitem__',\n",
       " '__doc__',\n",
       " '__format__',\n",
       " '__getattribute__',\n",
       " '__getitem__',\n",
       " '__hash__',\n",
       " '__iadd__',\n",
       " '__idiv__',\n",
       " '__init__',\n",
       " '__len__',\n",
       " '__new__',\n",
       " '__radd__',\n",
       " '__reduce__',\n",
       " '__reduce_ex__',\n",
       " '__repr__',\n",
       " '__setattr__',\n",
       " '__setitem__',\n",
       " '__sizeof__',\n",
       " '__str__',\n",
       " '__subclasshook__',\n",
       " '_dev_data',\n",
       " '_set_shape_i',\n",
       " '_set_stride',\n",
       " '_strides',\n",
       " 'base',\n",
       " 'copy',\n",
       " 'dtype',\n",
       " 'exp',\n",
       " 'gpudata',\n",
       " 'is_c_contiguous',\n",
       " 'mem_size',\n",
       " 'ndim',\n",
       " 'reduce_sum',\n",
       " 'reshape',\n",
       " 'shape',\n",
       " 'size',\n",
       " 'strides',\n",
       " 'take',\n",
       " 'view',\n",
       " 'zeros']"
      ]
     },
     "execution_count": 101,
     "metadata": {},
     "output_type": "execute_result"
    }
   ],
   "source": [
    "dir( J_History[0] )"
   ]
  },
  {
   "cell_type": "code",
   "execution_count": 121,
   "metadata": {
    "collapsed": false
   },
   "outputs": [
    {
     "data": {
      "text/plain": [
       "47407335424"
      ]
     },
     "execution_count": 121,
     "metadata": {},
     "output_type": "execute_result"
    }
   ],
   "source": [
    "J_History[-5].gpudata"
   ]
  },
  {
   "cell_type": "code",
   "execution_count": 120,
   "metadata": {
    "collapsed": false
   },
   "outputs": [
    {
     "data": {
      "text/plain": [
       "[<matplotlib.lines.Line2D at 0x7ffa1c17a7d0>]"
      ]
     },
     "execution_count": 120,
     "metadata": {},
     "output_type": "execute_result"
    },
    {
     "data": {
      "image/png": "[encoded data removed]",
      "text/plain": [
       "<matplotlib.figure.Figure at 0x7ffa1c5d6410>"
      ]
     },
     "metadata": {},
     "output_type": "display_data"
    }
   ],
   "source": [
    "plt.plot( [ele.gpudata for ele in J_History])"
   ]
  },
  {
   "cell_type": "markdown",
   "metadata": {},
   "source": [
    "Denny Britz's way:  \n",
    "\n",
    "http://www.wildml.com/2015/09/speeding-up-your-neural-network-with-theano-and-the-gpu/\n",
    "\n",
    "[Speeding up your Neural Network with Theano and the GPU](http://www.wildml.com/2015/09/speeding-up-your-neural-network-with-theano-and-the-gpu/)\n",
    "\n",
    "and his jupyter notebook\n",
    "\n",
    "https://github.com/dennybritz/nn-theano/blob/master/nn-theano-gpu.ipynb\n",
    "\n",
    "[ `nn-theano/nn-theano-gpu.ipynb`](https://github.com/dennybritz/nn-theano/blob/master/nn-theano-gpu.ipynb)\n",
    "\n",
    "\n"
   ]
  },
  {
   "cell_type": "code",
   "execution_count": 73,
   "metadata": {
    "collapsed": false
   },
   "outputs": [
    {
     "data": {
      "text/plain": [
       "(97, 2)"
      ]
     },
     "execution_count": 73,
     "metadata": {},
     "output_type": "execute_result"
    }
   ],
   "source": [
    "input_X_linreg.shape"
   ]
  },
  {
   "cell_type": "code",
   "execution_count": 122,
   "metadata": {
    "collapsed": true
   },
   "outputs": [],
   "source": [
    "# GPU NOTE: Conversion to float32 to store them on the GPU!\n",
    "X = theano.shared( input_X_linreg.astype('float32'), name='X' )\n",
    "y = theano.shared( y_linreg_training.astype('float32'), name='y')"
   ]
  },
  {
   "cell_type": "code",
   "execution_count": 123,
   "metadata": {
    "collapsed": false
   },
   "outputs": [],
   "source": [
    "# GPU NOTE: Conversion to float32 to store them on the GPU!  \n",
    "theta = theano.shared( np.vstack(theta_0).astype(\"float32\"), name='theta')"
   ]
  },
  {
   "cell_type": "code",
   "execution_count": 136,
   "metadata": {
    "collapsed": false
   },
   "outputs": [],
   "source": [
    "# Construct Theano \"expression graph\"\n",
    "\n",
    "predicted_vals = sandbox.cuda.basic_ops.gpu_from_host( \n",
    "    T.dot(X,theta) )  # h_{\\theta}\n",
    "m = np.float32( y_linreg_training.shape[0] )\n",
    "# cost function J_theta, J_{\\theta}\n",
    "J_theta = sandbox.cuda.basic_ops.gpu_from_host( \n",
    "    (\n",
    "        T.dot( (T.dot(X,theta) - y).T, T.dot(X,theta) - y) * np.float32(0.5) * np.float32( 1./m)  \n",
    "    ).reshape([]) )   # cost function  # reshape is to force \"broadcast\" into 0-dim. scalar for cost function\n",
    "    \n"
   ]
  },
  {
   "cell_type": "code",
   "execution_count": 137,
   "metadata": {
    "collapsed": false
   },
   "outputs": [],
   "source": [
    "update_theta = sandbox.cuda.basic_ops.gpu_from_host( \n",
    "        theta - alpha * T.grad( J_theta, theta) )"
   ]
  },
  {
   "cell_type": "code",
   "execution_count": 138,
   "metadata": {
    "collapsed": true
   },
   "outputs": [],
   "source": [
    "# Note that we removed the input values because we will always use the same shared variable\n",
    "# GPU Note: Removed the input values to avoid copying data to the GPU.\n",
    "gradientDescent = theano.function( \n",
    "                            inputs=[],\n",
    "#                            outputs=[predicted_vals,J_theta],  \n",
    "                            updates=[(theta, update_theta)], \n",
    "                            name = \"gradientDescent\")\n"
   ]
  },
  {
   "cell_type": "code",
   "execution_count": 139,
   "metadata": {
    "collapsed": false
   },
   "outputs": [
    {
     "name": "stdout",
     "output_type": "stream",
     "text": [
      "[Shape_i{1}(theta), GpuDimShuffle{1,0}(X), GpuGemm{no_inplace}(y, TensorConstant{1.0}, X, theta, TensorConstant{-1.0}), MakeVector{dtype='int64'}(Shape_i{1}.0, Shape_i{1}.0), GpuReshape{2}(CudaNdarrayConstant{1.0}, MakeVector{dtype='int64'}.0), GpuElemwise{mul,no_inplace}(CudaNdarrayConstant{[[ 0.00515464]]}, GpuReshape{2}.0), GpuDot22(GpuGemm{no_inplace}.0, GpuElemwise{mul,no_inplace}.0), GpuDimShuffle{1,0}(GpuElemwise{mul,no_inplace}.0), GpuDot22(GpuGemm{no_inplace}.0, GpuDimShuffle{1,0}.0), GpuGemm{inplace}(theta, TensorConstant{-0.00999999977648}, GpuDimShuffle{1,0}.0, GpuDot22.0, TensorConstant{1.0}), GpuGemm{inplace}(GpuGemm{inplace}.0, TensorConstant{-0.00999999977648}, GpuDimShuffle{1,0}.0, GpuDot22.0, TensorConstant{1.0})]\n"
     ]
    }
   ],
   "source": [
    "print( gradientDescent.maker.fgraph.toposort() )"
   ]
  },
  {
   "cell_type": "code",
   "execution_count": 141,
   "metadata": {
    "collapsed": false
   },
   "outputs": [],
   "source": [
    "#J_History = [0 for iter in range(num_iters)]\n",
    "for iter in range(num_iters):\n",
    "    gradientDescent( ) \n",
    "    "
   ]
  },
  {
   "cell_type": "code",
   "execution_count": 78,
   "metadata": {
    "collapsed": false
   },
   "outputs": [
    {
     "name": "stdout",
     "output_type": "stream",
     "text": [
      "(2, 1)\n",
      "(97, 1)\n"
     ]
    }
   ],
   "source": [
    "print( np.vstack( theta_0).shape )\n",
    "print( y_linreg_training.shape )"
   ]
  },
  {
   "cell_type": "code",
   "execution_count": 149,
   "metadata": {
    "collapsed": false
   },
   "outputs": [
    {
     "data": {
      "text/plain": [
       "array([[-3.63076854],\n",
       "       [ 1.16641033]], dtype=float32)"
      ]
     },
     "execution_count": 149,
     "metadata": {},
     "output_type": "execute_result"
    }
   ],
   "source": [
    "theta.get_value()"
   ]
  },
  {
   "cell_type": "code",
   "execution_count": 152,
   "metadata": {
    "collapsed": false
   },
   "outputs": [
    {
     "name": "stdout",
     "output_type": "stream",
     "text": [
      "False\n",
      "False\n"
     ]
    }
   ],
   "source": [
    "# Profiling\n",
    "print( theano.config.profile )  # Do the vm/cvm linkers profile the execution time of Theano functions?\n",
    "print( theano.config.profile_memory ) # Do the vm/cvm linkers profile the memory usage of Theano functions? It only works when profile=True."
   ]
  },
  {
   "cell_type": "code",
   "execution_count": 154,
   "metadata": {
    "collapsed": false
   },
   "outputs": [
    {
     "name": "stdout",
     "output_type": "stream",
     "text": [
      "GpuGemm{inplace} [id A] ''   10\n",
      " |GpuGemm{inplace} [id B] ''   9\n",
      " | |theta [id C]\n",
      " | |TensorConstant{-0.00999999977648} [id D]\n",
      " | |GpuDimShuffle{1,0} [id E] ''   1\n",
      " | | |X [id F]\n",
      " | |GpuDot22 [id G] ''   8\n",
      " | | |GpuGemm{no_inplace} [id H] ''   2\n",
      " | | | |y [id I]\n",
      " | | | |TensorConstant{1.0} [id J]\n",
      " | | | |X [id F]\n",
      " | | | |theta [id C]\n",
      " | | | |TensorConstant{-1.0} [id K]\n",
      " | | |GpuDimShuffle{1,0} [id L] ''   7\n",
      " | |   |GpuElemwise{mul,no_inplace} [id M] ''   5\n",
      " | |     |CudaNdarrayConstant{[[ 0.00515464]]} [id N]\n",
      " | |     |GpuReshape{2} [id O] ''   4\n",
      " | |       |CudaNdarrayConstant{1.0} [id P]\n",
      " | |       |MakeVector{dtype='int64'} [id Q] ''   3\n",
      " | |         |Shape_i{1} [id R] ''   0\n",
      " | |         | |theta [id C]\n",
      " | |         |Shape_i{1} [id R] ''   0\n",
      " | |TensorConstant{1.0} [id J]\n",
      " |TensorConstant{-0.00999999977648} [id D]\n",
      " |GpuDimShuffle{1,0} [id E] ''   1\n",
      " |GpuDot22 [id S] ''   6\n",
      " | |GpuGemm{no_inplace} [id H] ''   2\n",
      " | |GpuElemwise{mul,no_inplace} [id M] ''   5\n",
      " |TensorConstant{1.0} [id J]\n"
     ]
    }
   ],
   "source": [
    "theano.printing.debugprint(gradientDescent)"
   ]
  },
  {
   "cell_type": "code",
   "execution_count": 157,
   "metadata": {
    "collapsed": false
   },
   "outputs": [
    {
     "data": {
      "text/plain": [
       "['__class__',\n",
       " '__delattr__',\n",
       " '__doc__',\n",
       " '__format__',\n",
       " '__getattribute__',\n",
       " '__hash__',\n",
       " '__init__',\n",
       " '__new__',\n",
       " '__reduce__',\n",
       " '__reduce_ex__',\n",
       " '__repr__',\n",
       " '__setattr__',\n",
       " '__sizeof__',\n",
       " '__str__',\n",
       " '__subclasshook__']"
      ]
     },
     "execution_count": 157,
     "metadata": {},
     "output_type": "execute_result"
    }
   ],
   "source": [
    "#print( gradientDescent.profile.print_summary() )\n",
    "dir( gradientDescent.profile)"
   ]
  },
  {
   "cell_type": "markdown",
   "metadata": {},
   "source": [
    "## Testing the Linear Regression with (Batch) Gradient Descent classes in `./ML/`"
   ]
  },
  {
   "cell_type": "code",
   "execution_count": 8,
   "metadata": {
    "collapsed": true
   },
   "outputs": [],
   "source": [
    "import sys\n",
    "import os"
   ]
  },
  {
   "cell_type": "code",
   "execution_count": 9,
   "metadata": {
    "collapsed": false
   },
   "outputs": [],
   "source": [
    "#sys.path.append( os.getcwd() + '/ML')\n",
    "sys.path.append( os.getcwd() + '/ML' )"
   ]
  },
  {
   "cell_type": "code",
   "execution_count": 10,
   "metadata": {
    "collapsed": false
   },
   "outputs": [],
   "source": [
    "from linreg_gradDes import LinearReg, LinearReg_loaded\n",
    "#from ML import LinearReg, LinearReg_loaded"
   ]
  },
  {
   "cell_type": "markdown",
   "metadata": {},
   "source": [
    "**Boilerplate** for sample input data"
   ]
  },
  {
   "cell_type": "code",
   "execution_count": 11,
   "metadata": {
    "collapsed": false
   },
   "outputs": [
    {
     "data": {
      "text/plain": [
       "(97, 1)"
      ]
     },
     "execution_count": 11,
     "metadata": {},
     "output_type": "execute_result"
    }
   ],
   "source": [
    "linregdata1 = pd.read_csv('./coursera_Ng/machine-learning-ex1/ex1/ex1data1.txt', header=None)\n",
    "linregdata1.as_matrix([0]).shape\n",
    "linregdata1.as_matrix([1]).shape"
   ]
  },
  {
   "cell_type": "code",
   "execution_count": 12,
   "metadata": {
    "collapsed": false
   },
   "outputs": [],
   "source": [
    "features = linregdata1.as_matrix([0]).shape[1]\n",
    "numberoftraining = linregdata1.as_matrix([0]).shape[0]\n",
    "LinReg_housing = LinearReg( features, numberoftraining , 0.01)"
   ]
  },
  {
   "cell_type": "code",
   "execution_count": 13,
   "metadata": {
    "collapsed": false
   },
   "outputs": [],
   "source": [
    "Xin   = LinReg_housing.preprocess_X( linregdata1.as_matrix([0]))\n",
    "ytest = linregdata1.as_matrix([1]).flatten()"
   ]
  },
  {
   "cell_type": "code",
   "execution_count": 14,
   "metadata": {
    "collapsed": false
   },
   "outputs": [
    {
     "name": "stdout",
     "output_type": "stream",
     "text": [
      "CPU times: user 171 ms, sys: 28.9 ms, total: 200 ms\n",
      "Wall time: 198 ms\n"
     ]
    },
    {
     "data": {
      "text/plain": [
       "array([-3.63029242,  1.1663624 ], dtype=float32)"
      ]
     },
     "execution_count": 14,
     "metadata": {},
     "output_type": "execute_result"
    }
   ],
   "source": [
    "%time LinReg_housing.build_model( Xin, ytest )"
   ]
  },
  {
   "cell_type": "code",
   "execution_count": 19,
   "metadata": {
    "collapsed": false
   },
   "outputs": [],
   "source": [
    "LinRegloaded_housing = LinearReg_loaded( linregdata1.as_matrix([0]), linregdata1.as_matrix([1]), \n",
    "                                        features, numberoftraining )"
   ]
  },
  {
   "cell_type": "code",
   "execution_count": 20,
   "metadata": {
    "collapsed": false
   },
   "outputs": [
    {
     "name": "stdout",
     "output_type": "stream",
     "text": [
      "CPU times: user 136 ms, sys: 16.4 ms, total: 152 ms\n",
      "Wall time: 132 ms\n"
     ]
    },
    {
     "data": {
      "text/plain": [
       "array([[-3.63028979],\n",
       "       [ 1.16636217]], dtype=float32)"
      ]
     },
     "execution_count": 20,
     "metadata": {},
     "output_type": "execute_result"
    }
   ],
   "source": [
    "%time LinRegloaded_housing.build_model()"
   ]
  },
  {
   "cell_type": "code",
   "execution_count": 53,
   "metadata": {
    "collapsed": false
   },
   "outputs": [
    {
     "name": "stdout",
     "output_type": "stream",
     "text": [
      "[GpuFromHost(X), Shape_i{0}(X), GpuFromHost(y), GpuAllocEmpty(TensorConstant{1}), GpuDimShuffle{1,0}(GpuFromHost.0), GpuAllocEmpty(Shape_i{0}.0), GpuGemv{inplace}(GpuAllocEmpty.0, TensorConstant{1.0}, GpuFromHost.0, theta, TensorConstant{0.0}), GpuElemwise{Sub}[(0, 1)](GpuGemv{inplace}.0, GpuFromHost.0), GpuDimShuffle{0}(GpuElemwise{Sub}[(0, 1)].0), GpuDimShuffle{x,0}(GpuElemwise{Sub}[(0, 1)].0), GpuGemv{inplace}(GpuAllocEmpty.0, TensorConstant{1.0}, GpuDimShuffle{x,0}.0, GpuDimShuffle{0}.0, TensorConstant{0.0}), GpuElemwise{Mul}[(0, 1)](CudaNdarrayConstant{[ 0.00515464]}, GpuElemwise{Sub}[(0, 1)].0), GpuDimShuffle{}(GpuGemv{inplace}.0), GpuGemv{inplace}(theta, TensorConstant{-0.019999999553}, GpuDimShuffle{1,0}.0, GpuElemwise{Mul}[(0, 1)].0, TensorConstant{1.0}), GpuElemwise{Mul}[(0, 1)](CudaNdarrayConstant{0.00515463901684}, GpuDimShuffle{}.0)]\n",
      "[Shape_i{1}(theta), GpuDimShuffle{1,0}(X), GpuGemm{no_inplace}(y, TensorConstant{1.0}, X, theta, TensorConstant{-1.0}), MakeVector{dtype='int64'}(Shape_i{1}.0, Shape_i{1}.0), GpuReshape{2}(CudaNdarrayConstant{1.0}, MakeVector{dtype='int64'}.0), GpuElemwise{mul,no_inplace}(CudaNdarrayConstant{[[ 0.00515464]]}, GpuReshape{2}.0), GpuDot22(GpuGemm{no_inplace}.0, GpuElemwise{mul,no_inplace}.0), GpuDimShuffle{1,0}(GpuElemwise{mul,no_inplace}.0), GpuDot22(GpuGemm{no_inplace}.0, GpuDimShuffle{1,0}.0), GpuGemm{inplace}(theta, TensorConstant{-0.00999999977648}, GpuDimShuffle{1,0}.0, GpuDot22.0, TensorConstant{1.0}), GpuGemm{inplace}(GpuGemm{inplace}.0, TensorConstant{-0.00999999977648}, GpuDimShuffle{1,0}.0, GpuDot22.0, TensorConstant{1.0})]\n"
     ]
    }
   ],
   "source": [
    "print( LinReg_housing.gradientDescent.maker.fgraph.toposort() )\n",
    "print( LinRegloaded_housing.gradientDescent.maker.fgraph.toposort() )\n"
   ]
  },
  {
   "cell_type": "markdown",
   "metadata": {},
   "source": [
    "#### Other (sample) datasets"
   ]
  },
  {
   "cell_type": "markdown",
   "metadata": {},
   "source": [
    "Consider *feature normalization*"
   ]
  },
  {
   "cell_type": "code",
   "execution_count": 40,
   "metadata": {
    "collapsed": true
   },
   "outputs": [],
   "source": [
    "def featureNormalize(X):\n",
    "    \"\"\"\n",
    "    FEATURENORMALIZE Normalizes the features in X  \n",
    "    FEATURENORMALIZE(X) returns a normalized version of X where  \n",
    "    the mean value of each feature is 0 and the standard deviation  \n",
    "    is 1.  This is often a good preprocessing step to do when \n",
    "    working with learning algorithms.\n",
    "    \n",
    "    \"\"\"\n",
    "    # You need to set these values correctly  \n",
    "    X_norm = (X-X.mean(axis=0))/X.std(axis=0)\n",
    "    mu = X.mean(axis=0)\n",
    "    sigma = X.std(axis=0)\n",
    "    \n",
    "    return [X_norm, mu, sigma]"
   ]
  },
  {
   "cell_type": "code",
   "execution_count": 41,
   "metadata": {
    "collapsed": true
   },
   "outputs": [],
   "source": [
    "linregdata2 = pd.read_csv('./coursera_Ng/machine-learning-ex1/ex1/ex1data2.txt', header=None)\n"
   ]
  },
  {
   "cell_type": "code",
   "execution_count": 42,
   "metadata": {
    "collapsed": false
   },
   "outputs": [],
   "source": [
    "features = linregdata2.as_matrix().shape[1] - 1\n",
    "numberoftraining = linregdata2.as_matrix().shape[0]\n",
    "Xdat  = linregdata2.as_matrix( range(features) )\n",
    "ytest = linregdata2.as_matrix( [features])"
   ]
  },
  {
   "cell_type": "code",
   "execution_count": 46,
   "metadata": {
    "collapsed": true
   },
   "outputs": [],
   "source": [
    "[Xnorm, mus,sigmas] = featureNormalize(Xdat)"
   ]
  },
  {
   "cell_type": "code",
   "execution_count": 48,
   "metadata": {
    "collapsed": false
   },
   "outputs": [],
   "source": [
    "LinReg_housing2 = LinearReg( features, numberoftraining, 0.01)\n",
    "processed_X = LinReg_housing2.preprocess_X( Xnorm )"
   ]
  },
  {
   "cell_type": "code",
   "execution_count": 49,
   "metadata": {
    "collapsed": false
   },
   "outputs": [
    {
     "name": "stdout",
     "output_type": "stream",
     "text": [
      "CPU times: user 59.1 ms, sys: 8.88 ms, total: 67.9 ms\n",
      "Wall time: 66.2 ms\n"
     ]
    },
    {
     "data": {
      "text/plain": [
       "array([ 334302.125    ,   99411.4609375,    3267.0065918], dtype=float32)"
      ]
     },
     "execution_count": 49,
     "metadata": {},
     "output_type": "execute_result"
    }
   ],
   "source": [
    "%time LinReg_housing2.build_model( processed_X, ytest.flatten(), 400)"
   ]
  },
  {
   "cell_type": "code",
   "execution_count": 50,
   "metadata": {
    "collapsed": false
   },
   "outputs": [],
   "source": [
    "LinRegloaded_housing2 = LinearReg_loaded( Xnorm, ytest, \n",
    "                                        features, numberoftraining )"
   ]
  },
  {
   "cell_type": "code",
   "execution_count": 51,
   "metadata": {
    "collapsed": false
   },
   "outputs": [
    {
     "name": "stdout",
     "output_type": "stream",
     "text": [
      "CPU times: user 48.9 ms, sys: 2.49 ms, total: 51.3 ms\n",
      "Wall time: 45.4 ms\n"
     ]
    },
    {
     "data": {
      "text/plain": [
       "array([[ 334302.21875   ],\n",
       "       [  99411.453125  ],\n",
       "       [   3267.00976562]], dtype=float32)"
      ]
     },
     "execution_count": 51,
     "metadata": {},
     "output_type": "execute_result"
    }
   ],
   "source": [
    "%time LinRegloaded_housing2.build_model(  400)"
   ]
  },
  {
   "cell_type": "markdown",
   "metadata": {},
   "source": [
    "##### Diabetes data from `sklearn`, sci-kit learn"
   ]
  },
  {
   "cell_type": "code",
   "execution_count": null,
   "metadata": {
    "collapsed": true
   },
   "outputs": [],
   "source": []
  },
  {
   "cell_type": "code",
   "execution_count": 54,
   "metadata": {
    "collapsed": false
   },
   "outputs": [],
   "source": [
    "# Load the diabetes dataset\n",
    "diabetes = sklearn.datasets.load_diabetes()"
   ]
  },
  {
   "cell_type": "code",
   "execution_count": 55,
   "metadata": {
    "collapsed": true
   },
   "outputs": [],
   "source": [
    "diabetes_X = diabetes.data\n",
    "diabetes_Y = diabetes.target"
   ]
  },
  {
   "cell_type": "code",
   "execution_count": 61,
   "metadata": {
    "collapsed": false
   },
   "outputs": [],
   "source": [
    "#diabetes_X1 = diabetes_X[:,np.newaxis,2]\n",
    "diabetes_X1 = diabetes_X[:,np.newaxis, 2].astype(theano.config.floatX)\n",
    "#diabetes_Y  = diabetes_Y.reshape( diabetes_Y.shape[0], 1)\n",
    "diabetes_Y = np.vstack( diabetes_Y.astype(theano.config.floatX) )"
   ]
  },
  {
   "cell_type": "code",
   "execution_count": 63,
   "metadata": {
    "collapsed": false
   },
   "outputs": [],
   "source": [
    "features1 = 1 \n",
    "numberoftraining = diabetes_Y.shape[0]"
   ]
  },
  {
   "cell_type": "code",
   "execution_count": 67,
   "metadata": {
    "collapsed": false
   },
   "outputs": [],
   "source": [
    "LinReg_diabetes = LinearReg( features1, numberoftraining, 0.01)\n"
   ]
  },
  {
   "cell_type": "code",
   "execution_count": 70,
   "metadata": {
    "collapsed": false
   },
   "outputs": [],
   "source": [
    "processed_X = LinReg_diabetes.preprocess_X( diabetes_X1 )"
   ]
  },
  {
   "cell_type": "code",
   "execution_count": 71,
   "metadata": {
    "collapsed": false
   },
   "outputs": [
    {
     "name": "stdout",
     "output_type": "stream",
     "text": [
      "CPU times: user 753 ms, sys: 118 ms, total: 871 ms\n",
      "Wall time: 867 ms\n"
     ]
    },
    {
     "data": {
      "text/plain": [
       "array([ 152.13273621,  192.24055481], dtype=float32)"
      ]
     },
     "execution_count": 71,
     "metadata": {},
     "output_type": "execute_result"
    }
   ],
   "source": [
    "%time LinReg_diabetes.build_model( processed_X, diabetes_Y.flatten(), 10000)"
   ]
  },
  {
   "cell_type": "code",
   "execution_count": 74,
   "metadata": {
    "collapsed": true
   },
   "outputs": [],
   "source": [
    "LinRegloaded_diabetes = LinearReg_loaded( diabetes_X1, diabetes_Y, \n",
    "                                        features1, numberoftraining )"
   ]
  },
  {
   "cell_type": "code",
   "execution_count": 75,
   "metadata": {
    "collapsed": false
   },
   "outputs": [
    {
     "name": "stdout",
     "output_type": "stream",
     "text": [
      "CPU times: user 707 ms, sys: 45.2 ms, total: 752 ms\n",
      "Wall time: 718 ms\n"
     ]
    },
    {
     "data": {
      "text/plain": [
       "array([[ 152.13198853],\n",
       "       [ 192.2406311 ]], dtype=float32)"
      ]
     },
     "execution_count": 75,
     "metadata": {},
     "output_type": "execute_result"
    }
   ],
   "source": [
    "%time LinRegloaded_diabetes.build_model(  10000)"
   ]
  },
  {
   "cell_type": "markdown",
   "metadata": {},
   "source": [
    "Multiple number of features case:"
   ]
  },
  {
   "cell_type": "code",
   "execution_count": 76,
   "metadata": {
    "collapsed": true
   },
   "outputs": [],
   "source": [
    "features = diabetes_X.shape[1]\n"
   ]
  },
  {
   "cell_type": "code",
   "execution_count": 77,
   "metadata": {
    "collapsed": true
   },
   "outputs": [],
   "source": [
    "LinReg_diabetes = LinearReg( features, numberoftraining, 0.01)\n",
    "processed_X = LinReg_diabetes.preprocess_X( diabetes_X )"
   ]
  },
  {
   "cell_type": "code",
   "execution_count": 78,
   "metadata": {
    "collapsed": false
   },
   "outputs": [
    {
     "name": "stdout",
     "output_type": "stream",
     "text": [
      "CPU times: user 855 ms, sys: 113 ms, total: 968 ms\n",
      "Wall time: 964 ms\n"
     ]
    },
    {
     "data": {
      "text/plain": [
       "array([ 152.13273621,   40.02508163,   -5.81352949,  162.25823975,\n",
       "        117.35097504,   38.3995285 ,   24.88706589, -100.40937042,\n",
       "         99.55418396,  149.29826355,   92.1962738 ], dtype=float32)"
      ]
     },
     "execution_count": 78,
     "metadata": {},
     "output_type": "execute_result"
    }
   ],
   "source": [
    "%time LinReg_diabetes.build_model( processed_X, diabetes_Y.flatten(), 10000)"
   ]
  },
  {
   "cell_type": "code",
   "execution_count": 79,
   "metadata": {
    "collapsed": true
   },
   "outputs": [],
   "source": [
    "LinRegloaded_diabetes = LinearReg_loaded( diabetes_X, diabetes_Y, \n",
    "                                        features, numberoftraining )"
   ]
  },
  {
   "cell_type": "code",
   "execution_count": 80,
   "metadata": {
    "collapsed": false
   },
   "outputs": [
    {
     "name": "stdout",
     "output_type": "stream",
     "text": [
      "CPU times: user 702 ms, sys: 64.4 ms, total: 766 ms\n",
      "Wall time: 728 ms\n"
     ]
    },
    {
     "data": {
      "text/plain": [
       "array([[ 152.13198853],\n",
       "       [  40.02506256],\n",
       "       [  -5.81354237],\n",
       "       [ 162.25799561],\n",
       "       [ 117.35108948],\n",
       "       [  38.39954376],\n",
       "       [  24.88703156],\n",
       "       [-100.40942383],\n",
       "       [  99.55430603],\n",
       "       [ 149.29826355],\n",
       "       [  92.1962738 ]], dtype=float32)"
      ]
     },
     "execution_count": 80,
     "metadata": {},
     "output_type": "execute_result"
    }
   ],
   "source": [
    "%time LinRegloaded_diabetes.build_model(  10000)"
   ]
  },
  {
   "cell_type": "code",
   "execution_count": null,
   "metadata": {
    "collapsed": true
   },
   "outputs": [],
   "source": []
  },
  {
   "cell_type": "markdown",
   "metadata": {},
   "source": [
    "# Multi-class Classification "
   ]
  },
  {
   "cell_type": "markdown",
   "metadata": {},
   "source": [
    "cf. `ex3`, Programming Exercise 3: Multi-class Classification and Neural Networks, Machine Learning"
   ]
  },
  {
   "cell_type": "markdown",
   "metadata": {},
   "source": [
    "## 1 Multi-class Classification"
   ]
  },
  {
   "cell_type": "code",
   "execution_count": 83,
   "metadata": {
    "collapsed": false
   },
   "outputs": [
    {
     "data": {
      "text/plain": [
       "'/home/topolo/PropD/MLgrabbag'"
      ]
     },
     "execution_count": 83,
     "metadata": {},
     "output_type": "execute_result"
    }
   ],
   "source": [
    "os.getcwd()"
   ]
  },
  {
   "cell_type": "code",
   "execution_count": 86,
   "metadata": {
    "collapsed": false
   },
   "outputs": [
    {
     "data": {
      "text/plain": [
       "['ex3.pdf', 'ex3']"
      ]
     },
     "execution_count": 86,
     "metadata": {},
     "output_type": "execute_result"
    }
   ],
   "source": [
    "os.listdir( './coursera_Ng/machine-learning-ex3/' )"
   ]
  },
  {
   "cell_type": "code",
   "execution_count": 87,
   "metadata": {
    "collapsed": false
   },
   "outputs": [
    {
     "data": {
      "text/plain": [
       "['ex3data1.mat',\n",
       " 'submit.m',\n",
       " 'sigmoid.m',\n",
       " 'lrCostFunction.m',\n",
       " 'predictOneVsAll.m',\n",
       " 'oneVsAll.m',\n",
       " 'predict.m',\n",
       " 'ex3.m',\n",
       " 'lib',\n",
       " 'displayData.m',\n",
       " 'ex3_nn.m',\n",
       " 'fmincg.m',\n",
       " 'ex3weights.mat']"
      ]
     },
     "execution_count": 87,
     "metadata": {},
     "output_type": "execute_result"
    }
   ],
   "source": [
    "os.listdir( './coursera_Ng/machine-learning-ex3/ex3' )"
   ]
  },
  {
   "cell_type": "code",
   "execution_count": 90,
   "metadata": {
    "collapsed": false
   },
   "outputs": [],
   "source": [
    "# Load saved matrices from file \n",
    "multiclscls_data = scipy.io.loadmat('./coursera_Ng/machine-learning-ex3/ex3/ex3data1.mat')"
   ]
  },
  {
   "cell_type": "markdown",
   "metadata": {},
   "source": [
    "import the classes from `ML`\n"
   ]
  },
  {
   "cell_type": "code",
   "execution_count": 9,
   "metadata": {
    "collapsed": true
   },
   "outputs": [],
   "source": [
    "import sys\n",
    "import os"
   ]
  },
  {
   "cell_type": "code",
   "execution_count": 9,
   "metadata": {
    "collapsed": false
   },
   "outputs": [
    {
     "data": {
      "text/plain": [
       "'/home/topolo/PropD/MLgrabbag'"
      ]
     },
     "execution_count": 9,
     "metadata": {},
     "output_type": "execute_result"
    }
   ],
   "source": [
    "os.getcwd()"
   ]
  },
  {
   "cell_type": "code",
   "execution_count": 10,
   "metadata": {
    "collapsed": false
   },
   "outputs": [],
   "source": [
    "#sys.path.append( os.getcwd() + '/ML')\n",
    "sys.path.append( os.getcwd() + '/ML' )"
   ]
  },
  {
   "cell_type": "code",
   "execution_count": 11,
   "metadata": {
    "collapsed": false
   },
   "outputs": [],
   "source": [
    "from gradDes import LogReg"
   ]
  },
  {
   "cell_type": "code",
   "execution_count": 12,
   "metadata": {
    "collapsed": true
   },
   "outputs": [],
   "source": [
    "# Test case for Cost function J_{\\theta} with regularization\n",
    "\n",
    "theta_t = np.vstack( np.array( [-2, -1, 1, 2]) )\n",
    "X_t = np.array( [i/10. for i in range(1,16)]).reshape((3,5)).T\n",
    "#X_t = np.hstack( ( np.ones((5,1)), X_t) ) # no need to preprocess the input data X with column of 1's\n",
    "y_t = np.vstack( np.array( [1,0,1,0,1]))\n"
   ]
  },
  {
   "cell_type": "code",
   "execution_count": 13,
   "metadata": {
    "collapsed": false
   },
   "outputs": [],
   "source": [
    "MulClsCls_digits = LogReg( X_t, y_t, 3,5,0.01, 3.  )"
   ]
  },
  {
   "cell_type": "code",
   "execution_count": 14,
   "metadata": {
    "collapsed": false
   },
   "outputs": [
    {
     "data": {
      "text/plain": [
       "CudaNdarray(0.125)"
      ]
     },
     "execution_count": 14,
     "metadata": {},
     "output_type": "execute_result"
    }
   ],
   "source": [
    "MulClsCls_digits.calculate_cost()"
   ]
  },
  {
   "cell_type": "code",
   "execution_count": 19,
   "metadata": {
    "collapsed": false
   },
   "outputs": [
    {
     "ename": "AttributeError",
     "evalue": "'CudaNdarrayVariable' object has no attribute 'get_value'",
     "output_type": "error",
     "traceback": [
      "\u001b[1;31m---------------------------------------------------------------------------\u001b[0m",
      "\u001b[1;31mAttributeError\u001b[0m                            Traceback (most recent call last)",
      "\u001b[1;32m<ipython-input-19-f79030e398ab>\u001b[0m in \u001b[0;36m<module>\u001b[1;34m()\u001b[0m\n\u001b[1;32m----> 1\u001b[1;33m \u001b[0mMulClsCls_digits\u001b[0m\u001b[1;33m.\u001b[0m\u001b[0mz\u001b[0m\u001b[1;33m.\u001b[0m\u001b[0mget_value\u001b[0m\u001b[1;33m(\u001b[0m\u001b[1;33m)\u001b[0m\u001b[1;33m\u001b[0m\u001b[0m\n\u001b[0m",
      "\u001b[1;31mAttributeError\u001b[0m: 'CudaNdarrayVariable' object has no attribute 'get_value'"
     ]
    }
   ],
   "source": [
    "MulClsCls_digits.z.get_value()"
   ]
  },
  {
   "cell_type": "code",
   "execution_count": 21,
   "metadata": {
    "collapsed": false
   },
   "outputs": [
    {
     "name": "stdout",
     "output_type": "stream",
     "text": [
      "[[ 1.          0.1         0.60000002  1.10000002]\n",
      " [ 1.          0.2         0.69999999  1.20000005]\n",
      " [ 1.          0.30000001  0.80000001  1.29999995]\n",
      " [ 1.          0.40000001  0.89999998  1.39999998]\n",
      " [ 1.          0.5         1.          1.5       ]]\n"
     ]
    },
    {
     "data": {
      "text/plain": [
       "array([[ 1.],\n",
       "       [ 0.],\n",
       "       [ 1.],\n",
       "       [ 0.],\n",
       "       [ 1.]], dtype=float32)"
      ]
     },
     "execution_count": 21,
     "metadata": {},
     "output_type": "execute_result"
    }
   ],
   "source": [
    "print( MulClsCls_digits.X.get_value() )\n",
    "MulClsCls_digits.y.get_value()"
   ]
  },
  {
   "cell_type": "code",
   "execution_count": 23,
   "metadata": {
    "collapsed": false
   },
   "outputs": [],
   "source": [
    "calc_z_test = theano.function([], MulClsCls_digits.z)"
   ]
  },
  {
   "cell_type": "code",
   "execution_count": 24,
   "metadata": {
    "collapsed": false
   },
   "outputs": [
    {
     "data": {
      "text/plain": [
       "CudaNdarray([[ 0.]\n",
       " [ 0.]\n",
       " [ 0.]\n",
       " [ 0.]\n",
       " [ 0.]])"
      ]
     },
     "execution_count": 24,
     "metadata": {},
     "output_type": "execute_result"
    }
   ],
   "source": [
    "calc_z_test()"
   ]
  },
  {
   "cell_type": "code",
   "execution_count": 25,
   "metadata": {
    "collapsed": true
   },
   "outputs": [],
   "source": [
    "MulClsCls_digits.theta.set_value( theta_t.astype('float32') )"
   ]
  },
  {
   "cell_type": "code",
   "execution_count": 27,
   "metadata": {
    "collapsed": false
   },
   "outputs": [
    {
     "data": {
      "text/plain": [
       "CudaNdarray([[ 0.70000017]\n",
       " [ 0.9000001 ]\n",
       " [ 1.0999999 ]\n",
       " [ 1.29999983]\n",
       " [ 1.5       ]])"
      ]
     },
     "execution_count": 27,
     "metadata": {},
     "output_type": "execute_result"
    }
   ],
   "source": [
    "calc_z_test()"
   ]
  },
  {
   "cell_type": "code",
   "execution_count": 35,
   "metadata": {
    "collapsed": false
   },
   "outputs": [
    {
     "data": {
      "text/plain": [
       "CudaNdarray(1.93287348747)"
      ]
     },
     "execution_count": 35,
     "metadata": {},
     "output_type": "execute_result"
    }
   ],
   "source": [
    "MulClsCls_digits.calculate_cost()"
   ]
  },
  {
   "cell_type": "code",
   "execution_count": 43,
   "metadata": {
    "collapsed": false
   },
   "outputs": [
    {
     "name": "stdout",
     "output_type": "stream",
     "text": [
      "[[ 0.66818777]\n",
      " [ 0.7109495 ]\n",
      " [ 0.75026011]\n",
      " [ 0.78583498]\n",
      " [ 0.81757448]]\n",
      "[[ 0.13287343]]\n"
     ]
    },
    {
     "data": {
      "text/plain": [
       "array([[ 1.8]])"
      ]
     },
     "execution_count": 43,
     "metadata": {},
     "output_type": "execute_result"
    }
   ],
   "source": [
    "print( 1/(1+np.exp( np.dot( -np.hstack( ( np.ones((5,1)), X_t) ), theta_t) ) )  )\n",
    "h_test = 1/(1+np.exp( np.dot( -np.hstack( ( np.ones((5,1)), X_t) ), theta_t) ) ) \n",
    "print( np.dot( (h_test - y_t).T, h_test- y_t) * 0.5/5 ) # non-regularized J_theta cost term\n",
    "np.dot( theta_t[1:].T, theta_t[1:]) * 3 / (2.* 5)\n"
   ]
  },
  {
   "cell_type": "code",
   "execution_count": 33,
   "metadata": {
    "collapsed": false
   },
   "outputs": [
    {
     "data": {
      "text/plain": [
       "array([[ 0.66818786],\n",
       "       [ 0.71094954],\n",
       "       [ 0.75026011],\n",
       "       [ 0.78583503],\n",
       "       [ 0.81757444]], dtype=float32)"
      ]
     },
     "execution_count": 33,
     "metadata": {},
     "output_type": "execute_result"
    }
   ],
   "source": [
    "MulClsCls_digits.predict()"
   ]
  },
  {
   "cell_type": "code",
   "execution_count": null,
   "metadata": {
    "collapsed": true
   },
   "outputs": [],
   "source": [
    "MulClsCls_digit"
   ]
  },
  {
   "cell_type": "code",
   "execution_count": 44,
   "metadata": {
    "collapsed": false
   },
   "outputs": [
    {
     "data": {
      "text/plain": [
       "'float32'"
      ]
     },
     "execution_count": 44,
     "metadata": {},
     "output_type": "execute_result"
    }
   ],
   "source": [
    "theano.config.floatX"
   ]
  },
  {
   "cell_type": "code",
   "execution_count": null,
   "metadata": {
    "collapsed": true
   },
   "outputs": [],
   "source": []
  },
  {
   "cell_type": "code",
   "execution_count": null,
   "metadata": {
    "collapsed": true
   },
   "outputs": [],
   "source": []
  },
  {
   "cell_type": "markdown",
   "metadata": {},
   "source": [
    "# Neural Networks"
   ]
  },
  {
   "cell_type": "markdown",
   "metadata": {},
   "source": [
    "## Model representation"
   ]
  },
  {
   "cell_type": "markdown",
   "metadata": {},
   "source": [
    "cf. 2 Neural Networks, 2.1 Model representation, `ex3.pdf`"
   ]
  },
  {
   "cell_type": "code",
   "execution_count": 45,
   "metadata": {
    "collapsed": false
   },
   "outputs": [
    {
     "data": {
      "text/plain": [
       "'/home/topolo/PropD/MLgrabbag'"
      ]
     },
     "execution_count": 45,
     "metadata": {},
     "output_type": "execute_result"
    }
   ],
   "source": [
    "os.getcwd()"
   ]
  },
  {
   "cell_type": "code",
   "execution_count": 46,
   "metadata": {
    "collapsed": false
   },
   "outputs": [
    {
     "data": {
      "text/plain": [
       "['ex3.pdf', 'ex3']"
      ]
     },
     "execution_count": 46,
     "metadata": {},
     "output_type": "execute_result"
    }
   ],
   "source": [
    "os.listdir( './coursera_Ng/machine-learning-ex3/' )"
   ]
  },
  {
   "cell_type": "code",
   "execution_count": 47,
   "metadata": {
    "collapsed": false
   },
   "outputs": [
    {
     "data": {
      "text/plain": [
       "['ex3data1.mat',\n",
       " 'submit.m',\n",
       " 'sigmoid.m',\n",
       " 'token.mat',\n",
       " 'lrCostFunction.m',\n",
       " 'predictOneVsAll.m',\n",
       " 'oneVsAll.m',\n",
       " 'predict.m',\n",
       " 'ex3.m',\n",
       " 'lib',\n",
       " 'displayData.m',\n",
       " 'ex3_nn.m',\n",
       " 'fmincg.m',\n",
       " 'ex3weights.mat']"
      ]
     },
     "execution_count": 47,
     "metadata": {},
     "output_type": "execute_result"
    }
   ],
   "source": [
    "os.listdir( './coursera_Ng/machine-learning-ex3/ex3/' )"
   ]
  },
  {
   "cell_type": "markdown",
   "metadata": {},
   "source": [
    "$ \\Theta_1, \\Theta_2 $"
   ]
  },
  {
   "cell_type": "code",
   "execution_count": 48,
   "metadata": {
    "collapsed": true
   },
   "outputs": [],
   "source": [
    "# Load saved matrices from file \n",
    "nn3_data = scipy.io.loadmat('./coursera_Ng/machine-learning-ex3/ex3/ex3weights.mat')"
   ]
  },
  {
   "cell_type": "code",
   "execution_count": 53,
   "metadata": {
    "collapsed": false
   },
   "outputs": [
    {
     "name": "stdout",
     "output_type": "stream",
     "text": [
      "['Theta2', '__version__', '__header__', 'Theta1', '__globals__']\n",
      "<type 'numpy.ndarray'>\n",
      "<type 'numpy.ndarray'>\n",
      "(25, 401)\n",
      "(10, 26)\n"
     ]
    }
   ],
   "source": [
    "print( nn3_data.keys() )\n",
    "print( type( nn3_data['Theta1']) )\n",
    "print( type( nn3_data['Theta2']) )\n",
    "print( nn3_data['Theta1'].shape )\n",
    "print( nn3_data['Theta2'].shape )"
   ]
  },
  {
   "cell_type": "code",
   "execution_count": null,
   "metadata": {
    "collapsed": true
   },
   "outputs": [],
   "source": []
  }
 ],
 "metadata": {
  "kernelspec": {
   "display_name": "Python 2",
   "language": "python",
   "name": "python2"
  },
  "language_info": {
   "codemirror_mode": {
    "name": "ipython",
    "version": 2
   },
   "file_extension": ".py",
   "mimetype": "text/x-python",
   "name": "python",
   "nbconvert_exporter": "python",
   "pygments_lexer": "ipython2",
   "version": "2.7.11"
  }
 },
 "nbformat": 4,
 "nbformat_minor": 0
}

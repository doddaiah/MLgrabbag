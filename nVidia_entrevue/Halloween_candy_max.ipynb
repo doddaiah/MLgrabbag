{
 "cells": [
  {
   "cell_type": "code",
   "execution_count": 1,
   "metadata": {
    "collapsed": true
   },
   "outputs": [],
   "source": [
    "import numpy\n",
    "import numpy as np"
   ]
  },
  {
   "cell_type": "markdown",
   "metadata": {},
   "source": [
    "# Sample input data creation"
   ]
  },
  {
   "cell_type": "code",
   "execution_count": 4,
   "metadata": {
    "collapsed": true
   },
   "outputs": [],
   "source": [
    "sample_input_arr = np.array([5,10,2,4,3,2,1],dtype=np.int32)"
   ]
  },
  {
   "cell_type": "code",
   "execution_count": 6,
   "metadata": {
    "collapsed": true
   },
   "outputs": [],
   "source": [
    "f = np.savetxt(\"sample_input.txt\", sample_input_arr,  fmt='%i',delimiter=\"\\n\")"
   ]
  },
  {
   "cell_type": "code",
   "execution_count": 11,
   "metadata": {
    "collapsed": false
   },
   "outputs": [],
   "source": [
    "N_H = 10 # <= 10000\n",
    "C_max = 5 # <= 1000\n",
    "c_low = 0 \n",
    "c_high = 10\n",
    "filename = \"sample_input_1.txt\"\n",
    "homes = np.random.randint(low=c_low,high=c_high, size=N_H)\n",
    "input_arr = np.insert(homes,0,C_max,axis=0)\n",
    "input_arr = np.insert(input_arr,0,N_H,axis=0)"
   ]
  },
  {
   "cell_type": "code",
   "execution_count": 13,
   "metadata": {
    "collapsed": true
   },
   "outputs": [],
   "source": [
    "np.savetxt(filename, input_arr , fmt='%i', delimiter=\"\\n\")"
   ]
  },
  {
   "cell_type": "code",
   "execution_count": 20,
   "metadata": {
    "collapsed": false
   },
   "outputs": [],
   "source": [
    "N_H = 500 # <= 10000\n",
    "C_max = 1000 # <= 1000\n",
    "c_low = 0 \n",
    "c_high = 1000\n",
    "filename = \"sample_input_2.txt\"\n",
    "homes = np.random.randint(low=c_low,high=c_high, size=N_H)\n",
    "input_arr = np.insert(homes,0,C_max,axis=0)\n",
    "input_arr = np.insert(input_arr,0,N_H,axis=0)"
   ]
  },
  {
   "cell_type": "code",
   "execution_count": 21,
   "metadata": {
    "collapsed": true
   },
   "outputs": [],
   "source": [
    "np.savetxt(filename, input_arr , fmt='%i', delimiter=\"\\n\")"
   ]
  },
  {
   "cell_type": "code",
   "execution_count": 95,
   "metadata": {
    "collapsed": true
   },
   "outputs": [],
   "source": [
    "N_H = 8000 # <= 10000\n",
    "C_max = 800 # <= 1000\n",
    "c_low = 0 \n",
    "c_high = 1000\n",
    "filename = \"sample_input_3.txt\"\n",
    "homes = np.random.randint(low=c_low,high=c_high, size=N_H)\n",
    "input_arr1 = np.insert(homes,0,C_max,axis=0)\n",
    "input_arr1 = np.insert(input_arr1,0,N_H,axis=0)"
   ]
  },
  {
   "cell_type": "code",
   "execution_count": 96,
   "metadata": {
    "collapsed": true
   },
   "outputs": [],
   "source": [
    "np.savetxt(filename, input_arr1 , fmt='%i', delimiter=\"\\n\")"
   ]
  },
  {
   "cell_type": "code",
   "execution_count": 99,
   "metadata": {
    "collapsed": true
   },
   "outputs": [],
   "source": [
    "N_H = 8000 # <= 10000\n",
    "C_max = 800 # <= 1000\n",
    "c_low = 0 \n",
    "c_high = 100\n",
    "filename = \"sample_input_4.txt\"\n",
    "homes = np.random.randint(low=c_low,high=c_high, size=N_H)\n",
    "input_arr2 = np.insert(homes,0,C_max,axis=0)\n",
    "input_arr2 = np.insert(input_arr2,0,N_H,axis=0)"
   ]
  },
  {
   "cell_type": "code",
   "execution_count": 100,
   "metadata": {
    "collapsed": true
   },
   "outputs": [],
   "source": [
    "np.savetxt(filename, input_arr2 , fmt='%i', delimiter=\"\\n\")"
   ]
  },
  {
   "cell_type": "markdown",
   "metadata": {},
   "source": [
    "Make an artificial case where we expect to not go to any of the houses (too much candy from each home, as each home gives more than the maximum alloted pieces of candy)"
   ]
  },
  {
   "cell_type": "code",
   "execution_count": 25,
   "metadata": {
    "collapsed": true
   },
   "outputs": [],
   "source": [
    "case0_input_arr = np.arange(10,16)\n",
    "case0_input_arr = np.insert( case0_input_arr,0,case0_input_arr.size-1,axis=0)"
   ]
  },
  {
   "cell_type": "code",
   "execution_count": 27,
   "metadata": {
    "collapsed": true
   },
   "outputs": [],
   "source": [
    "np.savetxt(\"case0_input.txt\", case0_input_arr , fmt='%i', delimiter=\"\\n\")"
   ]
  },
  {
   "cell_type": "markdown",
   "metadata": {},
   "source": [
    "# Mathematical explanation and Python version as sanity check"
   ]
  },
  {
   "cell_type": "markdown",
   "metadata": {},
   "source": [
    "Let $C_{\\text{max}} = $ maximum pieces of candy a child can have (upper bound).  The problem stipulated that $0\\leq C_{\\text{max}} \\leq 1000$.  \n",
    "Let $N_H = $ total number of homes in the 1 neighborhood.  The problem stipulated that $0 < N_H \\leq 10000$.  \n",
    "Thus, there are $N_H$ homes, ordered consecutively; denote a particular home $h$ s.t. $h\\in \\lbrace 1,2,\\dots N_H\\rbrace$.  \n",
    "\n",
    "Let \n",
    "$$\n",
    "\\begin{aligned} & c:\\lbrace 1,2,\\dots N_H \\rbrace \\to \\mathbb{Z}^+ \\\\\n",
    "    & c: h\\mapsto c(h) = \\text{ number of pieces of candy given at home $h$, i.e. $h$th home } \\end{aligned}\n",
    "$$\n",
    "For some $h_0,h_1$, s.t. $1 \\leq h_0 \\leq h_1 \\leq N_H$, define $c_{\\text{tot}}$:  \n",
    "$$ \n",
    "    c_{\\text{tot}} := \\sum_{i=h_0}^{h_1} c(i) = c_{\\text{tot}}(h_0,h_1,c)  \n",
    "$$  \n",
    "i.e. $c_{\\text{tot}} : \\mathbb{Z}^+ \\times \\mathbb{Z}^+  \\times (\\lbrace 1,2,\\dots N_H \\rbrace \\to \\mathbb{Z}^+ ) \\to \\mathbb{Z}^+$.  \n",
    "\n",
    "We want to find \n",
    "$$\n",
    "\\max_{ h_0,h_1} c_{\\text{tot}}(h_0,h_1,c)\n",
    "$$\n",
    "with $1 \\leq h_0 \\leq h_1 \\leq N_H$,  \n",
    "and if there happened to be more than 1 $h_0$ that yields the maximum amount of candy of all possible (consecutive) sequence of homes from $\\lbrace 1,2,\\dots N_H \\rbrace$, then select the lowest numbered first home $h_0$.  This could be denoted (but this prior explanation makes it crystal clear what it means) \n",
    "$$\n",
    "\\min_{h_0} \\max_{h_0,h_1} c_{\\text{tot}}(h_0,h_1,c) \n",
    "$$\n",
    "\n",
    "## Iterative type algorithm  \n",
    "\n",
    "One possible iterative approach could be considered from the following line of thought:  \n",
    "\n",
    "Let (initially) $\\begin{aligned} & h_{\\text{start}} =0 \\\\ & h_{\\text{end}} = 0 \\\\ & c_{\\text{sum}}=0 \\end{aligned}$\n",
    "\n",
    "Then  \n",
    "$\\forall \\, h_0 \\in \\lbrace 1,2, \\dots N_H \\rbrace$, and  \n",
    "$\\phantom{ \\forall \\, } \\forall \\, h_1 \\in \\lbrace h_0, h_0+1 \\dots N_H \\rbrace$,   \n",
    "consider $c_{\\text{tot}}(h_0,h_1,c)$.   \n",
    "If $c_{\\text{tot}}(h_0,h_1,c) > C_{\\text{max}}$, we stop.  \n",
    "\n",
    "If $c_{\\text{tot}}(h_0,h_1,c) = C_{\\text{max}}$ and $c_{\\text{tot}}(h_0,h_1,c) > c_{\\text{sum}}$, then let $c_{\\text{sum}} = c_{\\text{tot}}(h_0,h_1,c)$ and stop, since we want the lowest numbered first home.  Record the $h_0,h_1$ pair of integers where this occurred, in $h_{\\text{start}}, h_{\\text{end}}$.  \n",
    "\n",
    "If $c_{\\text{tot}}(h_0,h_1,c) < C_{\\text{max}}$, and if $c_{\\text{tot}}(h_0,h_1,c) > c_{\\text{sum}}$, then let $c_{\\text{sum}} = c_{\\text{tot}}(h_0,h_1,c)$.  Record the $h_0,h_1$ pair of integers where this occurred, in $h_{\\text{start}}, h_{\\text{end}}$.   We continue.  \n",
    "\n"
   ]
  },
  {
   "cell_type": "code",
   "execution_count": 59,
   "metadata": {
    "collapsed": false
   },
   "outputs": [],
   "source": [
    "def main_loop_draft(input_arr):\n",
    "    N_H   = input_arr[0]\n",
    "    C_max = input_arr[1] \n",
    "    homes_arr = input_arr[2:]\n",
    "    \n",
    "    result = np.zeros(3,dtype=int)\n",
    "    \n",
    "    for h_0 in range(1, N_H +1):        \n",
    "        for h_1 in range(h_0, N_H +1):\n",
    "            c_sum = homes_arr[h_0-1:h_1].sum() # be aware of 0-based counting, i.e. counting from 0, of Python and C/C++\n",
    "            if (c_sum > C_max): \n",
    "                break\n",
    "            elif (c_sum == C_max): # obtained (abs.) max. pieces of candy allowed\n",
    "                if (c_sum > result[2]):\n",
    "                    result[0] = h_0\n",
    "                    result[1] = h_1\n",
    "                    result[2] = c_sum\n",
    "                    break;\n",
    "            elif (c_sum < C_max):\n",
    "                if (c_sum > result[2]):\n",
    "                    result[0] = h_0\n",
    "                    result[1] = h_1\n",
    "                    result[2] = c_sum\n",
    "        if (result[2] == C_max): # obtained both (abs.) max pieces of candy allowed and lowest numbered 1st home\n",
    "            break  \n",
    "    return result"
   ]
  },
  {
   "cell_type": "markdown",
   "metadata": {},
   "source": [
    "We really shouldn't need to do the summation each time.  Indeed, notice the relationship: \n",
    "$$  \n",
    "c_{\\text{tot}}(h_0,h_1,c) = c_{\\text{tot}}(h_0,h_1-1,c) + c(h_1)  \n",
    "$$  \n",
    "so that $\\forall \\, h_0$, keep a \"running sum\" for the $c$'s.  \n",
    "\n",
    "So we have function `main_loop`, a serial implementation in Python.  "
   ]
  },
  {
   "cell_type": "code",
   "execution_count": 90,
   "metadata": {
    "collapsed": true
   },
   "outputs": [],
   "source": [
    "def main_loop(input_arr):\n",
    "    N_H   = input_arr[0]\n",
    "    C_max = input_arr[1] \n",
    "    homes_arr = input_arr[2:]\n",
    "    \n",
    "    result = np.zeros(3,dtype=int)\n",
    "    \n",
    "    for h_0 in range(1, N_H +1):        \n",
    "        c_sum = homes_arr[h_0-1] # be aware of 0-based counting, i.e. counting from 0, of Python and C/C++\n",
    "        if (c_sum > C_max): \n",
    "            continue\n",
    "        elif (c_sum == C_max): # obtained (abs.) max. pieces of candy allowed\n",
    "            if (c_sum > result[2]):\n",
    "                result[0] = h_0\n",
    "                result[1] = h_0\n",
    "                result[2] = c_sum\n",
    "                break\n",
    "        elif (c_sum < C_max):\n",
    "            if (c_sum > result[2]):\n",
    "                result[0] = h_0\n",
    "                result[1] = h_0\n",
    "                result[2] = c_sum\n",
    "        \n",
    "            for h_1 in range(h_0+1, N_H +1):\n",
    "                c_sum += homes_arr[h_1-1]\n",
    "                if (c_sum > C_max): \n",
    "                    break\n",
    "                elif (c_sum == C_max): # obtained (abs.) max. pieces of candy allowed\n",
    "                    if (c_sum > result[2]):\n",
    "                        result[0] = h_0\n",
    "                        result[1] = h_1\n",
    "                        result[2] = c_sum\n",
    "                        break\n",
    "                elif (c_sum < C_max):\n",
    "                    if (c_sum > result[2]):\n",
    "                        result[0] = h_0\n",
    "                        result[1] = h_1\n",
    "                        result[2] = c_sum\n",
    "        if (result[2] == C_max): # obtained both (abs.) max pieces of candy allowed and lowest numbered 1st home\n",
    "            break  \n",
    "    return result"
   ]
  },
  {
   "cell_type": "code",
   "execution_count": 91,
   "metadata": {
    "collapsed": false
   },
   "outputs": [],
   "source": [
    "result_example = main_loop(input_arr)"
   ]
  },
  {
   "cell_type": "code",
   "execution_count": 92,
   "metadata": {
    "collapsed": false
   },
   "outputs": [
    {
     "name": "stdout",
     "output_type": "stream",
     "text": [
      "(array([ 351,  353, 1000]), array([ 46, 801, 153]))\n"
     ]
    }
   ],
   "source": [
    "print(result_example, input_arr[2:][result_example[0]-1:result_example[1]] )"
   ]
  },
  {
   "cell_type": "code",
   "execution_count": 97,
   "metadata": {
    "collapsed": false
   },
   "outputs": [
    {
     "name": "stdout",
     "output_type": "stream",
     "text": [
      "CPU times: user 92.5 ms, sys: 0 ns, total: 92.5 ms\n",
      "Wall time: 83.7 ms\n"
     ]
    }
   ],
   "source": [
    "%time result_example1 = main_loop(input_arr1)"
   ]
  },
  {
   "cell_type": "code",
   "execution_count": 98,
   "metadata": {
    "collapsed": false
   },
   "outputs": [
    {
     "name": "stdout",
     "output_type": "stream",
     "text": [
      "(array([883, 884, 800]), array([249, 551]))\n"
     ]
    }
   ],
   "source": [
    "print(result_example1, input_arr1[2:][result_example1[0]-1:result_example1[1]] )"
   ]
  },
  {
   "cell_type": "code",
   "execution_count": 101,
   "metadata": {
    "collapsed": false
   },
   "outputs": [
    {
     "name": "stdout",
     "output_type": "stream",
     "text": [
      "CPU times: user 4.8 ms, sys: 1.84 ms, total: 6.64 ms\n",
      "Wall time: 5.89 ms\n"
     ]
    }
   ],
   "source": [
    "%time result_example2 = main_loop(input_arr2)"
   ]
  },
  {
   "cell_type": "code",
   "execution_count": 102,
   "metadata": {
    "collapsed": false
   },
   "outputs": [
    {
     "name": "stdout",
     "output_type": "stream",
     "text": [
      "(array([ 32,  50, 800]), array([54,  1, 15, 21, 82, 61, 69, 44, 75, 27, 14, 72, 94, 46, 10,  9, 37,\n",
      "       11, 58]))\n"
     ]
    }
   ],
   "source": [
    "print(result_example2, input_arr2[2:][result_example2[0]-1:result_example2[1]] )"
   ]
  },
  {
   "cell_type": "code",
   "execution_count": null,
   "metadata": {
    "collapsed": true
   },
   "outputs": [],
   "source": []
  }
 ],
 "metadata": {
  "kernelspec": {
   "display_name": "Python 2",
   "language": "python",
   "name": "python2"
  },
  "language_info": {
   "codemirror_mode": {
    "name": "ipython",
    "version": 2
   },
   "file_extension": ".py",
   "mimetype": "text/x-python",
   "name": "python",
   "nbconvert_exporter": "python",
   "pygments_lexer": "ipython2",
   "version": "2.7.11"
  }
 },
 "nbformat": 4,
 "nbformat_minor": 0
}

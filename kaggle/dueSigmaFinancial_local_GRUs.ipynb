{
 "cells": [
  {
   "cell_type": "code",
   "execution_count": 1,
   "metadata": {
    "collapsed": true
   },
   "outputs": [],
   "source": [
    "%matplotlib inline"
   ]
  },
  {
   "cell_type": "code",
   "execution_count": 2,
   "metadata": {
    "collapsed": false
   },
   "outputs": [
    {
     "name": "stdout",
     "output_type": "stream",
     "text": [
      "/home/topolo/PropD/MLgrabbag/kaggle\n",
      "['stage1.7z.part', 'LSTM_model201702271930.save', 'cleaning_dueSigmaFin.pyc', 'LSTM_model201702280608.save', '.ipynb_checkpoints', 'dueSigmaFinancial_kaggle.py', 'LSTM_model.save', 'LSTM_model201703012346.save', 'glass-classification.zip', 'DatSciBow2017_FullPreprocessTutorial.ipynb', 'LSTM_model201702282350.save', 'GRU_model201703022010.save', 'DueSigmaFin_runs.ipynb', 'dueSigmaFinancial_local.ipynb', 'GRU_model201703012348.save', 'GRU_model201703021741.save', 'kaggle.ipynb', 'glass.csv', 'train.h5.zip', '__init__.py', 'train.h5', 'stage1.torrent', 'dueSigmaFinancial_local_GRUs.ipynb', 'cleaning_dueSigmaFin.py']\n"
     ]
    }
   ],
   "source": [
    "from collections import namedtuple\n",
    "import os, sys\n",
    "print( os.getcwd() )\n",
    "print( os.listdir( os.getcwd() ) )\n",
    "import time"
   ]
  },
  {
   "cell_type": "code",
   "execution_count": 3,
   "metadata": {
    "collapsed": true
   },
   "outputs": [],
   "source": [
    "import matplotlib.pyplot as plt\n",
    "import pandas as pd\n",
    "import numpy as np\n",
    "from six.moves import cPickle"
   ]
  },
  {
   "cell_type": "code",
   "execution_count": 4,
   "metadata": {
    "collapsed": false
   },
   "outputs": [
    {
     "name": "stderr",
     "output_type": "stream",
     "text": [
      "WARNING (theano.sandbox.cuda): The cuda backend is deprecated and will be removed in the next release (v0.10).  Please switch to the gpuarray backend. You can get more information about how to switch at this URL:\n",
      " https://github.com/Theano/Theano/wiki/Converting-to-the-new-gpu-back-end%28gpuarray%29\n",
      "\n",
      "Using gpu device 0: GeForce GTX 980 Ti (CNMeM is enabled with initial size: 40.0% of memory, cuDNN 5105)\n"
     ]
    }
   ],
   "source": [
    "import theano"
   ]
  },
  {
   "cell_type": "code",
   "execution_count": 5,
   "metadata": {
    "collapsed": true
   },
   "outputs": [],
   "source": [
    "from theano import function, config, sandbox, shared \n",
    "import theano.tensor as T"
   ]
  },
  {
   "cell_type": "code",
   "execution_count": 6,
   "metadata": {
    "collapsed": false
   },
   "outputs": [
    {
     "name": "stdout",
     "output_type": "stream",
     "text": [
      "gpu0\n",
      "0.4\n",
      "True\n"
     ]
    }
   ],
   "source": [
    "print( theano.config.device )\n",
    "print( theano.config.lib.cnmem)  # cf. http://deeplearning.net/software/theano/library/config.html\n",
    "print( theano.config.print_active_device)# Print active device at when the GPU device is initialized."
   ]
  },
  {
   "cell_type": "code",
   "execution_count": 7,
   "metadata": {
    "collapsed": false
   },
   "outputs": [
    {
     "name": "stdout",
     "output_type": "stream",
     "text": [
      "False\n",
      "\n"
     ]
    }
   ],
   "source": [
    "print(theano.config.allow_gc)\n",
    "print(theano.config.optimizer_excluding)"
   ]
  },
  {
   "cell_type": "code",
   "execution_count": 8,
   "metadata": {
    "collapsed": true
   },
   "outputs": [],
   "source": [
    "sys.path.append( '../ML' )"
   ]
  },
  {
   "cell_type": "code",
   "execution_count": 9,
   "metadata": {
    "collapsed": true
   },
   "outputs": [],
   "source": [
    "from GRUs_Right import *"
   ]
  },
  {
   "cell_type": "code",
   "execution_count": 10,
   "metadata": {
    "collapsed": true
   },
   "outputs": [],
   "source": [
    "timeseries_pd = pd.read_hdf( 'train.h5')"
   ]
  },
  {
   "cell_type": "code",
   "execution_count": 28,
   "metadata": {
    "collapsed": true
   },
   "outputs": [],
   "source": [
    "import cleaning_dueSigmaFin\n",
    "from cleaning_dueSigmaFin import clean_tseries, clean_test, id_only, split_tseries,y_only, calc_R, calc_Pearson_R"
   ]
  },
  {
   "cell_type": "code",
   "execution_count": 12,
   "metadata": {
    "collapsed": true
   },
   "outputs": [],
   "source": [
    "train_to_all = 0.85 \n",
    "T_0 = 906 # timestamp to stop at\n",
    "num_valid = 100 # how many time steps to validate on # 10\n",
    "obs_train = timeseries_pd[timeseries_pd[\"timestamp\"]<int(T_0*train_to_all)]  # kaggle call these \"observation\"\n"
   ]
  },
  {
   "cell_type": "code",
   "execution_count": 13,
   "metadata": {
    "collapsed": true
   },
   "outputs": [],
   "source": [
    "# clean training data\n",
    "cleaned_obs_train = clean_tseries( obs_train)\n",
    "obs_valid = timeseries_pd[\n",
    "    (timeseries_pd['timestamp']>=int(T_0*train_to_all)) & (timeseries_pd['timestamp']<int(T_0*(train_to_all)+num_valid))]\n",
    "cleaned_obs_valid = clean_tseries( obs_valid)"
   ]
  },
  {
   "cell_type": "code",
   "execution_count": 14,
   "metadata": {
    "collapsed": true
   },
   "outputs": [],
   "source": [
    "# this is for a second try, with smaller number of layers\n",
    "L = Gates(z=2,r=2,h=2,y=3)\n",
    "n_in = 110 # s1\n",
    "H = 110\n",
    "s_2 = 50\n",
    "\n",
    "s_l = Gates(z=[n_in,H],r=[n_in,H],h=[H,H],y=[H,s_2,1])\n",
    "\n",
    "activations=Psis(z=(T.nnet.sigmoid,T.nnet.sigmoid),r=(T.nnet.sigmoid,T.nnet.sigmoid),h=(T.tanh,T.tanh),\n",
    "                 y=(T.nnet.sigmoid,None))"
   ]
  },
  {
   "cell_type": "code",
   "execution_count": 15,
   "metadata": {
    "collapsed": true
   },
   "outputs": [],
   "source": [
    "lambda_learn =0.0000002  # regularization for cost function # 0.01 # 0.0000001\n",
    "alpha_reg = 0.000001 # learning rate # 0.00001 \n",
    "beta_mom = 0.000000001 # momentum constant, old \"Mo\" (it's an inside joke) # 0.001 # 0.000000001"
   ]
  },
  {
   "cell_type": "code",
   "execution_count": 16,
   "metadata": {
    "collapsed": false
   },
   "outputs": [
    {
     "name": "stdout",
     "output_type": "stream",
     "text": [
      "Total number of parameters: 11 \n",
      "Total number of parameters: 11 \n"
     ]
    },
    {
     "data": {
      "text/plain": [
       "GpuFromHost.0"
      ]
     },
     "execution_count": 16,
     "metadata": {},
     "output_type": "execute_result"
    }
   ],
   "source": [
    "# for the L2 norm\n",
    "GRU_model=GRU_MUT001_right(L,s_l,H,1,activations )\n",
    "Memblck = MemoryBlock_right(H, GRU_model)\n",
    "Memblck.build_scan_over_t()\n",
    "Memblck.build_J_L2norm(lambda_learn)  # inputted value, lambda_val, is the learning rate"
   ]
  },
  {
   "cell_type": "code",
   "execution_count": 17,
   "metadata": {
    "collapsed": false
   },
   "outputs": [
    {
     "name": "stdout",
     "output_type": "stream",
     "text": [
      "Total number of parameters: 11 \n"
     ]
    }
   ],
   "source": [
    "# be aware that this step may take more than a few seconds\n",
    "Memblck.build_update(alpha=alpha_reg,beta=beta_mom)"
   ]
  },
  {
   "cell_type": "code",
   "execution_count": 25,
   "metadata": {
    "collapsed": false
   },
   "outputs": [
    {
     "name": "stdout",
     "output_type": "stream",
     "text": [
      "theano.config.allow_gc =:  False\n",
      "CPU times: user 18min 11s, sys: 2min 45s, total: 20min 56s\n",
      "Wall time: 20min 56s\n"
     ]
    }
   ],
   "source": [
    "MAX_ITERS = 10 # 10\n",
    "%time results_cost = Memblck.train_model_full( cleaned_obs_train, MAX_ITERS ) # 2 # 50, # theano.config.allow_gc =:  False\n",
    "#CPU times: user 1h 16min 38s, sys: 23min 7s, total: 1h 39min 46s\n",
    "#Wall time: 1h 39min 44s\n",
    "# 150 CPU times: user 4h 31min 58s, sys: 29min 30s, total: 5h 1min 29s\n",
    "# Wall time: 5h 1min 21s\n",
    "# MAX_ITERS=50  CPU times: user 1h 31min 57s, sys: 11min 6s, total: 1h 43min 3s\n",
    "# Wall time: 1h 43min 1s\n",
    "# cnmem=0.4, MAX_ITERS=10 CPU times: user 18min 11s, sys: 2min 45s, total: 20min 56s  Wall time: 20min 56s\n"
   ]
  },
  {
   "cell_type": "code",
   "execution_count": 42,
   "metadata": {
    "collapsed": false
   },
   "outputs": [
    {
     "name": "stdout",
     "output_type": "stream",
     "text": [
      "theano.config.allow_gc =:  False\n",
      "CPU times: user 4h 2min 1s, sys: 38min 31s, total: 4h 40min 32s\n",
      "Wall time: 4h 40min 26s\n"
     ]
    }
   ],
   "source": [
    "MAX_ITERS = 100 # MAX_ITERS=100 CPU times: user 3h 59min 33s, sys: 35min 34s, total: 4h 35min 7s; CPU times: user 4h 2min 1s, sys: 38min 31s, total: 4h 40min 32s\n",
    "%time results_cost = Memblck.train_model_full( cleaned_obs_train, MAX_ITERS ) # MAX_ITERS=2 CPU times: user 4min 40s, sys: 41.2 s, total: 5min 21s\n",
    "# MAX_ITERS=100 CPU times: user 4h 2min 1s, sys: 38min 31s, total: 4h 40min 32s"
   ]
  },
  {
   "cell_type": "code",
   "execution_count": 31,
   "metadata": {
    "collapsed": false
   },
   "outputs": [
    {
     "data": {
      "text/plain": [
       "array([ 76.00975371,  75.74841108,  75.49209556,  75.24054598,\n",
       "        74.9934125 ,  74.75049671,  74.51153713,  74.27631294,\n",
       "        74.04469443,  73.81647502,  73.59152924,  73.36974094,\n",
       "        73.1510009 ,  72.93522567,  72.72235127,  72.51226596,\n",
       "        72.30488643,  72.10011468,  71.89789904,  71.69810825,\n",
       "        71.50072718,  71.30574825,  71.11314285,  70.92284609,\n",
       "        70.73476145,  70.54886158,  70.36506623,  70.18336344,\n",
       "        70.00373211,  69.82611257,  69.65048223,  69.47679553,\n",
       "        69.3050498 ,  69.13522202,  68.967239  ,  68.8010506 ,\n",
       "        68.63662915,  68.47392935,  68.31295128,  68.15366334,\n",
       "        67.99603153,  67.84004894,  67.68571973,  67.53296597,\n",
       "        67.38176911,  67.23208419,  67.08387476,  66.93718501,\n",
       "        66.79197773,  66.64821152,  66.50584632,  66.36484665,\n",
       "        66.22519162,  66.08689091,  65.94993202,  65.81429283,\n",
       "        65.67994089,  65.5468432 ,  65.41496488,  65.28433098,\n",
       "        65.15490491,  65.02669865,  64.89968294,  64.77380289,\n",
       "        64.64906341,  64.52544371,  64.40293073,  64.28152864,\n",
       "        64.16124458,  64.04201883,  63.92382911,  63.80665092,\n",
       "        63.69049266,  63.57533455,  63.46117029,  63.34794972,\n",
       "        63.23567585,  63.124378  ,  63.01404423,  62.90462898,\n",
       "        62.79611763,  62.68849002,  62.58173567,  62.47584523,\n",
       "        62.37078568,  62.26658024,  62.16320748,  62.06067426,\n",
       "        61.95896875,  61.85808929,  61.75801156,  61.65870387,\n",
       "        61.56016703,  61.46239121,  61.36536782,  61.26907724,\n",
       "        61.17350798,  61.07866918,  60.98456428,  60.89116011])"
      ]
     },
     "execution_count": 31,
     "metadata": {},
     "output_type": "execute_result"
    }
   ],
   "source": [
    "#print(len(results_cost));print(len(results_cost[0]));print(type(results_cost[0][0]));\n",
    "#print(dir(results_cost[0][0])); np.array( results_cost[0][0] ) + 0. \n",
    "# cast a CudaNdarray as a numpy array as usual to get data back from the GPU\n",
    "#2\n",
    "#1047\n",
    "#<type 'CudaNdarray'>\n",
    "#['__add__', '__array__', '__class__', '__copy__', '__deepcopy__', '__delattr__', '__delitem__', '__doc__', '__format__', '__getattribute__', '__getitem__', '__hash__', '__iadd__', '__idiv__', '__init__', '__itruediv__', '__len__', '__new__', '__radd__', '__reduce__', '__reduce_ex__', '__repr__', '__setattr__', '__setitem__', '__sizeof__', '__str__', '__subclasshook__', '_dev_data', '_set_shape_i', '_set_stride', '_strides', 'base', 'copy', 'dtype', 'exp', 'gpudata', 'is_c_contiguous', 'mem_size', 'ndim', 'reduce_sum', 'reshape', 'shape', 'size', 'strides', 'take', 'view', 'zeros']\n",
    "#7.6817378997802734\n",
    "results_cost # array([ 2392.01805741,  2026.30881399,  1718.79077414,  1460.21671918,\n",
    "#        1242.77239746,  1059.89497049,   906.07414965,   776.67492714,\n",
    " #        667.8074246 ,   576.19623596])\n",
    "#    array([ 499.09311096,  434.19197716,  379.55148638,  333.53831519,\n",
    " #       294.77457814,  262.10549985,  234.56227435,  211.331933  ,\n",
    "  #      191.72780603,  175.17298945,  161.18276756,  149.35165075,\n",
    "   #     139.33629566,  130.84899801,  123.64665813,  117.52760176,\n",
    "    #    112.32031585,  107.88055044,  104.08750449,  100.83924748,\n",
    "     #    98.05002079,   95.64768349,   93.57117918,   91.76981368,\n",
    "      #   90.20068056,   88.82773009,   87.62072169,   86.55424258,\n",
    "       #  85.60652637,   84.7592262 ,   83.9971908 ,   83.30755471,\n",
    "        # 82.67956948,   82.104293  ,   81.5739191 ,   81.08202097,\n",
    "         #80.62313188,   80.19265432,   79.78657391,   79.40169733,\n",
    "         #79.03528562,   78.68498599,   78.34873173,   78.02491135,\n",
    "         #77.71211131,   77.40903791,   77.11481158,   76.82847728,\n",
    "         #76.5492742 ,   76.27653115])"
   ]
  },
  {
   "cell_type": "code",
   "execution_count": 21,
   "metadata": {
    "collapsed": false
   },
   "outputs": [
    {
     "data": {
      "text/plain": [
       "array([ 208.68999271,  196.17384224,  184.51532601,  173.65364589,\n",
       "        163.535571  ,  154.10933666,  145.3276792 ,  137.14510178,\n",
       "        129.52184793,  122.41859483,  115.80043555,  109.63317656,\n",
       "        103.88645048,   98.53125428,   93.5405834 ,   88.88907005,\n",
       "         84.55365502,   80.51235897,   76.74450211,   73.23163303,\n",
       "         69.95670609,   66.90267833,   64.05488925,   61.40001843,\n",
       "         58.92394299,   56.6144753 ,   54.46057633,   52.45162899,\n",
       "         50.57754368,   48.82979661,   47.19936025,   45.67855332,\n",
       "         44.25959137,   42.93566738,   41.70026356,   40.54712033,\n",
       "         39.47109725,   38.46691792,   37.52977408,   36.65496045,\n",
       "         35.83851088,   35.07592645,   34.3639231 ,   33.69898058,\n",
       "         33.07800723,   32.49809263,   31.95625958,   31.45031453,\n",
       "         30.97766785,   30.53601499,   30.12338186,   29.73778768,\n",
       "         29.37733613,   29.04032971,   28.72522689,   28.43077564,\n",
       "         28.1553002 ,   27.89753963,   27.6565584 ,   27.43106991,\n",
       "         27.21996023,   27.02237734,   26.83731713,   26.66399114,\n",
       "         26.50159786,   26.34939434,   26.2068533 ,   26.07326921,\n",
       "         25.94798387,   25.83032984,   25.71989743,   25.6162427 ,\n",
       "         25.51897941,   25.42764717,   25.34183084,   25.26115134,\n",
       "         25.18532261,   25.11392905,   25.04664122,   24.9832045 ,\n",
       "         24.92338414,   24.8669154 ,   24.81364254,   24.76332766,\n",
       "         24.715821  ,   24.67092254,   24.62845275,   24.58823119,\n",
       "         24.55009473,   24.51388736,   24.4795161 ,   24.44683354,\n",
       "         24.415719  ,   24.38608173,   24.35781712,   24.33085875,\n",
       "         24.30510391,   24.28048126,   24.25691543,   24.23433368])"
      ]
     },
     "execution_count": 21,
     "metadata": {},
     "output_type": "execute_result"
    }
   ],
   "source": [
    "results_cost"
   ]
  },
  {
   "cell_type": "code",
   "execution_count": 85,
   "metadata": {
    "collapsed": false
   },
   "outputs": [
    {
     "data": {
      "text/plain": [
       "[<matplotlib.lines.Line2D at 0x7f1d31423390>]"
      ]
     },
     "execution_count": 85,
     "metadata": {},
     "output_type": "execute_result"
    },
    {
     "data": {
      "image/png": "[encoded data removed]",
      "text/plain": [
       "<matplotlib.figure.Figure at 0x7f1d30f76fd0>"
      ]
     },
     "metadata": {},
     "output_type": "display_data"
    }
   ],
   "source": [
    "plt.plot(results_cost)"
   ]
  },
  {
   "cell_type": "code",
   "execution_count": 19,
   "metadata": {
    "collapsed": false
   },
   "outputs": [
    {
     "ename": "AttributeError",
     "evalue": "'CudaNdarraySharedVariable' object has no attribute 'view'",
     "output_type": "error",
     "traceback": [
      "\u001b[1;31m---------------------------------------------------------------------------\u001b[0m",
      "\u001b[1;31mAttributeError\u001b[0m                            Traceback (most recent call last)",
      "\u001b[1;32m<ipython-input-19-e23933aae0ef>\u001b[0m in \u001b[0;36m<module>\u001b[1;34m()\u001b[0m\n\u001b[0;32m      1\u001b[0m \u001b[0mdir\u001b[0m\u001b[1;33m(\u001b[0m \u001b[0mtheano\u001b[0m\u001b[1;33m.\u001b[0m\u001b[0mshared\u001b[0m\u001b[1;33m(\u001b[0m \u001b[0mnp\u001b[0m\u001b[1;33m.\u001b[0m\u001b[0marray\u001b[0m\u001b[1;33m(\u001b[0m\u001b[0mrange\u001b[0m\u001b[1;33m(\u001b[0m\u001b[1;36m6\u001b[0m\u001b[1;33m)\u001b[0m\u001b[1;33m)\u001b[0m\u001b[1;33m.\u001b[0m\u001b[0mreshape\u001b[0m\u001b[1;33m(\u001b[0m\u001b[1;33m(\u001b[0m\u001b[1;36m3\u001b[0m\u001b[1;33m,\u001b[0m\u001b[1;36m2\u001b[0m\u001b[1;33m)\u001b[0m\u001b[1;33m)\u001b[0m\u001b[1;33m.\u001b[0m\u001b[0mastype\u001b[0m\u001b[1;33m(\u001b[0m\u001b[0mtheano\u001b[0m\u001b[1;33m.\u001b[0m\u001b[0mconfig\u001b[0m\u001b[1;33m.\u001b[0m\u001b[0mfloatX\u001b[0m\u001b[1;33m)\u001b[0m\u001b[1;33m)\u001b[0m \u001b[1;33m)\u001b[0m\u001b[1;33m\u001b[0m\u001b[0m\n\u001b[1;32m----> 2\u001b[1;33m \u001b[0mtheano\u001b[0m\u001b[1;33m.\u001b[0m\u001b[0mshared\u001b[0m\u001b[1;33m(\u001b[0m \u001b[0mnp\u001b[0m\u001b[1;33m.\u001b[0m\u001b[0marray\u001b[0m\u001b[1;33m(\u001b[0m\u001b[0mrange\u001b[0m\u001b[1;33m(\u001b[0m\u001b[1;36m6\u001b[0m\u001b[1;33m)\u001b[0m\u001b[1;33m)\u001b[0m\u001b[1;33m.\u001b[0m\u001b[0mreshape\u001b[0m\u001b[1;33m(\u001b[0m\u001b[1;33m(\u001b[0m\u001b[1;36m3\u001b[0m\u001b[1;33m,\u001b[0m\u001b[1;36m2\u001b[0m\u001b[1;33m)\u001b[0m\u001b[1;33m)\u001b[0m\u001b[1;33m.\u001b[0m\u001b[0mastype\u001b[0m\u001b[1;33m(\u001b[0m\u001b[0mtheano\u001b[0m\u001b[1;33m.\u001b[0m\u001b[0mconfig\u001b[0m\u001b[1;33m.\u001b[0m\u001b[0mfloatX\u001b[0m\u001b[1;33m)\u001b[0m\u001b[1;33m)\u001b[0m\u001b[1;33m.\u001b[0m\u001b[0mview\u001b[0m\u001b[1;33m(\u001b[0m\u001b[1;33m)\u001b[0m\u001b[1;33m\u001b[0m\u001b[0m\n\u001b[0m",
      "\u001b[1;31mAttributeError\u001b[0m: 'CudaNdarraySharedVariable' object has no attribute 'view'"
     ]
    }
   ],
   "source": [
    "dir( theano.shared( np.array(range(6)).reshape((3,2)).astype(theano.config.floatX)) )\n",
    "theano.shared( np.array(range(6)).reshape((3,2)).astype(theano.config.floatX)).view()"
   ]
  },
  {
   "cell_type": "code",
   "execution_count": 26,
   "metadata": {
    "collapsed": false
   },
   "outputs": [],
   "source": [
    "A=T.matrix(dtype=theano.config.floatX)\n",
    "B=T.matrix(dtype=theano.config.floatX)\n",
    "feg = theano.function([A,B],sandbox.cuda.basic_ops.gpu_from_host(T.dot(A,B)) )\n",
    "C=feg(np.array(range(6)).reshape((3,2)).astype(theano.config.floatX),\n",
    "      np.array(range(4,10)).reshape((2,3)).astype(theano.config.floatX) )"
   ]
  },
  {
   "cell_type": "code",
   "execution_count": 30,
   "metadata": {
    "collapsed": false
   },
   "outputs": [
    {
     "name": "stdout",
     "output_type": "stream",
     "text": [
      "<type 'CudaNdarray'>\n",
      "<type 'builtin_function_or_method'>\n",
      "<type 'CudaNdarray'>\n"
     ]
    }
   ],
   "source": [
    "print(type(C));dir(C);print(type(C.view));print(type(C.view()))"
   ]
  },
  {
   "cell_type": "code",
   "execution_count": 20,
   "metadata": {
    "collapsed": false
   },
   "outputs": [
    {
     "data": {
      "text/plain": [
       "(10, 110)"
      ]
     },
     "execution_count": 20,
     "metadata": {},
     "output_type": "execute_result"
    }
   ],
   "source": [
    "cleaned_obs_valid[0][0].shape"
   ]
  },
  {
   "cell_type": "code",
   "execution_count": 54,
   "metadata": {
    "collapsed": false
   },
   "outputs": [
    {
     "name": "stdout",
     "output_type": "stream",
     "text": [
      "CPU times: user 4min 51s, sys: 7.86 s, total: 4min 58s\n",
      "Wall time: 4min 58s\n"
     ]
    }
   ],
   "source": [
    "# valid_predictions = Memblck.predict_on_lst( cleaned_obs_valid,verbose=False)\n",
    "%time valid_predictions = Memblck.predict_on_lst_givens( cleaned_obs_valid,verbose=False)"
   ]
  },
  {
   "cell_type": "code",
   "execution_count": 24,
   "metadata": {
    "collapsed": false
   },
   "outputs": [],
   "source": [
    "X_cleaned_obs_valid,y_cleaned_obs_valid=split_tseries(cleaned_obs_valid)"
   ]
  },
  {
   "cell_type": "code",
   "execution_count": 55,
   "metadata": {
    "collapsed": true
   },
   "outputs": [],
   "source": [
    "valid_predictions_np = [np.array(arr) for arr in valid_predictions]"
   ]
  },
  {
   "cell_type": "code",
   "execution_count": 86,
   "metadata": {
    "collapsed": false
   },
   "outputs": [
    {
     "name": "stdout",
     "output_type": "stream",
     "text": [
      "-18.1848033605\n"
     ]
    }
   ],
   "source": [
    "#R_valid = calc_R(valid_predictions,y_cleaned_obs_valid)\n",
    "R_valid = calc_R(valid_predictions_np,y_cleaned_obs_valid)\n",
    "print(R_valid) # -37.9900914576, -35.089626; # -19.7438594245 # -19.3266766405 -19.01511991 -18.8868142933"
   ]
  },
  {
   "cell_type": "code",
   "execution_count": 87,
   "metadata": {
    "collapsed": false
   },
   "outputs": [],
   "source": [
    "PearsonR_valid = calc_Pearson_R(valid_predictions_np,y_cleaned_obs_valid)"
   ]
  },
  {
   "cell_type": "code",
   "execution_count": 88,
   "metadata": {
    "collapsed": false
   },
   "outputs": [
    {
     "data": {
      "text/plain": [
       "136.25999"
      ]
     },
     "execution_count": 88,
     "metadata": {},
     "output_type": "execute_result"
    }
   ],
   "source": [
    "PearsonR_valid"
   ]
  },
  {
   "cell_type": "code",
   "execution_count": 35,
   "metadata": {
    "collapsed": false
   },
   "outputs": [
    {
     "name": "stdout",
     "output_type": "stream",
     "text": [
      "150.027\n"
     ]
    }
   ],
   "source": [
    "print(calc_R_each(valid_predictions_np,y_cleaned_obs_valid) )"
   ]
  },
  {
   "cell_type": "code",
   "execution_count": 89,
   "metadata": {
    "collapsed": false
   },
   "outputs": [
    {
     "data": {
      "text/plain": [
       "'20170305070903'"
      ]
     },
     "execution_count": 89,
     "metadata": {},
     "output_type": "execute_result"
    }
   ],
   "source": [
    "time.strftime( \"%Y%m%d%H%M%S\",time.gmtime())"
   ]
  },
  {
   "cell_type": "code",
   "execution_count": 90,
   "metadata": {
    "collapsed": false
   },
   "outputs": [
    {
     "name": "stdout",
     "output_type": "stream",
     "text": [
      "Total number of parameters: 11 \n"
     ]
    }
   ],
   "source": [
    "f = open('GRU_model'+time.strftime('%Y%m%d%H%M',time.gmtime())+'.save' ,'wb')\n",
    "for param in Memblck.__get_state__():\n",
    "    cPickle.dump( param, f, protocol=cPickle.HIGHEST_PROTOCOL)\n",
    "f.close()"
   ]
  },
  {
   "cell_type": "markdown",
   "metadata": {},
   "source": [
    "### Load a saved model, load its parameters"
   ]
  },
  {
   "cell_type": "code",
   "execution_count": 18,
   "metadata": {
    "collapsed": false
   },
   "outputs": [
    {
     "name": "stdout",
     "output_type": "stream",
     "text": [
      "['stage1.7z.part', 'LSTM_model201702271930.save', 'cleaning_dueSigmaFin.pyc', 'LSTM_model201702280608.save', '.ipynb_checkpoints', 'dueSigmaFinancial_kaggle.py', 'LSTM_model.save', 'LSTM_model201703012346.save', 'glass-classification.zip', 'DatSciBow2017_FullPreprocessTutorial.ipynb', 'LSTM_model201702282350.save', 'GRU_model201703022010.save', 'DueSigmaFin_runs.ipynb', 'dueSigmaFinancial_local.ipynb', 'GRU_model201703012348.save', 'GRU_model201703021741.save', 'kaggle.ipynb', 'glass.csv', 'train.h5.zip', '__init__.py', 'train.h5', 'stage1.torrent', 'dueSigmaFinancial_local_GRUs.ipynb', 'cleaning_dueSigmaFin.py']\n"
     ]
    }
   ],
   "source": [
    "print( os.listdir( os.getcwd() ) )\n"
   ]
  },
  {
   "cell_type": "code",
   "execution_count": 20,
   "metadata": {
    "collapsed": false
   },
   "outputs": [
    {
     "name": "stdout",
     "output_type": "stream",
     "text": [
      "Total number of parameters: 11 \n"
     ]
    },
    {
     "ename": "EOFError",
     "evalue": "",
     "output_type": "error",
     "traceback": [
      "\u001b[1;31m---------------------------------------------------------------------------\u001b[0m",
      "\u001b[1;31mEOFError\u001b[0m                                  Traceback (most recent call last)",
      "\u001b[1;32m<ipython-input-20-62e2e50c08f8>\u001b[0m in \u001b[0;36m<module>\u001b[1;34m()\u001b[0m\n\u001b[0;32m      4\u001b[0m \u001b[0mloaded_param\u001b[0m \u001b[1;33m=\u001b[0m \u001b[1;33m[\u001b[0m\u001b[1;33m]\u001b[0m\u001b[1;33m\u001b[0m\u001b[0m\n\u001b[0;32m      5\u001b[0m \u001b[1;32mfor\u001b[0m \u001b[0m_\u001b[0m \u001b[1;32min\u001b[0m \u001b[0mrange\u001b[0m\u001b[1;33m(\u001b[0m\u001b[0mnumber_of_params\u001b[0m\u001b[1;33m)\u001b[0m\u001b[1;33m:\u001b[0m\u001b[1;33m\u001b[0m\u001b[0m\n\u001b[1;32m----> 6\u001b[1;33m     \u001b[0mloaded_param\u001b[0m\u001b[1;33m.\u001b[0m\u001b[0mappend\u001b[0m\u001b[1;33m(\u001b[0m\u001b[0mcPickle\u001b[0m\u001b[1;33m.\u001b[0m\u001b[0mload\u001b[0m\u001b[1;33m(\u001b[0m\u001b[0mf\u001b[0m\u001b[1;33m)\u001b[0m\u001b[1;33m)\u001b[0m\u001b[1;33m\u001b[0m\u001b[0m\n\u001b[0m\u001b[0;32m      7\u001b[0m \u001b[0mf\u001b[0m\u001b[1;33m.\u001b[0m\u001b[0mclose\u001b[0m\u001b[1;33m(\u001b[0m\u001b[1;33m)\u001b[0m\u001b[1;33m\u001b[0m\u001b[0m\n",
      "\u001b[1;31mEOFError\u001b[0m: "
     ]
    }
   ],
   "source": [
    "filename_in = \"GRU_model201703021741.save\" # change this MANUALLY \n",
    "f = open(filename_in,'rb')\n",
    "number_of_params = len( Memblck.__get_state__() )\n",
    "loaded_param = []\n",
    "for _ in range(number_of_params):\n",
    "    loaded_param.append(cPickle.load(f))\n",
    "f.close()"
   ]
  },
  {
   "cell_type": "code",
   "execution_count": 23,
   "metadata": {
    "collapsed": false
   },
   "outputs": [],
   "source": [
    "Memblck.__set_state__(*loaded_param)"
   ]
  },
  {
   "cell_type": "code",
   "execution_count": 35,
   "metadata": {
    "collapsed": false
   },
   "outputs": [
    {
     "name": "stdout",
     "output_type": "stream",
     "text": [
      "<type 'list'>\n",
      "<type 'list'>\n",
      "951\n",
      "951\n",
      "<type 'numpy.ndarray'>\n",
      "<type 'numpy.ndarray'>\n",
      "(10, 1)\n",
      "(10, 1)\n",
      "(10, 1)\n",
      "(10, 1)\n"
     ]
    }
   ],
   "source": [
    "# Memblck.__get_state__()\n",
    "# valid_predictions_np,y_cleaned_obs_valid \n",
    "print(type(valid_predictions_np));print(type(y_cleaned_obs_valid));print(len(valid_predictions_np));\n",
    "print(len(y_cleaned_obs_valid));print(type(valid_predictions_np[0]));print(type(y_cleaned_obs_valid[0]));\n",
    "print(valid_predictions_np[0].shape);print(y_cleaned_obs_valid[0].shape)\n",
    "print(valid_predictions_np[1].shape);print(y_cleaned_obs_valid[1].shape)"
   ]
  },
  {
   "cell_type": "code",
   "execution_count": 40,
   "metadata": {
    "collapsed": false
   },
   "outputs": [
    {
     "ename": "IndexError",
     "evalue": "index 1 is out of bounds for axis 0 with size 1",
     "output_type": "error",
     "traceback": [
      "\u001b[1;31m---------------------------------------------------------------------------\u001b[0m",
      "\u001b[1;31mIndexError\u001b[0m                                Traceback (most recent call last)",
      "\u001b[1;32m<ipython-input-40-88a3240fd5ba>\u001b[0m in \u001b[0;36m<module>\u001b[1;34m()\u001b[0m\n\u001b[1;32m----> 1\u001b[1;33m \u001b[0mRts_test\u001b[0m  \u001b[1;33m=\u001b[0m\u001b[0mcalc_R_each\u001b[0m\u001b[1;33m(\u001b[0m\u001b[0mvalid_predictions_np\u001b[0m\u001b[1;33m,\u001b[0m\u001b[0my_cleaned_obs_valid\u001b[0m\u001b[1;33m)\u001b[0m\u001b[1;33m\u001b[0m\u001b[0m\n\u001b[0m",
      "\u001b[1;32m<ipython-input-39-3f307ab62df6>\u001b[0m in \u001b[0;36mcalc_R_each\u001b[1;34m(yhat, y)\u001b[0m\n\u001b[0;32m     16\u001b[0m     \u001b[0mRts\u001b[0m \u001b[1;33m=\u001b[0m \u001b[1;33m[\u001b[0m\u001b[1;33m]\u001b[0m \u001b[1;31m# R values as a function time t\u001b[0m\u001b[1;33m\u001b[0m\u001b[0m\n\u001b[0;32m     17\u001b[0m     \u001b[1;32mfor\u001b[0m \u001b[0mt\u001b[0m \u001b[1;32min\u001b[0m \u001b[0mrange\u001b[0m\u001b[1;33m(\u001b[0m\u001b[0mT\u001b[0m\u001b[1;33m)\u001b[0m\u001b[1;33m:\u001b[0m\u001b[1;33m\u001b[0m\u001b[0m\n\u001b[1;32m---> 18\u001b[1;33m         \u001b[0mRt_training_example\u001b[0m \u001b[1;33m=\u001b[0m \u001b[1;33m[\u001b[0m\u001b[0mnp\u001b[0m\u001b[1;33m.\u001b[0m\u001b[0mpower\u001b[0m\u001b[1;33m(\u001b[0m\u001b[0my\u001b[0m\u001b[1;33m[\u001b[0m\u001b[0midx_training_example\u001b[0m\u001b[1;33m]\u001b[0m\u001b[1;33m[\u001b[0m\u001b[0mt\u001b[0m\u001b[1;33m]\u001b[0m\u001b[1;33m-\u001b[0m\u001b[0myhat\u001b[0m\u001b[1;33m[\u001b[0m\u001b[0midx_training_example\u001b[0m\u001b[1;33m]\u001b[0m\u001b[1;33m[\u001b[0m\u001b[0mt\u001b[0m\u001b[1;33m]\u001b[0m\u001b[1;33m,\u001b[0m\u001b[1;36m2\u001b[0m\u001b[1;33m)\u001b[0m \u001b[1;32mfor\u001b[0m \u001b[0midx_training_example\u001b[0m \u001b[1;32min\u001b[0m \u001b[0mrange\u001b[0m\u001b[1;33m(\u001b[0m\u001b[0mm\u001b[0m\u001b[1;33m)\u001b[0m\u001b[1;33m]\u001b[0m\u001b[1;33m\u001b[0m\u001b[0m\n\u001b[0m\u001b[0;32m     19\u001b[0m         \u001b[0mRts\u001b[0m\u001b[1;33m.\u001b[0m\u001b[0mappend\u001b[0m\u001b[1;33m(\u001b[0m \u001b[0mRt_training_example\u001b[0m\u001b[1;33m)\u001b[0m\u001b[1;33m\u001b[0m\u001b[0m\n\u001b[0;32m     20\u001b[0m     \u001b[1;32mreturn\u001b[0m \u001b[0mRts\u001b[0m\u001b[1;33m\u001b[0m\u001b[0m\n",
      "\u001b[1;31mIndexError\u001b[0m: index 1 is out of bounds for axis 0 with size 1"
     ]
    }
   ],
   "source": [
    "Rts_test  =calc_R_each(valid_predictions_np,y_cleaned_obs_valid)"
   ]
  },
  {
   "cell_type": "code",
   "execution_count": null,
   "metadata": {
    "collapsed": true
   },
   "outputs": [],
   "source": []
  },
  {
   "cell_type": "markdown",
   "metadata": {},
   "source": [
    "## Extraneous"
   ]
  },
  {
   "cell_type": "code",
   "execution_count": 49,
   "metadata": {
    "collapsed": false
   },
   "outputs": [],
   "source": [
    "m=len(valid_predictions_np)\n",
    "T=y_cleaned_obs_valid[0].shape[0]\n",
    "#[np.power(valid_predictions_np[idx][T-1]-y_cleaned_obs_valid[idx][T-1],2) for idx in range(m)]\n",
    "mu = np.mean( [yvals.mean() for yvals in y_cleaned_obs_valid])"
   ]
  },
  {
   "cell_type": "code",
   "execution_count": 34,
   "metadata": {
    "collapsed": false
   },
   "outputs": [],
   "source": [
    "def calc_R_each( yhat,y):\n",
    "    \"\"\"\n",
    "    @type yhat : Python list (of length m, number of examples) of numpy arrays, each of size dims. T,1, where T is the number of time steps predicted for\n",
    "    @param yhat : predicted y values\n",
    "\n",
    "    @type y\n",
    "    \"\"\"\n",
    "    m = len(y)  # number of training examples at each time t\n",
    "    assert m == len(yhat)\n",
    "\n",
    "    yhat_Tavg = [yhat_val.mean() for yhat_val in yhat]\n",
    "    y_Tavg    = [y_val.mean() for y_val in y]\n",
    "\n",
    "    yhat_Tavg = np.array( yhat_Tavg)\n",
    "    y_Tavg    = np.array( y_Tavg)\n",
    "\n",
    "    mu = np.mean( y_Tavg )\n",
    "\n",
    "    num = np.sum(  np.power( yhat_Tavg - y_Tavg,2) )\n",
    "    dem = np.sum( np.power( y_Tavg - mu ,2 ) )\n",
    "    R = num/dem\n",
    "    R = np.sqrt( R)\n",
    "    \n",
    "    return R"
   ]
  },
  {
   "cell_type": "code",
   "execution_count": 28,
   "metadata": {
    "collapsed": false
   },
   "outputs": [],
   "source": [
    "R_test = calc_R_each( valid_predictions_np, y_cleaned_obs_valid)"
   ]
  },
  {
   "cell_type": "code",
   "execution_count": 30,
   "metadata": {
    "collapsed": false
   },
   "outputs": [
    {
     "data": {
      "text/plain": [
       "149.686"
      ]
     },
     "execution_count": 30,
     "metadata": {},
     "output_type": "execute_result"
    }
   ],
   "source": [
    "np.sqrt( R_test )"
   ]
  },
  {
   "cell_type": "code",
   "execution_count": 53,
   "metadata": {
    "collapsed": false
   },
   "outputs": [
    {
     "data": {
      "text/plain": [
       "array([[ 1.67123961],\n",
       "       [ 3.16267943],\n",
       "       [ 0.01629504],\n",
       "       [ 1.03388846],\n",
       "       [ 1.34194529],\n",
       "       [ 1.05554676],\n",
       "       [ 1.11785388],\n",
       "       [ 1.03495133],\n",
       "       [ 1.0439266 ],\n",
       "       [ 1.21566224]], dtype=float32)"
      ]
     },
     "execution_count": 53,
     "metadata": {},
     "output_type": "execute_result"
    }
   ],
   "source": [
    "R[0]"
   ]
  },
  {
   "cell_type": "code",
   "execution_count": 55,
   "metadata": {
    "collapsed": false
   },
   "outputs": [
    {
     "data": {
      "text/plain": [
       "0.046060514"
      ]
     },
     "execution_count": 55,
     "metadata": {},
     "output_type": "execute_result"
    }
   ],
   "source": [
    "y[0].mean()"
   ]
  },
  {
   "cell_type": "code",
   "execution_count": 56,
   "metadata": {
    "collapsed": false
   },
   "outputs": [
    {
     "data": {
      "text/plain": [
       "-0.0030814814"
      ]
     },
     "execution_count": 56,
     "metadata": {},
     "output_type": "execute_result"
    }
   ],
   "source": [
    "y_cleaned_obs_valid[0].mean()"
   ]
  },
  {
   "cell_type": "code",
   "execution_count": 52,
   "metadata": {
    "collapsed": true
   },
   "outputs": [],
   "source": [
    "#T_0*train_to_all\n",
    "def make_valid_set(timeseries_pd, T_f,T_valid):\n",
    "    obs_valid = []\n",
    "    for Deltat in range(T_valid):\n",
    "        t = int( T_f + Deltat + 1 )\n",
    "        single_t = timeseries_pd[ timeseries_pd['timestamp']== t ]\n",
    "        obs_valid.append( single_t )\n",
    "    return obs_valid\n",
    "    \n"
   ]
  },
  {
   "cell_type": "code",
   "execution_count": 61,
   "metadata": {
    "collapsed": true
   },
   "outputs": [],
   "source": [
    "obs_valid_singles = make_valid_set(timeseries_pd,T_0*train_to_all,100 )"
   ]
  },
  {
   "cell_type": "code",
   "execution_count": 73,
   "metadata": {
    "collapsed": false
   },
   "outputs": [
    {
     "data": {
      "text/plain": [
       "943"
      ]
     },
     "execution_count": 73,
     "metadata": {},
     "output_type": "execute_result"
    }
   ],
   "source": [
    "len( split_tseries( clean_tseries(obs_valid_singles[0]) )[1] )"
   ]
  },
  {
   "cell_type": "markdown",
   "metadata": {},
   "source": [
    "### Subsequent training"
   ]
  },
  {
   "cell_type": "code",
   "execution_count": 51,
   "metadata": {
    "collapsed": false
   },
   "outputs": [
    {
     "name": "stdout",
     "output_type": "stream",
     "text": [
      "theano.config.allow_gc =:  False\n",
      "CPU times: user 2h 7min 8s, sys: 25min 2s, total: 2h 32min 11s\n",
      "Wall time: 2h 32min 7s\n"
     ]
    }
   ],
   "source": [
    "MAX_ITERS = 50  \n",
    "%time results_cost = Memblck.train_model_full( cleaned_obs_train, MAX_ITERS )"
   ]
  },
  {
   "cell_type": "code",
   "execution_count": 57,
   "metadata": {
    "collapsed": false
   },
   "outputs": [
    {
     "name": "stdout",
     "output_type": "stream",
     "text": [
      "theano.config.allow_gc =:  False\n",
      "CPU times: user 4h 19min, sys: 59min 44s, total: 5h 18min 44s\n",
      "Wall time: 5h 18min 36s\n"
     ]
    }
   ],
   "source": [
    "MAX_ITERS = 100  \n",
    "%time results_cost = Memblck.train_model_full( cleaned_obs_train, MAX_ITERS )"
   ]
  },
  {
   "cell_type": "code",
   "execution_count": 77,
   "metadata": {
    "collapsed": false
   },
   "outputs": [
    {
     "name": "stdout",
     "output_type": "stream",
     "text": [
      "theano.config.allow_gc =:  False\n",
      "CPU times: user 4h 11min 27s, sys: 44min 52s, total: 4h 56min 20s\n",
      "Wall time: 4h 56min 12s\n"
     ]
    }
   ],
   "source": [
    "MAX_ITERS = 100  \n",
    "%time results_cost = Memblck.train_model_full( cleaned_obs_train, MAX_ITERS )"
   ]
  },
  {
   "cell_type": "code",
   "execution_count": 78,
   "metadata": {
    "collapsed": false
   },
   "outputs": [
    {
     "name": "stdout",
     "output_type": "stream",
     "text": [
      "CPU times: user 4min 48s, sys: 7.14 s, total: 4min 55s\n",
      "Wall time: 4min 55s\n"
     ]
    }
   ],
   "source": [
    "%time valid_predictions = Memblck.predict_on_lst_givens( cleaned_obs_valid,verbose=False)\n",
    "# valid_predictions_np = [np.array(arr) for arr in valid_predictions]"
   ]
  },
  {
   "cell_type": "code",
   "execution_count": 83,
   "metadata": {
    "collapsed": false
   },
   "outputs": [
    {
     "name": "stdout",
     "output_type": "stream",
     "text": [
      "theano.config.allow_gc =:  False\n",
      "CPU times: user 4h 7min 32s, sys: 31min 53s, total: 4h 39min 25s\n",
      "Wall time: 4h 39min 18s\n"
     ]
    }
   ],
   "source": [
    "MAX_ITERS = 100  \n",
    "%time results_cost = Memblck.train_model_full( cleaned_obs_train, MAX_ITERS )"
   ]
  },
  {
   "cell_type": "code",
   "execution_count": 84,
   "metadata": {
    "collapsed": false
   },
   "outputs": [
    {
     "name": "stdout",
     "output_type": "stream",
     "text": [
      "CPU times: user 4min 50s, sys: 8.09 s, total: 4min 58s\n",
      "Wall time: 4min 58s\n"
     ]
    }
   ],
   "source": [
    "%time valid_predictions = Memblck.predict_on_lst_givens( cleaned_obs_valid,verbose=False)\n",
    "valid_predictions_np = [np.array(arr) for arr in valid_predictions]"
   ]
  },
  {
   "cell_type": "code",
   "execution_count": null,
   "metadata": {
    "collapsed": true
   },
   "outputs": [],
   "source": []
  }
 ],
 "metadata": {
  "kernelspec": {
   "display_name": "Python 2",
   "language": "python",
   "name": "python2"
  },
  "language_info": {
   "codemirror_mode": {
    "name": "ipython",
    "version": 2
   },
   "file_extension": ".py",
   "mimetype": "text/x-python",
   "name": "python",
   "nbconvert_exporter": "python",
   "pygments_lexer": "ipython2",
   "version": "2.7.11"
  }
 },
 "nbformat": 4,
 "nbformat_minor": 0
}

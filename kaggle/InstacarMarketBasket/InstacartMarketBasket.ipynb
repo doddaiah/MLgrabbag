{
 "cells": [
  {
   "cell_type": "code",
   "execution_count": 1,
   "metadata": {
    "collapsed": true
   },
   "outputs": [],
   "source": [
    "import pandas as pd\n",
    "import numpy as np"
   ]
  },
  {
   "cell_type": "code",
   "execution_count": 2,
   "metadata": {
    "collapsed": true
   },
   "outputs": [],
   "source": [
    "import os, sys"
   ]
  },
  {
   "cell_type": "code",
   "execution_count": 3,
   "metadata": {},
   "outputs": [],
   "source": [
    "import tensorflow\n",
    "import tensorflow as tf"
   ]
  },
  {
   "cell_type": "code",
   "execution_count": 8,
   "metadata": {},
   "outputs": [
    {
     "name": "stdout",
     "output_type": "stream",
     "text": [
      "/home/mobicfd/ReacCFD/tf/bin/python2\n"
     ]
    },
    {
     "data": {
      "text/plain": [
       "['',\n",
       " '/home/mobicfd/ReacCFD/tf/lib/python2.7',\n",
       " '/home/mobicfd/ReacCFD/tf/lib/python2.7/plat-x86_64-linux-gnu',\n",
       " '/home/mobicfd/ReacCFD/tf/lib/python2.7/lib-tk',\n",
       " '/home/mobicfd/ReacCFD/tf/lib/python2.7/lib-old',\n",
       " '/home/mobicfd/ReacCFD/tf/lib/python2.7/lib-dynload',\n",
       " '/usr/lib/python2.7',\n",
       " '/usr/lib/python2.7/plat-x86_64-linux-gnu',\n",
       " '/usr/lib/python2.7/lib-tk',\n",
       " '/home/mobicfd/ReacCFD/tf/local/lib/python2.7/site-packages',\n",
       " '/home/mobicfd/.local/lib/python2.7/site-packages',\n",
       " '/usr/local/lib/python2.7/site-packages',\n",
       " '/usr/local/lib/python2.7/dist-packages',\n",
       " '/usr/lib/python2.7/dist-packages',\n",
       " '/usr/lib/python2.7/dist-packages/PILcompat',\n",
       " '/usr/lib/python2.7/dist-packages/gtk-2.0',\n",
       " '/usr/lib/python2.7/dist-packages/wx-3.0-gtk2',\n",
       " '/home/mobicfd/ReacCFD/tf/local/lib/python2.7/site-packages/IPython/extensions',\n",
       " '/home/mobicfd/.ipython']"
      ]
     },
     "execution_count": 8,
     "metadata": {},
     "output_type": "execute_result"
    }
   ],
   "source": [
    "# sanity check for importing tensorflow (from virtualenv)\n",
    "print(sys.executable)\n",
    "sys.path"
   ]
  },
  {
   "cell_type": "code",
   "execution_count": 9,
   "metadata": {},
   "outputs": [
    {
     "data": {
      "text/plain": [
       "['departments.csv.zip',\n",
       " 'products.csv.zip',\n",
       " 'sample_submission.csv',\n",
       " 'products.csv',\n",
       " 'order_products__train.csv.zip',\n",
       " 'orders.csv.zip',\n",
       " '.ipynb_checkpoints',\n",
       " 'aisles.csv',\n",
       " 'aisles.csv.zip',\n",
       " 'orders.csv',\n",
       " 'order_products__train.csv',\n",
       " 'InstacartMarketBasket.ipynb',\n",
       " 'order_products__prior.csv.zip',\n",
       " 'sample_submission.csv.zip',\n",
       " 'departments.csv',\n",
       " 'order_products__prior.csv']"
      ]
     },
     "execution_count": 9,
     "metadata": {},
     "output_type": "execute_result"
    }
   ],
   "source": [
    "os.listdir( os.getcwd()  )"
   ]
  },
  {
   "cell_type": "code",
   "execution_count": 11,
   "metadata": {},
   "outputs": [],
   "source": [
    "aislesDF = pd.read_csv(os.getcwd() +\"/aisles.csv\")\n",
    "departmentsDF = pd.read_csv(os.getcwd() +\"/departments.csv\")\n",
    "productsDF = pd.read_csv(os.getcwd() +\"/products.csv\")\n",
    "order_products__trainDF = pd.read_csv(os.getcwd() +\"/order_products__train.csv\")\n",
    "ordersDF = pd.read_csv(os.getcwd() +\"/orders.csv\")\n",
    "order_products__priorDF = pd.read_csv(os.getcwd() +\"/order_products__prior.csv\")"
   ]
  },
  {
   "cell_type": "code",
   "execution_count": 12,
   "metadata": {},
   "outputs": [
    {
     "name": "stdout",
     "output_type": "stream",
     "text": [
      "Index([u'aisle_id', u'aisle'], dtype='object')\n",
      "Index([u'department_id', u'department'], dtype='object')\n",
      "Index([u'order_id', u'user_id', u'eval_set', u'order_number', u'order_dow',\n",
      "       u'order_hour_of_day', u'days_since_prior_order'],\n",
      "      dtype='object')\n",
      "Index([u'order_id', u'product_id', u'add_to_cart_order', u'reordered'], dtype='object')\n",
      "Index([u'order_id', u'product_id', u'add_to_cart_order', u'reordered'], dtype='object')\n",
      "Index([u'product_id', u'product_name', u'aisle_id', u'department_id'], dtype='object')\n",
      "         aisle_id\n",
      "count  134.000000\n",
      "mean    67.500000\n",
      "std     38.826537\n",
      "min      1.000000\n",
      "25%     34.250000\n",
      "50%     67.500000\n",
      "75%    100.750000\n",
      "max    134.000000\n",
      "       department_id\n",
      "count      21.000000\n",
      "mean       11.000000\n",
      "std         6.204837\n",
      "min         1.000000\n",
      "25%         6.000000\n",
      "50%        11.000000\n",
      "75%        16.000000\n",
      "max        21.000000\n",
      "           order_id       user_id  order_number     order_dow  \\\n",
      "count  3.421083e+06  3.421083e+06  3.421083e+06  3.421083e+06   \n",
      "mean   1.710542e+06  1.029782e+05  1.715486e+01  2.776219e+00   \n",
      "std    9.875817e+05  5.953372e+04  1.773316e+01  2.046829e+00   \n",
      "min    1.000000e+00  1.000000e+00  1.000000e+00  0.000000e+00   \n",
      "25%    8.552715e+05  5.139400e+04  5.000000e+00  1.000000e+00   \n",
      "50%    1.710542e+06  1.026890e+05  1.100000e+01  3.000000e+00   \n",
      "75%    2.565812e+06  1.543850e+05  2.300000e+01  5.000000e+00   \n",
      "max    3.421083e+06  2.062090e+05  1.000000e+02  6.000000e+00   \n",
      "\n",
      "       order_hour_of_day  days_since_prior_order  \n",
      "count       3.421083e+06            3.214874e+06  \n",
      "mean        1.345202e+01            1.111484e+01  \n",
      "std         4.226088e+00            9.206737e+00  \n",
      "min         0.000000e+00            0.000000e+00  \n",
      "25%         1.000000e+01            4.000000e+00  \n",
      "50%         1.300000e+01            7.000000e+00  \n",
      "75%         1.600000e+01            1.500000e+01  \n",
      "max         2.300000e+01            3.000000e+01  \n",
      "           order_id    product_id  add_to_cart_order     reordered\n",
      "count  3.243449e+07  3.243449e+07       3.243449e+07  3.243449e+07\n",
      "mean   1.710749e+06  2.557634e+04       8.351076e+00  5.896975e-01\n",
      "std    9.873007e+05  1.409669e+04       7.126671e+00  4.918886e-01\n",
      "min    2.000000e+00  1.000000e+00       1.000000e+00  0.000000e+00\n",
      "25%    8.559430e+05  1.353000e+04       3.000000e+00  0.000000e+00\n",
      "50%    1.711048e+06  2.525600e+04       6.000000e+00  1.000000e+00\n",
      "75%    2.565514e+06  3.793500e+04       1.100000e+01  1.000000e+00\n",
      "max    3.421083e+06  4.968800e+04       1.450000e+02  1.000000e+00\n",
      "           order_id    product_id  add_to_cart_order     reordered\n",
      "count  1.384617e+06  1.384617e+06       1.384617e+06  1.384617e+06\n",
      "mean   1.706298e+06  2.555624e+04       8.758044e+00  5.985944e-01\n",
      "std    9.897326e+05  1.412127e+04       7.423936e+00  4.901829e-01\n",
      "min    1.000000e+00  1.000000e+00       1.000000e+00  0.000000e+00\n",
      "25%    8.433700e+05  1.338000e+04       3.000000e+00  0.000000e+00\n",
      "50%    1.701880e+06  2.529800e+04       7.000000e+00  1.000000e+00\n",
      "75%    2.568023e+06  3.794000e+04       1.200000e+01  1.000000e+00\n",
      "max    3.421070e+06  4.968800e+04       8.000000e+01  1.000000e+00\n",
      "         product_id      aisle_id  department_id\n",
      "count  49688.000000  49688.000000   49688.000000\n",
      "mean   24844.500000     67.769582      11.728687\n",
      "std    14343.834425     38.316162       5.850410\n",
      "min        1.000000      1.000000       1.000000\n",
      "25%    12422.750000     35.000000       7.000000\n",
      "50%    24844.500000     69.000000      13.000000\n",
      "75%    37266.250000    100.000000      17.000000\n",
      "max    49688.000000    134.000000      21.000000\n"
     ]
    }
   ],
   "source": [
    "print(aislesDF.columns)\n",
    "print(departmentsDF.columns)\n",
    "print(ordersDF.columns)\n",
    "print(order_products__priorDF.columns)\n",
    "print(order_products__trainDF.columns)\n",
    "print(productsDF.columns)\n",
    "\n",
    "print(aislesDF.describe())\n",
    "print(departmentsDF.describe())\n",
    "print(ordersDF.describe())\n",
    "print(order_products__priorDF.describe())\n",
    "print(order_products__trainDF.describe())\n",
    "print(productsDF.describe())\n"
   ]
  },
  {
   "cell_type": "markdown",
   "metadata": {},
   "source": [
    "## `aisles`"
   ]
  },
  {
   "cell_type": "code",
   "execution_count": 13,
   "metadata": {},
   "outputs": [
    {
     "name": "stdout",
     "output_type": "stream",
     "text": [
      "   aisle_id                       aisle\n",
      "0         1       prepared soups salads\n",
      "1         2           specialty cheeses\n",
      "2         3         energy granola bars\n",
      "3         4               instant foods\n",
      "4         5  marinades meat preparation\n",
      "[  1   2   3   4   5   6   7   8   9  10  11  12  13  14  15  16  17  18\n",
      "  19  20  21  22  23  24  25  26  27  28  29  30  31  32  33  34  35  36\n",
      "  37  38  39  40  41  42  43  44  45  46  47  48  49  50  51  52  53  54\n",
      "  55  56  57  58  59  60  61  62  63  64  65  66  67  68  69  70  71  72\n",
      "  73  74  75  76  77  78  79  80  81  82  83  84  85  86  87  88  89  90\n",
      "  91  92  93  94  95  96  97  98  99 100 101 102 103 104 105 106 107 108\n",
      " 109 110 111 112 113 114 115 116 117 118 119 120 121 122 123 124 125 126\n",
      " 127 128 129 130 131 132 133 134]\n",
      "134\n",
      "['prepared soups salads' 'specialty cheeses' 'energy granola bars'\n",
      " 'instant foods' 'marinades meat preparation' 'other' 'packaged meat'\n",
      " 'bakery desserts' 'pasta sauce' 'kitchen supplies']\n",
      "134\n"
     ]
    }
   ],
   "source": [
    "print(aislesDF.head())\n",
    "print(aislesDF['aisle_id'].unique())\n",
    "print(len( aislesDF['aisle_id'].unique()) )\n",
    "print( aislesDF['aisle'].unique()[:10] ) \n",
    "print(len(aislesDF['aisle'].unique()) )\n"
   ]
  },
  {
   "cell_type": "markdown",
   "metadata": {},
   "source": [
    "And so clear `aisle` describes the 134 unique aisles that each product belongs too.  "
   ]
  },
  {
   "cell_type": "markdown",
   "metadata": {},
   "source": [
    "## departments"
   ]
  },
  {
   "cell_type": "code",
   "execution_count": 14,
   "metadata": {},
   "outputs": [
    {
     "name": "stdout",
     "output_type": "stream",
     "text": [
      "   department_id department\n",
      "0              1     frozen\n",
      "1              2      other\n",
      "2              3     bakery\n",
      "3              4    produce\n",
      "4              5    alcohol\n",
      "[ 1  2  3  4  5  6  7  8  9 10]\n",
      "21\n",
      "['frozen' 'other' 'bakery' 'produce' 'alcohol' 'international' 'beverages'\n",
      " 'pets' 'dry goods pasta' 'bulk']\n",
      "21\n"
     ]
    }
   ],
   "source": [
    "print(departmentsDF.head())\n",
    "print(departmentsDF['department_id'].unique()[:10])\n",
    "print(len( departmentsDF['department_id'].unique()) )\n",
    "print( departmentsDF['department'].unique()[:10] ) \n",
    "print(len(departmentsDF['department'].unique()) )"
   ]
  },
  {
   "cell_type": "markdown",
   "metadata": {},
   "source": [
    "## `products`  "
   ]
  },
  {
   "cell_type": "code",
   "execution_count": 15,
   "metadata": {},
   "outputs": [
    {
     "name": "stdout",
     "output_type": "stream",
     "text": [
      "   product_id                                       product_name  aisle_id  \\\n",
      "0           1                         Chocolate Sandwich Cookies        61   \n",
      "1           2                                   All-Seasons Salt       104   \n",
      "2           3               Robust Golden Unsweetened Oolong Tea        94   \n",
      "3           4  Smart Ones Classic Favorites Mini Rigatoni Wit...        38   \n",
      "4           5                          Green Chile Anytime Sauce         5   \n",
      "\n",
      "   department_id  \n",
      "0             19  \n",
      "1             13  \n",
      "2              7  \n",
      "3              1  \n",
      "4             13  \n",
      "[ 1  2  3  4  5  6  7  8  9 10]\n",
      "49688\n",
      "['Chocolate Sandwich Cookies' 'All-Seasons Salt'\n",
      " 'Robust Golden Unsweetened Oolong Tea'\n",
      " 'Smart Ones Classic Favorites Mini Rigatoni With Vodka Cream Sauce'\n",
      " 'Green Chile Anytime Sauce' 'Dry Nose Oil'\n",
      " 'Pure Coconut Water With Orange' \"Cut Russet Potatoes Steam N' Mash\"\n",
      " 'Light Strawberry Blueberry Yogurt'\n",
      " 'Sparkling Orange Juice & Prickly Pear Beverage']\n",
      "49688\n",
      "[ 61 104  94  38   5  11  98 116 120 115]\n",
      "134\n",
      "[19 13  7  1 11 16 17 18 12  9]\n",
      "21\n"
     ]
    }
   ],
   "source": [
    "print(productsDF.head())\n",
    "print(productsDF['product_id'].unique()[:10])\n",
    "print(len( productsDF['product_id'].unique()) )\n",
    "print( productsDF['product_name'].unique()[:10] ) \n",
    "print(len(productsDF['product_name'].unique()) )\n",
    "print(productsDF['aisle_id'].unique()[:10])\n",
    "print(len( productsDF['aisle_id'].unique()) )\n",
    "print(productsDF['department_id'].unique()[:10])\n",
    "print(len( productsDF['department_id'].unique()) )\n"
   ]
  },
  {
   "cell_type": "markdown",
   "metadata": {},
   "source": [
    "## `order_product_*`  \n",
    "\n",
    "cf. [`instacart-market-basket-analysis/data`](https://www.kaggle.com/c/instacart-market-basket-analysis/data)\n",
    "\n",
    "\"These files specify which products were purchased in each order.  \n",
    "* `order_products__prior.csv` contains previous order contents for all customers. \n",
    "* 'reordered' indicates that the customer has a previous order that contains the product.\n",
    "\n",
    "Note that some orders will have no reordered items. You may predict an explicit 'None' value for orders with no reordered items. \"\n"
   ]
  },
  {
   "cell_type": "code",
   "execution_count": 16,
   "metadata": {},
   "outputs": [
    {
     "data": {
      "text/plain": [
       "Index([u'order_id', u'product_id', u'add_to_cart_order', u'reordered'], dtype='object')"
      ]
     },
     "execution_count": 16,
     "metadata": {},
     "output_type": "execute_result"
    }
   ],
   "source": [
    "order_products__priorDF.columns"
   ]
  },
  {
   "cell_type": "code",
   "execution_count": 17,
   "metadata": {},
   "outputs": [
    {
     "name": "stdout",
     "output_type": "stream",
     "text": [
      "   order_id  product_id  add_to_cart_order  reordered\n",
      "0         2       33120                  1          1\n",
      "1         2       28985                  2          1\n",
      "2         2        9327                  3          0\n",
      "3         2       45918                  4          1\n",
      "4         2       30035                  5          0\n",
      "[ 2  3  4  5  6  7  8  9 10 11]\n",
      "3214874\n",
      "[33120 28985  9327 45918 30035 17794 40141  1819 43668 33754]\n",
      "49677\n",
      "[ 1  2  3  4  5  6  7  8  9 10]\n",
      "145\n",
      "[1 0]\n",
      "2\n"
     ]
    }
   ],
   "source": [
    "print(order_products__priorDF.head())\n",
    "print(order_products__priorDF['order_id'].unique()[:10])\n",
    "print(len( order_products__priorDF['order_id'].unique()) )\n",
    "print( order_products__priorDF['product_id'].unique()[:10] ) \n",
    "print(len( order_products__priorDF['product_id'].unique()) )\n",
    "print(order_products__priorDF['add_to_cart_order'].unique()[:10])\n",
    "print(len( order_products__priorDF['add_to_cart_order'].unique()) )\n",
    "print(order_products__priorDF['reordered'].unique()[:10])\n",
    "print(len( order_products__priorDF['reordered'].unique()) )"
   ]
  },
  {
   "cell_type": "code",
   "execution_count": 18,
   "metadata": {},
   "outputs": [
    {
     "name": "stdout",
     "output_type": "stream",
     "text": [
      "Index([u'order_id', u'product_id', u'add_to_cart_order', u'reordered'], dtype='object')\n"
     ]
    },
    {
     "data": {
      "text/html": [
       "<div>\n",
       "<table border=\"1\" class=\"dataframe\">\n",
       "  <thead>\n",
       "    <tr style=\"text-align: right;\">\n",
       "      <th></th>\n",
       "      <th>order_id</th>\n",
       "      <th>product_id</th>\n",
       "      <th>add_to_cart_order</th>\n",
       "      <th>reordered</th>\n",
       "    </tr>\n",
       "  </thead>\n",
       "  <tbody>\n",
       "    <tr>\n",
       "      <th>0</th>\n",
       "      <td>2</td>\n",
       "      <td>33120</td>\n",
       "      <td>1</td>\n",
       "      <td>1</td>\n",
       "    </tr>\n",
       "    <tr>\n",
       "      <th>1</th>\n",
       "      <td>2</td>\n",
       "      <td>28985</td>\n",
       "      <td>2</td>\n",
       "      <td>1</td>\n",
       "    </tr>\n",
       "    <tr>\n",
       "      <th>2</th>\n",
       "      <td>2</td>\n",
       "      <td>9327</td>\n",
       "      <td>3</td>\n",
       "      <td>0</td>\n",
       "    </tr>\n",
       "    <tr>\n",
       "      <th>3</th>\n",
       "      <td>2</td>\n",
       "      <td>45918</td>\n",
       "      <td>4</td>\n",
       "      <td>1</td>\n",
       "    </tr>\n",
       "    <tr>\n",
       "      <th>4</th>\n",
       "      <td>2</td>\n",
       "      <td>30035</td>\n",
       "      <td>5</td>\n",
       "      <td>0</td>\n",
       "    </tr>\n",
       "    <tr>\n",
       "      <th>5</th>\n",
       "      <td>2</td>\n",
       "      <td>17794</td>\n",
       "      <td>6</td>\n",
       "      <td>1</td>\n",
       "    </tr>\n",
       "    <tr>\n",
       "      <th>6</th>\n",
       "      <td>2</td>\n",
       "      <td>40141</td>\n",
       "      <td>7</td>\n",
       "      <td>1</td>\n",
       "    </tr>\n",
       "    <tr>\n",
       "      <th>7</th>\n",
       "      <td>2</td>\n",
       "      <td>1819</td>\n",
       "      <td>8</td>\n",
       "      <td>1</td>\n",
       "    </tr>\n",
       "    <tr>\n",
       "      <th>8</th>\n",
       "      <td>2</td>\n",
       "      <td>43668</td>\n",
       "      <td>9</td>\n",
       "      <td>0</td>\n",
       "    </tr>\n",
       "  </tbody>\n",
       "</table>\n",
       "</div>"
      ],
      "text/plain": [
       "   order_id  product_id  add_to_cart_order  reordered\n",
       "0         2       33120                  1          1\n",
       "1         2       28985                  2          1\n",
       "2         2        9327                  3          0\n",
       "3         2       45918                  4          1\n",
       "4         2       30035                  5          0\n",
       "5         2       17794                  6          1\n",
       "6         2       40141                  7          1\n",
       "7         2        1819                  8          1\n",
       "8         2       43668                  9          0"
      ]
     },
     "execution_count": 18,
     "metadata": {},
     "output_type": "execute_result"
    }
   ],
   "source": [
    "print( order_products__priorDF.loc[order_products__priorDF['order_id']==2].columns )\n",
    "order_products__priorDF.loc[order_products__priorDF['order_id']==2]"
   ]
  },
  {
   "cell_type": "code",
   "execution_count": 19,
   "metadata": {},
   "outputs": [
    {
     "name": "stdout",
     "output_type": "stream",
     "text": [
      "Index([u'order_id', u'product_id', u'add_to_cart_order', u'reordered'], dtype='object')\n",
      "int64\n"
     ]
    }
   ],
   "source": [
    "order_id_2 = 2\n",
    "print(order_products__priorDF.loc[order_products__priorDF['order_id']==2].columns)\n",
    "prodseq_2    = (order_products__priorDF.loc[order_products__priorDF['order_id']==2])['product_id']\n",
    "reorderseq_2 = (order_products__priorDF.loc[order_products__priorDF['order_id']==2])['reordered']\n",
    "print(prodseq_2.dtype)"
   ]
  },
  {
   "cell_type": "code",
   "execution_count": 20,
   "metadata": {},
   "outputs": [
    {
     "name": "stdout",
     "output_type": "stream",
     "text": [
      "[33120 28985  9327 45918 30035 17794 40141  1819 43668]\n",
      "[1 1 0 1 0 1 1 1 0]\n"
     ]
    },
    {
     "data": {
      "text/plain": [
       "[(33120, 1),\n",
       " (28985, 1),\n",
       " (9327, 0),\n",
       " (45918, 1),\n",
       " (30035, 0),\n",
       " (17794, 1),\n",
       " (40141, 1),\n",
       " (1819, 1),\n",
       " (43668, 0)]"
      ]
     },
     "execution_count": 20,
     "metadata": {},
     "output_type": "execute_result"
    }
   ],
   "source": [
    "print(prodseq_2.values)\n",
    "print(reorderseq_2.values)\n",
    "zip(prodseq_2.values,reorderseq_2.values)"
   ]
  },
  {
   "cell_type": "code",
   "execution_count": 21,
   "metadata": {},
   "outputs": [
    {
     "name": "stdout",
     "output_type": "stream",
     "text": [
      "   order_id  product_id  add_to_cart_order  reordered\n",
      "0         1       49302                  1          1\n",
      "1         1       11109                  2          1\n",
      "2         1       10246                  3          0\n",
      "3         1       49683                  4          0\n",
      "4         1       43633                  5          1\n",
      "[  1  36  38  96  98 112 170 218 226 349]\n",
      "131209\n",
      "[49302 11109 10246 49683 43633 13176 47209 22035 39612 19660]\n",
      "39123\n",
      "[ 1  2  3  4  5  6  7  8  9 10]\n",
      "80\n",
      "[1 0]\n",
      "2\n"
     ]
    }
   ],
   "source": [
    "print(order_products__trainDF.head())\n",
    "print(order_products__trainDF['order_id'].unique()[:10])\n",
    "print(len( order_products__trainDF['order_id'].unique()) )\n",
    "print( order_products__trainDF['product_id'].unique()[:10] ) \n",
    "print(len( order_products__trainDF['product_id'].unique()) )\n",
    "print(order_products__trainDF['add_to_cart_order'].unique()[:10])\n",
    "print(len( order_products__trainDF['add_to_cart_order'].unique()) )\n",
    "print(order_products__trainDF['reordered'].unique()[:10])\n",
    "print(len( order_products__trainDF['reordered'].unique()) )"
   ]
  },
  {
   "cell_type": "markdown",
   "metadata": {},
   "source": [
    "# `orders`  \n",
    "\n",
    "This file tells to which set (prior, train, test) an order belongs. You are predicting reordered items only for the test set orders. 'order_dow' is the day of week.  \n",
    "\n",
    "Order number is for each user (labeled with user_id).  Say this is a particular user's xth order.  Then order_number=x.  "
   ]
  },
  {
   "cell_type": "code",
   "execution_count": 28,
   "metadata": {},
   "outputs": [
    {
     "name": "stdout",
     "output_type": "stream",
     "text": [
      "   order_id  user_id eval_set  order_number  order_dow  order_hour_of_day  \\\n",
      "0   2539329        1    prior             1          2                  8   \n",
      "1   2398795        1    prior             2          3                  7   \n",
      "2    473747        1    prior             3          3                 12   \n",
      "3   2254736        1    prior             4          4                  7   \n",
      "4    431534        1    prior             5          4                 15   \n",
      "\n",
      "   days_since_prior_order  \n",
      "0                     NaN  \n",
      "1                    15.0  \n",
      "2                    21.0  \n",
      "3                    29.0  \n",
      "4                    28.0  \n",
      "Index([u'order_id', u'user_id', u'eval_set', u'order_number', u'order_dow',\n",
      "       u'order_hour_of_day', u'days_since_prior_order'],\n",
      "      dtype='object')\n",
      "           order_id       user_id  order_number     order_dow  \\\n",
      "count  3.421083e+06  3.421083e+06  3.421083e+06  3.421083e+06   \n",
      "mean   1.710542e+06  1.029782e+05  1.715486e+01  2.776219e+00   \n",
      "std    9.875817e+05  5.953372e+04  1.773316e+01  2.046829e+00   \n",
      "min    1.000000e+00  1.000000e+00  1.000000e+00  0.000000e+00   \n",
      "25%    8.552715e+05  5.139400e+04  5.000000e+00  1.000000e+00   \n",
      "50%    1.710542e+06  1.026890e+05  1.100000e+01  3.000000e+00   \n",
      "75%    2.565812e+06  1.543850e+05  2.300000e+01  5.000000e+00   \n",
      "max    3.421083e+06  2.062090e+05  1.000000e+02  6.000000e+00   \n",
      "\n",
      "       order_hour_of_day  days_since_prior_order  \n",
      "count       3.421083e+06            3.214874e+06  \n",
      "mean        1.345202e+01            1.111484e+01  \n",
      "std         4.226088e+00            9.206737e+00  \n",
      "min         0.000000e+00            0.000000e+00  \n",
      "25%         1.000000e+01            4.000000e+00  \n",
      "50%         1.300000e+01            7.000000e+00  \n",
      "75%         1.600000e+01            1.500000e+01  \n",
      "max         2.300000e+01            3.000000e+01  \n",
      "3421083\n",
      "206209\n",
      "['prior' 'train' 'test']\n",
      "100\n"
     ]
    }
   ],
   "source": [
    "print(ordersDF.head())\n",
    "print(ordersDF.columns)\n",
    "print(ordersDF.describe())\n",
    "print(len(ordersDF['order_id'].unique()))\n",
    "print(len(ordersDF['user_id'].unique()))\n",
    "print((ordersDF['eval_set'].unique()))\n",
    "print(len(ordersDF['order_number'].unique()))\n"
   ]
  },
  {
   "cell_type": "code",
   "execution_count": 34,
   "metadata": {},
   "outputs": [],
   "source": [
    "orders_prior = ordersDF.loc[ordersDF['eval_set']=='prior']\n",
    "orders_train = ordersDF.loc[ordersDF['eval_set']=='train']\n",
    "orders_test  = ordersDF.loc[ordersDF['eval_set']=='test']\n",
    "orders_prior_train = ordersDF.loc[(ordersDF['eval_set']=='prior') | (ordersDF['eval_set']=='train')]\n"
   ]
  },
  {
   "cell_type": "code",
   "execution_count": 49,
   "metadata": {},
   "outputs": [
    {
     "name": "stdout",
     "output_type": "stream",
     "text": [
      "[(1,     order_id  user_id eval_set  order_number  order_dow  order_hour_of_day  \\\n",
      "0    2539329        1    prior             1          2                  8   \n",
      "1    2398795        1    prior             2          3                  7   \n",
      "2     473747        1    prior             3          3                 12   \n",
      "3    2254736        1    prior             4          4                  7   \n",
      "4     431534        1    prior             5          4                 15   \n",
      "5    3367565        1    prior             6          2                  7   \n",
      "6     550135        1    prior             7          1                  9   \n",
      "7    3108588        1    prior             8          1                 14   \n",
      "8    2295261        1    prior             9          1                 16   \n",
      "9    2550362        1    prior            10          4                  8   \n",
      "10   1187899        1    train            11          4                  8   \n",
      "\n",
      "    days_since_prior_order  \n",
      "0                      NaN  \n",
      "1                     15.0  \n",
      "2                     21.0  \n",
      "3                     29.0  \n",
      "4                     28.0  \n",
      "5                     19.0  \n",
      "6                     20.0  \n",
      "7                     14.0  \n",
      "8                      0.0  \n",
      "9                     30.0  \n",
      "10                    14.0  ), (2,     order_id  user_id eval_set  order_number  order_dow  order_hour_of_day  \\\n",
      "11   2168274        2    prior             1          2                 11   \n",
      "12   1501582        2    prior             2          5                 10   \n",
      "13   1901567        2    prior             3          1                 10   \n",
      "14    738281        2    prior             4          2                 10   \n",
      "15   1673511        2    prior             5          3                 11   \n",
      "16   1199898        2    prior             6          2                  9   \n",
      "17   3194192        2    prior             7          2                 12   \n",
      "18    788338        2    prior             8          1                 15   \n",
      "19   1718559        2    prior             9          2                  9   \n",
      "20   1447487        2    prior            10          1                 11   \n",
      "21   1402090        2    prior            11          1                 10   \n",
      "22   3186735        2    prior            12          1                  9   \n",
      "23   3268552        2    prior            13          4                 11   \n",
      "24    839880        2    prior            14          3                 10   \n",
      "25   1492625        2    train            15          1                 11   \n",
      "\n",
      "    days_since_prior_order  \n",
      "11                     NaN  \n",
      "12                    10.0  \n",
      "13                     3.0  \n",
      "14                     8.0  \n",
      "15                     8.0  \n",
      "16                    13.0  \n",
      "17                    14.0  \n",
      "18                    27.0  \n",
      "19                     8.0  \n",
      "20                     6.0  \n",
      "21                    30.0  \n",
      "22                    28.0  \n",
      "23                    30.0  \n",
      "24                    13.0  \n",
      "25                    30.0  )]\n"
     ]
    }
   ],
   "source": [
    "orders_prior_train_user_id=orders_prior_train.groupby(orders_prior_train['user_id'])\n",
    "print( list( orders_prior_train_user_id )[:2])"
   ]
  },
  {
   "cell_type": "code",
   "execution_count": 52,
   "metadata": {},
   "outputs": [
    {
     "ename": "AttributeError",
     "evalue": "Cannot access callable attribute 'reset_index' of 'DataFrameGroupBy' objects, try using the 'apply' method",
     "output_type": "error",
     "traceback": [
      "\u001b[0;31m---------------------------------------------------------------------------\u001b[0m",
      "\u001b[0;31mAttributeError\u001b[0m                            Traceback (most recent call last)",
      "\u001b[0;32m<ipython-input-52-b04545d395e6>\u001b[0m in \u001b[0;36m<module>\u001b[0;34m()\u001b[0m\n\u001b[0;32m----> 1\u001b[0;31m \u001b[0morders_prior_train_user_id\u001b[0m\u001b[0;34m.\u001b[0m\u001b[0mreset_index\u001b[0m\u001b[0;34m(\u001b[0m\u001b[0;34m)\u001b[0m\u001b[0;34m\u001b[0m\u001b[0m\n\u001b[0m",
      "\u001b[0;32m/usr/local/lib/python2.7/dist-packages/pandas/core/groupby.pyc\u001b[0m in \u001b[0;36m__getattr__\u001b[0;34m(self, attr)\u001b[0m\n\u001b[1;32m    524\u001b[0m             \u001b[0;32mreturn\u001b[0m \u001b[0mself\u001b[0m\u001b[0;34m[\u001b[0m\u001b[0mattr\u001b[0m\u001b[0;34m]\u001b[0m\u001b[0;34m\u001b[0m\u001b[0m\n\u001b[1;32m    525\u001b[0m         \u001b[0;32mif\u001b[0m \u001b[0mhasattr\u001b[0m\u001b[0;34m(\u001b[0m\u001b[0mself\u001b[0m\u001b[0;34m.\u001b[0m\u001b[0mobj\u001b[0m\u001b[0;34m,\u001b[0m \u001b[0mattr\u001b[0m\u001b[0;34m)\u001b[0m\u001b[0;34m:\u001b[0m\u001b[0;34m\u001b[0m\u001b[0m\n\u001b[0;32m--> 526\u001b[0;31m             \u001b[0;32mreturn\u001b[0m \u001b[0mself\u001b[0m\u001b[0;34m.\u001b[0m\u001b[0m_make_wrapper\u001b[0m\u001b[0;34m(\u001b[0m\u001b[0mattr\u001b[0m\u001b[0;34m)\u001b[0m\u001b[0;34m\u001b[0m\u001b[0m\n\u001b[0m\u001b[1;32m    527\u001b[0m \u001b[0;34m\u001b[0m\u001b[0m\n\u001b[1;32m    528\u001b[0m         raise AttributeError(\"%r object has no attribute %r\" %\n",
      "\u001b[0;32m/usr/local/lib/python2.7/dist-packages/pandas/core/groupby.pyc\u001b[0m in \u001b[0;36m_make_wrapper\u001b[0;34m(self, name)\u001b[0m\n\u001b[1;32m    538\u001b[0m                    \"using the 'apply' method\".format(kind, name,\n\u001b[1;32m    539\u001b[0m                                                      type(self).__name__))\n\u001b[0;32m--> 540\u001b[0;31m             \u001b[0;32mraise\u001b[0m \u001b[0mAttributeError\u001b[0m\u001b[0;34m(\u001b[0m\u001b[0mmsg\u001b[0m\u001b[0;34m)\u001b[0m\u001b[0;34m\u001b[0m\u001b[0m\n\u001b[0m\u001b[1;32m    541\u001b[0m \u001b[0;34m\u001b[0m\u001b[0m\n\u001b[1;32m    542\u001b[0m         \u001b[0;31m# need to setup the selection\u001b[0m\u001b[0;34m\u001b[0m\u001b[0;34m\u001b[0m\u001b[0m\n",
      "\u001b[0;31mAttributeError\u001b[0m: Cannot access callable attribute 'reset_index' of 'DataFrameGroupBy' objects, try using the 'apply' method"
     ]
    }
   ],
   "source": [
    "orders_prior_train_user_id.reset_index()\n"
   ]
  },
  {
   "cell_type": "code",
   "execution_count": null,
   "metadata": {
    "collapsed": true
   },
   "outputs": [],
   "source": [
    "orders_prior_train_uid.head()"
   ]
  },
  {
   "cell_type": "code",
   "execution_count": 48,
   "metadata": {},
   "outputs": [
    {
     "ename": "TypeError",
     "evalue": "'DataFrameGroupBy' object does not support item assignment",
     "output_type": "error",
     "traceback": [
      "\u001b[0;31m---------------------------------------------------------------------------\u001b[0m",
      "\u001b[0;31mTypeError\u001b[0m                                 Traceback (most recent call last)",
      "\u001b[0;32m<ipython-input-48-8c39712cd3eb>\u001b[0m in \u001b[0;36m<module>\u001b[0;34m()\u001b[0m\n\u001b[1;32m      2\u001b[0m \u001b[0;31m#        orders_prior_train_user_id['days_since_prior_order']))\u001b[0m\u001b[0;34m\u001b[0m\u001b[0;34m\u001b[0m\u001b[0m\n\u001b[1;32m      3\u001b[0m \u001b[0;31m#print(type(orders_prior_train_user_id_vec))\u001b[0m\u001b[0;34m\u001b[0m\u001b[0;34m\u001b[0m\u001b[0m\n\u001b[0;32m----> 4\u001b[0;31m \u001b[0morders_prior_train_user_id\u001b[0m\u001b[0;34m[\u001b[0m\u001b[0;34m'dow_hour'\u001b[0m\u001b[0;34m]\u001b[0m \u001b[0;34m=\u001b[0m \u001b[0mlist\u001b[0m\u001b[0;34m(\u001b[0m\u001b[0mzip\u001b[0m\u001b[0;34m(\u001b[0m\u001b[0morders_prior_train_user_id\u001b[0m\u001b[0;34m[\u001b[0m\u001b[0;34m'order_dow'\u001b[0m\u001b[0;34m]\u001b[0m\u001b[0;34m,\u001b[0m\u001b[0morders_prior_train_user_id\u001b[0m\u001b[0;34m[\u001b[0m\u001b[0;34m'order_hour_of_day'\u001b[0m\u001b[0;34m]\u001b[0m\u001b[0;34m)\u001b[0m\u001b[0;34m)\u001b[0m\u001b[0;34m\u001b[0m\u001b[0m\n\u001b[0m",
      "\u001b[0;31mTypeError\u001b[0m: 'DataFrameGroupBy' object does not support item assignment"
     ]
    }
   ],
   "source": [
    "#orders_prior_train_user_id_vec=list(zip(list(zip(orders_prior_train_user_id['order_dow'],orders_prior_train_user_id['order_hour_of_day'])), \n",
    "#        orders_prior_train_user_id['days_since_prior_order']))\n",
    "#print(type(orders_prior_train_user_id_vec))\n",
    "orders_prior_train_user_id['dow_hour'] = list(zip(orders_prior_train_uid['order_dow'],orders_prior_train_user_id['order_hour_of_day']))\n"
   ]
  },
  {
   "cell_type": "code",
   "execution_count": 47,
   "metadata": {},
   "outputs": [
    {
     "data": {
      "text/html": [
       "<div>\n",
       "<table border=\"1\" class=\"dataframe\">\n",
       "  <thead>\n",
       "    <tr style=\"text-align: right;\">\n",
       "      <th></th>\n",
       "      <th>0</th>\n",
       "      <th>1</th>\n",
       "    </tr>\n",
       "  </thead>\n",
       "  <tbody>\n",
       "    <tr>\n",
       "      <th>0</th>\n",
       "      <td>(1, [2, 3, 3, 4, 4, 2, 1, 1, 1, 4, 4])</td>\n",
       "      <td>(1, [8, 7, 12, 7, 15, 7, 9, 14, 16, 8, 8])</td>\n",
       "    </tr>\n",
       "    <tr>\n",
       "      <th>1</th>\n",
       "      <td>(2, [2, 5, 1, 2, 3, 2, 2, 1, 2, 1, 1, 1, 4, 3,...</td>\n",
       "      <td>(2, [11, 10, 10, 10, 11, 9, 12, 15, 9, 11, 10,...</td>\n",
       "    </tr>\n",
       "    <tr>\n",
       "      <th>2</th>\n",
       "      <td>(3, [1, 3, 3, 2, 0, 0, 0, 0, 0, 3, 0, 1])</td>\n",
       "      <td>(3, [14, 19, 16, 18, 17, 16, 15, 17, 16, 16, 1...</td>\n",
       "    </tr>\n",
       "  </tbody>\n",
       "</table>\n",
       "</div>"
      ],
      "text/plain": [
       "                                                   0  \\\n",
       "0             (1, [2, 3, 3, 4, 4, 2, 1, 1, 1, 4, 4])   \n",
       "1  (2, [2, 5, 1, 2, 3, 2, 2, 1, 2, 1, 1, 1, 4, 3,...   \n",
       "2          (3, [1, 3, 3, 2, 0, 0, 0, 0, 0, 3, 0, 1])   \n",
       "\n",
       "                                                   1  \n",
       "0         (1, [8, 7, 12, 7, 15, 7, 9, 14, 16, 8, 8])  \n",
       "1  (2, [11, 10, 10, 10, 11, 9, 12, 15, 9, 11, 10,...  \n",
       "2  (3, [14, 19, 16, 18, 17, 16, 15, 17, 16, 16, 1...  "
      ]
     },
     "execution_count": 47,
     "metadata": {},
     "output_type": "execute_result"
    }
   ],
   "source": [
    "orders_prior_train_user_id.head()"
   ]
  },
  {
   "cell_type": "code",
   "execution_count": null,
   "metadata": {
    "collapsed": true
   },
   "outputs": [],
   "source": []
  }
 ],
 "metadata": {
  "kernelspec": {
   "display_name": "Python 2",
   "language": "python",
   "name": "python2"
  },
  "language_info": {
   "codemirror_mode": {
    "name": "ipython",
    "version": 2
   },
   "file_extension": ".py",
   "mimetype": "text/x-python",
   "name": "python",
   "nbconvert_exporter": "python",
   "pygments_lexer": "ipython2",
   "version": "2.7.12"
  }
 },
 "nbformat": 4,
 "nbformat_minor": 2
}

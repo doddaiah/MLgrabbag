{
 "cells": [
  {
   "cell_type": "markdown",
   "metadata": {},
   "source": [
    "I tried these THEANO flags at the prompt:   \n",
    "\n",
    "```     \n",
    "THEANO_FLAGS='mode=FAST_RUN,floatX=float32,device=gpu0,lib.cnmem=0.80,optimizer_excluding=low_memory' jupyter notebook\n",
    "\n",
    "```    "
   ]
  },
  {
   "cell_type": "code",
   "execution_count": 1,
   "metadata": {
    "collapsed": true
   },
   "outputs": [],
   "source": [
    "%matplotlib inline"
   ]
  },
  {
   "cell_type": "code",
   "execution_count": 2,
   "metadata": {
    "collapsed": true
   },
   "outputs": [],
   "source": [
    "from collections import namedtuple"
   ]
  },
  {
   "cell_type": "code",
   "execution_count": 3,
   "metadata": {
    "collapsed": true
   },
   "outputs": [],
   "source": [
    "import matplotlib.pyplot as plt\n",
    "import sklearn\n",
    "from sklearn import datasets\n",
    "import pandas as pd"
   ]
  },
  {
   "cell_type": "code",
   "execution_count": 4,
   "metadata": {
    "collapsed": false
   },
   "outputs": [
    {
     "name": "stderr",
     "output_type": "stream",
     "text": [
      "Using gpu device 0: GeForce GTX 980 Ti (CNMeM is enabled with initial size: 80.0% of memory, cuDNN 5105)\n",
      "/home/topolo/Public/anaconda2/lib/python2.7/site-packages/theano/sandbox/cuda/__init__.py:600: UserWarning: Your cuDNN version is more recent than the one Theano officially supports. If you see any problems, try updating Theano or downgrading cuDNN to version 5.\n",
      "  warnings.warn(warn)\n"
     ]
    }
   ],
   "source": [
    "import theano"
   ]
  },
  {
   "cell_type": "code",
   "execution_count": 5,
   "metadata": {
    "collapsed": true
   },
   "outputs": [],
   "source": [
    "from theano import function, config, sandbox, shared \n",
    "import theano.tensor as T"
   ]
  },
  {
   "cell_type": "code",
   "execution_count": 6,
   "metadata": {
    "collapsed": true
   },
   "outputs": [],
   "source": [
    "import numpy as np\n",
    "import scipy\n",
    "import time"
   ]
  },
  {
   "cell_type": "code",
   "execution_count": 7,
   "metadata": {
    "collapsed": false
   },
   "outputs": [
    {
     "name": "stdout",
     "output_type": "stream",
     "text": [
      "gpu0\n",
      "0.8\n",
      "True\n"
     ]
    }
   ],
   "source": [
    "print( theano.config.device )\n",
    "print( theano.config.lib.cnmem)  # cf. http://deeplearning.net/software/theano/library/config.html\n",
    "print( theano.config.print_active_device)# Print active device at when the GPU device is initialized."
   ]
  },
  {
   "cell_type": "code",
   "execution_count": 8,
   "metadata": {
    "collapsed": false
   },
   "outputs": [
    {
     "data": {
      "text/plain": [
       "'/home/topolo/PropD/MLgrabbag'"
      ]
     },
     "execution_count": 8,
     "metadata": {},
     "output_type": "execute_result"
    }
   ],
   "source": [
    "import os, sys\n",
    "os.getcwd()"
   ]
  },
  {
   "cell_type": "code",
   "execution_count": 9,
   "metadata": {
    "collapsed": false
   },
   "outputs": [
    {
     "name": "stdout",
     "output_type": "stream",
     "text": [
      "[GpuElemwise{exp,no_inplace}(<CudaNdarrayType(float32, vector)>), HostFromGpu(GpuElemwise{exp,no_inplace}.0)]\n",
      "Looping 1000 times took 0.221608 seconds\n",
      "Result is [ 1.23178029  1.61879349  1.52278066 ...,  2.20771813  2.29967761\n",
      "  1.62323296]\n",
      "Used the gpu\n"
     ]
    }
   ],
   "source": [
    "%run gpu_test.py THEANO_FLAGS='mode=FAST_RUN,device=gpu,floatX=float32,lib.cnmem=0.65' # note lib.cnmem option for CnMem"
   ]
  },
  {
   "cell_type": "code",
   "execution_count": 9,
   "metadata": {
    "collapsed": false
   },
   "outputs": [
    {
     "name": "stdout",
     "output_type": "stream",
     "text": [
      "False\n",
      "\n"
     ]
    }
   ],
   "source": [
    "print(theano.config.allow_gc)\n",
    "print(theano.config.optimizer_excluding)"
   ]
  },
  {
   "cell_type": "code",
   "execution_count": 10,
   "metadata": {
    "collapsed": false
   },
   "outputs": [
    {
     "name": "stdout",
     "output_type": "stream",
     "text": [
      "False\n"
     ]
    }
   ],
   "source": [
    "# cf. http://deeplearning.net/software/theano/faq.html\n",
    "theano.config.allow_gc=False\n",
    "print(theano.config.allow_gc)"
   ]
  },
  {
   "cell_type": "code",
   "execution_count": 11,
   "metadata": {
    "collapsed": false
   },
   "outputs": [
    {
     "data": {
      "text/plain": [
       "'low_memory'"
      ]
     },
     "execution_count": 11,
     "metadata": {},
     "output_type": "execute_result"
    }
   ],
   "source": [
    "\"\"\"A list of optimizer tags that we don’t want included in the default Mode. \n",
    "If multiple tags, separate them by ‘:’. \n",
    "Ex: to remove the elemwise inplace optimizer(slow for big graph), \n",
    "use the flags: optimizer_excluding:inplace_opt, where inplace_opt is the name of that optimization.\"\"\"\n",
    "theano.config.optimizer_excluding"
   ]
  },
  {
   "cell_type": "markdown",
   "metadata": {},
   "source": [
    "cf. [Theano memory/speed trade-off](http://deeplearning.net/software/theano/faq.html)\n",
    "\n",
    "\"Could raise memory usage but speed up computation:\"\n",
    "Try this:"
   ]
  },
  {
   "cell_type": "code",
   "execution_count": 25,
   "metadata": {
    "collapsed": false
   },
   "outputs": [
    {
     "ename": "Exception",
     "evalue": "Can't change the value of this config parameter after initialization!",
     "output_type": "error",
     "traceback": [
      "\u001b[1;31m---------------------------------------------------------------------------\u001b[0m",
      "\u001b[1;31mException\u001b[0m                                 Traceback (most recent call last)",
      "\u001b[1;32m<ipython-input-25-a54a5d9832d0>\u001b[0m in \u001b[0;36m<module>\u001b[1;34m()\u001b[0m\n\u001b[1;32m----> 1\u001b[1;33m \u001b[0mconfig\u001b[0m\u001b[1;33m.\u001b[0m\u001b[0moptimizer_excluding\u001b[0m \u001b[1;33m=\u001b[0m\u001b[1;34m\"low_memory\"\u001b[0m\u001b[1;33m\u001b[0m\u001b[0m\n\u001b[0m",
      "\u001b[1;32m/home/topolo/Public/anaconda2/lib/python2.7/site-packages/theano/configparser.pyc\u001b[0m in \u001b[0;36m__set__\u001b[1;34m(self, cls, val)\u001b[0m\n\u001b[0;32m    329\u001b[0m         \u001b[1;32mif\u001b[0m \u001b[1;32mnot\u001b[0m \u001b[0mself\u001b[0m\u001b[1;33m.\u001b[0m\u001b[0mallow_override\u001b[0m \u001b[1;32mand\u001b[0m \u001b[0mhasattr\u001b[0m\u001b[1;33m(\u001b[0m\u001b[0mself\u001b[0m\u001b[1;33m,\u001b[0m \u001b[1;34m'val'\u001b[0m\u001b[1;33m)\u001b[0m\u001b[1;33m:\u001b[0m\u001b[1;33m\u001b[0m\u001b[0m\n\u001b[0;32m    330\u001b[0m             raise Exception(\n\u001b[1;32m--> 331\u001b[1;33m                 \u001b[1;34m\"Can't change the value of this config parameter \"\u001b[0m\u001b[1;33m\u001b[0m\u001b[0m\n\u001b[0m\u001b[0;32m    332\u001b[0m                 \"after initialization!\")\n\u001b[0;32m    333\u001b[0m         \u001b[1;31m# print \"SETTING PARAM\", self.fullname,(cls), val\u001b[0m\u001b[1;33m\u001b[0m\u001b[1;33m\u001b[0m\u001b[0m\n",
      "\u001b[1;31mException\u001b[0m: Can't change the value of this config parameter after initialization!"
     ]
    }
   ],
   "source": [
    "config.optimizer_excluding =\"low_memory\" "
   ]
  },
  {
   "cell_type": "code",
   "execution_count": 10,
   "metadata": {
    "collapsed": true
   },
   "outputs": [],
   "source": [
    "from six.moves import cPickle"
   ]
  },
  {
   "cell_type": "markdown",
   "metadata": {},
   "source": [
    "# Notes on *`scan`*; using `theano.scan`, what is scan"
   ]
  },
  {
   "cell_type": "markdown",
   "metadata": {},
   "source": [
    "cf. http://deeplearning.net/software/theano/library/scan.html"
   ]
  },
  {
   "cell_type": "markdown",
   "metadata": {},
   "source": [
    "```  \n",
    "    theano.scan(fn,\n",
    "                sequences=None,\n",
    "                outputs_info, \n",
    "                non_sequences=None\n",
    "                mode=None,name=None)   \n",
    "    \n",
    "```      \n",
    "\n",
    "* `fn` function should expect as input: theano variables, representing all slices of input sequences, and previous output values  \n",
    "    - order of sequences is same as one in list `sequences` \n",
    "    - order of outputs of this function is same as order of `outputs_info`\n",
    "* `sequences` - list of Theano variables or dictionaries describing the sequences `scan` has to iterate over \n",
    "* `outputs_info` - list of theano varialbes or dictionaries describing the initial state of outputs computed recurrently\n",
    "    \n",
    "    "
   ]
  },
  {
   "cell_type": "code",
   "execution_count": null,
   "metadata": {
    "collapsed": true
   },
   "outputs": [],
   "source": []
  },
  {
   "cell_type": "markdown",
   "metadata": {},
   "source": [
    "# RNN (Recurrent Neural Networks), LSTM (Long Short-Term Memory)"
   ]
  },
  {
   "cell_type": "code",
   "execution_count": 11,
   "metadata": {
    "collapsed": true
   },
   "outputs": [],
   "source": [
    "import reberGrammar"
   ]
  },
  {
   "cell_type": "code",
   "execution_count": 10,
   "metadata": {
    "collapsed": false
   },
   "outputs": [],
   "source": [
    "train_data = reberGrammar.get_one_embedded_example() # pair (train-sequence, target-sequence)"
   ]
  },
  {
   "cell_type": "code",
   "execution_count": 12,
   "metadata": {
    "collapsed": true
   },
   "outputs": [],
   "source": [
    "train_data = reberGrammar.get_n_embedded_examples(1000)"
   ]
  },
  {
   "cell_type": "code",
   "execution_count": 12,
   "metadata": {
    "collapsed": false
   },
   "outputs": [
    {
     "name": "stdout",
     "output_type": "stream",
     "text": [
      "<type 'tuple'>\n",
      "2\n",
      "<type 'list'>\n",
      "15\n",
      "15\n",
      "<type 'numpy.ndarray'>\n",
      "(7,)\n",
      "<type 'numpy.ndarray'>\n",
      "(7,)\n"
     ]
    }
   ],
   "source": [
    "print(type(train_data)); print(len(train_data)); print(type(train_data[0])); print(len(train_data[0])); \n",
    "print(len(train_data[1]))\n",
    "#for arr in eg00[0]:\n",
    "#    print(type(arr)); print(arr.shape)\n",
    "print(type(train_data[0][0])); print(train_data[0][0].shape)\n",
    "print(type(train_data[1][0])); print(train_data[1][0].shape)"
   ]
  },
  {
   "cell_type": "code",
   "execution_count": 14,
   "metadata": {
    "collapsed": false
   },
   "outputs": [
    {
     "name": "stdout",
     "output_type": "stream",
     "text": [
      "[ 1.  0.  0.  0.  0.  0.  0.]\n"
     ]
    },
    {
     "data": {
      "text/plain": [
       "[array([ 0.,  1.,  0.,  0.,  1.,  0.,  0.]),\n",
       " array([ 1.,  0.,  0.,  0.,  0.,  0.,  0.]),\n",
       " array([ 0.,  1.,  0.,  0.,  1.,  0.,  0.]),\n",
       " array([ 0.,  0.,  1.,  1.,  0.,  0.,  0.]),\n",
       " array([ 0.,  0.,  1.,  1.,  0.,  0.,  0.]),\n",
       " array([ 0.,  0.,  1.,  1.,  0.,  0.,  0.]),\n",
       " array([ 0.,  0.,  1.,  1.,  0.,  0.,  0.]),\n",
       " array([ 0.,  0.,  1.,  1.,  0.,  0.,  0.]),\n",
       " array([ 0.,  1.,  0.,  0.,  0.,  1.,  0.]),\n",
       " array([ 0.,  1.,  0.,  0.,  0.,  1.,  0.]),\n",
       " array([ 0.,  0.,  0.,  0.,  1.,  1.,  0.]),\n",
       " array([ 0.,  0.,  1.,  1.,  0.,  0.,  0.]),\n",
       " array([ 0.,  0.,  0.,  0.,  0.,  0.,  1.]),\n",
       " array([ 0.,  0.,  0.,  0.,  1.,  0.,  0.]),\n",
       " array([ 0.,  0.,  0.,  0.,  0.,  0.,  1.])]"
      ]
     },
     "execution_count": 14,
     "metadata": {},
     "output_type": "execute_result"
    }
   ],
   "source": [
    "# for example\n",
    "print( train_data[0][0])\n",
    "train_data[1]"
   ]
  },
  {
   "cell_type": "code",
   "execution_count": 15,
   "metadata": {
    "collapsed": true
   },
   "outputs": [],
   "source": [
    "X_train_data = train_data[0]\n",
    "y_train_data = train_data[1]"
   ]
  },
  {
   "cell_type": "code",
   "execution_count": 28,
   "metadata": {
    "collapsed": false
   },
   "outputs": [
    {
     "name": "stdout",
     "output_type": "stream",
     "text": [
      "<type 'list'>\n",
      "1000\n",
      "<type 'tuple'>\n",
      "2\n",
      "<type 'list'>\n",
      "14\n",
      "<type 'numpy.ndarray'>\n",
      "(7,)\n"
     ]
    }
   ],
   "source": [
    "print(type(train_data)); print(len(train_data)); print(type(train_data[0])); \n",
    "print(len(train_data[0])); print( type( train_data[0][0] ) ) ; print( len(train_data[0][0])); \n",
    "print( type(train_data[0][0][0])) ; print( train_data[0][0][0].shape)"
   ]
  },
  {
   "cell_type": "code",
   "execution_count": 17,
   "metadata": {
    "collapsed": false
   },
   "outputs": [
    {
     "data": {
      "text/html": [
       "<div>\n",
       "<table border=\"1\" class=\"dataframe\">\n",
       "  <thead>\n",
       "    <tr style=\"text-align: right;\">\n",
       "      <th></th>\n",
       "      <th>0</th>\n",
       "      <th>1</th>\n",
       "      <th>2</th>\n",
       "      <th>3</th>\n",
       "      <th>4</th>\n",
       "      <th>5</th>\n",
       "      <th>6</th>\n",
       "    </tr>\n",
       "  </thead>\n",
       "  <tbody>\n",
       "    <tr>\n",
       "      <th>count</th>\n",
       "      <td>15.000000</td>\n",
       "      <td>15.000000</td>\n",
       "      <td>15.000000</td>\n",
       "      <td>15.000000</td>\n",
       "      <td>15.000000</td>\n",
       "      <td>15.000000</td>\n",
       "      <td>15.000000</td>\n",
       "    </tr>\n",
       "    <tr>\n",
       "      <th>mean</th>\n",
       "      <td>0.133333</td>\n",
       "      <td>0.133333</td>\n",
       "      <td>0.266667</td>\n",
       "      <td>0.133333</td>\n",
       "      <td>0.200000</td>\n",
       "      <td>0.066667</td>\n",
       "      <td>0.066667</td>\n",
       "    </tr>\n",
       "    <tr>\n",
       "      <th>std</th>\n",
       "      <td>0.351866</td>\n",
       "      <td>0.351866</td>\n",
       "      <td>0.457738</td>\n",
       "      <td>0.351866</td>\n",
       "      <td>0.414039</td>\n",
       "      <td>0.258199</td>\n",
       "      <td>0.258199</td>\n",
       "    </tr>\n",
       "    <tr>\n",
       "      <th>min</th>\n",
       "      <td>0.000000</td>\n",
       "      <td>0.000000</td>\n",
       "      <td>0.000000</td>\n",
       "      <td>0.000000</td>\n",
       "      <td>0.000000</td>\n",
       "      <td>0.000000</td>\n",
       "      <td>0.000000</td>\n",
       "    </tr>\n",
       "    <tr>\n",
       "      <th>25%</th>\n",
       "      <td>0.000000</td>\n",
       "      <td>0.000000</td>\n",
       "      <td>0.000000</td>\n",
       "      <td>0.000000</td>\n",
       "      <td>0.000000</td>\n",
       "      <td>0.000000</td>\n",
       "      <td>0.000000</td>\n",
       "    </tr>\n",
       "    <tr>\n",
       "      <th>50%</th>\n",
       "      <td>0.000000</td>\n",
       "      <td>0.000000</td>\n",
       "      <td>0.000000</td>\n",
       "      <td>0.000000</td>\n",
       "      <td>0.000000</td>\n",
       "      <td>0.000000</td>\n",
       "      <td>0.000000</td>\n",
       "    </tr>\n",
       "    <tr>\n",
       "      <th>75%</th>\n",
       "      <td>0.000000</td>\n",
       "      <td>0.000000</td>\n",
       "      <td>0.500000</td>\n",
       "      <td>0.000000</td>\n",
       "      <td>0.000000</td>\n",
       "      <td>0.000000</td>\n",
       "      <td>0.000000</td>\n",
       "    </tr>\n",
       "    <tr>\n",
       "      <th>max</th>\n",
       "      <td>1.000000</td>\n",
       "      <td>1.000000</td>\n",
       "      <td>1.000000</td>\n",
       "      <td>1.000000</td>\n",
       "      <td>1.000000</td>\n",
       "      <td>1.000000</td>\n",
       "      <td>1.000000</td>\n",
       "    </tr>\n",
       "  </tbody>\n",
       "</table>\n",
       "</div>"
      ],
      "text/plain": [
       "               0          1          2          3          4          5  \\\n",
       "count  15.000000  15.000000  15.000000  15.000000  15.000000  15.000000   \n",
       "mean    0.133333   0.133333   0.266667   0.133333   0.200000   0.066667   \n",
       "std     0.351866   0.351866   0.457738   0.351866   0.414039   0.258199   \n",
       "min     0.000000   0.000000   0.000000   0.000000   0.000000   0.000000   \n",
       "25%     0.000000   0.000000   0.000000   0.000000   0.000000   0.000000   \n",
       "50%     0.000000   0.000000   0.000000   0.000000   0.000000   0.000000   \n",
       "75%     0.000000   0.000000   0.500000   0.000000   0.000000   0.000000   \n",
       "max     1.000000   1.000000   1.000000   1.000000   1.000000   1.000000   \n",
       "\n",
       "               6  \n",
       "count  15.000000  \n",
       "mean    0.066667  \n",
       "std     0.258199  \n",
       "min     0.000000  \n",
       "25%     0.000000  \n",
       "50%     0.000000  \n",
       "75%     0.000000  \n",
       "max     1.000000  "
      ]
     },
     "execution_count": 17,
     "metadata": {},
     "output_type": "execute_result"
    }
   ],
   "source": [
    "pd.DataFrame(X_train_data).describe()"
   ]
  },
  {
   "cell_type": "code",
   "execution_count": 33,
   "metadata": {
    "collapsed": false
   },
   "outputs": [
    {
     "name": "stdout",
     "output_type": "stream",
     "text": [
      "853\n",
      "[ 1.  0.  0.  0.  0.  0.  0.]\n",
      "[ 0.  1.  0.  0.  1.  0.  0.]\n"
     ]
    }
   ],
   "source": [
    "index = np.random.randint(0, len(train_data)); print(index);\n",
    "i,o = train_data[index]; print(i[0]); print(o[0])"
   ]
  },
  {
   "cell_type": "code",
   "execution_count": 17,
   "metadata": {
    "collapsed": false
   },
   "outputs": [
    {
     "ename": "NameError",
     "evalue": "name 'reberGrammar' is not defined",
     "output_type": "error",
     "traceback": [
      "\u001b[1;31m---------------------------------------------------------------------------\u001b[0m",
      "\u001b[1;31mNameError\u001b[0m                                 Traceback (most recent call last)",
      "\u001b[1;32m<ipython-input-17-1b998b031bed>\u001b[0m in \u001b[0;36m<module>\u001b[1;34m()\u001b[0m\n\u001b[1;32m----> 1\u001b[1;33m \u001b[0mtrain_data\u001b[0m \u001b[1;33m=\u001b[0m \u001b[0mreberGrammar\u001b[0m\u001b[1;33m.\u001b[0m\u001b[0mget_n_embedded_examples\u001b[0m\u001b[1;33m(\u001b[0m\u001b[1;36m1000\u001b[0m\u001b[1;33m)\u001b[0m\u001b[1;33m\u001b[0m\u001b[0m\n\u001b[0m",
      "\u001b[1;31mNameError\u001b[0m: name 'reberGrammar' is not defined"
     ]
    }
   ],
   "source": [
    "train_data = reberGrammar.get_n_embedded_examples(1000)"
   ]
  },
  {
   "cell_type": "code",
   "execution_count": 11,
   "metadata": {
    "collapsed": false
   },
   "outputs": [
    {
     "name": "stdout",
     "output_type": "stream",
     "text": [
      "<type 'list'>\n",
      "1000\n",
      "<type 'tuple'>\n",
      "2\n",
      "<type 'list'>\n",
      "<type 'list'>\n",
      "14\n",
      "14\n",
      "<type 'numpy.ndarray'>\n",
      "(7,)\n"
     ]
    }
   ],
   "source": [
    "print( type(train_data)); print(len(train_data)); print(type( train_data[0]));print(len(train_data[0]));\n",
    "print(type(train_data[0][0])); print(type(train_data[0][1])); print(len(train_data[0][0]));print(len(train_data[0][1]))\n",
    "print(type(train_data[0][0][0])); print(train_data[0][0][0].shape)"
   ]
  },
  {
   "cell_type": "code",
   "execution_count": 12,
   "metadata": {
    "collapsed": false
   },
   "outputs": [
    {
     "name": "stdout",
     "output_type": "stream",
     "text": [
      "908\n"
     ]
    }
   ],
   "source": [
    "index=np.random.randint(0,len(train_data)); print(index)"
   ]
  },
  {
   "cell_type": "code",
   "execution_count": 13,
   "metadata": {
    "collapsed": false
   },
   "outputs": [
    {
     "name": "stdout",
     "output_type": "stream",
     "text": [
      "<type 'list'>\n",
      "<type 'list'>\n",
      "14\n",
      "14\n"
     ]
    }
   ],
   "source": [
    "i,o = train_data[index]\n",
    "print(type(i));print(type(o));print(len(i));print(len(o))"
   ]
  },
  {
   "cell_type": "markdown",
   "metadata": {},
   "source": [
    "Split up `train_data` into input training examples $X$, and output data $y$, each a function of time $t=0,1,\\dots T-1$, where $T=1000$ in this case.  "
   ]
  },
  {
   "cell_type": "code",
   "execution_count": 30,
   "metadata": {
    "collapsed": true
   },
   "outputs": [],
   "source": [
    "X_train_datat, y_train_datat = zip(*train_data)"
   ]
  },
  {
   "cell_type": "code",
   "execution_count": 36,
   "metadata": {
    "collapsed": false
   },
   "outputs": [
    {
     "name": "stdout",
     "output_type": "stream",
     "text": [
      "<type 'tuple'>\n",
      "1000\n",
      "<type 'list'>\n",
      "17\n"
     ]
    },
    {
     "data": {
      "text/plain": [
       "[array([ 1.,  0.,  0.,  0.,  0.,  0.,  0.]),\n",
       " array([ 0.,  0.,  0.,  0.,  1.,  0.,  0.]),\n",
       " array([ 1.,  0.,  0.,  0.,  0.,  0.,  0.]),\n",
       " array([ 0.,  1.,  0.,  0.,  0.,  0.,  0.]),\n",
       " array([ 0.,  0.,  0.,  1.,  0.,  0.,  0.]),\n",
       " array([ 0.,  0.,  0.,  1.,  0.,  0.,  0.]),\n",
       " array([ 0.,  0.,  0.,  0.,  0.,  1.,  0.]),\n",
       " array([ 0.,  0.,  0.,  0.,  1.,  0.,  0.]),\n",
       " array([ 0.,  0.,  0.,  1.,  0.,  0.,  0.]),\n",
       " array([ 0.,  0.,  0.,  0.,  0.,  1.,  0.]),\n",
       " array([ 0.,  0.,  0.,  0.,  1.,  0.,  0.]),\n",
       " array([ 0.,  0.,  0.,  1.,  0.,  0.,  0.]),\n",
       " array([ 0.,  1.,  0.,  0.,  0.,  0.,  0.]),\n",
       " array([ 0.,  0.,  0.,  0.,  0.,  1.,  0.]),\n",
       " array([ 0.,  0.,  0.,  0.,  0.,  1.,  0.]),\n",
       " array([ 0.,  0.,  0.,  0.,  0.,  0.,  1.]),\n",
       " array([ 0.,  0.,  0.,  0.,  1.,  0.,  0.])]"
      ]
     },
     "execution_count": 36,
     "metadata": {},
     "output_type": "execute_result"
    }
   ],
   "source": [
    "print(type(X_train_datat)); print(len(X_train_datat)); print(type(X_train_datat[0]));print(len(X_train_datat[0]))\n",
    "X_train_datat[0]"
   ]
  },
  {
   "cell_type": "code",
   "execution_count": 37,
   "metadata": {
    "collapsed": false
   },
   "outputs": [
    {
     "name": "stdout",
     "output_type": "stream",
     "text": [
      "<type 'tuple'>\n",
      "1000\n",
      "<type 'list'>\n",
      "17\n"
     ]
    },
    {
     "data": {
      "text/plain": [
       "[array([ 0.,  1.,  0.,  0.,  1.,  0.,  0.]),\n",
       " array([ 1.,  0.,  0.,  0.,  0.,  0.,  0.]),\n",
       " array([ 0.,  1.,  0.,  0.,  1.,  0.,  0.]),\n",
       " array([ 0.,  0.,  1.,  1.,  0.,  0.,  0.]),\n",
       " array([ 0.,  0.,  1.,  1.,  0.,  0.,  0.]),\n",
       " array([ 0.,  1.,  0.,  0.,  0.,  1.,  0.]),\n",
       " array([ 0.,  0.,  0.,  0.,  1.,  1.,  0.]),\n",
       " array([ 0.,  0.,  1.,  1.,  0.,  0.,  0.]),\n",
       " array([ 0.,  1.,  0.,  0.,  0.,  1.,  0.]),\n",
       " array([ 0.,  0.,  0.,  0.,  1.,  1.,  0.]),\n",
       " array([ 0.,  0.,  1.,  1.,  0.,  0.,  0.]),\n",
       " array([ 0.,  1.,  0.,  0.,  0.,  1.,  0.]),\n",
       " array([ 0.,  1.,  0.,  0.,  0.,  1.,  0.]),\n",
       " array([ 0.,  0.,  0.,  0.,  1.,  1.,  0.]),\n",
       " array([ 0.,  0.,  0.,  0.,  0.,  0.,  1.]),\n",
       " array([ 0.,  0.,  0.,  0.,  1.,  0.,  0.]),\n",
       " array([ 0.,  0.,  0.,  0.,  0.,  0.,  1.])]"
      ]
     },
     "execution_count": 37,
     "metadata": {},
     "output_type": "execute_result"
    }
   ],
   "source": [
    "print(type(y_train_datat)); print(len(y_train_datat)); print(type(y_train_datat[0]));print(len(y_train_datat[0]))\n",
    "y_train_datat[0]"
   ]
  },
  {
   "cell_type": "code",
   "execution_count": 40,
   "metadata": {
    "collapsed": true
   },
   "outputs": [],
   "source": [
    "dtype=theano.config.floatX\n",
    "#TODO: Use a more appropriate initialization method\n",
    "def sample_weights(sizeX, sizeY):\n",
    "    values = np.ndarray([sizeX, sizeY], dtype=dtype)\n",
    "    for dx in xrange(sizeX):\n",
    "        vals = np.random.uniform(low=-1., high=1.,  size=(sizeY,))\n",
    "        #vals_norm = np.sqrt((vals**2).sum())\n",
    "        #vals = vals / vals_norm\n",
    "        values[dx,:] = vals\n",
    "    _,svs,_ = np.linalg.svd(values)\n",
    "    #svs[0] is the largest singular value                      \n",
    "    values = values / svs[0]\n",
    "    return values  "
   ]
  },
  {
   "cell_type": "code",
   "execution_count": 42,
   "metadata": {
    "collapsed": false
   },
   "outputs": [
    {
     "data": {
      "text/plain": [
       "(7, 10)"
      ]
     },
     "execution_count": 42,
     "metadata": {},
     "output_type": "execute_result"
    }
   ],
   "source": [
    "sample_weights(7,10).shape"
   ]
  },
  {
   "cell_type": "markdown",
   "metadata": {
    "collapsed": true
   },
   "source": [
    "## Herta's LSTM"
   ]
  },
  {
   "cell_type": "code",
   "execution_count": 15,
   "metadata": {
    "collapsed": false
   },
   "outputs": [],
   "source": [
    "sys.path.append( os.getcwd() + '/ML' )"
   ]
  },
  {
   "cell_type": "markdown",
   "metadata": {},
   "source": [
    "import in my code from the folder `./ML`"
   ]
  },
  {
   "cell_type": "code",
   "execution_count": 15,
   "metadata": {
    "collapsed": true
   },
   "outputs": [],
   "source": [
    "from LSTM import Gates, Thetab, ThetabthetaW"
   ]
  },
  {
   "cell_type": "code",
   "execution_count": 16,
   "metadata": {
    "collapsed": false
   },
   "outputs": [],
   "source": [
    "from LSTM_Herta import *\n",
    "#from LSTM_Herta import Gates, Psis, Thetab_right, Thetabtheta_right, ThetabthetaW, Feedforward_g_right, Feedforward_ifo_right, LSTM_Model_right, MemoryBlock_right"
   ]
  },
  {
   "cell_type": "code",
   "execution_count": 17,
   "metadata": {
    "collapsed": false
   },
   "outputs": [],
   "source": [
    "L_Herta = Gates(g=2,i=2,f=2,o=2)\n",
    "\n",
    "n_hidden = n_i = n_c = n_o = n_f = 10\n",
    "n_in = 7 # for embedded reber grammar\n",
    "n_y = 7 # for embedded reber grammar; this is K in my notation\n",
    "\n",
    "s_l_Herta = Gates(g=[n_in,n_c],i=[n_in,n_i],f=[n_in,n_f],o=[n_in,n_o])\n",
    "\n",
    "activations_Herta = Psis(g=(T.tanh, T.tanh), i=(T.nnet.sigmoid, T.nnet.sigmoid),f=(T.nnet.sigmoid, T.nnet.sigmoid),\n",
    "                         o=(T.nnet.sigmoid, T.nnet.sigmoid),h=(T.tanh,))\n"
   ]
  },
  {
   "cell_type": "code",
   "execution_count": 18,
   "metadata": {
    "collapsed": false
   },
   "outputs": [
    {
     "name": "stdout",
     "output_type": "stream",
     "text": [
      "Total number of parameters: 17 \n"
     ]
    },
    {
     "data": {
      "text/plain": [
       "Elemwise{add,no_inplace}.0"
      ]
     },
     "execution_count": 18,
     "metadata": {},
     "output_type": "execute_result"
    }
   ],
   "source": [
    "LSTM_model_Herta=LSTM_Model_right(L_Herta,s_l_Herta,n_hidden,n_y,activations_Herta,T.nnet.sigmoid )\n",
    "lstm_step_fxn = LSTM_model_Herta.build_lstm_step()\n",
    "MemBlck_Herta = MemoryBlock_right(n_hidden,LSTM_model_Herta)\n",
    "MemBlck_Herta.build_scan_over_t()\n",
    "MemBlck_Herta.build_J(0.1)"
   ]
  },
  {
   "cell_type": "code",
   "execution_count": 19,
   "metadata": {
    "collapsed": true
   },
   "outputs": [],
   "source": [
    "MemBlck_Herta.build_update()"
   ]
  },
  {
   "cell_type": "code",
   "execution_count": 20,
   "metadata": {
    "collapsed": false
   },
   "outputs": [
    {
     "name": "stdout",
     "output_type": "stream",
     "text": [
      "theano.config.allow_gc =:  False\n",
      "CPU times: user 20.5 s, sys: 10.3 s, total: 30.8 s\n",
      "Wall time: 30.7 s\n"
     ]
    }
   ],
   "source": [
    "%time results_Herta_prelim = MemBlck_Herta.train_rnn(train_data,2)  # theano.config.allow_gc =:  False\n",
    "# CPU times: user 20.5 s, sys: 10.3 s, total: 30.8 s\n",
    "# Wall time: 30.7 s\n"
   ]
  },
  {
   "cell_type": "code",
   "execution_count": 20,
   "metadata": {
    "collapsed": false
   },
   "outputs": [
    {
     "name": "stdout",
     "output_type": "stream",
     "text": [
      "theano.config.allow_gc =:  False\n",
      "CPU times: user 20.4 s, sys: 4.79 s, total: 25.2 s\n",
      "Wall time: 25.2 s\n"
     ]
    }
   ],
   "source": [
    "%time results_Herta_prelim = MemBlck_Herta.train_rnn(train_data,2) # theano.config.allow_gc =:  False\n",
    "# CPU times: user 20.4 s, sys: 4.79 s, total: 25.2 s\n",
    "# Wall time: 25.2 s # NOTE EY: 20170224, I added the optimizer_excluding=low_memory flag"
   ]
  },
  {
   "cell_type": "code",
   "execution_count": 22,
   "metadata": {
    "collapsed": false
   },
   "outputs": [
    {
     "name": "stdout",
     "output_type": "stream",
     "text": [
      "theano.config.allow_gc =:  False\n",
      "CPU times: user 41min 31s, sys: 10min 9s, total: 51min 40s\n",
      "Wall time: 51min 39s\n"
     ]
    }
   ],
   "source": [
    "%time results_Herta = MemBlck_Herta.train_rnn(train_data)  # theano.config.allow_gc =:  False\n",
    "# CPU times: user 41min 31s, sys: 10min 9s, total: 51min 40s\n",
    "# Wall time: 51min 39s\n"
   ]
  },
  {
   "cell_type": "code",
   "execution_count": 21,
   "metadata": {
    "collapsed": false
   },
   "outputs": [
    {
     "name": "stdout",
     "output_type": "stream",
     "text": [
      "theano.config.allow_gc =:  False\n",
      "CPU times: user 42min 32s, sys: 10min 49s, total: 53min 22s\n",
      "Wall time: 53min 20s\n"
     ]
    }
   ],
   "source": [
    "%time results_Herta = MemBlck_Herta.train_rnn(train_data) # I don't think optimizer_excluding=low_memory helps # theano.config.allow_gc =:  False\n",
    "#CPU times: user 42min 32s, sys: 10min 49s, total: 53min 22s\n",
    "#Wall time: 53min 20s"
   ]
  },
  {
   "cell_type": "code",
   "execution_count": 22,
   "metadata": {
    "collapsed": false
   },
   "outputs": [
    {
     "name": "stdout",
     "output_type": "stream",
     "text": [
      "<type 'numpy.ndarray'>\n",
      "250\n"
     ]
    },
    {
     "data": {
      "text/plain": [
       "<matplotlib.text.Text at 0x7f5d631c9350>"
      ]
     },
     "execution_count": 22,
     "metadata": {},
     "output_type": "execute_result"
    },
    {
     "data": {
      "image/png": "[encoded data removed]",
      "text/plain": [
       "<matplotlib.figure.Figure at 0x7f5d5e977d10>"
      ]
     },
     "metadata": {},
     "output_type": "display_data"
    }
   ],
   "source": [
    "print(type(results_Herta)); print(len(results_Herta)); \n",
    "plt.plot(np.arange(250), results_Herta, 'b-')\n",
    "plt.xlabel('epochs')\n",
    "plt.ylabel('error')\n",
    "#plt.ylim(0., 50)"
   ]
  },
  {
   "cell_type": "code",
   "execution_count": null,
   "metadata": {
    "collapsed": true
   },
   "outputs": [],
   "source": [
    "%time results_full = MemBlck_Herta.train_model_full(train_data)"
   ]
  },
  {
   "cell_type": "code",
   "execution_count": 20,
   "metadata": {
    "collapsed": true
   },
   "outputs": [],
   "source": [
    "test_data = reberGrammar.get_n_embedded_examples(10)"
   ]
  },
  {
   "cell_type": "code",
   "execution_count": 30,
   "metadata": {
    "collapsed": false
   },
   "outputs": [
    {
     "name": "stderr",
     "output_type": "stream",
     "text": [
      "<<!! BUG IN FGRAPH.REPLACE OR A LISTENER !!>> <type 'exceptions.TypeError'> ('The type of the replacement must be compatible with the type of the original Variable.', AllocEmpty{dtype='float32'}.0, AllocEmpty{dtype='float32'}.0, TensorType(float32, row), TensorType(float32, matrix), 'MergeOptimizer') MergeOptimizer\n",
      "ERROR (theano.gof.opt): SeqOptimizer apply <theano.gof.opt.EquilibriumOptimizer object at 0x7fbc969e2c90>\n",
      "ERROR (theano.gof.opt): Traceback:\n",
      "ERROR (theano.gof.opt): Traceback (most recent call last):\n",
      "  File \"/home/topolo/Public/anaconda2/lib/python2.7/site-packages/theano/gof/opt.py\", line 230, in apply\n",
      "    sub_prof = optimizer.optimize(fgraph)\n",
      "  File \"/home/topolo/Public/anaconda2/lib/python2.7/site-packages/theano/gof/opt.py\", line 89, in optimize\n",
      "    ret = self.apply(fgraph, *args, **kwargs)\n",
      "  File \"/home/topolo/Public/anaconda2/lib/python2.7/site-packages/theano/gof/opt.py\", line 2223, in apply\n",
      "    sub_prof = gopt.apply(fgraph)\n",
      "  File \"/home/topolo/Public/anaconda2/lib/python2.7/site-packages/theano/gof/opt.py\", line 817, in apply\n",
      "    fgraph.replace_all_validate(pairs, 'MergeOptimizer')\n",
      "  File \"/home/topolo/Public/anaconda2/lib/python2.7/site-packages/theano/gof/toolbox.py\", line 309, in replace_all_validate\n",
      "    fgraph.replace(r, new_r, reason=reason, verbose=False)\n",
      "  File \"/home/topolo/Public/anaconda2/lib/python2.7/site-packages/theano/gof/fg.py\", line 561, in replace\n",
      "    str(reason))\n",
      "TypeError: ('The type of the replacement must be compatible with the type of the original Variable.', AllocEmpty{dtype='float32'}.0, AllocEmpty{dtype='float32'}.0, TensorType(float32, row), TensorType(float32, matrix), 'MergeOptimizer')\n",
      "\n",
      "<<!! BUG IN FGRAPH.REPLACE OR A LISTENER !!>> <type 'exceptions.TypeError'> ('The type of the replacement must be compatible with the type of the original Variable.', AllocEmpty{dtype='float32'}.0, AllocEmpty{dtype='float32'}.0, TensorType(float32, row), TensorType(float32, matrix), 'MergeOptimizer') MergeOptimizer\n",
      "ERROR (theano.gof.opt): SeqOptimizer apply <theano.gof.opt.EquilibriumOptimizer object at 0x7fbc9668bc50>\n",
      "ERROR (theano.gof.opt): Traceback:\n",
      "ERROR (theano.gof.opt): Traceback (most recent call last):\n",
      "  File \"/home/topolo/Public/anaconda2/lib/python2.7/site-packages/theano/gof/opt.py\", line 230, in apply\n",
      "    sub_prof = optimizer.optimize(fgraph)\n",
      "  File \"/home/topolo/Public/anaconda2/lib/python2.7/site-packages/theano/gof/opt.py\", line 89, in optimize\n",
      "    ret = self.apply(fgraph, *args, **kwargs)\n",
      "  File \"/home/topolo/Public/anaconda2/lib/python2.7/site-packages/theano/gof/opt.py\", line 2223, in apply\n",
      "    sub_prof = gopt.apply(fgraph)\n",
      "  File \"/home/topolo/Public/anaconda2/lib/python2.7/site-packages/theano/gof/opt.py\", line 817, in apply\n",
      "    fgraph.replace_all_validate(pairs, 'MergeOptimizer')\n",
      "  File \"/home/topolo/Public/anaconda2/lib/python2.7/site-packages/theano/gof/toolbox.py\", line 309, in replace_all_validate\n",
      "    fgraph.replace(r, new_r, reason=reason, verbose=False)\n",
      "  File \"/home/topolo/Public/anaconda2/lib/python2.7/site-packages/theano/gof/fg.py\", line 561, in replace\n",
      "    str(reason))\n",
      "TypeError: ('The type of the replacement must be compatible with the type of the original Variable.', AllocEmpty{dtype='float32'}.0, AllocEmpty{dtype='float32'}.0, TensorType(float32, row), TensorType(float32, matrix), 'MergeOptimizer')\n",
      "\n"
     ]
    },
    {
     "name": "stdout",
     "output_type": "stream",
     "text": [
      "[ 0.  1.  0.  0.  0.  0.  0.]\n",
      "[ 0.03654994  0.22352684  0.17996094  0.17996106  0.27605593  0.25267285\n",
      "  0.27077496]\n"
     ]
    },
    {
     "name": "stderr",
     "output_type": "stream",
     "text": [
      "<<!! BUG IN FGRAPH.REPLACE OR A LISTENER !!>> <type 'exceptions.TypeError'> ('The type of the replacement must be compatible with the type of the original Variable.', AllocEmpty{dtype='float32'}.0, AllocEmpty{dtype='float32'}.0, TensorType(float32, row), TensorType(float32, matrix), 'MergeOptimizer') MergeOptimizer\n",
      "ERROR (theano.gof.opt): SeqOptimizer apply <theano.gof.opt.EquilibriumOptimizer object at 0x7fbc962f09d0>\n",
      "ERROR (theano.gof.opt): Traceback:\n",
      "ERROR (theano.gof.opt): Traceback (most recent call last):\n",
      "  File \"/home/topolo/Public/anaconda2/lib/python2.7/site-packages/theano/gof/opt.py\", line 230, in apply\n",
      "    sub_prof = optimizer.optimize(fgraph)\n",
      "  File \"/home/topolo/Public/anaconda2/lib/python2.7/site-packages/theano/gof/opt.py\", line 89, in optimize\n",
      "    ret = self.apply(fgraph, *args, **kwargs)\n",
      "  File \"/home/topolo/Public/anaconda2/lib/python2.7/site-packages/theano/gof/opt.py\", line 2223, in apply\n",
      "    sub_prof = gopt.apply(fgraph)\n",
      "  File \"/home/topolo/Public/anaconda2/lib/python2.7/site-packages/theano/gof/opt.py\", line 817, in apply\n",
      "    fgraph.replace_all_validate(pairs, 'MergeOptimizer')\n",
      "  File \"/home/topolo/Public/anaconda2/lib/python2.7/site-packages/theano/gof/toolbox.py\", line 309, in replace_all_validate\n",
      "    fgraph.replace(r, new_r, reason=reason, verbose=False)\n",
      "  File \"/home/topolo/Public/anaconda2/lib/python2.7/site-packages/theano/gof/fg.py\", line 561, in replace\n",
      "    str(reason))\n",
      "TypeError: ('The type of the replacement must be compatible with the type of the original Variable.', AllocEmpty{dtype='float32'}.0, AllocEmpty{dtype='float32'}.0, TensorType(float32, row), TensorType(float32, matrix), 'MergeOptimizer')\n",
      "\n"
     ]
    },
    {
     "name": "stdout",
     "output_type": "stream",
     "text": [
      "[ 0.  1.  0.  0.  0.  0.  0.]\n",
      "[ 0.03652277  0.22360229  0.18104303  0.18104315  0.27559629  0.25401294\n",
      "  0.2690331 ]\n"
     ]
    },
    {
     "name": "stderr",
     "output_type": "stream",
     "text": [
      "<<!! BUG IN FGRAPH.REPLACE OR A LISTENER !!>> <type 'exceptions.TypeError'> ('The type of the replacement must be compatible with the type of the original Variable.', AllocEmpty{dtype='float32'}.0, AllocEmpty{dtype='float32'}.0, TensorType(float32, row), TensorType(float32, matrix), 'MergeOptimizer') MergeOptimizer\n",
      "ERROR (theano.gof.opt): SeqOptimizer apply <theano.gof.opt.EquilibriumOptimizer object at 0x7fbc95e9c750>\n",
      "ERROR (theano.gof.opt): Traceback:\n",
      "ERROR (theano.gof.opt): Traceback (most recent call last):\n",
      "  File \"/home/topolo/Public/anaconda2/lib/python2.7/site-packages/theano/gof/opt.py\", line 230, in apply\n",
      "    sub_prof = optimizer.optimize(fgraph)\n",
      "  File \"/home/topolo/Public/anaconda2/lib/python2.7/site-packages/theano/gof/opt.py\", line 89, in optimize\n",
      "    ret = self.apply(fgraph, *args, **kwargs)\n",
      "  File \"/home/topolo/Public/anaconda2/lib/python2.7/site-packages/theano/gof/opt.py\", line 2223, in apply\n",
      "    sub_prof = gopt.apply(fgraph)\n",
      "  File \"/home/topolo/Public/anaconda2/lib/python2.7/site-packages/theano/gof/opt.py\", line 817, in apply\n",
      "    fgraph.replace_all_validate(pairs, 'MergeOptimizer')\n",
      "  File \"/home/topolo/Public/anaconda2/lib/python2.7/site-packages/theano/gof/toolbox.py\", line 309, in replace_all_validate\n",
      "    fgraph.replace(r, new_r, reason=reason, verbose=False)\n",
      "  File \"/home/topolo/Public/anaconda2/lib/python2.7/site-packages/theano/gof/fg.py\", line 561, in replace\n",
      "    str(reason))\n",
      "TypeError: ('The type of the replacement must be compatible with the type of the original Variable.', AllocEmpty{dtype='float32'}.0, AllocEmpty{dtype='float32'}.0, TensorType(float32, row), TensorType(float32, matrix), 'MergeOptimizer')\n",
      "\n"
     ]
    },
    {
     "name": "stdout",
     "output_type": "stream",
     "text": [
      "[ 0.  0.  0.  0.  1.  0.  0.]\n",
      "[ 0.03623551  0.21539557  0.15901656  0.15901668  0.28735468  0.22797918\n",
      "  0.31401905]\n"
     ]
    },
    {
     "name": "stderr",
     "output_type": "stream",
     "text": [
      "<<!! BUG IN FGRAPH.REPLACE OR A LISTENER !!>> <type 'exceptions.TypeError'> ('The type of the replacement must be compatible with the type of the original Variable.', AllocEmpty{dtype='float32'}.0, AllocEmpty{dtype='float32'}.0, TensorType(float32, row), TensorType(float32, matrix), 'MergeOptimizer') MergeOptimizer\n",
      "ERROR (theano.gof.opt): SeqOptimizer apply <theano.gof.opt.EquilibriumOptimizer object at 0x7fbc95b317d0>\n",
      "ERROR (theano.gof.opt): Traceback:\n",
      "ERROR (theano.gof.opt): Traceback (most recent call last):\n",
      "  File \"/home/topolo/Public/anaconda2/lib/python2.7/site-packages/theano/gof/opt.py\", line 230, in apply\n",
      "    sub_prof = optimizer.optimize(fgraph)\n",
      "  File \"/home/topolo/Public/anaconda2/lib/python2.7/site-packages/theano/gof/opt.py\", line 89, in optimize\n",
      "    ret = self.apply(fgraph, *args, **kwargs)\n",
      "  File \"/home/topolo/Public/anaconda2/lib/python2.7/site-packages/theano/gof/opt.py\", line 2223, in apply\n",
      "    sub_prof = gopt.apply(fgraph)\n",
      "  File \"/home/topolo/Public/anaconda2/lib/python2.7/site-packages/theano/gof/opt.py\", line 817, in apply\n",
      "    fgraph.replace_all_validate(pairs, 'MergeOptimizer')\n",
      "  File \"/home/topolo/Public/anaconda2/lib/python2.7/site-packages/theano/gof/toolbox.py\", line 309, in replace_all_validate\n",
      "    fgraph.replace(r, new_r, reason=reason, verbose=False)\n",
      "  File \"/home/topolo/Public/anaconda2/lib/python2.7/site-packages/theano/gof/fg.py\", line 561, in replace\n",
      "    str(reason))\n",
      "TypeError: ('The type of the replacement must be compatible with the type of the original Variable.', AllocEmpty{dtype='float32'}.0, AllocEmpty{dtype='float32'}.0, TensorType(float32, row), TensorType(float32, matrix), 'MergeOptimizer')\n",
      "\n"
     ]
    },
    {
     "name": "stdout",
     "output_type": "stream",
     "text": [
      "[ 0.  0.  0.  0.  1.  0.  0.]\n",
      "[ 0.03653074  0.2218926   0.18212698  0.18212706  0.27314919  0.2502594\n",
      "  0.27180815]\n"
     ]
    },
    {
     "name": "stderr",
     "output_type": "stream",
     "text": [
      "<<!! BUG IN FGRAPH.REPLACE OR A LISTENER !!>> <type 'exceptions.TypeError'> ('The type of the replacement must be compatible with the type of the original Variable.', AllocEmpty{dtype='float32'}.0, AllocEmpty{dtype='float32'}.0, TensorType(float32, row), TensorType(float32, matrix), 'MergeOptimizer') MergeOptimizer\n",
      "ERROR (theano.gof.opt): SeqOptimizer apply <theano.gof.opt.EquilibriumOptimizer object at 0x7fbc957602d0>\n",
      "ERROR (theano.gof.opt): Traceback:\n",
      "ERROR (theano.gof.opt): Traceback (most recent call last):\n",
      "  File \"/home/topolo/Public/anaconda2/lib/python2.7/site-packages/theano/gof/opt.py\", line 230, in apply\n",
      "    sub_prof = optimizer.optimize(fgraph)\n",
      "  File \"/home/topolo/Public/anaconda2/lib/python2.7/site-packages/theano/gof/opt.py\", line 89, in optimize\n",
      "    ret = self.apply(fgraph, *args, **kwargs)\n",
      "  File \"/home/topolo/Public/anaconda2/lib/python2.7/site-packages/theano/gof/opt.py\", line 2223, in apply\n",
      "    sub_prof = gopt.apply(fgraph)\n",
      "  File \"/home/topolo/Public/anaconda2/lib/python2.7/site-packages/theano/gof/opt.py\", line 817, in apply\n",
      "    fgraph.replace_all_validate(pairs, 'MergeOptimizer')\n",
      "  File \"/home/topolo/Public/anaconda2/lib/python2.7/site-packages/theano/gof/toolbox.py\", line 309, in replace_all_validate\n",
      "    fgraph.replace(r, new_r, reason=reason, verbose=False)\n",
      "  File \"/home/topolo/Public/anaconda2/lib/python2.7/site-packages/theano/gof/fg.py\", line 561, in replace\n",
      "    str(reason))\n",
      "TypeError: ('The type of the replacement must be compatible with the type of the original Variable.', AllocEmpty{dtype='float32'}.0, AllocEmpty{dtype='float32'}.0, TensorType(float32, row), TensorType(float32, matrix), 'MergeOptimizer')\n",
      "\n"
     ]
    },
    {
     "name": "stdout",
     "output_type": "stream",
     "text": [
      "[ 0.  0.  0.  0.  1.  0.  0.]\n",
      "[ 0.03678124  0.2233016   0.17556426  0.17556438  0.27802235  0.24592921\n",
      "  0.27813935]\n"
     ]
    },
    {
     "name": "stderr",
     "output_type": "stream",
     "text": [
      "<<!! BUG IN FGRAPH.REPLACE OR A LISTENER !!>> <type 'exceptions.TypeError'> ('The type of the replacement must be compatible with the type of the original Variable.', AllocEmpty{dtype='float32'}.0, AllocEmpty{dtype='float32'}.0, TensorType(float32, row), TensorType(float32, matrix), 'MergeOptimizer') MergeOptimizer\n",
      "ERROR (theano.gof.opt): SeqOptimizer apply <theano.gof.opt.EquilibriumOptimizer object at 0x7fbc954ef490>\n",
      "ERROR (theano.gof.opt): Traceback:\n",
      "ERROR (theano.gof.opt): Traceback (most recent call last):\n",
      "  File \"/home/topolo/Public/anaconda2/lib/python2.7/site-packages/theano/gof/opt.py\", line 230, in apply\n",
      "    sub_prof = optimizer.optimize(fgraph)\n",
      "  File \"/home/topolo/Public/anaconda2/lib/python2.7/site-packages/theano/gof/opt.py\", line 89, in optimize\n",
      "    ret = self.apply(fgraph, *args, **kwargs)\n",
      "  File \"/home/topolo/Public/anaconda2/lib/python2.7/site-packages/theano/gof/opt.py\", line 2223, in apply\n",
      "    sub_prof = gopt.apply(fgraph)\n",
      "  File \"/home/topolo/Public/anaconda2/lib/python2.7/site-packages/theano/gof/opt.py\", line 817, in apply\n",
      "    fgraph.replace_all_validate(pairs, 'MergeOptimizer')\n",
      "  File \"/home/topolo/Public/anaconda2/lib/python2.7/site-packages/theano/gof/toolbox.py\", line 309, in replace_all_validate\n",
      "    fgraph.replace(r, new_r, reason=reason, verbose=False)\n",
      "  File \"/home/topolo/Public/anaconda2/lib/python2.7/site-packages/theano/gof/fg.py\", line 561, in replace\n",
      "    str(reason))\n",
      "TypeError: ('The type of the replacement must be compatible with the type of the original Variable.', AllocEmpty{dtype='float32'}.0, AllocEmpty{dtype='float32'}.0, TensorType(float32, row), TensorType(float32, matrix), 'MergeOptimizer')\n",
      "\n"
     ]
    },
    {
     "name": "stdout",
     "output_type": "stream",
     "text": [
      "[ 0.  1.  0.  0.  0.  0.  0.]\n",
      "[ 0.03789635  0.35366094  0.22607996  0.2260799   0.25579727  0.45357969\n",
      "  0.1161061 ]\n"
     ]
    },
    {
     "name": "stderr",
     "output_type": "stream",
     "text": [
      "<<!! BUG IN FGRAPH.REPLACE OR A LISTENER !!>> <type 'exceptions.TypeError'> ('The type of the replacement must be compatible with the type of the original Variable.', AllocEmpty{dtype='float32'}.0, AllocEmpty{dtype='float32'}.0, TensorType(float32, row), TensorType(float32, matrix), 'MergeOptimizer') MergeOptimizer\n",
      "ERROR (theano.gof.opt): SeqOptimizer apply <theano.gof.opt.EquilibriumOptimizer object at 0x7fbc959eed10>\n",
      "ERROR (theano.gof.opt): Traceback:\n",
      "ERROR (theano.gof.opt): Traceback (most recent call last):\n",
      "  File \"/home/topolo/Public/anaconda2/lib/python2.7/site-packages/theano/gof/opt.py\", line 230, in apply\n",
      "    sub_prof = optimizer.optimize(fgraph)\n",
      "  File \"/home/topolo/Public/anaconda2/lib/python2.7/site-packages/theano/gof/opt.py\", line 89, in optimize\n",
      "    ret = self.apply(fgraph, *args, **kwargs)\n",
      "  File \"/home/topolo/Public/anaconda2/lib/python2.7/site-packages/theano/gof/opt.py\", line 2223, in apply\n",
      "    sub_prof = gopt.apply(fgraph)\n",
      "  File \"/home/topolo/Public/anaconda2/lib/python2.7/site-packages/theano/gof/opt.py\", line 817, in apply\n",
      "    fgraph.replace_all_validate(pairs, 'MergeOptimizer')\n",
      "  File \"/home/topolo/Public/anaconda2/lib/python2.7/site-packages/theano/gof/toolbox.py\", line 309, in replace_all_validate\n",
      "    fgraph.replace(r, new_r, reason=reason, verbose=False)\n",
      "  File \"/home/topolo/Public/anaconda2/lib/python2.7/site-packages/theano/gof/fg.py\", line 561, in replace\n",
      "    str(reason))\n",
      "TypeError: ('The type of the replacement must be compatible with the type of the original Variable.', AllocEmpty{dtype='float32'}.0, AllocEmpty{dtype='float32'}.0, TensorType(float32, row), TensorType(float32, matrix), 'MergeOptimizer')\n",
      "\n"
     ]
    },
    {
     "name": "stdout",
     "output_type": "stream",
     "text": [
      "[ 0.  1.  0.  0.  0.  0.  0.]\n",
      "[ 0.03562396  0.20534104  0.14943017  0.14943029  0.29428062  0.21335547\n",
      "  0.34463325]\n",
      "[ 0.  1.  0.  0.  0.  0.  0.]\n",
      "[ 0.03593003  0.20925818  0.15188682  0.15188695  0.29261521  0.21754707\n",
      "  0.33451572]\n"
     ]
    },
    {
     "name": "stderr",
     "output_type": "stream",
     "text": [
      "<<!! BUG IN FGRAPH.REPLACE OR A LISTENER !!>> <type 'exceptions.TypeError'> ('The type of the replacement must be compatible with the type of the original Variable.', AllocEmpty{dtype='float32'}.0, AllocEmpty{dtype='float32'}.0, TensorType(float32, row), TensorType(float32, matrix), 'MergeOptimizer') MergeOptimizer\n",
      "ERROR (theano.gof.opt): SeqOptimizer apply <theano.gof.opt.EquilibriumOptimizer object at 0x7fbc9697c110>\n",
      "ERROR (theano.gof.opt): Traceback:\n",
      "ERROR (theano.gof.opt): Traceback (most recent call last):\n",
      "  File \"/home/topolo/Public/anaconda2/lib/python2.7/site-packages/theano/gof/opt.py\", line 230, in apply\n",
      "    sub_prof = optimizer.optimize(fgraph)\n",
      "  File \"/home/topolo/Public/anaconda2/lib/python2.7/site-packages/theano/gof/opt.py\", line 89, in optimize\n",
      "    ret = self.apply(fgraph, *args, **kwargs)\n",
      "  File \"/home/topolo/Public/anaconda2/lib/python2.7/site-packages/theano/gof/opt.py\", line 2223, in apply\n",
      "    sub_prof = gopt.apply(fgraph)\n",
      "  File \"/home/topolo/Public/anaconda2/lib/python2.7/site-packages/theano/gof/opt.py\", line 817, in apply\n",
      "    fgraph.replace_all_validate(pairs, 'MergeOptimizer')\n",
      "  File \"/home/topolo/Public/anaconda2/lib/python2.7/site-packages/theano/gof/toolbox.py\", line 309, in replace_all_validate\n",
      "    fgraph.replace(r, new_r, reason=reason, verbose=False)\n",
      "  File \"/home/topolo/Public/anaconda2/lib/python2.7/site-packages/theano/gof/fg.py\", line 561, in replace\n",
      "    str(reason))\n",
      "TypeError: ('The type of the replacement must be compatible with the type of the original Variable.', AllocEmpty{dtype='float32'}.0, AllocEmpty{dtype='float32'}.0, TensorType(float32, row), TensorType(float32, matrix), 'MergeOptimizer')\n",
      "\n",
      "<<!! BUG IN FGRAPH.REPLACE OR A LISTENER !!>> <type 'exceptions.TypeError'> ('The type of the replacement must be compatible with the type of the original Variable.', AllocEmpty{dtype='float32'}.0, AllocEmpty{dtype='float32'}.0, TensorType(float32, row), TensorType(float32, matrix), 'MergeOptimizer') MergeOptimizer\n",
      "ERROR (theano.gof.opt): SeqOptimizer apply <theano.gof.opt.EquilibriumOptimizer object at 0x7fbc966e8d10>\n",
      "ERROR (theano.gof.opt): Traceback:\n",
      "ERROR (theano.gof.opt): Traceback (most recent call last):\n",
      "  File \"/home/topolo/Public/anaconda2/lib/python2.7/site-packages/theano/gof/opt.py\", line 230, in apply\n",
      "    sub_prof = optimizer.optimize(fgraph)\n",
      "  File \"/home/topolo/Public/anaconda2/lib/python2.7/site-packages/theano/gof/opt.py\", line 89, in optimize\n",
      "    ret = self.apply(fgraph, *args, **kwargs)\n",
      "  File \"/home/topolo/Public/anaconda2/lib/python2.7/site-packages/theano/gof/opt.py\", line 2223, in apply\n",
      "    sub_prof = gopt.apply(fgraph)\n",
      "  File \"/home/topolo/Public/anaconda2/lib/python2.7/site-packages/theano/gof/opt.py\", line 817, in apply\n",
      "    fgraph.replace_all_validate(pairs, 'MergeOptimizer')\n",
      "  File \"/home/topolo/Public/anaconda2/lib/python2.7/site-packages/theano/gof/toolbox.py\", line 309, in replace_all_validate\n",
      "    fgraph.replace(r, new_r, reason=reason, verbose=False)\n",
      "  File \"/home/topolo/Public/anaconda2/lib/python2.7/site-packages/theano/gof/fg.py\", line 561, in replace\n",
      "    str(reason))\n",
      "TypeError: ('The type of the replacement must be compatible with the type of the original Variable.', AllocEmpty{dtype='float32'}.0, AllocEmpty{dtype='float32'}.0, TensorType(float32, row), TensorType(float32, matrix), 'MergeOptimizer')\n",
      "\n"
     ]
    },
    {
     "name": "stdout",
     "output_type": "stream",
     "text": [
      "[ 0.  0.  0.  0.  1.  0.  0.]\n",
      "[ 0.03678124  0.2233016   0.17556426  0.17556438  0.27802235  0.24592921\n",
      "  0.27813935]\n",
      "[ 0.  1.  0.  0.  0.  0.  0.]\n",
      "[ 0.03415391  0.23968399  0.1267381   0.12673819  0.31862083  0.2563501\n",
      "  0.32694301]\n"
     ]
    }
   ],
   "source": [
    "# automatically\n",
    "# MemBlck_Herta.predict(test_data)\n",
    "\n",
    "# manually,\n",
    "#predictions = theano.function(inputs=[MemBlck_Herta.X], outputs=MemBlck_Herta.scan_res[0][-1])\n",
    "\n",
    "def predict_on_lst_manual(test_data, verbose=True):\n",
    "    predictions=[]\n",
    "    for i,o in test_data:\n",
    "        predictions_func = theano.function(inputs=[MemBlck_Herta.X],outputs=MemBlck_Herta.scan_res[0][-1])\n",
    "        predicted_y = predictions_func(i)\n",
    "        \n",
    "        if verbose:\n",
    "            print o[-2]\n",
    "            print predicted_y[-2]\n",
    "\n",
    "            print np.argmax( o[-2] )\n",
    "            print np.argmax( predicted_y[-2] )\n",
    "\n",
    "            \n",
    "        predictions.append( predicted_y)\n",
    "    return predictions\n",
    "\n",
    "predictions_test  = predict_on_lst_manual(test_data)\n"
   ]
  },
  {
   "cell_type": "code",
   "execution_count": 21,
   "metadata": {
    "collapsed": false
   },
   "outputs": [
    {
     "name": "stdout",
     "output_type": "stream",
     "text": [
      "<type 'list'>\n",
      "10\n",
      "<type 'tuple'>\n",
      "2\n",
      "<type 'list'>\n",
      "14\n",
      "<type 'list'>\n",
      "10\n",
      "<type 'list'>\n",
      "10\n"
     ]
    }
   ],
   "source": [
    "# j=0,1,...m-1, m=10 training pts.\n",
    "print(type(test_data));print(len(test_data));print(type(test_data[0]));print(len(test_data[0]));\n",
    "print(type(test_data[0][0])); print(len(test_data[0][0]));\n",
    "X_test_data,y_test_data=map( list, zip(*test_data) )\n",
    "print(type(X_test_data));print(len(X_test_data));print(type(y_test_data));print(len(y_test_data))"
   ]
  },
  {
   "cell_type": "code",
   "execution_count": null,
   "metadata": {
    "collapsed": true
   },
   "outputs": [],
   "source": []
  },
  {
   "cell_type": "code",
   "execution_count": null,
   "metadata": {
    "collapsed": true
   },
   "outputs": [],
   "source": []
  },
  {
   "cell_type": "code",
   "execution_count": 47,
   "metadata": {
    "collapsed": false
   },
   "outputs": [
    {
     "name": "stdout",
     "output_type": "stream",
     "text": [
      "<type 'list'>\n",
      "14\n",
      "True\n"
     ]
    }
   ],
   "source": [
    "print(type(X_test_data[0]));print(len(X_test_data[0]));\n",
    "print(test_data[0][0] == X_test_data[0])\n"
   ]
  },
  {
   "cell_type": "code",
   "execution_count": 40,
   "metadata": {
    "collapsed": false
   },
   "outputs": [
    {
     "data": {
      "text/plain": [
       "14"
      ]
     },
     "execution_count": 40,
     "metadata": {},
     "output_type": "execute_result"
    }
   ],
   "source": [
    "len(test_data[0][0])"
   ]
  },
  {
   "cell_type": "code",
   "execution_count": 49,
   "metadata": {
    "collapsed": false
   },
   "outputs": [
    {
     "name": "stdout",
     "output_type": "stream",
     "text": [
      "<type 'list'>\n",
      "10\n",
      "<type 'numpy.ndarray'>\n",
      "14\n",
      "(14, 7)\n"
     ]
    }
   ],
   "source": [
    "print(type(predictions_test));print(len(predictions_test));print(type(predictions_test[0]));print(len(predictions_test[0]))\n",
    "print(predictions_test[0].shape)"
   ]
  },
  {
   "cell_type": "code",
   "execution_count": 53,
   "metadata": {
    "collapsed": false
   },
   "outputs": [
    {
     "data": {
      "text/plain": [
       "array([1, 1, 1, 3, 1, 1, 3, 5, 5, 5, 5, 5, 4, 6])"
      ]
     },
     "execution_count": 53,
     "metadata": {},
     "output_type": "execute_result"
    }
   ],
   "source": [
    "np.argmax( predictions_test[0],axis=1 )"
   ]
  },
  {
   "cell_type": "code",
   "execution_count": 60,
   "metadata": {
    "collapsed": false
   },
   "outputs": [
    {
     "name": "stdout",
     "output_type": "stream",
     "text": [
      "<type 'list'>\n",
      "14\n"
     ]
    },
    {
     "data": {
      "text/plain": [
       "[1, 0, 1, 1, 1, 4, 2, 1, 1, 1, 4, 6, 1, 6]"
      ]
     },
     "execution_count": 60,
     "metadata": {},
     "output_type": "execute_result"
    }
   ],
   "source": [
    "print(type(y_test_data[0])); print(len(y_test_data[0]));\n",
    "[ np.argmax(row_t) for row_t in y_test_data[0]]"
   ]
  },
  {
   "cell_type": "code",
   "execution_count": 57,
   "metadata": {
    "collapsed": false
   },
   "outputs": [
    {
     "data": {
      "text/plain": [
       "array([1, 0, 1, 0, 1, 0, 0, 0, 0, 0, 0, 0, 0, 1])"
      ]
     },
     "execution_count": 57,
     "metadata": {},
     "output_type": "execute_result"
    }
   ],
   "source": [
    "np.equal( np.array( [np.argmax(row_t) for row_t in y_test_data[0]]), np.argmax(predictions_test[0],axis=1) ).astype(int)"
   ]
  },
  {
   "cell_type": "code",
   "execution_count": 58,
   "metadata": {
    "collapsed": false
   },
   "outputs": [
    {
     "data": {
      "text/plain": [
       "[array([ 0.,  1.,  0.,  0.,  1.,  0.,  0.]),\n",
       " array([ 1.,  0.,  0.,  0.,  0.,  0.,  0.]),\n",
       " array([ 0.,  1.,  0.,  0.,  1.,  0.,  0.]),\n",
       " array([ 0.,  1.,  0.,  0.,  0.,  1.,  0.]),\n",
       " array([ 0.,  1.,  0.,  0.,  0.,  1.,  0.]),\n",
       " array([ 0.,  0.,  0.,  0.,  1.,  1.,  0.]),\n",
       " array([ 0.,  0.,  1.,  1.,  0.,  0.,  0.]),\n",
       " array([ 0.,  1.,  0.,  0.,  0.,  1.,  0.]),\n",
       " array([ 0.,  1.,  0.,  0.,  0.,  1.,  0.]),\n",
       " array([ 0.,  1.,  0.,  0.,  0.,  1.,  0.]),\n",
       " array([ 0.,  0.,  0.,  0.,  1.,  1.,  0.]),\n",
       " array([ 0.,  0.,  0.,  0.,  0.,  0.,  1.]),\n",
       " array([ 0.,  1.,  0.,  0.,  0.,  0.,  0.]),\n",
       " array([ 0.,  0.,  0.,  0.,  0.,  0.,  1.])]"
      ]
     },
     "execution_count": 58,
     "metadata": {},
     "output_type": "execute_result"
    }
   ],
   "source": [
    "y_test_data[0]"
   ]
  },
  {
   "cell_type": "code",
   "execution_count": 59,
   "metadata": {
    "collapsed": false
   },
   "outputs": [
    {
     "data": {
      "text/plain": [
       "array([[ 0.12725599,  0.61258602,  0.10895271,  0.10895335,  0.57064903,\n",
       "         0.228144  ,  0.05477276],\n",
       "       [ 0.12897901,  0.47995096,  0.223637  ,  0.22363782,  0.39479122,\n",
       "         0.17177676,  0.05590523],\n",
       "       [ 0.11709789,  0.49009666,  0.21457456,  0.2145751 ,  0.44983098,\n",
       "         0.21251591,  0.04870971],\n",
       "       [ 0.10283783,  0.39010844,  0.40230978,  0.40231028,  0.20971726,\n",
       "         0.20519017,  0.05218001],\n",
       "       [ 0.07234708,  0.51123303,  0.33657774,  0.33657801,  0.19556043,\n",
       "         0.42258799,  0.04219118],\n",
       "       [ 0.05789826,  0.47211504,  0.25898573,  0.25898579,  0.32073686,\n",
       "         0.45494437,  0.05063221],\n",
       "       [ 0.05792973,  0.3779439 ,  0.45257682,  0.45257685,  0.12470939,\n",
       "         0.38619873,  0.05874603],\n",
       "       [ 0.04284814,  0.60218281,  0.24309468,  0.24309473,  0.17546253,\n",
       "         0.68830228,  0.04707833],\n",
       "       [ 0.03593669,  0.64953119,  0.17262556,  0.17262563,  0.20547776,\n",
       "         0.76594102,  0.05280624],\n",
       "       [ 0.03250235,  0.64148813,  0.1480808 ,  0.14808087,  0.2136755 ,\n",
       "         0.77689433,  0.06402083],\n",
       "       [ 0.03233429,  0.47218853,  0.13169146,  0.13169149,  0.33533978,\n",
       "         0.61225629,  0.10998431],\n",
       "       [ 0.03612649,  0.2625376 ,  0.19276516,  0.19276524,  0.27899075,\n",
       "         0.32785827,  0.20313965],\n",
       "       [ 0.03654994,  0.22352684,  0.17996094,  0.17996106,  0.27605593,\n",
       "         0.25267285,  0.27077496],\n",
       "       [ 0.03735466,  0.19758794,  0.19612394,  0.19612411,  0.23156635,\n",
       "         0.20967364,  0.3144643 ]], dtype=float32)"
      ]
     },
     "execution_count": 59,
     "metadata": {},
     "output_type": "execute_result"
    }
   ],
   "source": [
    "predictions_test[0]"
   ]
  },
  {
   "cell_type": "code",
   "execution_count": 62,
   "metadata": {
    "collapsed": false
   },
   "outputs": [
    {
     "data": {
      "text/plain": [
       "array([[ 0.,  1.,  0.,  0.,  1.,  0.,  0.],\n",
       "       [ 0.,  0.,  0.,  0.,  0.,  0.,  0.],\n",
       "       [ 0.,  0.,  0.,  0.,  0.,  0.,  0.],\n",
       "       [ 0.,  0.,  0.,  0.,  0.,  0.,  0.],\n",
       "       [ 0.,  1.,  0.,  0.,  0.,  0.,  0.],\n",
       "       [ 0.,  0.,  0.,  0.,  0.,  0.,  0.],\n",
       "       [ 0.,  0.,  0.,  0.,  0.,  0.,  0.],\n",
       "       [ 0.,  1.,  0.,  0.,  0.,  1.,  0.],\n",
       "       [ 0.,  1.,  0.,  0.,  0.,  1.,  0.],\n",
       "       [ 0.,  1.,  0.,  0.,  0.,  1.,  0.],\n",
       "       [ 0.,  0.,  0.,  0.,  0.,  1.,  0.],\n",
       "       [ 0.,  0.,  0.,  0.,  0.,  0.,  0.],\n",
       "       [ 0.,  0.,  0.,  0.,  0.,  0.,  0.],\n",
       "       [ 0.,  0.,  0.,  0.,  0.,  0.,  0.]])"
      ]
     },
     "execution_count": 62,
     "metadata": {},
     "output_type": "execute_result"
    }
   ],
   "source": [
    "(predictions_test[0] > 0.5).astype(float)"
   ]
  },
  {
   "cell_type": "code",
   "execution_count": 65,
   "metadata": {
    "collapsed": false
   },
   "outputs": [
    {
     "data": {
      "text/plain": [
       "array([[ 1.,  1.,  1.,  1.,  1.,  1.,  1.],\n",
       "       [ 0.,  1.,  1.,  1.,  1.,  1.,  1.],\n",
       "       [ 1.,  0.,  1.,  1.,  0.,  1.,  1.],\n",
       "       [ 1.,  0.,  1.,  1.,  1.,  0.,  1.],\n",
       "       [ 1.,  1.,  1.,  1.,  1.,  0.,  1.],\n",
       "       [ 1.,  1.,  1.,  1.,  0.,  0.,  1.],\n",
       "       [ 1.,  1.,  0.,  0.,  1.,  1.,  1.],\n",
       "       [ 1.,  1.,  1.,  1.,  1.,  1.,  1.],\n",
       "       [ 1.,  1.,  1.,  1.,  1.,  1.,  1.],\n",
       "       [ 1.,  1.,  1.,  1.,  1.,  1.,  1.],\n",
       "       [ 1.,  1.,  1.,  1.,  0.,  1.,  1.],\n",
       "       [ 1.,  1.,  1.,  1.,  1.,  1.,  0.],\n",
       "       [ 1.,  0.,  1.,  1.,  1.,  1.,  1.],\n",
       "       [ 1.,  1.,  1.,  1.,  1.,  1.,  0.]])"
      ]
     },
     "execution_count": 65,
     "metadata": {},
     "output_type": "execute_result"
    }
   ],
   "source": [
    "np.equal( (predictions_test[0]>0.5).astype(float) , np.array(y_test_data[0]) ).astype(float)"
   ]
  },
  {
   "cell_type": "code",
   "execution_count": 67,
   "metadata": {
    "collapsed": false
   },
   "outputs": [
    {
     "name": "stdout",
     "output_type": "stream",
     "text": [
      "98\n",
      "84.0\n"
     ]
    }
   ],
   "source": [
    "testarr0=np.equal( (predictions_test[0]>0.5).astype(float) , np.array(y_test_data[0]) ).astype(float)\n",
    "print(testarr0.size); print(np.sum(testarr0))"
   ]
  },
  {
   "cell_type": "code",
   "execution_count": 68,
   "metadata": {
    "collapsed": false
   },
   "outputs": [
    {
     "name": "stdout",
     "output_type": "stream",
     "text": [
      "942.0 1099.0 0.857142857143\n"
     ]
    }
   ],
   "source": [
    "assert len(predictions_test) == len(y_test_data)\n",
    "m = len(predictions_test)\n",
    "TOTALELE = 0.\n",
    "POSRES   = 0.\n",
    "for j in range(m):\n",
    "    testing_arr = np.equal( (predictions_test[j]>0.5).astype(float) , np.array( y_test_data[j]).astype(float) )\n",
    "    TOTALELE += testing_arr.size\n",
    "    POSRES += np.sum( testing_arr )\n",
    "\n",
    "print POSRES, TOTALELE, POSRES/TOTALELE  # 942.0 1099.0 0.857142857143\n"
   ]
  },
  {
   "cell_type": "code",
   "execution_count": 75,
   "metadata": {
    "collapsed": false
   },
   "outputs": [
    {
     "name": "stdout",
     "output_type": "stream",
     "text": [
      "17\n",
      "[<class 'theano.sandbox.cuda.var.CudaNdarraySharedVariable'>, <class 'theano.sandbox.cuda.var.CudaNdarraySharedVariable'>, <class 'theano.sandbox.cuda.var.CudaNdarraySharedVariable'>, <class 'theano.sandbox.cuda.var.CudaNdarraySharedVariable'>, <class 'theano.sandbox.cuda.var.CudaNdarraySharedVariable'>, <class 'theano.sandbox.cuda.var.CudaNdarraySharedVariable'>, <class 'theano.sandbox.cuda.var.CudaNdarraySharedVariable'>, <class 'theano.sandbox.cuda.var.CudaNdarraySharedVariable'>, <class 'theano.sandbox.cuda.var.CudaNdarraySharedVariable'>, <class 'theano.sandbox.cuda.var.CudaNdarraySharedVariable'>, <class 'theano.sandbox.cuda.var.CudaNdarraySharedVariable'>, <class 'theano.sandbox.cuda.var.CudaNdarraySharedVariable'>, <class 'theano.sandbox.cuda.var.CudaNdarraySharedVariable'>, <class 'theano.sandbox.cuda.var.CudaNdarraySharedVariable'>, <class 'theano.sandbox.cuda.var.CudaNdarraySharedVariable'>, <class 'theano.sandbox.cuda.var.CudaNdarraySharedVariable'>, <class 'theano.sandbox.cuda.var.CudaNdarraySharedVariable'>]\n",
      "<type 'numpy.ndarray'>\n"
     ]
    }
   ],
   "source": [
    "print(len(MemBlck_Herta.LSTM_model.params))\n",
    "print([type(ele) for ele in MemBlck_Herta.LSTM_model.params])\n",
    "print(type( MemBlck_Herta.LSTM_model.params[0].get_value()) )"
   ]
  },
  {
   "cell_type": "code",
   "execution_count": 78,
   "metadata": {
    "collapsed": false
   },
   "outputs": [],
   "source": [
    "f = open(\"LSTM_Herta_rebergrammar.save\",'wb')\n",
    "for param in MemBlck_Herta.LSTM_model.params:\n",
    "    cPickle.dump( param.get_value(), f, protocol=cPickle.HIGHEST_PROTOCOL)\n",
    "f.close()"
   ]
  },
  {
   "cell_type": "markdown",
   "metadata": {},
   "source": [
    "testing out the `.train_model_full` method"
   ]
  },
  {
   "cell_type": "code",
   "execution_count": 79,
   "metadata": {
    "collapsed": false
   },
   "outputs": [
    {
     "name": "stdout",
     "output_type": "stream",
     "text": [
      "theano.config.allow_gc =:  False\n",
      "CPU times: user 41min 42s, sys: 10min 26s, total: 52min 9s\n",
      "Wall time: 52min 8s\n"
     ]
    }
   ],
   "source": [
    "%time train_err_full = MemBlck_Herta.train_model_full(train_data)  # theano.config.allow_gc =:  False\n",
    "# CPU times: user 41min 42s, sys: 10min 26s, total: 52min 9s\n",
    "# Wall time: 52min 8s\n"
   ]
  },
  {
   "cell_type": "code",
   "execution_count": 88,
   "metadata": {
    "collapsed": false
   },
   "outputs": [],
   "source": [
    "m = len( test_data )\n",
    "#test_data[0][0]\n",
    "test_data2 = []\n",
    "for j in range(m):\n",
    "     test_data2.append( (np.array( test_data[j][0] ).astype(theano.config.floatX), \n",
    "                         np.array( test_data[j][1]).astype(theano.config.floatX) )  )\n"
   ]
  },
  {
   "cell_type": "code",
   "execution_count": 89,
   "metadata": {
    "collapsed": false
   },
   "outputs": [
    {
     "name": "stderr",
     "output_type": "stream",
     "text": [
      "<<!! BUG IN FGRAPH.REPLACE OR A LISTENER !!>> <type 'exceptions.TypeError'> ('The type of the replacement must be compatible with the type of the original Variable.', AllocEmpty{dtype='float32'}.0, AllocEmpty{dtype='float32'}.0, TensorType(float32, row), TensorType(float32, matrix), 'MergeOptimizer') MergeOptimizer\n",
      "ERROR (theano.gof.opt): SeqOptimizer apply <theano.gof.opt.EquilibriumOptimizer object at 0x7fbc94bf0a90>\n",
      "ERROR (theano.gof.opt): Traceback:\n",
      "ERROR (theano.gof.opt): Traceback (most recent call last):\n",
      "  File \"/home/topolo/Public/anaconda2/lib/python2.7/site-packages/theano/gof/opt.py\", line 230, in apply\n",
      "    sub_prof = optimizer.optimize(fgraph)\n",
      "  File \"/home/topolo/Public/anaconda2/lib/python2.7/site-packages/theano/gof/opt.py\", line 89, in optimize\n",
      "    ret = self.apply(fgraph, *args, **kwargs)\n",
      "  File \"/home/topolo/Public/anaconda2/lib/python2.7/site-packages/theano/gof/opt.py\", line 2223, in apply\n",
      "    sub_prof = gopt.apply(fgraph)\n",
      "  File \"/home/topolo/Public/anaconda2/lib/python2.7/site-packages/theano/gof/opt.py\", line 817, in apply\n",
      "    fgraph.replace_all_validate(pairs, 'MergeOptimizer')\n",
      "  File \"/home/topolo/Public/anaconda2/lib/python2.7/site-packages/theano/gof/toolbox.py\", line 309, in replace_all_validate\n",
      "    fgraph.replace(r, new_r, reason=reason, verbose=False)\n",
      "  File \"/home/topolo/Public/anaconda2/lib/python2.7/site-packages/theano/gof/fg.py\", line 561, in replace\n",
      "    str(reason))\n",
      "TypeError: ('The type of the replacement must be compatible with the type of the original Variable.', AllocEmpty{dtype='float32'}.0, AllocEmpty{dtype='float32'}.0, TensorType(float32, row), TensorType(float32, matrix), 'MergeOptimizer')\n",
      "\n",
      "<<!! BUG IN FGRAPH.REPLACE OR A LISTENER !!>> <type 'exceptions.TypeError'> ('The type of the replacement must be compatible with the type of the original Variable.', AllocEmpty{dtype='float32'}.0, AllocEmpty{dtype='float32'}.0, TensorType(float32, row), TensorType(float32, matrix), 'MergeOptimizer') MergeOptimizer\n",
      "ERROR (theano.gof.opt): SeqOptimizer apply <theano.gof.opt.EquilibriumOptimizer object at 0x7fbc94818510>\n",
      "ERROR (theano.gof.opt): Traceback:\n",
      "ERROR (theano.gof.opt): Traceback (most recent call last):\n",
      "  File \"/home/topolo/Public/anaconda2/lib/python2.7/site-packages/theano/gof/opt.py\", line 230, in apply\n",
      "    sub_prof = optimizer.optimize(fgraph)\n",
      "  File \"/home/topolo/Public/anaconda2/lib/python2.7/site-packages/theano/gof/opt.py\", line 89, in optimize\n",
      "    ret = self.apply(fgraph, *args, **kwargs)\n",
      "  File \"/home/topolo/Public/anaconda2/lib/python2.7/site-packages/theano/gof/opt.py\", line 2223, in apply\n",
      "    sub_prof = gopt.apply(fgraph)\n",
      "  File \"/home/topolo/Public/anaconda2/lib/python2.7/site-packages/theano/gof/opt.py\", line 817, in apply\n",
      "    fgraph.replace_all_validate(pairs, 'MergeOptimizer')\n",
      "  File \"/home/topolo/Public/anaconda2/lib/python2.7/site-packages/theano/gof/toolbox.py\", line 309, in replace_all_validate\n",
      "    fgraph.replace(r, new_r, reason=reason, verbose=False)\n",
      "  File \"/home/topolo/Public/anaconda2/lib/python2.7/site-packages/theano/gof/fg.py\", line 561, in replace\n",
      "    str(reason))\n",
      "TypeError: ('The type of the replacement must be compatible with the type of the original Variable.', AllocEmpty{dtype='float32'}.0, AllocEmpty{dtype='float32'}.0, TensorType(float32, row), TensorType(float32, matrix), 'MergeOptimizer')\n",
      "\n"
     ]
    },
    {
     "name": "stdout",
     "output_type": "stream",
     "text": [
      "[ 0.  1.  0.  0.  0.  0.  0.]\n",
      "[ 0.03436736  0.22665322  0.16776943  0.16776943  0.27792847  0.2552793\n",
      "  0.28169337]\n"
     ]
    },
    {
     "name": "stderr",
     "output_type": "stream",
     "text": [
      "<<!! BUG IN FGRAPH.REPLACE OR A LISTENER !!>> <type 'exceptions.TypeError'> ('The type of the replacement must be compatible with the type of the original Variable.', AllocEmpty{dtype='float32'}.0, AllocEmpty{dtype='float32'}.0, TensorType(float32, row), TensorType(float32, matrix), 'MergeOptimizer') MergeOptimizer\n",
      "ERROR (theano.gof.opt): SeqOptimizer apply <theano.gof.opt.EquilibriumOptimizer object at 0x7fbc94473290>\n",
      "ERROR (theano.gof.opt): Traceback:\n",
      "ERROR (theano.gof.opt): Traceback (most recent call last):\n",
      "  File \"/home/topolo/Public/anaconda2/lib/python2.7/site-packages/theano/gof/opt.py\", line 230, in apply\n",
      "    sub_prof = optimizer.optimize(fgraph)\n",
      "  File \"/home/topolo/Public/anaconda2/lib/python2.7/site-packages/theano/gof/opt.py\", line 89, in optimize\n",
      "    ret = self.apply(fgraph, *args, **kwargs)\n",
      "  File \"/home/topolo/Public/anaconda2/lib/python2.7/site-packages/theano/gof/opt.py\", line 2223, in apply\n",
      "    sub_prof = gopt.apply(fgraph)\n",
      "  File \"/home/topolo/Public/anaconda2/lib/python2.7/site-packages/theano/gof/opt.py\", line 817, in apply\n",
      "    fgraph.replace_all_validate(pairs, 'MergeOptimizer')\n",
      "  File \"/home/topolo/Public/anaconda2/lib/python2.7/site-packages/theano/gof/toolbox.py\", line 309, in replace_all_validate\n",
      "    fgraph.replace(r, new_r, reason=reason, verbose=False)\n",
      "  File \"/home/topolo/Public/anaconda2/lib/python2.7/site-packages/theano/gof/fg.py\", line 561, in replace\n",
      "    str(reason))\n",
      "TypeError: ('The type of the replacement must be compatible with the type of the original Variable.', AllocEmpty{dtype='float32'}.0, AllocEmpty{dtype='float32'}.0, TensorType(float32, row), TensorType(float32, matrix), 'MergeOptimizer')\n",
      "\n"
     ]
    },
    {
     "name": "stdout",
     "output_type": "stream",
     "text": [
      "[ 0.  1.  0.  0.  0.  0.  0.]\n",
      "[ 0.03431728  0.22717163  0.16979101  0.16979101  0.27687672  0.25808966\n",
      "  0.27789384]\n"
     ]
    },
    {
     "name": "stderr",
     "output_type": "stream",
     "text": [
      "<<!! BUG IN FGRAPH.REPLACE OR A LISTENER !!>> <type 'exceptions.TypeError'> ('The type of the replacement must be compatible with the type of the original Variable.', AllocEmpty{dtype='float32'}.0, AllocEmpty{dtype='float32'}.0, TensorType(float32, row), TensorType(float32, matrix), 'MergeOptimizer') MergeOptimizer\n",
      "ERROR (theano.gof.opt): SeqOptimizer apply <theano.gof.opt.EquilibriumOptimizer object at 0x7fbc94016fd0>\n",
      "ERROR (theano.gof.opt): Traceback:\n",
      "ERROR (theano.gof.opt): Traceback (most recent call last):\n",
      "  File \"/home/topolo/Public/anaconda2/lib/python2.7/site-packages/theano/gof/opt.py\", line 230, in apply\n",
      "    sub_prof = optimizer.optimize(fgraph)\n",
      "  File \"/home/topolo/Public/anaconda2/lib/python2.7/site-packages/theano/gof/opt.py\", line 89, in optimize\n",
      "    ret = self.apply(fgraph, *args, **kwargs)\n",
      "  File \"/home/topolo/Public/anaconda2/lib/python2.7/site-packages/theano/gof/opt.py\", line 2223, in apply\n",
      "    sub_prof = gopt.apply(fgraph)\n",
      "  File \"/home/topolo/Public/anaconda2/lib/python2.7/site-packages/theano/gof/opt.py\", line 817, in apply\n",
      "    fgraph.replace_all_validate(pairs, 'MergeOptimizer')\n",
      "  File \"/home/topolo/Public/anaconda2/lib/python2.7/site-packages/theano/gof/toolbox.py\", line 309, in replace_all_validate\n",
      "    fgraph.replace(r, new_r, reason=reason, verbose=False)\n",
      "  File \"/home/topolo/Public/anaconda2/lib/python2.7/site-packages/theano/gof/fg.py\", line 561, in replace\n",
      "    str(reason))\n",
      "TypeError: ('The type of the replacement must be compatible with the type of the original Variable.', AllocEmpty{dtype='float32'}.0, AllocEmpty{dtype='float32'}.0, TensorType(float32, row), TensorType(float32, matrix), 'MergeOptimizer')\n",
      "\n"
     ]
    },
    {
     "name": "stdout",
     "output_type": "stream",
     "text": [
      "[ 0.  0.  0.  0.  1.  0.  0.]\n",
      "[ 0.03446481  0.21921226  0.1519177   0.1519177   0.28736371  0.23247316\n",
      "  0.31759408]\n"
     ]
    },
    {
     "name": "stderr",
     "output_type": "stream",
     "text": [
      "<<!! BUG IN FGRAPH.REPLACE OR A LISTENER !!>> <type 'exceptions.TypeError'> ('The type of the replacement must be compatible with the type of the original Variable.', AllocEmpty{dtype='float32'}.0, AllocEmpty{dtype='float32'}.0, TensorType(float32, row), TensorType(float32, matrix), 'MergeOptimizer') MergeOptimizer\n",
      "ERROR (theano.gof.opt): SeqOptimizer apply <theano.gof.opt.EquilibriumOptimizer object at 0x7fbc93cc4090>\n",
      "ERROR (theano.gof.opt): Traceback:\n",
      "ERROR (theano.gof.opt): Traceback (most recent call last):\n",
      "  File \"/home/topolo/Public/anaconda2/lib/python2.7/site-packages/theano/gof/opt.py\", line 230, in apply\n",
      "    sub_prof = optimizer.optimize(fgraph)\n",
      "  File \"/home/topolo/Public/anaconda2/lib/python2.7/site-packages/theano/gof/opt.py\", line 89, in optimize\n",
      "    ret = self.apply(fgraph, *args, **kwargs)\n",
      "  File \"/home/topolo/Public/anaconda2/lib/python2.7/site-packages/theano/gof/opt.py\", line 2223, in apply\n",
      "    sub_prof = gopt.apply(fgraph)\n",
      "  File \"/home/topolo/Public/anaconda2/lib/python2.7/site-packages/theano/gof/opt.py\", line 817, in apply\n",
      "    fgraph.replace_all_validate(pairs, 'MergeOptimizer')\n",
      "  File \"/home/topolo/Public/anaconda2/lib/python2.7/site-packages/theano/gof/toolbox.py\", line 309, in replace_all_validate\n",
      "    fgraph.replace(r, new_r, reason=reason, verbose=False)\n",
      "  File \"/home/topolo/Public/anaconda2/lib/python2.7/site-packages/theano/gof/fg.py\", line 561, in replace\n",
      "    str(reason))\n",
      "TypeError: ('The type of the replacement must be compatible with the type of the original Variable.', AllocEmpty{dtype='float32'}.0, AllocEmpty{dtype='float32'}.0, TensorType(float32, row), TensorType(float32, matrix), 'MergeOptimizer')\n",
      "\n"
     ]
    },
    {
     "name": "stdout",
     "output_type": "stream",
     "text": [
      "[ 0.  0.  0.  0.  1.  0.  0.]\n",
      "[ 0.03449107  0.22043866  0.16158645  0.16158645  0.28003576  0.23917593\n",
      "  0.30183432]\n"
     ]
    },
    {
     "name": "stderr",
     "output_type": "stream",
     "text": [
      "<<!! BUG IN FGRAPH.REPLACE OR A LISTENER !!>> <type 'exceptions.TypeError'> ('The type of the replacement must be compatible with the type of the original Variable.', AllocEmpty{dtype='float32'}.0, AllocEmpty{dtype='float32'}.0, TensorType(float32, row), TensorType(float32, matrix), 'MergeOptimizer') MergeOptimizer\n",
      "ERROR (theano.gof.opt): SeqOptimizer apply <theano.gof.opt.EquilibriumOptimizer object at 0x7fbc938cab50>\n",
      "ERROR (theano.gof.opt): Traceback:\n",
      "ERROR (theano.gof.opt): Traceback (most recent call last):\n",
      "  File \"/home/topolo/Public/anaconda2/lib/python2.7/site-packages/theano/gof/opt.py\", line 230, in apply\n",
      "    sub_prof = optimizer.optimize(fgraph)\n",
      "  File \"/home/topolo/Public/anaconda2/lib/python2.7/site-packages/theano/gof/opt.py\", line 89, in optimize\n",
      "    ret = self.apply(fgraph, *args, **kwargs)\n",
      "  File \"/home/topolo/Public/anaconda2/lib/python2.7/site-packages/theano/gof/opt.py\", line 2223, in apply\n",
      "    sub_prof = gopt.apply(fgraph)\n",
      "  File \"/home/topolo/Public/anaconda2/lib/python2.7/site-packages/theano/gof/opt.py\", line 817, in apply\n",
      "    fgraph.replace_all_validate(pairs, 'MergeOptimizer')\n",
      "  File \"/home/topolo/Public/anaconda2/lib/python2.7/site-packages/theano/gof/toolbox.py\", line 309, in replace_all_validate\n",
      "    fgraph.replace(r, new_r, reason=reason, verbose=False)\n",
      "  File \"/home/topolo/Public/anaconda2/lib/python2.7/site-packages/theano/gof/fg.py\", line 561, in replace\n",
      "    str(reason))\n",
      "TypeError: ('The type of the replacement must be compatible with the type of the original Variable.', AllocEmpty{dtype='float32'}.0, AllocEmpty{dtype='float32'}.0, TensorType(float32, row), TensorType(float32, matrix), 'MergeOptimizer')\n",
      "\n"
     ]
    },
    {
     "name": "stdout",
     "output_type": "stream",
     "text": [
      "[ 0.  0.  0.  0.  1.  0.  0.]\n",
      "[ 0.03458566  0.22651395  0.16490869  0.16490869  0.27892867  0.25001329\n",
      "  0.28713083]\n"
     ]
    },
    {
     "name": "stderr",
     "output_type": "stream",
     "text": [
      "<<!! BUG IN FGRAPH.REPLACE OR A LISTENER !!>> <type 'exceptions.TypeError'> ('The type of the replacement must be compatible with the type of the original Variable.', AllocEmpty{dtype='float32'}.0, AllocEmpty{dtype='float32'}.0, TensorType(float32, row), TensorType(float32, matrix), 'MergeOptimizer') MergeOptimizer\n",
      "ERROR (theano.gof.opt): SeqOptimizer apply <theano.gof.opt.EquilibriumOptimizer object at 0x7fbc93587d10>\n"
     ]
    },
    {
     "name": "stdout",
     "output_type": "stream",
     "text": [
      "[ 0.  1.  0.  0.  0.  0.  0.]\n",
      "[ 0.03340504  0.32906768  0.19061083  0.19061083  0.27263764  0.40362844\n",
      "  0.15755469]\n"
     ]
    },
    {
     "name": "stderr",
     "output_type": "stream",
     "text": [
      "ERROR (theano.gof.opt): Traceback:\n",
      "ERROR (theano.gof.opt): Traceback (most recent call last):\n",
      "  File \"/home/topolo/Public/anaconda2/lib/python2.7/site-packages/theano/gof/opt.py\", line 230, in apply\n",
      "    sub_prof = optimizer.optimize(fgraph)\n",
      "  File \"/home/topolo/Public/anaconda2/lib/python2.7/site-packages/theano/gof/opt.py\", line 89, in optimize\n",
      "    ret = self.apply(fgraph, *args, **kwargs)\n",
      "  File \"/home/topolo/Public/anaconda2/lib/python2.7/site-packages/theano/gof/opt.py\", line 2223, in apply\n",
      "    sub_prof = gopt.apply(fgraph)\n",
      "  File \"/home/topolo/Public/anaconda2/lib/python2.7/site-packages/theano/gof/opt.py\", line 817, in apply\n",
      "    fgraph.replace_all_validate(pairs, 'MergeOptimizer')\n",
      "  File \"/home/topolo/Public/anaconda2/lib/python2.7/site-packages/theano/gof/toolbox.py\", line 309, in replace_all_validate\n",
      "    fgraph.replace(r, new_r, reason=reason, verbose=False)\n",
      "  File \"/home/topolo/Public/anaconda2/lib/python2.7/site-packages/theano/gof/fg.py\", line 561, in replace\n",
      "    str(reason))\n",
      "TypeError: ('The type of the replacement must be compatible with the type of the original Variable.', AllocEmpty{dtype='float32'}.0, AllocEmpty{dtype='float32'}.0, TensorType(float32, row), TensorType(float32, matrix), 'MergeOptimizer')\n",
      "\n",
      "<<!! BUG IN FGRAPH.REPLACE OR A LISTENER !!>> <type 'exceptions.TypeError'> ('The type of the replacement must be compatible with the type of the original Variable.', AllocEmpty{dtype='float32'}.0, AllocEmpty{dtype='float32'}.0, TensorType(float32, row), TensorType(float32, matrix), 'MergeOptimizer') MergeOptimizer\n",
      "ERROR (theano.gof.opt): SeqOptimizer apply <theano.gof.opt.EquilibriumOptimizer object at 0x7fbc931359d0>\n",
      "ERROR (theano.gof.opt): Traceback:\n",
      "ERROR (theano.gof.opt): Traceback (most recent call last):\n",
      "  File \"/home/topolo/Public/anaconda2/lib/python2.7/site-packages/theano/gof/opt.py\", line 230, in apply\n",
      "    sub_prof = optimizer.optimize(fgraph)\n",
      "  File \"/home/topolo/Public/anaconda2/lib/python2.7/site-packages/theano/gof/opt.py\", line 89, in optimize\n",
      "    ret = self.apply(fgraph, *args, **kwargs)\n",
      "  File \"/home/topolo/Public/anaconda2/lib/python2.7/site-packages/theano/gof/opt.py\", line 2223, in apply\n",
      "    sub_prof = gopt.apply(fgraph)\n",
      "  File \"/home/topolo/Public/anaconda2/lib/python2.7/site-packages/theano/gof/opt.py\", line 817, in apply\n",
      "    fgraph.replace_all_validate(pairs, 'MergeOptimizer')\n",
      "  File \"/home/topolo/Public/anaconda2/lib/python2.7/site-packages/theano/gof/toolbox.py\", line 309, in replace_all_validate\n",
      "    fgraph.replace(r, new_r, reason=reason, verbose=False)\n",
      "  File \"/home/topolo/Public/anaconda2/lib/python2.7/site-packages/theano/gof/fg.py\", line 561, in replace\n",
      "    str(reason))\n",
      "TypeError: ('The type of the replacement must be compatible with the type of the original Variable.', AllocEmpty{dtype='float32'}.0, AllocEmpty{dtype='float32'}.0, TensorType(float32, row), TensorType(float32, matrix), 'MergeOptimizer')\n",
      "\n"
     ]
    },
    {
     "name": "stdout",
     "output_type": "stream",
     "text": [
      "[ 0.  1.  0.  0.  0.  0.  0.]\n",
      "[ 0.03436713  0.20963696  0.14587112  0.14587112  0.29266161  0.21802917\n",
      "  0.3412233 ]\n"
     ]
    },
    {
     "name": "stderr",
     "output_type": "stream",
     "text": [
      "<<!! BUG IN FGRAPH.REPLACE OR A LISTENER !!>> <type 'exceptions.TypeError'> ('The type of the replacement must be compatible with the type of the original Variable.', AllocEmpty{dtype='float32'}.0, AllocEmpty{dtype='float32'}.0, TensorType(float32, row), TensorType(float32, matrix), 'MergeOptimizer') MergeOptimizer\n",
      "ERROR (theano.gof.opt): SeqOptimizer apply <theano.gof.opt.EquilibriumOptimizer object at 0x7fbc92d48950>\n",
      "ERROR (theano.gof.opt): Traceback:\n",
      "ERROR (theano.gof.opt): Traceback (most recent call last):\n",
      "  File \"/home/topolo/Public/anaconda2/lib/python2.7/site-packages/theano/gof/opt.py\", line 230, in apply\n",
      "    sub_prof = optimizer.optimize(fgraph)\n",
      "  File \"/home/topolo/Public/anaconda2/lib/python2.7/site-packages/theano/gof/opt.py\", line 89, in optimize\n",
      "    ret = self.apply(fgraph, *args, **kwargs)\n",
      "  File \"/home/topolo/Public/anaconda2/lib/python2.7/site-packages/theano/gof/opt.py\", line 2223, in apply\n",
      "    sub_prof = gopt.apply(fgraph)\n",
      "  File \"/home/topolo/Public/anaconda2/lib/python2.7/site-packages/theano/gof/opt.py\", line 817, in apply\n",
      "    fgraph.replace_all_validate(pairs, 'MergeOptimizer')\n",
      "  File \"/home/topolo/Public/anaconda2/lib/python2.7/site-packages/theano/gof/toolbox.py\", line 309, in replace_all_validate\n",
      "    fgraph.replace(r, new_r, reason=reason, verbose=False)\n",
      "  File \"/home/topolo/Public/anaconda2/lib/python2.7/site-packages/theano/gof/fg.py\", line 561, in replace\n",
      "    str(reason))\n",
      "TypeError: ('The type of the replacement must be compatible with the type of the original Variable.', AllocEmpty{dtype='float32'}.0, AllocEmpty{dtype='float32'}.0, TensorType(float32, row), TensorType(float32, matrix), 'MergeOptimizer')\n",
      "\n"
     ]
    },
    {
     "name": "stdout",
     "output_type": "stream",
     "text": [
      "[ 0.  1.  0.  0.  0.  0.  0.]\n",
      "[ 0.0344641   0.21368355  0.14697511  0.14697511  0.29182962  0.2226091\n",
      "  0.33337036]\n"
     ]
    },
    {
     "name": "stderr",
     "output_type": "stream",
     "text": [
      "<<!! BUG IN FGRAPH.REPLACE OR A LISTENER !!>> <type 'exceptions.TypeError'> ('The type of the replacement must be compatible with the type of the original Variable.', AllocEmpty{dtype='float32'}.0, AllocEmpty{dtype='float32'}.0, TensorType(float32, row), TensorType(float32, matrix), 'MergeOptimizer') MergeOptimizer\n",
      "ERROR (theano.gof.opt): SeqOptimizer apply <theano.gof.opt.EquilibriumOptimizer object at 0x7fbc929f4450>\n",
      "ERROR (theano.gof.opt): Traceback:\n",
      "ERROR (theano.gof.opt): Traceback (most recent call last):\n",
      "  File \"/home/topolo/Public/anaconda2/lib/python2.7/site-packages/theano/gof/opt.py\", line 230, in apply\n",
      "    sub_prof = optimizer.optimize(fgraph)\n",
      "  File \"/home/topolo/Public/anaconda2/lib/python2.7/site-packages/theano/gof/opt.py\", line 89, in optimize\n",
      "    ret = self.apply(fgraph, *args, **kwargs)\n",
      "  File \"/home/topolo/Public/anaconda2/lib/python2.7/site-packages/theano/gof/opt.py\", line 2223, in apply\n",
      "    sub_prof = gopt.apply(fgraph)\n",
      "  File \"/home/topolo/Public/anaconda2/lib/python2.7/site-packages/theano/gof/opt.py\", line 817, in apply\n",
      "    fgraph.replace_all_validate(pairs, 'MergeOptimizer')\n",
      "  File \"/home/topolo/Public/anaconda2/lib/python2.7/site-packages/theano/gof/toolbox.py\", line 309, in replace_all_validate\n",
      "    fgraph.replace(r, new_r, reason=reason, verbose=False)\n",
      "  File \"/home/topolo/Public/anaconda2/lib/python2.7/site-packages/theano/gof/fg.py\", line 561, in replace\n",
      "    str(reason))\n",
      "TypeError: ('The type of the replacement must be compatible with the type of the original Variable.', AllocEmpty{dtype='float32'}.0, AllocEmpty{dtype='float32'}.0, TensorType(float32, row), TensorType(float32, matrix), 'MergeOptimizer')\n",
      "\n"
     ]
    },
    {
     "name": "stdout",
     "output_type": "stream",
     "text": [
      "[ 0.  0.  0.  0.  1.  0.  0.]\n",
      "[ 0.03458566  0.22651395  0.16490869  0.16490869  0.27892867  0.25001329\n",
      "  0.28713083]\n",
      "[ 0.  1.  0.  0.  0.  0.  0.]\n",
      "[ 0.03248088  0.24626826  0.1243487   0.1243487   0.31888732  0.2595799\n",
      "  0.32345057]\n"
     ]
    }
   ],
   "source": [
    "predictions_test2  = predict_on_lst_manual(test_data2)"
   ]
  },
  {
   "cell_type": "code",
   "execution_count": 90,
   "metadata": {
    "collapsed": false
   },
   "outputs": [
    {
     "name": "stdout",
     "output_type": "stream",
     "text": [
      "10\n"
     ]
    }
   ],
   "source": [
    "print( len(predictions_test2))"
   ]
  },
  {
   "cell_type": "code",
   "execution_count": 91,
   "metadata": {
    "collapsed": false
   },
   "outputs": [
    {
     "name": "stdout",
     "output_type": "stream",
     "text": [
      "944.0 1099.0 0.858962693358\n"
     ]
    }
   ],
   "source": [
    "assert len(predictions_test2) == len(y_test_data)\n",
    "m = len(predictions_test2)\n",
    "TOTALELE = 0.\n",
    "POSRES   = 0.\n",
    "for j in range(m):\n",
    "    testing_arr = np.equal( (predictions_test2[j]>0.5).astype(float) , np.array( y_test_data[j]).astype(float) )\n",
    "    TOTALELE += testing_arr.size\n",
    "    POSRES += np.sum( testing_arr )\n",
    "\n",
    "print POSRES, TOTALELE, POSRES/TOTALELE  # 944.0 1099.0 0.858962693358"
   ]
  },
  {
   "cell_type": "code",
   "execution_count": 25,
   "metadata": {
    "collapsed": false
   },
   "outputs": [
    {
     "ename": "ValueError",
     "evalue": "dimension mismatch in args to gemv (10,7)x(10)->(10)\nApply node that caused the error: GpuGemv{no_inplace}(b1_copy[cuda], TensorConstant{1.0}, GpuDimShuffle{1,0}.0, GpuElemwise{Composite{(scalar_sigmoid((i0 + i1)) * tanh(i2))},no_inplace}.0, TensorConstant{1.0})\nToposort index: 31\nInputs types: [CudaNdarrayType(float32, vector), TensorType(float32, scalar), CudaNdarrayType(float32, matrix), CudaNdarrayType(float32, vector), TensorType(float32, scalar)]\nInputs shapes: [(10,), (), (10, 7), (10,), ()]\nInputs strides: [(1,), (), (1, 10), (1,), ()]\nInputs values: ['not shown', array(1.0, dtype=float32), 'not shown', 'not shown', array(1.0, dtype=float32)]\nOutputs clients: [[GpuElemwise{scalar_sigmoid,no_inplace}(GpuGemv{no_inplace}.0)]]\n\nHINT: Re-running with most Theano optimization disabled could give you a back-trace of when this node was created. This can be done with by setting the Theano flag 'optimizer=fast_compile'. If that does not work, Theano optimizations can be disabled with 'optimizer=None'.\nHINT: Use the Theano flag 'exception_verbosity=high' for a debugprint and storage map footprint of this apply node.\nApply node that caused the error: forall_inplace,gpu,scan_fn}(Shape_i{0}.0, GpuSubtensor{int64:int64:int8}.0, GpuIncSubtensor{Set;:int64:}.0, GpuIncSubtensor{InplaceSet;:int64:}.0, Shape_i{0}.0, Theta1, b1, theta1, Theta1, b1, theta1, W1, Theta1, b1, theta1, W1, Theta1, b1, theta1, W1, Theta1, b1)\nToposort index: 152\nInputs types: [TensorType(int64, scalar), CudaNdarrayType(float32, matrix), CudaNdarrayType(float32, matrix), CudaNdarrayType(float32, matrix), TensorType(int64, scalar), CudaNdarrayType(float32, matrix), CudaNdarrayType(float32, vector), CudaNdarrayType(float32, matrix), CudaNdarrayType(float32, matrix), CudaNdarrayType(float32, vector), CudaNdarrayType(float32, matrix), CudaNdarrayType(float32, matrix), CudaNdarrayType(float32, matrix), CudaNdarrayType(float32, vector), CudaNdarrayType(float32, matrix), CudaNdarrayType(float32, matrix), CudaNdarrayType(float32, matrix), CudaNdarrayType(float32, vector), CudaNdarrayType(float32, matrix), CudaNdarrayType(float32, matrix), CudaNdarrayType(float32, matrix), CudaNdarrayType(float32, vector)]\nInputs shapes: [(), (17, 7), (18, 10), (18, 10), (), (7, 10), (10,), (10, 10), (7, 10), (10,), (10, 10), (10, 10), (7, 10), (10,), (10, 10), (10, 10), (7, 10), (10,), (10, 10), (10, 10), (7, 10), (10,)]\nInputs strides: [(), (7, 1), (10, 1), (10, 1), (), (10, 1), (1,), (10, 1), (10, 1), (1,), (10, 1), (10, 1), (10, 1), (1,), (10, 1), (10, 1), (10, 1), (1,), (10, 1), (10, 1), (10, 1), (1,)]\nInputs values: [array(17), 'not shown', 'not shown', 'not shown', array(17), 'not shown', 'not shown', 'not shown', 'not shown', 'not shown', 'not shown', 'not shown', 'not shown', 'not shown', 'not shown', 'not shown', 'not shown', 'not shown', 'not shown', 'not shown', 'not shown', 'not shown']\nOutputs clients: [[GpuSubtensor{int64:int64:int64}(forall_inplace,gpu,scan_fn}.0, ScalarFromTensor.0, ScalarFromTensor.0, Constant{-1}), GpuSubtensor{int64:int64:int64}(forall_inplace,gpu,scan_fn}.0, ScalarFromTensor.0, ScalarFromTensor.0, Constant{-1})], [GpuSubtensor{int64:int64:int64}(forall_inplace,gpu,scan_fn}.1, ScalarFromTensor.0, ScalarFromTensor.0, Constant{-1}), GpuSubtensor{int64:int64:int64}(forall_inplace,gpu,scan_fn}.1, ScalarFromTensor.0, ScalarFromTensor.0, Constant{-1})], [GpuSubtensor{int64:int64:int64}(forall_inplace,gpu,scan_fn}.2, ScalarFromTensor.0, ScalarFromTensor.0, Constant{-1}), GpuElemwise{sub,no_inplace}(CudaNdarrayConstant{[[ 1.]]}, forall_inplace,gpu,scan_fn}.2), GpuElemwise{Composite{((i0 * log(i1)) + (i2 * log(i3)))}}[(0, 0)](GpuFromHost.0, forall_inplace,gpu,scan_fn}.2, GpuElemwise{sub,no_inplace}.0, GpuElemwise{sub,no_inplace}.0)]]\n\nHINT: Re-running with most Theano optimization disabled could give you a back-trace of when this node was created. This can be done with by setting the Theano flag 'optimizer=fast_compile'. If that does not work, Theano optimizations can be disabled with 'optimizer=None'.\nHINT: Use the Theano flag 'exception_verbosity=high' for a debugprint and storage map footprint of this apply node.",
     "output_type": "error",
     "traceback": [
      "\u001b[1;31m---------------------------------------------------------------------------\u001b[0m",
      "\u001b[1;31mValueError\u001b[0m                                Traceback (most recent call last)",
      "\u001b[1;32m<ipython-input-25-1b583f18ca6c>\u001b[0m in \u001b[0;36m<module>\u001b[1;34m()\u001b[0m\n\u001b[1;32m----> 1\u001b[1;33m \u001b[0mMemBlck_Herta\u001b[0m\u001b[1;33m.\u001b[0m\u001b[0mgradDescent_step\u001b[0m\u001b[1;33m(\u001b[0m \u001b[0mtrain_data\u001b[0m\u001b[1;33m[\u001b[0m\u001b[1;36m900\u001b[0m\u001b[1;33m]\u001b[0m\u001b[1;33m[\u001b[0m\u001b[1;36m0\u001b[0m\u001b[1;33m]\u001b[0m\u001b[1;33m,\u001b[0m \u001b[0mtrain_data\u001b[0m\u001b[1;33m[\u001b[0m\u001b[1;36m900\u001b[0m\u001b[1;33m]\u001b[0m\u001b[1;33m[\u001b[0m\u001b[1;36m1\u001b[0m\u001b[1;33m]\u001b[0m \u001b[1;33m)\u001b[0m\u001b[1;33m\u001b[0m\u001b[0m\n\u001b[0m",
      "\u001b[1;32m/home/topolo/Public/anaconda2/lib/python2.7/site-packages/theano/compile/function_module.pyc\u001b[0m in \u001b[0;36m__call__\u001b[1;34m(self, *args, **kwargs)\u001b[0m\n\u001b[0;32m    869\u001b[0m                     \u001b[0mnode\u001b[0m\u001b[1;33m=\u001b[0m\u001b[0mself\u001b[0m\u001b[1;33m.\u001b[0m\u001b[0mfn\u001b[0m\u001b[1;33m.\u001b[0m\u001b[0mnodes\u001b[0m\u001b[1;33m[\u001b[0m\u001b[0mself\u001b[0m\u001b[1;33m.\u001b[0m\u001b[0mfn\u001b[0m\u001b[1;33m.\u001b[0m\u001b[0mposition_of_error\u001b[0m\u001b[1;33m]\u001b[0m\u001b[1;33m,\u001b[0m\u001b[1;33m\u001b[0m\u001b[0m\n\u001b[0;32m    870\u001b[0m                     \u001b[0mthunk\u001b[0m\u001b[1;33m=\u001b[0m\u001b[0mthunk\u001b[0m\u001b[1;33m,\u001b[0m\u001b[1;33m\u001b[0m\u001b[0m\n\u001b[1;32m--> 871\u001b[1;33m                     storage_map=getattr(self.fn, 'storage_map', None))\n\u001b[0m\u001b[0;32m    872\u001b[0m             \u001b[1;32melse\u001b[0m\u001b[1;33m:\u001b[0m\u001b[1;33m\u001b[0m\u001b[0m\n\u001b[0;32m    873\u001b[0m                 \u001b[1;31m# old-style linkers raise their own exceptions\u001b[0m\u001b[1;33m\u001b[0m\u001b[1;33m\u001b[0m\u001b[0m\n",
      "\u001b[1;32m/home/topolo/Public/anaconda2/lib/python2.7/site-packages/theano/gof/link.pyc\u001b[0m in \u001b[0;36mraise_with_op\u001b[1;34m(node, thunk, exc_info, storage_map)\u001b[0m\n\u001b[0;32m    312\u001b[0m         \u001b[1;31m# extra long error message in that case.\u001b[0m\u001b[1;33m\u001b[0m\u001b[1;33m\u001b[0m\u001b[0m\n\u001b[0;32m    313\u001b[0m         \u001b[1;32mpass\u001b[0m\u001b[1;33m\u001b[0m\u001b[0m\n\u001b[1;32m--> 314\u001b[1;33m     \u001b[0mreraise\u001b[0m\u001b[1;33m(\u001b[0m\u001b[0mexc_type\u001b[0m\u001b[1;33m,\u001b[0m \u001b[0mexc_value\u001b[0m\u001b[1;33m,\u001b[0m \u001b[0mexc_trace\u001b[0m\u001b[1;33m)\u001b[0m\u001b[1;33m\u001b[0m\u001b[0m\n\u001b[0m\u001b[0;32m    315\u001b[0m \u001b[1;33m\u001b[0m\u001b[0m\n\u001b[0;32m    316\u001b[0m \u001b[1;33m\u001b[0m\u001b[0m\n",
      "\u001b[1;32m/home/topolo/Public/anaconda2/lib/python2.7/site-packages/theano/compile/function_module.pyc\u001b[0m in \u001b[0;36m__call__\u001b[1;34m(self, *args, **kwargs)\u001b[0m\n\u001b[0;32m    857\u001b[0m         \u001b[0mt0_fn\u001b[0m \u001b[1;33m=\u001b[0m \u001b[0mtime\u001b[0m\u001b[1;33m.\u001b[0m\u001b[0mtime\u001b[0m\u001b[1;33m(\u001b[0m\u001b[1;33m)\u001b[0m\u001b[1;33m\u001b[0m\u001b[0m\n\u001b[0;32m    858\u001b[0m         \u001b[1;32mtry\u001b[0m\u001b[1;33m:\u001b[0m\u001b[1;33m\u001b[0m\u001b[0m\n\u001b[1;32m--> 859\u001b[1;33m             \u001b[0moutputs\u001b[0m \u001b[1;33m=\u001b[0m \u001b[0mself\u001b[0m\u001b[1;33m.\u001b[0m\u001b[0mfn\u001b[0m\u001b[1;33m(\u001b[0m\u001b[1;33m)\u001b[0m\u001b[1;33m\u001b[0m\u001b[0m\n\u001b[0m\u001b[0;32m    860\u001b[0m         \u001b[1;32mexcept\u001b[0m \u001b[0mException\u001b[0m\u001b[1;33m:\u001b[0m\u001b[1;33m\u001b[0m\u001b[0m\n\u001b[0;32m    861\u001b[0m             \u001b[1;32mif\u001b[0m \u001b[0mhasattr\u001b[0m\u001b[1;33m(\u001b[0m\u001b[0mself\u001b[0m\u001b[1;33m.\u001b[0m\u001b[0mfn\u001b[0m\u001b[1;33m,\u001b[0m \u001b[1;34m'position_of_error'\u001b[0m\u001b[1;33m)\u001b[0m\u001b[1;33m:\u001b[0m\u001b[1;33m\u001b[0m\u001b[0m\n",
      "\u001b[1;32m/home/topolo/Public/anaconda2/lib/python2.7/site-packages/theano/scan_module/scan_op.pyc\u001b[0m in \u001b[0;36mrval\u001b[1;34m(p, i, o, n, allow_gc)\u001b[0m\n\u001b[0;32m    949\u001b[0m         def rval(p=p, i=node_input_storage, o=node_output_storage, n=node,\n\u001b[0;32m    950\u001b[0m                  allow_gc=allow_gc):\n\u001b[1;32m--> 951\u001b[1;33m             \u001b[0mr\u001b[0m \u001b[1;33m=\u001b[0m \u001b[0mp\u001b[0m\u001b[1;33m(\u001b[0m\u001b[0mn\u001b[0m\u001b[1;33m,\u001b[0m \u001b[1;33m[\u001b[0m\u001b[0mx\u001b[0m\u001b[1;33m[\u001b[0m\u001b[1;36m0\u001b[0m\u001b[1;33m]\u001b[0m \u001b[1;32mfor\u001b[0m \u001b[0mx\u001b[0m \u001b[1;32min\u001b[0m \u001b[0mi\u001b[0m\u001b[1;33m]\u001b[0m\u001b[1;33m,\u001b[0m \u001b[0mo\u001b[0m\u001b[1;33m)\u001b[0m\u001b[1;33m\u001b[0m\u001b[0m\n\u001b[0m\u001b[0;32m    952\u001b[0m             \u001b[1;32mfor\u001b[0m \u001b[0mo\u001b[0m \u001b[1;32min\u001b[0m \u001b[0mnode\u001b[0m\u001b[1;33m.\u001b[0m\u001b[0moutputs\u001b[0m\u001b[1;33m:\u001b[0m\u001b[1;33m\u001b[0m\u001b[0m\n\u001b[0;32m    953\u001b[0m                 \u001b[0mcompute_map\u001b[0m\u001b[1;33m[\u001b[0m\u001b[0mo\u001b[0m\u001b[1;33m]\u001b[0m\u001b[1;33m[\u001b[0m\u001b[1;36m0\u001b[0m\u001b[1;33m]\u001b[0m \u001b[1;33m=\u001b[0m \u001b[0mTrue\u001b[0m\u001b[1;33m\u001b[0m\u001b[0m\n",
      "\u001b[1;32m/home/topolo/Public/anaconda2/lib/python2.7/site-packages/theano/scan_module/scan_op.pyc\u001b[0m in \u001b[0;36m<lambda>\u001b[1;34m(node, args, outs)\u001b[0m\n\u001b[0;32m    938\u001b[0m                         \u001b[0margs\u001b[0m\u001b[1;33m,\u001b[0m\u001b[1;33m\u001b[0m\u001b[0m\n\u001b[0;32m    939\u001b[0m                         \u001b[0mouts\u001b[0m\u001b[1;33m,\u001b[0m\u001b[1;33m\u001b[0m\u001b[0m\n\u001b[1;32m--> 940\u001b[1;33m                         self, node)\n\u001b[0m\u001b[0;32m    941\u001b[0m         \u001b[1;32mexcept\u001b[0m \u001b[1;33m(\u001b[0m\u001b[0mImportError\u001b[0m\u001b[1;33m,\u001b[0m \u001b[0mtheano\u001b[0m\u001b[1;33m.\u001b[0m\u001b[0mgof\u001b[0m\u001b[1;33m.\u001b[0m\u001b[0mcmodule\u001b[0m\u001b[1;33m.\u001b[0m\u001b[0mMissingGXX\u001b[0m\u001b[1;33m)\u001b[0m\u001b[1;33m:\u001b[0m\u001b[1;33m\u001b[0m\u001b[0m\n\u001b[0;32m    942\u001b[0m             \u001b[0mp\u001b[0m \u001b[1;33m=\u001b[0m \u001b[0mself\u001b[0m\u001b[1;33m.\u001b[0m\u001b[0mexecute\u001b[0m\u001b[1;33m\u001b[0m\u001b[0m\n",
      "\u001b[1;32mtheano/scan_module/scan_perform.pyx\u001b[0m in \u001b[0;36mtheano.scan_module.scan_perform.perform (/home/topolo/.theano/compiledir_Linux-4.2-fc23.x86_64-x86_64-with-fedora-23-Twenty_Three-x86_64-2.7.11-64/scan_perform/mod.cpp:4316)\u001b[1;34m()\u001b[0m\n",
      "\u001b[1;32m/home/topolo/Public/anaconda2/lib/python2.7/site-packages/theano/gof/link.pyc\u001b[0m in \u001b[0;36mraise_with_op\u001b[1;34m(node, thunk, exc_info, storage_map)\u001b[0m\n\u001b[0;32m    312\u001b[0m         \u001b[1;31m# extra long error message in that case.\u001b[0m\u001b[1;33m\u001b[0m\u001b[1;33m\u001b[0m\u001b[0m\n\u001b[0;32m    313\u001b[0m         \u001b[1;32mpass\u001b[0m\u001b[1;33m\u001b[0m\u001b[0m\n\u001b[1;32m--> 314\u001b[1;33m     \u001b[0mreraise\u001b[0m\u001b[1;33m(\u001b[0m\u001b[0mexc_type\u001b[0m\u001b[1;33m,\u001b[0m \u001b[0mexc_value\u001b[0m\u001b[1;33m,\u001b[0m \u001b[0mexc_trace\u001b[0m\u001b[1;33m)\u001b[0m\u001b[1;33m\u001b[0m\u001b[0m\n\u001b[0m\u001b[0;32m    315\u001b[0m \u001b[1;33m\u001b[0m\u001b[0m\n\u001b[0;32m    316\u001b[0m \u001b[1;33m\u001b[0m\u001b[0m\n",
      "\u001b[1;32mtheano/scan_module/scan_perform.pyx\u001b[0m in \u001b[0;36mtheano.scan_module.scan_perform.perform (/home/topolo/.theano/compiledir_Linux-4.2-fc23.x86_64-x86_64-with-fedora-23-Twenty_Three-x86_64-2.7.11-64/scan_perform/mod.cpp:4193)\u001b[1;34m()\u001b[0m\n",
      "\u001b[1;31mValueError\u001b[0m: dimension mismatch in args to gemv (10,7)x(10)->(10)\nApply node that caused the error: GpuGemv{no_inplace}(b1_copy[cuda], TensorConstant{1.0}, GpuDimShuffle{1,0}.0, GpuElemwise{Composite{(scalar_sigmoid((i0 + i1)) * tanh(i2))},no_inplace}.0, TensorConstant{1.0})\nToposort index: 31\nInputs types: [CudaNdarrayType(float32, vector), TensorType(float32, scalar), CudaNdarrayType(float32, matrix), CudaNdarrayType(float32, vector), TensorType(float32, scalar)]\nInputs shapes: [(10,), (), (10, 7), (10,), ()]\nInputs strides: [(1,), (), (1, 10), (1,), ()]\nInputs values: ['not shown', array(1.0, dtype=float32), 'not shown', 'not shown', array(1.0, dtype=float32)]\nOutputs clients: [[GpuElemwise{scalar_sigmoid,no_inplace}(GpuGemv{no_inplace}.0)]]\n\nHINT: Re-running with most Theano optimization disabled could give you a back-trace of when this node was created. This can be done with by setting the Theano flag 'optimizer=fast_compile'. If that does not work, Theano optimizations can be disabled with 'optimizer=None'.\nHINT: Use the Theano flag 'exception_verbosity=high' for a debugprint and storage map footprint of this apply node.\nApply node that caused the error: forall_inplace,gpu,scan_fn}(Shape_i{0}.0, GpuSubtensor{int64:int64:int8}.0, GpuIncSubtensor{Set;:int64:}.0, GpuIncSubtensor{InplaceSet;:int64:}.0, Shape_i{0}.0, Theta1, b1, theta1, Theta1, b1, theta1, W1, Theta1, b1, theta1, W1, Theta1, b1, theta1, W1, Theta1, b1)\nToposort index: 152\nInputs types: [TensorType(int64, scalar), CudaNdarrayType(float32, matrix), CudaNdarrayType(float32, matrix), CudaNdarrayType(float32, matrix), TensorType(int64, scalar), CudaNdarrayType(float32, matrix), CudaNdarrayType(float32, vector), CudaNdarrayType(float32, matrix), CudaNdarrayType(float32, matrix), CudaNdarrayType(float32, vector), CudaNdarrayType(float32, matrix), CudaNdarrayType(float32, matrix), CudaNdarrayType(float32, matrix), CudaNdarrayType(float32, vector), CudaNdarrayType(float32, matrix), CudaNdarrayType(float32, matrix), CudaNdarrayType(float32, matrix), CudaNdarrayType(float32, vector), CudaNdarrayType(float32, matrix), CudaNdarrayType(float32, matrix), CudaNdarrayType(float32, matrix), CudaNdarrayType(float32, vector)]\nInputs shapes: [(), (17, 7), (18, 10), (18, 10), (), (7, 10), (10,), (10, 10), (7, 10), (10,), (10, 10), (10, 10), (7, 10), (10,), (10, 10), (10, 10), (7, 10), (10,), (10, 10), (10, 10), (7, 10), (10,)]\nInputs strides: [(), (7, 1), (10, 1), (10, 1), (), (10, 1), (1,), (10, 1), (10, 1), (1,), (10, 1), (10, 1), (10, 1), (1,), (10, 1), (10, 1), (10, 1), (1,), (10, 1), (10, 1), (10, 1), (1,)]\nInputs values: [array(17), 'not shown', 'not shown', 'not shown', array(17), 'not shown', 'not shown', 'not shown', 'not shown', 'not shown', 'not shown', 'not shown', 'not shown', 'not shown', 'not shown', 'not shown', 'not shown', 'not shown', 'not shown', 'not shown', 'not shown', 'not shown']\nOutputs clients: [[GpuSubtensor{int64:int64:int64}(forall_inplace,gpu,scan_fn}.0, ScalarFromTensor.0, ScalarFromTensor.0, Constant{-1}), GpuSubtensor{int64:int64:int64}(forall_inplace,gpu,scan_fn}.0, ScalarFromTensor.0, ScalarFromTensor.0, Constant{-1})], [GpuSubtensor{int64:int64:int64}(forall_inplace,gpu,scan_fn}.1, ScalarFromTensor.0, ScalarFromTensor.0, Constant{-1}), GpuSubtensor{int64:int64:int64}(forall_inplace,gpu,scan_fn}.1, ScalarFromTensor.0, ScalarFromTensor.0, Constant{-1})], [GpuSubtensor{int64:int64:int64}(forall_inplace,gpu,scan_fn}.2, ScalarFromTensor.0, ScalarFromTensor.0, Constant{-1}), GpuElemwise{sub,no_inplace}(CudaNdarrayConstant{[[ 1.]]}, forall_inplace,gpu,scan_fn}.2), GpuElemwise{Composite{((i0 * log(i1)) + (i2 * log(i3)))}}[(0, 0)](GpuFromHost.0, forall_inplace,gpu,scan_fn}.2, GpuElemwise{sub,no_inplace}.0, GpuElemwise{sub,no_inplace}.0)]]\n\nHINT: Re-running with most Theano optimization disabled could give you a back-trace of when this node was created. This can be done with by setting the Theano flag 'optimizer=fast_compile'. If that does not work, Theano optimizations can be disabled with 'optimizer=None'.\nHINT: Use the Theano flag 'exception_verbosity=high' for a debugprint and storage map footprint of this apply node."
     ]
    }
   ],
   "source": [
    "MemBlck_Herta.gradDescent_step( train_data[900][0], train_data[900][1] )"
   ]
  },
  {
   "cell_type": "code",
   "execution_count": null,
   "metadata": {
    "collapsed": true
   },
   "outputs": [],
   "source": []
  },
  {
   "cell_type": "markdown",
   "metadata": {},
   "source": [
    "From [Christian Herta's Neural Networks page](http://www.christianherta.de/lehre/dataScience/machineLearning/neuralNetworks/LSTM.php).  Note that how he *sizes the matrices and vectors, and thus the `numpy` arrays* is according to a *right*-action on the module or vector space, where as I use the usual *left* action on the module (i.e. matrix multiplication from the left, on to vectors of the vector space the matrix acts upon, on the right).  "
   ]
  },
  {
   "cell_type": "code",
   "execution_count": 31,
   "metadata": {
    "collapsed": false
   },
   "outputs": [
    {
     "name": "stdout",
     "output_type": "stream",
     "text": [
      "Gates(g=[7, 10], i=[7, 10], f=[7, 10], o=[7, 10])\n"
     ]
    }
   ],
   "source": [
    "n_c = 10\n",
    "n_in = 7\n",
    "s_l_in = Gates(g=[n_in,n_c],i=[n_in,n_c],f=[n_in,n_c],o=[n_in,n_c])\n",
    "print(s_l_in)"
   ]
  },
  {
   "cell_type": "code",
   "execution_count": 21,
   "metadata": {
    "collapsed": false
   },
   "outputs": [
    {
     "data": {
      "text/plain": [
       "array([0, 0, 0], dtype=int32)"
      ]
     },
     "execution_count": 21,
     "metadata": {},
     "output_type": "execute_result"
    }
   ],
   "source": [
    "np.ndarray([10,7]).shape\n",
    "np.ndarray([3,5],dtype='int32')[:,0]\n"
   ]
  },
  {
   "cell_type": "code",
   "execution_count": 32,
   "metadata": {
    "collapsed": true
   },
   "outputs": [],
   "source": [
    "g1ThetabthetaW = ThetabthetaW( s_l_in.g, n_c,activation=T.tanh)"
   ]
  },
  {
   "cell_type": "code",
   "execution_count": 33,
   "metadata": {
    "collapsed": false
   },
   "outputs": [
    {
     "name": "stdout",
     "output_type": "stream",
     "text": [
      "(<class 'theano.sandbox.cuda.var.CudaNdarraySharedVariable'>, <class 'theano.sandbox.cuda.var.CudaNdarraySharedVariable'>, <class 'theano.sandbox.cuda.var.CudaNdarraySharedVariable'>, <class 'theano.sandbox.cuda.var.CudaNdarraySharedVariable'>)\n"
     ]
    }
   ],
   "source": [
    "print( type(g1ThetabthetaW.Theta) , type(g1ThetabthetaW.b ), type(g1ThetabthetaW.theta), type(g1ThetabthetaW.W)) "
   ]
  },
  {
   "cell_type": "markdown",
   "metadata": {},
   "source": [
    "## `LSTM_Right`; LSTM with right action"
   ]
  },
  {
   "cell_type": "code",
   "execution_count": 13,
   "metadata": {
    "collapsed": true
   },
   "outputs": [],
   "source": [
    "sys.path.append( os.getcwd() + '/ML' )"
   ]
  },
  {
   "cell_type": "code",
   "execution_count": 14,
   "metadata": {
    "collapsed": true
   },
   "outputs": [],
   "source": [
    "from LSTM_Right import *"
   ]
  },
  {
   "cell_type": "code",
   "execution_count": 25,
   "metadata": {
    "collapsed": true
   },
   "outputs": [],
   "source": [
    "L = Gates(g=2,i=2,f=2,o=2)\n",
    "\n",
    "n_hidden = n_i = n_c = n_o = n_f = 10\n",
    "n_in = 7 # for embedded reber grammar\n",
    "n_y = 7 # for embedded reber grammar; this is K in my notation\n",
    "\n",
    "s_l = Gates(g=[n_in,n_c],i=[n_in,n_i],f=[n_in,n_f],o=[n_in,n_o])\n",
    "\n",
    "activations = Psis(g=(T.tanh, T.tanh), i=(T.nnet.sigmoid, T.nnet.sigmoid),f=(T.nnet.sigmoid, T.nnet.sigmoid),\n",
    "                         o=(T.nnet.sigmoid, T.nnet.sigmoid),h=(T.tanh,))"
   ]
  },
  {
   "cell_type": "code",
   "execution_count": 26,
   "metadata": {
    "collapsed": false
   },
   "outputs": [
    {
     "name": "stdout",
     "output_type": "stream",
     "text": [
      "Total number of parameters: 17 \n",
      "Total number of parameters: 17 \n"
     ]
    },
    {
     "data": {
      "text/plain": [
       "Elemwise{add,no_inplace}.0"
      ]
     },
     "execution_count": 26,
     "metadata": {},
     "output_type": "execute_result"
    }
   ],
   "source": [
    "LSTM_model=LSTM_Model_right(L,s_l,n_hidden,n_y,activations,T.nnet.sigmoid )\n",
    "lstm_step_fxn = LSTM_model.build_lstm_step()\n",
    "MemBlck = MemoryBlock_right(n_hidden,LSTM_model)\n",
    "MemBlck.build_scan_over_t()\n",
    "MemBlck.build_J(0.1)"
   ]
  },
  {
   "cell_type": "code",
   "execution_count": 33,
   "metadata": {
    "collapsed": false
   },
   "outputs": [
    {
     "name": "stdout",
     "output_type": "stream",
     "text": [
      "Total number of parameters: 17 \n"
     ]
    }
   ],
   "source": [
    "MemBlck.build_update()"
   ]
  },
  {
   "cell_type": "code",
   "execution_count": 36,
   "metadata": {
    "collapsed": false
   },
   "outputs": [
    {
     "name": "stdout",
     "output_type": "stream",
     "text": [
      "theano.config.allow_gc =:  False\n",
      "CPU times: user 20.3 s, sys: 4.83 s, total: 25.2 s\n",
      "Wall time: 25.1 s\n"
     ]
    }
   ],
   "source": [
    "%time results_prelim = MemBlck.train_model_full(train_data,2)"
   ]
  },
  {
   "cell_type": "code",
   "execution_count": 35,
   "metadata": {
    "collapsed": false
   },
   "outputs": [
    {
     "name": "stdout",
     "output_type": "stream",
     "text": [
      "Total number of parameters: 17 \n"
     ]
    }
   ],
   "source": [
    "MemBlck.LSTM_model.__get_state__();\n"
   ]
  },
  {
   "cell_type": "code",
   "execution_count": 37,
   "metadata": {
    "collapsed": false
   },
   "outputs": [
    {
     "name": "stdout",
     "output_type": "stream",
     "text": [
      "theano.config.allow_gc =:  False\n",
      "CPU times: user 41min 57s, sys: 9min 16s, total: 51min 14s\n",
      "Wall time: 51min 13s\n"
     ]
    }
   ],
   "source": [
    "%time results_prelim = MemBlck.train_model_full(train_data)"
   ]
  },
  {
   "cell_type": "code",
   "execution_count": 43,
   "metadata": {
    "collapsed": false
   },
   "outputs": [
    {
     "name": "stderr",
     "output_type": "stream",
     "text": [
      "<<!! BUG IN FGRAPH.REPLACE OR A LISTENER !!>> <type 'exceptions.TypeError'> ('The type of the replacement must be compatible with the type of the original Variable.', AllocEmpty{dtype='float32'}.0, AllocEmpty{dtype='float32'}.0, TensorType(float32, row), TensorType(float32, matrix), 'MergeOptimizer') MergeOptimizer\n",
      "ERROR (theano.gof.opt): SeqOptimizer apply <theano.gof.opt.EquilibriumOptimizer object at 0x7f5d3c4f7610>\n",
      "ERROR (theano.gof.opt): Traceback:\n",
      "ERROR (theano.gof.opt): Traceback (most recent call last):\n",
      "  File \"/home/topolo/Public/anaconda2/lib/python2.7/site-packages/theano/gof/opt.py\", line 230, in apply\n",
      "    sub_prof = optimizer.optimize(fgraph)\n",
      "  File \"/home/topolo/Public/anaconda2/lib/python2.7/site-packages/theano/gof/opt.py\", line 89, in optimize\n",
      "    ret = self.apply(fgraph, *args, **kwargs)\n",
      "  File \"/home/topolo/Public/anaconda2/lib/python2.7/site-packages/theano/gof/opt.py\", line 2223, in apply\n",
      "    sub_prof = gopt.apply(fgraph)\n",
      "  File \"/home/topolo/Public/anaconda2/lib/python2.7/site-packages/theano/gof/opt.py\", line 817, in apply\n",
      "    fgraph.replace_all_validate(pairs, 'MergeOptimizer')\n",
      "  File \"/home/topolo/Public/anaconda2/lib/python2.7/site-packages/theano/gof/toolbox.py\", line 309, in replace_all_validate\n",
      "    fgraph.replace(r, new_r, reason=reason, verbose=False)\n",
      "  File \"/home/topolo/Public/anaconda2/lib/python2.7/site-packages/theano/gof/fg.py\", line 561, in replace\n",
      "    str(reason))\n",
      "TypeError: ('The type of the replacement must be compatible with the type of the original Variable.', AllocEmpty{dtype='float32'}.0, AllocEmpty{dtype='float32'}.0, TensorType(float32, row), TensorType(float32, matrix), 'MergeOptimizer')\n",
      "\n",
      "<<!! BUG IN FGRAPH.REPLACE OR A LISTENER !!>> <type 'exceptions.TypeError'> ('The type of the replacement must be compatible with the type of the original Variable.', AllocEmpty{dtype='float32'}.0, AllocEmpty{dtype='float32'}.0, TensorType(float32, row), TensorType(float32, matrix), 'MergeOptimizer') MergeOptimizer\n",
      "ERROR (theano.gof.opt): SeqOptimizer apply <theano.gof.opt.EquilibriumOptimizer object at 0x7f5d3bf51dd0>\n",
      "ERROR (theano.gof.opt): Traceback:\n",
      "ERROR (theano.gof.opt): Traceback (most recent call last):\n",
      "  File \"/home/topolo/Public/anaconda2/lib/python2.7/site-packages/theano/gof/opt.py\", line 230, in apply\n",
      "    sub_prof = optimizer.optimize(fgraph)\n",
      "  File \"/home/topolo/Public/anaconda2/lib/python2.7/site-packages/theano/gof/opt.py\", line 89, in optimize\n",
      "    ret = self.apply(fgraph, *args, **kwargs)\n",
      "  File \"/home/topolo/Public/anaconda2/lib/python2.7/site-packages/theano/gof/opt.py\", line 2223, in apply\n",
      "    sub_prof = gopt.apply(fgraph)\n",
      "  File \"/home/topolo/Public/anaconda2/lib/python2.7/site-packages/theano/gof/opt.py\", line 817, in apply\n",
      "    fgraph.replace_all_validate(pairs, 'MergeOptimizer')\n",
      "  File \"/home/topolo/Public/anaconda2/lib/python2.7/site-packages/theano/gof/toolbox.py\", line 309, in replace_all_validate\n",
      "    fgraph.replace(r, new_r, reason=reason, verbose=False)\n",
      "  File \"/home/topolo/Public/anaconda2/lib/python2.7/site-packages/theano/gof/fg.py\", line 561, in replace\n",
      "    str(reason))\n",
      "TypeError: ('The type of the replacement must be compatible with the type of the original Variable.', AllocEmpty{dtype='float32'}.0, AllocEmpty{dtype='float32'}.0, TensorType(float32, row), TensorType(float32, matrix), 'MergeOptimizer')\n",
      "\n",
      "<<!! BUG IN FGRAPH.REPLACE OR A LISTENER !!>> <type 'exceptions.TypeError'> ('The type of the replacement must be compatible with the type of the original Variable.', AllocEmpty{dtype='float32'}.0, AllocEmpty{dtype='float32'}.0, TensorType(float32, row), TensorType(float32, matrix), 'MergeOptimizer') MergeOptimizer\n",
      "ERROR (theano.gof.opt): SeqOptimizer apply <theano.gof.opt.EquilibriumOptimizer object at 0x7f5d3bbb5ad0>\n",
      "ERROR (theano.gof.opt): Traceback:\n",
      "ERROR (theano.gof.opt): Traceback (most recent call last):\n",
      "  File \"/home/topolo/Public/anaconda2/lib/python2.7/site-packages/theano/gof/opt.py\", line 230, in apply\n",
      "    sub_prof = optimizer.optimize(fgraph)\n",
      "  File \"/home/topolo/Public/anaconda2/lib/python2.7/site-packages/theano/gof/opt.py\", line 89, in optimize\n",
      "    ret = self.apply(fgraph, *args, **kwargs)\n",
      "  File \"/home/topolo/Public/anaconda2/lib/python2.7/site-packages/theano/gof/opt.py\", line 2223, in apply\n",
      "    sub_prof = gopt.apply(fgraph)\n",
      "  File \"/home/topolo/Public/anaconda2/lib/python2.7/site-packages/theano/gof/opt.py\", line 817, in apply\n",
      "    fgraph.replace_all_validate(pairs, 'MergeOptimizer')\n",
      "  File \"/home/topolo/Public/anaconda2/lib/python2.7/site-packages/theano/gof/toolbox.py\", line 309, in replace_all_validate\n",
      "    fgraph.replace(r, new_r, reason=reason, verbose=False)\n",
      "  File \"/home/topolo/Public/anaconda2/lib/python2.7/site-packages/theano/gof/fg.py\", line 561, in replace\n",
      "    str(reason))\n",
      "TypeError: ('The type of the replacement must be compatible with the type of the original Variable.', AllocEmpty{dtype='float32'}.0, AllocEmpty{dtype='float32'}.0, TensorType(float32, row), TensorType(float32, matrix), 'MergeOptimizer')\n",
      "\n",
      "<<!! BUG IN FGRAPH.REPLACE OR A LISTENER !!>> <type 'exceptions.TypeError'> ('The type of the replacement must be compatible with the type of the original Variable.', AllocEmpty{dtype='float32'}.0, AllocEmpty{dtype='float32'}.0, TensorType(float32, row), TensorType(float32, matrix), 'MergeOptimizer') MergeOptimizer\n",
      "ERROR (theano.gof.opt): SeqOptimizer apply <theano.gof.opt.EquilibriumOptimizer object at 0x7f5d3b7a2f10>\n",
      "ERROR (theano.gof.opt): Traceback:\n",
      "ERROR (theano.gof.opt): Traceback (most recent call last):\n",
      "  File \"/home/topolo/Public/anaconda2/lib/python2.7/site-packages/theano/gof/opt.py\", line 230, in apply\n",
      "    sub_prof = optimizer.optimize(fgraph)\n",
      "  File \"/home/topolo/Public/anaconda2/lib/python2.7/site-packages/theano/gof/opt.py\", line 89, in optimize\n",
      "    ret = self.apply(fgraph, *args, **kwargs)\n",
      "  File \"/home/topolo/Public/anaconda2/lib/python2.7/site-packages/theano/gof/opt.py\", line 2223, in apply\n",
      "    sub_prof = gopt.apply(fgraph)\n",
      "  File \"/home/topolo/Public/anaconda2/lib/python2.7/site-packages/theano/gof/opt.py\", line 817, in apply\n",
      "    fgraph.replace_all_validate(pairs, 'MergeOptimizer')\n",
      "  File \"/home/topolo/Public/anaconda2/lib/python2.7/site-packages/theano/gof/toolbox.py\", line 309, in replace_all_validate\n",
      "    fgraph.replace(r, new_r, reason=reason, verbose=False)\n",
      "  File \"/home/topolo/Public/anaconda2/lib/python2.7/site-packages/theano/gof/fg.py\", line 561, in replace\n",
      "    str(reason))\n",
      "TypeError: ('The type of the replacement must be compatible with the type of the original Variable.', AllocEmpty{dtype='float32'}.0, AllocEmpty{dtype='float32'}.0, TensorType(float32, row), TensorType(float32, matrix), 'MergeOptimizer')\n",
      "\n",
      "<<!! BUG IN FGRAPH.REPLACE OR A LISTENER !!>> <type 'exceptions.TypeError'> ('The type of the replacement must be compatible with the type of the original Variable.', AllocEmpty{dtype='float32'}.0, AllocEmpty{dtype='float32'}.0, TensorType(float32, row), TensorType(float32, matrix), 'MergeOptimizer') MergeOptimizer\n",
      "ERROR (theano.gof.opt): SeqOptimizer apply <theano.gof.opt.EquilibriumOptimizer object at 0x7f5d3b3cab90>\n",
      "ERROR (theano.gof.opt): Traceback:\n",
      "ERROR (theano.gof.opt): Traceback (most recent call last):\n",
      "  File \"/home/topolo/Public/anaconda2/lib/python2.7/site-packages/theano/gof/opt.py\", line 230, in apply\n",
      "    sub_prof = optimizer.optimize(fgraph)\n",
      "  File \"/home/topolo/Public/anaconda2/lib/python2.7/site-packages/theano/gof/opt.py\", line 89, in optimize\n",
      "    ret = self.apply(fgraph, *args, **kwargs)\n",
      "  File \"/home/topolo/Public/anaconda2/lib/python2.7/site-packages/theano/gof/opt.py\", line 2223, in apply\n",
      "    sub_prof = gopt.apply(fgraph)\n",
      "  File \"/home/topolo/Public/anaconda2/lib/python2.7/site-packages/theano/gof/opt.py\", line 817, in apply\n",
      "    fgraph.replace_all_validate(pairs, 'MergeOptimizer')\n",
      "  File \"/home/topolo/Public/anaconda2/lib/python2.7/site-packages/theano/gof/toolbox.py\", line 309, in replace_all_validate\n",
      "    fgraph.replace(r, new_r, reason=reason, verbose=False)\n",
      "  File \"/home/topolo/Public/anaconda2/lib/python2.7/site-packages/theano/gof/fg.py\", line 561, in replace\n",
      "    str(reason))\n",
      "TypeError: ('The type of the replacement must be compatible with the type of the original Variable.', AllocEmpty{dtype='float32'}.0, AllocEmpty{dtype='float32'}.0, TensorType(float32, row), TensorType(float32, matrix), 'MergeOptimizer')\n",
      "\n",
      "<<!! BUG IN FGRAPH.REPLACE OR A LISTENER !!>> <type 'exceptions.TypeError'> ('The type of the replacement must be compatible with the type of the original Variable.', AllocEmpty{dtype='float32'}.0, AllocEmpty{dtype='float32'}.0, TensorType(float32, row), TensorType(float32, matrix), 'MergeOptimizer') MergeOptimizer\n",
      "ERROR (theano.gof.opt): SeqOptimizer apply <theano.gof.opt.EquilibriumOptimizer object at 0x7f5d3b009d10>\n",
      "ERROR (theano.gof.opt): Traceback:\n",
      "ERROR (theano.gof.opt): Traceback (most recent call last):\n",
      "  File \"/home/topolo/Public/anaconda2/lib/python2.7/site-packages/theano/gof/opt.py\", line 230, in apply\n",
      "    sub_prof = optimizer.optimize(fgraph)\n",
      "  File \"/home/topolo/Public/anaconda2/lib/python2.7/site-packages/theano/gof/opt.py\", line 89, in optimize\n",
      "    ret = self.apply(fgraph, *args, **kwargs)\n",
      "  File \"/home/topolo/Public/anaconda2/lib/python2.7/site-packages/theano/gof/opt.py\", line 2223, in apply\n",
      "    sub_prof = gopt.apply(fgraph)\n",
      "  File \"/home/topolo/Public/anaconda2/lib/python2.7/site-packages/theano/gof/opt.py\", line 817, in apply\n",
      "    fgraph.replace_all_validate(pairs, 'MergeOptimizer')\n",
      "  File \"/home/topolo/Public/anaconda2/lib/python2.7/site-packages/theano/gof/toolbox.py\", line 309, in replace_all_validate\n",
      "    fgraph.replace(r, new_r, reason=reason, verbose=False)\n",
      "  File \"/home/topolo/Public/anaconda2/lib/python2.7/site-packages/theano/gof/fg.py\", line 561, in replace\n",
      "    str(reason))\n",
      "TypeError: ('The type of the replacement must be compatible with the type of the original Variable.', AllocEmpty{dtype='float32'}.0, AllocEmpty{dtype='float32'}.0, TensorType(float32, row), TensorType(float32, matrix), 'MergeOptimizer')\n",
      "\n",
      "<<!! BUG IN FGRAPH.REPLACE OR A LISTENER !!>> <type 'exceptions.TypeError'> ('The type of the replacement must be compatible with the type of the original Variable.', AllocEmpty{dtype='float32'}.0, AllocEmpty{dtype='float32'}.0, TensorType(float32, row), TensorType(float32, matrix), 'MergeOptimizer') MergeOptimizer\n",
      "ERROR (theano.gof.opt): SeqOptimizer apply <theano.gof.opt.EquilibriumOptimizer object at 0x7f5d3b617510>\n",
      "ERROR (theano.gof.opt): Traceback:\n",
      "ERROR (theano.gof.opt): Traceback (most recent call last):\n",
      "  File \"/home/topolo/Public/anaconda2/lib/python2.7/site-packages/theano/gof/opt.py\", line 230, in apply\n",
      "    sub_prof = optimizer.optimize(fgraph)\n",
      "  File \"/home/topolo/Public/anaconda2/lib/python2.7/site-packages/theano/gof/opt.py\", line 89, in optimize\n",
      "    ret = self.apply(fgraph, *args, **kwargs)\n",
      "  File \"/home/topolo/Public/anaconda2/lib/python2.7/site-packages/theano/gof/opt.py\", line 2223, in apply\n",
      "    sub_prof = gopt.apply(fgraph)\n",
      "  File \"/home/topolo/Public/anaconda2/lib/python2.7/site-packages/theano/gof/opt.py\", line 817, in apply\n",
      "    fgraph.replace_all_validate(pairs, 'MergeOptimizer')\n",
      "  File \"/home/topolo/Public/anaconda2/lib/python2.7/site-packages/theano/gof/toolbox.py\", line 309, in replace_all_validate\n",
      "    fgraph.replace(r, new_r, reason=reason, verbose=False)\n",
      "  File \"/home/topolo/Public/anaconda2/lib/python2.7/site-packages/theano/gof/fg.py\", line 561, in replace\n",
      "    str(reason))\n",
      "TypeError: ('The type of the replacement must be compatible with the type of the original Variable.', AllocEmpty{dtype='float32'}.0, AllocEmpty{dtype='float32'}.0, TensorType(float32, row), TensorType(float32, matrix), 'MergeOptimizer')\n",
      "\n",
      "<<!! BUG IN FGRAPH.REPLACE OR A LISTENER !!>> <type 'exceptions.TypeError'> ('The type of the replacement must be compatible with the type of the original Variable.', AllocEmpty{dtype='float32'}.0, AllocEmpty{dtype='float32'}.0, TensorType(float32, row), TensorType(float32, matrix), 'MergeOptimizer') MergeOptimizer\n",
      "ERROR (theano.gof.opt): SeqOptimizer apply <theano.gof.opt.EquilibriumOptimizer object at 0x7f5d3cd52650>\n",
      "ERROR (theano.gof.opt): Traceback:\n",
      "ERROR (theano.gof.opt): Traceback (most recent call last):\n",
      "  File \"/home/topolo/Public/anaconda2/lib/python2.7/site-packages/theano/gof/opt.py\", line 230, in apply\n",
      "    sub_prof = optimizer.optimize(fgraph)\n",
      "  File \"/home/topolo/Public/anaconda2/lib/python2.7/site-packages/theano/gof/opt.py\", line 89, in optimize\n",
      "    ret = self.apply(fgraph, *args, **kwargs)\n",
      "  File \"/home/topolo/Public/anaconda2/lib/python2.7/site-packages/theano/gof/opt.py\", line 2223, in apply\n",
      "    sub_prof = gopt.apply(fgraph)\n",
      "  File \"/home/topolo/Public/anaconda2/lib/python2.7/site-packages/theano/gof/opt.py\", line 817, in apply\n",
      "    fgraph.replace_all_validate(pairs, 'MergeOptimizer')\n",
      "  File \"/home/topolo/Public/anaconda2/lib/python2.7/site-packages/theano/gof/toolbox.py\", line 309, in replace_all_validate\n",
      "    fgraph.replace(r, new_r, reason=reason, verbose=False)\n",
      "  File \"/home/topolo/Public/anaconda2/lib/python2.7/site-packages/theano/gof/fg.py\", line 561, in replace\n",
      "    str(reason))\n",
      "TypeError: ('The type of the replacement must be compatible with the type of the original Variable.', AllocEmpty{dtype='float32'}.0, AllocEmpty{dtype='float32'}.0, TensorType(float32, row), TensorType(float32, matrix), 'MergeOptimizer')\n",
      "\n",
      "<<!! BUG IN FGRAPH.REPLACE OR A LISTENER !!>> <type 'exceptions.TypeError'> ('The type of the replacement must be compatible with the type of the original Variable.', AllocEmpty{dtype='float32'}.0, AllocEmpty{dtype='float32'}.0, TensorType(float32, row), TensorType(float32, matrix), 'MergeOptimizer') MergeOptimizer\n",
      "ERROR (theano.gof.opt): SeqOptimizer apply <theano.gof.opt.EquilibriumOptimizer object at 0x7f5d3f65c950>\n",
      "ERROR (theano.gof.opt): Traceback:\n",
      "ERROR (theano.gof.opt): Traceback (most recent call last):\n",
      "  File \"/home/topolo/Public/anaconda2/lib/python2.7/site-packages/theano/gof/opt.py\", line 230, in apply\n",
      "    sub_prof = optimizer.optimize(fgraph)\n",
      "  File \"/home/topolo/Public/anaconda2/lib/python2.7/site-packages/theano/gof/opt.py\", line 89, in optimize\n",
      "    ret = self.apply(fgraph, *args, **kwargs)\n",
      "  File \"/home/topolo/Public/anaconda2/lib/python2.7/site-packages/theano/gof/opt.py\", line 2223, in apply\n",
      "    sub_prof = gopt.apply(fgraph)\n",
      "  File \"/home/topolo/Public/anaconda2/lib/python2.7/site-packages/theano/gof/opt.py\", line 817, in apply\n",
      "    fgraph.replace_all_validate(pairs, 'MergeOptimizer')\n",
      "  File \"/home/topolo/Public/anaconda2/lib/python2.7/site-packages/theano/gof/toolbox.py\", line 309, in replace_all_validate\n",
      "    fgraph.replace(r, new_r, reason=reason, verbose=False)\n",
      "  File \"/home/topolo/Public/anaconda2/lib/python2.7/site-packages/theano/gof/fg.py\", line 561, in replace\n",
      "    str(reason))\n",
      "TypeError: ('The type of the replacement must be compatible with the type of the original Variable.', AllocEmpty{dtype='float32'}.0, AllocEmpty{dtype='float32'}.0, TensorType(float32, row), TensorType(float32, matrix), 'MergeOptimizer')\n",
      "\n",
      "<<!! BUG IN FGRAPH.REPLACE OR A LISTENER !!>> <type 'exceptions.TypeError'> ('The type of the replacement must be compatible with the type of the original Variable.', AllocEmpty{dtype='float32'}.0, AllocEmpty{dtype='float32'}.0, TensorType(float32, row), TensorType(float32, matrix), 'MergeOptimizer') MergeOptimizer\n",
      "ERROR (theano.gof.opt): SeqOptimizer apply <theano.gof.opt.EquilibriumOptimizer object at 0x7f5d64b78950>\n",
      "ERROR (theano.gof.opt): Traceback:\n",
      "ERROR (theano.gof.opt): Traceback (most recent call last):\n",
      "  File \"/home/topolo/Public/anaconda2/lib/python2.7/site-packages/theano/gof/opt.py\", line 230, in apply\n",
      "    sub_prof = optimizer.optimize(fgraph)\n",
      "  File \"/home/topolo/Public/anaconda2/lib/python2.7/site-packages/theano/gof/opt.py\", line 89, in optimize\n",
      "    ret = self.apply(fgraph, *args, **kwargs)\n",
      "  File \"/home/topolo/Public/anaconda2/lib/python2.7/site-packages/theano/gof/opt.py\", line 2223, in apply\n",
      "    sub_prof = gopt.apply(fgraph)\n",
      "  File \"/home/topolo/Public/anaconda2/lib/python2.7/site-packages/theano/gof/opt.py\", line 817, in apply\n",
      "    fgraph.replace_all_validate(pairs, 'MergeOptimizer')\n",
      "  File \"/home/topolo/Public/anaconda2/lib/python2.7/site-packages/theano/gof/toolbox.py\", line 309, in replace_all_validate\n",
      "    fgraph.replace(r, new_r, reason=reason, verbose=False)\n",
      "  File \"/home/topolo/Public/anaconda2/lib/python2.7/site-packages/theano/gof/fg.py\", line 561, in replace\n",
      "    str(reason))\n",
      "TypeError: ('The type of the replacement must be compatible with the type of the original Variable.', AllocEmpty{dtype='float32'}.0, AllocEmpty{dtype='float32'}.0, TensorType(float32, row), TensorType(float32, matrix), 'MergeOptimizer')\n",
      "\n"
     ]
    }
   ],
   "source": [
    "predictions_full = MemBlck.predict_on_lst( test_data, verbose=False);"
   ]
  },
  {
   "cell_type": "code",
   "execution_count": 45,
   "metadata": {
    "collapsed": true
   },
   "outputs": [],
   "source": [
    "X_test_data,y_test_data=map( list, zip(*test_data) )"
   ]
  },
  {
   "cell_type": "code",
   "execution_count": 47,
   "metadata": {
    "collapsed": false
   },
   "outputs": [
    {
     "name": "stdout",
     "output_type": "stream",
     "text": [
      "1069.0 1246.0 0.857945425361\n"
     ]
    }
   ],
   "source": [
    "assert len(predictions_full) == len(y_test_data)\n",
    "m = len(predictions_full)\n",
    "TOTALELE = 0.\n",
    "POSRES   = 0.\n",
    "for j in range(m):\n",
    "    testing_arr = np.equal( (predictions_full[j]>0.5).astype(float) , np.array( y_test_data[j]).astype(float) )\n",
    "    TOTALELE += testing_arr.size\n",
    "    POSRES += np.sum( testing_arr )\n",
    "\n",
    "print POSRES, TOTALELE, POSRES/TOTALELE  # 942.0 1099.0 0.857142857143"
   ]
  },
  {
   "cell_type": "code",
   "execution_count": null,
   "metadata": {
    "collapsed": true
   },
   "outputs": [],
   "source": []
  },
  {
   "cell_type": "markdown",
   "metadata": {
    "collapsed": true
   },
   "source": [
    "# Trying out multiple \"hidden\" layers"
   ]
  },
  {
   "cell_type": "code",
   "execution_count": 15,
   "metadata": {
    "collapsed": false
   },
   "outputs": [],
   "source": [
    "L_Mult = Gates(g=3,i=2,f=2,o=2)\n",
    "\n",
    "n_hidden = n_i = n_c = n_o = n_f = 10\n",
    "n_in = 7 # for embedded reber grammar\n",
    "n_y = 7 # for embedded reber grammar; this is K in my notation\n",
    "\n",
    "sg_2 = 9 # s^{(g)}_2, i.e. \\alpha = g, gate g, l = 2, layer 2's \"size\"\n",
    "\n",
    "s_l_Mult = Gates(g=[n_in,sg_2, n_c],i=[n_in,n_i],f=[n_in,n_f],o=[n_in,n_o])\n",
    "\n",
    "activations_Mult = Psis(g=(T.tanh, T.tanh), i=(T.nnet.sigmoid, T.nnet.sigmoid),f=(T.nnet.sigmoid, T.nnet.sigmoid),\n",
    "                         o=(T.nnet.sigmoid, T.nnet.sigmoid),h=(T.tanh,))\n"
   ]
  },
  {
   "cell_type": "code",
   "execution_count": 16,
   "metadata": {
    "collapsed": false
   },
   "outputs": [
    {
     "name": "stdout",
     "output_type": "stream",
     "text": [
      "Total number of parameters: 19 \n",
      "Total number of parameters: 19 \n"
     ]
    },
    {
     "data": {
      "text/plain": [
       "Elemwise{add,no_inplace}.0"
      ]
     },
     "execution_count": 16,
     "metadata": {},
     "output_type": "execute_result"
    }
   ],
   "source": [
    "LSTM_model_Mult=LSTM_Model_right(L_Mult,s_l_Mult,n_hidden,n_y,activations_Mult,T.nnet.sigmoid )\n",
    "lstm_step_fxn_Mult = LSTM_model_Mult.build_lstm_step()\n",
    "MemBlck_Mult = MemoryBlock_right(n_hidden,LSTM_model_Mult)\n",
    "MemBlck_Mult.build_scan_over_t()\n",
    "MemBlck_Mult.build_J(0.1)"
   ]
  },
  {
   "cell_type": "code",
   "execution_count": 17,
   "metadata": {
    "collapsed": false
   },
   "outputs": [
    {
     "name": "stdout",
     "output_type": "stream",
     "text": [
      "Total number of parameters: 19 \n"
     ]
    }
   ],
   "source": [
    "MemBlck_Mult.build_update()"
   ]
  },
  {
   "cell_type": "code",
   "execution_count": 18,
   "metadata": {
    "collapsed": false
   },
   "outputs": [
    {
     "name": "stdout",
     "output_type": "stream",
     "text": [
      "theano.config.allow_gc =:  False\n",
      "CPU times: user 23 s, sys: 5.5 s, total: 28.5 s\n",
      "Wall time: 28.5 s\n"
     ]
    }
   ],
   "source": [
    "%time results_prelim = MemBlck_Mult.train_model_full(train_data,2)  # WITHOUT optimizer_excluding=\"low_memory\"\n",
    "# CPU times: user 23 s, sys: 5.5 s, total: 28.5 s\n",
    "# Wall time: 28.5 s"
   ]
  },
  {
   "cell_type": "code",
   "execution_count": 19,
   "metadata": {
    "collapsed": false
   },
   "outputs": [
    {
     "name": "stdout",
     "output_type": "stream",
     "text": [
      "theano.config.allow_gc =:  False\n",
      "CPU times: user 47min 34s, sys: 13min 13s, total: 1h 47s\n",
      "Wall time: 1h 46s\n"
     ]
    }
   ],
   "source": [
    "%time results_prelim_Mult = MemBlck_Mult.train_model_full(train_data)  # theano.config.allow_gc =:  False\n",
    "# CPU times: user 47min 34s, sys: 13min 13s, total: 1h 47s\n",
    "# Wall time: 1h 46s\n"
   ]
  },
  {
   "cell_type": "code",
   "execution_count": 20,
   "metadata": {
    "collapsed": false
   },
   "outputs": [
    {
     "name": "stdout",
     "output_type": "stream",
     "text": [
      "<type 'numpy.ndarray'>\n",
      "250\n"
     ]
    },
    {
     "data": {
      "text/plain": [
       "<matplotlib.text.Text at 0x7f02df6348d0>"
      ]
     },
     "execution_count": 20,
     "metadata": {},
     "output_type": "execute_result"
    },
    {
     "data": {
      "image/png": "[encoded data removed]",
      "text/plain": [
       "<matplotlib.figure.Figure at 0x7f02e1b46c10>"
      ]
     },
     "metadata": {},
     "output_type": "display_data"
    }
   ],
   "source": [
    "print(type(results_prelim_Mult)); print(len(results_prelim_Mult)); \n",
    "plt.plot(np.arange(250), results_prelim_Mult, 'b-')\n",
    "plt.xlabel('epochs')\n",
    "plt.ylabel('error')"
   ]
  },
  {
   "cell_type": "code",
   "execution_count": 22,
   "metadata": {
    "collapsed": true
   },
   "outputs": [],
   "source": [
    "test_data = reberGrammar.get_n_embedded_examples(10)"
   ]
  },
  {
   "cell_type": "code",
   "execution_count": 23,
   "metadata": {
    "collapsed": false
   },
   "outputs": [
    {
     "name": "stderr",
     "output_type": "stream",
     "text": [
      "<<!! BUG IN FGRAPH.REPLACE OR A LISTENER !!>> <type 'exceptions.TypeError'> ('The type of the replacement must be compatible with the type of the original Variable.', AllocEmpty{dtype='float32'}.0, AllocEmpty{dtype='float32'}.0, TensorType(float32, row), TensorType(float32, matrix), 'MergeOptimizer') MergeOptimizer\n",
      "ERROR (theano.gof.opt): SeqOptimizer apply <theano.gof.opt.EquilibriumOptimizer object at 0x7f02df4fae90>\n",
      "ERROR (theano.gof.opt): Traceback:\n",
      "ERROR (theano.gof.opt): Traceback (most recent call last):\n",
      "  File \"/home/topolo/Public/anaconda2/lib/python2.7/site-packages/theano/gof/opt.py\", line 230, in apply\n",
      "    sub_prof = optimizer.optimize(fgraph)\n",
      "  File \"/home/topolo/Public/anaconda2/lib/python2.7/site-packages/theano/gof/opt.py\", line 89, in optimize\n",
      "    ret = self.apply(fgraph, *args, **kwargs)\n",
      "  File \"/home/topolo/Public/anaconda2/lib/python2.7/site-packages/theano/gof/opt.py\", line 2223, in apply\n",
      "    sub_prof = gopt.apply(fgraph)\n",
      "  File \"/home/topolo/Public/anaconda2/lib/python2.7/site-packages/theano/gof/opt.py\", line 817, in apply\n",
      "    fgraph.replace_all_validate(pairs, 'MergeOptimizer')\n",
      "  File \"/home/topolo/Public/anaconda2/lib/python2.7/site-packages/theano/gof/toolbox.py\", line 309, in replace_all_validate\n",
      "    fgraph.replace(r, new_r, reason=reason, verbose=False)\n",
      "  File \"/home/topolo/Public/anaconda2/lib/python2.7/site-packages/theano/gof/fg.py\", line 561, in replace\n",
      "    str(reason))\n",
      "TypeError: ('The type of the replacement must be compatible with the type of the original Variable.', AllocEmpty{dtype='float32'}.0, AllocEmpty{dtype='float32'}.0, TensorType(float32, row), TensorType(float32, matrix), 'MergeOptimizer')\n",
      "\n",
      "<<!! BUG IN FGRAPH.REPLACE OR A LISTENER !!>> <type 'exceptions.TypeError'> ('The type of the replacement must be compatible with the type of the original Variable.', AllocEmpty{dtype='float32'}.0, AllocEmpty{dtype='float32'}.0, TensorType(float32, row), TensorType(float32, matrix), 'MergeOptimizer') MergeOptimizer\n",
      "ERROR (theano.gof.opt): SeqOptimizer apply <theano.gof.opt.EquilibriumOptimizer object at 0x7f02def13fd0>\n",
      "ERROR (theano.gof.opt): Traceback:\n",
      "ERROR (theano.gof.opt): Traceback (most recent call last):\n",
      "  File \"/home/topolo/Public/anaconda2/lib/python2.7/site-packages/theano/gof/opt.py\", line 230, in apply\n",
      "    sub_prof = optimizer.optimize(fgraph)\n",
      "  File \"/home/topolo/Public/anaconda2/lib/python2.7/site-packages/theano/gof/opt.py\", line 89, in optimize\n",
      "    ret = self.apply(fgraph, *args, **kwargs)\n",
      "  File \"/home/topolo/Public/anaconda2/lib/python2.7/site-packages/theano/gof/opt.py\", line 2223, in apply\n",
      "    sub_prof = gopt.apply(fgraph)\n",
      "  File \"/home/topolo/Public/anaconda2/lib/python2.7/site-packages/theano/gof/opt.py\", line 817, in apply\n",
      "    fgraph.replace_all_validate(pairs, 'MergeOptimizer')\n",
      "  File \"/home/topolo/Public/anaconda2/lib/python2.7/site-packages/theano/gof/toolbox.py\", line 309, in replace_all_validate\n",
      "    fgraph.replace(r, new_r, reason=reason, verbose=False)\n",
      "  File \"/home/topolo/Public/anaconda2/lib/python2.7/site-packages/theano/gof/fg.py\", line 561, in replace\n",
      "    str(reason))\n",
      "TypeError: ('The type of the replacement must be compatible with the type of the original Variable.', AllocEmpty{dtype='float32'}.0, AllocEmpty{dtype='float32'}.0, TensorType(float32, row), TensorType(float32, matrix), 'MergeOptimizer')\n",
      "\n",
      "<<!! BUG IN FGRAPH.REPLACE OR A LISTENER !!>> <type 'exceptions.TypeError'> ('The type of the replacement must be compatible with the type of the original Variable.', AllocEmpty{dtype='float32'}.0, AllocEmpty{dtype='float32'}.0, TensorType(float32, row), TensorType(float32, matrix), 'MergeOptimizer') MergeOptimizer\n",
      "ERROR (theano.gof.opt): SeqOptimizer apply <theano.gof.opt.EquilibriumOptimizer object at 0x7f02deafe2d0>\n",
      "ERROR (theano.gof.opt): Traceback:\n",
      "ERROR (theano.gof.opt): Traceback (most recent call last):\n",
      "  File \"/home/topolo/Public/anaconda2/lib/python2.7/site-packages/theano/gof/opt.py\", line 230, in apply\n",
      "    sub_prof = optimizer.optimize(fgraph)\n",
      "  File \"/home/topolo/Public/anaconda2/lib/python2.7/site-packages/theano/gof/opt.py\", line 89, in optimize\n",
      "    ret = self.apply(fgraph, *args, **kwargs)\n",
      "  File \"/home/topolo/Public/anaconda2/lib/python2.7/site-packages/theano/gof/opt.py\", line 2223, in apply\n",
      "    sub_prof = gopt.apply(fgraph)\n",
      "  File \"/home/topolo/Public/anaconda2/lib/python2.7/site-packages/theano/gof/opt.py\", line 817, in apply\n",
      "    fgraph.replace_all_validate(pairs, 'MergeOptimizer')\n",
      "  File \"/home/topolo/Public/anaconda2/lib/python2.7/site-packages/theano/gof/toolbox.py\", line 309, in replace_all_validate\n",
      "    fgraph.replace(r, new_r, reason=reason, verbose=False)\n",
      "  File \"/home/topolo/Public/anaconda2/lib/python2.7/site-packages/theano/gof/fg.py\", line 561, in replace\n",
      "    str(reason))\n",
      "TypeError: ('The type of the replacement must be compatible with the type of the original Variable.', AllocEmpty{dtype='float32'}.0, AllocEmpty{dtype='float32'}.0, TensorType(float32, row), TensorType(float32, matrix), 'MergeOptimizer')\n",
      "\n",
      "<<!! BUG IN FGRAPH.REPLACE OR A LISTENER !!>> <type 'exceptions.TypeError'> ('The type of the replacement must be compatible with the type of the original Variable.', AllocEmpty{dtype='float32'}.0, AllocEmpty{dtype='float32'}.0, TensorType(float32, row), TensorType(float32, matrix), 'MergeOptimizer') MergeOptimizer\n",
      "ERROR (theano.gof.opt): SeqOptimizer apply <theano.gof.opt.EquilibriumOptimizer object at 0x7f02dea4ef10>\n",
      "ERROR (theano.gof.opt): Traceback:\n",
      "ERROR (theano.gof.opt): Traceback (most recent call last):\n",
      "  File \"/home/topolo/Public/anaconda2/lib/python2.7/site-packages/theano/gof/opt.py\", line 230, in apply\n",
      "    sub_prof = optimizer.optimize(fgraph)\n",
      "  File \"/home/topolo/Public/anaconda2/lib/python2.7/site-packages/theano/gof/opt.py\", line 89, in optimize\n",
      "    ret = self.apply(fgraph, *args, **kwargs)\n",
      "  File \"/home/topolo/Public/anaconda2/lib/python2.7/site-packages/theano/gof/opt.py\", line 2223, in apply\n",
      "    sub_prof = gopt.apply(fgraph)\n",
      "  File \"/home/topolo/Public/anaconda2/lib/python2.7/site-packages/theano/gof/opt.py\", line 817, in apply\n",
      "    fgraph.replace_all_validate(pairs, 'MergeOptimizer')\n",
      "  File \"/home/topolo/Public/anaconda2/lib/python2.7/site-packages/theano/gof/toolbox.py\", line 309, in replace_all_validate\n",
      "    fgraph.replace(r, new_r, reason=reason, verbose=False)\n",
      "  File \"/home/topolo/Public/anaconda2/lib/python2.7/site-packages/theano/gof/fg.py\", line 561, in replace\n",
      "    str(reason))\n",
      "TypeError: ('The type of the replacement must be compatible with the type of the original Variable.', AllocEmpty{dtype='float32'}.0, AllocEmpty{dtype='float32'}.0, TensorType(float32, row), TensorType(float32, matrix), 'MergeOptimizer')\n",
      "\n",
      "<<!! BUG IN FGRAPH.REPLACE OR A LISTENER !!>> <type 'exceptions.TypeError'> ('The type of the replacement must be compatible with the type of the original Variable.', AllocEmpty{dtype='float32'}.0, AllocEmpty{dtype='float32'}.0, TensorType(float32, row), TensorType(float32, matrix), 'MergeOptimizer') MergeOptimizer\n",
      "ERROR (theano.gof.opt): SeqOptimizer apply <theano.gof.opt.EquilibriumOptimizer object at 0x7f02f1226e90>\n",
      "ERROR (theano.gof.opt): Traceback:\n",
      "ERROR (theano.gof.opt): Traceback (most recent call last):\n",
      "  File \"/home/topolo/Public/anaconda2/lib/python2.7/site-packages/theano/gof/opt.py\", line 230, in apply\n",
      "    sub_prof = optimizer.optimize(fgraph)\n",
      "  File \"/home/topolo/Public/anaconda2/lib/python2.7/site-packages/theano/gof/opt.py\", line 89, in optimize\n",
      "    ret = self.apply(fgraph, *args, **kwargs)\n",
      "  File \"/home/topolo/Public/anaconda2/lib/python2.7/site-packages/theano/gof/opt.py\", line 2223, in apply\n",
      "    sub_prof = gopt.apply(fgraph)\n",
      "  File \"/home/topolo/Public/anaconda2/lib/python2.7/site-packages/theano/gof/opt.py\", line 817, in apply\n",
      "    fgraph.replace_all_validate(pairs, 'MergeOptimizer')\n",
      "  File \"/home/topolo/Public/anaconda2/lib/python2.7/site-packages/theano/gof/toolbox.py\", line 309, in replace_all_validate\n",
      "    fgraph.replace(r, new_r, reason=reason, verbose=False)\n",
      "  File \"/home/topolo/Public/anaconda2/lib/python2.7/site-packages/theano/gof/fg.py\", line 561, in replace\n",
      "    str(reason))\n",
      "TypeError: ('The type of the replacement must be compatible with the type of the original Variable.', AllocEmpty{dtype='float32'}.0, AllocEmpty{dtype='float32'}.0, TensorType(float32, row), TensorType(float32, matrix), 'MergeOptimizer')\n",
      "\n",
      "<<!! BUG IN FGRAPH.REPLACE OR A LISTENER !!>> <type 'exceptions.TypeError'> ('The type of the replacement must be compatible with the type of the original Variable.', AllocEmpty{dtype='float32'}.0, AllocEmpty{dtype='float32'}.0, TensorType(float32, row), TensorType(float32, matrix), 'MergeOptimizer') MergeOptimizer\n",
      "ERROR (theano.gof.opt): SeqOptimizer apply <theano.gof.opt.EquilibriumOptimizer object at 0x7f02f127e850>\n",
      "ERROR (theano.gof.opt): Traceback:\n",
      "ERROR (theano.gof.opt): Traceback (most recent call last):\n",
      "  File \"/home/topolo/Public/anaconda2/lib/python2.7/site-packages/theano/gof/opt.py\", line 230, in apply\n",
      "    sub_prof = optimizer.optimize(fgraph)\n",
      "  File \"/home/topolo/Public/anaconda2/lib/python2.7/site-packages/theano/gof/opt.py\", line 89, in optimize\n",
      "    ret = self.apply(fgraph, *args, **kwargs)\n",
      "  File \"/home/topolo/Public/anaconda2/lib/python2.7/site-packages/theano/gof/opt.py\", line 2223, in apply\n",
      "    sub_prof = gopt.apply(fgraph)\n",
      "  File \"/home/topolo/Public/anaconda2/lib/python2.7/site-packages/theano/gof/opt.py\", line 817, in apply\n",
      "    fgraph.replace_all_validate(pairs, 'MergeOptimizer')\n",
      "  File \"/home/topolo/Public/anaconda2/lib/python2.7/site-packages/theano/gof/toolbox.py\", line 309, in replace_all_validate\n",
      "    fgraph.replace(r, new_r, reason=reason, verbose=False)\n",
      "  File \"/home/topolo/Public/anaconda2/lib/python2.7/site-packages/theano/gof/fg.py\", line 561, in replace\n",
      "    str(reason))\n",
      "TypeError: ('The type of the replacement must be compatible with the type of the original Variable.', AllocEmpty{dtype='float32'}.0, AllocEmpty{dtype='float32'}.0, TensorType(float32, row), TensorType(float32, matrix), 'MergeOptimizer')\n",
      "\n",
      "<<!! BUG IN FGRAPH.REPLACE OR A LISTENER !!>> <type 'exceptions.TypeError'> ('The type of the replacement must be compatible with the type of the original Variable.', AllocEmpty{dtype='float32'}.0, AllocEmpty{dtype='float32'}.0, TensorType(float32, row), TensorType(float32, matrix), 'MergeOptimizer') MergeOptimizer\n",
      "ERROR (theano.gof.opt): SeqOptimizer apply <theano.gof.opt.EquilibriumOptimizer object at 0x7f02de468450>\n",
      "ERROR (theano.gof.opt): Traceback:\n",
      "ERROR (theano.gof.opt): Traceback (most recent call last):\n",
      "  File \"/home/topolo/Public/anaconda2/lib/python2.7/site-packages/theano/gof/opt.py\", line 230, in apply\n",
      "    sub_prof = optimizer.optimize(fgraph)\n",
      "  File \"/home/topolo/Public/anaconda2/lib/python2.7/site-packages/theano/gof/opt.py\", line 89, in optimize\n",
      "    ret = self.apply(fgraph, *args, **kwargs)\n",
      "  File \"/home/topolo/Public/anaconda2/lib/python2.7/site-packages/theano/gof/opt.py\", line 2223, in apply\n",
      "    sub_prof = gopt.apply(fgraph)\n",
      "  File \"/home/topolo/Public/anaconda2/lib/python2.7/site-packages/theano/gof/opt.py\", line 817, in apply\n",
      "    fgraph.replace_all_validate(pairs, 'MergeOptimizer')\n",
      "  File \"/home/topolo/Public/anaconda2/lib/python2.7/site-packages/theano/gof/toolbox.py\", line 309, in replace_all_validate\n",
      "    fgraph.replace(r, new_r, reason=reason, verbose=False)\n",
      "  File \"/home/topolo/Public/anaconda2/lib/python2.7/site-packages/theano/gof/fg.py\", line 561, in replace\n",
      "    str(reason))\n",
      "TypeError: ('The type of the replacement must be compatible with the type of the original Variable.', AllocEmpty{dtype='float32'}.0, AllocEmpty{dtype='float32'}.0, TensorType(float32, row), TensorType(float32, matrix), 'MergeOptimizer')\n",
      "\n",
      "<<!! BUG IN FGRAPH.REPLACE OR A LISTENER !!>> <type 'exceptions.TypeError'> ('The type of the replacement must be compatible with the type of the original Variable.', AllocEmpty{dtype='float32'}.0, AllocEmpty{dtype='float32'}.0, TensorType(float32, row), TensorType(float32, matrix), 'MergeOptimizer') MergeOptimizer\n",
      "ERROR (theano.gof.opt): SeqOptimizer apply <theano.gof.opt.EquilibriumOptimizer object at 0x7f02ddfda990>\n",
      "ERROR (theano.gof.opt): Traceback:\n",
      "ERROR (theano.gof.opt): Traceback (most recent call last):\n",
      "  File \"/home/topolo/Public/anaconda2/lib/python2.7/site-packages/theano/gof/opt.py\", line 230, in apply\n",
      "    sub_prof = optimizer.optimize(fgraph)\n",
      "  File \"/home/topolo/Public/anaconda2/lib/python2.7/site-packages/theano/gof/opt.py\", line 89, in optimize\n",
      "    ret = self.apply(fgraph, *args, **kwargs)\n",
      "  File \"/home/topolo/Public/anaconda2/lib/python2.7/site-packages/theano/gof/opt.py\", line 2223, in apply\n",
      "    sub_prof = gopt.apply(fgraph)\n",
      "  File \"/home/topolo/Public/anaconda2/lib/python2.7/site-packages/theano/gof/opt.py\", line 817, in apply\n",
      "    fgraph.replace_all_validate(pairs, 'MergeOptimizer')\n",
      "  File \"/home/topolo/Public/anaconda2/lib/python2.7/site-packages/theano/gof/toolbox.py\", line 309, in replace_all_validate\n",
      "    fgraph.replace(r, new_r, reason=reason, verbose=False)\n",
      "  File \"/home/topolo/Public/anaconda2/lib/python2.7/site-packages/theano/gof/fg.py\", line 561, in replace\n",
      "    str(reason))\n",
      "TypeError: ('The type of the replacement must be compatible with the type of the original Variable.', AllocEmpty{dtype='float32'}.0, AllocEmpty{dtype='float32'}.0, TensorType(float32, row), TensorType(float32, matrix), 'MergeOptimizer')\n",
      "\n",
      "<<!! BUG IN FGRAPH.REPLACE OR A LISTENER !!>> <type 'exceptions.TypeError'> ('The type of the replacement must be compatible with the type of the original Variable.', AllocEmpty{dtype='float32'}.0, AllocEmpty{dtype='float32'}.0, TensorType(float32, row), TensorType(float32, matrix), 'MergeOptimizer') MergeOptimizer\n",
      "ERROR (theano.gof.opt): SeqOptimizer apply <theano.gof.opt.EquilibriumOptimizer object at 0x7f02ddbca550>\n",
      "ERROR (theano.gof.opt): Traceback:\n",
      "ERROR (theano.gof.opt): Traceback (most recent call last):\n",
      "  File \"/home/topolo/Public/anaconda2/lib/python2.7/site-packages/theano/gof/opt.py\", line 230, in apply\n",
      "    sub_prof = optimizer.optimize(fgraph)\n",
      "  File \"/home/topolo/Public/anaconda2/lib/python2.7/site-packages/theano/gof/opt.py\", line 89, in optimize\n",
      "    ret = self.apply(fgraph, *args, **kwargs)\n",
      "  File \"/home/topolo/Public/anaconda2/lib/python2.7/site-packages/theano/gof/opt.py\", line 2223, in apply\n",
      "    sub_prof = gopt.apply(fgraph)\n",
      "  File \"/home/topolo/Public/anaconda2/lib/python2.7/site-packages/theano/gof/opt.py\", line 817, in apply\n",
      "    fgraph.replace_all_validate(pairs, 'MergeOptimizer')\n",
      "  File \"/home/topolo/Public/anaconda2/lib/python2.7/site-packages/theano/gof/toolbox.py\", line 309, in replace_all_validate\n",
      "    fgraph.replace(r, new_r, reason=reason, verbose=False)\n",
      "  File \"/home/topolo/Public/anaconda2/lib/python2.7/site-packages/theano/gof/fg.py\", line 561, in replace\n",
      "    str(reason))\n",
      "TypeError: ('The type of the replacement must be compatible with the type of the original Variable.', AllocEmpty{dtype='float32'}.0, AllocEmpty{dtype='float32'}.0, TensorType(float32, row), TensorType(float32, matrix), 'MergeOptimizer')\n",
      "\n",
      "<<!! BUG IN FGRAPH.REPLACE OR A LISTENER !!>> <type 'exceptions.TypeError'> ('The type of the replacement must be compatible with the type of the original Variable.', AllocEmpty{dtype='float32'}.0, AllocEmpty{dtype='float32'}.0, TensorType(float32, row), TensorType(float32, matrix), 'MergeOptimizer') MergeOptimizer\n",
      "ERROR (theano.gof.opt): SeqOptimizer apply <theano.gof.opt.EquilibriumOptimizer object at 0x7f02dd78f510>\n",
      "ERROR (theano.gof.opt): Traceback:\n",
      "ERROR (theano.gof.opt): Traceback (most recent call last):\n",
      "  File \"/home/topolo/Public/anaconda2/lib/python2.7/site-packages/theano/gof/opt.py\", line 230, in apply\n",
      "    sub_prof = optimizer.optimize(fgraph)\n",
      "  File \"/home/topolo/Public/anaconda2/lib/python2.7/site-packages/theano/gof/opt.py\", line 89, in optimize\n",
      "    ret = self.apply(fgraph, *args, **kwargs)\n",
      "  File \"/home/topolo/Public/anaconda2/lib/python2.7/site-packages/theano/gof/opt.py\", line 2223, in apply\n",
      "    sub_prof = gopt.apply(fgraph)\n",
      "  File \"/home/topolo/Public/anaconda2/lib/python2.7/site-packages/theano/gof/opt.py\", line 817, in apply\n",
      "    fgraph.replace_all_validate(pairs, 'MergeOptimizer')\n",
      "  File \"/home/topolo/Public/anaconda2/lib/python2.7/site-packages/theano/gof/toolbox.py\", line 309, in replace_all_validate\n",
      "    fgraph.replace(r, new_r, reason=reason, verbose=False)\n",
      "  File \"/home/topolo/Public/anaconda2/lib/python2.7/site-packages/theano/gof/fg.py\", line 561, in replace\n",
      "    str(reason))\n",
      "TypeError: ('The type of the replacement must be compatible with the type of the original Variable.', AllocEmpty{dtype='float32'}.0, AllocEmpty{dtype='float32'}.0, TensorType(float32, row), TensorType(float32, matrix), 'MergeOptimizer')\n",
      "\n"
     ]
    }
   ],
   "source": [
    "predictions_Mult = MemBlck_Mult.predict_on_lst( test_data, verbose=False)"
   ]
  },
  {
   "cell_type": "code",
   "execution_count": 25,
   "metadata": {
    "collapsed": false
   },
   "outputs": [],
   "source": [
    "X_test_data,y_test_data=map( list, zip(*test_data) )"
   ]
  },
  {
   "cell_type": "code",
   "execution_count": 26,
   "metadata": {
    "collapsed": false
   },
   "outputs": [
    {
     "name": "stdout",
     "output_type": "stream",
     "text": [
      "1006.0 1253.0 0.802873104549\n"
     ]
    }
   ],
   "source": [
    "assert len(predictions_Mult) == len(y_test_data)\n",
    "m = len(predictions_Mult)\n",
    "TOTALELE = 0.\n",
    "POSRES   = 0.\n",
    "for j in range(m):\n",
    "    testing_arr = np.equal( (predictions_Mult[j]>0.5).astype(float) , np.array( y_test_data[j]).astype(float) )\n",
    "    TOTALELE += testing_arr.size\n",
    "    POSRES += np.sum( testing_arr )\n",
    "\n",
    "print POSRES, TOTALELE, POSRES/TOTALELE # 1006.0 1253.0 0.802873104549"
   ]
  },
  {
   "cell_type": "markdown",
   "metadata": {},
   "source": [
    "### More Multiple hidden layers"
   ]
  },
  {
   "cell_type": "code",
   "execution_count": 27,
   "metadata": {
    "collapsed": true
   },
   "outputs": [],
   "source": [
    "L_Mult = Gates(g=4,i=3,f=2,o=2)\n",
    "\n",
    "n_hidden = n_i = n_c = n_o = n_f = 10\n",
    "n_in = 7 # for embedded reber grammar\n",
    "n_y = 7 # for embedded reber grammar; this is K in my notation\n",
    "\n",
    "sg_2 = 9 # s^{(g)}_2, i.e. \\alpha = g, gate g, l = 2, layer 2's \"size\"\n",
    "\n",
    "s_l_Mult = Gates(g=[n_in,8,9, n_c],i=[n_in,sg_2,n_i],f=[n_in,n_f],o=[n_in,n_o])\n",
    "\n",
    "activations_Mult = Psis(g=(T.tanh, T.tanh), i=(T.nnet.sigmoid, T.nnet.sigmoid),f=(T.nnet.sigmoid, T.nnet.sigmoid),\n",
    "                         o=(T.nnet.sigmoid, T.nnet.sigmoid),h=(T.tanh,))"
   ]
  },
  {
   "cell_type": "code",
   "execution_count": 31,
   "metadata": {
    "collapsed": false
   },
   "outputs": [
    {
     "name": "stdout",
     "output_type": "stream",
     "text": [
      "Total number of parameters: 23 \n",
      "Total number of parameters: 23 \n"
     ]
    },
    {
     "data": {
      "text/plain": [
       "Elemwise{add,no_inplace}.0"
      ]
     },
     "execution_count": 31,
     "metadata": {},
     "output_type": "execute_result"
    }
   ],
   "source": [
    "LSTM_model_Mult=LSTM_Model_right(L_Mult,s_l_Mult,n_hidden,n_y,activations_Mult,T.nnet.sigmoid )\n",
    "lstm_step_fxn_Mult = LSTM_model_Mult.build_lstm_step()\n",
    "MemBlck_Mult = MemoryBlock_right(n_hidden,LSTM_model_Mult)\n",
    "MemBlck_Mult.build_scan_over_t()\n",
    "MemBlck_Mult.build_J(0.5)"
   ]
  },
  {
   "cell_type": "code",
   "execution_count": 32,
   "metadata": {
    "collapsed": false
   },
   "outputs": [
    {
     "name": "stdout",
     "output_type": "stream",
     "text": [
      "Total number of parameters: 23 \n"
     ]
    }
   ],
   "source": [
    "MemBlck_Mult.build_update(alpha=0.05,beta=0.000001)"
   ]
  },
  {
   "cell_type": "code",
   "execution_count": 33,
   "metadata": {
    "collapsed": false
   },
   "outputs": [
    {
     "name": "stdout",
     "output_type": "stream",
     "text": [
      "theano.config.allow_gc =:  False\n",
      "CPU times: user 27.9 s, sys: 6.76 s, total: 34.7 s\n",
      "Wall time: 34.7 s\n"
     ]
    }
   ],
   "source": [
    "%time results_prelim = MemBlck_Mult.train_model_full(train_data,2)  # WITHOUT optimizer_excluding=\"low_memory\""
   ]
  },
  {
   "cell_type": "code",
   "execution_count": 34,
   "metadata": {
    "collapsed": false
   },
   "outputs": [
    {
     "name": "stdout",
     "output_type": "stream",
     "text": [
      "theano.config.allow_gc =:  False\n",
      "CPU times: user 59min 32s, sys: 16min 6s, total: 1h 15min 38s\n",
      "Wall time: 1h 15min 37s\n"
     ]
    }
   ],
   "source": [
    "%time results_prelim = MemBlck_Mult.train_model_full(train_data) # theano.config.allow_gc =:  False\n",
    "#CPU times: user 59min 32s, sys: 16min 6s, total: 1h 15min 38s\n",
    "#Wall time: 1h 15min 37s\n"
   ]
  },
  {
   "cell_type": "code",
   "execution_count": 35,
   "metadata": {
    "collapsed": false
   },
   "outputs": [
    {
     "name": "stderr",
     "output_type": "stream",
     "text": [
      "<<!! BUG IN FGRAPH.REPLACE OR A LISTENER !!>> <type 'exceptions.TypeError'> ('The type of the replacement must be compatible with the type of the original Variable.', AllocEmpty{dtype='float32'}.0, AllocEmpty{dtype='float32'}.0, TensorType(float32, row), TensorType(float32, matrix), 'MergeOptimizer') MergeOptimizer\n",
      "ERROR (theano.gof.opt): SeqOptimizer apply <theano.gof.opt.EquilibriumOptimizer object at 0x7f02fc26bdd0>\n",
      "ERROR (theano.gof.opt): Traceback:\n",
      "ERROR (theano.gof.opt): Traceback (most recent call last):\n",
      "  File \"/home/topolo/Public/anaconda2/lib/python2.7/site-packages/theano/gof/opt.py\", line 230, in apply\n",
      "    sub_prof = optimizer.optimize(fgraph)\n",
      "  File \"/home/topolo/Public/anaconda2/lib/python2.7/site-packages/theano/gof/opt.py\", line 89, in optimize\n",
      "    ret = self.apply(fgraph, *args, **kwargs)\n",
      "  File \"/home/topolo/Public/anaconda2/lib/python2.7/site-packages/theano/gof/opt.py\", line 2223, in apply\n",
      "    sub_prof = gopt.apply(fgraph)\n",
      "  File \"/home/topolo/Public/anaconda2/lib/python2.7/site-packages/theano/gof/opt.py\", line 817, in apply\n",
      "    fgraph.replace_all_validate(pairs, 'MergeOptimizer')\n",
      "  File \"/home/topolo/Public/anaconda2/lib/python2.7/site-packages/theano/gof/toolbox.py\", line 309, in replace_all_validate\n",
      "    fgraph.replace(r, new_r, reason=reason, verbose=False)\n",
      "  File \"/home/topolo/Public/anaconda2/lib/python2.7/site-packages/theano/gof/fg.py\", line 561, in replace\n",
      "    str(reason))\n",
      "TypeError: ('The type of the replacement must be compatible with the type of the original Variable.', AllocEmpty{dtype='float32'}.0, AllocEmpty{dtype='float32'}.0, TensorType(float32, row), TensorType(float32, matrix), 'MergeOptimizer')\n",
      "\n",
      "<<!! BUG IN FGRAPH.REPLACE OR A LISTENER !!>> <type 'exceptions.TypeError'> ('The type of the replacement must be compatible with the type of the original Variable.', AllocEmpty{dtype='float32'}.0, AllocEmpty{dtype='float32'}.0, TensorType(float32, row), TensorType(float32, matrix), 'MergeOptimizer') MergeOptimizer\n",
      "ERROR (theano.gof.opt): SeqOptimizer apply <theano.gof.opt.EquilibriumOptimizer object at 0x7f02fabf5210>\n",
      "ERROR (theano.gof.opt): Traceback:\n",
      "ERROR (theano.gof.opt): Traceback (most recent call last):\n",
      "  File \"/home/topolo/Public/anaconda2/lib/python2.7/site-packages/theano/gof/opt.py\", line 230, in apply\n",
      "    sub_prof = optimizer.optimize(fgraph)\n",
      "  File \"/home/topolo/Public/anaconda2/lib/python2.7/site-packages/theano/gof/opt.py\", line 89, in optimize\n",
      "    ret = self.apply(fgraph, *args, **kwargs)\n",
      "  File \"/home/topolo/Public/anaconda2/lib/python2.7/site-packages/theano/gof/opt.py\", line 2223, in apply\n",
      "    sub_prof = gopt.apply(fgraph)\n",
      "  File \"/home/topolo/Public/anaconda2/lib/python2.7/site-packages/theano/gof/opt.py\", line 817, in apply\n",
      "    fgraph.replace_all_validate(pairs, 'MergeOptimizer')\n",
      "  File \"/home/topolo/Public/anaconda2/lib/python2.7/site-packages/theano/gof/toolbox.py\", line 309, in replace_all_validate\n",
      "    fgraph.replace(r, new_r, reason=reason, verbose=False)\n",
      "  File \"/home/topolo/Public/anaconda2/lib/python2.7/site-packages/theano/gof/fg.py\", line 561, in replace\n",
      "    str(reason))\n",
      "TypeError: ('The type of the replacement must be compatible with the type of the original Variable.', AllocEmpty{dtype='float32'}.0, AllocEmpty{dtype='float32'}.0, TensorType(float32, row), TensorType(float32, matrix), 'MergeOptimizer')\n",
      "\n",
      "<<!! BUG IN FGRAPH.REPLACE OR A LISTENER !!>> <type 'exceptions.TypeError'> ('The type of the replacement must be compatible with the type of the original Variable.', AllocEmpty{dtype='float32'}.0, AllocEmpty{dtype='float32'}.0, TensorType(float32, row), TensorType(float32, matrix), 'MergeOptimizer') MergeOptimizer\n",
      "ERROR (theano.gof.opt): SeqOptimizer apply <theano.gof.opt.EquilibriumOptimizer object at 0x7f02fa0e1ed0>\n",
      "ERROR (theano.gof.opt): Traceback:\n",
      "ERROR (theano.gof.opt): Traceback (most recent call last):\n",
      "  File \"/home/topolo/Public/anaconda2/lib/python2.7/site-packages/theano/gof/opt.py\", line 230, in apply\n",
      "    sub_prof = optimizer.optimize(fgraph)\n",
      "  File \"/home/topolo/Public/anaconda2/lib/python2.7/site-packages/theano/gof/opt.py\", line 89, in optimize\n",
      "    ret = self.apply(fgraph, *args, **kwargs)\n",
      "  File \"/home/topolo/Public/anaconda2/lib/python2.7/site-packages/theano/gof/opt.py\", line 2223, in apply\n",
      "    sub_prof = gopt.apply(fgraph)\n",
      "  File \"/home/topolo/Public/anaconda2/lib/python2.7/site-packages/theano/gof/opt.py\", line 817, in apply\n",
      "    fgraph.replace_all_validate(pairs, 'MergeOptimizer')\n",
      "  File \"/home/topolo/Public/anaconda2/lib/python2.7/site-packages/theano/gof/toolbox.py\", line 309, in replace_all_validate\n",
      "    fgraph.replace(r, new_r, reason=reason, verbose=False)\n",
      "  File \"/home/topolo/Public/anaconda2/lib/python2.7/site-packages/theano/gof/fg.py\", line 561, in replace\n",
      "    str(reason))\n",
      "TypeError: ('The type of the replacement must be compatible with the type of the original Variable.', AllocEmpty{dtype='float32'}.0, AllocEmpty{dtype='float32'}.0, TensorType(float32, row), TensorType(float32, matrix), 'MergeOptimizer')\n",
      "\n",
      "<<!! BUG IN FGRAPH.REPLACE OR A LISTENER !!>> <type 'exceptions.TypeError'> ('The type of the replacement must be compatible with the type of the original Variable.', AllocEmpty{dtype='float32'}.0, AllocEmpty{dtype='float32'}.0, TensorType(float32, row), TensorType(float32, matrix), 'MergeOptimizer') MergeOptimizer\n",
      "ERROR (theano.gof.opt): SeqOptimizer apply <theano.gof.opt.EquilibriumOptimizer object at 0x7f02f7551e90>\n",
      "ERROR (theano.gof.opt): Traceback:\n",
      "ERROR (theano.gof.opt): Traceback (most recent call last):\n",
      "  File \"/home/topolo/Public/anaconda2/lib/python2.7/site-packages/theano/gof/opt.py\", line 230, in apply\n",
      "    sub_prof = optimizer.optimize(fgraph)\n",
      "  File \"/home/topolo/Public/anaconda2/lib/python2.7/site-packages/theano/gof/opt.py\", line 89, in optimize\n",
      "    ret = self.apply(fgraph, *args, **kwargs)\n",
      "  File \"/home/topolo/Public/anaconda2/lib/python2.7/site-packages/theano/gof/opt.py\", line 2223, in apply\n",
      "    sub_prof = gopt.apply(fgraph)\n",
      "  File \"/home/topolo/Public/anaconda2/lib/python2.7/site-packages/theano/gof/opt.py\", line 817, in apply\n",
      "    fgraph.replace_all_validate(pairs, 'MergeOptimizer')\n",
      "  File \"/home/topolo/Public/anaconda2/lib/python2.7/site-packages/theano/gof/toolbox.py\", line 309, in replace_all_validate\n",
      "    fgraph.replace(r, new_r, reason=reason, verbose=False)\n",
      "  File \"/home/topolo/Public/anaconda2/lib/python2.7/site-packages/theano/gof/fg.py\", line 561, in replace\n",
      "    str(reason))\n",
      "TypeError: ('The type of the replacement must be compatible with the type of the original Variable.', AllocEmpty{dtype='float32'}.0, AllocEmpty{dtype='float32'}.0, TensorType(float32, row), TensorType(float32, matrix), 'MergeOptimizer')\n",
      "\n",
      "<<!! BUG IN FGRAPH.REPLACE OR A LISTENER !!>> <type 'exceptions.TypeError'> ('The type of the replacement must be compatible with the type of the original Variable.', AllocEmpty{dtype='float32'}.0, AllocEmpty{dtype='float32'}.0, TensorType(float32, row), TensorType(float32, matrix), 'MergeOptimizer') MergeOptimizer\n",
      "ERROR (theano.gof.opt): SeqOptimizer apply <theano.gof.opt.EquilibriumOptimizer object at 0x7f02f5d4e610>\n",
      "ERROR (theano.gof.opt): Traceback:\n",
      "ERROR (theano.gof.opt): Traceback (most recent call last):\n",
      "  File \"/home/topolo/Public/anaconda2/lib/python2.7/site-packages/theano/gof/opt.py\", line 230, in apply\n",
      "    sub_prof = optimizer.optimize(fgraph)\n",
      "  File \"/home/topolo/Public/anaconda2/lib/python2.7/site-packages/theano/gof/opt.py\", line 89, in optimize\n",
      "    ret = self.apply(fgraph, *args, **kwargs)\n",
      "  File \"/home/topolo/Public/anaconda2/lib/python2.7/site-packages/theano/gof/opt.py\", line 2223, in apply\n",
      "    sub_prof = gopt.apply(fgraph)\n",
      "  File \"/home/topolo/Public/anaconda2/lib/python2.7/site-packages/theano/gof/opt.py\", line 817, in apply\n",
      "    fgraph.replace_all_validate(pairs, 'MergeOptimizer')\n",
      "  File \"/home/topolo/Public/anaconda2/lib/python2.7/site-packages/theano/gof/toolbox.py\", line 309, in replace_all_validate\n",
      "    fgraph.replace(r, new_r, reason=reason, verbose=False)\n",
      "  File \"/home/topolo/Public/anaconda2/lib/python2.7/site-packages/theano/gof/fg.py\", line 561, in replace\n",
      "    str(reason))\n",
      "TypeError: ('The type of the replacement must be compatible with the type of the original Variable.', AllocEmpty{dtype='float32'}.0, AllocEmpty{dtype='float32'}.0, TensorType(float32, row), TensorType(float32, matrix), 'MergeOptimizer')\n",
      "\n",
      "<<!! BUG IN FGRAPH.REPLACE OR A LISTENER !!>> <type 'exceptions.TypeError'> ('The type of the replacement must be compatible with the type of the original Variable.', AllocEmpty{dtype='float32'}.0, AllocEmpty{dtype='float32'}.0, TensorType(float32, row), TensorType(float32, matrix), 'MergeOptimizer') MergeOptimizer\n",
      "ERROR (theano.gof.opt): SeqOptimizer apply <theano.gof.opt.EquilibriumOptimizer object at 0x7f02f5135d90>\n",
      "ERROR (theano.gof.opt): Traceback:\n",
      "ERROR (theano.gof.opt): Traceback (most recent call last):\n",
      "  File \"/home/topolo/Public/anaconda2/lib/python2.7/site-packages/theano/gof/opt.py\", line 230, in apply\n",
      "    sub_prof = optimizer.optimize(fgraph)\n",
      "  File \"/home/topolo/Public/anaconda2/lib/python2.7/site-packages/theano/gof/opt.py\", line 89, in optimize\n",
      "    ret = self.apply(fgraph, *args, **kwargs)\n",
      "  File \"/home/topolo/Public/anaconda2/lib/python2.7/site-packages/theano/gof/opt.py\", line 2223, in apply\n",
      "    sub_prof = gopt.apply(fgraph)\n",
      "  File \"/home/topolo/Public/anaconda2/lib/python2.7/site-packages/theano/gof/opt.py\", line 817, in apply\n",
      "    fgraph.replace_all_validate(pairs, 'MergeOptimizer')\n",
      "  File \"/home/topolo/Public/anaconda2/lib/python2.7/site-packages/theano/gof/toolbox.py\", line 309, in replace_all_validate\n",
      "    fgraph.replace(r, new_r, reason=reason, verbose=False)\n",
      "  File \"/home/topolo/Public/anaconda2/lib/python2.7/site-packages/theano/gof/fg.py\", line 561, in replace\n",
      "    str(reason))\n",
      "TypeError: ('The type of the replacement must be compatible with the type of the original Variable.', AllocEmpty{dtype='float32'}.0, AllocEmpty{dtype='float32'}.0, TensorType(float32, row), TensorType(float32, matrix), 'MergeOptimizer')\n",
      "\n",
      "<<!! BUG IN FGRAPH.REPLACE OR A LISTENER !!>> <type 'exceptions.TypeError'> ('The type of the replacement must be compatible with the type of the original Variable.', AllocEmpty{dtype='float32'}.0, AllocEmpty{dtype='float32'}.0, TensorType(float32, row), TensorType(float32, matrix), 'MergeOptimizer') MergeOptimizer\n",
      "ERROR (theano.gof.opt): SeqOptimizer apply <theano.gof.opt.EquilibriumOptimizer object at 0x7f02f2cfc850>\n",
      "ERROR (theano.gof.opt): Traceback:\n",
      "ERROR (theano.gof.opt): Traceback (most recent call last):\n",
      "  File \"/home/topolo/Public/anaconda2/lib/python2.7/site-packages/theano/gof/opt.py\", line 230, in apply\n",
      "    sub_prof = optimizer.optimize(fgraph)\n",
      "  File \"/home/topolo/Public/anaconda2/lib/python2.7/site-packages/theano/gof/opt.py\", line 89, in optimize\n",
      "    ret = self.apply(fgraph, *args, **kwargs)\n",
      "  File \"/home/topolo/Public/anaconda2/lib/python2.7/site-packages/theano/gof/opt.py\", line 2223, in apply\n",
      "    sub_prof = gopt.apply(fgraph)\n",
      "  File \"/home/topolo/Public/anaconda2/lib/python2.7/site-packages/theano/gof/opt.py\", line 817, in apply\n",
      "    fgraph.replace_all_validate(pairs, 'MergeOptimizer')\n",
      "  File \"/home/topolo/Public/anaconda2/lib/python2.7/site-packages/theano/gof/toolbox.py\", line 309, in replace_all_validate\n",
      "    fgraph.replace(r, new_r, reason=reason, verbose=False)\n",
      "  File \"/home/topolo/Public/anaconda2/lib/python2.7/site-packages/theano/gof/fg.py\", line 561, in replace\n",
      "    str(reason))\n",
      "TypeError: ('The type of the replacement must be compatible with the type of the original Variable.', AllocEmpty{dtype='float32'}.0, AllocEmpty{dtype='float32'}.0, TensorType(float32, row), TensorType(float32, matrix), 'MergeOptimizer')\n",
      "\n",
      "<<!! BUG IN FGRAPH.REPLACE OR A LISTENER !!>> <type 'exceptions.TypeError'> ('The type of the replacement must be compatible with the type of the original Variable.', AllocEmpty{dtype='float32'}.0, AllocEmpty{dtype='float32'}.0, TensorType(float32, row), TensorType(float32, matrix), 'MergeOptimizer') MergeOptimizer\n",
      "ERROR (theano.gof.opt): SeqOptimizer apply <theano.gof.opt.EquilibriumOptimizer object at 0x7f02dcfb11d0>\n",
      "ERROR (theano.gof.opt): Traceback:\n",
      "ERROR (theano.gof.opt): Traceback (most recent call last):\n",
      "  File \"/home/topolo/Public/anaconda2/lib/python2.7/site-packages/theano/gof/opt.py\", line 230, in apply\n",
      "    sub_prof = optimizer.optimize(fgraph)\n",
      "  File \"/home/topolo/Public/anaconda2/lib/python2.7/site-packages/theano/gof/opt.py\", line 89, in optimize\n",
      "    ret = self.apply(fgraph, *args, **kwargs)\n",
      "  File \"/home/topolo/Public/anaconda2/lib/python2.7/site-packages/theano/gof/opt.py\", line 2223, in apply\n",
      "    sub_prof = gopt.apply(fgraph)\n",
      "  File \"/home/topolo/Public/anaconda2/lib/python2.7/site-packages/theano/gof/opt.py\", line 817, in apply\n",
      "    fgraph.replace_all_validate(pairs, 'MergeOptimizer')\n",
      "  File \"/home/topolo/Public/anaconda2/lib/python2.7/site-packages/theano/gof/toolbox.py\", line 309, in replace_all_validate\n",
      "    fgraph.replace(r, new_r, reason=reason, verbose=False)\n",
      "  File \"/home/topolo/Public/anaconda2/lib/python2.7/site-packages/theano/gof/fg.py\", line 561, in replace\n",
      "    str(reason))\n",
      "TypeError: ('The type of the replacement must be compatible with the type of the original Variable.', AllocEmpty{dtype='float32'}.0, AllocEmpty{dtype='float32'}.0, TensorType(float32, row), TensorType(float32, matrix), 'MergeOptimizer')\n",
      "\n",
      "<<!! BUG IN FGRAPH.REPLACE OR A LISTENER !!>> <type 'exceptions.TypeError'> ('The type of the replacement must be compatible with the type of the original Variable.', AllocEmpty{dtype='float32'}.0, AllocEmpty{dtype='float32'}.0, TensorType(float32, row), TensorType(float32, matrix), 'MergeOptimizer') MergeOptimizer\n",
      "ERROR (theano.gof.opt): SeqOptimizer apply <theano.gof.opt.EquilibriumOptimizer object at 0x7f02f5161cd0>\n",
      "ERROR (theano.gof.opt): Traceback:\n",
      "ERROR (theano.gof.opt): Traceback (most recent call last):\n",
      "  File \"/home/topolo/Public/anaconda2/lib/python2.7/site-packages/theano/gof/opt.py\", line 230, in apply\n",
      "    sub_prof = optimizer.optimize(fgraph)\n",
      "  File \"/home/topolo/Public/anaconda2/lib/python2.7/site-packages/theano/gof/opt.py\", line 89, in optimize\n",
      "    ret = self.apply(fgraph, *args, **kwargs)\n",
      "  File \"/home/topolo/Public/anaconda2/lib/python2.7/site-packages/theano/gof/opt.py\", line 2223, in apply\n",
      "    sub_prof = gopt.apply(fgraph)\n",
      "  File \"/home/topolo/Public/anaconda2/lib/python2.7/site-packages/theano/gof/opt.py\", line 817, in apply\n",
      "    fgraph.replace_all_validate(pairs, 'MergeOptimizer')\n",
      "  File \"/home/topolo/Public/anaconda2/lib/python2.7/site-packages/theano/gof/toolbox.py\", line 309, in replace_all_validate\n",
      "    fgraph.replace(r, new_r, reason=reason, verbose=False)\n",
      "  File \"/home/topolo/Public/anaconda2/lib/python2.7/site-packages/theano/gof/fg.py\", line 561, in replace\n",
      "    str(reason))\n",
      "TypeError: ('The type of the replacement must be compatible with the type of the original Variable.', AllocEmpty{dtype='float32'}.0, AllocEmpty{dtype='float32'}.0, TensorType(float32, row), TensorType(float32, matrix), 'MergeOptimizer')\n",
      "\n",
      "<<!! BUG IN FGRAPH.REPLACE OR A LISTENER !!>> <type 'exceptions.TypeError'> ('The type of the replacement must be compatible with the type of the original Variable.', AllocEmpty{dtype='float32'}.0, AllocEmpty{dtype='float32'}.0, TensorType(float32, row), TensorType(float32, matrix), 'MergeOptimizer') MergeOptimizer\n",
      "ERROR (theano.gof.opt): SeqOptimizer apply <theano.gof.opt.EquilibriumOptimizer object at 0x7f02fc26b350>\n",
      "ERROR (theano.gof.opt): Traceback:\n",
      "ERROR (theano.gof.opt): Traceback (most recent call last):\n",
      "  File \"/home/topolo/Public/anaconda2/lib/python2.7/site-packages/theano/gof/opt.py\", line 230, in apply\n",
      "    sub_prof = optimizer.optimize(fgraph)\n",
      "  File \"/home/topolo/Public/anaconda2/lib/python2.7/site-packages/theano/gof/opt.py\", line 89, in optimize\n",
      "    ret = self.apply(fgraph, *args, **kwargs)\n",
      "  File \"/home/topolo/Public/anaconda2/lib/python2.7/site-packages/theano/gof/opt.py\", line 2223, in apply\n",
      "    sub_prof = gopt.apply(fgraph)\n",
      "  File \"/home/topolo/Public/anaconda2/lib/python2.7/site-packages/theano/gof/opt.py\", line 817, in apply\n",
      "    fgraph.replace_all_validate(pairs, 'MergeOptimizer')\n",
      "  File \"/home/topolo/Public/anaconda2/lib/python2.7/site-packages/theano/gof/toolbox.py\", line 309, in replace_all_validate\n",
      "    fgraph.replace(r, new_r, reason=reason, verbose=False)\n",
      "  File \"/home/topolo/Public/anaconda2/lib/python2.7/site-packages/theano/gof/fg.py\", line 561, in replace\n",
      "    str(reason))\n",
      "TypeError: ('The type of the replacement must be compatible with the type of the original Variable.', AllocEmpty{dtype='float32'}.0, AllocEmpty{dtype='float32'}.0, TensorType(float32, row), TensorType(float32, matrix), 'MergeOptimizer')\n",
      "\n"
     ]
    }
   ],
   "source": [
    "predictions_full = MemBlck_Mult.predict_on_lst( test_data, verbose=False)"
   ]
  },
  {
   "cell_type": "code",
   "execution_count": 37,
   "metadata": {
    "collapsed": false
   },
   "outputs": [
    {
     "name": "stdout",
     "output_type": "stream",
     "text": [
      " 1006.0 1253.0 0.802873104549\n"
     ]
    }
   ],
   "source": [
    "assert len(predictions_Mult) == len(y_test_data)\n",
    "m = len(predictions_Mult)\n",
    "TOTALELE = 0.\n",
    "POSRES   = 0.\n",
    "for j in range(m):\n",
    "    testing_arr = np.equal( (predictions_Mult[j]>0.5).astype(float) , np.array( y_test_data[j]).astype(float) )\n",
    "    TOTALELE += testing_arr.size\n",
    "    POSRES += np.sum( testing_arr )\n",
    "\n",
    "print POSRES, TOTALELE, POSRES/TOTALELE #  1006.0 1253.0 0.802873104549\n"
   ]
  },
  {
   "cell_type": "code",
   "execution_count": 47,
   "metadata": {
    "collapsed": false
   },
   "outputs": [
    {
     "name": "stdout",
     "output_type": "stream",
     "text": [
      "10\n",
      "<type 'numpy.ndarray'>\n",
      "(16, 7)\n"
     ]
    }
   ],
   "source": [
    "print(len(predictions_Mult))\n",
    "print(type(predictions_Mult[0]));print(predictions_Mult[0].shape)"
   ]
  },
  {
   "cell_type": "code",
   "execution_count": null,
   "metadata": {
    "collapsed": true
   },
   "outputs": [],
   "source": []
  },
  {
   "cell_type": "code",
   "execution_count": null,
   "metadata": {
    "collapsed": true
   },
   "outputs": [],
   "source": []
  },
  {
   "cell_type": "code",
   "execution_count": null,
   "metadata": {
    "collapsed": true
   },
   "outputs": [],
   "source": []
  },
  {
   "cell_type": "markdown",
   "metadata": {},
   "source": [
    "#### Draft work"
   ]
  },
  {
   "cell_type": "code",
   "execution_count": 48,
   "metadata": {
    "collapsed": false
   },
   "outputs": [],
   "source": [
    "g_t_Mul = Feedforward_g_right(3,[7,9,10],n_hidden)\n",
    "i_t_Mul = Feedforward_ifo_right(3,[7,9,10],n_hidden,T.nnet.sigmoid,T.nnet.sigmoid)\n",
    "s_L_Mul = [7,9,10][-1]\n",
    "Thetaby_Mul = Thetab_right(1,[9,7],activation=T.nnet.sigmoid)"
   ]
  },
  {
   "cell_type": "code",
   "execution_count": 49,
   "metadata": {
    "collapsed": false
   },
   "outputs": [
    {
     "name": "stdout",
     "output_type": "stream",
     "text": [
      "on layer l=2\n",
      "on layer l=2\n"
     ]
    }
   ],
   "source": [
    "## unroll all the parameters\n",
    "gThetas = [Weight.Theta for Weight in g_t_Mul.Thetabs]\n",
    "gbs     = [Weight.b for Weight in g_t_Mul.Thetabs]\n",
    "gthetas = []\n",
    "for Weight in g_t_Mul.Thetabs:\n",
    "    try:\n",
    "        gthetas.append( Weight.theta )\n",
    "    except AttributeError:\n",
    "        print(\"on layer l=%d\" % Weight.l)\n",
    "params_Mul = gThetas + gbs + gthetas\n",
    "Thetas_only_Mul = gThetas + gthetas\n",
    "\n",
    "iThetas = [Weight.Theta for Weight in i_t_Mul.Thetabs]\n",
    "ibs     = [Weight.b for Weight in i_t_Mul.Thetabs]\n",
    "ithetas = []\n",
    "for Weight in i_t_Mul.Thetabs:\n",
    "    try:\n",
    "        ithetas.append( Weight.theta )\n",
    "    except AttributeError:\n",
    "        print(\"on layer l=%d\" % Weight.l)\n",
    "params_Mul = params_Mul+iThetas + ibs + ithetas\n",
    "\n",
    "Thetas_only_Mul = Thetas_only_Mul +iThetas + ithetas\n"
   ]
  },
  {
   "cell_type": "code",
   "execution_count": 50,
   "metadata": {
    "collapsed": false
   },
   "outputs": [
    {
     "name": "stdout",
     "output_type": "stream",
     "text": [
      "[Theta1, Theta2, b1, b2, theta1, Theta1, Theta2, b1, b2, theta1]\n"
     ]
    }
   ],
   "source": [
    "print(params_Mul)"
   ]
  },
  {
   "cell_type": "code",
   "execution_count": 57,
   "metadata": {
    "collapsed": false
   },
   "outputs": [
    {
     "name": "stdout",
     "output_type": "stream",
     "text": [
      "[Theta1, Theta2, theta1, Theta1, Theta2, theta1]\n"
     ]
    },
    {
     "data": {
      "text/plain": [
       "[Theta1, Theta2, theta1, Theta1, Theta2, theta1]"
      ]
     },
     "execution_count": 57,
     "metadata": {},
     "output_type": "execute_result"
    }
   ],
   "source": [
    "print(Thetas_only_Mul)\n",
    "Thetas_only_Mul"
   ]
  },
  {
   "cell_type": "code",
   "execution_count": 51,
   "metadata": {
    "collapsed": true
   },
   "outputs": [],
   "source": [
    "def lstm_step_Mul(X_t,h_tm1,c_tm1,*args_for_params):\n",
    "    g_t= g_t_Mul.connect_through(X_t,h_tm1)\n",
    "    i_t= i_t_Mul.connect_through(X_t,h_tm1,c_tm1)\n",
    "    c_t = i_t*g_t\n",
    "    h_t = activations_Mult.h[-1](c_t)\n",
    "    Thetaby_Mul.al = h_t\n",
    "    Thetaby_Mul.connect_through()\n",
    "    y_t = Thetaby_Mul.alp1\n",
    "    return [h_t,c_t,y_t]\n",
    "        "
   ]
  },
  {
   "cell_type": "code",
   "execution_count": 52,
   "metadata": {
    "collapsed": true
   },
   "outputs": [],
   "source": [
    "X_Mul = T.matrix(dtype=theano.config.floatX)\n",
    "c0_Mul = theano.shared(np.zeros(n_hidden).astype(theano.config.floatX))\n",
    "h0_Mul = T.tanh( c0_Mul )"
   ]
  },
  {
   "cell_type": "code",
   "execution_count": 53,
   "metadata": {
    "collapsed": false
   },
   "outputs": [],
   "source": [
    "[h_vals_Mul,c_vals_Mul,y_vals_Mul],updates_from_scan_Mul=theano.scan(fn=lstm_step_Mul, \n",
    "                                                                    sequences=dict(input=X_Mul,taps=[0]),\n",
    "                                                                    outputs_info=[h0_Mul,c0_Mul,None],\n",
    "                                                                    non_sequences=params_Mul)"
   ]
  },
  {
   "cell_type": "code",
   "execution_count": 54,
   "metadata": {
    "collapsed": false
   },
   "outputs": [
    {
     "data": {
      "text/plain": [
       "[Elemwise{tanh,no_inplace}.0, Elemwise{mul,no_inplace}.0, sigmoid.0]"
      ]
     },
     "execution_count": 54,
     "metadata": {},
     "output_type": "execute_result"
    }
   ],
   "source": [
    "#draft work\n",
    "#lstm_step_Mul(X_Mul,h0_Mul,c0_Mul, *params_Mul)"
   ]
  },
  {
   "cell_type": "code",
   "execution_count": 55,
   "metadata": {
    "collapsed": true
   },
   "outputs": [],
   "source": [
    "#draft work\n",
    "#g_t= g_t_Mul.connect_through(X_Mul,h0_Mul)\n",
    "#i_t= i_t_Mul.connect_through(X_Mul,h0_Mul,c0_Mul)\n",
    "#c_t = i_t*g_t\n",
    "#h_t = activations_Mult.h[-1](c_t)\n",
    "#Thetaby_Mul.al = h_t"
   ]
  },
  {
   "cell_type": "code",
   "execution_count": 56,
   "metadata": {
    "collapsed": false
   },
   "outputs": [],
   "source": [
    "#draft work\n",
    "#Thetaby_Mul.connect_through()"
   ]
  },
  {
   "cell_type": "code",
   "execution_count": 59,
   "metadata": {
    "collapsed": false
   },
   "outputs": [],
   "source": [
    "y_Mul=T.matrix(dtype=theano.config.floatX)\n",
    "J_Mul = build_cost_functional(np.float32(0.1), y_vals_Mul,y_Mul,Thetas_only_Mul)"
   ]
  },
  {
   "cell_type": "code",
   "execution_count": 60,
   "metadata": {
    "collapsed": true
   },
   "outputs": [],
   "source": [
    "updateExp_Mul,gradDesc_step_Mul = build_gradDescent_step( J_Mul, params_Mul,X_Mul,y_Mul,0.01,0.0)"
   ]
  },
  {
   "cell_type": "markdown",
   "metadata": {},
   "source": [
    "Indeed, "
   ]
  },
  {
   "cell_type": "code",
   "execution_count": 69,
   "metadata": {
    "collapsed": false
   },
   "outputs": [
    {
     "ename": "TypeError",
     "evalue": "'int' object is not iterable",
     "output_type": "error",
     "traceback": [
      "\u001b[1;31m---------------------------------------------------------------------------\u001b[0m",
      "\u001b[1;31mTypeError\u001b[0m                                 Traceback (most recent call last)",
      "\u001b[1;32m<ipython-input-69-76c22a59fb53>\u001b[0m in \u001b[0;36m<module>\u001b[1;34m()\u001b[0m\n\u001b[1;32m----> 1\u001b[1;33m \u001b[0mg_t_Mul\u001b[0m \u001b[1;33m=\u001b[0m \u001b[0mFeedforward_g_right\u001b[0m\u001b[1;33m(\u001b[0m\u001b[1;36m4\u001b[0m\u001b[1;33m,\u001b[0m\u001b[1;33m[\u001b[0m\u001b[1;36m7\u001b[0m\u001b[1;33m,\u001b[0m\u001b[1;36m8\u001b[0m\u001b[1;33m,\u001b[0m\u001b[1;36m9\u001b[0m\u001b[1;33m,\u001b[0m\u001b[1;36m10\u001b[0m\u001b[1;33m]\u001b[0m\u001b[1;33m,\u001b[0m\u001b[0mn_hidden\u001b[0m\u001b[1;33m)\u001b[0m\u001b[1;33m\u001b[0m\u001b[0m\n\u001b[0m",
      "\u001b[1;32m/home/topolo/PropD/MLgrabbag/ML/LSTM_Herta.py\u001b[0m in \u001b[0;36m__init__\u001b[1;34m(self, L, s_l, H, activation_fxn, psi_Lm1, rng)\u001b[0m\n\u001b[0;32m    517\u001b[0m \u001b[1;33m\u001b[0m\u001b[0m\n\u001b[0;32m    518\u001b[0m                         \u001b[1;31m#initialize an instance of class Thetabtheta_right\u001b[0m\u001b[1;33m\u001b[0m\u001b[1;33m\u001b[0m\u001b[0m\n\u001b[1;32m--> 519\u001b[1;33m                         \u001b[0mThetabl\u001b[0m \u001b[1;33m=\u001b[0m \u001b[0mThetabtheta_right\u001b[0m\u001b[1;33m(\u001b[0m\u001b[0ml\u001b[0m\u001b[1;33m,\u001b[0m\u001b[1;33m(\u001b[0m\u001b[0ms_l\u001b[0m\u001b[1;33m[\u001b[0m\u001b[0ml\u001b[0m\u001b[1;33m-\u001b[0m\u001b[1;36m1\u001b[0m\u001b[1;33m]\u001b[0m\u001b[1;33m,\u001b[0m\u001b[0ms_l\u001b[0m\u001b[1;33m[\u001b[0m\u001b[0ml\u001b[0m\u001b[1;33m]\u001b[0m\u001b[1;33m)\u001b[0m\u001b[1;33m,\u001b[0m\u001b[0mal\u001b[0m\u001b[1;33m=\u001b[0m\u001b[0minputlayer_al\u001b[0m\u001b[1;33m,\u001b[0m \u001b[0mactivation\u001b[0m\u001b[1;33m=\u001b[0m\u001b[0mactivation_fxn\u001b[0m\u001b[1;33m,\u001b[0m \u001b[0mrng\u001b[0m\u001b[1;33m=\u001b[0m\u001b[0mrng\u001b[0m\u001b[1;33m)\u001b[0m\u001b[1;33m\u001b[0m\u001b[0m\n\u001b[0m\u001b[0;32m    520\u001b[0m                         \u001b[0mThetabl\u001b[0m\u001b[1;33m.\u001b[0m\u001b[0mconnect_through\u001b[0m\u001b[1;33m(\u001b[0m\u001b[1;33m)\u001b[0m\u001b[1;33m\u001b[0m\u001b[0m\n\u001b[0;32m    521\u001b[0m                         \u001b[0mThetabs_lst\u001b[0m\u001b[1;33m.\u001b[0m\u001b[0mappend\u001b[0m\u001b[1;33m(\u001b[0m \u001b[0mThetabl\u001b[0m \u001b[1;33m)\u001b[0m\u001b[1;33m\u001b[0m\u001b[0m\n",
      "\u001b[1;32m/home/topolo/PropD/MLgrabbag/ML/LSTM_Herta.py\u001b[0m in \u001b[0;36m__init__\u001b[1;34m(self, s_ls, H, al, _h, Theta, b, theta, activation, l, rng)\u001b[0m\n\u001b[0;32m    221\u001b[0m \u001b[1;33m\u001b[0m\u001b[0m\n\u001b[0;32m    222\u001b[0m \t\t\"\"\"\n\u001b[1;32m--> 223\u001b[1;33m                 \u001b[0ms_l\u001b[0m\u001b[1;33m,\u001b[0m \u001b[0ms_lp1\u001b[0m \u001b[1;33m=\u001b[0m \u001b[0ms_ls\u001b[0m\u001b[1;33m\u001b[0m\u001b[0m\n\u001b[0m\u001b[0;32m    224\u001b[0m \u001b[1;33m\u001b[0m\u001b[0m\n\u001b[0;32m    225\u001b[0m                 \u001b[1;32mif\u001b[0m \u001b[0mrng\u001b[0m \u001b[1;32mis\u001b[0m \u001b[0mNone\u001b[0m\u001b[1;33m:\u001b[0m\u001b[1;33m\u001b[0m\u001b[0m\n",
      "\u001b[1;31mTypeError\u001b[0m: 'int' object is not iterable"
     ]
    }
   ],
   "source": [
    "g_t_Mul = Feedforward_g_right(4,[7,8,9,10],n_hidden)\n"
   ]
  },
  {
   "cell_type": "code",
   "execution_count": 70,
   "metadata": {
    "collapsed": false
   },
   "outputs": [
    {
     "data": {
      "text/plain": [
       "[2]"
      ]
     },
     "execution_count": 70,
     "metadata": {},
     "output_type": "execute_result"
    }
   ],
   "source": [
    "range(2,4-1)"
   ]
  },
  {
   "cell_type": "code",
   "execution_count": null,
   "metadata": {
    "collapsed": true
   },
   "outputs": [],
   "source": []
  },
  {
   "cell_type": "code",
   "execution_count": null,
   "metadata": {
    "collapsed": true
   },
   "outputs": [],
   "source": []
  },
  {
   "cell_type": "markdown",
   "metadata": {
    "collapsed": true
   },
   "source": [
    "## \"Gold\" version of LSTM, implemented by Herta"
   ]
  },
  {
   "cell_type": "code",
   "execution_count": 22,
   "metadata": {
    "collapsed": true
   },
   "outputs": [],
   "source": [
    "dtype=theano.config.floatX\n",
    "# squashing of the gates should result in values between 0 and 1\n",
    "# therefore we use the logistic function\n",
    "sigma = lambda x: 1 / (1 + T.exp(-x))\n",
    "\n",
    "\n",
    "# for the other activation function we use the tanh\n",
    "act = T.tanh\n",
    "\n",
    "# sequences: x_t\n",
    "# prior results: h_tm1, c_tm1\n",
    "# non-sequences: W_xi, W_hi, W_ci, b_i, W_xf, W_hf, W_cf, b_f, W_xc, W_hc, b_c, W_xy, W_hy, W_cy, b_y\n",
    "def one_lstm_step(x_t, h_tm1, c_tm1, W_xi, W_hi, W_ci, b_i, W_xf, W_hf, W_cf, b_f, W_xc, W_hc, b_c, W_xy, W_ho, W_cy, b_o, W_hy, b_y):\n",
    "    i_t = sigma(theano.dot(x_t, W_xi) + theano.dot(h_tm1, W_hi) + theano.dot(c_tm1, W_ci) + b_i)\n",
    "    f_t = sigma(theano.dot(x_t, W_xf) + theano.dot(h_tm1, W_hf) + theano.dot(c_tm1, W_cf) + b_f)\n",
    "    c_t = f_t * c_tm1 + i_t * act(theano.dot(x_t, W_xc) + theano.dot(h_tm1, W_hc) + b_c) \n",
    "    o_t = sigma(theano.dot(x_t, W_xo)+ theano.dot(h_tm1, W_ho) + theano.dot(c_t, W_co)  + b_o)\n",
    "    h_t = o_t * act(c_t)\n",
    "    y_t = sigma(theano.dot(h_t, W_hy) + b_y) \n",
    "    return [h_t, c_t, y_t]"
   ]
  },
  {
   "cell_type": "code",
   "execution_count": 23,
   "metadata": {
    "collapsed": true
   },
   "outputs": [],
   "source": [
    "#TODO: Use a more appropriate initialization method\n",
    "def sample_weights(sizeX, sizeY):\n",
    "    values = np.ndarray([sizeX, sizeY], dtype=dtype)\n",
    "    for dx in xrange(sizeX):\n",
    "        vals = np.random.uniform(low=-1., high=1.,  size=(sizeY,))\n",
    "        #vals_norm = np.sqrt((vals**2).sum())\n",
    "        #vals = vals / vals_norm\n",
    "        values[dx,:] = vals\n",
    "    _,svs,_ = np.linalg.svd(values)\n",
    "    #svs[0] is the largest singular value                      \n",
    "    values = values / svs[0]\n",
    "    return values  "
   ]
  },
  {
   "cell_type": "code",
   "execution_count": 24,
   "metadata": {
    "collapsed": false
   },
   "outputs": [],
   "source": [
    "n_in = 7 # for embedded reber grammar\n",
    "n_hidden = n_i = n_c = n_o = n_f = 10\n",
    "n_y = 7 # for embedded reber grammar\n",
    "\n",
    "# initialize weights\n",
    "# i_t and o_t should be \"open\" or \"closed\"\n",
    "# f_t should be \"open\" (don't forget at the beginning of training)\n",
    "# we try to archive this by appropriate initialization of the corresponding biases \n",
    "\n",
    "W_xi = theano.shared(sample_weights(n_in, n_i))  \n",
    "W_hi = theano.shared(sample_weights(n_hidden, n_i))  \n",
    "W_ci = theano.shared(sample_weights(n_c, n_i))  \n",
    "b_i = theano.shared(np.cast[dtype](np.random.uniform(-0.5,.5,size = n_i)))\n",
    "W_xf = theano.shared(sample_weights(n_in, n_f)) \n",
    "W_hf = theano.shared(sample_weights(n_hidden, n_f))\n",
    "W_cf = theano.shared(sample_weights(n_c, n_f))\n",
    "b_f = theano.shared(np.cast[dtype](np.random.uniform(0, 1.,size = n_f)))\n",
    "W_xc = theano.shared(sample_weights(n_in, n_c))  \n",
    "W_hc = theano.shared(sample_weights(n_hidden, n_c))\n",
    "b_c = theano.shared(np.zeros(n_c, dtype=dtype))\n",
    "W_xo = theano.shared(sample_weights(n_in, n_o))\n",
    "W_ho = theano.shared(sample_weights(n_hidden, n_o))\n",
    "W_co = theano.shared(sample_weights(n_c, n_o))\n",
    "b_o = theano.shared(np.cast[dtype](np.random.uniform(-0.5,.5,size = n_o)))\n",
    "W_hy = theano.shared(sample_weights(n_hidden, n_y))\n",
    "b_y = theano.shared(np.zeros(n_y, dtype=dtype))\n",
    "\n",
    "c0 = theano.shared(np.zeros(n_hidden, dtype=dtype))\n",
    "h0 = T.tanh(c0)\n",
    "\n",
    "params = [W_xi, W_hi, W_ci, b_i, W_xf, W_hf, W_cf, b_f, W_xc, W_hc, b_c, W_xo, W_ho, W_co, b_o, W_hy, b_y, c0]"
   ]
  },
  {
   "cell_type": "code",
   "execution_count": 28,
   "metadata": {
    "collapsed": false
   },
   "outputs": [],
   "source": [
    "#first dimension is time\n",
    "\n",
    "#input \n",
    "v = T.matrix(dtype=dtype)\n",
    "\n",
    "# target\n",
    "target = T.matrix(dtype=dtype)"
   ]
  },
  {
   "cell_type": "code",
   "execution_count": 16,
   "metadata": {
    "collapsed": true
   },
   "outputs": [],
   "source": [
    "# hidden and outputs of the entire sequence\n",
    "[h_vals, _, y_vals], _ = theano.scan(fn=one_lstm_step, \n",
    "                                  sequences = dict(input=v, taps=[0]), \n",
    "                                  outputs_info = [h0, c0, None ], # corresponds to return type of fn\n",
    "                                  non_sequences = [W_xi, W_hi, W_ci, b_i, W_xf, W_hf, W_cf, b_f, W_xc, W_hc, b_c, W_xo, W_ho, W_co, b_o, W_hy, b_y] )\n"
   ]
  },
  {
   "cell_type": "code",
   "execution_count": 17,
   "metadata": {
    "collapsed": true
   },
   "outputs": [],
   "source": [
    "cost = -T.mean(target * T.log(y_vals)+ (1.- target) * T.log(1. - y_vals))\n"
   ]
  },
  {
   "cell_type": "code",
   "execution_count": 18,
   "metadata": {
    "collapsed": true
   },
   "outputs": [],
   "source": [
    "# learning rate\n",
    "lr = np.cast[dtype](.1)\n",
    "learning_rate = theano.shared(lr)"
   ]
  },
  {
   "cell_type": "code",
   "execution_count": 19,
   "metadata": {
    "collapsed": true
   },
   "outputs": [],
   "source": [
    "gparams = []\n",
    "for param in params:\n",
    "  gparam = T.grad(cost, param)\n",
    "  gparams.append(gparam)\n",
    "\n",
    "updates=[]\n",
    "for param, gparam in zip(params, gparams):\n",
    "    updates.append((param, param - gparam * learning_rate))"
   ]
  },
  {
   "cell_type": "code",
   "execution_count": 20,
   "metadata": {
    "collapsed": true
   },
   "outputs": [],
   "source": [
    "learn_rnn_fn = theano.function(inputs = [v, target],\n",
    "                               outputs = cost,\n",
    "                               updates = updates)"
   ]
  },
  {
   "cell_type": "code",
   "execution_count": 21,
   "metadata": {
    "collapsed": true
   },
   "outputs": [],
   "source": [
    "nb_epochs=250\n",
    "train_errors = np.ndarray(nb_epochs)\n",
    "def train_rnn(train_data):      \n",
    "  for x in range(nb_epochs):\n",
    "    error = 0.\n",
    "    for j in range(len(train_data)):  \n",
    "        index = np.random.randint(0, len(train_data))\n",
    "        i, o = train_data[index]\n",
    "        train_cost = learn_rnn_fn(i, o)\n",
    "        error += train_cost\n",
    "    train_errors[x] = error \n",
    "    \n",
    "train_rnn(train_data)"
   ]
  },
  {
   "cell_type": "code",
   "execution_count": 22,
   "metadata": {
    "collapsed": false
   },
   "outputs": [
    {
     "data": {
      "text/plain": [
       "(0.0, 50)"
      ]
     },
     "execution_count": 22,
     "metadata": {},
     "output_type": "execute_result"
    },
    {
     "data": {
      "image/png": "[encoded data removed]",
      "text/plain": [
       "<matplotlib.figure.Figure at 0x7f5905fa3150>"
      ]
     },
     "metadata": {},
     "output_type": "display_data"
    }
   ],
   "source": [
    "plt.plot(np.arange(nb_epochs), train_errors, 'b-')\n",
    "plt.xlabel('epochs')\n",
    "plt.ylabel('error')\n",
    "plt.ylim(0., 50)"
   ]
  },
  {
   "cell_type": "code",
   "execution_count": 23,
   "metadata": {
    "collapsed": false
   },
   "outputs": [
    {
     "name": "stderr",
     "output_type": "stream",
     "text": [
      "<<!! BUG IN FGRAPH.REPLACE OR A LISTENER !!>> <type 'exceptions.TypeError'> ('The type of the replacement must be compatible with the type of the original Variable.', AllocEmpty{dtype='float64'}.0, AllocEmpty{dtype='float64'}.0, TensorType(float64, row), TensorType(float64, matrix), 'MergeOptimizer') MergeOptimizer\n",
      "ERROR (theano.gof.opt): SeqOptimizer apply MergeOptimizer\n",
      "ERROR (theano.gof.opt): Traceback:\n",
      "ERROR (theano.gof.opt): Traceback (most recent call last):\n",
      "  File \"/home/topolo/Public/anaconda2/lib/python2.7/site-packages/theano/gof/opt.py\", line 230, in apply\n",
      "    sub_prof = optimizer.optimize(fgraph)\n",
      "  File \"/home/topolo/Public/anaconda2/lib/python2.7/site-packages/theano/gof/opt.py\", line 89, in optimize\n",
      "    ret = self.apply(fgraph, *args, **kwargs)\n",
      "  File \"/home/topolo/Public/anaconda2/lib/python2.7/site-packages/theano/gof/opt.py\", line 817, in apply\n",
      "    fgraph.replace_all_validate(pairs, 'MergeOptimizer')\n",
      "  File \"/home/topolo/Public/anaconda2/lib/python2.7/site-packages/theano/gof/toolbox.py\", line 309, in replace_all_validate\n",
      "    fgraph.replace(r, new_r, reason=reason, verbose=False)\n",
      "  File \"/home/topolo/Public/anaconda2/lib/python2.7/site-packages/theano/gof/fg.py\", line 561, in replace\n",
      "    str(reason))\n",
      "TypeError: ('The type of the replacement must be compatible with the type of the original Variable.', AllocEmpty{dtype='float64'}.0, AllocEmpty{dtype='float64'}.0, TensorType(float64, row), TensorType(float64, matrix), 'MergeOptimizer')\n",
      "\n"
     ]
    },
    {
     "name": "stdout",
     "output_type": "stream",
     "text": [
      "[ 0.  1.  0.  0.  0.  0.  0.]\n",
      "[  2.43233675e-06   9.97954670e-01   2.64429935e-04   2.69863801e-04\n",
      "   1.88016371e-03   1.38660943e-03   5.84324931e-04]\n",
      "\n",
      "[ 0.  0.  0.  0.  1.  0.  0.]\n",
      "[  1.96756615e-07   1.35325788e-03   2.84242201e-04   3.04241353e-04\n",
      "   9.96710433e-01   6.36753491e-05   1.95325091e-03]\n",
      "\n",
      "[ 0.  0.  0.  0.  1.  0.  0.]\n",
      "[  1.76485516e-07   2.35432124e-03   4.16199149e-04   4.49826060e-04\n",
      "   9.96645648e-01   7.17373631e-05   1.36849868e-03]\n",
      "\n",
      "[ 0.  1.  0.  0.  0.  0.  0.]\n",
      "[  4.60176790e-06   9.98925203e-01   3.35967186e-04   3.36846540e-04\n",
      "   3.46051278e-04   1.78814571e-03   7.52967155e-04]\n",
      "\n",
      "[ 0.  0.  0.  0.  1.  0.  0.]\n",
      "[  1.87858571e-07   1.62966322e-03   3.50517392e-04   3.77439644e-04\n",
      "   9.96757444e-01   6.03820571e-05   1.67574070e-03]\n",
      "\n",
      "[ 0.  0.  0.  0.  1.  0.  0.]\n",
      "[  1.55065438e-07   4.00838690e-03   3.44138005e-04   3.73617135e-04\n",
      "   9.96538249e-01   7.98475749e-05   1.17616860e-03]\n",
      "\n",
      "[ 0.  0.  0.  0.  1.  0.  0.]\n",
      "[  2.10236734e-07   1.40785547e-03   4.73173202e-04   5.14319271e-04\n",
      "   9.96140950e-01   5.71095128e-05   1.63558240e-03]\n",
      "\n",
      "[ 0.  1.  0.  0.  0.  0.  0.]\n",
      "[  4.51384710e-06   9.98052202e-01   3.52941979e-04   3.59681719e-04\n",
      "   4.81956011e-04   1.32865006e-03   7.38808002e-04]\n",
      "\n",
      "[ 0.  0.  0.  0.  1.  0.  0.]\n",
      "[  1.54871944e-07   4.21813918e-03   1.99854250e-04   2.15277597e-04\n",
      "   9.96222372e-01   7.54026924e-05   1.47256315e-03]\n",
      "\n",
      "[ 0.  0.  0.  0.  1.  0.  0.]\n",
      "[  1.67411996e-07   2.84840073e-03   3.13914015e-04   3.38329435e-04\n",
      "   9.96608028e-01   7.51464581e-05   1.41701609e-03]\n",
      "\n"
     ]
    }
   ],
   "source": [
    "predictions = theano.function(inputs = [v], outputs = y_vals)\n",
    "\n",
    "test_data = reberGrammar.get_n_embedded_examples(10)\n",
    "\n",
    "def print_out(test_data):\n",
    "    for i,o in test_data:\n",
    "        p = predictions(i)\n",
    "        print o[-2] # target\n",
    "        print p[-2] # prediction\n",
    "        print \n",
    "print_out(test_data)"
   ]
  },
  {
   "cell_type": "code",
   "execution_count": 24,
   "metadata": {
    "collapsed": false
   },
   "outputs": [
    {
     "name": "stdout",
     "output_type": "stream",
     "text": [
      "1\n",
      "1\n",
      "\n",
      "4\n",
      "4\n",
      "\n",
      "4\n",
      "4\n",
      "\n",
      "1\n",
      "1\n",
      "\n",
      "4\n",
      "4\n",
      "\n",
      "4\n",
      "4\n",
      "\n",
      "4\n",
      "4\n",
      "\n",
      "1\n",
      "1\n",
      "\n",
      "4\n",
      "4\n",
      "\n",
      "4\n",
      "4\n",
      "\n"
     ]
    }
   ],
   "source": [
    "def print_out(test_data):\n",
    "    for i,o in test_data:\n",
    "        p = predictions(i)\n",
    "        print np.argmax( o[-2] ) # target\n",
    "        print np.argmax( p[-2] ) # prediction\n",
    "        print \n",
    "print_out(test_data)"
   ]
  },
  {
   "cell_type": "code",
   "execution_count": 15,
   "metadata": {
    "collapsed": true
   },
   "outputs": [],
   "source": [
    "test_data = reberGrammar.get_n_embedded_examples(10)"
   ]
  },
  {
   "cell_type": "code",
   "execution_count": 16,
   "metadata": {
    "collapsed": false
   },
   "outputs": [
    {
     "name": "stdout",
     "output_type": "stream",
     "text": [
      "<type 'list'>\n",
      "10\n",
      "<type 'list'>\n",
      "14\n"
     ]
    },
    {
     "data": {
      "text/plain": [
       "[array([ 0.,  1.,  0.,  0.,  1.,  0.,  0.]),\n",
       " array([ 1.,  0.,  0.,  0.,  0.,  0.,  0.]),\n",
       " array([ 0.,  1.,  0.,  0.,  1.,  0.,  0.]),\n",
       " array([ 0.,  1.,  0.,  0.,  0.,  1.,  0.]),\n",
       " array([ 0.,  1.,  0.,  0.,  0.,  1.,  0.]),\n",
       " array([ 0.,  0.,  0.,  0.,  1.,  1.,  0.]),\n",
       " array([ 0.,  0.,  1.,  1.,  0.,  0.,  0.]),\n",
       " array([ 0.,  1.,  0.,  0.,  0.,  1.,  0.]),\n",
       " array([ 0.,  1.,  0.,  0.,  0.,  1.,  0.]),\n",
       " array([ 0.,  1.,  0.,  0.,  0.,  1.,  0.]),\n",
       " array([ 0.,  0.,  0.,  0.,  1.,  1.,  0.]),\n",
       " array([ 0.,  0.,  0.,  0.,  0.,  0.,  1.]),\n",
       " array([ 0.,  0.,  0.,  0.,  1.,  0.,  0.]),\n",
       " array([ 0.,  0.,  0.,  0.,  0.,  0.,  1.])]"
      ]
     },
     "execution_count": 16,
     "metadata": {},
     "output_type": "execute_result"
    }
   ],
   "source": [
    "print(type(test_data));print( len( test_data));\n",
    "print( type( test_data[0][1] )); print( len(test_data[0][1])); test_data[0][1]"
   ]
  },
  {
   "cell_type": "code",
   "execution_count": 27,
   "metadata": {
    "collapsed": false
   },
   "outputs": [
    {
     "data": {
      "text/plain": [
       "(10,)"
      ]
     },
     "execution_count": 27,
     "metadata": {},
     "output_type": "execute_result"
    }
   ],
   "source": [
    "b_i.get_value().shape"
   ]
  },
  {
   "cell_type": "code",
   "execution_count": 14,
   "metadata": {
    "collapsed": true
   },
   "outputs": [],
   "source": [
    "sys.path.append( os.getcwd() + '/ML' )"
   ]
  },
  {
   "cell_type": "code",
   "execution_count": 15,
   "metadata": {
    "collapsed": false
   },
   "outputs": [
    {
     "name": "stdout",
     "output_type": "stream",
     "text": [
      "Total number of parameters: 17 \n"
     ]
    }
   ],
   "source": [
    "LSTM_model_Herta= LSTM_Model_right( L_Herta, s_l_Herta, n_hidden, n_y, activations_Herta, T.nnet.sigmoid)"
   ]
  },
  {
   "cell_type": "code",
   "execution_count": 18,
   "metadata": {
    "collapsed": false
   },
   "outputs": [
    {
     "data": {
      "text/plain": [
       "17"
      ]
     },
     "execution_count": 18,
     "metadata": {},
     "output_type": "execute_result"
    }
   ],
   "source": [
    "len( LSTM_model_Herta.params )"
   ]
  },
  {
   "cell_type": "code",
   "execution_count": 30,
   "metadata": {
    "collapsed": true
   },
   "outputs": [],
   "source": [
    "lstm_step_fxn = LSTM_model_Herta.build_lstm_step()"
   ]
  },
  {
   "cell_type": "code",
   "execution_count": 33,
   "metadata": {
    "collapsed": false
   },
   "outputs": [],
   "source": [
    "[h_vals_EY, _, y_vals_EY], _ = theano.scan(fn=lstm_step_fxn_EY, sequences=dict(input=v,taps=[0]), outputs_info=[h0,c0,None], \n",
    "               non_sequences = LSTM_model_Herta.params, \n",
    "               allow_gc=False) # comment this out to check if this flag helps or not"
   ]
  },
  {
   "cell_type": "code",
   "execution_count": 34,
   "metadata": {
    "collapsed": true
   },
   "outputs": [],
   "source": [
    "cost_EY = -T.mean(target * T.log(y_vals_EY) + (1.-target )* T.log(1.-y_vals_EY))"
   ]
  },
  {
   "cell_type": "code",
   "execution_count": null,
   "metadata": {
    "collapsed": true
   },
   "outputs": [],
   "source": []
  },
  {
   "cell_type": "code",
   "execution_count": 37,
   "metadata": {
    "collapsed": false
   },
   "outputs": [],
   "source": [
    "gparams_EY = []\n",
    "params_EY = LSTM_model_Herta.params\n",
    "for param in params_EY:\n",
    "  gparam = T.grad(cost_EY, param)\n",
    "  gparams_EY.append(gparam)\n",
    "\n",
    "updates_EY=[]\n",
    "for param, gparam in zip(params_EY, gparams_EY):\n",
    "    updates_EY.append((param, param - gparam * np.float32(0.1)))"
   ]
  },
  {
   "cell_type": "code",
   "execution_count": 41,
   "metadata": {
    "collapsed": false
   },
   "outputs": [
    {
     "name": "stdout",
     "output_type": "stream",
     "text": [
      "1000\n"
     ]
    }
   ],
   "source": [
    "print( len(train_data) )\n",
    "learn_rnn_fn_EY = theano.function(inputs=[v,target],outputs=cost_EY,updates = updates_EY)"
   ]
  },
  {
   "cell_type": "code",
   "execution_count": 42,
   "metadata": {
    "collapsed": true
   },
   "outputs": [],
   "source": [
    "nb_epochs=250\n",
    "train_errors = np.ndarray(nb_epochs)\n",
    "def train_rnn_EY(train_data):      \n",
    "  for j in range(nb_epochs):\n",
    "    error = 0.\n",
    "    for t in range(len(train_data)):  \n",
    "        index = np.random.randint(0, len(train_data))\n",
    "        i, o = train_data[index]\n",
    "        train_cost = learn_rnn_fn_EY(i, o)\n",
    "        error += train_cost\n",
    "    train_errors[x] = error "
   ]
  },
  {
   "cell_type": "code",
   "execution_count": 43,
   "metadata": {
    "collapsed": false
   },
   "outputs": [
    {
     "ename": "ValueError",
     "evalue": "dimension mismatch in args to gemv (10,7)x(10)->(10)\nApply node that caused the error: GpuGemv{no_inplace}(b1_copy[cuda], TensorConstant{1.0}, GpuDimShuffle{1,0}.0, GpuElemwise{Composite{(scalar_sigmoid((i0 + i1)) * tanh(i2))},no_inplace}.0, TensorConstant{1.0})\nToposort index: 31\nInputs types: [CudaNdarrayType(float32, vector), TensorType(float32, scalar), CudaNdarrayType(float32, matrix), CudaNdarrayType(float32, vector), TensorType(float32, scalar)]\nInputs shapes: [(10,), (), (10, 7), (10,), ()]\nInputs strides: [(1,), (), (1, 10), (1,), ()]\nInputs values: ['not shown', array(1.0, dtype=float32), 'not shown', 'not shown', array(1.0, dtype=float32)]\nOutputs clients: [[GpuElemwise{scalar_sigmoid,no_inplace}(GpuGemv{no_inplace}.0)]]\n\nHINT: Re-running with most Theano optimization disabled could give you a back-trace of when this node was created. This can be done with by setting the Theano flag 'optimizer=fast_compile'. If that does not work, Theano optimizations can be disabled with 'optimizer=None'.\nHINT: Use the Theano flag 'exception_verbosity=high' for a debugprint and storage map footprint of this apply node.\nApply node that caused the error: forall_inplace,gpu,scan_fn}(Shape_i{0}.0, GpuSubtensor{int64:int64:int8}.0, GpuIncSubtensor{Set;:int64:}.0, GpuIncSubtensor{InplaceSet;:int64:}.0, Shape_i{0}.0, Theta1, b1, theta1, Theta1, b1, theta1, W1, Theta1, b1, theta1, W1, Theta1, b1, theta1, W1, Theta1, b1)\nToposort index: 115\nInputs types: [TensorType(int64, scalar), CudaNdarrayType(float32, matrix), CudaNdarrayType(float32, matrix), CudaNdarrayType(float32, matrix), TensorType(int64, scalar), CudaNdarrayType(float32, matrix), CudaNdarrayType(float32, vector), CudaNdarrayType(float32, matrix), CudaNdarrayType(float32, matrix), CudaNdarrayType(float32, vector), CudaNdarrayType(float32, matrix), CudaNdarrayType(float32, matrix), CudaNdarrayType(float32, matrix), CudaNdarrayType(float32, vector), CudaNdarrayType(float32, matrix), CudaNdarrayType(float32, matrix), CudaNdarrayType(float32, matrix), CudaNdarrayType(float32, vector), CudaNdarrayType(float32, matrix), CudaNdarrayType(float32, matrix), CudaNdarrayType(float32, matrix), CudaNdarrayType(float32, vector)]\nInputs shapes: [(), (21, 7), (22, 10), (22, 10), (), (7, 10), (10,), (10, 10), (7, 10), (10,), (10, 10), (10, 10), (7, 10), (10,), (10, 10), (10, 10), (7, 10), (10,), (10, 10), (10, 10), (7, 10), (10,)]\nInputs strides: [(), (7, 1), (10, 1), (10, 1), (), (10, 1), (1,), (10, 1), (10, 1), (1,), (10, 1), (10, 1), (10, 1), (1,), (10, 1), (10, 1), (10, 1), (1,), (10, 1), (10, 1), (10, 1), (1,)]\nInputs values: [array(21), 'not shown', 'not shown', 'not shown', array(21), 'not shown', 'not shown', 'not shown', 'not shown', 'not shown', 'not shown', 'not shown', 'not shown', 'not shown', 'not shown', 'not shown', 'not shown', 'not shown', 'not shown', 'not shown', 'not shown', 'not shown']\nOutputs clients: [[GpuSubtensor{int64:int64:int64}(forall_inplace,gpu,scan_fn}.0, ScalarFromTensor.0, ScalarFromTensor.0, Constant{-1}), GpuSubtensor{int64:int64:int64}(forall_inplace,gpu,scan_fn}.0, ScalarFromTensor.0, ScalarFromTensor.0, Constant{-1})], [GpuSubtensor{int64:int64:int64}(forall_inplace,gpu,scan_fn}.1, ScalarFromTensor.0, ScalarFromTensor.0, Constant{-1}), GpuSubtensor{int64:int64:int64}(forall_inplace,gpu,scan_fn}.1, ScalarFromTensor.0, ScalarFromTensor.0, Constant{-1})], [GpuSubtensor{int64:int64:int64}(forall_inplace,gpu,scan_fn}.2, ScalarFromTensor.0, ScalarFromTensor.0, Constant{-1}), GpuElemwise{sub,no_inplace}(CudaNdarrayConstant{[[ 1.]]}, forall_inplace,gpu,scan_fn}.2), GpuElemwise{Composite{((i0 * log(i1)) + (i2 * log(i3)))}}[(0, 0)](GpuFromHost.0, forall_inplace,gpu,scan_fn}.2, GpuElemwise{sub,no_inplace}.0, GpuElemwise{sub,no_inplace}.0)]]\n\nHINT: Re-running with most Theano optimization disabled could give you a back-trace of when this node was created. This can be done with by setting the Theano flag 'optimizer=fast_compile'. If that does not work, Theano optimizations can be disabled with 'optimizer=None'.\nHINT: Use the Theano flag 'exception_verbosity=high' for a debugprint and storage map footprint of this apply node.",
     "output_type": "error",
     "traceback": [
      "\u001b[1;31m---------------------------------------------------------------------------\u001b[0m",
      "\u001b[1;31mValueError\u001b[0m                                Traceback (most recent call last)",
      "\u001b[1;32m<ipython-input-43-03a202ac023f>\u001b[0m in \u001b[0;36m<module>\u001b[1;34m()\u001b[0m\n\u001b[1;32m----> 1\u001b[1;33m \u001b[0mtrain_rnn_EY\u001b[0m\u001b[1;33m(\u001b[0m\u001b[0mtrain_data\u001b[0m\u001b[1;33m)\u001b[0m\u001b[1;33m\u001b[0m\u001b[0m\n\u001b[0m",
      "\u001b[1;32m<ipython-input-42-419b0e7d73b3>\u001b[0m in \u001b[0;36mtrain_rnn_EY\u001b[1;34m(train_data)\u001b[0m\n\u001b[0;32m      7\u001b[0m         \u001b[0mindex\u001b[0m \u001b[1;33m=\u001b[0m \u001b[0mnp\u001b[0m\u001b[1;33m.\u001b[0m\u001b[0mrandom\u001b[0m\u001b[1;33m.\u001b[0m\u001b[0mrandint\u001b[0m\u001b[1;33m(\u001b[0m\u001b[1;36m0\u001b[0m\u001b[1;33m,\u001b[0m \u001b[0mlen\u001b[0m\u001b[1;33m(\u001b[0m\u001b[0mtrain_data\u001b[0m\u001b[1;33m)\u001b[0m\u001b[1;33m)\u001b[0m\u001b[1;33m\u001b[0m\u001b[0m\n\u001b[0;32m      8\u001b[0m         \u001b[0mi\u001b[0m\u001b[1;33m,\u001b[0m \u001b[0mo\u001b[0m \u001b[1;33m=\u001b[0m \u001b[0mtrain_data\u001b[0m\u001b[1;33m[\u001b[0m\u001b[0mindex\u001b[0m\u001b[1;33m]\u001b[0m\u001b[1;33m\u001b[0m\u001b[0m\n\u001b[1;32m----> 9\u001b[1;33m         \u001b[0mtrain_cost\u001b[0m \u001b[1;33m=\u001b[0m \u001b[0mlearn_rnn_fn_EY\u001b[0m\u001b[1;33m(\u001b[0m\u001b[0mi\u001b[0m\u001b[1;33m,\u001b[0m \u001b[0mo\u001b[0m\u001b[1;33m)\u001b[0m\u001b[1;33m\u001b[0m\u001b[0m\n\u001b[0m\u001b[0;32m     10\u001b[0m         \u001b[0merror\u001b[0m \u001b[1;33m+=\u001b[0m \u001b[0mtrain_cost\u001b[0m\u001b[1;33m\u001b[0m\u001b[0m\n\u001b[0;32m     11\u001b[0m     \u001b[0mtrain_errors\u001b[0m\u001b[1;33m[\u001b[0m\u001b[0mx\u001b[0m\u001b[1;33m]\u001b[0m \u001b[1;33m=\u001b[0m \u001b[0merror\u001b[0m\u001b[1;33m\u001b[0m\u001b[0m\n",
      "\u001b[1;32m/home/topolo/Public/anaconda2/lib/python2.7/site-packages/theano/compile/function_module.pyc\u001b[0m in \u001b[0;36m__call__\u001b[1;34m(self, *args, **kwargs)\u001b[0m\n\u001b[0;32m    869\u001b[0m                     \u001b[0mnode\u001b[0m\u001b[1;33m=\u001b[0m\u001b[0mself\u001b[0m\u001b[1;33m.\u001b[0m\u001b[0mfn\u001b[0m\u001b[1;33m.\u001b[0m\u001b[0mnodes\u001b[0m\u001b[1;33m[\u001b[0m\u001b[0mself\u001b[0m\u001b[1;33m.\u001b[0m\u001b[0mfn\u001b[0m\u001b[1;33m.\u001b[0m\u001b[0mposition_of_error\u001b[0m\u001b[1;33m]\u001b[0m\u001b[1;33m,\u001b[0m\u001b[1;33m\u001b[0m\u001b[0m\n\u001b[0;32m    870\u001b[0m                     \u001b[0mthunk\u001b[0m\u001b[1;33m=\u001b[0m\u001b[0mthunk\u001b[0m\u001b[1;33m,\u001b[0m\u001b[1;33m\u001b[0m\u001b[0m\n\u001b[1;32m--> 871\u001b[1;33m                     storage_map=getattr(self.fn, 'storage_map', None))\n\u001b[0m\u001b[0;32m    872\u001b[0m             \u001b[1;32melse\u001b[0m\u001b[1;33m:\u001b[0m\u001b[1;33m\u001b[0m\u001b[0m\n\u001b[0;32m    873\u001b[0m                 \u001b[1;31m# old-style linkers raise their own exceptions\u001b[0m\u001b[1;33m\u001b[0m\u001b[1;33m\u001b[0m\u001b[0m\n",
      "\u001b[1;32m/home/topolo/Public/anaconda2/lib/python2.7/site-packages/theano/gof/link.pyc\u001b[0m in \u001b[0;36mraise_with_op\u001b[1;34m(node, thunk, exc_info, storage_map)\u001b[0m\n\u001b[0;32m    312\u001b[0m         \u001b[1;31m# extra long error message in that case.\u001b[0m\u001b[1;33m\u001b[0m\u001b[1;33m\u001b[0m\u001b[0m\n\u001b[0;32m    313\u001b[0m         \u001b[1;32mpass\u001b[0m\u001b[1;33m\u001b[0m\u001b[0m\n\u001b[1;32m--> 314\u001b[1;33m     \u001b[0mreraise\u001b[0m\u001b[1;33m(\u001b[0m\u001b[0mexc_type\u001b[0m\u001b[1;33m,\u001b[0m \u001b[0mexc_value\u001b[0m\u001b[1;33m,\u001b[0m \u001b[0mexc_trace\u001b[0m\u001b[1;33m)\u001b[0m\u001b[1;33m\u001b[0m\u001b[0m\n\u001b[0m\u001b[0;32m    315\u001b[0m \u001b[1;33m\u001b[0m\u001b[0m\n\u001b[0;32m    316\u001b[0m \u001b[1;33m\u001b[0m\u001b[0m\n",
      "\u001b[1;32m/home/topolo/Public/anaconda2/lib/python2.7/site-packages/theano/compile/function_module.pyc\u001b[0m in \u001b[0;36m__call__\u001b[1;34m(self, *args, **kwargs)\u001b[0m\n\u001b[0;32m    857\u001b[0m         \u001b[0mt0_fn\u001b[0m \u001b[1;33m=\u001b[0m \u001b[0mtime\u001b[0m\u001b[1;33m.\u001b[0m\u001b[0mtime\u001b[0m\u001b[1;33m(\u001b[0m\u001b[1;33m)\u001b[0m\u001b[1;33m\u001b[0m\u001b[0m\n\u001b[0;32m    858\u001b[0m         \u001b[1;32mtry\u001b[0m\u001b[1;33m:\u001b[0m\u001b[1;33m\u001b[0m\u001b[0m\n\u001b[1;32m--> 859\u001b[1;33m             \u001b[0moutputs\u001b[0m \u001b[1;33m=\u001b[0m \u001b[0mself\u001b[0m\u001b[1;33m.\u001b[0m\u001b[0mfn\u001b[0m\u001b[1;33m(\u001b[0m\u001b[1;33m)\u001b[0m\u001b[1;33m\u001b[0m\u001b[0m\n\u001b[0m\u001b[0;32m    860\u001b[0m         \u001b[1;32mexcept\u001b[0m \u001b[0mException\u001b[0m\u001b[1;33m:\u001b[0m\u001b[1;33m\u001b[0m\u001b[0m\n\u001b[0;32m    861\u001b[0m             \u001b[1;32mif\u001b[0m \u001b[0mhasattr\u001b[0m\u001b[1;33m(\u001b[0m\u001b[0mself\u001b[0m\u001b[1;33m.\u001b[0m\u001b[0mfn\u001b[0m\u001b[1;33m,\u001b[0m \u001b[1;34m'position_of_error'\u001b[0m\u001b[1;33m)\u001b[0m\u001b[1;33m:\u001b[0m\u001b[1;33m\u001b[0m\u001b[0m\n",
      "\u001b[1;32m/home/topolo/Public/anaconda2/lib/python2.7/site-packages/theano/scan_module/scan_op.pyc\u001b[0m in \u001b[0;36mrval\u001b[1;34m(p, i, o, n, allow_gc)\u001b[0m\n\u001b[0;32m    949\u001b[0m         def rval(p=p, i=node_input_storage, o=node_output_storage, n=node,\n\u001b[0;32m    950\u001b[0m                  allow_gc=allow_gc):\n\u001b[1;32m--> 951\u001b[1;33m             \u001b[0mr\u001b[0m \u001b[1;33m=\u001b[0m \u001b[0mp\u001b[0m\u001b[1;33m(\u001b[0m\u001b[0mn\u001b[0m\u001b[1;33m,\u001b[0m \u001b[1;33m[\u001b[0m\u001b[0mx\u001b[0m\u001b[1;33m[\u001b[0m\u001b[1;36m0\u001b[0m\u001b[1;33m]\u001b[0m \u001b[1;32mfor\u001b[0m \u001b[0mx\u001b[0m \u001b[1;32min\u001b[0m \u001b[0mi\u001b[0m\u001b[1;33m]\u001b[0m\u001b[1;33m,\u001b[0m \u001b[0mo\u001b[0m\u001b[1;33m)\u001b[0m\u001b[1;33m\u001b[0m\u001b[0m\n\u001b[0m\u001b[0;32m    952\u001b[0m             \u001b[1;32mfor\u001b[0m \u001b[0mo\u001b[0m \u001b[1;32min\u001b[0m \u001b[0mnode\u001b[0m\u001b[1;33m.\u001b[0m\u001b[0moutputs\u001b[0m\u001b[1;33m:\u001b[0m\u001b[1;33m\u001b[0m\u001b[0m\n\u001b[0;32m    953\u001b[0m                 \u001b[0mcompute_map\u001b[0m\u001b[1;33m[\u001b[0m\u001b[0mo\u001b[0m\u001b[1;33m]\u001b[0m\u001b[1;33m[\u001b[0m\u001b[1;36m0\u001b[0m\u001b[1;33m]\u001b[0m \u001b[1;33m=\u001b[0m \u001b[0mTrue\u001b[0m\u001b[1;33m\u001b[0m\u001b[0m\n",
      "\u001b[1;32m/home/topolo/Public/anaconda2/lib/python2.7/site-packages/theano/scan_module/scan_op.pyc\u001b[0m in \u001b[0;36m<lambda>\u001b[1;34m(node, args, outs)\u001b[0m\n\u001b[0;32m    938\u001b[0m                         \u001b[0margs\u001b[0m\u001b[1;33m,\u001b[0m\u001b[1;33m\u001b[0m\u001b[0m\n\u001b[0;32m    939\u001b[0m                         \u001b[0mouts\u001b[0m\u001b[1;33m,\u001b[0m\u001b[1;33m\u001b[0m\u001b[0m\n\u001b[1;32m--> 940\u001b[1;33m                         self, node)\n\u001b[0m\u001b[0;32m    941\u001b[0m         \u001b[1;32mexcept\u001b[0m \u001b[1;33m(\u001b[0m\u001b[0mImportError\u001b[0m\u001b[1;33m,\u001b[0m \u001b[0mtheano\u001b[0m\u001b[1;33m.\u001b[0m\u001b[0mgof\u001b[0m\u001b[1;33m.\u001b[0m\u001b[0mcmodule\u001b[0m\u001b[1;33m.\u001b[0m\u001b[0mMissingGXX\u001b[0m\u001b[1;33m)\u001b[0m\u001b[1;33m:\u001b[0m\u001b[1;33m\u001b[0m\u001b[0m\n\u001b[0;32m    942\u001b[0m             \u001b[0mp\u001b[0m \u001b[1;33m=\u001b[0m \u001b[0mself\u001b[0m\u001b[1;33m.\u001b[0m\u001b[0mexecute\u001b[0m\u001b[1;33m\u001b[0m\u001b[0m\n",
      "\u001b[1;32mtheano/scan_module/scan_perform.pyx\u001b[0m in \u001b[0;36mtheano.scan_module.scan_perform.perform (/home/topolo/.theano/compiledir_Linux-4.2-fc23.x86_64-x86_64-with-fedora-23-Twenty_Three-x86_64-2.7.11-64/scan_perform/mod.cpp:4316)\u001b[1;34m()\u001b[0m\n",
      "\u001b[1;32m/home/topolo/Public/anaconda2/lib/python2.7/site-packages/theano/gof/link.pyc\u001b[0m in \u001b[0;36mraise_with_op\u001b[1;34m(node, thunk, exc_info, storage_map)\u001b[0m\n\u001b[0;32m    312\u001b[0m         \u001b[1;31m# extra long error message in that case.\u001b[0m\u001b[1;33m\u001b[0m\u001b[1;33m\u001b[0m\u001b[0m\n\u001b[0;32m    313\u001b[0m         \u001b[1;32mpass\u001b[0m\u001b[1;33m\u001b[0m\u001b[0m\n\u001b[1;32m--> 314\u001b[1;33m     \u001b[0mreraise\u001b[0m\u001b[1;33m(\u001b[0m\u001b[0mexc_type\u001b[0m\u001b[1;33m,\u001b[0m \u001b[0mexc_value\u001b[0m\u001b[1;33m,\u001b[0m \u001b[0mexc_trace\u001b[0m\u001b[1;33m)\u001b[0m\u001b[1;33m\u001b[0m\u001b[0m\n\u001b[0m\u001b[0;32m    315\u001b[0m \u001b[1;33m\u001b[0m\u001b[0m\n\u001b[0;32m    316\u001b[0m \u001b[1;33m\u001b[0m\u001b[0m\n",
      "\u001b[1;32mtheano/scan_module/scan_perform.pyx\u001b[0m in \u001b[0;36mtheano.scan_module.scan_perform.perform (/home/topolo/.theano/compiledir_Linux-4.2-fc23.x86_64-x86_64-with-fedora-23-Twenty_Three-x86_64-2.7.11-64/scan_perform/mod.cpp:4193)\u001b[1;34m()\u001b[0m\n",
      "\u001b[1;31mValueError\u001b[0m: dimension mismatch in args to gemv (10,7)x(10)->(10)\nApply node that caused the error: GpuGemv{no_inplace}(b1_copy[cuda], TensorConstant{1.0}, GpuDimShuffle{1,0}.0, GpuElemwise{Composite{(scalar_sigmoid((i0 + i1)) * tanh(i2))},no_inplace}.0, TensorConstant{1.0})\nToposort index: 31\nInputs types: [CudaNdarrayType(float32, vector), TensorType(float32, scalar), CudaNdarrayType(float32, matrix), CudaNdarrayType(float32, vector), TensorType(float32, scalar)]\nInputs shapes: [(10,), (), (10, 7), (10,), ()]\nInputs strides: [(1,), (), (1, 10), (1,), ()]\nInputs values: ['not shown', array(1.0, dtype=float32), 'not shown', 'not shown', array(1.0, dtype=float32)]\nOutputs clients: [[GpuElemwise{scalar_sigmoid,no_inplace}(GpuGemv{no_inplace}.0)]]\n\nHINT: Re-running with most Theano optimization disabled could give you a back-trace of when this node was created. This can be done with by setting the Theano flag 'optimizer=fast_compile'. If that does not work, Theano optimizations can be disabled with 'optimizer=None'.\nHINT: Use the Theano flag 'exception_verbosity=high' for a debugprint and storage map footprint of this apply node.\nApply node that caused the error: forall_inplace,gpu,scan_fn}(Shape_i{0}.0, GpuSubtensor{int64:int64:int8}.0, GpuIncSubtensor{Set;:int64:}.0, GpuIncSubtensor{InplaceSet;:int64:}.0, Shape_i{0}.0, Theta1, b1, theta1, Theta1, b1, theta1, W1, Theta1, b1, theta1, W1, Theta1, b1, theta1, W1, Theta1, b1)\nToposort index: 115\nInputs types: [TensorType(int64, scalar), CudaNdarrayType(float32, matrix), CudaNdarrayType(float32, matrix), CudaNdarrayType(float32, matrix), TensorType(int64, scalar), CudaNdarrayType(float32, matrix), CudaNdarrayType(float32, vector), CudaNdarrayType(float32, matrix), CudaNdarrayType(float32, matrix), CudaNdarrayType(float32, vector), CudaNdarrayType(float32, matrix), CudaNdarrayType(float32, matrix), CudaNdarrayType(float32, matrix), CudaNdarrayType(float32, vector), CudaNdarrayType(float32, matrix), CudaNdarrayType(float32, matrix), CudaNdarrayType(float32, matrix), CudaNdarrayType(float32, vector), CudaNdarrayType(float32, matrix), CudaNdarrayType(float32, matrix), CudaNdarrayType(float32, matrix), CudaNdarrayType(float32, vector)]\nInputs shapes: [(), (21, 7), (22, 10), (22, 10), (), (7, 10), (10,), (10, 10), (7, 10), (10,), (10, 10), (10, 10), (7, 10), (10,), (10, 10), (10, 10), (7, 10), (10,), (10, 10), (10, 10), (7, 10), (10,)]\nInputs strides: [(), (7, 1), (10, 1), (10, 1), (), (10, 1), (1,), (10, 1), (10, 1), (1,), (10, 1), (10, 1), (10, 1), (1,), (10, 1), (10, 1), (10, 1), (1,), (10, 1), (10, 1), (10, 1), (1,)]\nInputs values: [array(21), 'not shown', 'not shown', 'not shown', array(21), 'not shown', 'not shown', 'not shown', 'not shown', 'not shown', 'not shown', 'not shown', 'not shown', 'not shown', 'not shown', 'not shown', 'not shown', 'not shown', 'not shown', 'not shown', 'not shown', 'not shown']\nOutputs clients: [[GpuSubtensor{int64:int64:int64}(forall_inplace,gpu,scan_fn}.0, ScalarFromTensor.0, ScalarFromTensor.0, Constant{-1}), GpuSubtensor{int64:int64:int64}(forall_inplace,gpu,scan_fn}.0, ScalarFromTensor.0, ScalarFromTensor.0, Constant{-1})], [GpuSubtensor{int64:int64:int64}(forall_inplace,gpu,scan_fn}.1, ScalarFromTensor.0, ScalarFromTensor.0, Constant{-1}), GpuSubtensor{int64:int64:int64}(forall_inplace,gpu,scan_fn}.1, ScalarFromTensor.0, ScalarFromTensor.0, Constant{-1})], [GpuSubtensor{int64:int64:int64}(forall_inplace,gpu,scan_fn}.2, ScalarFromTensor.0, ScalarFromTensor.0, Constant{-1}), GpuElemwise{sub,no_inplace}(CudaNdarrayConstant{[[ 1.]]}, forall_inplace,gpu,scan_fn}.2), GpuElemwise{Composite{((i0 * log(i1)) + (i2 * log(i3)))}}[(0, 0)](GpuFromHost.0, forall_inplace,gpu,scan_fn}.2, GpuElemwise{sub,no_inplace}.0, GpuElemwise{sub,no_inplace}.0)]]\n\nHINT: Re-running with most Theano optimization disabled could give you a back-trace of when this node was created. This can be done with by setting the Theano flag 'optimizer=fast_compile'. If that does not work, Theano optimizations can be disabled with 'optimizer=None'.\nHINT: Use the Theano flag 'exception_verbosity=high' for a debugprint and storage map footprint of this apply node."
     ]
    }
   ],
   "source": [
    "train_rnn_EY(train_data)"
   ]
  },
  {
   "cell_type": "code",
   "execution_count": null,
   "metadata": {
    "collapsed": true
   },
   "outputs": [],
   "source": []
  },
  {
   "cell_type": "code",
   "execution_count": 11,
   "metadata": {
    "collapsed": true
   },
   "outputs": [],
   "source": [
    "import LSTM\n",
    "from LSTM import Gates, Psis, LSTM_Model, MemoryBlock"
   ]
  },
  {
   "cell_type": "code",
   "execution_count": 16,
   "metadata": {
    "collapsed": false
   },
   "outputs": [],
   "source": [
    "L_Herta = Gates(g=2,i=2,f=2,o=2)\n",
    "s_l_Herta = Gates(g=[n_in,n_c],i=[n_in,n_i],f=[n_in,n_f],o=[n_in,n_o])\n",
    "activations_Herta = Psis(g=(T.tanh, T.tanh), i=(T.nnet.sigmoid, T.nnet.sigmoid),f=(T.nnet.sigmoid, T.nnet.sigmoid),\n",
    "                         o=(T.nnet.sigmoid, T.nnet.sigmoid),h=(T.tanh,))"
   ]
  },
  {
   "cell_type": "code",
   "execution_count": 19,
   "metadata": {
    "collapsed": false
   },
   "outputs": [
    {
     "name": "stdout",
     "output_type": "stream",
     "text": [
      "Total number of parameters: 17 \n"
     ]
    }
   ],
   "source": [
    "LSTM_model_Herta= LSTM_Model( L_Herta, s_l_Herta, activations_Herta, T.nnet.sigmoid, n_y)\n",
    "lstm_step_fxn = LSTM_model_Herta.build_lstm_step()\n",
    "MemBlck_Herta = MemoryBlock(LSTM_model_Herta)"
   ]
  },
  {
   "cell_type": "code",
   "execution_count": 31,
   "metadata": {
    "collapsed": false
   },
   "outputs": [
    {
     "ename": "ValueError",
     "evalue": "get_scalar_constant_value detected deterministic IndexError: x.shape[1] when x.ndim=1. x=Subtensor{int64}.0",
     "output_type": "error",
     "traceback": [
      "\u001b[1;31m---------------------------------------------------------------------------\u001b[0m",
      "\u001b[1;31mValueError\u001b[0m                                Traceback (most recent call last)",
      "\u001b[1;32m<ipython-input-31-fe1731dc90bb>\u001b[0m in \u001b[0;36m<module>\u001b[1;34m()\u001b[0m\n\u001b[1;32m----> 1\u001b[1;33m \u001b[0mtheano\u001b[0m\u001b[1;33m.\u001b[0m\u001b[0mscan\u001b[0m\u001b[1;33m(\u001b[0m\u001b[0mfn\u001b[0m\u001b[1;33m=\u001b[0m\u001b[0mlstm_step_fxn\u001b[0m\u001b[1;33m,\u001b[0m \u001b[0msequences\u001b[0m\u001b[1;33m=\u001b[0m\u001b[0mdict\u001b[0m\u001b[1;33m(\u001b[0m\u001b[0minput\u001b[0m\u001b[1;33m=\u001b[0m\u001b[0mv\u001b[0m\u001b[1;33m,\u001b[0m\u001b[0mtaps\u001b[0m\u001b[1;33m=\u001b[0m\u001b[1;33m[\u001b[0m\u001b[1;36m0\u001b[0m\u001b[1;33m]\u001b[0m\u001b[1;33m)\u001b[0m\u001b[1;33m,\u001b[0m\u001b[0moutputs_info\u001b[0m \u001b[1;33m=\u001b[0m\u001b[1;33m[\u001b[0m\u001b[0mh0\u001b[0m\u001b[1;33m,\u001b[0m\u001b[0mc0\u001b[0m\u001b[1;33m,\u001b[0m\u001b[0mNone\u001b[0m\u001b[1;33m]\u001b[0m\u001b[1;33m)\u001b[0m\u001b[1;33m\u001b[0m\u001b[0m\n\u001b[0m",
      "\u001b[1;32m/home/topolo/Public/anaconda2/lib/python2.7/site-packages/theano/scan_module/scan.pyc\u001b[0m in \u001b[0;36mscan\u001b[1;34m(fn, sequences, outputs_info, non_sequences, n_steps, truncate_gradient, go_backwards, mode, name, profile, allow_gc, strict)\u001b[0m\n\u001b[0;32m    743\u001b[0m     \u001b[1;31m# and outputs that needs to be separated\u001b[0m\u001b[1;33m\u001b[0m\u001b[1;33m\u001b[0m\u001b[0m\n\u001b[0;32m    744\u001b[0m \u001b[1;33m\u001b[0m\u001b[0m\n\u001b[1;32m--> 745\u001b[1;33m     \u001b[0mcondition\u001b[0m\u001b[1;33m,\u001b[0m \u001b[0moutputs\u001b[0m\u001b[1;33m,\u001b[0m \u001b[0mupdates\u001b[0m \u001b[1;33m=\u001b[0m \u001b[0mscan_utils\u001b[0m\u001b[1;33m.\u001b[0m\u001b[0mget_updates_and_outputs\u001b[0m\u001b[1;33m(\u001b[0m\u001b[0mfn\u001b[0m\u001b[1;33m(\u001b[0m\u001b[1;33m*\u001b[0m\u001b[0margs\u001b[0m\u001b[1;33m)\u001b[0m\u001b[1;33m)\u001b[0m\u001b[1;33m\u001b[0m\u001b[0m\n\u001b[0m\u001b[0;32m    746\u001b[0m     \u001b[1;32mif\u001b[0m \u001b[0mcondition\u001b[0m \u001b[1;32mis\u001b[0m \u001b[1;32mnot\u001b[0m \u001b[0mNone\u001b[0m\u001b[1;33m:\u001b[0m\u001b[1;33m\u001b[0m\u001b[0m\n\u001b[0;32m    747\u001b[0m         \u001b[0mas_while\u001b[0m \u001b[1;33m=\u001b[0m \u001b[0mTrue\u001b[0m\u001b[1;33m\u001b[0m\u001b[0m\n",
      "\u001b[1;32m/home/topolo/PropD/MLgrabbag/ML/LSTM.py\u001b[0m in \u001b[0;36mlstm_step\u001b[1;34m(X_t, h_tm1, c_tm1, *args_for_params)\u001b[0m\n\u001b[0;32m    795\u001b[0m                 \u001b[1;32mdef\u001b[0m \u001b[0mlstm_step\u001b[0m\u001b[1;33m(\u001b[0m\u001b[0mX_t\u001b[0m\u001b[1;33m,\u001b[0m \u001b[0mh_tm1\u001b[0m\u001b[1;33m,\u001b[0m \u001b[0mc_tm1\u001b[0m\u001b[1;33m,\u001b[0m \u001b[1;33m*\u001b[0m\u001b[0margs_for_params\u001b[0m\u001b[1;33m)\u001b[0m\u001b[1;33m:\u001b[0m\u001b[1;33m\u001b[0m\u001b[0m\n\u001b[0;32m    796\u001b[0m \u001b[1;33m\u001b[0m\u001b[0m\n\u001b[1;32m--> 797\u001b[1;33m                         \u001b[0mg_t\u001b[0m \u001b[1;33m=\u001b[0m \u001b[0mself\u001b[0m\u001b[1;33m.\u001b[0m\u001b[0m_gates\u001b[0m\u001b[1;33m.\u001b[0m\u001b[0mg\u001b[0m\u001b[1;33m.\u001b[0m\u001b[0mconnect_through\u001b[0m\u001b[1;33m(\u001b[0m\u001b[0mX_t\u001b[0m\u001b[1;33m,\u001b[0m \u001b[0mh_tm1\u001b[0m\u001b[1;33m)\u001b[0m\u001b[1;33m\u001b[0m\u001b[0m\n\u001b[0m\u001b[0;32m    798\u001b[0m                         \u001b[0mi_t\u001b[0m \u001b[1;33m=\u001b[0m \u001b[0mself\u001b[0m\u001b[1;33m.\u001b[0m\u001b[0m_gates\u001b[0m\u001b[1;33m.\u001b[0m\u001b[0mi\u001b[0m\u001b[1;33m.\u001b[0m\u001b[0mconnect_through\u001b[0m\u001b[1;33m(\u001b[0m\u001b[0mX_t\u001b[0m\u001b[1;33m,\u001b[0m \u001b[0mh_tm1\u001b[0m\u001b[1;33m,\u001b[0m \u001b[0mc_tm1\u001b[0m\u001b[1;33m)\u001b[0m\u001b[1;33m\u001b[0m\u001b[0m\n\u001b[0;32m    799\u001b[0m                         \u001b[0mf_t\u001b[0m \u001b[1;33m=\u001b[0m \u001b[0mself\u001b[0m\u001b[1;33m.\u001b[0m\u001b[0m_gates\u001b[0m\u001b[1;33m.\u001b[0m\u001b[0mf\u001b[0m\u001b[1;33m.\u001b[0m\u001b[0mconnect_through\u001b[0m\u001b[1;33m(\u001b[0m\u001b[0mX_t\u001b[0m\u001b[1;33m,\u001b[0m \u001b[0mh_tm1\u001b[0m\u001b[1;33m,\u001b[0m \u001b[0mc_tm1\u001b[0m\u001b[1;33m)\u001b[0m\u001b[1;33m\u001b[0m\u001b[0m\n",
      "\u001b[1;32m/home/topolo/PropD/MLgrabbag/ML/LSTM.py\u001b[0m in \u001b[0;36mconnect_through\u001b[1;34m(self, X_t, h_tm1)\u001b[0m\n\u001b[0;32m    347\u001b[0m                 \u001b[0mself\u001b[0m\u001b[1;33m.\u001b[0m\u001b[0mThetabs\u001b[0m\u001b[1;33m[\u001b[0m\u001b[1;36m0\u001b[0m\u001b[1;33m]\u001b[0m\u001b[1;33m.\u001b[0m\u001b[0mal\u001b[0m \u001b[1;33m=\u001b[0m \u001b[0mX_t\u001b[0m\u001b[1;33m\u001b[0m\u001b[0m\n\u001b[0;32m    348\u001b[0m                 \u001b[0mself\u001b[0m\u001b[1;33m.\u001b[0m\u001b[0mThetabs\u001b[0m\u001b[1;33m[\u001b[0m\u001b[1;36m0\u001b[0m\u001b[1;33m]\u001b[0m\u001b[1;33m.\u001b[0m\u001b[0my\u001b[0m  \u001b[1;33m=\u001b[0m \u001b[0mh_tm1\u001b[0m\u001b[1;33m\u001b[0m\u001b[0m\n\u001b[1;32m--> 349\u001b[1;33m                 \u001b[0mself\u001b[0m\u001b[1;33m.\u001b[0m\u001b[0mThetabs\u001b[0m\u001b[1;33m[\u001b[0m\u001b[1;36m0\u001b[0m\u001b[1;33m]\u001b[0m\u001b[1;33m.\u001b[0m\u001b[0mconnect_through\u001b[0m\u001b[1;33m(\u001b[0m\u001b[1;33m)\u001b[0m\u001b[1;33m\u001b[0m\u001b[0m\n\u001b[0m\u001b[0;32m    350\u001b[0m \u001b[1;33m\u001b[0m\u001b[0m\n\u001b[0;32m    351\u001b[0m                 \u001b[1;32mfor\u001b[0m \u001b[0ml\u001b[0m \u001b[1;32min\u001b[0m \u001b[0mrange\u001b[0m\u001b[1;33m(\u001b[0m\u001b[1;36m2\u001b[0m\u001b[1;33m,\u001b[0m\u001b[0mL\u001b[0m\u001b[1;33m)\u001b[0m\u001b[1;33m:\u001b[0m \u001b[1;31m# l=2,3,...L-1, for each of the Theta operations between layers l\u001b[0m\u001b[1;33m\u001b[0m\u001b[0m\n",
      "\u001b[1;32m/home/topolo/PropD/MLgrabbag/ML/LSTM.py\u001b[0m in \u001b[0;36mconnect_through\u001b[1;34m(self)\u001b[0m\n\u001b[0;32m    271\u001b[0m \t\tlin_zlp1 = T.dot( self.Theta, \n\u001b[0;32m    272\u001b[0m                                                         \u001b[0mself\u001b[0m\u001b[1;33m.\u001b[0m\u001b[0mal\u001b[0m\u001b[1;33m)\u001b[0m\u001b[1;33m+\u001b[0m\u001b[0mT\u001b[0m\u001b[1;33m.\u001b[0m\u001b[0mtile\u001b[0m\u001b[1;33m(\u001b[0m\u001b[0mself\u001b[0m\u001b[1;33m.\u001b[0m\u001b[0mb\u001b[0m\u001b[1;33m,\u001b[0m\u001b[1;33m\u001b[0m\u001b[0m\n\u001b[1;32m--> 273\u001b[1;33m                                                                                         \u001b[1;33m(\u001b[0m\u001b[1;36m1\u001b[0m\u001b[1;33m,\u001b[0m\u001b[0mself\u001b[0m\u001b[1;33m.\u001b[0m\u001b[0mal\u001b[0m\u001b[1;33m.\u001b[0m\u001b[0mshape\u001b[0m\u001b[1;33m[\u001b[0m\u001b[1;36m1\u001b[0m\u001b[1;33m]\u001b[0m\u001b[1;33m.\u001b[0m\u001b[0mastype\u001b[0m\u001b[1;33m(\u001b[0m\u001b[1;34m'int32'\u001b[0m\u001b[1;33m)\u001b[0m\u001b[1;33m)\u001b[0m\u001b[1;33m)\u001b[0m \u001b[1;33m+\u001b[0m \u001b[0mT\u001b[0m\u001b[1;33m.\u001b[0m\u001b[0mdot\u001b[0m\u001b[1;33m(\u001b[0m \u001b[0mself\u001b[0m\u001b[1;33m.\u001b[0m\u001b[0mtheta\u001b[0m\u001b[1;33m,\u001b[0m\u001b[1;33m\u001b[0m\u001b[0m\n\u001b[0m\u001b[0;32m    274\u001b[0m \t\t\t\t\t\t\t\t\t\t\t\t\t\t\t\t\t\t\t\t\t\t\tself.y) # z^{(l+1)}\n\u001b[0;32m    275\u001b[0m                 \u001b[1;32mif\u001b[0m \u001b[0mself\u001b[0m\u001b[1;33m.\u001b[0m\u001b[0mpsi\u001b[0m \u001b[1;32mis\u001b[0m \u001b[0mNone\u001b[0m\u001b[1;33m:\u001b[0m\u001b[1;33m\u001b[0m\u001b[0m\n",
      "\u001b[1;32m/home/topolo/Public/anaconda2/lib/python2.7/site-packages/theano/tensor/basic.pyc\u001b[0m in \u001b[0;36mtile\u001b[1;34m(x, reps, ndim)\u001b[0m\n\u001b[0;32m   4931\u001b[0m     \u001b[0mshape\u001b[0m \u001b[1;33m=\u001b[0m \u001b[1;33m[\u001b[0m\u001b[1;36m1\u001b[0m\u001b[1;33m]\u001b[0m \u001b[1;33m*\u001b[0m \u001b[1;33m(\u001b[0m\u001b[0mndim\u001b[0m \u001b[1;33m-\u001b[0m \u001b[0mx\u001b[0m\u001b[1;33m.\u001b[0m\u001b[0mndim\u001b[0m\u001b[1;33m)\u001b[0m \u001b[1;33m+\u001b[0m \u001b[1;33m[\u001b[0m\u001b[0mx\u001b[0m\u001b[1;33m.\u001b[0m\u001b[0mshape\u001b[0m\u001b[1;33m[\u001b[0m\u001b[0mi\u001b[0m\u001b[1;33m]\u001b[0m \u001b[1;32mfor\u001b[0m \u001b[0mi\u001b[0m \u001b[1;32min\u001b[0m \u001b[0mxrange\u001b[0m\u001b[1;33m(\u001b[0m\u001b[0mx\u001b[0m\u001b[1;33m.\u001b[0m\u001b[0mndim\u001b[0m\u001b[1;33m)\u001b[0m\u001b[1;33m]\u001b[0m\u001b[1;33m\u001b[0m\u001b[0m\n\u001b[0;32m   4932\u001b[0m     \u001b[0malloc_shape\u001b[0m \u001b[1;33m=\u001b[0m \u001b[0mreps\u001b[0m \u001b[1;33m+\u001b[0m \u001b[0mshape\u001b[0m\u001b[1;33m\u001b[0m\u001b[0m\n\u001b[1;32m-> 4933\u001b[1;33m     \u001b[0my\u001b[0m \u001b[1;33m=\u001b[0m \u001b[0malloc\u001b[0m\u001b[1;33m(\u001b[0m\u001b[0mx\u001b[0m\u001b[1;33m,\u001b[0m \u001b[1;33m*\u001b[0m\u001b[0malloc_shape\u001b[0m\u001b[1;33m)\u001b[0m\u001b[1;33m\u001b[0m\u001b[0m\n\u001b[0m\u001b[0;32m   4934\u001b[0m     \u001b[0mshuffle_ind\u001b[0m \u001b[1;33m=\u001b[0m \u001b[0mnumpy\u001b[0m\u001b[1;33m.\u001b[0m\u001b[0marange\u001b[0m\u001b[1;33m(\u001b[0m\u001b[0mndim\u001b[0m \u001b[1;33m*\u001b[0m \u001b[1;36m2\u001b[0m\u001b[1;33m)\u001b[0m\u001b[1;33m.\u001b[0m\u001b[0mreshape\u001b[0m\u001b[1;33m(\u001b[0m\u001b[1;36m2\u001b[0m\u001b[1;33m,\u001b[0m \u001b[0mndim\u001b[0m\u001b[1;33m)\u001b[0m\u001b[1;33m\u001b[0m\u001b[0m\n\u001b[0;32m   4935\u001b[0m     \u001b[0mshuffle_ind\u001b[0m \u001b[1;33m=\u001b[0m \u001b[0mshuffle_ind\u001b[0m\u001b[1;33m.\u001b[0m\u001b[0mtranspose\u001b[0m\u001b[1;33m(\u001b[0m\u001b[1;33m)\u001b[0m\u001b[1;33m.\u001b[0m\u001b[0mflatten\u001b[0m\u001b[1;33m(\u001b[0m\u001b[1;33m)\u001b[0m\u001b[1;33m\u001b[0m\u001b[0m\n",
      "\u001b[1;32m/home/topolo/Public/anaconda2/lib/python2.7/site-packages/theano/tensor/basic.pyc\u001b[0m in \u001b[0;36m__call__\u001b[1;34m(self, val, *shapes, **kwargs)\u001b[0m\n\u001b[0;32m   2808\u001b[0m \u001b[1;33m\u001b[0m\u001b[0m\n\u001b[0;32m   2809\u001b[0m         \"\"\"\n\u001b[1;32m-> 2810\u001b[1;33m         \u001b[0mret\u001b[0m \u001b[1;33m=\u001b[0m \u001b[0msuper\u001b[0m\u001b[1;33m(\u001b[0m\u001b[0mAlloc\u001b[0m\u001b[1;33m,\u001b[0m \u001b[0mself\u001b[0m\u001b[1;33m)\u001b[0m\u001b[1;33m.\u001b[0m\u001b[0m__call__\u001b[0m\u001b[1;33m(\u001b[0m\u001b[0mval\u001b[0m\u001b[1;33m,\u001b[0m \u001b[1;33m*\u001b[0m\u001b[0mshapes\u001b[0m\u001b[1;33m,\u001b[0m \u001b[1;33m**\u001b[0m\u001b[0mkwargs\u001b[0m\u001b[1;33m)\u001b[0m\u001b[1;33m\u001b[0m\u001b[0m\n\u001b[0m\u001b[0;32m   2811\u001b[0m         \u001b[1;32mtry\u001b[0m\u001b[1;33m:\u001b[0m\u001b[1;33m\u001b[0m\u001b[0m\n\u001b[0;32m   2812\u001b[0m             \u001b[1;31m# It makes optimization difficult when useless allocs are thrown\u001b[0m\u001b[1;33m\u001b[0m\u001b[1;33m\u001b[0m\u001b[0m\n",
      "\u001b[1;32m/home/topolo/Public/anaconda2/lib/python2.7/site-packages/theano/gof/op.pyc\u001b[0m in \u001b[0;36m__call__\u001b[1;34m(self, *inputs, **kwargs)\u001b[0m\n\u001b[0;32m    609\u001b[0m         \"\"\"\n\u001b[0;32m    610\u001b[0m         \u001b[0mreturn_list\u001b[0m \u001b[1;33m=\u001b[0m \u001b[0mkwargs\u001b[0m\u001b[1;33m.\u001b[0m\u001b[0mpop\u001b[0m\u001b[1;33m(\u001b[0m\u001b[1;34m'return_list'\u001b[0m\u001b[1;33m,\u001b[0m \u001b[0mFalse\u001b[0m\u001b[1;33m)\u001b[0m\u001b[1;33m\u001b[0m\u001b[0m\n\u001b[1;32m--> 611\u001b[1;33m         \u001b[0mnode\u001b[0m \u001b[1;33m=\u001b[0m \u001b[0mself\u001b[0m\u001b[1;33m.\u001b[0m\u001b[0mmake_node\u001b[0m\u001b[1;33m(\u001b[0m\u001b[1;33m*\u001b[0m\u001b[0minputs\u001b[0m\u001b[1;33m,\u001b[0m \u001b[1;33m**\u001b[0m\u001b[0mkwargs\u001b[0m\u001b[1;33m)\u001b[0m\u001b[1;33m\u001b[0m\u001b[0m\n\u001b[0m\u001b[0;32m    612\u001b[0m \u001b[1;33m\u001b[0m\u001b[0m\n\u001b[0;32m    613\u001b[0m         \u001b[1;32mif\u001b[0m \u001b[0mconfig\u001b[0m\u001b[1;33m.\u001b[0m\u001b[0mcompute_test_value\u001b[0m \u001b[1;33m!=\u001b[0m \u001b[1;34m'off'\u001b[0m\u001b[1;33m:\u001b[0m\u001b[1;33m\u001b[0m\u001b[0m\n",
      "\u001b[1;32m/home/topolo/Public/anaconda2/lib/python2.7/site-packages/theano/tensor/basic.pyc\u001b[0m in \u001b[0;36mmake_node\u001b[1;34m(self, value, *shape)\u001b[0m\n\u001b[0;32m   2689\u001b[0m     \u001b[1;32mdef\u001b[0m \u001b[0mmake_node\u001b[0m\u001b[1;33m(\u001b[0m\u001b[0mself\u001b[0m\u001b[1;33m,\u001b[0m \u001b[0mvalue\u001b[0m\u001b[1;33m,\u001b[0m \u001b[1;33m*\u001b[0m\u001b[0mshape\u001b[0m\u001b[1;33m)\u001b[0m\u001b[1;33m:\u001b[0m\u001b[1;33m\u001b[0m\u001b[0m\n\u001b[0;32m   2690\u001b[0m         \u001b[0mv\u001b[0m \u001b[1;33m=\u001b[0m \u001b[0mas_tensor_variable\u001b[0m\u001b[1;33m(\u001b[0m\u001b[0mvalue\u001b[0m\u001b[1;33m)\u001b[0m\u001b[1;33m\u001b[0m\u001b[0m\n\u001b[1;32m-> 2691\u001b[1;33m         \u001b[0msh\u001b[0m\u001b[1;33m,\u001b[0m \u001b[0mbcast\u001b[0m \u001b[1;33m=\u001b[0m \u001b[0mself\u001b[0m\u001b[1;33m.\u001b[0m\u001b[0mvalidate_shape\u001b[0m\u001b[1;33m(\u001b[0m\u001b[0mshape\u001b[0m\u001b[1;33m)\u001b[0m\u001b[1;33m\u001b[0m\u001b[0m\n\u001b[0m\u001b[0;32m   2692\u001b[0m         \u001b[1;32mif\u001b[0m \u001b[0mv\u001b[0m\u001b[1;33m.\u001b[0m\u001b[0mndim\u001b[0m \u001b[1;33m>\u001b[0m \u001b[0mlen\u001b[0m\u001b[1;33m(\u001b[0m\u001b[0msh\u001b[0m\u001b[1;33m)\u001b[0m\u001b[1;33m:\u001b[0m\u001b[1;33m\u001b[0m\u001b[0m\n\u001b[0;32m   2693\u001b[0m             raise TypeError(\"The Alloc value to use has more dimensions\"\n",
      "\u001b[1;32m/home/topolo/Public/anaconda2/lib/python2.7/site-packages/theano/tensor/basic.pyc\u001b[0m in \u001b[0;36mvalidate_shape\u001b[1;34m(self, shape)\u001b[0m\n\u001b[0;32m   2681\u001b[0m             \u001b[1;31m# if s is constant 1, then we're broadcastable in that dim\u001b[0m\u001b[1;33m\u001b[0m\u001b[1;33m\u001b[0m\u001b[0m\n\u001b[0;32m   2682\u001b[0m             \u001b[1;32mtry\u001b[0m\u001b[1;33m:\u001b[0m\u001b[1;33m\u001b[0m\u001b[0m\n\u001b[1;32m-> 2683\u001b[1;33m                 \u001b[0mconst_shp\u001b[0m \u001b[1;33m=\u001b[0m \u001b[0mget_scalar_constant_value\u001b[0m\u001b[1;33m(\u001b[0m\u001b[0ms\u001b[0m\u001b[1;33m)\u001b[0m\u001b[1;33m\u001b[0m\u001b[0m\n\u001b[0m\u001b[0;32m   2684\u001b[0m             \u001b[1;32mexcept\u001b[0m \u001b[0mNotScalarConstantError\u001b[0m\u001b[1;33m:\u001b[0m\u001b[1;33m\u001b[0m\u001b[0m\n\u001b[0;32m   2685\u001b[0m                 \u001b[0mconst_shp\u001b[0m \u001b[1;33m=\u001b[0m \u001b[0mNone\u001b[0m\u001b[1;33m\u001b[0m\u001b[0m\n",
      "\u001b[1;32m/home/topolo/Public/anaconda2/lib/python2.7/site-packages/theano/tensor/basic.pyc\u001b[0m in \u001b[0;36mget_scalar_constant_value\u001b[1;34m(orig_v, elemwise, only_process_constants)\u001b[0m\n\u001b[0;32m    658\u001b[0m                                 get_scalar_constant_value_elemwises):\n\u001b[0;32m    659\u001b[0m                     const = [get_scalar_constant_value(i)\n\u001b[1;32m--> 660\u001b[1;33m                              for i in v.owner.inputs]\n\u001b[0m\u001b[0;32m    661\u001b[0m                     \u001b[0mret\u001b[0m \u001b[1;33m=\u001b[0m \u001b[1;33m[\u001b[0m\u001b[1;33m[\u001b[0m\u001b[0mNone\u001b[0m\u001b[1;33m]\u001b[0m\u001b[1;33m]\u001b[0m\u001b[1;33m\u001b[0m\u001b[0m\n\u001b[0;32m    662\u001b[0m                     \u001b[0mv\u001b[0m\u001b[1;33m.\u001b[0m\u001b[0mowner\u001b[0m\u001b[1;33m.\u001b[0m\u001b[0mop\u001b[0m\u001b[1;33m.\u001b[0m\u001b[0mperform\u001b[0m\u001b[1;33m(\u001b[0m\u001b[0mv\u001b[0m\u001b[1;33m.\u001b[0m\u001b[0mowner\u001b[0m\u001b[1;33m,\u001b[0m \u001b[0mconst\u001b[0m\u001b[1;33m,\u001b[0m \u001b[0mret\u001b[0m\u001b[1;33m)\u001b[0m\u001b[1;33m\u001b[0m\u001b[0m\n",
      "\u001b[1;32m/home/topolo/Public/anaconda2/lib/python2.7/site-packages/theano/tensor/basic.pyc\u001b[0m in \u001b[0;36mget_scalar_constant_value\u001b[1;34m(orig_v, elemwise, only_process_constants)\u001b[0m\n\u001b[0;32m    770\u001b[0m                         \u001b[1;32melse\u001b[0m\u001b[1;33m:\u001b[0m\u001b[1;33m\u001b[0m\u001b[0m\n\u001b[0;32m    771\u001b[0m                             \u001b[0mmsg\u001b[0m \u001b[1;33m+=\u001b[0m \u001b[1;34m' x=%s'\u001b[0m \u001b[1;33m%\u001b[0m \u001b[0mstr\u001b[0m\u001b[1;33m(\u001b[0m\u001b[0mv\u001b[0m\u001b[1;33m)\u001b[0m\u001b[1;33m\u001b[0m\u001b[0m\n\u001b[1;32m--> 772\u001b[1;33m                         \u001b[1;32mraise\u001b[0m \u001b[0mValueError\u001b[0m\u001b[1;33m(\u001b[0m\u001b[0mmsg\u001b[0m\u001b[1;33m)\u001b[0m\u001b[1;33m\u001b[0m\u001b[0m\n\u001b[0m\u001b[0;32m    773\u001b[0m \u001b[1;33m\u001b[0m\u001b[0m\n\u001b[0;32m    774\u001b[0m                     \u001b[1;32mif\u001b[0m \u001b[0mgp_broadcastable\u001b[0m\u001b[1;33m[\u001b[0m\u001b[0midx\u001b[0m\u001b[1;33m]\u001b[0m\u001b[1;33m:\u001b[0m\u001b[1;33m\u001b[0m\u001b[0m\n",
      "\u001b[1;31mValueError\u001b[0m: get_scalar_constant_value detected deterministic IndexError: x.shape[1] when x.ndim=1. x=Subtensor{int64}.0"
     ]
    }
   ],
   "source": [
    "theano.scan(fn=lstm_step_fxn, sequences=dict(input=v,taps=[0]),outputs_info =[h0,c0,None])"
   ]
  },
  {
   "cell_type": "code",
   "execution_count": null,
   "metadata": {
    "collapsed": true
   },
   "outputs": [],
   "source": []
  },
  {
   "cell_type": "code",
   "execution_count": null,
   "metadata": {
    "collapsed": true
   },
   "outputs": [],
   "source": []
  },
  {
   "cell_type": "code",
   "execution_count": 33,
   "metadata": {
    "collapsed": false
   },
   "outputs": [
    {
     "data": {
      "text/plain": [
       "'/home/topolo/PropD/MLgrabbag'"
      ]
     },
     "execution_count": 33,
     "metadata": {},
     "output_type": "execute_result"
    }
   ],
   "source": [
    "os.getcwd()"
   ]
  },
  {
   "cell_type": "code",
   "execution_count": 35,
   "metadata": {
    "collapsed": false
   },
   "outputs": [
    {
     "data": {
      "text/plain": [
       "['CUDACFD_out',\n",
       " 'servetheloop',\n",
       " 'cantera',\n",
       " 'CompPhys',\n",
       " 'thermopy',\n",
       " '.ipynb_checkpoints',\n",
       " 'setup.py.in',\n",
       " 'Propulsion',\n",
       " 'tensorflow',\n",
       " 'DeepLearningTutorials',\n",
       " 'NISTchemwb',\n",
       " 'cfcf3d',\n",
       " 'cs344',\n",
       " 'MLgrabbag',\n",
       " 'OpenNN',\n",
       " 'thrust']"
      ]
     },
     "execution_count": 35,
     "metadata": {},
     "output_type": "execute_result"
    }
   ],
   "source": [
    "os.listdir('../')"
   ]
  },
  {
   "cell_type": "code",
   "execution_count": 36,
   "metadata": {
    "collapsed": true
   },
   "outputs": [],
   "source": [
    "sys.path.append( '../DeepLearningTutorials/code' )"
   ]
  },
  {
   "cell_type": "code",
   "execution_count": 37,
   "metadata": {
    "collapsed": true
   },
   "outputs": [],
   "source": [
    "import lstm"
   ]
  },
  {
   "cell_type": "code",
   "execution_count": 55,
   "metadata": {
    "collapsed": true
   },
   "outputs": [],
   "source": [
    "from lstm import *"
   ]
  },
  {
   "cell_type": "code",
   "execution_count": 42,
   "metadata": {
    "collapsed": true
   },
   "outputs": [],
   "source": [
    "n_words=10000,  # Vocabulary size\n",
    "maxlen=100,  # Sequence longer then this get ignored"
   ]
  },
  {
   "cell_type": "code",
   "execution_count": 61,
   "metadata": {
    "collapsed": false
   },
   "outputs": [],
   "source": [
    "dataset='imdb'\n",
    "load_data, prepare_data = get_dataset(dataset)"
   ]
  },
  {
   "cell_type": "code",
   "execution_count": 43,
   "metadata": {
    "collapsed": false
   },
   "outputs": [],
   "source": [
    "train, valid, test = load_data(n_words=n_words, valid_portion=0.05,maxlen=maxlen)"
   ]
  },
  {
   "cell_type": "code",
   "execution_count": 47,
   "metadata": {
    "collapsed": false
   },
   "outputs": [
    {
     "name": "stdout",
     "output_type": "stream",
     "text": [
      "<type 'function'>\n",
      "<type 'function'>\n",
      "<type 'tuple'>\n",
      "<type 'tuple'>\n",
      "<type 'tuple'>\n",
      "2\n",
      "2\n",
      "2\n",
      "<type 'list'>\n",
      "<type 'list'>\n",
      "<type 'list'>\n",
      "23750\n",
      "1250\n",
      "25000\n"
     ]
    }
   ],
   "source": [
    "print(type(load_data)); print(type(prepare_data)); print(type(train)); print(type(valid)); print(type(test))\n",
    "print(len(train)); print(len(valid)); print(len(test))\n",
    "print(type(train[0])); print(type(valid[0])); print(type(test[0]));\n",
    "print(len(train[0])); print(len(valid[0])); print(len(test[0]))"
   ]
  },
  {
   "cell_type": "code",
   "execution_count": 62,
   "metadata": {
    "collapsed": false
   },
   "outputs": [
    {
     "ename": "KeyError",
     "evalue": "'dim_proj'",
     "output_type": "error",
     "traceback": [
      "\u001b[1;31m---------------------------------------------------------------------------\u001b[0m",
      "\u001b[1;31mKeyError\u001b[0m                                  Traceback (most recent call last)",
      "\u001b[1;32m<ipython-input-62-ded729125024>\u001b[0m in \u001b[0;36m<module>\u001b[1;34m()\u001b[0m\n\u001b[0;32m      3\u001b[0m \u001b[0mydim\u001b[0m \u001b[1;33m=\u001b[0m \u001b[0mnumpy\u001b[0m\u001b[1;33m.\u001b[0m\u001b[0mmax\u001b[0m\u001b[1;33m(\u001b[0m\u001b[0mtrain\u001b[0m\u001b[1;33m[\u001b[0m\u001b[1;36m1\u001b[0m\u001b[1;33m]\u001b[0m\u001b[1;33m)\u001b[0m \u001b[1;33m+\u001b[0m\u001b[1;36m1\u001b[0m\u001b[1;33m\u001b[0m\u001b[0m\n\u001b[0;32m      4\u001b[0m \u001b[0mmodel_options\u001b[0m\u001b[1;33m[\u001b[0m\u001b[1;34m'ydim'\u001b[0m\u001b[1;33m]\u001b[0m\u001b[1;33m=\u001b[0m\u001b[0mydim\u001b[0m\u001b[1;33m\u001b[0m\u001b[0m\n\u001b[1;32m----> 5\u001b[1;33m \u001b[0mparams\u001b[0m \u001b[1;33m=\u001b[0m \u001b[0minit_params\u001b[0m\u001b[1;33m(\u001b[0m\u001b[0mmodel_options\u001b[0m\u001b[1;33m)\u001b[0m\u001b[1;33m\u001b[0m\u001b[0m\n\u001b[0m",
      "\u001b[1;32m/home/topolo/PropD/DeepLearningTutorials/code/lstm.py\u001b[0m in \u001b[0;36minit_params\u001b[1;34m(options)\u001b[0m\n\u001b[0;32m     95\u001b[0m     \u001b[1;31m# embedding\u001b[0m\u001b[1;33m\u001b[0m\u001b[1;33m\u001b[0m\u001b[0m\n\u001b[0;32m     96\u001b[0m     randn = numpy.random.rand(options['n_words'],\n\u001b[1;32m---> 97\u001b[1;33m                               options['dim_proj'])\n\u001b[0m\u001b[0;32m     98\u001b[0m     \u001b[0mparams\u001b[0m\u001b[1;33m[\u001b[0m\u001b[1;34m'Wemb'\u001b[0m\u001b[1;33m]\u001b[0m \u001b[1;33m=\u001b[0m \u001b[1;33m(\u001b[0m\u001b[1;36m0.01\u001b[0m \u001b[1;33m*\u001b[0m \u001b[0mrandn\u001b[0m\u001b[1;33m)\u001b[0m\u001b[1;33m.\u001b[0m\u001b[0mastype\u001b[0m\u001b[1;33m(\u001b[0m\u001b[0mconfig\u001b[0m\u001b[1;33m.\u001b[0m\u001b[0mfloatX\u001b[0m\u001b[1;33m)\u001b[0m\u001b[1;33m\u001b[0m\u001b[0m\n\u001b[0;32m     99\u001b[0m     params = get_layer(options['encoder'])[0](options,\n",
      "\u001b[1;31mKeyError\u001b[0m: 'dim_proj'"
     ]
    }
   ],
   "source": [
    "# create the initial parameters as numpy ndarrays\n",
    "model_options=locals().copy()\n",
    "ydim = numpy.max(train[1]) +1\n",
    "model_options['ydim']=ydim\n",
    "params = init_params(model_options)"
   ]
  },
  {
   "cell_type": "code",
   "execution_count": 49,
   "metadata": {
    "collapsed": false
   },
   "outputs": [
    {
     "name": "stdout",
     "output_type": "stream",
     "text": [
      "Help on built-in function locals in module __builtin__:\n",
      "\n",
      "locals(...)\n",
      "    locals() -> dictionary\n",
      "    \n",
      "    Update and return a dictionary containing the current scope's local variables.\n",
      "\n"
     ]
    }
   ],
   "source": [
    "help(locals)"
   ]
  },
  {
   "cell_type": "code",
   "execution_count": 59,
   "metadata": {
    "collapsed": false
   },
   "outputs": [
    {
     "ename": "AttributeError",
     "evalue": "'list' object has no attribute 'items'",
     "output_type": "error",
     "traceback": [
      "\u001b[1;31m---------------------------------------------------------------------------\u001b[0m",
      "\u001b[1;31mAttributeError\u001b[0m                            Traceback (most recent call last)",
      "\u001b[1;32m<ipython-input-59-936b72c65483>\u001b[0m in \u001b[0;36m<module>\u001b[1;34m()\u001b[0m\n\u001b[0;32m      2\u001b[0m     \u001b[1;31m# Dict name (string) -> Theano Tensor Shared Variable\u001b[0m\u001b[1;33m\u001b[0m\u001b[1;33m\u001b[0m\u001b[0m\n\u001b[0;32m      3\u001b[0m     \u001b[1;31m# params and tparams have different copy of the weights.\u001b[0m\u001b[1;33m\u001b[0m\u001b[1;33m\u001b[0m\u001b[0m\n\u001b[1;32m----> 4\u001b[1;33m \u001b[0mtparams\u001b[0m \u001b[1;33m=\u001b[0m \u001b[0mlstm\u001b[0m\u001b[1;33m.\u001b[0m\u001b[0minit_tparams\u001b[0m\u001b[1;33m(\u001b[0m\u001b[0mparams\u001b[0m\u001b[1;33m)\u001b[0m\u001b[1;33m\u001b[0m\u001b[0m\n\u001b[0m",
      "\u001b[1;32m/home/topolo/PropD/DeepLearningTutorials/code/lstm.py\u001b[0m in \u001b[0;36minit_tparams\u001b[1;34m(params)\u001b[0m\n\u001b[0;32m    120\u001b[0m \u001b[1;32mdef\u001b[0m \u001b[0minit_tparams\u001b[0m\u001b[1;33m(\u001b[0m\u001b[0mparams\u001b[0m\u001b[1;33m)\u001b[0m\u001b[1;33m:\u001b[0m\u001b[1;33m\u001b[0m\u001b[0m\n\u001b[0;32m    121\u001b[0m     \u001b[0mtparams\u001b[0m \u001b[1;33m=\u001b[0m \u001b[0mOrderedDict\u001b[0m\u001b[1;33m(\u001b[0m\u001b[1;33m)\u001b[0m\u001b[1;33m\u001b[0m\u001b[0m\n\u001b[1;32m--> 122\u001b[1;33m     \u001b[1;32mfor\u001b[0m \u001b[0mkk\u001b[0m\u001b[1;33m,\u001b[0m \u001b[0mpp\u001b[0m \u001b[1;32min\u001b[0m \u001b[0mparams\u001b[0m\u001b[1;33m.\u001b[0m\u001b[0mitems\u001b[0m\u001b[1;33m(\u001b[0m\u001b[1;33m)\u001b[0m\u001b[1;33m:\u001b[0m\u001b[1;33m\u001b[0m\u001b[0m\n\u001b[0m\u001b[0;32m    123\u001b[0m         \u001b[0mtparams\u001b[0m\u001b[1;33m[\u001b[0m\u001b[0mkk\u001b[0m\u001b[1;33m]\u001b[0m \u001b[1;33m=\u001b[0m \u001b[0mtheano\u001b[0m\u001b[1;33m.\u001b[0m\u001b[0mshared\u001b[0m\u001b[1;33m(\u001b[0m\u001b[0mparams\u001b[0m\u001b[1;33m[\u001b[0m\u001b[0mkk\u001b[0m\u001b[1;33m]\u001b[0m\u001b[1;33m,\u001b[0m \u001b[0mname\u001b[0m\u001b[1;33m=\u001b[0m\u001b[0mkk\u001b[0m\u001b[1;33m)\u001b[0m\u001b[1;33m\u001b[0m\u001b[0m\n\u001b[0;32m    124\u001b[0m     \u001b[1;32mreturn\u001b[0m \u001b[0mtparams\u001b[0m\u001b[1;33m\u001b[0m\u001b[0m\n",
      "\u001b[1;31mAttributeError\u001b[0m: 'list' object has no attribute 'items'"
     ]
    }
   ],
   "source": [
    "# This create Theano Shared Variable from the parameters.\n",
    "    # Dict name (string) -> Theano Tensor Shared Variable\n",
    "    # params and tparams have different copy of the weights.\n",
    "tparams = lstm.init_tparams(params)"
   ]
  },
  {
   "cell_type": "code",
   "execution_count": 63,
   "metadata": {
    "collapsed": false
   },
   "outputs": [
    {
     "name": "stdout",
     "output_type": "stream",
     "text": [
      "model options {'encoder': 'lstm', 'optimizer': <function adadelta at 0x7fcfacdbbed8>, 'validFreq': 370, 'lrate': 0.0001, 'batch_size': 16, 'decay_c': 0.0, 'patience': 10, 'reload_model': None, 'n_words': 10000, 'max_epochs': 5000, 'dispFreq': 10, 'dataset': 'imdb', 'valid_batch_size': 64, 'use_dropout': True, 'dim_proj': 128, 'maxlen': 100, 'saveto': 'lstm_model.npz', 'noise_std': 0.0, 'test_size': -1, 'saveFreq': 1110}\n",
      "Loading data\n",
      "Building model\n",
      "Optimization\n",
      "1998 train examples\n",
      "105 valid examples\n",
      "25000 test examples\n",
      "Epoch  0 Update  10 Cost  0.692698359489\n",
      "Epoch  0 Update  20 Cost  0.691576838493\n",
      "Epoch  0 Update  30 Cost  0.678899407387\n",
      "Epoch  0 Update  40 Cost  0.69440060854\n",
      "Epoch  0 Update  50 Cost  0.683119535446\n",
      "Epoch  0 Update  60 Cost  0.702967643738\n",
      "Epoch  0 Update  70 Cost  0.665298700333\n",
      "Epoch  0 Update  80 Cost  0.699218034744\n",
      "Epoch  0 Update  90 Cost  0.670724391937\n",
      "Epoch  0 Update  100 Cost  0.671119213104\n",
      "Epoch  0 Update  110 Cost  0.723990380764\n",
      "Epoch  0 Update  120 Cost  0.627523005009\n",
      "Seen 1998 samples\n",
      "Epoch  1 Update  130 Cost  0.612293958664\n",
      "Epoch  1 Update  140 Cost  0.664878606796\n",
      "Epoch  1 Update  150 Cost  0.585900843143\n",
      "Epoch  1 Update  160 Cost  0.691015005112\n",
      "Epoch  1 Update  170 Cost  0.7251060009\n",
      "Epoch  1 Update  180 Cost  0.708394289017\n",
      "Epoch  1 Update  190 Cost  0.700806796551\n",
      "Epoch  1 Update  200 Cost  0.74559122324\n",
      "Epoch  1 Update  210 Cost  0.651143372059\n",
      "Epoch  1 Update  220 Cost  0.685461819172\n",
      "Epoch  1 Update  230 Cost  0.653840303421\n",
      "Epoch  1 Update  240 Cost  0.701105415821\n",
      "Epoch  1 Update  250 Cost  0.702791631222\n",
      "Seen 1998 samples\n",
      "Epoch  2 Update  260 Cost  0.743963241577\n",
      "Epoch  2 Update  270 Cost  0.67035317421\n",
      "Epoch  2 Update  280 Cost  0.639522969723\n",
      "Epoch  2 Update  290 Cost  0.778525829315\n",
      "Epoch  2 Update  300 Cost  0.669261515141\n",
      "Epoch  2 Update  310 Cost  0.702283620834\n",
      "Epoch  2 Update  320 Cost  0.73783659935\n",
      "Epoch  2 Update  330 Cost  0.682464301586\n",
      "Epoch  2 Update  340 Cost  0.702616035938\n",
      "Epoch  2 Update  350 Cost  0.683843135834\n",
      "Epoch  2 Update  360 Cost  0.645316123962\n",
      "Epoch  2 Update  370 Cost  0.740399360657\n",
      "('Train ', 0.42342342342342343, 'Valid ', 0.40952380952380951, 'Test ', 0.5)\n",
      "Seen 1998 samples\n",
      "Epoch  3 Update  380 Cost  0.664936840534\n",
      "Epoch  3 Update  390 Cost  0.666858136654\n",
      "Epoch  3 Update  400 Cost  0.702749013901\n",
      "Epoch  3 Update  410 Cost  0.685796022415\n",
      "Epoch  3 Update  420 Cost  0.669363379478\n",
      "Epoch  3 Update  430 Cost  0.683922946453\n",
      "Epoch  3 Update  440 Cost  0.723559975624\n",
      "Epoch  3 Update  450 Cost  0.720567464828\n",
      "Epoch  3 Update  460 Cost  0.667905449867\n",
      "Epoch  3 Update  470 Cost  0.706657350063\n",
      "Epoch  3 Update  480 Cost  0.685510575771\n",
      "Epoch  3 Update  490 Cost  0.706187903881\n",
      "Epoch  3 Update  500 Cost  0.573962211609\n",
      "Seen 1998 samples\n",
      "Epoch  4 Update  510 Cost  0.702898979187\n",
      "Epoch  4 Update  520 Cost  0.662639200687\n",
      "Epoch  4 Update  530 Cost  0.708332836628\n",
      "Epoch  4 Update  540 Cost  0.663423776627\n",
      "Epoch  4 Update  550 Cost  0.68678432703\n",
      "Epoch  4 Update  560 Cost  0.668098449707\n",
      "Epoch  4 Update  570 Cost  0.644453287125\n",
      "Epoch  4 Update  580 Cost  0.659795403481\n",
      "Epoch  4 Update  590 Cost  0.622740268707\n",
      "Epoch  4 Update  600 Cost  0.68503767252\n",
      "Epoch  4 Update  610 Cost  0.686704456806\n",
      "Epoch  4 Update  620 Cost  0.682946026325\n",
      "Seen 1998 samples\n",
      "Epoch  5 Update  630 Cost  0.745455861092\n",
      "Epoch  5 Update  640 Cost  0.626753687859\n",
      "Epoch  5 Update  650 Cost  0.717534661293\n",
      "Epoch  5 Update  660 Cost  0.619034767151\n",
      "Epoch  5 Update  670 Cost  0.64300429821\n",
      "Epoch  5 Update  680 Cost  0.709595680237\n",
      "Epoch  5 Update  690 Cost  0.680198550224\n",
      "Epoch  5 Update  700 Cost  0.715785324574\n",
      "Epoch  5 Update  710 Cost  0.647588670254\n",
      "Epoch  5 Update  720 Cost  0.738720476627\n",
      "Epoch  5 Update  730 Cost  0.613356888294\n",
      "Epoch  5 Update  740 Cost  0.681859910488\n",
      "('Train ', 0.42342342342342343, 'Valid ', 0.40952380952380951, 'Test ', 0.5)\n",
      "Epoch  5 Update  750 Cost  0.638185143471\n",
      "Seen 1998 samples\n",
      "Epoch  6 Update  760 Cost  0.664708554745\n",
      "Epoch  6 Update  770 Cost  0.643858492374\n",
      "Epoch  6 Update  780 Cost  0.684750974178\n",
      "Epoch  6 Update  790 Cost  0.607481896877\n",
      "Epoch  6 Update  800 Cost  0.664666891098\n",
      "Epoch  6 Update  810 Cost  0.657433569431\n",
      "Epoch  6 Update  820 Cost  0.687919795513\n",
      "Epoch  6 Update  830 Cost  0.627542614937\n",
      "Epoch  6 Update  840 Cost  0.685253024101\n",
      "Epoch  6 Update  850 Cost  0.685834467411\n",
      "Epoch  6 Update  860 Cost  0.631550908089\n",
      "Epoch  6 Update  870 Cost  0.693373978138\n",
      "Seen 1998 samples\n",
      "Epoch  7 Update  880 Cost  0.67098659277\n",
      "Epoch  7 Update  890 Cost  0.681502342224\n",
      "Epoch  7 Update  900 Cost  0.678376972675\n",
      "Epoch  7 Update  910 Cost  0.612894117832\n",
      "Epoch  7 Update  920 Cost  0.632097303867\n",
      "Epoch  7 Update  930 Cost  0.609624743462\n",
      "Epoch  7 Update  940 Cost  0.709208726883\n",
      "Epoch  7 Update  950 Cost  0.711176097393\n",
      "Epoch  7 Update  960 Cost  0.652043879032\n",
      "Epoch  7 Update  970 Cost  0.676458060741\n",
      "Epoch  7 Update  980 Cost  0.748211622238\n",
      "Epoch  7 Update  990 Cost  0.642886817455\n",
      "Epoch  7 Update  1000 Cost  0.681607723236\n",
      "Seen 1998 samples\n",
      "Epoch  8 Update  1010 Cost  0.609392344952\n",
      "Epoch  8 Update  1020 Cost  0.672912657261\n",
      "Epoch  8 Update  1030 Cost  0.682039916515\n",
      "Epoch  8 Update  1040 Cost  0.663565218449\n",
      "Epoch  8 Update  1050 Cost  0.743454515934\n",
      "Epoch  8 Update  1060 Cost  0.661156594753\n",
      "Epoch  8 Update  1070 Cost  0.676486134529\n",
      "Epoch  8 Update  1080 Cost  0.527149558067\n",
      "Epoch  8 Update  1090 Cost  0.710656702518\n",
      "Epoch  8 Update  1100 Cost  0.520303606987\n",
      "Epoch  8 Update  1110 Cost  0.719430506229\n",
      "Saving...\n",
      "Done\n",
      "('Train ', 0.2617617617617618, 'Valid ', 0.25714285714285712, 'Test ', 0.35399999999999998)\n",
      "Epoch  8 Update  1120 Cost  0.782182335854\n",
      "Seen 1998 samples\n",
      "Epoch  9 Update  1130 Cost  0.619902074337\n",
      "Epoch  9 Update  1140 Cost  0.583137512207\n",
      "Epoch  9 Update  1150 Cost  0.545123815536\n",
      "Epoch  9 Update  1160 Cost  0.627865076065\n",
      "Epoch  9 Update  1170 Cost  0.492178082466\n",
      "Epoch  9 Update  1180 Cost  0.59959936142\n",
      "Epoch  9 Update  1190 Cost  0.473972141743\n",
      "Epoch  9 Update  1200 Cost  0.32666310668\n",
      "Epoch  9 Update  1210 Cost  0.30805003643\n",
      "Epoch  9 Update  1220 Cost  0.522493004799\n",
      "Epoch  9 Update  1230 Cost  0.347992151976\n",
      "Epoch  9 Update  1240 Cost  0.52707272768\n",
      "Epoch  9 Update  1250 Cost  0.838895499706\n",
      "Seen 1998 samples\n",
      "Epoch  10 Update  1260 Cost  0.468200445175\n",
      "Epoch  10 Update  1270 Cost  0.628310680389\n",
      "Epoch  10 Update  1280 Cost  0.560294389725\n",
      "Epoch  10 Update  1290 Cost  0.3314191401\n",
      "Epoch  10 Update  1300 Cost  0.507508814335\n",
      "Epoch  10 Update  1310 Cost  0.624760866165\n",
      "Epoch  10 Update  1320 Cost  0.286853164434\n",
      "Epoch  10 Update  1330 Cost  0.380667775869\n",
      "Epoch  10 Update  1340 Cost  0.338694006205\n",
      "Epoch  10 Update  1350 Cost  0.490547180176\n",
      "Epoch  10 Update  1360 Cost  0.536775529385\n",
      "Epoch  10 Update  1370 Cost  0.406870543957\n",
      "Seen 1998 samples\n",
      "Epoch  11 Update  1380 Cost  0.238712862134\n",
      "Epoch  11 Update  1390 Cost  0.144520565867\n",
      "Epoch  11 Update  1400 Cost  0.442646771669\n",
      "Epoch  11 Update  1410 Cost  0.375552564859\n",
      "Epoch  11 Update  1420 Cost  0.403922975063\n",
      "Epoch  11 Update  1430 Cost  0.403555959463\n",
      "Epoch  11 Update  1440 Cost  0.429494708776\n",
      "Epoch  11 Update  1450 Cost  0.326758921146\n",
      "Epoch  11 Update  1460 Cost  0.168657630682\n",
      "Epoch  11 Update  1470 Cost  0.385389119387\n",
      "Epoch  11 Update  1480 Cost  0.304343879223\n",
      "('Train ', 0.090590590590590603, 'Valid ', 0.1428571428571429, 'Test ', 0.25519999999999998)\n",
      "Epoch  11 Update  1490 Cost  0.376196235418\n",
      "Epoch  11 Update  1500 Cost  0.578035354614\n",
      "Seen 1998 samples\n",
      "Epoch  12 Update  1510 Cost  0.219479650259\n",
      "Epoch  12 Update  1520 Cost  0.479404628277\n",
      "Epoch  12 Update  1530 Cost  0.27543643117\n",
      "Epoch  12 Update  1540 Cost  0.233015537262\n",
      "Epoch  12 Update  1550 Cost  0.330640405416\n",
      "Epoch  12 Update  1560 Cost  0.312664270401\n",
      "Epoch  12 Update  1570 Cost  0.180263116956\n",
      "Epoch  12 Update  1580 Cost  0.276846498251\n",
      "Epoch  12 Update  1590 Cost  0.377861082554\n",
      "Epoch  12 Update  1600 Cost  0.221709951758\n",
      "Epoch  12 Update  1610 Cost  0.226344540715\n",
      "Epoch  12 Update  1620 Cost  0.426911473274\n",
      "Seen 1998 samples\n",
      "Epoch  13 Update  1630 Cost  0.052586786449\n",
      "Epoch  13 Update  1640 Cost  0.163543105125\n",
      "Epoch  13 Update  1650 Cost  0.0713825672865\n",
      "Epoch  13 Update  1660 Cost  0.289846032858\n",
      "Epoch  13 Update  1670 Cost  0.209345370531\n",
      "Epoch  13 Update  1680 Cost  0.369451671839\n",
      "Epoch  13 Update  1690 Cost  0.25002270937\n",
      "Epoch  13 Update  1700 Cost  0.369953542948\n",
      "Epoch  13 Update  1710 Cost  0.136777967215\n",
      "Epoch  13 Update  1720 Cost  0.068537607789\n",
      "Epoch  13 Update  1730 Cost  0.350539714098\n",
      "Epoch  13 Update  1740 Cost  0.285716682673\n",
      "Epoch  13 Update  1750 Cost  0.0578093230724\n",
      "Seen 1998 samples\n",
      "Epoch  14 Update  1760 Cost  0.0736741945148\n",
      "Epoch  14 Update  1770 Cost  0.021975884214\n",
      "Epoch  14 Update  1780 Cost  0.363358259201\n",
      "Epoch  14 Update  1790 Cost  0.129479572177\n",
      "Epoch  14 Update  1800 Cost  0.130923226476\n",
      "Epoch  14 Update  1810 Cost  0.229752704501\n",
      "Epoch  14 Update  1820 Cost  0.0524107888341\n",
      "Epoch  14 Update  1830 Cost  0.02360445261\n",
      "Epoch  14 Update  1840 Cost  0.313508927822\n",
      "Epoch  14 Update  1850 Cost  0.284237056971\n",
      "('Train ', 0.048548548548548509, 'Valid ', 0.11428571428571432, 'Test ', 0.28539999999999999)\n",
      "Epoch  14 Update  1860 Cost  0.114400230348\n",
      "Epoch  14 Update  1870 Cost  0.232896625996\n",
      "Seen 1998 samples\n",
      "Epoch  15 Update  1880 Cost  0.222233831882\n",
      "Epoch  15 Update  1890 Cost  0.0796397775412\n",
      "Epoch  15 Update  1900 Cost  0.0439472571015\n",
      "Epoch  15 Update  1910 Cost  0.00937705952674\n",
      "Epoch  15 Update  1920 Cost  0.0606281831861\n",
      "Epoch  15 Update  1930 Cost  0.141265645623\n",
      "Epoch  15 Update  1940 Cost  0.0367593169212\n",
      "Epoch  15 Update  1950 Cost  0.17584349215\n",
      "Epoch  15 Update  1960 Cost  0.0265002399683\n",
      "Epoch  15 Update  1970 Cost  0.282739847898\n",
      "Epoch  15 Update  1980 Cost  0.0528977960348\n",
      "Epoch  15 Update  1990 Cost  0.485765337944\n",
      "Epoch  15 Update  2000 Cost  0.243179991841\n",
      "Seen 1998 samples\n",
      "Epoch  16 Update  2010 Cost  0.0249696746469\n",
      "Epoch  16 Update  2020 Cost  0.0308598149568\n",
      "Epoch  16 Update  2030 Cost  0.0617641620338\n",
      "Epoch  16 Update  2040 Cost  0.0358905307949\n",
      "Epoch  16 Update  2050 Cost  0.217872411013\n",
      "Epoch  16 Update  2060 Cost  0.0323725230992\n",
      "Epoch  16 Update  2070 Cost  0.0260690953583\n",
      "Epoch  16 Update  2080 Cost  0.0324352681637\n",
      "Epoch  16 Update  2090 Cost  0.0375564135611\n",
      "Epoch  16 Update  2100 Cost  0.141932919621\n",
      "Epoch  16 Update  2110 Cost  0.0318977870047\n",
      "Epoch  16 Update  2120 Cost  0.0851591303945\n",
      "Seen 1998 samples\n",
      "Epoch  17 Update  2130 Cost  0.094495549798\n",
      "Epoch  17 Update  2140 Cost  0.130746781826\n",
      "Epoch  17 Update  2150 Cost  0.0165700148791\n",
      "Epoch  17 Update  2160 Cost  0.028234153986\n",
      "Epoch  17 Update  2170 Cost  0.00589835317805\n",
      "Epoch  17 Update  2180 Cost  0.328396558762\n",
      "Epoch  17 Update  2190 Cost  0.0135336564854\n",
      "Epoch  17 Update  2200 Cost  0.0285934321582\n",
      "Epoch  17 Update  2210 Cost  0.0279478970915\n",
      "Epoch  17 Update  2220 Cost  0.0189800430089\n",
      "Saving...\n",
      "Done\n",
      "('Train ', 0.029029029029029041, 'Valid ', 0.1428571428571429, 'Test ', 0.30544000000000004)\n",
      "Epoch  17 Update  2230 Cost  0.131582796574\n",
      "Epoch  17 Update  2240 Cost  0.0992561355233\n",
      "Epoch  17 Update  2250 Cost  0.249515816569\n",
      "Seen 1998 samples\n",
      "Epoch  18 Update  2260 Cost  0.153335094452\n",
      "Epoch  18 Update  2270 Cost  0.00280411960557\n",
      "Epoch  18 Update  2280 Cost  0.0127126323059\n",
      "Epoch  18 Update  2290 Cost  0.0315342247486\n",
      "Epoch  18 Update  2300 Cost  0.0321057066321\n",
      "Epoch  18 Update  2310 Cost  0.0128439087421\n",
      "Epoch  18 Update  2320 Cost  0.00771560519934\n",
      "Epoch  18 Update  2330 Cost  0.0310320239514\n",
      "Epoch  18 Update  2340 Cost  0.0172711405903\n",
      "Epoch  18 Update  2350 Cost  0.0112820267677\n",
      "Epoch  18 Update  2360 Cost  0.0257008317858\n",
      "Epoch  18 Update  2370 Cost  0.0159540139139\n",
      "Seen 1998 samples\n",
      "Epoch  19 Update  2380 Cost  0.0262653250247\n",
      "Epoch  19 Update  2390 Cost  0.00512914406136\n",
      "Epoch  19 Update  2400 Cost  0.0096501680091\n",
      "Epoch  19 Update  2410 Cost  0.000922410050407\n",
      "Epoch  19 Update  2420 Cost  0.0353888943791\n",
      "Epoch  19 Update  2430 Cost  0.0458313152194\n",
      "Epoch  19 Update  2440 Cost  0.0207377616316\n",
      "Epoch  19 Update  2450 Cost  0.0447564274073\n",
      "Epoch  19 Update  2460 Cost  0.0114270178601\n",
      "Epoch  19 Update  2470 Cost  0.0032439045608\n",
      "Epoch  19 Update  2480 Cost  0.00210372544825\n",
      "Epoch  19 Update  2490 Cost  0.00831729266793\n",
      "Epoch  19 Update  2500 Cost  0.136446490884\n",
      "Seen 1998 samples\n",
      "Epoch  20 Update  2510 Cost  0.0159451887012\n",
      "Epoch  20 Update  2520 Cost  0.0336063094437\n",
      "Epoch  20 Update  2530 Cost  0.00414951331913\n",
      "Epoch  20 Update  2540 Cost  0.00148038216867\n",
      "Epoch  20 Update  2550 Cost  0.004880157765\n",
      "Epoch  20 Update  2560 Cost  0.0214680749923\n",
      "Epoch  20 Update  2570 Cost  0.00278742355295\n",
      "Epoch  20 Update  2580 Cost  0.000976472569164\n",
      "Epoch  20 Update  2590 Cost  0.0101894587278\n",
      "('Train ', 0.0020020020020019569, 'Valid ', 0.11428571428571432, 'Test ', 0.21431999999999995)\n",
      "Epoch  20 Update  2600 Cost  0.0177323762327\n",
      "Epoch  20 Update  2610 Cost  0.00497570168227\n",
      "Epoch  20 Update  2620 Cost  0.00639061024413\n",
      "Seen 1998 samples\n",
      "Epoch  21 Update  2630 Cost  0.00102666253224\n",
      "Epoch  21 Update  2640 Cost  0.000371598580386\n",
      "Epoch  21 Update  2650 Cost  0.00237970822491\n",
      "Epoch  21 Update  2660 Cost  0.000947939057369\n",
      "Epoch  21 Update  2670 Cost  0.0134694408625\n",
      "Epoch  21 Update  2680 Cost  0.0485311076045\n",
      "Epoch  21 Update  2690 Cost  0.00560057815164\n",
      "Epoch  21 Update  2700 Cost  0.180613487959\n",
      "Epoch  21 Update  2710 Cost  0.302919209003\n",
      "Epoch  21 Update  2720 Cost  0.0396358780563\n",
      "Epoch  21 Update  2730 Cost  0.00234019639902\n",
      "Epoch  21 Update  2740 Cost  0.00331675214693\n",
      "Epoch  21 Update  2750 Cost  0.00883675646037\n",
      "Seen 1998 samples\n",
      "Epoch  22 Update  2760 Cost  0.00239889929071\n",
      "Epoch  22 Update  2770 Cost  0.00257943035103\n",
      "Epoch  22 Update  2780 Cost  0.00149185431655\n",
      "Epoch  22 Update  2790 Cost  0.000589217466768\n",
      "Epoch  22 Update  2800 Cost  0.00940593983978\n",
      "Epoch  22 Update  2810 Cost  0.0137534644455\n",
      "Epoch  22 Update  2820 Cost  0.00166488753166\n",
      "Epoch  22 Update  2830 Cost  0.0171569176018\n",
      "Epoch  22 Update  2840 Cost  0.00102008739486\n",
      "Epoch  22 Update  2850 Cost  0.000791911152191\n",
      "Epoch  22 Update  2860 Cost  0.00324920727871\n",
      "Epoch  22 Update  2870 Cost  0.0950810015202\n",
      "Seen 1998 samples\n",
      "Epoch  23 Update  2880 Cost  0.0128028327599\n",
      "Epoch  23 Update  2890 Cost  0.00346719077788\n",
      "Epoch  23 Update  2900 Cost  0.0087534757331\n",
      "Epoch  23 Update  2910 Cost  0.00122937886044\n",
      "Epoch  23 Update  2920 Cost  0.00250567542389\n",
      "Epoch  23 Update  2930 Cost  0.00414408231154\n",
      "Epoch  23 Update  2940 Cost  0.00259612081572\n",
      "Epoch  23 Update  2950 Cost  0.00774257257581\n",
      "Epoch  23 Update  2960 Cost  0.000689741747919\n",
      "('Train ', 0.0010010010010009784, 'Valid ', 0.11428571428571432, 'Test ', 0.21260000000000001)\n",
      "Epoch  23 Update  2970 Cost  0.00163245317526\n",
      "Epoch  23 Update  2980 Cost  0.00258441246115\n",
      "Epoch  23 Update  2990 Cost  0.00037192957825\n",
      "Epoch  23 Update  3000 Cost  0.0052351243794\n",
      "Seen 1998 samples\n",
      "Epoch  24 Update  3010 Cost  0.000277206592727\n",
      "Epoch  24 Update  3020 Cost  0.00103787530679\n",
      "Epoch  24 Update  3030 Cost  0.000995592679828\n",
      "Epoch  24 Update  3040 Cost  0.0046515436843\n",
      "Epoch  24 Update  3050 Cost  0.000422397599323\n",
      "Epoch  24 Update  3060 Cost  6.77570496919e-05\n",
      "Epoch  24 Update  3070 Cost  6.51707450743e-05\n",
      "Epoch  24 Update  3080 Cost  0.00100990070496\n",
      "Epoch  24 Update  3090 Cost  0.000502897310071\n",
      "Epoch  24 Update  3100 Cost  0.00414153048769\n",
      "Epoch  24 Update  3110 Cost  0.00071432616096\n",
      "Epoch  24 Update  3120 Cost  0.0043924273923\n",
      "Seen 1998 samples\n",
      "Epoch  25 Update  3130 Cost  0.00138232880272\n",
      "Epoch  25 Update  3140 Cost  0.0143043184653\n",
      "Epoch  25 Update  3150 Cost  0.000674939888995\n",
      "Epoch  25 Update  3160 Cost  0.00632217759266\n",
      "Epoch  25 Update  3170 Cost  0.0204309727997\n",
      "Epoch  25 Update  3180 Cost  0.0265913940966\n",
      "Epoch  25 Update  3190 Cost  0.00629460485652\n",
      "Epoch  25 Update  3200 Cost  0.00198838463984\n",
      "Epoch  25 Update  3210 Cost  0.000771439343225\n",
      "Epoch  25 Update  3220 Cost  0.000328363385051\n",
      "Epoch  25 Update  3230 Cost  0.00278966035694\n",
      "Epoch  25 Update  3240 Cost  0.01374412328\n",
      "Epoch  25 Update  3250 Cost  0.00119380804244\n",
      "Seen 1998 samples\n",
      "Epoch  26 Update  3260 Cost  0.00354882120155\n",
      "Epoch  26 Update  3270 Cost  0.00340070505626\n",
      "Epoch  26 Update  3280 Cost  0.00180796696804\n",
      "Epoch  26 Update  3290 Cost  0.00388853205368\n",
      "Epoch  26 Update  3300 Cost  6.58762655803e-05\n",
      "Epoch  26 Update  3310 Cost  0.00134636636358\n",
      "Epoch  26 Update  3320 Cost  0.0823284015059\n",
      "Epoch  26 Update  3330 Cost  0.0009768611053\n",
      "Saving...\n",
      "Done\n",
      "('Train ', 0.0, 'Valid ', 0.10476190476190472, 'Test ', 0.20896000000000003)\n",
      "Epoch  26 Update  3340 Cost  0.000786502263509\n",
      "Epoch  26 Update  3350 Cost  0.00174854591023\n",
      "Epoch  26 Update  3360 Cost  0.000935860851314\n",
      "Epoch  26 Update  3370 Cost  0.042400047183\n",
      "Seen 1998 samples\n",
      "Epoch  27 Update  3380 Cost  0.00130186846945\n",
      "Epoch  27 Update  3390 Cost  0.000418418407207\n",
      "Epoch  27 Update  3400 Cost  0.000616938516032\n",
      "Epoch  27 Update  3410 Cost  0.000307565525873\n",
      "Epoch  27 Update  3420 Cost  0.00116601563059\n",
      "Epoch  27 Update  3430 Cost  0.00018894468667\n",
      "Epoch  27 Update  3440 Cost  0.000280799198663\n",
      "Epoch  27 Update  3450 Cost  0.000353893032297\n",
      "Epoch  27 Update  3460 Cost  0.000566475151572\n",
      "Epoch  27 Update  3470 Cost  0.000943257531617\n",
      "Epoch  27 Update  3480 Cost  0.0103253060952\n",
      "Epoch  27 Update  3490 Cost  0.000689662585501\n",
      "Epoch  27 Update  3500 Cost  0.000305496592773\n",
      "Seen 1998 samples\n",
      "Epoch  28 Update  3510 Cost  0.000148388600792\n",
      "Epoch  28 Update  3520 Cost  0.000416049937485\n",
      "Epoch  28 Update  3530 Cost  0.000268755917205\n",
      "Epoch  28 Update  3540 Cost  0.000486299803015\n",
      "Epoch  28 Update  3550 Cost  0.00236166198738\n",
      "Epoch  28 Update  3560 Cost  0.000528966251295\n",
      "Epoch  28 Update  3570 Cost  0.0180685035884\n",
      "Epoch  28 Update  3580 Cost  0.000133435067255\n",
      "Epoch  28 Update  3590 Cost  0.00935040134937\n",
      "Epoch  28 Update  3600 Cost  5.41803565284e-05\n",
      "Epoch  28 Update  3610 Cost  0.000558834057301\n",
      "Epoch  28 Update  3620 Cost  0.000110324501293\n",
      "Seen 1998 samples\n",
      "Epoch  29 Update  3630 Cost  0.307240366936\n",
      "Epoch  29 Update  3640 Cost  0.0177686866373\n",
      "Epoch  29 Update  3650 Cost  0.00117836426944\n",
      "Epoch  29 Update  3660 Cost  0.00124371622223\n",
      "Epoch  29 Update  3670 Cost  0.00364556279965\n",
      "Epoch  29 Update  3680 Cost  0.00351628917269\n",
      "Epoch  29 Update  3690 Cost  0.000407897023251\n",
      "Epoch  29 Update  3700 Cost  0.00144944083877\n",
      "('Train ', 0.0, 'Valid ', 0.11428571428571432, 'Test ', 0.21048)\n",
      "Epoch  29 Update  3710 Cost  4.94527848787e-05\n",
      "Epoch  29 Update  3720 Cost  4.62944117317e-05\n",
      "Epoch  29 Update  3730 Cost  0.00257904361933\n",
      "Epoch  29 Update  3740 Cost  9.85429505818e-05\n",
      "Epoch  29 Update  3750 Cost  0.00272028101608\n",
      "Seen 1998 samples\n",
      "Epoch  30 Update  3760 Cost  0.000870466290507\n",
      "Epoch  30 Update  3770 Cost  0.00117484328803\n",
      "Epoch  30 Update  3780 Cost  0.000765410833992\n",
      "Epoch  30 Update  3790 Cost  0.13168078661\n",
      "Epoch  30 Update  3800 Cost  0.00671979039907\n",
      "Epoch  30 Update  3810 Cost  0.0014395553153\n",
      "Epoch  30 Update  3820 Cost  0.000964768987615\n",
      "Epoch  30 Update  3830 Cost  0.000771940045524\n",
      "Epoch  30 Update  3840 Cost  0.000123798774439\n",
      "Epoch  30 Update  3850 Cost  0.00151393644046\n",
      "Epoch  30 Update  3860 Cost  0.0023775305599\n",
      "Epoch  30 Update  3870 Cost  7.01951794326e-05\n",
      "Seen 1998 samples\n",
      "Epoch  31 Update  3880 Cost  0.000492439605296\n",
      "Epoch  31 Update  3890 Cost  0.000212964776438\n",
      "Epoch  31 Update  3900 Cost  0.00029200289282\n",
      "Epoch  31 Update  3910 Cost  0.000356875883881\n",
      "Epoch  31 Update  3920 Cost  0.000754276057705\n",
      "Epoch  31 Update  3930 Cost  0.000224542876822\n",
      "Epoch  31 Update  3940 Cost  0.000669337634463\n",
      "Epoch  31 Update  3950 Cost  0.000456109934021\n",
      "Epoch  31 Update  3960 Cost  0.00130946282297\n",
      "Epoch  31 Update  3970 Cost  0.000216702363105\n",
      "Epoch  31 Update  3980 Cost  0.00691257743165\n",
      "Epoch  31 Update  3990 Cost  4.00098906539e-06\n",
      "Epoch  31 Update  4000 Cost  7.74873024056e-06\n",
      "Seen 1998 samples\n",
      "Epoch  32 Update  4010 Cost  0.000143646873767\n",
      "Epoch  32 Update  4020 Cost  0.810265481472\n",
      "Epoch  32 Update  4030 Cost  0.00225186417811\n",
      "Epoch  32 Update  4040 Cost  0.00161474221386\n",
      "Epoch  32 Update  4050 Cost  0.00442250259221\n",
      "Epoch  32 Update  4060 Cost  0.000357590208296\n",
      "Epoch  32 Update  4070 Cost  0.00132624909747\n",
      "('Train ', 0.0, 'Valid ', 0.12380952380952381, 'Test ', 0.20899999999999996)\n",
      "Epoch  32 Update  4080 Cost  0.00101920543239\n",
      "Epoch  32 Update  4090 Cost  0.000519850174896\n",
      "Epoch  32 Update  4100 Cost  0.00152625818737\n",
      "Epoch  32 Update  4110 Cost  0.000140472169733\n",
      "Epoch  32 Update  4120 Cost  0.00134973181412\n",
      "Seen 1998 samples\n",
      "Epoch  33 Update  4130 Cost  0.000326518405927\n",
      "Epoch  33 Update  4140 Cost  9.46540822042e-05\n",
      "Epoch  33 Update  4150 Cost  0.000170942366822\n",
      "Epoch  33 Update  4160 Cost  7.4787021731e-05\n",
      "Epoch  33 Update  4170 Cost  0.000473034771858\n",
      "Epoch  33 Update  4180 Cost  0.000198813417228\n",
      "Epoch  33 Update  4190 Cost  0.000687624502461\n",
      "Epoch  33 Update  4200 Cost  0.00115955946967\n",
      "Epoch  33 Update  4210 Cost  2.94684396067e-05\n",
      "Epoch  33 Update  4220 Cost  4.40489202447e-05\n",
      "Epoch  33 Update  4230 Cost  0.000187881189049\n",
      "Epoch  33 Update  4240 Cost  0.00156319374219\n",
      "Epoch  33 Update  4250 Cost  2.42603382503e-05\n",
      "Seen 1998 samples\n",
      "Epoch  34 Update  4260 Cost  0.0176779385656\n",
      "Epoch  34 Update  4270 Cost  0.000452817825135\n",
      "Epoch  34 Update  4280 Cost  0.000335407850798\n",
      "Epoch  34 Update  4290 Cost  9.40415411605e-05\n",
      "Epoch  34 Update  4300 Cost  0.000610103539657\n",
      "Epoch  34 Update  4310 Cost  0.000218064102228\n",
      "Epoch  34 Update  4320 Cost  0.000175186898559\n",
      "Epoch  34 Update  4330 Cost  0.000705145765096\n",
      "Epoch  34 Update  4340 Cost  0.000198374356842\n",
      "Epoch  34 Update  4350 Cost  0.000113945665362\n",
      "Epoch  34 Update  4360 Cost  0.000314099423122\n",
      "Epoch  34 Update  4370 Cost  0.000396590417949\n",
      "Seen 1998 samples\n",
      "Epoch  35 Update  4380 Cost  0.000353531533619\n",
      "Epoch  35 Update  4390 Cost  1.90891423699e-05\n",
      "Epoch  35 Update  4400 Cost  5.83090441069e-05\n",
      "Epoch  35 Update  4410 Cost  0.000108294800157\n",
      "Epoch  35 Update  4420 Cost  4.72273386549e-05\n",
      "Epoch  35 Update  4430 Cost  0.000340011261869\n",
      "Epoch  35 Update  4440 Cost  0.000379962992156\n",
      "Saving...\n",
      "Done\n",
      "('Train ', 0.0, 'Valid ', 0.12380952380952381, 'Test ', 0.21504000000000001)\n",
      "Epoch  35 Update  4450 Cost  3.38738209393e-05\n",
      "Epoch  35 Update  4460 Cost  5.98419028393e-05\n",
      "Epoch  35 Update  4470 Cost  2.14633255382e-05\n",
      "Epoch  35 Update  4480 Cost  0.000184181655641\n",
      "Epoch  35 Update  4490 Cost  0.00071235105861\n",
      "Epoch  35 Update  4500 Cost  0.000325779285049\n",
      "Seen 1998 samples\n",
      "Epoch  36 Update  4510 Cost  0.00103620334994\n",
      "Epoch  36 Update  4520 Cost  9.07053108676e-05\n",
      "Epoch  36 Update  4530 Cost  0.000149376399349\n",
      "Epoch  36 Update  4540 Cost  0.000145306636114\n",
      "Epoch  36 Update  4550 Cost  0.000402607838623\n",
      "Epoch  36 Update  4560 Cost  2.12578252103e-05\n",
      "Epoch  36 Update  4570 Cost  6.86561616021e-05\n",
      "Epoch  36 Update  4580 Cost  0.000722570403013\n",
      "Epoch  36 Update  4590 Cost  0.00142799294554\n",
      "Epoch  36 Update  4600 Cost  0.00119431456551\n",
      "Epoch  36 Update  4610 Cost  3.11228104692e-05\n",
      "Epoch  36 Update  4620 Cost  0.00140045257285\n",
      "Seen 1998 samples\n",
      "Epoch  37 Update  4630 Cost  0.00024942602613\n",
      "Epoch  37 Update  4640 Cost  0.000131979730213\n",
      "Epoch  37 Update  4650 Cost  8.73656608746e-05\n",
      "Epoch  37 Update  4660 Cost  3.08338603645e-05\n",
      "Epoch  37 Update  4670 Cost  0.000231546509895\n",
      "Epoch  37 Update  4680 Cost  0.000219878987991\n",
      "Epoch  37 Update  4690 Cost  0.000131046836032\n",
      "Epoch  37 Update  4700 Cost  7.42610209272e-05\n",
      "Epoch  37 Update  4710 Cost  0.000116457798867\n",
      "Epoch  37 Update  4720 Cost  7.72863859311e-05\n",
      "Epoch  37 Update  4730 Cost  0.000652568764053\n",
      "Epoch  37 Update  4740 Cost  0.000345822481904\n",
      "Epoch  37 Update  4750 Cost  0.000193397630937\n",
      "Seen 1998 samples\n",
      "Epoch  38 Update  4760 Cost  0.000319140235661\n",
      "Epoch  38 Update  4770 Cost  3.91904677599e-06\n",
      "Epoch  38 Update  4780 Cost  0.00068951677531\n",
      "Epoch  38 Update  4790 Cost  7.61411720305e-05\n",
      "Epoch  38 Update  4800 Cost  3.10119030473e-05\n",
      "Epoch  38 Update  4810 Cost  0.000227168493439\n",
      "('Train ', 0.0, 'Valid ', 0.10476190476190472, 'Test ', 0.22160000000000002)\n",
      "Epoch  38 Update  4820 Cost  9.33326446102e-05\n",
      "Epoch  38 Update  4830 Cost  0.000171072446392\n",
      "Epoch  38 Update  4840 Cost  0.000106556472019\n",
      "Epoch  38 Update  4850 Cost  0.000108919855847\n",
      "Epoch  38 Update  4860 Cost  4.97746732435e-05\n",
      "Epoch  38 Update  4870 Cost  0.000109980799607\n",
      "Seen 1998 samples\n",
      "Epoch  39 Update  4880 Cost  3.9351034502e-05\n",
      "Epoch  39 Update  4890 Cost  4.25280450145e-05\n",
      "Epoch  39 Update  4900 Cost  6.36756740278e-05\n",
      "Epoch  39 Update  4910 Cost  6.00525927439e-05\n",
      "Epoch  39 Update  4920 Cost  0.000767446763348\n",
      "Epoch  39 Update  4930 Cost  0.000101729950984\n",
      "Epoch  39 Update  4940 Cost  3.97067851736e-05\n",
      "Epoch  39 Update  4950 Cost  1.84931450349e-05\n",
      "Epoch  39 Update  4960 Cost  0.000285596761387\n",
      "Epoch  39 Update  4970 Cost  0.000380296580261\n",
      "Epoch  39 Update  4980 Cost  7.36148376745e-06\n",
      "Epoch  39 Update  4990 Cost  4.83443072881e-05\n",
      "Epoch  39 Update  5000 Cost  5.3749208746e-05\n",
      "Seen 1998 samples\n",
      "Epoch  40 Update  5010 Cost  6.95983981132e-05\n",
      "Epoch  40 Update  5020 Cost  0.000154872235726\n",
      "Epoch  40 Update  5030 Cost  2.09795234696e-05\n",
      "Epoch  40 Update  5040 Cost  3.77749552172e-06\n",
      "Epoch  40 Update  5050 Cost  6.84007172822e-05\n",
      "Epoch  40 Update  5060 Cost  0.000173857421032\n",
      "Epoch  40 Update  5070 Cost  8.96639976418e-05\n",
      "Epoch  40 Update  5080 Cost  2.27449509111e-05\n",
      "Epoch  40 Update  5090 Cost  3.31554724653e-06\n",
      "Epoch  40 Update  5100 Cost  7.70413225837e-06\n",
      "Epoch  40 Update  5110 Cost  1.75543609657e-05\n",
      "Epoch  40 Update  5120 Cost  1.39036583278e-05\n",
      "Seen 1998 samples\n",
      "Epoch  41 Update  5130 Cost  6.16170746071e-06\n",
      "Epoch  41 Update  5140 Cost  5.81156564294e-06\n",
      "Epoch  41 Update  5150 Cost  9.4944058219e-05\n",
      "Epoch  41 Update  5160 Cost  2.82095588773e-05\n",
      "Epoch  41 Update  5170 Cost  8.12115217741e-07\n",
      "Epoch  41 Update  5180 Cost  1.82293260877e-05\n",
      "('Train ', 0.0, 'Valid ', 0.10476190476190472, 'Test ', 0.21987999999999996)\n",
      "Epoch  41 Update  5190 Cost  9.70168839558e-05\n",
      "Epoch  41 Update  5200 Cost  3.73290749849e-05\n",
      "Epoch  41 Update  5210 Cost  2.69713837042e-06\n",
      "Epoch  41 Update  5220 Cost  2.22773633141e-06\n",
      "Epoch  41 Update  5230 Cost  0.00010659792315\n",
      "Epoch  41 Update  5240 Cost  1.92807747226e-05\n",
      "Epoch  41 Update  5250 Cost  5.14144085173e-05\n",
      "Seen 1998 samples\n",
      "Epoch  42 Update  5260 Cost  3.12929455504e-06\n",
      "Epoch  42 Update  5270 Cost  2.42122241616e-05\n",
      "Epoch  42 Update  5280 Cost  8.80989682628e-05\n",
      "Epoch  42 Update  5290 Cost  6.4640014898e-05\n",
      "Epoch  42 Update  5300 Cost  9.14791235118e-05\n",
      "Epoch  42 Update  5310 Cost  0.000216640648432\n",
      "Epoch  42 Update  5320 Cost  0.000242722700932\n",
      "Epoch  42 Update  5330 Cost  9.13235489861e-05\n",
      "Epoch  42 Update  5340 Cost  0.000185252938536\n",
      "Epoch  42 Update  5350 Cost  0.000269984593615\n",
      "Epoch  42 Update  5360 Cost  1.13481082735e-05\n",
      "Epoch  42 Update  5370 Cost  0.000585146073718\n",
      "Seen 1998 samples\n",
      "Epoch  43 Update  5380 Cost  0.000640544109046\n",
      "Epoch  43 Update  5390 Cost  7.7496159065e-05\n",
      "Epoch  43 Update  5400 Cost  0.000119090174849\n",
      "Epoch  43 Update  5410 Cost  1.27487783175e-05\n",
      "Epoch  43 Update  5420 Cost  6.51725204079e-05\n",
      "Epoch  43 Update  5430 Cost  0.000615065917373\n",
      "Epoch  43 Update  5440 Cost  1.81772520591e-05\n",
      "Epoch  43 Update  5450 Cost  7.70114929765e-05\n",
      "Epoch  43 Update  5460 Cost  4.39589757661e-06\n",
      "Epoch  43 Update  5470 Cost  4.54913897556e-05\n",
      "Epoch  43 Update  5480 Cost  1.3538488929e-05\n",
      "Epoch  43 Update  5490 Cost  0.000212723592995\n",
      "Epoch  43 Update  5500 Cost  6.70134477332e-06\n",
      "Seen 1998 samples\n",
      "Epoch  44 Update  5510 Cost  0.000162975935382\n",
      "Epoch  44 Update  5520 Cost  5.50014556211e-05\n",
      "Epoch  44 Update  5530 Cost  7.08568268237e-06\n",
      "Epoch  44 Update  5540 Cost  7.57737461754e-06\n",
      "Epoch  44 Update  5550 Cost  0.000108509972051\n",
      "Saving...\n",
      "Done\n",
      "('Train ', 0.0, 'Valid ', 0.10476190476190472, 'Test ', 0.21967999999999999)\n",
      "Epoch  44 Update  5560 Cost  2.45305618591e-05\n",
      "Epoch  44 Update  5570 Cost  6.14964301349e-05\n",
      "Epoch  44 Update  5580 Cost  4.82801488033e-06\n",
      "Epoch  44 Update  5590 Cost  2.08255169127e-05\n",
      "Epoch  44 Update  5600 Cost  1.38064033308e-05\n",
      "Epoch  44 Update  5610 Cost  2.92625481961e-05\n",
      "Epoch  44 Update  5620 Cost  2.51469391515e-05\n",
      "Seen 1998 samples\n",
      "Epoch  45 Update  5630 Cost  2.18059485633e-05\n",
      "Epoch  45 Update  5640 Cost  0.000241188288783\n",
      "Epoch  45 Update  5650 Cost  1.86922788998e-05\n",
      "Epoch  45 Update  5660 Cost  1.60865856742e-05\n",
      "Epoch  45 Update  5670 Cost  2.20994097617e-05\n",
      "Epoch  45 Update  5680 Cost  7.48442835175e-05\n",
      "Epoch  45 Update  5690 Cost  1.48267076838e-06\n",
      "Epoch  45 Update  5700 Cost  3.5719906009e-05\n",
      "Epoch  45 Update  5710 Cost  7.21417891327e-05\n",
      "Epoch  45 Update  5720 Cost  7.82329971116e-06\n",
      "Epoch  45 Update  5730 Cost  3.82337420888e-05\n",
      "Epoch  45 Update  5740 Cost  1.13847227112e-05\n",
      "Epoch  45 Update  5750 Cost  0.000198555411771\n",
      "Seen 1998 samples\n",
      "Epoch  46 Update  5760 Cost  3.27292327711e-05\n",
      "Epoch  46 Update  5770 Cost  3.15098550345e-05\n",
      "Epoch  46 Update  5780 Cost  3.04774821416e-05\n",
      "Epoch  46 Update  5790 Cost  3.15161332765e-06\n",
      "Epoch  46 Update  5800 Cost  5.46408955415e-05\n",
      "Epoch  46 Update  5810 Cost  0.000107777399535\n",
      "Epoch  46 Update  5820 Cost  1.56441637955e-05\n",
      "Epoch  46 Update  5830 Cost  0.000619835220277\n",
      "Epoch  46 Update  5840 Cost  1.78673963092e-05\n",
      "Epoch  46 Update  5850 Cost  3.81747158826e-05\n",
      "Epoch  46 Update  5860 Cost  8.15864041215e-06\n",
      "Epoch  46 Update  5870 Cost  0.000108253225335\n",
      "Seen 1998 samples\n",
      "Epoch  47 Update  5880 Cost  8.65582405822e-05\n",
      "Epoch  47 Update  5890 Cost  2.13841194636e-05\n",
      "Epoch  47 Update  5900 Cost  3.09629685944e-05\n",
      "Epoch  47 Update  5910 Cost  4.77646717627e-05\n",
      "Epoch  47 Update  5920 Cost  6.78419382893e-05\n",
      "('Train ', 0.0, 'Valid ', 0.11428571428571432, 'Test ', 0.21963999999999995)\n",
      "Epoch  47 Update  5930 Cost  0.000446978083346\n",
      "Epoch  47 Update  5940 Cost  9.77183808573e-05\n",
      "Epoch  47 Update  5950 Cost  1.48469580381e-05\n",
      "Epoch  47 Update  5960 Cost  1.49763018271e-05\n",
      "Epoch  47 Update  5970 Cost  5.89366900385e-05\n",
      "Epoch  47 Update  5980 Cost  5.0643357099e-05\n",
      "Epoch  47 Update  5990 Cost  3.94930757466e-05\n",
      "Epoch  47 Update  6000 Cost  5.47518220628e-06\n",
      "Seen 1998 samples\n",
      "Epoch  48 Update  6010 Cost  9.17265788303e-05\n",
      "Epoch  48 Update  6020 Cost  2.05613359867e-05\n",
      "Epoch  48 Update  6030 Cost  0.00019926004461\n",
      "Epoch  48 Update  6040 Cost  4.5821770982e-06\n",
      "Epoch  48 Update  6050 Cost  0.000151596861542\n",
      "Epoch  48 Update  6060 Cost  2.41529432969e-05\n",
      "Epoch  48 Update  6070 Cost  0.000152563981828\n",
      "Epoch  48 Update  6080 Cost  4.02336354455e-06\n",
      "Epoch  48 Update  6090 Cost  0.000178187648999\n",
      "Epoch  48 Update  6100 Cost  7.41352050682e-06\n",
      "Epoch  48 Update  6110 Cost  1.6868867533e-05\n",
      "Epoch  48 Update  6120 Cost  7.79364108894e-06\n",
      "Seen 1998 samples\n",
      "Epoch  49 Update  6130 Cost  6.88446925778e-06\n",
      "Epoch  49 Update  6140 Cost  2.80203421426e-05\n",
      "Epoch  49 Update  6150 Cost  3.33267416863e-05\n",
      "Epoch  49 Update  6160 Cost  0.000104290746094\n",
      "Epoch  49 Update  6170 Cost  2.80394815491e-05\n",
      "Epoch  49 Update  6180 Cost  5.9232716012e-06\n",
      "Epoch  49 Update  6190 Cost  5.44320137124e-05\n",
      "Epoch  49 Update  6200 Cost  0.000117406285426\n",
      "Epoch  49 Update  6210 Cost  5.20057210451e-06\n",
      "Epoch  49 Update  6220 Cost  7.18248384146e-06\n",
      "Epoch  49 Update  6230 Cost  4.04766033171e-05\n",
      "Epoch  49 Update  6240 Cost  0.000172453830601\n",
      "Epoch  49 Update  6250 Cost  6.27573581369e-06\n",
      "Seen 1998 samples\n",
      "Epoch  50 Update  6260 Cost  5.77424134462e-06\n",
      "Epoch  50 Update  6270 Cost  1.46562515511e-05\n",
      "Epoch  50 Update  6280 Cost  3.18162456097e-05\n",
      "Epoch  50 Update  6290 Cost  4.16494503952e-06\n",
      "('Train ', 0.0, 'Valid ', 0.10476190476190472, 'Test ', 0.22092000000000001)\n",
      "Epoch  50 Update  6300 Cost  1.2293492091e-06\n",
      "Epoch  50 Update  6310 Cost  0.000100280420156\n",
      "Epoch  50 Update  6320 Cost  1.43580700751e-05\n",
      "Epoch  50 Update  6330 Cost  7.51784546082e-06\n",
      "Epoch  50 Update  6340 Cost  1.00437182482e-05\n",
      "Epoch  50 Update  6350 Cost  0.000152109525516\n",
      "Epoch  50 Update  6360 Cost  4.41081874669e-06\n",
      "Epoch  50 Update  6370 Cost  0.000132639775984\n",
      "Seen 1998 samples\n",
      "Epoch  51 Update  6380 Cost  2.31852645811e-05\n",
      "Epoch  51 Update  6390 Cost  1.82513213076e-05\n",
      "Epoch  51 Update  6400 Cost  1.72114851011e-05\n",
      "Epoch  51 Update  6410 Cost  0.000106247134681\n",
      "Epoch  51 Update  6420 Cost  0.000212659258978\n",
      "Epoch  51 Update  6430 Cost  7.51972693251e-05\n",
      "Epoch  51 Update  6440 Cost  7.62326162658e-05\n",
      "Epoch  51 Update  6450 Cost  3.67317807104e-06\n",
      "Epoch  51 Update  6460 Cost  9.35812840908e-06\n",
      "Epoch  51 Update  6470 Cost  1.70402508957e-05\n",
      "Epoch  51 Update  6480 Cost  3.49039764842e-05\n",
      "Epoch  51 Update  6490 Cost  3.1005267374e-05\n",
      "Epoch  51 Update  6500 Cost  1.10868058982e-05\n",
      "Seen 1998 samples\n",
      "Epoch  52 Update  6510 Cost  3.49435686076e-06\n",
      "Epoch  52 Update  6520 Cost  6.7073655373e-05\n",
      "Epoch  52 Update  6530 Cost  2.2128369892e-06\n",
      "Epoch  52 Update  6540 Cost  5.62502136745e-05\n",
      "Epoch  52 Update  6550 Cost  6.26740802545e-05\n",
      "Epoch  52 Update  6560 Cost  0.000128955463879\n",
      "Epoch  52 Update  6570 Cost  3.66379099432e-05\n",
      "Epoch  52 Update  6580 Cost  4.54501287095e-06\n",
      "Epoch  52 Update  6590 Cost  0.000170490326127\n",
      "Epoch  52 Update  6600 Cost  3.52137030859e-05\n",
      "Epoch  52 Update  6610 Cost  1.16229841751e-06\n",
      "Epoch  52 Update  6620 Cost  5.911667904e-05\n",
      "Seen 1998 samples\n",
      "Epoch  53 Update  6630 Cost  1.12435473056e-05\n",
      "Epoch  53 Update  6640 Cost  2.5452744012e-05\n",
      "Epoch  53 Update  6650 Cost  8.89631064638e-06\n",
      "Epoch  53 Update  6660 Cost  1.41612063089e-05\n",
      "Saving...\n",
      "Done\n",
      "('Train ', 0.0, 'Valid ', 0.12380952380952381, 'Test ', 0.22255999999999998)\n",
      "Epoch  53 Update  6670 Cost  0.000183772397577\n",
      "Epoch  53 Update  6680 Cost  5.06646802023e-06\n",
      "Epoch  53 Update  6690 Cost  1.58600578288e-05\n",
      "Epoch  53 Update  6700 Cost  7.11556458555e-06\n",
      "Epoch  53 Update  6710 Cost  5.13562445121e-05\n",
      "Epoch  53 Update  6720 Cost  4.33627792518e-06\n",
      "Epoch  53 Update  6730 Cost  2.89590461762e-05\n",
      "Epoch  53 Update  6740 Cost  7.78911999078e-05\n",
      "Epoch  53 Update  6750 Cost  4.78596266476e-05\n",
      "Seen 1998 samples\n",
      "Epoch  54 Update  6760 Cost  1.13181822599e-05\n",
      "Epoch  54 Update  6770 Cost  7.61492128731e-06\n",
      "Epoch  54 Update  6780 Cost  4.28319362982e-05\n",
      "Epoch  54 Update  6790 Cost  3.54655662704e-06\n",
      "Epoch  54 Update  6800 Cost  0.000119179072499\n",
      "Epoch  54 Update  6810 Cost  6.07530164416e-05\n",
      "Epoch  54 Update  6820 Cost  1.38362356665e-05\n",
      "Epoch  54 Update  6830 Cost  4.31851840403e-05\n",
      "Epoch  54 Update  6840 Cost  0.000217873734073\n",
      "Epoch  54 Update  6850 Cost  0.000368709559552\n",
      "Epoch  54 Update  6860 Cost  2.5916917366e-05\n",
      "Epoch  54 Update  6870 Cost  5.06640105868e-07\n",
      "Seen 1998 samples\n",
      "Epoch  55 Update  6880 Cost  2.27124637604e-05\n",
      "Epoch  55 Update  6890 Cost  7.063301382e-06\n",
      "Epoch  55 Update  6900 Cost  9.38778214277e-07\n",
      "Epoch  55 Update  6910 Cost  6.54179075354e-06\n",
      "Epoch  55 Update  6920 Cost  1.57588583534e-05\n",
      "Epoch  55 Update  6930 Cost  4.06891485909e-05\n",
      "Epoch  55 Update  6940 Cost  1.49241259351e-05\n",
      "Epoch  55 Update  6950 Cost  6.19917591393e-06\n",
      "Epoch  55 Update  6960 Cost  5.04416084368e-06\n",
      "Epoch  55 Update  6970 Cost  1.14077056423e-05\n",
      "Epoch  55 Update  6980 Cost  9.31325416786e-07\n",
      "Epoch  55 Update  6990 Cost  2.34598574025e-05\n",
      "Epoch  55 Update  7000 Cost  0.000292899785563\n",
      "Seen 1998 samples\n",
      "Epoch  56 Update  7010 Cost  4.31785738328e-05\n",
      "Epoch  56 Update  7020 Cost  7.29426392354e-06\n",
      "Epoch  56 Update  7030 Cost  7.89040677773e-06\n",
      "('Train ', 0.0, 'Valid ', 0.11428571428571432, 'Test ', 0.22328000000000003)\n",
      "Epoch  56 Update  7040 Cost  2.57874344243e-05\n",
      "Epoch  56 Update  7050 Cost  8.06187381386e-06\n",
      "Epoch  56 Update  7060 Cost  2.16066922576e-07\n",
      "Epoch  56 Update  7070 Cost  1.2562444681e-05\n",
      "Epoch  56 Update  7080 Cost  4.87450015498e-05\n",
      "Epoch  56 Update  7090 Cost  8.95596804185e-06\n",
      "Epoch  56 Update  7100 Cost  2.50725825026e-05\n",
      "Epoch  56 Update  7110 Cost  1.02229414551e-05\n",
      "Epoch  56 Update  7120 Cost  4.26845726906e-05\n",
      "Seen 1998 samples\n",
      "Epoch  57 Update  7130 Cost  2.12895320146e-05\n",
      "Epoch  57 Update  7140 Cost  2.48389897024e-05\n",
      "Epoch  57 Update  7150 Cost  6.36168188066e-05\n",
      "Epoch  57 Update  7160 Cost  1.89246952687e-06\n",
      "Epoch  57 Update  7170 Cost  7.15317146387e-05\n",
      "Epoch  57 Update  7180 Cost  3.50184359377e-06\n",
      "Epoch  57 Update  7190 Cost  1.82439453056e-05\n",
      "Epoch  57 Update  7200 Cost  3.56886471309e-06\n",
      "Epoch  57 Update  7210 Cost  1.54803801706e-05\n",
      "Epoch  57 Update  7220 Cost  2.18304580812e-06\n",
      "Epoch  57 Update  7230 Cost  1.24057587527e-05\n",
      "Epoch  57 Update  7240 Cost  8.32997466205e-06\n",
      "Epoch  57 Update  7250 Cost  4.84271149617e-05\n",
      "Seen 1998 samples\n",
      "Epoch  58 Update  7260 Cost  0.000207813311135\n",
      "Epoch  58 Update  7270 Cost  0.000118903262774\n",
      "Epoch  58 Update  7280 Cost  2.69176780421e-05\n",
      "Epoch  58 Update  7290 Cost  9.64125047176e-06\n",
      "Epoch  58 Update  7300 Cost  1.35683194458e-05\n",
      "Epoch  58 Update  7310 Cost  6.25114489594e-06\n",
      "Epoch  58 Update  7320 Cost  6.1399929109e-05\n",
      "Epoch  58 Update  7330 Cost  1.21824923554e-05\n",
      "Epoch  58 Update  7340 Cost  6.28837324257e-06\n",
      "Epoch  58 Update  7350 Cost  1.01926525531e-05\n",
      "Epoch  58 Update  7360 Cost  2.5673158234e-05\n",
      "Epoch  58 Update  7370 Cost  0.000171797611983\n",
      "Seen 1998 samples\n",
      "Epoch  59 Update  7380 Cost  8.64338653628e-05\n",
      "Epoch  59 Update  7390 Cost  4.23942856287e-06\n",
      "Epoch  59 Update  7400 Cost  5.27407282789e-05\n",
      "('Train ', 0.0, 'Valid ', 0.11428571428571432, 'Test ', 0.22211999999999998)\n",
      "Epoch  59 Update  7410 Cost  2.71260287263e-05\n",
      "Epoch  59 Update  7420 Cost  1.60934052928e-06\n",
      "Epoch  59 Update  7430 Cost  3.7900517782e-05\n",
      "Epoch  59 Update  7440 Cost  0.000109739958134\n",
      "Epoch  59 Update  7450 Cost  0.000147223327076\n",
      "Epoch  59 Update  7460 Cost  3.53691284545e-05\n",
      "Epoch  59 Update  7470 Cost  0.000201925780857\n",
      "Epoch  59 Update  7480 Cost  2.01592047233e-05\n",
      "Epoch  59 Update  7490 Cost  9.28364443098e-06\n",
      "Epoch  59 Update  7500 Cost  4.42777974285e-07\n",
      "Seen 1998 samples\n",
      "Epoch  60 Update  7510 Cost  9.05175620574e-05\n",
      "Epoch  60 Update  7520 Cost  8.29275995784e-06\n",
      "Epoch  60 Update  7530 Cost  7.59239310355e-06\n",
      "Epoch  60 Update  7540 Cost  3.13672421726e-06\n",
      "Epoch  60 Update  7550 Cost  1.76341927727e-05\n",
      "Epoch  60 Update  7560 Cost  4.61200615973e-05\n",
      "Epoch  60 Update  7570 Cost  6.45973113933e-06\n",
      "Epoch  60 Update  7580 Cost  8.93800461199e-05\n",
      "Epoch  60 Update  7590 Cost  6.76653726259e-05\n",
      "Epoch  60 Update  7600 Cost  1.98615325644e-05\n",
      "Epoch  60 Update  7610 Cost  5.61790102438e-06\n",
      "Epoch  60 Update  7620 Cost  1.78788232006e-05\n",
      "Seen 1998 samples\n",
      "Epoch  61 Update  7630 Cost  5.22566151631e-05\n",
      "Epoch  61 Update  7640 Cost  1.95951929527e-06\n",
      "Epoch  61 Update  7650 Cost  1.52597222041e-05\n",
      "Epoch  61 Update  7660 Cost  3.55072552338e-05\n",
      "Epoch  61 Update  7670 Cost  3.12924498758e-07\n",
      "Epoch  61 Update  7680 Cost  7.97214511294e-07\n",
      "Epoch  61 Update  7690 Cost  8.24057497084e-06\n",
      "Epoch  61 Update  7700 Cost  2.99098228425e-05\n",
      "Epoch  61 Update  7710 Cost  5.79569568799e-05\n",
      "Epoch  61 Update  7720 Cost  8.87403621164e-06\n",
      "Epoch  61 Update  7730 Cost  0.000270180287771\n",
      "Epoch  61 Update  7740 Cost  0.000197561865207\n",
      "Epoch  61 Update  7750 Cost  8.28190386528e-05\n",
      "Seen 1998 samples\n",
      "Epoch  62 Update  7760 Cost  0.000390141474782\n",
      "Epoch  62 Update  7770 Cost  6.92905189226e-07\n",
      "Saving...\n",
      "Done\n",
      "('Train ', 0.0, 'Valid ', 0.11428571428571432, 'Test ', 0.21923999999999999)\n",
      "Epoch  62 Update  7780 Cost  2.55595641647e-05\n",
      "Epoch  62 Update  7790 Cost  2.14456504182e-05\n",
      "Epoch  62 Update  7800 Cost  5.54341841053e-06\n",
      "Epoch  62 Update  7810 Cost  1.16829605759e-05\n",
      "Epoch  62 Update  7820 Cost  7.04855847289e-06\n",
      "Epoch  62 Update  7830 Cost  4.17545343225e-05\n",
      "Epoch  62 Update  7840 Cost  4.4703490687e-08\n",
      "Epoch  62 Update  7850 Cost  1.9161398086e-05\n",
      "Epoch  62 Update  7860 Cost  0.00055049394723\n",
      "Epoch  62 Update  7870 Cost  5.46980809304e-05\n",
      "Seen 1998 samples\n",
      "Epoch  63 Update  7880 Cost  1.26440099848e-05\n",
      "Epoch  63 Update  7890 Cost  2.08148667298e-05\n",
      "Epoch  63 Update  7900 Cost  5.75196145292e-06\n",
      "Epoch  63 Update  7910 Cost  3.49173169525e-05\n",
      "Epoch  63 Update  7920 Cost  1.61287953233e-05\n",
      "Epoch  63 Update  7930 Cost  4.71632847621e-06\n",
      "Epoch  63 Update  7940 Cost  3.24099892168e-05\n",
      "Epoch  63 Update  7950 Cost  2.13088037526e-06\n",
      "Epoch  63 Update  7960 Cost  5.99786199018e-06\n",
      "Epoch  63 Update  7970 Cost  3.23976782965e-05\n",
      "Epoch  63 Update  7980 Cost  4.45549903816e-06\n",
      "Epoch  63 Update  7990 Cost  1.84936197911e-05\n",
      "Epoch  63 Update  8000 Cost  0.00106859498192\n",
      "Seen 1998 samples\n",
      "Epoch  64 Update  8010 Cost  1.89992124433e-06\n",
      "Epoch  64 Update  8020 Cost  1.36427788675e-05\n",
      "Epoch  64 Update  8030 Cost  8.60892396304e-05\n",
      "Epoch  64 Update  8040 Cost  0.000112375309982\n",
      "Epoch  64 Update  8050 Cost  1.5646226359e-07\n",
      "Epoch  64 Update  8060 Cost  1.09677121145e-05\n",
      "Epoch  64 Update  8070 Cost  7.50313529352e-06\n",
      "Epoch  64 Update  8080 Cost  5.34839600732e-05\n",
      "Epoch  64 Update  8090 Cost  3.48689650309e-06\n",
      "Epoch  64 Update  8100 Cost  5.47532981727e-05\n",
      "Epoch  64 Update  8110 Cost  5.2931416576e-05\n",
      "Epoch  64 Update  8120 Cost  4.42570762971e-06\n",
      "Seen 1998 samples\n",
      "Epoch  65 Update  8130 Cost  4.50774905403e-06\n",
      "Epoch  65 Update  8140 Cost  7.65658041928e-05\n",
      "('Train ', 0.0, 'Valid ', 0.12380952380952381, 'Test ', 0.22008000000000005)\n",
      "Epoch  65 Update  8150 Cost  1.73756034201e-05\n",
      "Epoch  65 Update  8160 Cost  1.19660553537e-05\n",
      "Epoch  65 Update  8170 Cost  3.97106923629e-05\n",
      "Epoch  65 Update  8180 Cost  8.80681818671e-06\n",
      "Epoch  65 Update  8190 Cost  1.55717907546e-06\n",
      "Epoch  65 Update  8200 Cost  4.46621706942e-05\n",
      "Epoch  65 Update  8210 Cost  1.86426877917e-05\n",
      "Epoch  65 Update  8220 Cost  2.66733445642e-06\n",
      "Epoch  65 Update  8230 Cost  5.51320590603e-05\n",
      "Epoch  65 Update  8240 Cost  1.52040038301e-05\n",
      "Epoch  65 Update  8250 Cost  6.80337543599e-05\n",
      "Seen 1998 samples\n",
      "Epoch  66 Update  8260 Cost  4.84288932512e-07\n",
      "Epoch  66 Update  8270 Cost  3.93402751797e-06\n",
      "Epoch  66 Update  8280 Cost  5.22292339156e-06\n",
      "Epoch  66 Update  8290 Cost  7.71151553636e-06\n",
      "Epoch  66 Update  8300 Cost  3.51366506948e-05\n",
      "Epoch  66 Update  8310 Cost  1.2670923752e-05\n",
      "Epoch  66 Update  8320 Cost  2.00336180569e-05\n",
      "Epoch  66 Update  8330 Cost  4.22154625994e-05\n",
      "Epoch  66 Update  8340 Cost  5.78800063522e-05\n",
      "Epoch  66 Update  8350 Cost  4.42577220383e-06\n",
      "Epoch  66 Update  8360 Cost  7.32401758796e-06\n",
      "Epoch  66 Update  8370 Cost  7.38368589737e-06\n",
      "Seen 1998 samples\n",
      "Epoch  67 Update  8380 Cost  2.16814714804e-06\n",
      "Epoch  67 Update  8390 Cost  3.78693912353e-05\n",
      "Epoch  67 Update  8400 Cost  3.44963723364e-06\n",
      "Epoch  67 Update  8410 Cost  0.000155371104483\n",
      "Epoch  67 Update  8420 Cost  2.16423304664e-05\n",
      "Epoch  67 Update  8430 Cost  2.3543966563e-06\n",
      "Epoch  67 Update  8440 Cost  1.26144577735e-05\n",
      "Epoch  67 Update  8450 Cost  5.04424406245e-06\n",
      "Epoch  67 Update  8460 Cost  1.36871449286e-05\n",
      "Epoch  67 Update  8470 Cost  4.91738944675e-07\n",
      "Epoch  67 Update  8480 Cost  1.4935983927e-05\n",
      "Epoch  67 Update  8490 Cost  4.94948653795e-05\n",
      "Epoch  67 Update  8500 Cost  8.39531930978e-05\n",
      "Seen 1998 samples\n",
      "Epoch  68 Update  8510 Cost  6.921768545e-06\n",
      "('Train ', 0.0, 'Valid ', 0.11428571428571432, 'Test ', 0.22096000000000005)\n",
      "Epoch  68 Update  8520 Cost  3.40222759405e-05\n",
      "Epoch  68 Update  8530 Cost  1.68435981323e-05\n",
      "Epoch  68 Update  8540 Cost  1.10422561193e-05\n",
      "Epoch  68 Update  8550 Cost  3.180897329e-05\n",
      "Epoch  68 Update  8560 Cost  0.000102940684883\n",
      "Epoch  68 Update  8570 Cost  4.32143269791e-06\n",
      "Epoch  68 Update  8580 Cost  4.52789172414e-05\n",
      "Epoch  68 Update  8590 Cost  5.3607938753e-05\n",
      "Epoch  68 Update  8600 Cost  0.000133985435241\n",
      "Epoch  68 Update  8610 Cost  2.00999820663e-05\n",
      "Epoch  68 Update  8620 Cost  5.57129715162e-05\n",
      "Seen 1998 samples\n",
      "Epoch  69 Update  8630 Cost  1.35382651933e-05\n",
      "Epoch  69 Update  8640 Cost  3.61357501788e-06\n",
      "Epoch  69 Update  8650 Cost  8.3598170022e-06\n",
      "Epoch  69 Update  8660 Cost  1.28895396756e-06\n",
      "Epoch  69 Update  8670 Cost  1.73609423655e-05\n",
      "Epoch  69 Update  8680 Cost  3.38410172844e-05\n",
      "Epoch  69 Update  8690 Cost  5.014323051e-06\n",
      "Epoch  69 Update  8700 Cost  4.24683548772e-07\n",
      "Epoch  69 Update  8710 Cost  1.10572864287e-05\n",
      "Epoch  69 Update  8720 Cost  1.81136510946e-05\n",
      "Epoch  69 Update  8730 Cost  3.4496445096e-06\n",
      "Epoch  69 Update  8740 Cost  1.75543609657e-05\n",
      "Epoch  69 Update  8750 Cost  1.70986422745e-05\n",
      "Seen 1998 samples\n",
      "Epoch  70 Update  8760 Cost  2.35648331e-05\n",
      "Epoch  70 Update  8770 Cost  3.73530019715e-05\n",
      "Epoch  70 Update  8780 Cost  0.000156036767294\n",
      "Epoch  70 Update  8790 Cost  4.69396854896e-06\n",
      "Epoch  70 Update  8800 Cost  5.4229520174e-05\n",
      "Epoch  70 Update  8810 Cost  1.11241988634e-05\n",
      "Epoch  70 Update  8820 Cost  3.54650683221e-06\n",
      "Epoch  70 Update  8830 Cost  1.09523807623e-06\n",
      "Epoch  70 Update  8840 Cost  5.38206440979e-05\n",
      "Epoch  70 Update  8850 Cost  3.72565809812e-05\n",
      "Epoch  70 Update  8860 Cost  9.65669005382e-06\n",
      "Epoch  70 Update  8870 Cost  4.32134839912e-07\n",
      "Seen 1998 samples\n",
      "Epoch  71 Update  8880 Cost  8.37894840515e-05\n",
      "Saving...\n",
      "Done\n",
      "('Train ', 0.0, 'Valid ', 0.12380952380952381, 'Test ', 0.22155999999999998)\n",
      "Epoch  71 Update  8890 Cost  9.58629170782e-05\n",
      "Epoch  71 Update  8900 Cost  3.2969568565e-05\n",
      "Epoch  71 Update  8910 Cost  2.13066996366e-05\n",
      "Epoch  71 Update  8920 Cost  7.12724213372e-05\n",
      "Epoch  71 Update  8930 Cost  8.56818189732e-07\n",
      "Epoch  71 Update  8940 Cost  2.23517531595e-07\n",
      "Epoch  71 Update  8950 Cost  1.40153415487e-05\n",
      "Epoch  71 Update  8960 Cost  3.82219332096e-06\n",
      "Epoch  71 Update  8970 Cost  2.78765601252e-05\n",
      "Epoch  71 Update  8980 Cost  8.56818758166e-07\n",
      "Epoch  71 Update  8990 Cost  1.03563320408e-06\n",
      "Epoch  71 Update  9000 Cost  9.06542190933e-05\n",
      "Seen 1998 samples\n",
      "Epoch  72 Update  9010 Cost  3.69959379896e-05\n",
      "Epoch  72 Update  9020 Cost  1.32406066768e-05\n",
      "Epoch  72 Update  9030 Cost  3.1358540582e-05\n",
      "Epoch  72 Update  9040 Cost  1.42235758176e-05\n",
      "Epoch  72 Update  9050 Cost  3.79980008347e-07\n",
      "Epoch  72 Update  9060 Cost  1.40451593325e-05\n",
      "Epoch  72 Update  9070 Cost  5.50611912331e-06\n",
      "Epoch  72 Update  9080 Cost  2.41402835854e-06\n",
      "Epoch  72 Update  9090 Cost  1.9588491341e-05\n",
      "Epoch  72 Update  9100 Cost  2.34780163737e-05\n",
      "Epoch  72 Update  9110 Cost  3.28576811626e-06\n",
      "Epoch  72 Update  9120 Cost  2.7245558158e-05\n",
      "Seen 1998 samples\n",
      "Epoch  73 Update  9130 Cost  1.39326880344e-06\n",
      "Epoch  73 Update  9140 Cost  1.13405694719e-05\n",
      "Epoch  73 Update  9150 Cost  2.79398591374e-06\n",
      "Epoch  73 Update  9160 Cost  2.19680932787e-05\n",
      "Epoch  73 Update  9170 Cost  1.50733858391e-05\n",
      "Epoch  73 Update  9180 Cost  1.21378379845e-05\n",
      "Epoch  73 Update  9190 Cost  0.00029565760633\n",
      "Epoch  73 Update  9200 Cost  2.65987773673e-06\n",
      "Epoch  73 Update  9210 Cost  6.13941165284e-06\n",
      "Epoch  73 Update  9220 Cost  1.95557167899e-05\n",
      "Epoch  73 Update  9230 Cost  3.84687446058e-05\n",
      "Epoch  73 Update  9240 Cost  4.46554004156e-05\n",
      "Epoch  73 Update  9250 Cost  0.00025760877179\n",
      "('Train ', 0.0, 'Valid ', 0.1333333333333333, 'Test ', 0.22363999999999995)\n",
      "Seen 1998 samples\n",
      "Epoch  74 Update  9260 Cost  1.41561974942e-06\n",
      "Epoch  74 Update  9270 Cost  1.65336969076e-05\n",
      "Epoch  74 Update  9280 Cost  1.03719057734e-05\n",
      "Epoch  74 Update  9290 Cost  2.80144331555e-06\n",
      "Epoch  74 Update  9300 Cost  3.66460808436e-05\n",
      "Epoch  74 Update  9310 Cost  5.17824673807e-06\n",
      "Epoch  74 Update  9320 Cost  7.45845090933e-06\n",
      "Epoch  74 Update  9330 Cost  7.00357247752e-07\n",
      "Epoch  74 Update  9340 Cost  1.65152905538e-05\n",
      "Epoch  74 Update  9350 Cost  1.46827505887e-05\n",
      "Epoch  74 Update  9360 Cost  3.2069721783e-05\n",
      "Epoch  74 Update  9370 Cost  3.75703457394e-05\n",
      "Seen 1998 samples\n",
      "Epoch  75 Update  9380 Cost  7.04223057255e-05\n",
      "Epoch  75 Update  9390 Cost  3.5695189581e-05\n",
      "Epoch  75 Update  9400 Cost  1.35308682729e-05\n",
      "Epoch  75 Update  9410 Cost  7.37609639145e-07\n",
      "Epoch  75 Update  9420 Cost  2.45869529181e-07\n",
      "Epoch  75 Update  9430 Cost  4.78332776765e-06\n",
      "Epoch  75 Update  9440 Cost  1.76580601874e-06\n",
      "Epoch  75 Update  9450 Cost  4.00845374315e-06\n",
      "Epoch  75 Update  9460 Cost  3.07383852487e-05\n",
      "Epoch  75 Update  9470 Cost  5.99777649768e-06\n",
      "Epoch  75 Update  9480 Cost  1.86266800029e-06\n",
      "Epoch  75 Update  9490 Cost  3.43705214618e-05\n",
      "Epoch  75 Update  9500 Cost  5.19053683092e-05\n",
      "Seen 1998 samples\n",
      "Epoch  76 Update  9510 Cost  1.12504244498e-06\n",
      "Epoch  76 Update  9520 Cost  7.72657858761e-06\n",
      "Epoch  76 Update  9530 Cost  8.86655379873e-06\n",
      "Epoch  76 Update  9540 Cost  1.195879031e-05\n",
      "Epoch  76 Update  9550 Cost  4.47424426966e-05\n",
      "Epoch  76 Update  9560 Cost  1.283786969e-05\n",
      "Epoch  76 Update  9570 Cost  1.34110493377e-07\n",
      "Epoch  76 Update  9580 Cost  2.92455442832e-05\n",
      "Epoch  76 Update  9590 Cost  0.000113639784104\n",
      "Epoch  76 Update  9600 Cost  3.46457818523e-06\n",
      "Epoch  76 Update  9610 Cost  7.45059935525e-07\n",
      "Epoch  76 Update  9620 Cost  1.15115981316e-05\n",
      "('Train ', 0.0, 'Valid ', 0.12380952380952381, 'Test ', 0.22099999999999997)\n",
      "Seen 1998 samples\n",
      "Epoch  77 Update  9630 Cost  4.34619942098e-05\n",
      "Epoch  77 Update  9640 Cost  5.13769737154e-05\n",
      "Epoch  77 Update  9650 Cost  1.66497320606e-05\n",
      "Epoch  77 Update  9660 Cost  7.31658292352e-06\n",
      "Epoch  77 Update  9670 Cost  1.81796008292e-06\n",
      "Epoch  77 Update  9680 Cost  8.91017043614e-05\n",
      "Epoch  77 Update  9690 Cost  5.6327639868e-06\n",
      "Epoch  77 Update  9700 Cost  1.88501007869e-06\n",
      "Epoch  77 Update  9710 Cost  1.79866201506e-05\n",
      "Epoch  77 Update  9720 Cost  6.25857910563e-06\n",
      "Epoch  77 Update  9730 Cost  3.52416259375e-06\n",
      "Epoch  77 Update  9740 Cost  3.54155345121e-05\n",
      "Epoch  77 Update  9750 Cost  1.93290429706e-06\n",
      "Seen 1998 samples\n",
      "Epoch  78 Update  9760 Cost  1.09901802716e-05\n",
      "Epoch  78 Update  9770 Cost  0.000174464526935\n",
      "Epoch  78 Update  9780 Cost  2.06562726817e-05\n",
      "Epoch  78 Update  9790 Cost  1.66082718351e-05\n",
      "Epoch  78 Update  9800 Cost  6.92929188517e-06\n",
      "Epoch  78 Update  9810 Cost  9.8798682302e-06\n",
      "Epoch  78 Update  9820 Cost  4.15747081206e-06\n",
      "Epoch  78 Update  9830 Cost  1.63028107636e-05\n",
      "Epoch  78 Update  9840 Cost  1.78070501988e-06\n",
      "Epoch  78 Update  9850 Cost  3.64185070794e-05\n",
      "Epoch  78 Update  9860 Cost  4.4480671022e-06\n",
      "Epoch  78 Update  9870 Cost  5.82238972129e-05\n",
      "Seen 1998 samples\n",
      "Epoch  79 Update  9880 Cost  1.6153402612e-05\n",
      "Epoch  79 Update  9890 Cost  5.17824300914e-05\n",
      "Epoch  79 Update  9900 Cost  5.00686701344e-06\n",
      "Epoch  79 Update  9910 Cost  2.30968112191e-07\n",
      "Epoch  79 Update  9920 Cost  9.84257076198e-06\n",
      "Epoch  79 Update  9930 Cost  6.09835951764e-05\n",
      "Epoch  79 Update  9940 Cost  3.10954892484e-05\n",
      "Epoch  79 Update  9950 Cost  1.18464993193e-06\n",
      "Epoch  79 Update  9960 Cost  1.86327724805e-05\n",
      "Epoch  79 Update  9970 Cost  9.84280541161e-06\n",
      "Epoch  79 Update  9980 Cost  5.37736377737e-05\n",
      "Epoch  79 Update  9990 Cost  2.92812364933e-06\n",
      "Saving...\n",
      "Done\n",
      "('Train ', 0.0, 'Valid ', 0.12380952380952381, 'Test ', 0.2208)\n",
      "Epoch  79 Update  10000 Cost  1.77111633093e-06\n",
      "Seen 1998 samples\n",
      "Epoch  80 Update  10010 Cost  1.29016525534e-05\n",
      "Epoch  80 Update  10020 Cost  6.2843246269e-05\n",
      "Epoch  80 Update  10030 Cost  0.000333852425683\n",
      "Epoch  80 Update  10040 Cost  2.23519850806e-06\n",
      "Epoch  80 Update  10050 Cost  2.15971249418e-05\n",
      "Epoch  80 Update  10060 Cost  4.48505561508e-05\n",
      "Epoch  80 Update  10070 Cost  2.75673937722e-06\n",
      "Epoch  80 Update  10080 Cost  2.75789825537e-05\n",
      "Epoch  80 Update  10090 Cost  8.7543274276e-05\n",
      "Epoch  80 Update  10100 Cost  2.11597875932e-06\n",
      "Epoch  80 Update  10110 Cost  1.33594958243e-05\n",
      "Epoch  80 Update  10120 Cost  1.98188308786e-06\n",
      "Seen 1998 samples\n",
      "Epoch  81 Update  10130 Cost  0.000167067628354\n",
      "Epoch  81 Update  10140 Cost  1.3262550965e-05\n",
      "Epoch  81 Update  10150 Cost  4.33628838437e-06\n",
      "Epoch  81 Update  10160 Cost  5.85629641137e-06\n",
      "Epoch  81 Update  10170 Cost  1.10350583782e-05\n",
      "Epoch  81 Update  10180 Cost  6.68335314913e-06\n",
      "Epoch  81 Update  10190 Cost  6.4210347773e-05\n",
      "Epoch  81 Update  10200 Cost  2.00359900191e-05\n",
      "Epoch  81 Update  10210 Cost  1.44546111187e-05\n",
      "Epoch  81 Update  10220 Cost  1.66749614436e-05\n",
      "Epoch  81 Update  10230 Cost  1.89231122931e-05\n",
      "Epoch  81 Update  10240 Cost  6.55653650483e-07\n",
      "Epoch  81 Update  10250 Cost  6.68438951834e-06\n",
      "Seen 1998 samples\n",
      "Epoch  82 Update  10260 Cost  2.5055342121e-05\n",
      "Epoch  82 Update  10270 Cost  2.28189765039e-05\n",
      "Epoch  82 Update  10280 Cost  1.06846891867e-05\n",
      "Epoch  82 Update  10290 Cost  0.000115037968499\n",
      "Epoch  82 Update  10300 Cost  3.51488160959e-05\n",
      "Epoch  82 Update  10310 Cost  1.423843878e-05\n",
      "Epoch  82 Update  10320 Cost  4.87276474814e-06\n",
      "Epoch  82 Update  10330 Cost  3.81476684197e-06\n",
      "Epoch  82 Update  10340 Cost  5.471428085e-05\n",
      "Epoch  82 Update  10350 Cost  2.10107168641e-06\n",
      "Epoch  82 Update  10360 Cost  1.42430908454e-05\n",
      "('Train ', 0.0, 'Valid ', 0.12380952380952381, 'Test ', 0.22192000000000001)\n",
      "Early Stop!\n",
      "Seen 1760 samples\n",
      "Train  0.0 Valid  0.104761904762 Test  0.22092\n",
      "The code run for 83 epochs, with 5.504656 sec/epochs\n"
     ]
    },
    {
     "name": "stderr",
     "output_type": "stream",
     "text": [
      "Training took 456.9s\n"
     ]
    },
    {
     "data": {
      "text/plain": [
       "(0.0, 0.10476190476190472, 0.22092000000000001)"
      ]
     },
     "execution_count": 63,
     "metadata": {},
     "output_type": "execute_result"
    }
   ],
   "source": [
    "#train_lstm()"
   ]
  },
  {
   "cell_type": "code",
   "execution_count": 64,
   "metadata": {
    "collapsed": true
   },
   "outputs": [],
   "source": [
    "    dim_proj=128,  # word embeding dimension and LSTM number of hidden units.\n",
    "    patience=10,  # Number of epoch to wait before early stop if no progress\n",
    "    max_epochs=5000,  # The maximum number of epoch to run\n",
    "    dispFreq=10,  # Display to stdout the training progress every N updates\n",
    "    decay_c=0.,  # Weight decay for the classifier applied to the U weights.\n",
    "    lrate=0.0001,  # Learning rate for sgd (not used for adadelta and rmsprop)\n",
    "    n_words=10000,  # Vocabulary size\n",
    "    optimizer=adadelta,  # sgd, adadelta and rmsprop available, sgd very hard to use, not recommanded (probably need momentum and decaying learning rate).\n",
    "    encoder='lstm',  # TODO: can be removed must be lstm.\n",
    "    saveto='lstm_model.npz',  # The best model will be saved there\n",
    "    validFreq=370,  # Compute the validation error after this number of update.\n",
    "    saveFreq=1110,  # Save the parameters after every saveFreq updates\n",
    "    maxlen=100,  # Sequence longer then this get ignored\n",
    "    batch_size=16,  # The batch size during training.\n",
    "    valid_batch_size=64,  # The batch size used for validation/test set.\n",
    "    dataset='imdb',\n",
    "\n",
    "    # Parameter for extra option\n",
    "    noise_std=0.,\n",
    "    use_dropout=True,  # if False slightly faster, but worst test error\n",
    "                       # This frequently need a bigger model.\n",
    "    reload_model=None,  # Path to a saved model we want to start from.\n",
    "    test_size=-1,  # If >0, we keep only this number of test example."
   ]
  },
  {
   "cell_type": "code",
   "execution_count": null,
   "metadata": {
    "collapsed": true
   },
   "outputs": [],
   "source": [
    "    # Model options\n",
    "    model_options = locals().copy()\n",
    "    print(\"model options\", model_options)\n",
    "\n",
    "    load_data, prepare_data = get_dataset(dataset)\n",
    "\n",
    "    print('Loading data')\n",
    "    train, valid, test = load_data(n_words=n_words, valid_portion=0.05,\n",
    "                                   maxlen=maxlen)\n",
    "    if test_size > 0:\n",
    "        # The test set is sorted by size, but we want to keep random\n",
    "        # size example.  So we must select a random selection of the\n",
    "        # examples.\n",
    "        idx = numpy.arange(len(test[0]))\n",
    "        numpy.random.shuffle(idx)\n",
    "        idx = idx[:test_size]\n",
    "        test = ([test[0][n] for n in idx], [test[1][n] for n in idx])\n",
    "\n",
    "    ydim = numpy.max(train[1]) + 1\n",
    "\n",
    "    model_options['ydim'] = ydim\n",
    "\n",
    "    print('Building model')\n",
    "    # This create the initial parameters as numpy ndarrays.\n",
    "    # Dict name (string) -> numpy ndarray"
   ]
  },
  {
   "cell_type": "code",
   "execution_count": null,
   "metadata": {
    "collapsed": true
   },
   "outputs": [],
   "source": [
    "params = init_params(model_options)"
   ]
  },
  {
   "cell_type": "code",
   "execution_count": 33,
   "metadata": {
    "collapsed": false
   },
   "outputs": [
    {
     "data": {
      "text/plain": [
       "<TensorType(float64, matrix)>"
      ]
     },
     "execution_count": 33,
     "metadata": {},
     "output_type": "execute_result"
    }
   ],
   "source": [
    "T.matrix().astype(theano.config.floatX)"
   ]
  },
  {
   "cell_type": "code",
   "execution_count": 37,
   "metadata": {
    "collapsed": false
   },
   "outputs": [
    {
     "data": {
      "text/plain": [
       "<TensorType(float64, vector)>"
      ]
     },
     "execution_count": 37,
     "metadata": {},
     "output_type": "execute_result"
    }
   ],
   "source": [
    "theano.shared(np.zeros(9)).astype(theano.config.floatX)"
   ]
  },
  {
   "cell_type": "markdown",
   "metadata": {
    "collapsed": true
   },
   "source": [
    "## copies of the classes defined in `LSTM_Herta.py`"
   ]
  },
  {
   "cell_type": "code",
   "execution_count": 20,
   "metadata": {
    "collapsed": false
   },
   "outputs": [
    {
     "name": "stdout",
     "output_type": "stream",
     "text": [
      "CPU times: user 33 µs, sys: 0 ns, total: 33 µs\n",
      "Wall time: 17.2 µs\n"
     ]
    }
   ],
   "source": [
    "%time j_test_time = 3+2"
   ]
  },
  {
   "cell_type": "code",
   "execution_count": 21,
   "metadata": {
    "collapsed": false
   },
   "outputs": [
    {
     "data": {
      "text/plain": [
       "5"
      ]
     },
     "execution_count": 21,
     "metadata": {},
     "output_type": "execute_result"
    }
   ],
   "source": [
    "j_test_time"
   ]
  },
  {
   "cell_type": "code",
   "execution_count": 12,
   "metadata": {
    "collapsed": false
   },
   "outputs": [],
   "source": [
    "Gates = namedtuple(\"Gates\",['g','i','f','o'])\n",
    "Psis = namedtuple(\"Psis\",['g','i','f','o','h'])"
   ]
  },
  {
   "cell_type": "code",
   "execution_count": null,
   "metadata": {
    "collapsed": true
   },
   "outputs": [],
   "source": [
    "class Thetab_right(object):\n",
    "def __init__(self, l, s_ls, al=None, Theta=None, b=None, activation=T.tanh, rng=None ):\n",
    "        s_lp1, s_l = s_ls\n",
    "\n",
    "        if rng is None:\n",
    "            rng = np.random.RandomState(1234)\n",
    "\n",
    "        if Theta is None:\n",
    "            Theta_values = np.asarray( \n",
    "            rng.uniform( \n",
    "\t\t\t\t\tlow=-np.sqrt(6. / ( s_l + s_lp1 )), \n",
    "\t\t\t\t\thigh=np.sqrt(6. / ( s_l + s_lp1 )), size=(s_l, s_lp1) ), \n",
    "\t\t\t\t\tdtype=theano.config.floatX \n",
    "\t\t\t)\n",
    "\t\t\tif activation == T.nnet.sigmoid:\n",
    "\t\t\t\tTheta_values *= np.float32( 4 )\n",
    "\t\t\t\n",
    "\t\t\tTheta = theano.shared(value=Theta_values, name=\"Theta\"+str(l), borrow=True)\n",
    "\t\t\n",
    "\n",
    "\t\tif b is None:\n",
    "\t\t\tb_values =  np.zeros(s_lp1).astype(theano.config.floatX)\n",
    "\t\t\tb= theano.shared(value=b_values, name='b'+str(l), borrow=True)\t\n",
    "\t\t\t\n",
    "\t\tif al is None:\n",
    "\t\t\tal = T.matrix(dtype=theano.config.floatX)\n",
    "\t\t\t\n",
    "\t\t\t\n",
    "\t\tself.Theta = Theta  # size dims. (s_l,s_lp1) i.e. s_l x s_lp1\n",
    "\t\tself.b     = b      # dims. s_lp1\n",
    "\t\tself.al    = al     # dims. s_l\n",
    "\t\t\n",
    "\t\tself.l     = l\n",
    "\n",
    "\t\tif activation is None:\n",
    "\t\t\tself.psi = None\n",
    "\t\telse:\n",
    "\t\t\tself.psi = activation\n",
    "\t\n",
    "\n",
    "\tdef connect_through(self):\n",
    "\t\t\"\"\" connect_through\n",
    "\n",
    "\t\t\tNote that I made connect_through a separate class method, separate from the automatic initialization, \n",
    "\t\t\tbecause you can then make changes to the \"layer units\" or \"nodes\" before \"connecting the layers\"\n",
    "\t\t\t\t\"\"\"\n",
    "# my attempt at left action version; T.tile made problems for scan \n",
    "#\t\tlin_zlp1 = T.dot( self.Theta, self.al)+T.tile(self.b, (1,self.al.shape[1].astype('int32') ) ) # z^{(l+1)}\n",
    "\t\tlin_zlp1 = T.dot( self.al, self.Theta) + self.b\n",
    "\t\tif self.psi is None:\n",
    "\t\t\tself.alp1 = lin_zlp1\n",
    "\t\telse:\n",
    "\t\t\tself.alp1 = self.psi( lin_zlp1 )\n"
   ]
  },
  {
   "cell_type": "code",
   "execution_count": 40,
   "metadata": {
    "collapsed": false
   },
   "outputs": [
    {
     "data": {
      "text/plain": [
       "[array([ 1.,  0.,  0.,  0.,  0.,  0.,  0.]),\n",
       " array([ 0.,  1.,  0.,  0.,  0.,  0.,  0.]),\n",
       " array([ 1.,  0.,  0.,  0.,  0.,  0.,  0.]),\n",
       " array([ 0.,  0.,  0.,  0.,  1.,  0.,  0.]),\n",
       " array([ 0.,  0.,  0.,  0.,  0.,  1.,  0.]),\n",
       " array([ 0.,  0.,  0.,  0.,  1.,  0.,  0.]),\n",
       " array([ 0.,  0.,  0.,  1.,  0.,  0.,  0.]),\n",
       " array([ 0.,  1.,  0.,  0.,  0.,  0.,  0.]),\n",
       " array([ 0.,  0.,  0.,  0.,  0.,  1.,  0.]),\n",
       " array([ 0.,  0.,  0.,  0.,  1.,  0.,  0.]),\n",
       " array([ 0.,  0.,  0.,  1.,  0.,  0.,  0.]),\n",
       " array([ 0.,  0.,  0.,  0.,  0.,  1.,  0.]),\n",
       " array([ 0.,  0.,  0.,  0.,  1.,  0.,  0.]),\n",
       " array([ 0.,  0.,  1.,  0.,  0.,  0.,  0.]),\n",
       " array([ 0.,  0.,  0.,  0.,  0.,  0.,  1.]),\n",
       " array([ 0.,  1.,  0.,  0.,  0.,  0.,  0.])]"
      ]
     },
     "execution_count": 40,
     "metadata": {},
     "output_type": "execute_result"
    }
   ],
   "source": [
    "test_data[0][0]"
   ]
  },
  {
   "cell_type": "code",
   "execution_count": 41,
   "metadata": {
    "collapsed": false
   },
   "outputs": [
    {
     "data": {
      "text/plain": [
       "[array([ 0.,  1.,  0.,  0.,  1.,  0.,  0.]),\n",
       " array([ 1.,  0.,  0.,  0.,  0.,  0.,  0.]),\n",
       " array([ 0.,  1.,  0.,  0.,  1.,  0.,  0.]),\n",
       " array([ 0.,  1.,  0.,  0.,  0.,  1.,  0.]),\n",
       " array([ 0.,  0.,  0.,  0.,  1.,  1.,  0.]),\n",
       " array([ 0.,  0.,  1.,  1.,  0.,  0.,  0.]),\n",
       " array([ 0.,  1.,  0.,  0.,  0.,  1.,  0.]),\n",
       " array([ 0.,  1.,  0.,  0.,  0.,  1.,  0.]),\n",
       " array([ 0.,  0.,  0.,  0.,  1.,  1.,  0.]),\n",
       " array([ 0.,  0.,  1.,  1.,  0.,  0.,  0.]),\n",
       " array([ 0.,  1.,  0.,  0.,  0.,  1.,  0.]),\n",
       " array([ 0.,  0.,  0.,  0.,  1.,  1.,  0.]),\n",
       " array([ 0.,  0.,  1.,  1.,  0.,  0.,  0.]),\n",
       " array([ 0.,  0.,  0.,  0.,  0.,  0.,  1.]),\n",
       " array([ 0.,  1.,  0.,  0.,  0.,  0.,  0.]),\n",
       " array([ 0.,  0.,  0.,  0.,  0.,  0.,  1.])]"
      ]
     },
     "execution_count": 41,
     "metadata": {},
     "output_type": "execute_result"
    }
   ],
   "source": [
    "test_data[0][1]"
   ]
  },
  {
   "cell_type": "code",
   "execution_count": 43,
   "metadata": {
    "collapsed": false
   },
   "outputs": [
    {
     "data": {
      "text/plain": [
       "[array([ 1.,  0.,  0.,  0.,  0.,  0.,  0.]),\n",
       " array([ 0.,  1.,  0.,  0.,  0.,  0.,  0.]),\n",
       " array([ 1.,  0.,  0.,  0.,  0.,  0.,  0.]),\n",
       " array([ 0.,  0.,  0.,  0.,  1.,  0.,  0.]),\n",
       " array([ 0.,  0.,  0.,  0.,  0.,  1.,  0.]),\n",
       " array([ 0.,  0.,  0.,  0.,  1.,  0.,  0.]),\n",
       " array([ 0.,  0.,  0.,  1.,  0.,  0.,  0.]),\n",
       " array([ 0.,  1.,  0.,  0.,  0.,  0.,  0.]),\n",
       " array([ 0.,  0.,  0.,  0.,  0.,  1.,  0.]),\n",
       " array([ 0.,  0.,  0.,  0.,  1.,  0.,  0.]),\n",
       " array([ 0.,  0.,  0.,  1.,  0.,  0.,  0.]),\n",
       " array([ 0.,  0.,  0.,  0.,  0.,  1.,  0.]),\n",
       " array([ 0.,  0.,  0.,  0.,  1.,  0.,  0.]),\n",
       " array([ 0.,  0.,  1.,  0.,  0.,  0.,  0.]),\n",
       " array([ 0.,  0.,  0.,  0.,  0.,  0.,  1.]),\n",
       " array([ 0.,  1.,  0.,  0.,  0.,  0.,  0.])]"
      ]
     },
     "execution_count": 43,
     "metadata": {},
     "output_type": "execute_result"
    }
   ],
   "source": [
    "X_test_data[0]"
   ]
  },
  {
   "cell_type": "code",
   "execution_count": 48,
   "metadata": {
    "collapsed": false
   },
   "outputs": [
    {
     "data": {
      "text/plain": [
       "['__builtins__',\n",
       " '__doc__',\n",
       " '__file__',\n",
       " '__name__',\n",
       " '__package__',\n",
       " '__path__',\n",
       " 'cuda',\n",
       " 'gpuarray',\n",
       " 'multinomial',\n",
       " 'rng_mrg']"
      ]
     },
     "execution_count": 48,
     "metadata": {},
     "output_type": "execute_result"
    }
   ],
   "source": [
    "dir(theano.sandbox)"
   ]
  },
  {
   "cell_type": "code",
   "execution_count": null,
   "metadata": {
    "collapsed": true
   },
   "outputs": [],
   "source": []
  }
 ],
 "metadata": {
  "kernelspec": {
   "display_name": "Python 2",
   "language": "python",
   "name": "python2"
  },
  "language_info": {
   "codemirror_mode": {
    "name": "ipython",
    "version": 2
   },
   "file_extension": ".py",
   "mimetype": "text/x-python",
   "name": "python",
   "nbconvert_exporter": "python",
   "pygments_lexer": "ipython2",
   "version": "2.7.11"
  }
 },
 "nbformat": 4,
 "nbformat_minor": 0
}

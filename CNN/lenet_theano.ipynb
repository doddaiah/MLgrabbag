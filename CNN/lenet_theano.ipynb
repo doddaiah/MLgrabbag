{
 "cells": [
  {
   "cell_type": "markdown",
   "metadata": {},
   "source": [
    "Do this in the beginning:  \n",
    "```  \n",
    "$ THEANO_FLAGS='mode=FAST_RUN,device=gpu,floatX=float32,lib.cnmem=0.85' jupyter notebook  \n",
    "```   \n",
    "(no `$` sign, that's just the prompt); run this to make sure the theano code runs on the GPU.  "
   ]
  },
  {
   "cell_type": "markdown",
   "metadata": {},
   "source": [
    "cf. [Convolutional Neural Network (LeNet)](http://deeplearning.net/tutorial/lenet.html)"
   ]
  },
  {
   "cell_type": "code",
   "execution_count": 1,
   "metadata": {
    "collapsed": true
   },
   "outputs": [],
   "source": [
    "%matplotlib inline"
   ]
  },
  {
   "cell_type": "code",
   "execution_count": 2,
   "metadata": {
    "collapsed": false
   },
   "outputs": [
    {
     "name": "stderr",
     "output_type": "stream",
     "text": [
      "WARNING (theano.sandbox.cuda): The cuda backend is deprecated and will be removed in the next release (v0.10).  Please switch to the gpuarray backend. You can get more information about how to switch at this URL:\n",
      " https://github.com/Theano/Theano/wiki/Converting-to-the-new-gpu-back-end%28gpuarray%29\n",
      "\n",
      "Using gpu device 0: GeForce GTX 980 Ti (CNMeM is enabled with initial size: 80.0% of memory, cuDNN 5105)\n"
     ]
    }
   ],
   "source": [
    "import theano\n",
    "from theano import tensor as T\n",
    "from theano.tensor.nnet import conv2d"
   ]
  },
  {
   "cell_type": "code",
   "execution_count": 3,
   "metadata": {
    "collapsed": true
   },
   "outputs": [],
   "source": [
    "from theano.tensor.signal import pool"
   ]
  },
  {
   "cell_type": "markdown",
   "metadata": {},
   "source": [
    "# MNIST Data\n",
    "\n",
    "cf. Found here http://www.iro.umontreal.ca/~lisa/deep/data/mnist/mnist.pkl.gz or https://www-labs.iro.umontreal.ca/~lisa/deep/data/mnist/?C=M;O=A"
   ]
  },
  {
   "cell_type": "code",
   "execution_count": 4,
   "metadata": {
    "collapsed": true
   },
   "outputs": [],
   "source": [
    "import os, sys\n",
    "import gzip\n",
    "import six.moves.cPickle as pickle "
   ]
  },
  {
   "cell_type": "code",
   "execution_count": 5,
   "metadata": {
    "collapsed": true
   },
   "outputs": [],
   "source": [
    "import numpy\n",
    "import numpy as np"
   ]
  },
  {
   "cell_type": "code",
   "execution_count": 6,
   "metadata": {
    "collapsed": true
   },
   "outputs": [],
   "source": [
    "# find where `mnist.pkl.gz` is on your own computer \n",
    "f=gzip.open(\"../Data/mnist.pkl.gz\",'rb')\n",
    "try:\n",
    "    train_set,valid_set,test_set = pickle.load(f,encoding='latin1')\n",
    "except:\n",
    "    train_set,valid_set,test_set = pickle.load(f)\n",
    "f.close()"
   ]
  },
  {
   "cell_type": "code",
   "execution_count": 7,
   "metadata": {
    "collapsed": false
   },
   "outputs": [
    {
     "name": "stdout",
     "output_type": "stream",
     "text": [
      "((50000, 784), (50000,))\n",
      "((10000, 784), (10000,))\n",
      "((10000, 784), (10000,))\n"
     ]
    }
   ],
   "source": [
    "train_set_x,train_set_y=train_set\n",
    "valid_set_x,valid_set_y=valid_set\n",
    "test_set_x,test_set_y=test_set\n",
    "train_set_x = train_set_x.astype(theano.config.floatX)\n",
    "train_set_y = train_set_y.astype(theano.config.floatX)\n",
    "valid_set_x = valid_set_x.astype(theano.config.floatX)\n",
    "valid_set_y = valid_set_y.astype(theano.config.floatX)\n",
    "test_set_x = test_set_x.astype(theano.config.floatX)\n",
    "test_set_y = test_set_y.astype(theano.config.floatX)\n",
    "print(train_set_x.shape,train_set_y.shape) # observe the value for (m,d), number of training examples x number of features\n",
    "print(valid_set_x.shape,valid_set_y.shape)\n",
    "print(test_set_x.shape,test_set_y.shape)"
   ]
  },
  {
   "cell_type": "code",
   "execution_count": 8,
   "metadata": {
    "collapsed": false
   },
   "outputs": [
    {
     "name": "stdout",
     "output_type": "stream",
     "text": [
      "(50000, 1, 28, 28)\n",
      "(10000, 1, 28, 28)\n",
      "(10000, 1, 28, 28)\n"
     ]
    }
   ],
   "source": [
    "# this is for reshaping the MNIST data into something for convolution neural networks\n",
    "train_set_x = train_set_x.reshape((train_set_x.shape[0],1,28,28))\n",
    "valid_set_x = valid_set_x.reshape((valid_set_x.shape[0],1,28,28))\n",
    "test_set_x = test_set_x.reshape((test_set_x.shape[0],1,28,28))\n",
    "print(train_set_x.shape)\n",
    "print(valid_set_x.shape)\n",
    "print(test_set_x.shape)"
   ]
  },
  {
   "cell_type": "code",
   "execution_count": 9,
   "metadata": {
    "collapsed": false
   },
   "outputs": [
    {
     "name": "stdout",
     "output_type": "stream",
     "text": [
      "0.0\n",
      "9.0\n",
      "0.0\n",
      "9.0\n",
      "0.0\n",
      "9.0\n"
     ]
    }
   ],
   "source": [
    "print(train_set_y.min())\n",
    "print(train_set_y.max())\n",
    "print(valid_set_y.min())\n",
    "print(valid_set_y.max())\n",
    "print(test_set_y.min())\n",
    "print(test_set_y.max())\n"
   ]
  },
  {
   "cell_type": "markdown",
   "metadata": {},
   "source": [
    "Turn this into a so-called \"one-hot vector representation.\"  \n",
    "\n",
    "Recall that whereas the original labels (in the variable y) were 0,1, ..., 9 for 10 different (single) digits, for the purpose of training a neural network, we need to recode these labels as vectors containing only values 0 or 1.  "
   ]
  },
  {
   "cell_type": "code",
   "execution_count": 10,
   "metadata": {
    "collapsed": false
   },
   "outputs": [
    {
     "name": "stdout",
     "output_type": "stream",
     "text": [
      "(50000, 10)\n",
      "(10000, 10)\n",
      "(10000, 10)\n"
     ]
    }
   ],
   "source": [
    "K=10  \n",
    "m_train = train_set_y.shape[0]\n",
    "m_valid = valid_set_y.shape[0]\n",
    "m_test  = test_set_y.shape[0]\n",
    "y_train = [np.zeros(K) for row in train_set_y] # list of m_train numpy arrays of size dims. (10,)\n",
    "y_valid = [np.zeros(K) for row in valid_set_y] # list of m_valid numpy arrays of size dims. (10,)\n",
    "y_test = [np.zeros(K) for row in test_set_y] # list of m_test numpy arrays of size dims. (10,)\n",
    "for i in range(m_train):\n",
    "    y_train[i][ int(train_set_y[i]) ] = 1.\n",
    "for i in range(m_valid):\n",
    "    y_valid[i][ int(valid_set_y[i]) ] = 1.\n",
    "for i in range(m_test):\n",
    "    y_test[i][ int(test_set_y[i]) ] = 1.\n",
    "y_train = np.array(y_train).astype(theano.config.floatX)\n",
    "y_valid = np.array(y_valid).astype(theano.config.floatX)\n",
    "y_test = np.array(y_test).astype(theano.config.floatX)   \n",
    "print(y_train.shape)\n",
    "print(y_valid.shape)\n",
    "print(y_test.shape)"
   ]
  },
  {
   "cell_type": "code",
   "execution_count": 11,
   "metadata": {
    "collapsed": false
   },
   "outputs": [
    {
     "name": "stdout",
     "output_type": "stream",
     "text": [
      "0.0\n",
      "1.0\n",
      "0.0\n",
      "1.0\n",
      "0.0\n",
      "1.0\n"
     ]
    }
   ],
   "source": [
    "print(y_train.min())\n",
    "print(y_train.max())\n",
    "print(y_valid.min())\n",
    "print(y_valid.max())\n",
    "print(y_test.min())\n",
    "print(y_test.max())"
   ]
  },
  {
   "cell_type": "markdown",
   "metadata": {
    "collapsed": true
   },
   "source": [
    "# Convolution operator $*$ and related filter (stencil) $c$ example"
   ]
  },
  {
   "cell_type": "code",
   "execution_count": 12,
   "metadata": {
    "collapsed": true
   },
   "outputs": [],
   "source": [
    "import numpy\n",
    "import numpy as np"
   ]
  },
  {
   "cell_type": "code",
   "execution_count": 13,
   "metadata": {
    "collapsed": true
   },
   "outputs": [],
   "source": [
    "rng = np.random.RandomState(23455)"
   ]
  },
  {
   "cell_type": "code",
   "execution_count": 9,
   "metadata": {
    "collapsed": false
   },
   "outputs": [],
   "source": [
    "X = T.tensor4(name='X')\n",
    "\n",
    "c_sizedims = (2,3,9,9) # (C_l,C_lm1,W_1,W_2) = (C_l,C_{l-1},W_1,W_2) \n",
    "# (number of feature maps at layer l, number of feature maps at lyaer l-1, filter height, filter width)\n",
    "\n",
    "c_bound = np.sqrt(3*9*9)\n",
    "c = theano.shared( np.asarray( rng.uniform(\n",
    "                                        low=-1.0/c_bound,\n",
    "                                        high=1.0/c_bound, \n",
    "                                        size=c_sizedims),dtype=X.dtype),name='c')\n",
    "\n",
    "b_sizedim = (2,) # C_l=2\n",
    "b = theano.shared( np.asarray( \n",
    "                    rng.uniform(low=-.5, high=.5, size=b_sizedim), dtype=X.dtype), name='b')"
   ]
  },
  {
   "cell_type": "code",
   "execution_count": 56,
   "metadata": {
    "collapsed": false
   },
   "outputs": [
    {
     "name": "stdout",
     "output_type": "stream",
     "text": [
      "[2 3 9 9]\n"
     ]
    }
   ],
   "source": [
    "c_shape_temp=theano.function([],c.shape)\n",
    "print(c_shape_temp())"
   ]
  },
  {
   "cell_type": "code",
   "execution_count": 10,
   "metadata": {
    "collapsed": true
   },
   "outputs": [],
   "source": [
    "# build symbolic expression that computes the convolution of input with filters in c \n",
    "conv_out = conv2d(X,c)"
   ]
  },
  {
   "cell_type": "code",
   "execution_count": 11,
   "metadata": {
    "collapsed": true
   },
   "outputs": [],
   "source": [
    "# dimshuffle('x',0) -> make a row out of a 1d vector (d to 1xd)\n",
    "y = T.nnet.sigmoid(conv_out + b.dimshuffle('x',0,'x','x'))"
   ]
  },
  {
   "cell_type": "code",
   "execution_count": 15,
   "metadata": {
    "collapsed": false
   },
   "outputs": [
    {
     "name": "stdout",
     "output_type": "stream",
     "text": [
      "[1 2 1 1]\n"
     ]
    }
   ],
   "source": [
    "b_shape_temp=theano.function( [],b.dimshuffle('x',0,'x','x').shape ) \n",
    "print( b_shape_temp()) # (1,2,1,1) or (1,d,1,1)"
   ]
  },
  {
   "cell_type": "code",
   "execution_count": 16,
   "metadata": {
    "collapsed": true
   },
   "outputs": [],
   "source": [
    "# create theano function to compute filtered images \n",
    "f = theano.function([X],y)"
   ]
  },
  {
   "cell_type": "markdown",
   "metadata": {},
   "source": [
    "Let's have a little bit of fun with this:  "
   ]
  },
  {
   "cell_type": "code",
   "execution_count": 13,
   "metadata": {
    "collapsed": true
   },
   "outputs": [],
   "source": [
    "import pylab\n",
    "from PIL import Image"
   ]
  },
  {
   "cell_type": "code",
   "execution_count": 14,
   "metadata": {
    "collapsed": false
   },
   "outputs": [],
   "source": [
    "# open example image of dimensions 639x516, HxW  \n",
    "img = Image.open(open('../Data/3wolfmoon.jpg'))"
   ]
  },
  {
   "cell_type": "code",
   "execution_count": 15,
   "metadata": {
    "collapsed": false
   },
   "outputs": [
    {
     "name": "stdout",
     "output_type": "stream",
     "text": [
      "(516, 639)\n",
      "255\n",
      "0\n"
     ]
    }
   ],
   "source": [
    "print(img.size)  # WxH\n",
    "print(np.asarray(img).max())\n",
    "print(np.asarray(img).min())"
   ]
  },
  {
   "cell_type": "code",
   "execution_count": 16,
   "metadata": {
    "collapsed": false
   },
   "outputs": [
    {
     "name": "stdout",
     "output_type": "stream",
     "text": [
      "(639, 516, 3)\n",
      "0.996094\n",
      "0.0\n"
     ]
    }
   ],
   "source": [
    "# dimensions are (height,width,channel)\n",
    "img_np=np.asarray(img,dtype=theano.config.floatX)/256.\n",
    "print(img_np.shape)\n",
    "print(img_np.max())\n",
    "print(img_np.min())"
   ]
  },
  {
   "cell_type": "code",
   "execution_count": 17,
   "metadata": {
    "collapsed": false
   },
   "outputs": [],
   "source": [
    "# put image in 4D tensor of shape (1,3,height,width)\n",
    "img_ = img_np.transpose(2,0,1).reshape(1,3,639,516)\n"
   ]
  },
  {
   "cell_type": "code",
   "execution_count": 18,
   "metadata": {
    "collapsed": false
   },
   "outputs": [
    {
     "ename": "NameError",
     "evalue": "name 'img_' is not defined",
     "output_type": "error",
     "traceback": [
      "\u001b[1;31m---------------------------------------------------------------------------\u001b[0m",
      "\u001b[1;31mNameError\u001b[0m                                 Traceback (most recent call last)",
      "\u001b[1;32m<ipython-input-18-01012a65021e>\u001b[0m in \u001b[0;36m<module>\u001b[1;34m()\u001b[0m\n\u001b[1;32m----> 1\u001b[1;33m \u001b[0mfiltered_img\u001b[0m \u001b[1;33m=\u001b[0m \u001b[0mf\u001b[0m\u001b[1;33m(\u001b[0m\u001b[0mimg_\u001b[0m\u001b[1;33m)\u001b[0m\u001b[1;33m\u001b[0m\u001b[0m\n\u001b[0m",
      "\u001b[1;31mNameError\u001b[0m: name 'img_' is not defined"
     ]
    }
   ],
   "source": [
    "filtered_img = f(img_)"
   ]
  },
  {
   "cell_type": "code",
   "execution_count": 27,
   "metadata": {
    "collapsed": false
   },
   "outputs": [
    {
     "data": {
      "image/png": "[encoded data removed]",
      "text/plain": [
       "<matplotlib.figure.Figure at 0x7fc2e406dbd0>"
      ]
     },
     "metadata": {},
     "output_type": "display_data"
    }
   ],
   "source": [
    "# plot original image and first and second components of output\n",
    "pylab.subplot(1, 3, 1); pylab.axis('off'); pylab.imshow(img)\n",
    "pylab.gray();\n",
    "# recall that the convOp output (filtered image) is actually a \"minibatch\",\n",
    "# of size 1 here, so we take index 0 in the first dimension:\n",
    "pylab.subplot(1, 3, 2); pylab.axis('off'); pylab.imshow(filtered_img[0, 0, :, :])\n",
    "pylab.subplot(1, 3, 3); pylab.axis('off'); pylab.imshow(filtered_img[0, 1, :, :])\n",
    "pylab.show()"
   ]
  },
  {
   "cell_type": "code",
   "execution_count": 32,
   "metadata": {
    "collapsed": false
   },
   "outputs": [
    {
     "name": "stdout",
     "output_type": "stream",
     "text": [
      "<type 'numpy.ndarray'>\n",
      "(1, 3, 639, 516)\n",
      "0.996094\n",
      "0.0\n",
      "<type 'numpy.ndarray'>\n",
      "(1, 2, 631, 508)\n",
      "0.661069\n",
      "0.30252\n"
     ]
    }
   ],
   "source": [
    "print(type(img_))\n",
    "print(img_.shape)\n",
    "print(img_.max())\n",
    "print(img_.min())\n",
    "print(type(filtered_img))\n",
    "print(filtered_img.shape)\n",
    "print(filtered_img.max())\n",
    "print(filtered_img.min())"
   ]
  },
  {
   "cell_type": "markdown",
   "metadata": {},
   "source": [
    "Empirically, we seen that the image \"shrank\" in size dimensions.  We can infer that this convolution operation doesn't assume anything about the boundary conditions, and so the filter (stencil), requiring a, in this case, 9x9 \"block\" or 9x9 values, will only, near the boundaries, output values for the \"inside\" cells/grid points.  "
   ]
  },
  {
   "cell_type": "markdown",
   "metadata": {},
   "source": [
    "# MaxPooling"
   ]
  },
  {
   "cell_type": "code",
   "execution_count": 33,
   "metadata": {
    "collapsed": true
   },
   "outputs": [],
   "source": [
    "input = T.dtensor4('input')\n",
    "maxpool_shape=(2,2)\n",
    "pool_out = pool.pool_2d(input, maxpool_shape, ignore_border=True)\n",
    "f = theano.function([input],pool_out)"
   ]
  },
  {
   "cell_type": "code",
   "execution_count": 34,
   "metadata": {
    "collapsed": false
   },
   "outputs": [
    {
     "name": "stdout",
     "output_type": "stream",
     "text": [
      "(3, 2, 5, 5)\n"
     ]
    }
   ],
   "source": [
    "invals=np.random.RandomState(1).rand(3,2,5,5)\n",
    "print(invals.shape)"
   ]
  },
  {
   "cell_type": "code",
   "execution_count": 35,
   "metadata": {
    "collapsed": false
   },
   "outputs": [
    {
     "data": {
      "text/plain": [
       "(3, 2, 2, 2)"
      ]
     },
     "execution_count": 35,
     "metadata": {},
     "output_type": "execute_result"
    }
   ],
   "source": [
    "f(invals).shape"
   ]
  },
  {
   "cell_type": "code",
   "execution_count": 36,
   "metadata": {
    "collapsed": true
   },
   "outputs": [],
   "source": [
    "pool_out_false = pool.pool_2d(input,maxpool_shape,ignore_border=False)\n",
    "f_false = theano.function([input],pool_out_false)"
   ]
  },
  {
   "cell_type": "code",
   "execution_count": 37,
   "metadata": {
    "collapsed": false
   },
   "outputs": [
    {
     "data": {
      "text/plain": [
       "(3, 2, 3, 3)"
      ]
     },
     "execution_count": 37,
     "metadata": {},
     "output_type": "execute_result"
    }
   ],
   "source": [
    "f_false(invals).shape"
   ]
  },
  {
   "cell_type": "code",
   "execution_count": 40,
   "metadata": {
    "collapsed": false
   },
   "outputs": [
    {
     "name": "stdout",
     "output_type": "stream",
     "text": [
      "(3, 2, 128, 32)\n",
      "(3, 2, 128, 32)\n",
      "(3, 2, 128, 32)\n",
      "(3, 2, 129, 33)\n"
     ]
    }
   ],
   "source": [
    "invals2 = np.random.RandomState(1).rand(3,2,256,64)\n",
    "print(f(invals2).shape)\n",
    "print(f_false(invals2).shape)\n",
    "invals3 = np.random.RandomState(1).rand(3,2,257,65)\n",
    "print(f(invals3).shape)\n",
    "print(f_false(invals3).shape)"
   ]
  },
  {
   "cell_type": "code",
   "execution_count": 41,
   "metadata": {
    "collapsed": false
   },
   "outputs": [
    {
     "name": "stdout",
     "output_type": "stream",
     "text": [
      "(3, 2, 64, 16)\n"
     ]
    }
   ],
   "source": [
    "maxpool_shape2=(4,4)\n",
    "pool_out2 = pool.pool_2d(input, maxpool_shape2, ignore_border=True)\n",
    "f2 = theano.function([input],pool_out2)\n",
    "print(f2(invals2).shape)"
   ]
  },
  {
   "cell_type": "code",
   "execution_count": 44,
   "metadata": {
    "collapsed": false
   },
   "outputs": [
    {
     "data": {
      "text/plain": [
       "(4, 6, 640, 510)"
      ]
     },
     "execution_count": 44,
     "metadata": {},
     "output_type": "execute_result"
    }
   ],
   "source": [
    "C_ls_test = (4,6)\n",
    "W_ls_test = (640,510)\n",
    "C_ls_test+W_ls_test"
   ]
  },
  {
   "cell_type": "code",
   "execution_count": 47,
   "metadata": {
    "collapsed": false
   },
   "outputs": [
    {
     "data": {
      "text/plain": [
       "True"
      ]
     },
     "execution_count": 47,
     "metadata": {},
     "output_type": "execute_result"
    }
   ],
   "source": [
    "type(C_ls_test) is type( (0,))"
   ]
  },
  {
   "cell_type": "code",
   "execution_count": 48,
   "metadata": {
    "collapsed": false
   },
   "outputs": [
    {
     "data": {
      "text/plain": [
       "2"
      ]
     },
     "execution_count": 48,
     "metadata": {},
     "output_type": "execute_result"
    }
   ],
   "source": [
    "len(C_ls_test)"
   ]
  },
  {
   "cell_type": "code",
   "execution_count": 55,
   "metadata": {
    "collapsed": false
   },
   "outputs": [
    {
     "data": {
      "text/plain": [
       "array([[  4, 640],\n",
       "       [  6, 510]])"
      ]
     },
     "execution_count": 55,
     "metadata": {},
     "output_type": "execute_result"
    }
   ],
   "source": [
    "np.stack( (np.array(C_ls_test), np.array(W_ls_test)),axis=1)"
   ]
  },
  {
   "cell_type": "markdown",
   "metadata": {
    "collapsed": true
   },
   "source": [
    "## Convolution axon test"
   ]
  },
  {
   "cell_type": "code",
   "execution_count": 14,
   "metadata": {
    "collapsed": true
   },
   "outputs": [],
   "source": [
    "sys.path.append( \"../ML/\")"
   ]
  },
  {
   "cell_type": "code",
   "execution_count": 15,
   "metadata": {
    "collapsed": false
   },
   "outputs": [],
   "source": [
    "import CNN\n",
    "from CNN import Axon_CNN"
   ]
  },
  {
   "cell_type": "code",
   "execution_count": 16,
   "metadata": {
    "collapsed": true
   },
   "outputs": [],
   "source": [
    "c_sizedims = (2,3,9,9) # (C_l,C_lm1,W_1,W_2) = (C_l,C_{l-1},W_1,W_2) \n",
    "c_bound = np.sqrt(3*9*9)\n",
    "c = theano.shared( np.asarray( rng.uniform(\n",
    "                                        low=-1.0/c_bound,\n",
    "                                        high=1.0/c_bound, \n",
    "                                        size=c_sizedims),dtype=theano.config.floatX),name='c')\n",
    "\n",
    "b_sizedim = (2,) # C_l=2\n",
    "b = theano.shared( np.asarray( \n",
    "                    rng.uniform(low=-.5, high=.5, size=b_sizedim), dtype=theano.config.floatX), name='b')"
   ]
  },
  {
   "cell_type": "code",
   "execution_count": 17,
   "metadata": {
    "collapsed": false
   },
   "outputs": [],
   "source": [
    "Conv_axon_test = Axon_CNN(0,(3,2),(9,9),Pl=None,c=c,b=b,activation=None)"
   ]
  },
  {
   "cell_type": "code",
   "execution_count": 18,
   "metadata": {
    "collapsed": false
   },
   "outputs": [
    {
     "data": {
      "text/plain": [
       "Elemwise{add,no_inplace}.0"
      ]
     },
     "execution_count": 18,
     "metadata": {},
     "output_type": "execute_result"
    }
   ],
   "source": [
    "Conv_axon_test.connect_through()"
   ]
  },
  {
   "cell_type": "code",
   "execution_count": 19,
   "metadata": {
    "collapsed": true
   },
   "outputs": [],
   "source": [
    "f_Conv_axon_test = theano.function([Conv_axon_test.alm1], Conv_axon_test.al)"
   ]
  },
  {
   "cell_type": "code",
   "execution_count": 20,
   "metadata": {
    "collapsed": false
   },
   "outputs": [
    {
     "ename": "NameError",
     "evalue": "name 'img_' is not defined",
     "output_type": "error",
     "traceback": [
      "\u001b[1;31m---------------------------------------------------------------------------\u001b[0m",
      "\u001b[1;31mNameError\u001b[0m                                 Traceback (most recent call last)",
      "\u001b[1;32m<ipython-input-20-ad34b7067f40>\u001b[0m in \u001b[0;36m<module>\u001b[1;34m()\u001b[0m\n\u001b[1;32m----> 1\u001b[1;33m \u001b[0mfiltered_img_Conv_axon_test\u001b[0m \u001b[1;33m=\u001b[0m \u001b[0mf_Conv_axon_test\u001b[0m\u001b[1;33m(\u001b[0m\u001b[0mimg_\u001b[0m\u001b[1;33m)\u001b[0m\u001b[1;33m\u001b[0m\u001b[0m\n\u001b[0m",
      "\u001b[1;31mNameError\u001b[0m: name 'img_' is not defined"
     ]
    }
   ],
   "source": [
    "filtered_img_Conv_axon_test = f_Conv_axon_test(img_)"
   ]
  },
  {
   "cell_type": "code",
   "execution_count": 25,
   "metadata": {
    "collapsed": false
   },
   "outputs": [
    {
     "data": {
      "image/png": "[encoded data removed]",
      "text/plain": [
       "<matplotlib.figure.Figure at 0x7f6f8fb7ccd0>"
      ]
     },
     "metadata": {},
     "output_type": "display_data"
    }
   ],
   "source": [
    "# plot original image and first and second components of output\n",
    "pylab.subplot(1, 3, 1); pylab.axis('off'); pylab.imshow(img)\n",
    "pylab.gray();\n",
    "# recall that the convOp output (filtered image) is actually a \"minibatch\",\n",
    "# of size 1 here, so we take index 0 in the first dimension:\n",
    "pylab.subplot(1, 3, 2); pylab.axis('off'); pylab.imshow(filtered_img_Conv_axon_test[0, 0, :, :])\n",
    "pylab.subplot(1, 3, 3); pylab.axis('off'); pylab.imshow(filtered_img_Conv_axon_test[0, 1, :, :])\n",
    "pylab.show()"
   ]
  },
  {
   "cell_type": "code",
   "execution_count": 26,
   "metadata": {
    "collapsed": false
   },
   "outputs": [
    {
     "name": "stdout",
     "output_type": "stream",
     "text": [
      "<type 'numpy.ndarray'>\n",
      "(1, 3, 639, 516)\n",
      "0.996094\n",
      "0.0\n",
      "<type 'numpy.ndarray'>\n",
      "(1, 2, 631, 508)\n",
      "0.668061\n",
      "-0.835329\n"
     ]
    }
   ],
   "source": [
    "print(type(img_))\n",
    "print(img_.shape)\n",
    "print(img_.max())\n",
    "print(img_.min())\n",
    "print(type(filtered_img_Conv_axon_test))\n",
    "print(filtered_img_Conv_axon_test.shape)\n",
    "print(filtered_img_Conv_axon_test.max())\n",
    "print(filtered_img_Conv_axon_test.min())"
   ]
  },
  {
   "cell_type": "code",
   "execution_count": 25,
   "metadata": {
    "collapsed": false
   },
   "outputs": [],
   "source": [
    "\"\"\"\n",
    "# for troubleshooting\n",
    "l=0\n",
    "C_ls=(3,2)\n",
    "W_ls=(9,9)\n",
    "C_lm1, C_l = C_ls\n",
    "rng = np.random.RandomState(1234)\n",
    "fan_in = C_lm1 * np.prod( W_ls)\n",
    "fan_out = C_l * np.prod(W_ls) // np.prod((2,2))\n",
    "filter_size = (C_l,C_lm1) + W_ls\n",
    "\"\"\""
   ]
  },
  {
   "cell_type": "code",
   "execution_count": 23,
   "metadata": {
    "collapsed": false
   },
   "outputs": [
    {
     "name": "stdout",
     "output_type": "stream",
     "text": [
      "<type 'numpy.ndarray'>\n",
      "(2, 3, 9, 9)\n"
     ]
    }
   ],
   "source": [
    "\"\"\"\n",
    "# for troubleshooting\n",
    "c_values = np.asarray( rng.uniform( low=-np.sqrt(6. / ( fan_in + fan_out )), \n",
    "                                   high=np.sqrt(6. / ( fan_in + fan_out )), size=filter_size  ), \n",
    "dtype=theano.config.floatX )\n",
    "print(type(c_values))\n",
    "print(c_values.shape)\n",
    "\"\"\""
   ]
  },
  {
   "cell_type": "code",
   "execution_count": 29,
   "metadata": {
    "collapsed": false
   },
   "outputs": [],
   "source": [
    "#c = theano.shared(c_values, name=\"c\"+str(l), dtype=theano.config.floatX, borrow=True) get a type error\n",
    "#c = theano.shared(c_values, name=\"c\"+str(l), borrow=True) get a type error"
   ]
  },
  {
   "cell_type": "code",
   "execution_count": 30,
   "metadata": {
    "collapsed": false
   },
   "outputs": [],
   "source": [
    "#help(theano.shared)"
   ]
  },
  {
   "cell_type": "markdown",
   "metadata": {
    "collapsed": true
   },
   "source": [
    "## CNN Feedforward test for Convolution Neural Networks  "
   ]
  },
  {
   "cell_type": "code",
   "execution_count": 27,
   "metadata": {
    "collapsed": false
   },
   "outputs": [],
   "source": [
    "# sanity check\n",
    "CNNFF_test = CNN.Feedforward(3,('C','C','D'),\n",
    "                             [{\"C_ls\":(1,20) ,\"Wl\":(5,5),\"Pl\":(2,2),\"Ll\":(28,28)},\n",
    "                             {\"C_ls\":(20,50),\"Wl\":(5,5),\"Pl\":(2,2),\"Ll\":(12,12)},\n",
    "                             (50*4*4,500)],\n",
    "                             psi_L=T.tanh )"
   ]
  },
  {
   "cell_type": "code",
   "execution_count": 26,
   "metadata": {
    "collapsed": false
   },
   "outputs": [
    {
     "name": "stdout",
     "output_type": "stream",
     "text": [
      "<class 'theano.tensor.var.TensorVariable'>\n"
     ]
    }
   ],
   "source": [
    "# sanity check\n",
    "#Axon3al = theano.function([], CNNFF_test.Axons[-1].al)\n",
    "print( type( CNNFF_test.Axons[-1].al ) )"
   ]
  },
  {
   "cell_type": "code",
   "execution_count": 16,
   "metadata": {
    "collapsed": true
   },
   "outputs": [],
   "source": [
    "L=4\n",
    "CorD=('C','C','D','D')\n",
    "\"\"\"\n",
    "dims_data_test=[{\"feature_maps\":(1,20) ,\"filter_shape\":(5,5),\"poolsize\":(2,2),\"image_size\":(28,28)},\n",
    "               {\"feature_maps\":(20,50) ,\"filter_shape\":(5,5),\"poolsize\":(2,2),\"image_size\":(12,12)},\n",
    "               (50*4*4,500),(500,10)] \n",
    "               \"\"\"\n",
    "dims_data_test=[{\"C_ls\":(1,20) ,\"Wl\":(5,5),\"Pl\":(2,2),\"Ll\":(28,28)},\n",
    "               {\"C_ls\":(20,50) ,\"Wl\":(5,5),\"Pl\":(2,2),\"Ll\":(12,12)},\n",
    "               (50*4*4,500),(500,10)] \n"
   ]
  },
  {
   "cell_type": "code",
   "execution_count": 17,
   "metadata": {
    "collapsed": false
   },
   "outputs": [],
   "source": [
    "# sanity check\n",
    "#CNNFF_test = CNN.Feedforward(L,CorD,dims_data_test,activation_fxn=T.tanh,psi_L=T.nnet.softmax)\n",
    "CNNFF_test = CNN.Feedforward(L,CorD,dims_data_test,psi_L=T.nnet.softmax)"
   ]
  },
  {
   "cell_type": "markdown",
   "metadata": {},
   "source": [
    "Notice how "
   ]
  },
  {
   "cell_type": "code",
   "execution_count": 35,
   "metadata": {
    "collapsed": false
   },
   "outputs": [
    {
     "data": {
      "text/plain": [
       "True"
      ]
     },
     "execution_count": 35,
     "metadata": {},
     "output_type": "execute_result"
    }
   ],
   "source": [
    "(dims_data_test[0][\"Ll\"][0] -dims_data_test[0][\"Wl\"][0] + 1) // dims_data_test[0][\"Pl\"][0] == dims_data_test[1][\"Ll\"][0]"
   ]
  },
  {
   "cell_type": "markdown",
   "metadata": {},
   "source": [
    "## CNN class test as a Deep Neural Network (i.e. Artificial neural network, i.e. no convolution)"
   ]
  },
  {
   "cell_type": "code",
   "execution_count": 13,
   "metadata": {
    "collapsed": false
   },
   "outputs": [],
   "source": [
    "L=4\n",
    "CorD=('D','D','D','D')\n",
    "dims_data_test=[(784,392), (392,196),(196,98),(98,10)]"
   ]
  },
  {
   "cell_type": "code",
   "execution_count": 14,
   "metadata": {
    "collapsed": false
   },
   "outputs": [],
   "source": [
    "CNNFF_test=CNN.Feedforward(L,CorD,dims_data_test,psi_L=T.nnet.softmax)"
   ]
  },
  {
   "cell_type": "code",
   "execution_count": 15,
   "metadata": {
    "collapsed": true
   },
   "outputs": [],
   "source": [
    "CNN_test=CNN.CNN(CNNFF_test, X=train_set_x[:20000],y=y_train[:20000])"
   ]
  },
  {
   "cell_type": "code",
   "execution_count": 16,
   "metadata": {
    "collapsed": false
   },
   "outputs": [
    {
     "data": {
      "text/plain": [
       "Softmax.0"
      ]
     },
     "execution_count": 16,
     "metadata": {},
     "output_type": "execute_result"
    }
   ],
   "source": [
    "CNN_test.connect_through(X=train_set_x[:20000])\n",
    "#CNN_test.connect_through()"
   ]
  },
  {
   "cell_type": "code",
   "execution_count": 17,
   "metadata": {
    "collapsed": false
   },
   "outputs": [
    {
     "data": {
      "text/plain": [
       "GpuFromHost.0"
      ]
     },
     "execution_count": 17,
     "metadata": {},
     "output_type": "execute_result"
    }
   ],
   "source": [
    "CNN_test.build_J_L2norm_w_reg(0.001)"
   ]
  },
  {
   "cell_type": "code",
   "execution_count": 18,
   "metadata": {
    "collapsed": false
   },
   "outputs": [],
   "source": [
    "CNN_test.build_update(alpha=0.01,beta=0.000001)"
   ]
  },
  {
   "cell_type": "code",
   "execution_count": 47,
   "metadata": {
    "collapsed": false
   },
   "outputs": [
    {
     "name": "stdout",
     "output_type": "stream",
     "text": [
      "theano.config.allow_gc =:  True\n"
     ]
    }
   ],
   "source": [
    "CNN_test_train_errs=CNN_test.train_model_full(max_iters=20000)"
   ]
  },
  {
   "cell_type": "code",
   "execution_count": 48,
   "metadata": {
    "collapsed": false
   },
   "outputs": [],
   "source": [
    "result = theano.function([],CNN_test._CNN_model._get_outer_layer_())\n",
    "result = result()"
   ]
  },
  {
   "cell_type": "code",
   "execution_count": 49,
   "metadata": {
    "collapsed": false
   },
   "outputs": [
    {
     "name": "stdout",
     "output_type": "stream",
     "text": [
      "<type 'numpy.ndarray'>\n",
      "(20000, 10)\n"
     ]
    }
   ],
   "source": [
    "print(type(result))\n",
    "print(result.shape)\n"
   ]
  },
  {
   "cell_type": "code",
   "execution_count": 44,
   "metadata": {
    "collapsed": false
   },
   "outputs": [
    {
     "data": {
      "text/plain": [
       "array([ 5.,  0.,  4.,  1.,  9.,  2.,  1.,  3.,  1.,  4.], dtype=float32)"
      ]
     },
     "execution_count": 44,
     "metadata": {},
     "output_type": "execute_result"
    }
   ],
   "source": [
    "train_set_y[:10]"
   ]
  },
  {
   "cell_type": "code",
   "execution_count": 50,
   "metadata": {
    "collapsed": false
   },
   "outputs": [
    {
     "data": {
      "text/plain": [
       "array([3, 0, 4, 1, 9, 2, 1, 3, 1, 4])"
      ]
     },
     "execution_count": 50,
     "metadata": {},
     "output_type": "execute_result"
    }
   ],
   "source": [
    "np.argmax(result,axis=1)[:10]"
   ]
  },
  {
   "cell_type": "code",
   "execution_count": 51,
   "metadata": {
    "collapsed": false
   },
   "outputs": [
    {
     "data": {
      "text/plain": [
       "0.77685000000000004"
      ]
     },
     "execution_count": 51,
     "metadata": {},
     "output_type": "execute_result"
    }
   ],
   "source": [
    "np.mean( train_set_y[:20000] == np.argmax( result,axis=1) )"
   ]
  },
  {
   "cell_type": "markdown",
   "metadata": {},
   "source": [
    "# CNN class test for Convolution Neural Networks "
   ]
  },
  {
   "cell_type": "code",
   "execution_count": 29,
   "metadata": {
    "collapsed": false
   },
   "outputs": [
    {
     "name": "stdout",
     "output_type": "stream",
     "text": [
      "(50000, 1, 28, 28)\n"
     ]
    }
   ],
   "source": [
    "print(train_set_x.shape)"
   ]
  },
  {
   "cell_type": "code",
   "execution_count": 18,
   "metadata": {
    "collapsed": false
   },
   "outputs": [],
   "source": [
    "CNN_test = CNN.CNN(CNNFF_test,X=train_set_x[:20000],y=y_train[:20000])\n",
    "#CNN_test = CNN.CNN(CNNFF_test,X=train_set_x,y=y_train)"
   ]
  },
  {
   "cell_type": "code",
   "execution_count": 19,
   "metadata": {
    "collapsed": false
   },
   "outputs": [
    {
     "data": {
      "text/plain": [
       "Softmax.0"
      ]
     },
     "execution_count": 19,
     "metadata": {},
     "output_type": "execute_result"
    }
   ],
   "source": [
    "#CNN_test.connect_through(X=train_set_x) \n",
    "CNN_test.connect_through(X=train_set_x[:20000]) "
   ]
  },
  {
   "cell_type": "code",
   "execution_count": 20,
   "metadata": {
    "collapsed": false
   },
   "outputs": [
    {
     "data": {
      "text/plain": [
       "GpuFromHost.0"
      ]
     },
     "execution_count": 20,
     "metadata": {},
     "output_type": "execute_result"
    }
   ],
   "source": [
    "CNN_test.build_J_logistic_w_reg(0.001)"
   ]
  },
  {
   "cell_type": "code",
   "execution_count": 21,
   "metadata": {
    "collapsed": false
   },
   "outputs": [],
   "source": [
    "CNN_test.build_update(alpha=0.001, beta=0.000001)  # takes 1 minute, chill"
   ]
  },
  {
   "cell_type": "code",
   "execution_count": 25,
   "metadata": {
    "collapsed": false
   },
   "outputs": [
    {
     "name": "stdout",
     "output_type": "stream",
     "text": [
      "theano.config.allow_gc =:  True\n"
     ]
    }
   ],
   "source": [
    "CNN_test_train_errs = CNN_test.train_model_full(max_iters=20000) # 10:09 am for 200 < 1min., 20000 at 10:11 am-11:28 am"
   ]
  },
  {
   "cell_type": "code",
   "execution_count": 26,
   "metadata": {
    "collapsed": false
   },
   "outputs": [
    {
     "name": "stdout",
     "output_type": "stream",
     "text": [
      "<type 'numpy.ndarray'>\n",
      "(20000, 10)\n"
     ]
    },
    {
     "data": {
      "text/plain": [
       "array([5, 0, 4, 1, 9, 2, 1, 3, 1, 4])"
      ]
     },
     "execution_count": 26,
     "metadata": {},
     "output_type": "execute_result"
    }
   ],
   "source": [
    "result = theano.function([],CNN_test._CNN_model._get_outer_layer_())\n",
    "result = result()\n",
    "print(type(result))\n",
    "print(result.shape)\n",
    "np.argmax(result,axis=1)[:10]"
   ]
  },
  {
   "cell_type": "code",
   "execution_count": 27,
   "metadata": {
    "collapsed": false
   },
   "outputs": [
    {
     "data": {
      "text/plain": [
       "0.96389999999999998"
      ]
     },
     "execution_count": 27,
     "metadata": {},
     "output_type": "execute_result"
    }
   ],
   "source": [
    "np.mean( train_set_y[:20000] == np.argmax( result,axis=1) )"
   ]
  },
  {
   "cell_type": "code",
   "execution_count": 28,
   "metadata": {
    "collapsed": true
   },
   "outputs": [],
   "source": [
    "# Save parameters like this:\n",
    "CNN_test.save_parameters(\"../saved_models/CNN_MNIST.npy\")"
   ]
  },
  {
   "cell_type": "code",
   "execution_count": 29,
   "metadata": {
    "collapsed": false
   },
   "outputs": [
    {
     "data": {
      "text/plain": [
       "Softmax.0"
      ]
     },
     "execution_count": 29,
     "metadata": {},
     "output_type": "execute_result"
    }
   ],
   "source": [
    "CNN_test.connect_through(X=valid_set_x)"
   ]
  },
  {
   "cell_type": "code",
   "execution_count": 30,
   "metadata": {
    "collapsed": true
   },
   "outputs": [],
   "source": [
    "CNN_test.y = theano.shared( y_valid.astype(theano.config.floatX),borrow=True)"
   ]
  },
  {
   "cell_type": "code",
   "execution_count": 31,
   "metadata": {
    "collapsed": false
   },
   "outputs": [
    {
     "name": "stdout",
     "output_type": "stream",
     "text": [
      "<type 'numpy.ndarray'>\n",
      "(10000, 10)\n"
     ]
    },
    {
     "data": {
      "text/plain": [
       "array([3, 8, 6, 9, 6, 4, 5, 3, 8, 4])"
      ]
     },
     "execution_count": 31,
     "metadata": {},
     "output_type": "execute_result"
    }
   ],
   "source": [
    "result_valid = theano.function([],CNN_test._CNN_model._get_outer_layer_())\n",
    "result_valid = result_valid()\n",
    "print(type(result_valid))\n",
    "print(result_valid.shape)\n",
    "np.argmax(result_valid,axis=1)[:10]"
   ]
  },
  {
   "cell_type": "code",
   "execution_count": 32,
   "metadata": {
    "collapsed": false
   },
   "outputs": [
    {
     "data": {
      "text/plain": [
       "0.96519999999999995"
      ]
     },
     "execution_count": 32,
     "metadata": {},
     "output_type": "execute_result"
    }
   ],
   "source": [
    "np.mean( valid_set_y == np.argmax( result_valid,axis=1) )"
   ]
  },
  {
   "cell_type": "code",
   "execution_count": 33,
   "metadata": {
    "collapsed": false
   },
   "outputs": [
    {
     "data": {
      "text/plain": [
       "Softmax.0"
      ]
     },
     "execution_count": 33,
     "metadata": {},
     "output_type": "execute_result"
    }
   ],
   "source": [
    "CNN_test.connect_through(X=test_set_x)"
   ]
  },
  {
   "cell_type": "code",
   "execution_count": 34,
   "metadata": {
    "collapsed": false
   },
   "outputs": [
    {
     "name": "stdout",
     "output_type": "stream",
     "text": [
      "<type 'numpy.ndarray'>\n",
      "(10000, 10)\n"
     ]
    },
    {
     "data": {
      "text/plain": [
       "array([7, 2, 1, 0, 4, 1, 4, 9, 6, 9])"
      ]
     },
     "execution_count": 34,
     "metadata": {},
     "output_type": "execute_result"
    }
   ],
   "source": [
    "result_test = theano.function([],CNN_test._CNN_model._get_outer_layer_())\n",
    "result_test = result_test()\n",
    "print(type(result_test))\n",
    "print(result_test.shape)\n",
    "np.argmax(result_test,axis=1)[:10]"
   ]
  },
  {
   "cell_type": "code",
   "execution_count": 35,
   "metadata": {
    "collapsed": false
   },
   "outputs": [
    {
     "data": {
      "text/plain": [
       "0.96299999999999997"
      ]
     },
     "execution_count": 35,
     "metadata": {},
     "output_type": "execute_result"
    }
   ],
   "source": [
    "np.mean( test_set_y == np.argmax( result_test,axis=1) )"
   ]
  },
  {
   "cell_type": "code",
   "execution_count": 63,
   "metadata": {
    "collapsed": false
   },
   "outputs": [
    {
     "name": "stdout",
     "output_type": "stream",
     "text": [
      "[[ 1  2  3  4]\n",
      " [ 5  6  7  8]\n",
      " [ 9 10 11 12]]\n"
     ]
    }
   ],
   "source": [
    "#testXsh=theano.shared( np.array( range(1,12+1)).reshape(3,4).astype(theano.config.floatX))\n",
    "#print(np.array( range(1,12+1)).reshape(3,4))"
   ]
  },
  {
   "cell_type": "code",
   "execution_count": 64,
   "metadata": {
    "collapsed": true
   },
   "outputs": [],
   "source": [
    "#testXsumshf = theano.function([],T.sum(testXsh,axis=1))\n",
    "#testXsumshf_results = testXsumshf()"
   ]
  },
  {
   "cell_type": "code",
   "execution_count": 65,
   "metadata": {
    "collapsed": false
   },
   "outputs": [
    {
     "data": {
      "text/plain": [
       "array([ 10.,  26.,  42.], dtype=float32)"
      ]
     },
     "execution_count": 65,
     "metadata": {},
     "output_type": "execute_result"
    }
   ],
   "source": [
    "#testXsumshf_results"
   ]
  },
  {
   "cell_type": "code",
   "execution_count": 57,
   "metadata": {
    "collapsed": false
   },
   "outputs": [
    {
     "data": {
      "text/plain": [
       "78"
      ]
     },
     "execution_count": 57,
     "metadata": {},
     "output_type": "execute_result"
    }
   ],
   "source": [
    "#12*13/2"
   ]
  },
  {
   "cell_type": "code",
   "execution_count": 25,
   "metadata": {
    "collapsed": false
   },
   "outputs": [],
   "source": [
    "#testaL4=theano.function([],CNN_test._CNN_model.Axons[3].al)\n",
    "#testaL4=theano.function([],CNN_test._CNN_model._get_outer_layer_())"
   ]
  },
  {
   "cell_type": "code",
   "execution_count": 28,
   "metadata": {
    "collapsed": false
   },
   "outputs": [
    {
     "data": {
      "text/plain": [
       "(20000, 10)"
      ]
     },
     "execution_count": 28,
     "metadata": {},
     "output_type": "execute_result"
    }
   ],
   "source": [
    "#testaL4().shape"
   ]
  },
  {
   "cell_type": "code",
   "execution_count": 53,
   "metadata": {
    "collapsed": false
   },
   "outputs": [
    {
     "data": {
      "text/plain": [
       "[1, 2, 3, 4, 5, 6, 7, 8, 9, 10, 11, 12]"
      ]
     },
     "execution_count": 53,
     "metadata": {},
     "output_type": "execute_result"
    }
   ],
   "source": [
    "#range(1,13)"
   ]
  },
  {
   "cell_type": "markdown",
   "metadata": {
    "collapsed": true
   },
   "source": [
    "### Loading back up saved numpy arrays from .save_parameters method in CNN class "
   ]
  },
  {
   "cell_type": "code",
   "execution_count": 39,
   "metadata": {
    "collapsed": false
   },
   "outputs": [
    {
     "name": "stdout",
     "output_type": "stream",
     "text": [
      "<type 'numpy.ndarray'>\n",
      "(20, 1, 5, 5)\n"
     ]
    }
   ],
   "source": [
    "testparam0 = np.load(\"../saved_models/CNN_MNIST.npy0\")\n",
    "print(type(testparam0))\n",
    "print(testparam0.shape)"
   ]
  },
  {
   "cell_type": "code",
   "execution_count": 40,
   "metadata": {
    "collapsed": true
   },
   "outputs": [],
   "source": [
    "CNNFF_test_load = CNN.Feedforward(L,CorD,dims_data_test,psi_L=T.nnet.softmax)"
   ]
  },
  {
   "cell_type": "code",
   "execution_count": 43,
   "metadata": {
    "collapsed": false
   },
   "outputs": [
    {
     "name": "stdout",
     "output_type": "stream",
     "text": [
      "8\n"
     ]
    }
   ],
   "source": [
    "params_to_load = []\n",
    "number_of_params = len( CNNFF_test_load.__get_state__()['params'])\n",
    "print(number_of_params)\n",
    "for param_idx in range(number_of_params):\n",
    "    params_to_load.append( np.load(\"../saved_models/CNN_MNIST.npy\"+str(param_idx)))"
   ]
  },
  {
   "cell_type": "code",
   "execution_count": 48,
   "metadata": {
    "collapsed": false
   },
   "outputs": [],
   "source": [
    "CNNFF_test_load.__set_state__(*params_to_load)"
   ]
  },
  {
   "cell_type": "code",
   "execution_count": 49,
   "metadata": {
    "collapsed": false
   },
   "outputs": [],
   "source": [
    "CNN_test_load = CNN.CNN(CNNFF_test_load,X=valid_set_x,y=y_valid)\n"
   ]
  },
  {
   "cell_type": "code",
   "execution_count": 50,
   "metadata": {
    "collapsed": false
   },
   "outputs": [
    {
     "data": {
      "text/plain": [
       "Softmax.0"
      ]
     },
     "execution_count": 50,
     "metadata": {},
     "output_type": "execute_result"
    }
   ],
   "source": [
    "CNN_test_load.connect_through(X=valid_set_x)"
   ]
  },
  {
   "cell_type": "code",
   "execution_count": 51,
   "metadata": {
    "collapsed": false
   },
   "outputs": [
    {
     "name": "stdout",
     "output_type": "stream",
     "text": [
      "<type 'numpy.ndarray'>\n",
      "(10000, 10)\n"
     ]
    },
    {
     "data": {
      "text/plain": [
       "array([3, 8, 6, 9, 6, 4, 5, 3, 8, 4])"
      ]
     },
     "execution_count": 51,
     "metadata": {},
     "output_type": "execute_result"
    }
   ],
   "source": [
    "result_valid = theano.function([],CNN_test_load._CNN_model._get_outer_layer_())\n",
    "result_valid = result_valid()\n",
    "print(type(result_valid))\n",
    "print(result_valid.shape)\n",
    "np.argmax(result_valid,axis=1)[:10]"
   ]
  },
  {
   "cell_type": "code",
   "execution_count": 52,
   "metadata": {
    "collapsed": false
   },
   "outputs": [
    {
     "data": {
      "text/plain": [
       "0.96519999999999995"
      ]
     },
     "execution_count": 52,
     "metadata": {},
     "output_type": "execute_result"
    }
   ],
   "source": [
    "np.mean( valid_set_y == np.argmax( result_valid,axis=1) )"
   ]
  },
  {
   "cell_type": "code",
   "execution_count": null,
   "metadata": {
    "collapsed": true
   },
   "outputs": [],
   "source": []
  }
 ],
 "metadata": {
  "kernelspec": {
   "display_name": "Python 2",
   "language": "python",
   "name": "python2"
  },
  "language_info": {
   "codemirror_mode": {
    "name": "ipython",
    "version": 2
   },
   "file_extension": ".py",
   "mimetype": "text/x-python",
   "name": "python",
   "nbconvert_exporter": "python",
   "pygments_lexer": "ipython2",
   "version": "2.7.11"
  }
 },
 "nbformat": 4,
 "nbformat_minor": 0
}
